{
 "cells": [
  {
   "cell_type": "markdown",
   "metadata": {},
   "source": [
    "# 0. Setup"
   ]
  },
  {
   "cell_type": "code",
   "execution_count": 3,
   "metadata": {},
   "outputs": [],
   "source": [
    "%run ./setup_notebook.ipynb"
   ]
  },
  {
   "cell_type": "code",
   "execution_count": 4,
   "metadata": {},
   "outputs": [
    {
     "name": "stdout",
     "output_type": "stream",
     "text": [
      "Requirement already satisfied: wordsegment in c:\\users\\harri\\miniconda3\\envs\\py310_notebook_env\\lib\\site-packages (1.3.1)\n"
     ]
    }
   ],
   "source": [
    "!pip install wordsegment"
   ]
  },
  {
   "cell_type": "code",
   "execution_count": 5,
   "metadata": {
    "_cell_guid": "b1076dfc-b9ad-4769-8c92-a6c4dae69d19",
    "_kg_hide-input": true,
    "_uuid": "8f2839f25d086af736a60e9eeb907d3b93b6e0e5",
    "execution": {
     "iopub.execute_input": "2023-09-26T19:30:16.829419Z",
     "iopub.status.busy": "2023-09-26T19:30:16.828926Z",
     "iopub.status.idle": "2023-09-26T19:30:22.528490Z",
     "shell.execute_reply": "2023-09-26T19:30:22.527178Z",
     "shell.execute_reply.started": "2023-09-26T19:30:16.829376Z"
    }
   },
   "outputs": [],
   "source": [
    "# This Python 3 environment comes with many helpful analytics libraries installed\n",
    "# It is defined by the kaggle/python Docker image: https://github.com/kaggle/docker-python\n",
    "# For example, here's several helpful packages to load\n",
    "\n",
    "import numpy as np # linear algebra\n",
    "import pandas as pd # data processing, CSV file I/O (e.g. pd.read_csv)\n",
    "from collections import defaultdict\n",
    "import json\n",
    "import ast\n",
    "from tqdm import tqdm \n",
    "import time\n",
    "import requests\n",
    "from bs4 import BeautifulSoup, SoupStrainer\n",
    "import pprint\n",
    "import logging\n",
    "import re\n",
    "# from kaggle_secrets import UserSecretsClient\n",
    "import plotly.express as px\n",
    "import plotly.io as pio\n",
    "from plotly.subplots import make_subplots\n",
    "import plotly.graph_objects as go\n",
    "import swifter\n",
    "import itertools\n",
    "from geopy.geocoders import Nominatim\n",
    "from wordsegment import load, segment\n",
    "# from nltk.stem.snowball import SnowballStemmer\n",
    "# from nltk.corpus import stopwords\n",
    "# from nltk.tokenize import word_tokenize\n",
    "# from nltk.stem import WordNetLemmatizer\n",
    " \n",
    " \n",
    "# STOPWORDS = set(stopwords.words('english'))\n",
    "px.defaults.template = 'bnw'"
   ]
  },
  {
   "cell_type": "markdown",
   "metadata": {},
   "source": [
    "# 1. Data Exploration & Cleaning"
   ]
  },
  {
   "cell_type": "code",
   "execution_count": 6,
   "metadata": {
    "_kg_hide-input": false,
    "execution": {
     "iopub.execute_input": "2023-09-26T17:27:28.793895Z",
     "iopub.status.busy": "2023-09-26T17:27:28.793468Z",
     "iopub.status.idle": "2023-09-26T17:27:28.923867Z",
     "shell.execute_reply": "2023-09-26T17:27:28.922820Z",
     "shell.execute_reply.started": "2023-09-26T17:27:28.793863Z"
    }
   },
   "outputs": [],
   "source": [
    "df_linkedin_listing_usa = pd.read_csv(\"../linkedin-data-analyst-jobs-listings/linkedin-jobs-usa.csv\")\n",
    "df_linkedin_listing_usa[\"country\"] = \"USA\""
   ]
  },
  {
   "cell_type": "code",
   "execution_count": 7,
   "metadata": {
    "execution": {
     "iopub.execute_input": "2023-09-26T17:28:18.641835Z",
     "iopub.status.busy": "2023-09-26T17:28:18.641388Z",
     "iopub.status.idle": "2023-09-26T17:28:18.910830Z",
     "shell.execute_reply": "2023-09-26T17:28:18.909545Z",
     "shell.execute_reply.started": "2023-09-26T17:28:18.641791Z"
    }
   },
   "outputs": [],
   "source": [
    "df_linkedin_listing_canada = pd.read_csv(\"../linkedin-data-analyst-jobs-listings/linkedin-jobs-canada.csv\")\n",
    "df_linkedin_listing_canada[\"country\"] = \"Canada\""
   ]
  },
  {
   "cell_type": "code",
   "execution_count": 8,
   "metadata": {
    "execution": {
     "iopub.execute_input": "2023-09-26T17:31:26.028194Z",
     "iopub.status.busy": "2023-09-26T17:31:26.027706Z",
     "iopub.status.idle": "2023-09-26T17:31:26.033913Z",
     "shell.execute_reply": "2023-09-26T17:31:26.032768Z",
     "shell.execute_reply.started": "2023-09-26T17:31:26.028160Z"
    }
   },
   "outputs": [],
   "source": [
    "assert list(df_linkedin_listing_usa.columns) == list(df_linkedin_listing_canada.columns), \\\n",
    "\"Columns not equal, cannot concat vertically\""
   ]
  },
  {
   "cell_type": "code",
   "execution_count": 9,
   "metadata": {
    "execution": {
     "iopub.execute_input": "2023-09-26T17:31:56.099969Z",
     "iopub.status.busy": "2023-09-26T17:31:56.099553Z",
     "iopub.status.idle": "2023-09-26T17:31:56.106000Z",
     "shell.execute_reply": "2023-09-26T17:31:56.105070Z",
     "shell.execute_reply.started": "2023-09-26T17:31:56.099938Z"
    }
   },
   "outputs": [],
   "source": [
    "df_linkedin_listing = pd.concat([df_linkedin_listing_usa, df_linkedin_listing_canada])"
   ]
  },
  {
   "cell_type": "code",
   "execution_count": 10,
   "metadata": {
    "execution": {
     "iopub.execute_input": "2023-09-20T14:26:43.633495Z",
     "iopub.status.busy": "2023-09-20T14:26:43.632938Z",
     "iopub.status.idle": "2023-09-20T14:26:43.686580Z",
     "shell.execute_reply": "2023-09-20T14:26:43.684937Z",
     "shell.execute_reply.started": "2023-09-20T14:26:43.633444Z"
    }
   },
   "outputs": [
    {
     "name": "stdout",
     "output_type": "stream",
     "text": [
      "<class 'pandas.core.frame.DataFrame'>\n",
      "Int64Index: 5618 entries, 0 to 2772\n",
      "Data columns (total 10 columns):\n",
      " #   Column         Non-Null Count  Dtype \n",
      "---  ------         --------------  ----- \n",
      " 0   title          5618 non-null   object\n",
      " 1   company        5618 non-null   object\n",
      " 2   description    5618 non-null   object\n",
      " 3   onsite_remote  5618 non-null   object\n",
      " 4   salary         965 non-null    object\n",
      " 5   location       5618 non-null   object\n",
      " 6   criteria       5618 non-null   object\n",
      " 7   posted_date    5618 non-null   object\n",
      " 8   link           5618 non-null   object\n",
      " 9   country        5618 non-null   object\n",
      "dtypes: object(10)\n",
      "memory usage: 482.8+ KB\n"
     ]
    }
   ],
   "source": [
    "df_linkedin_listing.info()"
   ]
  },
  {
   "cell_type": "code",
   "execution_count": 11,
   "metadata": {
    "execution": {
     "iopub.execute_input": "2023-09-20T14:26:43.689894Z",
     "iopub.status.busy": "2023-09-20T14:26:43.688482Z",
     "iopub.status.idle": "2023-09-20T14:26:43.721773Z",
     "shell.execute_reply": "2023-09-20T14:26:43.720397Z",
     "shell.execute_reply.started": "2023-09-20T14:26:43.689815Z"
    }
   },
   "outputs": [
    {
     "data": {
      "text/html": [
       "<div>\n",
       "<style scoped>\n",
       "    .dataframe tbody tr th:only-of-type {\n",
       "        vertical-align: middle;\n",
       "    }\n",
       "\n",
       "    .dataframe tbody tr th {\n",
       "        vertical-align: top;\n",
       "    }\n",
       "\n",
       "    .dataframe thead th {\n",
       "        text-align: right;\n",
       "    }\n",
       "</style>\n",
       "<table border=\"1\" class=\"dataframe\">\n",
       "  <thead>\n",
       "    <tr style=\"text-align: right;\">\n",
       "      <th></th>\n",
       "      <th>title</th>\n",
       "      <th>company</th>\n",
       "      <th>description</th>\n",
       "      <th>onsite_remote</th>\n",
       "      <th>salary</th>\n",
       "      <th>location</th>\n",
       "      <th>criteria</th>\n",
       "      <th>posted_date</th>\n",
       "      <th>link</th>\n",
       "      <th>country</th>\n",
       "    </tr>\n",
       "  </thead>\n",
       "  <tbody>\n",
       "    <tr>\n",
       "      <th>0</th>\n",
       "      <td>Data Analyst - Recent Graduate</td>\n",
       "      <td>PayPal</td>\n",
       "      <td>At PayPal (NASDAQ: PYPL), we believe that ever...</td>\n",
       "      <td>onsite</td>\n",
       "      <td>NaN</td>\n",
       "      <td>Buffalo-Niagara Falls Area</td>\n",
       "      <td>[{'Seniority level': 'Not Applicable'}, {'Empl...</td>\n",
       "      <td>2022-11-22</td>\n",
       "      <td>https://www.linkedin.com/jobs/view/data-analys...</td>\n",
       "      <td>USA</td>\n",
       "    </tr>\n",
       "    <tr>\n",
       "      <th>1</th>\n",
       "      <td>Data Analyst - Recent Graduate</td>\n",
       "      <td>PayPal</td>\n",
       "      <td>At PayPal (NASDAQ: PYPL), we believe that ever...</td>\n",
       "      <td>onsite</td>\n",
       "      <td>NaN</td>\n",
       "      <td>San Jose, CA</td>\n",
       "      <td>[{'Seniority level': 'Not Applicable'}, {'Empl...</td>\n",
       "      <td>2022-11-22</td>\n",
       "      <td>https://www.linkedin.com/jobs/view/data-analys...</td>\n",
       "      <td>USA</td>\n",
       "    </tr>\n",
       "    <tr>\n",
       "      <th>2</th>\n",
       "      <td>Data Analyst</td>\n",
       "      <td>PayPal</td>\n",
       "      <td>At PayPal (NASDAQ: PYPL), we believe that ever...</td>\n",
       "      <td>onsite</td>\n",
       "      <td>NaN</td>\n",
       "      <td>Texas, United States</td>\n",
       "      <td>[{'Seniority level': 'Not Applicable'}, {'Empl...</td>\n",
       "      <td>2022-11-17</td>\n",
       "      <td>https://www.linkedin.com/jobs/view/data-analys...</td>\n",
       "      <td>USA</td>\n",
       "    </tr>\n",
       "    <tr>\n",
       "      <th>3</th>\n",
       "      <td>Data Analyst</td>\n",
       "      <td>PayPal</td>\n",
       "      <td>At PayPal (NASDAQ: PYPL), we believe that ever...</td>\n",
       "      <td>onsite</td>\n",
       "      <td>NaN</td>\n",
       "      <td>Illinois, United States</td>\n",
       "      <td>[{'Seniority level': 'Not Applicable'}, {'Empl...</td>\n",
       "      <td>2022-11-17</td>\n",
       "      <td>https://www.linkedin.com/jobs/view/data-analys...</td>\n",
       "      <td>USA</td>\n",
       "    </tr>\n",
       "    <tr>\n",
       "      <th>4</th>\n",
       "      <td>Entry-Level Data Analyst</td>\n",
       "      <td>The Federal Savings Bank</td>\n",
       "      <td>The Federal Savings Bank, a national bank and ...</td>\n",
       "      <td>onsite</td>\n",
       "      <td>NaN</td>\n",
       "      <td>Chicago, IL</td>\n",
       "      <td>[{'Seniority level': 'Entry level'}, {'Employm...</td>\n",
       "      <td>2022-11-17</td>\n",
       "      <td>https://www.linkedin.com/jobs/view/entry-level...</td>\n",
       "      <td>USA</td>\n",
       "    </tr>\n",
       "  </tbody>\n",
       "</table>\n",
       "</div>"
      ],
      "text/plain": [
       "                            title                   company  \\\n",
       "0  Data Analyst - Recent Graduate                    PayPal   \n",
       "1  Data Analyst - Recent Graduate                    PayPal   \n",
       "2                    Data Analyst                    PayPal   \n",
       "3                    Data Analyst                    PayPal   \n",
       "4        Entry-Level Data Analyst  The Federal Savings Bank   \n",
       "\n",
       "                                         description onsite_remote salary  \\\n",
       "0  At PayPal (NASDAQ: PYPL), we believe that ever...        onsite    NaN   \n",
       "1  At PayPal (NASDAQ: PYPL), we believe that ever...        onsite    NaN   \n",
       "2  At PayPal (NASDAQ: PYPL), we believe that ever...        onsite    NaN   \n",
       "3  At PayPal (NASDAQ: PYPL), we believe that ever...        onsite    NaN   \n",
       "4  The Federal Savings Bank, a national bank and ...        onsite    NaN   \n",
       "\n",
       "                     location  \\\n",
       "0  Buffalo-Niagara Falls Area   \n",
       "1                San Jose, CA   \n",
       "2        Texas, United States   \n",
       "3     Illinois, United States   \n",
       "4                 Chicago, IL   \n",
       "\n",
       "                                            criteria posted_date  \\\n",
       "0  [{'Seniority level': 'Not Applicable'}, {'Empl...  2022-11-22   \n",
       "1  [{'Seniority level': 'Not Applicable'}, {'Empl...  2022-11-22   \n",
       "2  [{'Seniority level': 'Not Applicable'}, {'Empl...  2022-11-17   \n",
       "3  [{'Seniority level': 'Not Applicable'}, {'Empl...  2022-11-17   \n",
       "4  [{'Seniority level': 'Entry level'}, {'Employm...  2022-11-17   \n",
       "\n",
       "                                                link country  \n",
       "0  https://www.linkedin.com/jobs/view/data-analys...     USA  \n",
       "1  https://www.linkedin.com/jobs/view/data-analys...     USA  \n",
       "2  https://www.linkedin.com/jobs/view/data-analys...     USA  \n",
       "3  https://www.linkedin.com/jobs/view/data-analys...     USA  \n",
       "4  https://www.linkedin.com/jobs/view/entry-level...     USA  "
      ]
     },
     "execution_count": 11,
     "metadata": {},
     "output_type": "execute_result"
    }
   ],
   "source": [
    "df_linkedin_listing.head(5)"
   ]
  },
  {
   "cell_type": "markdown",
   "metadata": {},
   "source": [
    "I noticed that there are some unnormalized JSONs in the criteria column. I will normalize the criteria column and find out the nullity of the normalized criteria column."
   ]
  },
  {
   "cell_type": "markdown",
   "metadata": {},
   "source": [
    "## 1.1 JSON Normalization\n",
    "\n",
    "Let's normalize the criteria column"
   ]
  },
  {
   "cell_type": "code",
   "execution_count": 12,
   "metadata": {
    "execution": {
     "iopub.execute_input": "2023-09-26T17:34:23.922078Z",
     "iopub.status.busy": "2023-09-26T17:34:23.921646Z",
     "iopub.status.idle": "2023-09-26T17:34:23.938399Z",
     "shell.execute_reply": "2023-09-26T17:34:23.937347Z",
     "shell.execute_reply.started": "2023-09-26T17:34:23.922034Z"
    }
   },
   "outputs": [
    {
     "data": {
      "text/html": [
       "<div>\n",
       "<style scoped>\n",
       "    .dataframe tbody tr th:only-of-type {\n",
       "        vertical-align: middle;\n",
       "    }\n",
       "\n",
       "    .dataframe tbody tr th {\n",
       "        vertical-align: top;\n",
       "    }\n",
       "\n",
       "    .dataframe thead th {\n",
       "        text-align: right;\n",
       "    }\n",
       "</style>\n",
       "<table border=\"1\" class=\"dataframe\">\n",
       "  <thead>\n",
       "    <tr style=\"text-align: right;\">\n",
       "      <th></th>\n",
       "      <th>title</th>\n",
       "      <th>company</th>\n",
       "      <th>description</th>\n",
       "      <th>onsite_remote</th>\n",
       "      <th>salary</th>\n",
       "      <th>location</th>\n",
       "      <th>criteria</th>\n",
       "      <th>posted_date</th>\n",
       "      <th>link</th>\n",
       "      <th>country</th>\n",
       "    </tr>\n",
       "  </thead>\n",
       "  <tbody>\n",
       "    <tr>\n",
       "      <th>0</th>\n",
       "      <td>Data Analyst - Recent Graduate</td>\n",
       "      <td>PayPal</td>\n",
       "      <td>At PayPal (NASDAQ: PYPL), we believe that ever...</td>\n",
       "      <td>onsite</td>\n",
       "      <td>NaN</td>\n",
       "      <td>Buffalo-Niagara Falls Area</td>\n",
       "      <td>[{'Seniority level': 'Not Applicable'}, {'Empl...</td>\n",
       "      <td>2022-11-22</td>\n",
       "      <td>https://www.linkedin.com/jobs/view/data-analys...</td>\n",
       "      <td>USA</td>\n",
       "    </tr>\n",
       "  </tbody>\n",
       "</table>\n",
       "</div>"
      ],
      "text/plain": [
       "                            title company  \\\n",
       "0  Data Analyst - Recent Graduate  PayPal   \n",
       "\n",
       "                                         description onsite_remote salary  \\\n",
       "0  At PayPal (NASDAQ: PYPL), we believe that ever...        onsite    NaN   \n",
       "\n",
       "                     location  \\\n",
       "0  Buffalo-Niagara Falls Area   \n",
       "\n",
       "                                            criteria posted_date  \\\n",
       "0  [{'Seniority level': 'Not Applicable'}, {'Empl...  2022-11-22   \n",
       "\n",
       "                                                link country  \n",
       "0  https://www.linkedin.com/jobs/view/data-analys...     USA  "
      ]
     },
     "execution_count": 12,
     "metadata": {},
     "output_type": "execute_result"
    }
   ],
   "source": [
    "df_linkedin_listing.head(1)"
   ]
  },
  {
   "cell_type": "code",
   "execution_count": 13,
   "metadata": {
    "execution": {
     "iopub.execute_input": "2023-09-26T17:34:27.139847Z",
     "iopub.status.busy": "2023-09-26T17:34:27.139443Z",
     "iopub.status.idle": "2023-09-26T17:34:27.408423Z",
     "shell.execute_reply": "2023-09-26T17:34:27.407070Z",
     "shell.execute_reply.started": "2023-09-26T17:34:27.139817Z"
    }
   },
   "outputs": [
    {
     "data": {
      "text/plain": [
       "{'Seniority level': 'Not Applicable',\n",
       " 'Employment type': 'Full-time',\n",
       " 'Job function': 'Information Technology',\n",
       " 'Industries': 'Software Development, Technology, Information and Internet, and Financial Services'}"
      ]
     },
     "execution_count": 13,
     "metadata": {},
     "output_type": "execute_result"
    }
   ],
   "source": [
    "criteria_records = []\n",
    "for criteria_string_form in df_linkedin_listing[\"criteria\"]:\n",
    "    criteria_array = None\n",
    "    try:\n",
    "        criteria_array = ast.literal_eval(criteria_string_form)\n",
    "    except Exception as e:\n",
    "        print(e)\n",
    "        print(criteria_string_form)\n",
    "        continue    \n",
    "    criteria_records.append({k:v for criteria_dict in criteria_array for k,v in criteria_dict.items()})\n",
    "\n",
    "# criteria_df = df_linkedin_listing.iloc[0:3].apply(convert_jsons_to_table, axis=1)\n",
    "criteria_records[0]"
   ]
  },
  {
   "cell_type": "code",
   "execution_count": 14,
   "metadata": {
    "execution": {
     "iopub.execute_input": "2023-09-26T17:35:47.403801Z",
     "iopub.status.busy": "2023-09-26T17:35:47.403319Z",
     "iopub.status.idle": "2023-09-26T17:35:47.419504Z",
     "shell.execute_reply": "2023-09-26T17:35:47.418315Z",
     "shell.execute_reply.started": "2023-09-26T17:35:47.403767Z"
    }
   },
   "outputs": [],
   "source": [
    "criteria_df = pd.DataFrame.from_records(criteria_records)"
   ]
  },
  {
   "cell_type": "code",
   "execution_count": 15,
   "metadata": {
    "_kg_hide-input": true,
    "execution": {
     "iopub.execute_input": "2023-09-26T17:35:48.404350Z",
     "iopub.status.busy": "2023-09-26T17:35:48.403966Z",
     "iopub.status.idle": "2023-09-26T17:35:48.427205Z",
     "shell.execute_reply": "2023-09-26T17:35:48.425662Z",
     "shell.execute_reply.started": "2023-09-26T17:35:48.404322Z"
    }
   },
   "outputs": [
    {
     "name": "stdout",
     "output_type": "stream",
     "text": [
      "<class 'pandas.core.frame.DataFrame'>\n",
      "RangeIndex: 5618 entries, 0 to 5617\n",
      "Data columns (total 4 columns):\n",
      " #   Column           Non-Null Count  Dtype \n",
      "---  ------           --------------  ----- \n",
      " 0   Seniority level  5194 non-null   object\n",
      " 1   Employment type  5541 non-null   object\n",
      " 2   Job function     5194 non-null   object\n",
      " 3   Industries       5193 non-null   object\n",
      "dtypes: object(4)\n",
      "memory usage: 175.7+ KB\n"
     ]
    }
   ],
   "source": [
    "# Validation Cell\n",
    "criteria_df.info()"
   ]
  },
  {
   "cell_type": "code",
   "execution_count": 16,
   "metadata": {
    "_kg_hide-input": false,
    "execution": {
     "iopub.execute_input": "2023-09-26T17:35:58.987412Z",
     "iopub.status.busy": "2023-09-26T17:35:58.986081Z",
     "iopub.status.idle": "2023-09-26T17:35:59.005471Z",
     "shell.execute_reply": "2023-09-26T17:35:59.004037Z",
     "shell.execute_reply.started": "2023-09-26T17:35:58.987366Z"
    }
   },
   "outputs": [],
   "source": [
    "df = pd.merge(df_linkedin_listing, criteria_df, left_index=True, right_index=True)"
   ]
  },
  {
   "cell_type": "code",
   "execution_count": 17,
   "metadata": {
    "execution": {
     "iopub.execute_input": "2023-09-26T17:35:59.696190Z",
     "iopub.status.busy": "2023-09-26T17:35:59.695768Z",
     "iopub.status.idle": "2023-09-26T17:35:59.713753Z",
     "shell.execute_reply": "2023-09-26T17:35:59.712389Z",
     "shell.execute_reply.started": "2023-09-26T17:35:59.696159Z"
    }
   },
   "outputs": [
    {
     "data": {
      "text/html": [
       "<div>\n",
       "<style scoped>\n",
       "    .dataframe tbody tr th:only-of-type {\n",
       "        vertical-align: middle;\n",
       "    }\n",
       "\n",
       "    .dataframe tbody tr th {\n",
       "        vertical-align: top;\n",
       "    }\n",
       "\n",
       "    .dataframe thead th {\n",
       "        text-align: right;\n",
       "    }\n",
       "</style>\n",
       "<table border=\"1\" class=\"dataframe\">\n",
       "  <thead>\n",
       "    <tr style=\"text-align: right;\">\n",
       "      <th></th>\n",
       "      <th>title</th>\n",
       "      <th>company</th>\n",
       "      <th>description</th>\n",
       "      <th>onsite_remote</th>\n",
       "      <th>salary</th>\n",
       "      <th>location</th>\n",
       "      <th>criteria</th>\n",
       "      <th>posted_date</th>\n",
       "      <th>link</th>\n",
       "      <th>country</th>\n",
       "      <th>Seniority level</th>\n",
       "      <th>Employment type</th>\n",
       "      <th>Job function</th>\n",
       "      <th>Industries</th>\n",
       "    </tr>\n",
       "  </thead>\n",
       "  <tbody>\n",
       "    <tr>\n",
       "      <th>0</th>\n",
       "      <td>Data Analyst - Recent Graduate</td>\n",
       "      <td>PayPal</td>\n",
       "      <td>At PayPal (NASDAQ: PYPL), we believe that ever...</td>\n",
       "      <td>onsite</td>\n",
       "      <td>NaN</td>\n",
       "      <td>Buffalo-Niagara Falls Area</td>\n",
       "      <td>[{'Seniority level': 'Not Applicable'}, {'Empl...</td>\n",
       "      <td>2022-11-22</td>\n",
       "      <td>https://www.linkedin.com/jobs/view/data-analys...</td>\n",
       "      <td>USA</td>\n",
       "      <td>Not Applicable</td>\n",
       "      <td>Full-time</td>\n",
       "      <td>Information Technology</td>\n",
       "      <td>Software Development, Technology, Information ...</td>\n",
       "    </tr>\n",
       "  </tbody>\n",
       "</table>\n",
       "</div>"
      ],
      "text/plain": [
       "                            title company  \\\n",
       "0  Data Analyst - Recent Graduate  PayPal   \n",
       "\n",
       "                                         description onsite_remote salary  \\\n",
       "0  At PayPal (NASDAQ: PYPL), we believe that ever...        onsite    NaN   \n",
       "\n",
       "                     location  \\\n",
       "0  Buffalo-Niagara Falls Area   \n",
       "\n",
       "                                            criteria posted_date  \\\n",
       "0  [{'Seniority level': 'Not Applicable'}, {'Empl...  2022-11-22   \n",
       "\n",
       "                                                link country Seniority level  \\\n",
       "0  https://www.linkedin.com/jobs/view/data-analys...     USA  Not Applicable   \n",
       "\n",
       "  Employment type            Job function  \\\n",
       "0       Full-time  Information Technology   \n",
       "\n",
       "                                          Industries  \n",
       "0  Software Development, Technology, Information ...  "
      ]
     },
     "execution_count": 17,
     "metadata": {},
     "output_type": "execute_result"
    }
   ],
   "source": [
    "df.head(1)"
   ]
  },
  {
   "cell_type": "markdown",
   "metadata": {},
   "source": [
    "Looks good! Let's drop the criteria column which holds the json that we have already normalized into other columns"
   ]
  },
  {
   "cell_type": "code",
   "execution_count": 18,
   "metadata": {
    "execution": {
     "iopub.execute_input": "2023-09-26T18:00:24.941224Z",
     "iopub.status.busy": "2023-09-26T18:00:24.940805Z",
     "iopub.status.idle": "2023-09-26T18:00:24.949006Z",
     "shell.execute_reply": "2023-09-26T18:00:24.947768Z",
     "shell.execute_reply.started": "2023-09-26T18:00:24.941189Z"
    }
   },
   "outputs": [],
   "source": [
    "df.drop(\"criteria\", axis=1, inplace=True)"
   ]
  },
  {
   "cell_type": "code",
   "execution_count": 19,
   "metadata": {},
   "outputs": [],
   "source": [
    "df.reset_index(drop=True, inplace=True)"
   ]
  },
  {
   "cell_type": "code",
   "execution_count": 20,
   "metadata": {
    "execution": {
     "iopub.execute_input": "2023-09-26T18:00:30.438519Z",
     "iopub.status.busy": "2023-09-26T18:00:30.438075Z",
     "iopub.status.idle": "2023-09-26T18:00:30.475709Z",
     "shell.execute_reply": "2023-09-26T18:00:30.474647Z",
     "shell.execute_reply.started": "2023-09-26T18:00:30.438485Z"
    }
   },
   "outputs": [
    {
     "name": "stdout",
     "output_type": "stream",
     "text": [
      "<class 'pandas.core.frame.DataFrame'>\n",
      "RangeIndex: 5618 entries, 0 to 5617\n",
      "Data columns (total 13 columns):\n",
      " #   Column           Non-Null Count  Dtype \n",
      "---  ------           --------------  ----- \n",
      " 0   title            5618 non-null   object\n",
      " 1   company          5618 non-null   object\n",
      " 2   description      5618 non-null   object\n",
      " 3   onsite_remote    5618 non-null   object\n",
      " 4   salary           965 non-null    object\n",
      " 5   location         5618 non-null   object\n",
      " 6   posted_date      5618 non-null   object\n",
      " 7   link             5618 non-null   object\n",
      " 8   country          5618 non-null   object\n",
      " 9   Seniority level  5241 non-null   object\n",
      " 10  Employment type  5527 non-null   object\n",
      " 11  Job function     5241 non-null   object\n",
      " 12  Industries       5239 non-null   object\n",
      "dtypes: object(13)\n",
      "memory usage: 570.7+ KB\n"
     ]
    }
   ],
   "source": [
    "df.info()"
   ]
  },
  {
   "cell_type": "markdown",
   "metadata": {},
   "source": [
    "## Some Seniority Levels are \"Not Applicable\"\n",
    "\n",
    "Let's change those to Nan"
   ]
  },
  {
   "cell_type": "code",
   "execution_count": 21,
   "metadata": {},
   "outputs": [
    {
     "name": "stdout",
     "output_type": "stream",
     "text": [
      "<class 'pandas.core.series.Series'>\n",
      "RangeIndex: 5618 entries, 0 to 5617\n",
      "Series name: Seniority level\n",
      "Non-Null Count  Dtype \n",
      "--------------  ----- \n",
      "3841 non-null   object\n",
      "dtypes: object(1)\n",
      "memory usage: 44.0+ KB\n"
     ]
    }
   ],
   "source": [
    "df[\"Seniority level\"] = df[\"Seniority level\"].replace(\"Not Applicable\", np.nan)\n",
    "df[\"Seniority level\"].info()"
   ]
  },
  {
   "cell_type": "code",
   "execution_count": 22,
   "metadata": {},
   "outputs": [],
   "source": [
    "df.to_csv(\"Linkedin_Jobs_American_and_Canadian.csv\")"
   ]
  },
  {
   "cell_type": "markdown",
   "metadata": {},
   "source": [
    "## 1.3 Wandb Exploration\n",
    "\n",
    "Let's use Wandb to make understanding fundamental data easier\n",
    "\n",
    "Credit to https://www.kaggle.com/code/ayuraj/interactive-eda-using-w-b-tables/notebook for code and inspiration"
   ]
  },
  {
   "cell_type": "code",
   "execution_count": 23,
   "metadata": {},
   "outputs": [],
   "source": [
    "# !pip install -q --upgrade wandb"
   ]
  },
  {
   "cell_type": "code",
   "execution_count": 24,
   "metadata": {},
   "outputs": [],
   "source": [
    "# # Import wandb\n",
    "# import wandb\n",
    "\n",
    "# try:\n",
    "#     from kaggle_secrets import UserSecretsClient\n",
    "#     user_secrets = UserSecretsClient()\n",
    "#     secret_value_0 = user_secrets.get_secret(\"wandb_api\")\n",
    "#     wandb.login(key=secret_value_0)\n",
    "    \n",
    "#     anony=None\n",
    "# except Exception as e:\n",
    "    \n",
    "#     anony = \"must\"\n",
    "#     print('If you want to use your W&B account, go to Add-ons -> Secrets and add your W&B access token. Use the Label name as \"wandb_api\". \\nGet your W&B access token from here: https://wandb.ai/authorize')"
   ]
  },
  {
   "cell_type": "code",
   "execution_count": 25,
   "metadata": {},
   "outputs": [],
   "source": [
    "# run = wandb.init(project='eda', anonymous=None) # W&B Code 1"
   ]
  },
  {
   "cell_type": "code",
   "execution_count": 26,
   "metadata": {},
   "outputs": [],
   "source": [
    "# # Initialize a W&B run to log images\n",
    "# data_at = wandb.Table(columns=df.columns.tolist()) # W&B Code 2\n",
    "# for i in tqdm(range(len(df))):\n",
    "#     row = df.loc[i]\n",
    "#     data_at.add_data(*tuple(row.values[0:])) # W&B Code 3\n",
    "\n",
    "# wandb.log({'LinkedIn Job Data': data_at}) # W&B Code 4\n",
    "# wandb.finish() # W&B Code 5"
   ]
  },
  {
   "cell_type": "markdown",
   "metadata": {},
   "source": [
    "## 1.4 Exploring Columns"
   ]
  },
  {
   "cell_type": "code",
   "execution_count": 27,
   "metadata": {
    "execution": {
     "iopub.execute_input": "2023-09-26T18:06:04.648686Z",
     "iopub.status.busy": "2023-09-26T18:06:04.648234Z",
     "iopub.status.idle": "2023-09-26T18:06:04.687547Z",
     "shell.execute_reply": "2023-09-26T18:06:04.686104Z",
     "shell.execute_reply.started": "2023-09-26T18:06:04.648649Z"
    }
   },
   "outputs": [
    {
     "name": "stdout",
     "output_type": "stream",
     "text": [
      "<class 'pandas.core.frame.DataFrame'>\n",
      "RangeIndex: 5618 entries, 0 to 5617\n",
      "Data columns (total 13 columns):\n",
      " #   Column           Non-Null Count  Dtype \n",
      "---  ------           --------------  ----- \n",
      " 0   title            5618 non-null   object\n",
      " 1   company          5618 non-null   object\n",
      " 2   description      5618 non-null   object\n",
      " 3   onsite_remote    5618 non-null   object\n",
      " 4   salary           965 non-null    object\n",
      " 5   location         5618 non-null   object\n",
      " 6   posted_date      5618 non-null   object\n",
      " 7   link             5618 non-null   object\n",
      " 8   country          5618 non-null   object\n",
      " 9   Seniority level  3841 non-null   object\n",
      " 10  Employment type  5527 non-null   object\n",
      " 11  Job function     5241 non-null   object\n",
      " 12  Industries       5239 non-null   object\n",
      "dtypes: object(13)\n",
      "memory usage: 570.7+ KB\n"
     ]
    }
   ],
   "source": [
    "df.info()   "
   ]
  },
  {
   "cell_type": "code",
   "execution_count": 28,
   "metadata": {
    "execution": {
     "iopub.execute_input": "2023-09-26T18:06:06.495526Z",
     "iopub.status.busy": "2023-09-26T18:06:06.495140Z",
     "iopub.status.idle": "2023-09-26T18:06:08.747881Z",
     "shell.execute_reply": "2023-09-26T18:06:08.746815Z",
     "shell.execute_reply.started": "2023-09-26T18:06:06.495497Z"
    }
   },
   "outputs": [
    {
     "data": {
      "text/html": [
       "<div>                            <div id=\"9b313886-aa78-49c9-a59c-c0a703a49921\" class=\"plotly-graph-div\" style=\"height:525px; width:100%;\"></div>            <script type=\"text/javascript\">                require([\"plotly\"], function(Plotly) {                    window.PLOTLYENV=window.PLOTLYENV || {};                                    if (document.getElementById(\"9b313886-aa78-49c9-a59c-c0a703a49921\")) {                    Plotly.newPlot(                        \"9b313886-aa78-49c9-a59c-c0a703a49921\",                        [{\"customdata\":[[\"Data Analyst\"],[\"Data Analyst - Recent Graduate\"],[\"Senior Data Analyst\"],[\"Junior Data Analyst\"],[\"Senior Data Analyst, Analytics & Insights (Toronto, ON)\"],[\"Data Analyst - (Remote - US)\"],[\"Sr. Data Analyst\"],[\"Data Analyst (Remote)\"],[\"Insights Analyst\"],[\"Business Data Analyst\"],[\"Data Analyst (12 Month Contract)\"],[\"Data Analyst (Hybrid)\"],[\"Data Analyst (Python/SQL)\"],[\"Associate Data Analyst\"],[\"Senior Data Analyst, APAC Marketplace\"],[\"SQL Data Analyst\"],[\"Data Analyst - Reporting\"],[\"Data Analyst, Operations\"],[\"Data Analyst/Developer\"],[\"Entry-Level Data Analyst\"],[\"Junior Data Analyst - Mississauga, ON\"],[\"Data Entry/ JR Analyst -6 Month Contract\"],[\"Data Analyst - Loans\"],[\"Quality Data Analyst\"],[\"Analyst, Data and Analytics\"],[\"Commercial Data Analyst\"],[\"Data Analyst (C117)\"],[\"Analyst (Global Data and Analytics)\"],[\"Data Analyst (Contract)\"],[\"Data Analyst, Flight Pricing Optimization\"],[\"Sector Data Analyst, Data Driven Investing\"],[\"Data Administrator/Data Analyst\"],[\"Data Analyst - Marketing\"],[\"Cognitive Data Analyst\"],[\"Analyst - Data Visualization\"],[\"Senior Data Analyst - Remote\"],[\"Product Data Analyst\"],[\"Data Visualization Developer/Analyst\"],[\"Data Analyst, Trilogy (Remote) - $60,000/year USD\"],[\"Senior Data Analyst (Toronto, ON)\"],[\"Data Analyst I (entry level)\"],[\"Product Data Analyst - WTFast\"],[\"Data Analyst (SQL)\"],[\"Data Analyst (Operations)\"],[\"Data Analytics Analyst\"],[\"Data Engineer\"],[\"Data Analyst - remote!\"],[\"Data Engineer - Remote, Full-Time\"],[\"Data Analyst/Forecasting Specialist\"],[\"Data Analyst, Money\"],[\"Data Research Analyst, Trilogy (Remote) - $60,000/year USD\"],[\"Data Analyst - Remote\"],[\"Gaming Data Analyst\"],[\"Senior Analytics Engineer (Remote)\"],[\"Data Analyst I\"],[\"Future Opportunities: Data Analyst & Report Specialist (Remote)\"],[\"Data Analyst / Consultant (Fire / EMS)\"],[\"Business Systems Analyst\"],[\"Online Data Analyst\"],[\"BI Reporting Analyst\"],[\"Data Engineer (Remote)\"],[\"Senior Data Analyst (Vancouver, BC)\"],[\"Data Science Analyst (Remote)\"],[\"PowerBI Specialist\"],[\"Cybersecurity Data Analyst\"],[\"Senior Data and Reporting Analyst\"],[\"Senior BI Analyst\"],[\"Technical Support Analyst\"],[\"Data Engineer, Totogi (Remote) - $60,000/year USD\"],[\"Data Engineer/Big Data Engineer\"],[\"Data Analyst with Guidewire Experience (Remote | US | Canada)\"],[\"IT Data Analyst - SQL, Banking Finance\"],[\"Analyste de données\"],[\"Data Analyst/Oracle\"],[\"HR Data Analyst\"],[\"Data Analysts\"],[\"Market Conduct Data Analyst - 4 month Co-Op\"],[\"Sr. Market Data Analyst\"],[\"Data Entry Analyst (Risk)\"],[\"ANALYSTE BI\"],[\"Principal Data Analyst\"],[\"Quantitative Data Intern\"],[\"Data Governance Analyst\"],[\"Analyst, Data Science- FR\"],[\"BUSINESS INTELLIGENCE ANALYST\"],[\"Data Specialist\"],[\"Data Analyst – Loans/Capital Markets\"],[\"Data Analyst (contract)\"],[\"REMOTE Data Analyst (SQL, Operations)\"],[\"Data Visualization Analyst\"],[\"Marketing Data Analyst\"],[\"Data Analyst (Global Remote)\"],[\"Data analyst\"],[\"Business Intelligence Analyst\"],[\"Business Data Analyst, Finance\"],[\"Digital Analyst\"],[\"Data Analyst/Collector\"],[\"Operational Data Analyst\"],[\"Campaign/Data Analyst\"],[\"Business Intelligence Analyst (FP&A)\"],[\"Data Analyst/ $100M Valuation/ Hybrid\"],[\"Consultant/Data Analyst\"],[\"Data Analyst - Weekly Hybrid Remote/Onsite Schedule\"],[\"Data Analyst - Energy\"],[\"Group Data Analyst\"],[\"Senior Analyst, Cyber Governance (Data Analytics)\"],[\"Data Engineer with AI &ML Analytics Platforms\"],[\"Data Engineer (Azure)\"],[\"Senior Data Governance Analyst\"],[\"Data Analyst - Land\"],[\"Junior Data Analyst-Entry Level\"],[\"Researcher\"],[\"Information Governance Analyst\"],[\"Data Analyst III - Remote\"],[\"Data Analyst 2\"],[\"Data Engineer - Data, AWS ,ETL\"],[\"Entry Level Data Analyst\"],[\"Data Engineer II\"],[\"BI/Analytics Consultant\"],[\"Job Opportunity: Data Stage Developer || Remote\"],[\"Data Engineer [Remote]\"],[\"Google Cloud Platform Analytics Engineer\"],[\"Cloud Data Analyst\"],[\"Google Analytics Engineer\"],[\"WFH//Data Analyst\"],[\"Data Analytics\"],[\"Data Analyst (SQL, Teraform, Tableau) III - Remote\"],[\"Data Engineer 1\"],[\"Senior Data Analyst (PowerBI)\"],[\"Analyst, Data Science- EN\"],[\"Data Science Analyst\"],[\"Analyst, Data Operations\"],[\"Information Analyst\"],[\"Graduate Geospatial Analyst (Available 2023)\"],[\"SEO Data Analyst\"]],\"domain\":{\"x\":[0.0,1.0],\"y\":[0.0,1.0]},\"labels\":[\"Data Analyst\",\"Data Analyst - Recent Graduate\",\"Senior Data Analyst\",\"Junior Data Analyst\",\"Senior Data Analyst, Analytics & Insights (Toronto, ON)\",\"Data Analyst - (Remote - US)\",\"Sr. Data Analyst\",\"Data Analyst (Remote)\",\"Insights Analyst\",\"Business Data Analyst\",\"Data Analyst (12 Month Contract)\",\"Data Analyst (Hybrid)\",\"Data Analyst (Python/SQL)\",\"Associate Data Analyst\",\"Senior Data Analyst, APAC Marketplace\",\"SQL Data Analyst\",\"Data Analyst - Reporting\",\"Data Analyst, Operations\",\"Data Analyst/Developer\",\"Entry-Level Data Analyst\",\"Junior Data Analyst - Mississauga, ON\",\"Data Entry/ JR Analyst -6 Month Contract\",\"Data Analyst - Loans\",\"Quality Data Analyst\",\"Analyst, Data and Analytics\",\"Commercial Data Analyst\",\"Data Analyst (C117)\",\"Analyst (Global Data and Analytics)\",\"Data Analyst (Contract)\",\"Data Analyst, Flight Pricing Optimization\",\"Sector Data Analyst, Data Driven Investing\",\"Data Administrator/Data Analyst\",\"Data Analyst - Marketing\",\"Cognitive Data Analyst\",\"Analyst - Data Visualization\",\"Senior Data Analyst - Remote\",\"Product Data Analyst\",\"Data Visualization Developer/Analyst\",\"Data Analyst, Trilogy (Remote) - $60,000/year USD\",\"Senior Data Analyst (Toronto, ON)\",\"Data Analyst I (entry level)\",\"Product Data Analyst - WTFast\",\"Data Analyst (SQL)\",\"Data Analyst (Operations)\",\"Data Analytics Analyst\",\"Data Engineer\",\"Data Analyst - remote!\",\"Data Engineer - Remote, Full-Time\",\"Data Analyst/Forecasting Specialist\",\"Data Analyst, Money\",\"Data Research Analyst, Trilogy (Remote) - $60,000/year USD\",\"Data Analyst - Remote\",\"Gaming Data Analyst\",\"Senior Analytics Engineer (Remote)\",\"Data Analyst I\",\"Future Opportunities: Data Analyst & Report Specialist (Remote)\",\"Data Analyst / Consultant (Fire / EMS)\",\"Business Systems Analyst\",\"Online Data Analyst\",\"BI Reporting Analyst\",\"Data Engineer (Remote)\",\"Senior Data Analyst (Vancouver, BC)\",\"Data Science Analyst (Remote)\",\"PowerBI Specialist\",\"Cybersecurity Data Analyst\",\"Senior Data and Reporting Analyst\",\"Senior BI Analyst\",\"Technical Support Analyst\",\"Data Engineer, Totogi (Remote) - $60,000/year USD\",\"Data Engineer/Big Data Engineer\",\"Data Analyst with Guidewire Experience (Remote | US | Canada)\",\"IT Data Analyst - SQL, Banking Finance\",\"Analyste de données\",\"Data Analyst/Oracle\",\"HR Data Analyst\",\"Data Analysts\",\"Market Conduct Data Analyst - 4 month Co-Op\",\"Sr. Market Data Analyst\",\"Data Entry Analyst (Risk)\",\"ANALYSTE BI\",\"Principal Data Analyst\",\"Quantitative Data Intern\",\"Data Governance Analyst\",\"Analyst, Data Science- FR\",\"BUSINESS INTELLIGENCE ANALYST\",\"Data Specialist\",\"Data Analyst – Loans/Capital Markets\",\"Data Analyst (contract)\",\"REMOTE Data Analyst (SQL, Operations)\",\"Data Visualization Analyst\",\"Marketing Data Analyst\",\"Data Analyst (Global Remote)\",\"Data analyst\",\"Business Intelligence Analyst\",\"Business Data Analyst, Finance\",\"Digital Analyst\",\"Data Analyst/Collector\",\"Operational Data Analyst\",\"Campaign/Data Analyst\",\"Business Intelligence Analyst (FP&A)\",\"Data Analyst/ $100M Valuation/ Hybrid\",\"Consultant/Data Analyst\",\"Data Analyst - Weekly Hybrid Remote/Onsite Schedule\",\"Data Analyst - Energy\",\"Group Data Analyst\",\"Senior Analyst, Cyber Governance (Data Analytics)\",\"Data Engineer with AI &ML Analytics Platforms\",\"Data Engineer (Azure)\",\"Senior Data Governance Analyst\",\"Data Analyst - Land\",\"Junior Data Analyst-Entry Level\",\"Researcher\",\"Information Governance Analyst\",\"Data Analyst III - Remote\",\"Data Analyst 2\",\"Data Engineer - Data, AWS ,ETL\",\"Entry Level Data Analyst\",\"Data Engineer II\",\"BI/Analytics Consultant\",\"Job Opportunity: Data Stage Developer || Remote\",\"Data Engineer [Remote]\",\"Google Cloud Platform Analytics Engineer\",\"Cloud Data Analyst\",\"Google Analytics Engineer\",\"WFH//Data Analyst\",\"Data Analytics\",\"Data Analyst (SQL, Teraform, Tableau) III - Remote\",\"Data Engineer 1\",\"Senior Data Analyst (PowerBI)\",\"Analyst, Data Science- EN\",\"Data Science Analyst\",\"Analyst, Data Operations\",\"Information Analyst\",\"Graduate Geospatial Analyst (Available 2023)\",\"SEO Data Analyst\"],\"legendgroup\":\"\",\"marker\":{\"colors\":[\"rgb(179,226,205)\",\"rgb(253,205,172)\",\"rgb(203,213,232)\",\"rgb(244,202,228)\",\"rgb(230,245,201)\",\"rgb(255,242,174)\",\"rgb(241,226,204)\",\"rgb(204,204,204)\",\"rgb(179,226,205)\",\"rgb(253,205,172)\",\"rgb(203,213,232)\",\"rgb(244,202,228)\",\"rgb(230,245,201)\",\"rgb(255,242,174)\",\"rgb(241,226,204)\",\"rgb(204,204,204)\",\"rgb(179,226,205)\",\"rgb(253,205,172)\",\"rgb(203,213,232)\",\"rgb(244,202,228)\",\"rgb(230,245,201)\",\"rgb(255,242,174)\",\"rgb(241,226,204)\",\"rgb(204,204,204)\",\"rgb(179,226,205)\",\"rgb(253,205,172)\",\"rgb(203,213,232)\",\"rgb(244,202,228)\",\"rgb(230,245,201)\",\"rgb(255,242,174)\",\"rgb(241,226,204)\",\"rgb(204,204,204)\",\"rgb(179,226,205)\",\"rgb(253,205,172)\",\"rgb(203,213,232)\",\"rgb(244,202,228)\",\"rgb(230,245,201)\",\"rgb(255,242,174)\",\"rgb(241,226,204)\",\"rgb(204,204,204)\",\"rgb(179,226,205)\",\"rgb(253,205,172)\",\"rgb(203,213,232)\",\"rgb(244,202,228)\",\"rgb(230,245,201)\",\"rgb(255,242,174)\",\"rgb(241,226,204)\",\"rgb(204,204,204)\",\"rgb(179,226,205)\",\"rgb(253,205,172)\",\"rgb(203,213,232)\",\"rgb(244,202,228)\",\"rgb(230,245,201)\",\"rgb(255,242,174)\",\"rgb(241,226,204)\",\"rgb(204,204,204)\",\"rgb(179,226,205)\",\"rgb(253,205,172)\",\"rgb(203,213,232)\",\"rgb(244,202,228)\",\"rgb(230,245,201)\",\"rgb(255,242,174)\",\"rgb(241,226,204)\",\"rgb(204,204,204)\",\"rgb(179,226,205)\",\"rgb(253,205,172)\",\"rgb(203,213,232)\",\"rgb(244,202,228)\",\"rgb(230,245,201)\",\"rgb(255,242,174)\",\"rgb(241,226,204)\",\"rgb(204,204,204)\",\"rgb(179,226,205)\",\"rgb(253,205,172)\",\"rgb(203,213,232)\",\"rgb(244,202,228)\",\"rgb(230,245,201)\",\"rgb(255,242,174)\",\"rgb(241,226,204)\",\"rgb(204,204,204)\",\"rgb(179,226,205)\",\"rgb(253,205,172)\",\"rgb(203,213,232)\",\"rgb(244,202,228)\",\"rgb(230,245,201)\",\"rgb(255,242,174)\",\"rgb(241,226,204)\",\"rgb(204,204,204)\",\"rgb(179,226,205)\",\"rgb(253,205,172)\",\"rgb(203,213,232)\",\"rgb(244,202,228)\",\"rgb(230,245,201)\",\"rgb(255,242,174)\",\"rgb(241,226,204)\",\"rgb(204,204,204)\",\"rgb(179,226,205)\",\"rgb(253,205,172)\",\"rgb(203,213,232)\",\"rgb(244,202,228)\",\"rgb(230,245,201)\",\"rgb(255,242,174)\",\"rgb(241,226,204)\",\"rgb(204,204,204)\",\"rgb(179,226,205)\",\"rgb(253,205,172)\",\"rgb(203,213,232)\",\"rgb(244,202,228)\",\"rgb(230,245,201)\",\"rgb(255,242,174)\",\"rgb(241,226,204)\",\"rgb(204,204,204)\",\"rgb(179,226,205)\",\"rgb(253,205,172)\",\"rgb(203,213,232)\",\"rgb(244,202,228)\",\"rgb(230,245,201)\",\"rgb(255,242,174)\",\"rgb(241,226,204)\",\"rgb(204,204,204)\",\"rgb(179,226,205)\",\"rgb(253,205,172)\",\"rgb(203,213,232)\",\"rgb(244,202,228)\",\"rgb(230,245,201)\",\"rgb(255,242,174)\",\"rgb(241,226,204)\",\"rgb(204,204,204)\",\"rgb(179,226,205)\",\"rgb(253,205,172)\",\"rgb(203,213,232)\",\"rgb(244,202,228)\",\"rgb(230,245,201)\",\"rgb(255,242,174)\",\"rgb(241,226,204)\"]},\"name\":\"\",\"showlegend\":true,\"values\":[3373,183,183,139,68,62,61,40,38,38,38,38,38,37,37,37,37,37,37,37,37,37,37,37,36,36,36,36,36,36,36,36,35,35,35,34,34,34,34,34,34,34,25,22,21,16,10,8,7,7,6,6,5,4,4,4,4,4,4,4,3,3,3,3,3,3,3,3,3,3,3,2,2,2,2,2,2,2,2,2,2,2,2,2,2,2,2,2,2,2,2,2,2,2,1,1,1,1,1,1,1,1,1,1,1,1,1,1,1,1,1,1,1,1,1,1,1,1,1,1,1,1,1,1,1,1,1,1,1,1,1,1,1,1,1],\"type\":\"pie\",\"textposition\":\"inside\"}],                        {\"template\":{\"data\":{\"bar\":[{\"hovertemplate\":\"<b>%{x}</b><br><i>Count</i>: %{y}\",\"type\":\"bar\"}],\"histogram\":[{\"hovertemplate\":\"<b>%{x}</b><br><i>Count</i>: %{y}\",\"type\":\"histogram\"}],\"pie\":[{\"hovertemplate\":\"<b>%{label}</b><br><i>Count</i>: %{value}\",\"type\":\"pie\"}],\"scatter\":[{\"hovertemplate\":\"<b>%{x}</b><br><i>Count</i>: %{y}\",\"type\":\"scatter\"}]},\"layout\":{\"colorway\":[\"#1F77B4\",\"#FF7F0E\",\"#2CA02C\",\"#D62728\",\"#9467BD\",\"#8C564B\",\"#E377C2\",\"#7F7F7F\",\"#BCBD22\",\"#17BECF\"],\"dragmode\":\"pan\",\"font\":{\"size\":16},\"legend\":{\"font\":{\"size\":17}},\"paper_bgcolor\":\"rgb(171,200,227)\",\"plot_bgcolor\":\"#BAE0F3\",\"showlegend\":false,\"title\":{\"font\":{\"size\":19}},\"uniformtext\":{\"minsize\":12,\"mode\":\"hide\"},\"xaxis\":{\"showgrid\":false,\"zeroline\":false},\"yaxis\":{\"zeroline\":false}}},\"legend\":{\"tracegroupgap\":0},\"margin\":{\"t\":100},\"piecolorway\":[\"rgb(179,226,205)\",\"rgb(253,205,172)\",\"rgb(203,213,232)\",\"rgb(244,202,228)\",\"rgb(230,245,201)\",\"rgb(255,242,174)\",\"rgb(241,226,204)\",\"rgb(204,204,204)\"],\"annotations\":[{\"ax\":0,\"ay\":0,\"text\":\"Sample Size: 5618\",\"x\":1,\"xanchor\":\"right\",\"xref\":\"paper\",\"y\":-0.1,\"yanchor\":\"top\",\"yref\":\"paper\"}],\"uniformtext\":{\"minsize\":9,\"mode\":\"hide\"},\"title\":{\"text\":\"Types of Jobs in Dataset\",\"x\":0.05,\"xanchor\":\"left\"}},                        {\"responsive\": true}                    ).then(function(){\n",
       "                            \n",
       "var gd = document.getElementById('9b313886-aa78-49c9-a59c-c0a703a49921');\n",
       "var x = new MutationObserver(function (mutations, observer) {{\n",
       "        var display = window.getComputedStyle(gd).display;\n",
       "        if (!display || display === 'none') {{\n",
       "            console.log([gd, 'removed!']);\n",
       "            Plotly.purge(gd);\n",
       "            observer.disconnect();\n",
       "        }}\n",
       "}});\n",
       "\n",
       "// Listen for the removal of the full notebook cells\n",
       "var notebookContainer = gd.closest('#notebook-container');\n",
       "if (notebookContainer) {{\n",
       "    x.observe(notebookContainer, {childList: true});\n",
       "}}\n",
       "\n",
       "// Listen for the clearing of the current output cell\n",
       "var outputEl = gd.closest('.output');\n",
       "if (outputEl) {{\n",
       "    x.observe(outputEl, {childList: true});\n",
       "}}\n",
       "\n",
       "                        })                };                });            </script>        </div>"
      ]
     },
     "metadata": {},
     "output_type": "display_data"
    }
   ],
   "source": [
    "fig1 = px.pie(df[\"title\"].value_counts().reset_index(), names=\"index\", values=\"title\", color=\"index\",\n",
    "             color_discrete_sequence=px.colors.qualitative.Pastel2)\n",
    "remove_px_attributes(fig1)\n",
    "fig1.update_traces(textinfo=None, textposition=\"inside\")\n",
    "fig1.add_annotation(text=f\"Sample Size: {sum(~df['title'].isnull())}\", xref=\"paper\", yref=\"paper\", xanchor=\"right\",\n",
    "                   yanchor=\"top\", x=1, y=-0.1, ax=0, ay=0)\n",
    "fig1.update_layout(\n",
    "    uniformtext_minsize=9, uniformtext_mode=\"hide\",\n",
    "    title=dict(\n",
    "    text=\"Types of Jobs in Dataset\",\n",
    "    x=0.05,\n",
    "    xanchor=\"left\"\n",
    "), margin=dict(t=100))"
   ]
  },
  {
   "cell_type": "code",
   "execution_count": 29,
   "metadata": {},
   "outputs": [],
   "source": [
    "df[\"posted_date\"] = df[\"posted_date\"].astype(str)"
   ]
  },
  {
   "cell_type": "code",
   "execution_count": 32,
   "metadata": {
    "execution": {
     "iopub.execute_input": "2023-09-20T06:55:46.253296Z",
     "iopub.status.busy": "2023-09-20T06:55:46.252878Z",
     "iopub.status.idle": "2023-09-20T06:55:46.408623Z",
     "shell.execute_reply": "2023-09-20T06:55:46.407492Z",
     "shell.execute_reply.started": "2023-09-20T06:55:46.253261Z"
    }
   },
   "outputs": [
    {
     "data": {
      "text/html": [
       "<div>                            <div id=\"1c87ca9b-39da-48f3-9696-9e27d1a4abda\" class=\"plotly-graph-div\" style=\"height:525px; width:100%;\"></div>            <script type=\"text/javascript\">                require([\"plotly\"], function(Plotly) {                    window.PLOTLYENV=window.PLOTLYENV || {};                                    if (document.getElementById(\"1c87ca9b-39da-48f3-9696-9e27d1a4abda\")) {                    Plotly.newPlot(                        \"1c87ca9b-39da-48f3-9696-9e27d1a4abda\",                        [{\"hovertemplate\":\"<b>Date:</b> %{x}<br><b>Number of Jobs:</b> %{y}<br>\",\"legendgroup\":\"posted_date\",\"line\":{\"color\":\"#1F77B4\",\"dash\":\"solid\"},\"marker\":{\"symbol\":\"circle\"},\"mode\":\"lines+markers\",\"name\":\"posted_date\",\"orientation\":\"v\",\"showlegend\":true,\"x\":[\"2022-05-13\",\"2022-07-18\",\"2022-08-12\",\"2022-09-18\",\"2022-09-21\",\"2022-09-28\",\"2022-09-29\",\"2022-10-02\",\"2022-10-04\",\"2022-10-05\",\"2022-10-07\",\"2022-10-10\",\"2022-10-12\",\"2022-10-13\",\"2022-10-14\",\"2022-10-16\",\"2022-10-17\",\"2022-10-18\",\"2022-10-19\",\"2022-10-20\",\"2022-10-21\",\"2022-10-23\",\"2022-10-24\",\"2022-10-25\",\"2022-10-26\",\"2022-10-27\",\"2022-10-28\",\"2022-10-29\",\"2022-10-31\",\"2022-11-01\",\"2022-11-02\",\"2022-11-03\",\"2022-11-04\",\"2022-11-05\",\"2022-11-07\",\"2022-11-08\",\"2022-11-09\",\"2022-11-10\",\"2022-11-11\",\"2022-11-13\",\"2022-11-14\",\"2022-11-15\",\"2022-11-16\",\"2022-11-17\",\"2022-11-18\",\"2022-11-19\",\"2022-11-20\",\"2022-11-21\",\"2022-11-22\",\"2022-11-23\"],\"xaxis\":\"x\",\"y\":[1,2,1,3,2,34,2,35,1,12,2,1,75,2,2,38,1,31,71,6,35,3,93,280,168,191,109,1,21,84,149,106,121,71,82,256,94,88,103,73,59,398,350,595,306,83,113,499,538,227],\"yaxis\":\"y\",\"type\":\"scatter\"}],                        {\"template\":{\"data\":{\"bar\":[{\"hovertemplate\":\"<b>%{x}</b><br><i>Count</i>: %{y}\",\"type\":\"bar\"}],\"histogram\":[{\"hovertemplate\":\"<b>%{x}</b><br><i>Count</i>: %{y}\",\"type\":\"histogram\"}],\"pie\":[{\"hovertemplate\":\"<b>%{label}</b><br><i>Count</i>: %{value}\",\"type\":\"pie\"}],\"scatter\":[{\"hovertemplate\":\"<b>%{x}</b><br><i>Count</i>: %{y}\",\"type\":\"scatter\"}]},\"layout\":{\"colorway\":[\"#1F77B4\",\"#FF7F0E\",\"#2CA02C\",\"#D62728\",\"#9467BD\",\"#8C564B\",\"#E377C2\",\"#7F7F7F\",\"#BCBD22\",\"#17BECF\"],\"dragmode\":\"pan\",\"font\":{\"size\":16},\"legend\":{\"font\":{\"size\":17}},\"paper_bgcolor\":\"rgb(171,200,227)\",\"plot_bgcolor\":\"#BAE0F3\",\"showlegend\":false,\"title\":{\"font\":{\"size\":19}},\"uniformtext\":{\"minsize\":12,\"mode\":\"hide\"},\"xaxis\":{\"showgrid\":false,\"zeroline\":false},\"yaxis\":{\"zeroline\":false}}},\"xaxis\":{\"anchor\":\"y\",\"domain\":[0.0,1.0],\"title\":{\"text\":\"Posted Date\"}},\"yaxis\":{\"anchor\":\"x\",\"domain\":[0.0,1.0],\"title\":{\"text\":\"Number of Jobs\"}},\"legend\":{\"title\":{\"text\":\"variable\"},\"tracegroupgap\":0},\"margin\":{\"t\":60,\"r\":50},\"title\":{\"text\":\"Number of Jobs Over Time\"},\"annotations\":[{\"ax\":0,\"ay\":0,\"text\":\"Sample Size: 5618\",\"x\":1,\"xanchor\":\"right\",\"xref\":\"paper\",\"y\":-0.1,\"yanchor\":\"top\",\"yref\":\"paper\"}]},                        {\"responsive\": true}                    ).then(function(){\n",
       "                            \n",
       "var gd = document.getElementById('1c87ca9b-39da-48f3-9696-9e27d1a4abda');\n",
       "var x = new MutationObserver(function (mutations, observer) {{\n",
       "        var display = window.getComputedStyle(gd).display;\n",
       "        if (!display || display === 'none') {{\n",
       "            console.log([gd, 'removed!']);\n",
       "            Plotly.purge(gd);\n",
       "            observer.disconnect();\n",
       "        }}\n",
       "}});\n",
       "\n",
       "// Listen for the removal of the full notebook cells\n",
       "var notebookContainer = gd.closest('#notebook-container');\n",
       "if (notebookContainer) {{\n",
       "    x.observe(notebookContainer, {childList: true});\n",
       "}}\n",
       "\n",
       "// Listen for the clearing of the current output cell\n",
       "var outputEl = gd.closest('.output');\n",
       "if (outputEl) {{\n",
       "    x.observe(outputEl, {childList: true});\n",
       "}}\n",
       "\n",
       "                        })                };                });            </script>        </div>"
      ]
     },
     "metadata": {},
     "output_type": "display_data"
    }
   ],
   "source": [
    "fig2 = px.line(df[\"posted_date\"].value_counts().sort_index())\n",
    "fig2.update_yaxes(title=\"Number of Jobs\")\n",
    "fig2.update_xaxes(title=\"Posted Date\")\n",
    "fig2.update_layout(title=\"Number of Jobs Over Time\", margin=dict(r=50))\n",
    "fig2.update_traces(hovertemplate=\"<b>Date:</b> %{x}<br><b>Number of Jobs:</b> %{y}<br>\", mode=\"lines+markers\")\n",
    "fig2.add_annotation(text=f\"Sample Size: {sum(~df['posted_date'].isnull())}\", xref=\"paper\", yref=\"paper\", xanchor=\"right\",\n",
    "                   yanchor=\"top\", x=1, y=-0.1, ax=0, ay=0)\n",
    "fig2.show()"
   ]
  },
  {
   "cell_type": "code",
   "execution_count": 33,
   "metadata": {},
   "outputs": [
    {
     "data": {
      "text/html": [
       "<div>                            <div id=\"d8ed7f8f-2b23-4f22-8975-ea4e2524b234\" class=\"plotly-graph-div\" style=\"height:525px; width:100%;\"></div>            <script type=\"text/javascript\">                require([\"plotly\"], function(Plotly) {                    window.PLOTLYENV=window.PLOTLYENV || {};                                    if (document.getElementById(\"d8ed7f8f-2b23-4f22-8975-ea4e2524b234\")) {                    Plotly.newPlot(                        \"d8ed7f8f-2b23-4f22-8975-ea4e2524b234\",                        [{\"alignmentgroup\":\"True\",\"bingroup\":\"x\",\"legendgroup\":\"onsite\",\"marker\":{\"color\":\"#1F77B4\",\"pattern\":{\"shape\":\"\"}},\"name\":\"onsite\",\"offsetgroup\":\"onsite\",\"orientation\":\"v\",\"showlegend\":true,\"x\":[\"onsite\",\"onsite\",\"onsite\",\"onsite\",\"onsite\",\"onsite\",\"onsite\",\"onsite\",\"onsite\",\"onsite\",\"onsite\",\"onsite\",\"onsite\",\"onsite\",\"onsite\",\"onsite\",\"onsite\",\"onsite\",\"onsite\",\"onsite\",\"onsite\",\"onsite\",\"onsite\",\"onsite\",\"onsite\",\"onsite\",\"onsite\",\"onsite\",\"onsite\",\"onsite\",\"onsite\",\"onsite\",\"onsite\",\"onsite\",\"onsite\",\"onsite\",\"onsite\",\"onsite\",\"onsite\",\"onsite\",\"onsite\",\"onsite\",\"onsite\",\"onsite\",\"onsite\",\"onsite\",\"onsite\",\"onsite\",\"onsite\",\"onsite\",\"onsite\",\"onsite\",\"onsite\",\"onsite\",\"onsite\",\"onsite\",\"onsite\",\"onsite\",\"onsite\",\"onsite\",\"onsite\",\"onsite\",\"onsite\",\"onsite\",\"onsite\",\"onsite\",\"onsite\",\"onsite\",\"onsite\",\"onsite\",\"onsite\",\"onsite\",\"onsite\",\"onsite\",\"onsite\",\"onsite\",\"onsite\",\"onsite\",\"onsite\",\"onsite\",\"onsite\",\"onsite\",\"onsite\",\"onsite\",\"onsite\",\"onsite\",\"onsite\",\"onsite\",\"onsite\",\"onsite\",\"onsite\",\"onsite\",\"onsite\",\"onsite\",\"onsite\",\"onsite\",\"onsite\",\"onsite\",\"onsite\",\"onsite\",\"onsite\",\"onsite\",\"onsite\",\"onsite\",\"onsite\",\"onsite\",\"onsite\",\"onsite\",\"onsite\",\"onsite\",\"onsite\",\"onsite\",\"onsite\",\"onsite\",\"onsite\",\"onsite\",\"onsite\",\"onsite\",\"onsite\",\"onsite\",\"onsite\",\"onsite\",\"onsite\",\"onsite\",\"onsite\",\"onsite\",\"onsite\",\"onsite\",\"onsite\",\"onsite\",\"onsite\",\"onsite\",\"onsite\",\"onsite\",\"onsite\",\"onsite\",\"onsite\",\"onsite\",\"onsite\",\"onsite\",\"onsite\",\"onsite\",\"onsite\",\"onsite\",\"onsite\",\"onsite\",\"onsite\",\"onsite\",\"onsite\",\"onsite\",\"onsite\",\"onsite\",\"onsite\",\"onsite\",\"onsite\",\"onsite\",\"onsite\",\"onsite\",\"onsite\",\"onsite\",\"onsite\",\"onsite\",\"onsite\",\"onsite\",\"onsite\",\"onsite\",\"onsite\",\"onsite\",\"onsite\",\"onsite\",\"onsite\",\"onsite\",\"onsite\",\"onsite\",\"onsite\",\"onsite\",\"onsite\",\"onsite\",\"onsite\",\"onsite\",\"onsite\",\"onsite\",\"onsite\",\"onsite\",\"onsite\",\"onsite\",\"onsite\",\"onsite\",\"onsite\",\"onsite\",\"onsite\",\"onsite\",\"onsite\",\"onsite\",\"onsite\",\"onsite\",\"onsite\",\"onsite\",\"onsite\",\"onsite\",\"onsite\",\"onsite\",\"onsite\",\"onsite\",\"onsite\",\"onsite\",\"onsite\",\"onsite\",\"onsite\",\"onsite\",\"onsite\",\"onsite\",\"onsite\",\"onsite\",\"onsite\",\"onsite\",\"onsite\",\"onsite\",\"onsite\",\"onsite\",\"onsite\",\"onsite\",\"onsite\",\"onsite\",\"onsite\",\"onsite\",\"onsite\",\"onsite\",\"onsite\",\"onsite\",\"onsite\",\"onsite\",\"onsite\",\"onsite\",\"onsite\",\"onsite\",\"onsite\",\"onsite\",\"onsite\",\"onsite\",\"onsite\",\"onsite\",\"onsite\",\"onsite\",\"onsite\",\"onsite\",\"onsite\",\"onsite\",\"onsite\",\"onsite\",\"onsite\",\"onsite\",\"onsite\",\"onsite\",\"onsite\",\"onsite\",\"onsite\",\"onsite\",\"onsite\",\"onsite\",\"onsite\",\"onsite\",\"onsite\",\"onsite\",\"onsite\",\"onsite\",\"onsite\",\"onsite\",\"onsite\",\"onsite\",\"onsite\",\"onsite\",\"onsite\",\"onsite\",\"onsite\",\"onsite\",\"onsite\",\"onsite\",\"onsite\",\"onsite\",\"onsite\",\"onsite\",\"onsite\",\"onsite\",\"onsite\",\"onsite\",\"onsite\",\"onsite\",\"onsite\",\"onsite\",\"onsite\",\"onsite\",\"onsite\",\"onsite\",\"onsite\",\"onsite\",\"onsite\",\"onsite\",\"onsite\",\"onsite\",\"onsite\",\"onsite\",\"onsite\",\"onsite\",\"onsite\",\"onsite\",\"onsite\",\"onsite\",\"onsite\",\"onsite\",\"onsite\",\"onsite\",\"onsite\",\"onsite\",\"onsite\",\"onsite\",\"onsite\",\"onsite\",\"onsite\",\"onsite\",\"onsite\",\"onsite\",\"onsite\",\"onsite\",\"onsite\",\"onsite\",\"onsite\",\"onsite\",\"onsite\",\"onsite\",\"onsite\",\"onsite\",\"onsite\",\"onsite\",\"onsite\",\"onsite\",\"onsite\",\"onsite\",\"onsite\",\"onsite\",\"onsite\",\"onsite\",\"onsite\",\"onsite\",\"onsite\",\"onsite\",\"onsite\",\"onsite\",\"onsite\",\"onsite\",\"onsite\",\"onsite\",\"onsite\",\"onsite\",\"onsite\",\"onsite\",\"onsite\",\"onsite\",\"onsite\",\"onsite\",\"onsite\",\"onsite\",\"onsite\",\"onsite\",\"onsite\",\"onsite\",\"onsite\",\"onsite\",\"onsite\",\"onsite\",\"onsite\",\"onsite\",\"onsite\",\"onsite\",\"onsite\",\"onsite\",\"onsite\",\"onsite\",\"onsite\",\"onsite\",\"onsite\",\"onsite\",\"onsite\",\"onsite\",\"onsite\",\"onsite\",\"onsite\",\"onsite\",\"onsite\",\"onsite\",\"onsite\",\"onsite\",\"onsite\",\"onsite\",\"onsite\",\"onsite\",\"onsite\",\"onsite\",\"onsite\",\"onsite\",\"onsite\",\"onsite\",\"onsite\",\"onsite\",\"onsite\",\"onsite\",\"onsite\",\"onsite\",\"onsite\",\"onsite\",\"onsite\",\"onsite\",\"onsite\",\"onsite\",\"onsite\",\"onsite\",\"onsite\",\"onsite\",\"onsite\",\"onsite\",\"onsite\",\"onsite\",\"onsite\",\"onsite\",\"onsite\",\"onsite\",\"onsite\",\"onsite\",\"onsite\",\"onsite\",\"onsite\",\"onsite\",\"onsite\",\"onsite\",\"onsite\",\"onsite\",\"onsite\",\"onsite\",\"onsite\",\"onsite\",\"onsite\",\"onsite\",\"onsite\",\"onsite\",\"onsite\",\"onsite\",\"onsite\",\"onsite\",\"onsite\",\"onsite\",\"onsite\",\"onsite\",\"onsite\",\"onsite\",\"onsite\",\"onsite\",\"onsite\",\"onsite\",\"onsite\",\"onsite\",\"onsite\",\"onsite\",\"onsite\",\"onsite\",\"onsite\",\"onsite\",\"onsite\",\"onsite\",\"onsite\",\"onsite\",\"onsite\",\"onsite\",\"onsite\",\"onsite\",\"onsite\",\"onsite\",\"onsite\",\"onsite\",\"onsite\",\"onsite\",\"onsite\",\"onsite\",\"onsite\",\"onsite\",\"onsite\",\"onsite\",\"onsite\",\"onsite\",\"onsite\",\"onsite\",\"onsite\",\"onsite\",\"onsite\",\"onsite\",\"onsite\",\"onsite\",\"onsite\",\"onsite\",\"onsite\",\"onsite\",\"onsite\",\"onsite\",\"onsite\",\"onsite\",\"onsite\",\"onsite\",\"onsite\",\"onsite\",\"onsite\",\"onsite\",\"onsite\",\"onsite\",\"onsite\",\"onsite\",\"onsite\",\"onsite\",\"onsite\",\"onsite\",\"onsite\",\"onsite\",\"onsite\",\"onsite\",\"onsite\",\"onsite\",\"onsite\",\"onsite\",\"onsite\",\"onsite\",\"onsite\",\"onsite\",\"onsite\",\"onsite\",\"onsite\",\"onsite\",\"onsite\",\"onsite\",\"onsite\",\"onsite\",\"onsite\",\"onsite\",\"onsite\",\"onsite\",\"onsite\",\"onsite\",\"onsite\",\"onsite\",\"onsite\",\"onsite\",\"onsite\",\"onsite\",\"onsite\",\"onsite\",\"onsite\",\"onsite\",\"onsite\",\"onsite\",\"onsite\",\"onsite\",\"onsite\",\"onsite\",\"onsite\",\"onsite\",\"onsite\",\"onsite\",\"onsite\",\"onsite\",\"onsite\",\"onsite\",\"onsite\",\"onsite\",\"onsite\",\"onsite\",\"onsite\",\"onsite\",\"onsite\",\"onsite\",\"onsite\",\"onsite\",\"onsite\",\"onsite\",\"onsite\",\"onsite\",\"onsite\",\"onsite\",\"onsite\",\"onsite\",\"onsite\",\"onsite\",\"onsite\",\"onsite\",\"onsite\",\"onsite\",\"onsite\",\"onsite\",\"onsite\",\"onsite\",\"onsite\",\"onsite\",\"onsite\",\"onsite\",\"onsite\",\"onsite\",\"onsite\",\"onsite\",\"onsite\",\"onsite\",\"onsite\",\"onsite\",\"onsite\",\"onsite\",\"onsite\",\"onsite\",\"onsite\",\"onsite\",\"onsite\",\"onsite\",\"onsite\",\"onsite\",\"onsite\",\"onsite\",\"onsite\",\"onsite\",\"onsite\",\"onsite\",\"onsite\",\"onsite\",\"onsite\",\"onsite\",\"onsite\",\"onsite\",\"onsite\",\"onsite\",\"onsite\",\"onsite\",\"onsite\",\"onsite\",\"onsite\",\"onsite\",\"onsite\",\"onsite\",\"onsite\",\"onsite\",\"onsite\",\"onsite\",\"onsite\",\"onsite\",\"onsite\",\"onsite\",\"onsite\",\"onsite\",\"onsite\",\"onsite\",\"onsite\",\"onsite\",\"onsite\",\"onsite\",\"onsite\",\"onsite\",\"onsite\",\"onsite\",\"onsite\",\"onsite\",\"onsite\",\"onsite\",\"onsite\",\"onsite\",\"onsite\",\"onsite\",\"onsite\",\"onsite\",\"onsite\",\"onsite\",\"onsite\",\"onsite\",\"onsite\",\"onsite\",\"onsite\",\"onsite\",\"onsite\",\"onsite\",\"onsite\",\"onsite\",\"onsite\",\"onsite\",\"onsite\",\"onsite\",\"onsite\",\"onsite\",\"onsite\",\"onsite\",\"onsite\",\"onsite\",\"onsite\",\"onsite\",\"onsite\",\"onsite\",\"onsite\",\"onsite\",\"onsite\",\"onsite\",\"onsite\",\"onsite\",\"onsite\",\"onsite\",\"onsite\",\"onsite\",\"onsite\",\"onsite\",\"onsite\",\"onsite\",\"onsite\",\"onsite\",\"onsite\",\"onsite\",\"onsite\",\"onsite\",\"onsite\",\"onsite\",\"onsite\",\"onsite\",\"onsite\",\"onsite\",\"onsite\",\"onsite\",\"onsite\",\"onsite\",\"onsite\",\"onsite\",\"onsite\",\"onsite\",\"onsite\",\"onsite\",\"onsite\",\"onsite\",\"onsite\",\"onsite\",\"onsite\",\"onsite\",\"onsite\",\"onsite\",\"onsite\",\"onsite\",\"onsite\",\"onsite\",\"onsite\",\"onsite\",\"onsite\",\"onsite\",\"onsite\",\"onsite\",\"onsite\",\"onsite\",\"onsite\",\"onsite\",\"onsite\",\"onsite\",\"onsite\",\"onsite\",\"onsite\",\"onsite\",\"onsite\",\"onsite\",\"onsite\",\"onsite\",\"onsite\",\"onsite\",\"onsite\",\"onsite\",\"onsite\",\"onsite\",\"onsite\",\"onsite\",\"onsite\",\"onsite\",\"onsite\",\"onsite\",\"onsite\",\"onsite\",\"onsite\",\"onsite\",\"onsite\",\"onsite\",\"onsite\",\"onsite\",\"onsite\",\"onsite\",\"onsite\",\"onsite\",\"onsite\",\"onsite\",\"onsite\",\"onsite\",\"onsite\",\"onsite\",\"onsite\",\"onsite\",\"onsite\",\"onsite\",\"onsite\",\"onsite\",\"onsite\",\"onsite\",\"onsite\",\"onsite\",\"onsite\",\"onsite\",\"onsite\",\"onsite\",\"onsite\",\"onsite\",\"onsite\",\"onsite\",\"onsite\",\"onsite\",\"onsite\",\"onsite\",\"onsite\",\"onsite\",\"onsite\",\"onsite\",\"onsite\",\"onsite\",\"onsite\",\"onsite\",\"onsite\",\"onsite\",\"onsite\",\"onsite\",\"onsite\",\"onsite\",\"onsite\",\"onsite\",\"onsite\",\"onsite\",\"onsite\",\"onsite\",\"onsite\",\"onsite\",\"onsite\",\"onsite\",\"onsite\",\"onsite\",\"onsite\",\"onsite\",\"onsite\",\"onsite\",\"onsite\",\"onsite\",\"onsite\",\"onsite\",\"onsite\",\"onsite\",\"onsite\",\"onsite\",\"onsite\",\"onsite\",\"onsite\",\"onsite\",\"onsite\",\"onsite\",\"onsite\",\"onsite\",\"onsite\",\"onsite\",\"onsite\",\"onsite\",\"onsite\",\"onsite\",\"onsite\",\"onsite\",\"onsite\",\"onsite\",\"onsite\",\"onsite\",\"onsite\",\"onsite\",\"onsite\",\"onsite\",\"onsite\",\"onsite\",\"onsite\",\"onsite\",\"onsite\",\"onsite\",\"onsite\",\"onsite\",\"onsite\",\"onsite\",\"onsite\",\"onsite\",\"onsite\",\"onsite\",\"onsite\",\"onsite\",\"onsite\",\"onsite\",\"onsite\",\"onsite\",\"onsite\",\"onsite\",\"onsite\",\"onsite\",\"onsite\",\"onsite\",\"onsite\",\"onsite\",\"onsite\",\"onsite\",\"onsite\",\"onsite\",\"onsite\",\"onsite\",\"onsite\",\"onsite\",\"onsite\",\"onsite\",\"onsite\",\"onsite\",\"onsite\",\"onsite\",\"onsite\",\"onsite\",\"onsite\",\"onsite\",\"onsite\",\"onsite\",\"onsite\",\"onsite\",\"onsite\",\"onsite\",\"onsite\",\"onsite\",\"onsite\",\"onsite\",\"onsite\",\"onsite\",\"onsite\",\"onsite\",\"onsite\",\"onsite\",\"onsite\",\"onsite\",\"onsite\",\"onsite\",\"onsite\",\"onsite\",\"onsite\",\"onsite\",\"onsite\",\"onsite\",\"onsite\",\"onsite\",\"onsite\",\"onsite\",\"onsite\",\"onsite\",\"onsite\",\"onsite\",\"onsite\",\"onsite\",\"onsite\",\"onsite\",\"onsite\",\"onsite\",\"onsite\",\"onsite\",\"onsite\",\"onsite\",\"onsite\",\"onsite\",\"onsite\",\"onsite\",\"onsite\",\"onsite\",\"onsite\",\"onsite\",\"onsite\",\"onsite\",\"onsite\",\"onsite\",\"onsite\",\"onsite\",\"onsite\",\"onsite\",\"onsite\",\"onsite\",\"onsite\",\"onsite\",\"onsite\",\"onsite\",\"onsite\",\"onsite\",\"onsite\",\"onsite\",\"onsite\",\"onsite\",\"onsite\",\"onsite\",\"onsite\",\"onsite\",\"onsite\",\"onsite\",\"onsite\",\"onsite\",\"onsite\",\"onsite\",\"onsite\",\"onsite\",\"onsite\",\"onsite\",\"onsite\",\"onsite\",\"onsite\",\"onsite\",\"onsite\",\"onsite\",\"onsite\",\"onsite\",\"onsite\",\"onsite\",\"onsite\",\"onsite\",\"onsite\",\"onsite\",\"onsite\",\"onsite\",\"onsite\",\"onsite\",\"onsite\",\"onsite\",\"onsite\",\"onsite\",\"onsite\",\"onsite\",\"onsite\",\"onsite\",\"onsite\",\"onsite\",\"onsite\",\"onsite\",\"onsite\",\"onsite\",\"onsite\",\"onsite\",\"onsite\",\"onsite\",\"onsite\",\"onsite\",\"onsite\",\"onsite\",\"onsite\",\"onsite\",\"onsite\",\"onsite\",\"onsite\",\"onsite\",\"onsite\",\"onsite\",\"onsite\",\"onsite\",\"onsite\",\"onsite\",\"onsite\",\"onsite\",\"onsite\",\"onsite\",\"onsite\",\"onsite\",\"onsite\",\"onsite\",\"onsite\",\"onsite\",\"onsite\",\"onsite\",\"onsite\",\"onsite\",\"onsite\",\"onsite\",\"onsite\",\"onsite\",\"onsite\",\"onsite\",\"onsite\",\"onsite\",\"onsite\",\"onsite\",\"onsite\",\"onsite\",\"onsite\",\"onsite\",\"onsite\",\"onsite\",\"onsite\",\"onsite\",\"onsite\",\"onsite\",\"onsite\",\"onsite\",\"onsite\",\"onsite\",\"onsite\",\"onsite\",\"onsite\",\"onsite\",\"onsite\",\"onsite\",\"onsite\",\"onsite\",\"onsite\",\"onsite\",\"onsite\",\"onsite\",\"onsite\",\"onsite\",\"onsite\",\"onsite\",\"onsite\",\"onsite\",\"onsite\",\"onsite\",\"onsite\",\"onsite\",\"onsite\",\"onsite\",\"onsite\",\"onsite\",\"onsite\",\"onsite\",\"onsite\",\"onsite\",\"onsite\",\"onsite\",\"onsite\",\"onsite\",\"onsite\",\"onsite\",\"onsite\",\"onsite\",\"onsite\",\"onsite\",\"onsite\",\"onsite\",\"onsite\",\"onsite\",\"onsite\",\"onsite\",\"onsite\",\"onsite\",\"onsite\",\"onsite\",\"onsite\",\"onsite\",\"onsite\",\"onsite\",\"onsite\",\"onsite\",\"onsite\",\"onsite\",\"onsite\",\"onsite\",\"onsite\",\"onsite\",\"onsite\",\"onsite\",\"onsite\",\"onsite\",\"onsite\",\"onsite\",\"onsite\",\"onsite\",\"onsite\",\"onsite\",\"onsite\",\"onsite\",\"onsite\",\"onsite\",\"onsite\",\"onsite\",\"onsite\",\"onsite\",\"onsite\",\"onsite\",\"onsite\",\"onsite\",\"onsite\",\"onsite\",\"onsite\",\"onsite\",\"onsite\",\"onsite\",\"onsite\",\"onsite\",\"onsite\",\"onsite\",\"onsite\",\"onsite\",\"onsite\",\"onsite\",\"onsite\",\"onsite\",\"onsite\",\"onsite\",\"onsite\",\"onsite\",\"onsite\",\"onsite\",\"onsite\",\"onsite\",\"onsite\",\"onsite\",\"onsite\",\"onsite\",\"onsite\",\"onsite\",\"onsite\",\"onsite\",\"onsite\",\"onsite\",\"onsite\",\"onsite\",\"onsite\",\"onsite\",\"onsite\",\"onsite\",\"onsite\",\"onsite\",\"onsite\",\"onsite\",\"onsite\",\"onsite\",\"onsite\",\"onsite\",\"onsite\",\"onsite\",\"onsite\",\"onsite\",\"onsite\",\"onsite\",\"onsite\",\"onsite\",\"onsite\",\"onsite\",\"onsite\",\"onsite\",\"onsite\",\"onsite\",\"onsite\",\"onsite\",\"onsite\",\"onsite\",\"onsite\",\"onsite\",\"onsite\",\"onsite\",\"onsite\",\"onsite\",\"onsite\",\"onsite\",\"onsite\",\"onsite\",\"onsite\",\"onsite\",\"onsite\",\"onsite\",\"onsite\",\"onsite\",\"onsite\",\"onsite\",\"onsite\",\"onsite\",\"onsite\",\"onsite\",\"onsite\",\"onsite\",\"onsite\",\"onsite\",\"onsite\",\"onsite\",\"onsite\",\"onsite\",\"onsite\",\"onsite\",\"onsite\",\"onsite\",\"onsite\",\"onsite\",\"onsite\",\"onsite\",\"onsite\",\"onsite\",\"onsite\",\"onsite\",\"onsite\",\"onsite\",\"onsite\",\"onsite\",\"onsite\",\"onsite\",\"onsite\",\"onsite\",\"onsite\",\"onsite\",\"onsite\",\"onsite\",\"onsite\",\"onsite\",\"onsite\",\"onsite\",\"onsite\",\"onsite\",\"onsite\",\"onsite\",\"onsite\",\"onsite\",\"onsite\",\"onsite\",\"onsite\",\"onsite\",\"onsite\",\"onsite\",\"onsite\",\"onsite\",\"onsite\",\"onsite\",\"onsite\",\"onsite\",\"onsite\",\"onsite\",\"onsite\",\"onsite\",\"onsite\",\"onsite\",\"onsite\",\"onsite\",\"onsite\",\"onsite\",\"onsite\",\"onsite\",\"onsite\",\"onsite\",\"onsite\",\"onsite\",\"onsite\",\"onsite\",\"onsite\",\"onsite\",\"onsite\",\"onsite\",\"onsite\",\"onsite\",\"onsite\",\"onsite\",\"onsite\",\"onsite\",\"onsite\",\"onsite\",\"onsite\",\"onsite\",\"onsite\",\"onsite\",\"onsite\",\"onsite\",\"onsite\",\"onsite\",\"onsite\",\"onsite\",\"onsite\",\"onsite\",\"onsite\",\"onsite\",\"onsite\",\"onsite\",\"onsite\",\"onsite\",\"onsite\",\"onsite\",\"onsite\",\"onsite\",\"onsite\",\"onsite\",\"onsite\",\"onsite\",\"onsite\",\"onsite\",\"onsite\",\"onsite\",\"onsite\",\"onsite\",\"onsite\",\"onsite\",\"onsite\",\"onsite\",\"onsite\",\"onsite\",\"onsite\",\"onsite\",\"onsite\",\"onsite\",\"onsite\",\"onsite\",\"onsite\",\"onsite\",\"onsite\",\"onsite\",\"onsite\",\"onsite\",\"onsite\",\"onsite\",\"onsite\",\"onsite\",\"onsite\",\"onsite\",\"onsite\",\"onsite\",\"onsite\",\"onsite\",\"onsite\",\"onsite\",\"onsite\",\"onsite\",\"onsite\",\"onsite\",\"onsite\",\"onsite\",\"onsite\",\"onsite\",\"onsite\",\"onsite\",\"onsite\",\"onsite\",\"onsite\",\"onsite\",\"onsite\",\"onsite\",\"onsite\",\"onsite\",\"onsite\",\"onsite\",\"onsite\",\"onsite\",\"onsite\",\"onsite\",\"onsite\",\"onsite\",\"onsite\",\"onsite\",\"onsite\",\"onsite\",\"onsite\",\"onsite\",\"onsite\",\"onsite\",\"onsite\",\"onsite\",\"onsite\",\"onsite\",\"onsite\",\"onsite\",\"onsite\",\"onsite\",\"onsite\",\"onsite\",\"onsite\",\"onsite\",\"onsite\",\"onsite\",\"onsite\",\"onsite\",\"onsite\",\"onsite\",\"onsite\",\"onsite\",\"onsite\",\"onsite\",\"onsite\",\"onsite\",\"onsite\",\"onsite\",\"onsite\",\"onsite\",\"onsite\",\"onsite\",\"onsite\",\"onsite\",\"onsite\",\"onsite\",\"onsite\",\"onsite\",\"onsite\",\"onsite\",\"onsite\",\"onsite\",\"onsite\",\"onsite\",\"onsite\",\"onsite\",\"onsite\",\"onsite\",\"onsite\",\"onsite\",\"onsite\",\"onsite\",\"onsite\",\"onsite\",\"onsite\",\"onsite\",\"onsite\",\"onsite\",\"onsite\",\"onsite\",\"onsite\",\"onsite\",\"onsite\",\"onsite\",\"onsite\",\"onsite\",\"onsite\",\"onsite\",\"onsite\",\"onsite\",\"onsite\",\"onsite\",\"onsite\",\"onsite\",\"onsite\",\"onsite\",\"onsite\",\"onsite\",\"onsite\",\"onsite\",\"onsite\",\"onsite\",\"onsite\",\"onsite\",\"onsite\",\"onsite\",\"onsite\",\"onsite\",\"onsite\",\"onsite\",\"onsite\",\"onsite\",\"onsite\",\"onsite\",\"onsite\",\"onsite\",\"onsite\",\"onsite\",\"onsite\",\"onsite\",\"onsite\",\"onsite\",\"onsite\",\"onsite\",\"onsite\",\"onsite\",\"onsite\",\"onsite\",\"onsite\",\"onsite\",\"onsite\",\"onsite\",\"onsite\",\"onsite\",\"onsite\",\"onsite\",\"onsite\",\"onsite\",\"onsite\",\"onsite\",\"onsite\",\"onsite\",\"onsite\",\"onsite\",\"onsite\",\"onsite\",\"onsite\",\"onsite\",\"onsite\",\"onsite\",\"onsite\",\"onsite\",\"onsite\",\"onsite\",\"onsite\",\"onsite\",\"onsite\",\"onsite\",\"onsite\",\"onsite\",\"onsite\",\"onsite\",\"onsite\",\"onsite\",\"onsite\",\"onsite\",\"onsite\",\"onsite\",\"onsite\",\"onsite\",\"onsite\",\"onsite\",\"onsite\",\"onsite\",\"onsite\",\"onsite\",\"onsite\",\"onsite\",\"onsite\",\"onsite\",\"onsite\",\"onsite\",\"onsite\",\"onsite\",\"onsite\",\"onsite\",\"onsite\",\"onsite\",\"onsite\",\"onsite\",\"onsite\",\"onsite\",\"onsite\",\"onsite\",\"onsite\",\"onsite\",\"onsite\",\"onsite\",\"onsite\",\"onsite\",\"onsite\",\"onsite\",\"onsite\",\"onsite\",\"onsite\",\"onsite\",\"onsite\",\"onsite\",\"onsite\",\"onsite\",\"onsite\",\"onsite\",\"onsite\",\"onsite\",\"onsite\",\"onsite\",\"onsite\",\"onsite\",\"onsite\",\"onsite\",\"onsite\",\"onsite\",\"onsite\",\"onsite\",\"onsite\",\"onsite\",\"onsite\",\"onsite\",\"onsite\",\"onsite\",\"onsite\",\"onsite\",\"onsite\",\"onsite\",\"onsite\",\"onsite\",\"onsite\",\"onsite\",\"onsite\",\"onsite\",\"onsite\",\"onsite\",\"onsite\",\"onsite\",\"onsite\",\"onsite\",\"onsite\",\"onsite\",\"onsite\",\"onsite\",\"onsite\",\"onsite\",\"onsite\",\"onsite\",\"onsite\",\"onsite\",\"onsite\",\"onsite\",\"onsite\",\"onsite\",\"onsite\",\"onsite\",\"onsite\",\"onsite\",\"onsite\",\"onsite\",\"onsite\",\"onsite\",\"onsite\",\"onsite\",\"onsite\",\"onsite\",\"onsite\",\"onsite\",\"onsite\",\"onsite\",\"onsite\",\"onsite\",\"onsite\",\"onsite\",\"onsite\",\"onsite\",\"onsite\",\"onsite\",\"onsite\",\"onsite\",\"onsite\",\"onsite\",\"onsite\",\"onsite\",\"onsite\",\"onsite\",\"onsite\",\"onsite\",\"onsite\",\"onsite\",\"onsite\",\"onsite\",\"onsite\",\"onsite\",\"onsite\",\"onsite\",\"onsite\",\"onsite\",\"onsite\",\"onsite\",\"onsite\",\"onsite\",\"onsite\",\"onsite\",\"onsite\",\"onsite\",\"onsite\",\"onsite\",\"onsite\",\"onsite\",\"onsite\",\"onsite\",\"onsite\",\"onsite\",\"onsite\",\"onsite\",\"onsite\",\"onsite\",\"onsite\",\"onsite\",\"onsite\",\"onsite\",\"onsite\",\"onsite\",\"onsite\",\"onsite\",\"onsite\",\"onsite\",\"onsite\",\"onsite\",\"onsite\",\"onsite\",\"onsite\",\"onsite\",\"onsite\",\"onsite\",\"onsite\",\"onsite\",\"onsite\",\"onsite\",\"onsite\",\"onsite\",\"onsite\",\"onsite\",\"onsite\",\"onsite\",\"onsite\",\"onsite\",\"onsite\",\"onsite\",\"onsite\",\"onsite\",\"onsite\",\"onsite\",\"onsite\",\"onsite\",\"onsite\",\"onsite\",\"onsite\",\"onsite\",\"onsite\",\"onsite\",\"onsite\",\"onsite\",\"onsite\",\"onsite\",\"onsite\",\"onsite\",\"onsite\",\"onsite\",\"onsite\",\"onsite\",\"onsite\",\"onsite\",\"onsite\",\"onsite\",\"onsite\",\"onsite\",\"onsite\",\"onsite\",\"onsite\",\"onsite\",\"onsite\",\"onsite\",\"onsite\",\"onsite\",\"onsite\",\"onsite\",\"onsite\",\"onsite\",\"onsite\",\"onsite\",\"onsite\",\"onsite\",\"onsite\",\"onsite\",\"onsite\",\"onsite\",\"onsite\",\"onsite\",\"onsite\",\"onsite\",\"onsite\",\"onsite\",\"onsite\",\"onsite\",\"onsite\",\"onsite\",\"onsite\",\"onsite\",\"onsite\",\"onsite\",\"onsite\",\"onsite\",\"onsite\",\"onsite\",\"onsite\",\"onsite\",\"onsite\",\"onsite\",\"onsite\",\"onsite\",\"onsite\",\"onsite\",\"onsite\",\"onsite\",\"onsite\",\"onsite\",\"onsite\",\"onsite\",\"onsite\",\"onsite\",\"onsite\",\"onsite\",\"onsite\",\"onsite\",\"onsite\",\"onsite\",\"onsite\",\"onsite\",\"onsite\",\"onsite\",\"onsite\",\"onsite\",\"onsite\",\"onsite\",\"onsite\",\"onsite\",\"onsite\",\"onsite\",\"onsite\",\"onsite\",\"onsite\",\"onsite\",\"onsite\",\"onsite\",\"onsite\",\"onsite\",\"onsite\",\"onsite\",\"onsite\",\"onsite\",\"onsite\",\"onsite\",\"onsite\",\"onsite\",\"onsite\",\"onsite\",\"onsite\",\"onsite\",\"onsite\",\"onsite\",\"onsite\",\"onsite\",\"onsite\",\"onsite\",\"onsite\",\"onsite\",\"onsite\",\"onsite\",\"onsite\",\"onsite\",\"onsite\",\"onsite\",\"onsite\",\"onsite\",\"onsite\",\"onsite\",\"onsite\"],\"xaxis\":\"x\",\"yaxis\":\"y\",\"type\":\"histogram\"},{\"alignmentgroup\":\"True\",\"bingroup\":\"x\",\"legendgroup\":\"remote\",\"marker\":{\"color\":\"#FF7F0E\",\"pattern\":{\"shape\":\"\"}},\"name\":\"remote\",\"offsetgroup\":\"remote\",\"orientation\":\"v\",\"showlegend\":true,\"x\":[\"remote\",\"remote\",\"remote\",\"remote\",\"remote\",\"remote\",\"remote\",\"remote\",\"remote\",\"remote\",\"remote\",\"remote\",\"remote\",\"remote\",\"remote\",\"remote\",\"remote\",\"remote\",\"remote\",\"remote\",\"remote\",\"remote\",\"remote\",\"remote\",\"remote\",\"remote\",\"remote\",\"remote\",\"remote\",\"remote\",\"remote\",\"remote\",\"remote\",\"remote\",\"remote\",\"remote\",\"remote\",\"remote\",\"remote\",\"remote\",\"remote\",\"remote\",\"remote\",\"remote\",\"remote\",\"remote\",\"remote\",\"remote\",\"remote\",\"remote\",\"remote\",\"remote\",\"remote\",\"remote\",\"remote\",\"remote\",\"remote\",\"remote\",\"remote\",\"remote\",\"remote\",\"remote\",\"remote\",\"remote\",\"remote\",\"remote\",\"remote\",\"remote\",\"remote\",\"remote\",\"remote\",\"remote\",\"remote\",\"remote\",\"remote\",\"remote\",\"remote\",\"remote\",\"remote\",\"remote\",\"remote\",\"remote\",\"remote\",\"remote\",\"remote\",\"remote\",\"remote\",\"remote\",\"remote\",\"remote\",\"remote\",\"remote\",\"remote\",\"remote\",\"remote\",\"remote\",\"remote\",\"remote\",\"remote\",\"remote\",\"remote\",\"remote\",\"remote\",\"remote\",\"remote\",\"remote\",\"remote\",\"remote\",\"remote\",\"remote\",\"remote\",\"remote\",\"remote\",\"remote\",\"remote\",\"remote\",\"remote\",\"remote\",\"remote\",\"remote\",\"remote\",\"remote\",\"remote\",\"remote\",\"remote\",\"remote\",\"remote\",\"remote\",\"remote\",\"remote\",\"remote\",\"remote\",\"remote\",\"remote\",\"remote\",\"remote\",\"remote\",\"remote\",\"remote\",\"remote\",\"remote\",\"remote\",\"remote\",\"remote\",\"remote\",\"remote\",\"remote\",\"remote\",\"remote\",\"remote\",\"remote\",\"remote\",\"remote\",\"remote\",\"remote\",\"remote\",\"remote\",\"remote\",\"remote\",\"remote\",\"remote\",\"remote\",\"remote\",\"remote\",\"remote\",\"remote\",\"remote\",\"remote\",\"remote\",\"remote\",\"remote\",\"remote\",\"remote\",\"remote\",\"remote\",\"remote\",\"remote\",\"remote\",\"remote\",\"remote\",\"remote\",\"remote\",\"remote\",\"remote\",\"remote\",\"remote\",\"remote\",\"remote\",\"remote\",\"remote\",\"remote\",\"remote\",\"remote\",\"remote\",\"remote\",\"remote\",\"remote\",\"remote\",\"remote\",\"remote\",\"remote\",\"remote\",\"remote\",\"remote\",\"remote\",\"remote\",\"remote\",\"remote\",\"remote\",\"remote\",\"remote\",\"remote\",\"remote\",\"remote\",\"remote\",\"remote\",\"remote\",\"remote\",\"remote\",\"remote\",\"remote\",\"remote\",\"remote\",\"remote\",\"remote\",\"remote\",\"remote\",\"remote\",\"remote\",\"remote\",\"remote\",\"remote\",\"remote\",\"remote\",\"remote\",\"remote\",\"remote\",\"remote\",\"remote\",\"remote\",\"remote\",\"remote\",\"remote\",\"remote\",\"remote\",\"remote\",\"remote\",\"remote\",\"remote\",\"remote\",\"remote\",\"remote\",\"remote\",\"remote\",\"remote\",\"remote\",\"remote\",\"remote\",\"remote\",\"remote\",\"remote\",\"remote\",\"remote\",\"remote\",\"remote\",\"remote\",\"remote\",\"remote\",\"remote\",\"remote\",\"remote\",\"remote\",\"remote\",\"remote\",\"remote\",\"remote\",\"remote\",\"remote\",\"remote\",\"remote\",\"remote\",\"remote\",\"remote\",\"remote\",\"remote\",\"remote\",\"remote\",\"remote\",\"remote\",\"remote\",\"remote\",\"remote\",\"remote\",\"remote\",\"remote\",\"remote\",\"remote\",\"remote\",\"remote\",\"remote\",\"remote\",\"remote\",\"remote\",\"remote\",\"remote\",\"remote\",\"remote\",\"remote\",\"remote\",\"remote\",\"remote\",\"remote\",\"remote\",\"remote\",\"remote\",\"remote\",\"remote\",\"remote\",\"remote\",\"remote\",\"remote\",\"remote\",\"remote\",\"remote\",\"remote\",\"remote\",\"remote\",\"remote\",\"remote\",\"remote\",\"remote\",\"remote\",\"remote\",\"remote\",\"remote\",\"remote\",\"remote\",\"remote\",\"remote\",\"remote\",\"remote\",\"remote\",\"remote\",\"remote\",\"remote\",\"remote\",\"remote\",\"remote\",\"remote\",\"remote\",\"remote\",\"remote\",\"remote\",\"remote\",\"remote\",\"remote\",\"remote\",\"remote\",\"remote\",\"remote\",\"remote\",\"remote\",\"remote\",\"remote\",\"remote\",\"remote\",\"remote\",\"remote\",\"remote\",\"remote\",\"remote\",\"remote\",\"remote\",\"remote\",\"remote\",\"remote\",\"remote\",\"remote\",\"remote\",\"remote\",\"remote\",\"remote\",\"remote\",\"remote\",\"remote\",\"remote\",\"remote\",\"remote\",\"remote\",\"remote\",\"remote\",\"remote\",\"remote\",\"remote\",\"remote\",\"remote\",\"remote\",\"remote\",\"remote\",\"remote\",\"remote\",\"remote\",\"remote\",\"remote\",\"remote\",\"remote\",\"remote\",\"remote\",\"remote\",\"remote\",\"remote\",\"remote\",\"remote\",\"remote\",\"remote\",\"remote\",\"remote\",\"remote\",\"remote\",\"remote\",\"remote\",\"remote\",\"remote\",\"remote\",\"remote\",\"remote\",\"remote\",\"remote\",\"remote\",\"remote\",\"remote\",\"remote\",\"remote\",\"remote\",\"remote\",\"remote\",\"remote\",\"remote\",\"remote\",\"remote\",\"remote\",\"remote\",\"remote\",\"remote\",\"remote\",\"remote\",\"remote\",\"remote\",\"remote\",\"remote\",\"remote\",\"remote\",\"remote\",\"remote\",\"remote\",\"remote\",\"remote\",\"remote\",\"remote\",\"remote\",\"remote\",\"remote\",\"remote\",\"remote\",\"remote\",\"remote\",\"remote\",\"remote\",\"remote\",\"remote\",\"remote\",\"remote\",\"remote\",\"remote\",\"remote\",\"remote\",\"remote\",\"remote\",\"remote\",\"remote\",\"remote\",\"remote\",\"remote\",\"remote\",\"remote\",\"remote\",\"remote\",\"remote\",\"remote\",\"remote\",\"remote\",\"remote\",\"remote\",\"remote\",\"remote\",\"remote\",\"remote\",\"remote\",\"remote\",\"remote\",\"remote\",\"remote\",\"remote\",\"remote\",\"remote\",\"remote\",\"remote\",\"remote\",\"remote\",\"remote\",\"remote\",\"remote\",\"remote\",\"remote\",\"remote\",\"remote\",\"remote\",\"remote\",\"remote\",\"remote\",\"remote\",\"remote\",\"remote\",\"remote\",\"remote\",\"remote\",\"remote\",\"remote\",\"remote\",\"remote\",\"remote\",\"remote\",\"remote\",\"remote\",\"remote\",\"remote\",\"remote\",\"remote\",\"remote\",\"remote\",\"remote\",\"remote\",\"remote\",\"remote\",\"remote\",\"remote\",\"remote\",\"remote\",\"remote\",\"remote\",\"remote\",\"remote\",\"remote\",\"remote\",\"remote\",\"remote\",\"remote\",\"remote\",\"remote\",\"remote\",\"remote\",\"remote\",\"remote\",\"remote\",\"remote\",\"remote\",\"remote\",\"remote\",\"remote\",\"remote\",\"remote\",\"remote\",\"remote\",\"remote\",\"remote\",\"remote\",\"remote\",\"remote\",\"remote\",\"remote\",\"remote\",\"remote\",\"remote\",\"remote\",\"remote\",\"remote\",\"remote\",\"remote\",\"remote\",\"remote\",\"remote\",\"remote\",\"remote\",\"remote\",\"remote\",\"remote\",\"remote\",\"remote\",\"remote\",\"remote\",\"remote\",\"remote\",\"remote\",\"remote\",\"remote\",\"remote\",\"remote\",\"remote\",\"remote\",\"remote\",\"remote\",\"remote\",\"remote\",\"remote\",\"remote\",\"remote\",\"remote\",\"remote\",\"remote\",\"remote\",\"remote\",\"remote\",\"remote\",\"remote\",\"remote\",\"remote\",\"remote\",\"remote\",\"remote\",\"remote\",\"remote\",\"remote\",\"remote\",\"remote\",\"remote\",\"remote\",\"remote\",\"remote\",\"remote\",\"remote\",\"remote\",\"remote\",\"remote\",\"remote\",\"remote\",\"remote\",\"remote\",\"remote\",\"remote\",\"remote\",\"remote\",\"remote\",\"remote\",\"remote\",\"remote\",\"remote\",\"remote\",\"remote\",\"remote\",\"remote\",\"remote\",\"remote\",\"remote\",\"remote\",\"remote\",\"remote\",\"remote\",\"remote\",\"remote\",\"remote\",\"remote\",\"remote\",\"remote\",\"remote\",\"remote\",\"remote\",\"remote\",\"remote\",\"remote\",\"remote\",\"remote\",\"remote\",\"remote\",\"remote\",\"remote\",\"remote\",\"remote\",\"remote\",\"remote\",\"remote\",\"remote\",\"remote\",\"remote\",\"remote\",\"remote\",\"remote\",\"remote\",\"remote\",\"remote\",\"remote\",\"remote\",\"remote\",\"remote\",\"remote\",\"remote\",\"remote\",\"remote\",\"remote\",\"remote\",\"remote\",\"remote\",\"remote\",\"remote\",\"remote\",\"remote\",\"remote\",\"remote\",\"remote\",\"remote\",\"remote\",\"remote\",\"remote\",\"remote\",\"remote\",\"remote\",\"remote\",\"remote\",\"remote\",\"remote\",\"remote\",\"remote\",\"remote\",\"remote\",\"remote\",\"remote\",\"remote\",\"remote\",\"remote\",\"remote\",\"remote\",\"remote\",\"remote\",\"remote\",\"remote\",\"remote\",\"remote\",\"remote\",\"remote\",\"remote\",\"remote\",\"remote\",\"remote\",\"remote\",\"remote\",\"remote\",\"remote\",\"remote\",\"remote\",\"remote\",\"remote\",\"remote\",\"remote\",\"remote\",\"remote\",\"remote\",\"remote\",\"remote\",\"remote\",\"remote\",\"remote\",\"remote\",\"remote\",\"remote\",\"remote\",\"remote\",\"remote\",\"remote\",\"remote\",\"remote\",\"remote\",\"remote\",\"remote\",\"remote\",\"remote\",\"remote\",\"remote\",\"remote\",\"remote\",\"remote\",\"remote\",\"remote\",\"remote\",\"remote\",\"remote\",\"remote\",\"remote\",\"remote\",\"remote\",\"remote\",\"remote\",\"remote\",\"remote\",\"remote\",\"remote\",\"remote\",\"remote\",\"remote\",\"remote\",\"remote\",\"remote\",\"remote\",\"remote\",\"remote\",\"remote\",\"remote\",\"remote\",\"remote\",\"remote\",\"remote\",\"remote\",\"remote\",\"remote\",\"remote\",\"remote\",\"remote\",\"remote\",\"remote\",\"remote\",\"remote\",\"remote\",\"remote\",\"remote\",\"remote\",\"remote\",\"remote\",\"remote\",\"remote\",\"remote\",\"remote\",\"remote\",\"remote\",\"remote\",\"remote\",\"remote\",\"remote\",\"remote\",\"remote\",\"remote\",\"remote\",\"remote\",\"remote\",\"remote\",\"remote\",\"remote\",\"remote\",\"remote\",\"remote\",\"remote\",\"remote\",\"remote\",\"remote\",\"remote\",\"remote\",\"remote\",\"remote\",\"remote\",\"remote\",\"remote\",\"remote\",\"remote\",\"remote\",\"remote\",\"remote\",\"remote\",\"remote\",\"remote\",\"remote\",\"remote\",\"remote\",\"remote\",\"remote\",\"remote\",\"remote\",\"remote\",\"remote\",\"remote\",\"remote\",\"remote\",\"remote\",\"remote\",\"remote\",\"remote\",\"remote\",\"remote\",\"remote\",\"remote\",\"remote\",\"remote\",\"remote\",\"remote\",\"remote\",\"remote\",\"remote\",\"remote\",\"remote\",\"remote\",\"remote\",\"remote\",\"remote\",\"remote\",\"remote\",\"remote\",\"remote\",\"remote\",\"remote\",\"remote\",\"remote\",\"remote\",\"remote\",\"remote\",\"remote\",\"remote\",\"remote\",\"remote\",\"remote\",\"remote\",\"remote\",\"remote\",\"remote\",\"remote\",\"remote\",\"remote\",\"remote\",\"remote\",\"remote\",\"remote\",\"remote\",\"remote\",\"remote\",\"remote\",\"remote\",\"remote\",\"remote\",\"remote\",\"remote\",\"remote\",\"remote\",\"remote\",\"remote\",\"remote\",\"remote\",\"remote\",\"remote\",\"remote\",\"remote\",\"remote\",\"remote\",\"remote\",\"remote\",\"remote\",\"remote\",\"remote\",\"remote\",\"remote\",\"remote\",\"remote\",\"remote\",\"remote\",\"remote\",\"remote\",\"remote\",\"remote\",\"remote\",\"remote\",\"remote\",\"remote\",\"remote\",\"remote\",\"remote\",\"remote\",\"remote\",\"remote\",\"remote\",\"remote\",\"remote\",\"remote\",\"remote\",\"remote\",\"remote\",\"remote\",\"remote\",\"remote\",\"remote\",\"remote\",\"remote\",\"remote\",\"remote\",\"remote\",\"remote\",\"remote\",\"remote\",\"remote\",\"remote\",\"remote\",\"remote\",\"remote\",\"remote\",\"remote\",\"remote\",\"remote\",\"remote\",\"remote\",\"remote\",\"remote\",\"remote\",\"remote\",\"remote\",\"remote\",\"remote\",\"remote\",\"remote\",\"remote\",\"remote\",\"remote\",\"remote\",\"remote\",\"remote\",\"remote\",\"remote\",\"remote\",\"remote\",\"remote\",\"remote\",\"remote\",\"remote\",\"remote\",\"remote\",\"remote\",\"remote\",\"remote\",\"remote\",\"remote\",\"remote\",\"remote\",\"remote\",\"remote\",\"remote\",\"remote\",\"remote\",\"remote\",\"remote\",\"remote\",\"remote\",\"remote\",\"remote\",\"remote\",\"remote\",\"remote\",\"remote\",\"remote\",\"remote\",\"remote\",\"remote\",\"remote\",\"remote\",\"remote\",\"remote\",\"remote\",\"remote\",\"remote\",\"remote\",\"remote\",\"remote\",\"remote\",\"remote\",\"remote\",\"remote\",\"remote\",\"remote\",\"remote\",\"remote\",\"remote\",\"remote\",\"remote\",\"remote\",\"remote\",\"remote\",\"remote\",\"remote\",\"remote\",\"remote\",\"remote\",\"remote\",\"remote\",\"remote\",\"remote\",\"remote\",\"remote\",\"remote\",\"remote\",\"remote\",\"remote\",\"remote\",\"remote\",\"remote\",\"remote\",\"remote\",\"remote\",\"remote\",\"remote\",\"remote\",\"remote\",\"remote\",\"remote\",\"remote\",\"remote\",\"remote\",\"remote\",\"remote\",\"remote\",\"remote\",\"remote\",\"remote\",\"remote\",\"remote\",\"remote\",\"remote\",\"remote\",\"remote\",\"remote\",\"remote\",\"remote\",\"remote\",\"remote\",\"remote\",\"remote\",\"remote\",\"remote\",\"remote\",\"remote\",\"remote\",\"remote\",\"remote\",\"remote\",\"remote\",\"remote\",\"remote\",\"remote\",\"remote\",\"remote\",\"remote\",\"remote\",\"remote\",\"remote\",\"remote\",\"remote\",\"remote\",\"remote\",\"remote\",\"remote\",\"remote\",\"remote\",\"remote\",\"remote\",\"remote\",\"remote\",\"remote\",\"remote\",\"remote\",\"remote\",\"remote\",\"remote\",\"remote\",\"remote\",\"remote\",\"remote\",\"remote\",\"remote\",\"remote\",\"remote\",\"remote\",\"remote\",\"remote\",\"remote\",\"remote\",\"remote\",\"remote\",\"remote\",\"remote\",\"remote\",\"remote\",\"remote\",\"remote\",\"remote\",\"remote\",\"remote\",\"remote\",\"remote\",\"remote\",\"remote\",\"remote\",\"remote\",\"remote\",\"remote\",\"remote\",\"remote\",\"remote\",\"remote\",\"remote\",\"remote\",\"remote\",\"remote\",\"remote\",\"remote\",\"remote\",\"remote\",\"remote\",\"remote\",\"remote\",\"remote\",\"remote\",\"remote\",\"remote\",\"remote\",\"remote\",\"remote\",\"remote\",\"remote\",\"remote\",\"remote\",\"remote\",\"remote\",\"remote\",\"remote\",\"remote\",\"remote\",\"remote\",\"remote\",\"remote\",\"remote\",\"remote\",\"remote\",\"remote\",\"remote\",\"remote\",\"remote\",\"remote\",\"remote\",\"remote\",\"remote\",\"remote\",\"remote\",\"remote\",\"remote\",\"remote\",\"remote\",\"remote\",\"remote\",\"remote\",\"remote\",\"remote\",\"remote\",\"remote\",\"remote\",\"remote\",\"remote\",\"remote\",\"remote\",\"remote\",\"remote\",\"remote\",\"remote\",\"remote\",\"remote\",\"remote\",\"remote\",\"remote\",\"remote\",\"remote\",\"remote\",\"remote\",\"remote\",\"remote\",\"remote\",\"remote\",\"remote\",\"remote\",\"remote\",\"remote\",\"remote\",\"remote\",\"remote\",\"remote\",\"remote\",\"remote\",\"remote\",\"remote\",\"remote\",\"remote\",\"remote\",\"remote\",\"remote\",\"remote\",\"remote\",\"remote\",\"remote\",\"remote\",\"remote\",\"remote\",\"remote\",\"remote\",\"remote\",\"remote\",\"remote\",\"remote\",\"remote\",\"remote\",\"remote\",\"remote\",\"remote\",\"remote\",\"remote\",\"remote\",\"remote\",\"remote\",\"remote\",\"remote\",\"remote\",\"remote\",\"remote\",\"remote\",\"remote\",\"remote\",\"remote\",\"remote\",\"remote\",\"remote\",\"remote\",\"remote\",\"remote\",\"remote\",\"remote\",\"remote\",\"remote\",\"remote\",\"remote\",\"remote\",\"remote\",\"remote\",\"remote\",\"remote\",\"remote\",\"remote\",\"remote\",\"remote\",\"remote\",\"remote\",\"remote\",\"remote\",\"remote\",\"remote\",\"remote\",\"remote\",\"remote\",\"remote\",\"remote\",\"remote\",\"remote\",\"remote\",\"remote\",\"remote\",\"remote\",\"remote\",\"remote\",\"remote\",\"remote\",\"remote\",\"remote\",\"remote\",\"remote\",\"remote\",\"remote\",\"remote\",\"remote\",\"remote\",\"remote\",\"remote\",\"remote\",\"remote\",\"remote\",\"remote\",\"remote\",\"remote\",\"remote\",\"remote\",\"remote\",\"remote\",\"remote\",\"remote\",\"remote\",\"remote\",\"remote\",\"remote\",\"remote\",\"remote\",\"remote\",\"remote\",\"remote\",\"remote\",\"remote\",\"remote\",\"remote\",\"remote\",\"remote\",\"remote\",\"remote\",\"remote\",\"remote\",\"remote\",\"remote\",\"remote\",\"remote\",\"remote\",\"remote\",\"remote\",\"remote\",\"remote\",\"remote\",\"remote\",\"remote\",\"remote\",\"remote\",\"remote\",\"remote\",\"remote\",\"remote\",\"remote\",\"remote\",\"remote\",\"remote\",\"remote\",\"remote\",\"remote\",\"remote\",\"remote\",\"remote\",\"remote\",\"remote\",\"remote\",\"remote\",\"remote\",\"remote\",\"remote\",\"remote\",\"remote\",\"remote\",\"remote\",\"remote\",\"remote\",\"remote\",\"remote\",\"remote\",\"remote\",\"remote\",\"remote\",\"remote\",\"remote\",\"remote\",\"remote\",\"remote\",\"remote\",\"remote\",\"remote\",\"remote\",\"remote\",\"remote\",\"remote\",\"remote\",\"remote\",\"remote\",\"remote\",\"remote\",\"remote\",\"remote\",\"remote\",\"remote\",\"remote\",\"remote\",\"remote\",\"remote\",\"remote\",\"remote\",\"remote\",\"remote\",\"remote\",\"remote\",\"remote\",\"remote\",\"remote\",\"remote\",\"remote\",\"remote\",\"remote\",\"remote\",\"remote\",\"remote\",\"remote\",\"remote\",\"remote\",\"remote\",\"remote\",\"remote\",\"remote\",\"remote\",\"remote\",\"remote\",\"remote\",\"remote\",\"remote\",\"remote\",\"remote\",\"remote\",\"remote\",\"remote\",\"remote\",\"remote\",\"remote\",\"remote\",\"remote\",\"remote\",\"remote\",\"remote\",\"remote\",\"remote\",\"remote\",\"remote\",\"remote\",\"remote\",\"remote\",\"remote\",\"remote\",\"remote\",\"remote\",\"remote\",\"remote\",\"remote\",\"remote\",\"remote\",\"remote\",\"remote\",\"remote\",\"remote\",\"remote\",\"remote\",\"remote\",\"remote\",\"remote\",\"remote\",\"remote\",\"remote\",\"remote\",\"remote\",\"remote\",\"remote\",\"remote\",\"remote\",\"remote\",\"remote\",\"remote\",\"remote\",\"remote\",\"remote\",\"remote\",\"remote\",\"remote\",\"remote\",\"remote\",\"remote\",\"remote\",\"remote\",\"remote\",\"remote\",\"remote\",\"remote\",\"remote\",\"remote\",\"remote\",\"remote\",\"remote\",\"remote\",\"remote\",\"remote\",\"remote\",\"remote\",\"remote\",\"remote\",\"remote\",\"remote\",\"remote\",\"remote\",\"remote\",\"remote\",\"remote\",\"remote\",\"remote\",\"remote\",\"remote\",\"remote\",\"remote\",\"remote\",\"remote\",\"remote\",\"remote\",\"remote\",\"remote\",\"remote\",\"remote\",\"remote\",\"remote\",\"remote\",\"remote\",\"remote\",\"remote\",\"remote\",\"remote\",\"remote\",\"remote\",\"remote\",\"remote\",\"remote\",\"remote\",\"remote\",\"remote\",\"remote\",\"remote\",\"remote\",\"remote\",\"remote\",\"remote\",\"remote\",\"remote\",\"remote\",\"remote\",\"remote\",\"remote\",\"remote\",\"remote\",\"remote\",\"remote\",\"remote\",\"remote\",\"remote\",\"remote\",\"remote\",\"remote\",\"remote\",\"remote\",\"remote\",\"remote\",\"remote\",\"remote\",\"remote\",\"remote\",\"remote\",\"remote\",\"remote\",\"remote\",\"remote\",\"remote\",\"remote\",\"remote\",\"remote\",\"remote\",\"remote\",\"remote\",\"remote\",\"remote\",\"remote\",\"remote\",\"remote\",\"remote\",\"remote\",\"remote\",\"remote\",\"remote\",\"remote\",\"remote\",\"remote\",\"remote\",\"remote\",\"remote\",\"remote\",\"remote\",\"remote\",\"remote\",\"remote\",\"remote\",\"remote\",\"remote\",\"remote\",\"remote\",\"remote\",\"remote\",\"remote\",\"remote\",\"remote\",\"remote\",\"remote\",\"remote\",\"remote\",\"remote\",\"remote\",\"remote\",\"remote\",\"remote\",\"remote\",\"remote\",\"remote\",\"remote\",\"remote\",\"remote\",\"remote\",\"remote\",\"remote\",\"remote\",\"remote\",\"remote\",\"remote\",\"remote\",\"remote\",\"remote\",\"remote\",\"remote\",\"remote\",\"remote\",\"remote\",\"remote\",\"remote\",\"remote\",\"remote\",\"remote\",\"remote\",\"remote\",\"remote\",\"remote\",\"remote\",\"remote\",\"remote\",\"remote\",\"remote\",\"remote\",\"remote\",\"remote\",\"remote\",\"remote\",\"remote\",\"remote\",\"remote\",\"remote\",\"remote\",\"remote\",\"remote\",\"remote\",\"remote\",\"remote\",\"remote\",\"remote\",\"remote\",\"remote\",\"remote\",\"remote\",\"remote\",\"remote\",\"remote\",\"remote\",\"remote\",\"remote\",\"remote\",\"remote\",\"remote\",\"remote\",\"remote\",\"remote\",\"remote\",\"remote\",\"remote\",\"remote\",\"remote\",\"remote\",\"remote\",\"remote\",\"remote\",\"remote\",\"remote\",\"remote\",\"remote\",\"remote\",\"remote\",\"remote\",\"remote\",\"remote\",\"remote\",\"remote\",\"remote\",\"remote\",\"remote\",\"remote\",\"remote\",\"remote\",\"remote\",\"remote\",\"remote\",\"remote\",\"remote\",\"remote\",\"remote\",\"remote\",\"remote\"],\"xaxis\":\"x\",\"yaxis\":\"y\",\"type\":\"histogram\"},{\"alignmentgroup\":\"True\",\"bingroup\":\"x\",\"legendgroup\":\"hybrid\",\"marker\":{\"color\":\"#2CA02C\",\"pattern\":{\"shape\":\"\"}},\"name\":\"hybrid\",\"offsetgroup\":\"hybrid\",\"orientation\":\"v\",\"showlegend\":true,\"x\":[\"hybrid\",\"hybrid\",\"hybrid\",\"hybrid\",\"hybrid\",\"hybrid\",\"hybrid\",\"hybrid\",\"hybrid\",\"hybrid\",\"hybrid\",\"hybrid\",\"hybrid\",\"hybrid\",\"hybrid\",\"hybrid\",\"hybrid\",\"hybrid\",\"hybrid\",\"hybrid\",\"hybrid\",\"hybrid\",\"hybrid\",\"hybrid\",\"hybrid\",\"hybrid\",\"hybrid\",\"hybrid\",\"hybrid\",\"hybrid\",\"hybrid\",\"hybrid\",\"hybrid\",\"hybrid\",\"hybrid\",\"hybrid\",\"hybrid\",\"hybrid\",\"hybrid\",\"hybrid\",\"hybrid\",\"hybrid\",\"hybrid\",\"hybrid\",\"hybrid\",\"hybrid\",\"hybrid\",\"hybrid\",\"hybrid\",\"hybrid\",\"hybrid\",\"hybrid\",\"hybrid\",\"hybrid\",\"hybrid\",\"hybrid\",\"hybrid\",\"hybrid\",\"hybrid\",\"hybrid\",\"hybrid\",\"hybrid\",\"hybrid\",\"hybrid\",\"hybrid\",\"hybrid\",\"hybrid\",\"hybrid\",\"hybrid\",\"hybrid\",\"hybrid\",\"hybrid\",\"hybrid\",\"hybrid\",\"hybrid\",\"hybrid\",\"hybrid\",\"hybrid\",\"hybrid\",\"hybrid\",\"hybrid\",\"hybrid\",\"hybrid\",\"hybrid\",\"hybrid\",\"hybrid\",\"hybrid\",\"hybrid\",\"hybrid\",\"hybrid\",\"hybrid\",\"hybrid\",\"hybrid\",\"hybrid\",\"hybrid\",\"hybrid\",\"hybrid\",\"hybrid\",\"hybrid\",\"hybrid\",\"hybrid\",\"hybrid\",\"hybrid\",\"hybrid\",\"hybrid\",\"hybrid\",\"hybrid\",\"hybrid\",\"hybrid\",\"hybrid\",\"hybrid\",\"hybrid\",\"hybrid\",\"hybrid\",\"hybrid\",\"hybrid\",\"hybrid\",\"hybrid\",\"hybrid\",\"hybrid\",\"hybrid\",\"hybrid\",\"hybrid\",\"hybrid\",\"hybrid\",\"hybrid\",\"hybrid\",\"hybrid\",\"hybrid\",\"hybrid\",\"hybrid\",\"hybrid\",\"hybrid\",\"hybrid\",\"hybrid\",\"hybrid\",\"hybrid\",\"hybrid\",\"hybrid\",\"hybrid\",\"hybrid\",\"hybrid\",\"hybrid\",\"hybrid\",\"hybrid\",\"hybrid\",\"hybrid\",\"hybrid\",\"hybrid\",\"hybrid\",\"hybrid\",\"hybrid\",\"hybrid\",\"hybrid\",\"hybrid\",\"hybrid\",\"hybrid\",\"hybrid\",\"hybrid\",\"hybrid\",\"hybrid\",\"hybrid\",\"hybrid\",\"hybrid\",\"hybrid\",\"hybrid\",\"hybrid\",\"hybrid\",\"hybrid\",\"hybrid\",\"hybrid\",\"hybrid\",\"hybrid\",\"hybrid\",\"hybrid\",\"hybrid\",\"hybrid\",\"hybrid\",\"hybrid\",\"hybrid\",\"hybrid\",\"hybrid\",\"hybrid\",\"hybrid\",\"hybrid\",\"hybrid\",\"hybrid\",\"hybrid\",\"hybrid\",\"hybrid\",\"hybrid\",\"hybrid\",\"hybrid\",\"hybrid\",\"hybrid\",\"hybrid\",\"hybrid\",\"hybrid\",\"hybrid\",\"hybrid\",\"hybrid\",\"hybrid\",\"hybrid\",\"hybrid\",\"hybrid\",\"hybrid\",\"hybrid\",\"hybrid\",\"hybrid\",\"hybrid\",\"hybrid\",\"hybrid\",\"hybrid\",\"hybrid\",\"hybrid\",\"hybrid\",\"hybrid\",\"hybrid\",\"hybrid\",\"hybrid\",\"hybrid\",\"hybrid\",\"hybrid\",\"hybrid\",\"hybrid\",\"hybrid\",\"hybrid\",\"hybrid\",\"hybrid\",\"hybrid\",\"hybrid\",\"hybrid\",\"hybrid\",\"hybrid\",\"hybrid\",\"hybrid\",\"hybrid\",\"hybrid\",\"hybrid\",\"hybrid\",\"hybrid\",\"hybrid\",\"hybrid\",\"hybrid\",\"hybrid\",\"hybrid\",\"hybrid\",\"hybrid\",\"hybrid\",\"hybrid\",\"hybrid\",\"hybrid\",\"hybrid\",\"hybrid\",\"hybrid\",\"hybrid\",\"hybrid\",\"hybrid\",\"hybrid\",\"hybrid\",\"hybrid\",\"hybrid\",\"hybrid\",\"hybrid\",\"hybrid\",\"hybrid\",\"hybrid\",\"hybrid\",\"hybrid\",\"hybrid\",\"hybrid\",\"hybrid\",\"hybrid\",\"hybrid\",\"hybrid\",\"hybrid\",\"hybrid\",\"hybrid\",\"hybrid\",\"hybrid\",\"hybrid\",\"hybrid\",\"hybrid\",\"hybrid\",\"hybrid\",\"hybrid\",\"hybrid\",\"hybrid\",\"hybrid\",\"hybrid\",\"hybrid\",\"hybrid\",\"hybrid\",\"hybrid\",\"hybrid\",\"hybrid\",\"hybrid\",\"hybrid\",\"hybrid\",\"hybrid\",\"hybrid\",\"hybrid\",\"hybrid\",\"hybrid\",\"hybrid\",\"hybrid\",\"hybrid\",\"hybrid\",\"hybrid\",\"hybrid\",\"hybrid\",\"hybrid\",\"hybrid\",\"hybrid\",\"hybrid\",\"hybrid\",\"hybrid\",\"hybrid\",\"hybrid\",\"hybrid\",\"hybrid\",\"hybrid\",\"hybrid\",\"hybrid\",\"hybrid\",\"hybrid\",\"hybrid\",\"hybrid\",\"hybrid\",\"hybrid\",\"hybrid\",\"hybrid\",\"hybrid\",\"hybrid\",\"hybrid\",\"hybrid\",\"hybrid\",\"hybrid\",\"hybrid\",\"hybrid\",\"hybrid\",\"hybrid\",\"hybrid\",\"hybrid\",\"hybrid\",\"hybrid\",\"hybrid\",\"hybrid\",\"hybrid\",\"hybrid\",\"hybrid\",\"hybrid\",\"hybrid\",\"hybrid\",\"hybrid\",\"hybrid\",\"hybrid\",\"hybrid\",\"hybrid\",\"hybrid\",\"hybrid\",\"hybrid\",\"hybrid\",\"hybrid\",\"hybrid\",\"hybrid\",\"hybrid\",\"hybrid\",\"hybrid\",\"hybrid\",\"hybrid\",\"hybrid\",\"hybrid\",\"hybrid\",\"hybrid\",\"hybrid\",\"hybrid\",\"hybrid\",\"hybrid\",\"hybrid\",\"hybrid\",\"hybrid\",\"hybrid\",\"hybrid\",\"hybrid\",\"hybrid\",\"hybrid\",\"hybrid\",\"hybrid\",\"hybrid\",\"hybrid\",\"hybrid\",\"hybrid\",\"hybrid\",\"hybrid\",\"hybrid\",\"hybrid\",\"hybrid\",\"hybrid\",\"hybrid\",\"hybrid\",\"hybrid\",\"hybrid\",\"hybrid\",\"hybrid\",\"hybrid\",\"hybrid\",\"hybrid\",\"hybrid\",\"hybrid\",\"hybrid\",\"hybrid\",\"hybrid\",\"hybrid\",\"hybrid\",\"hybrid\",\"hybrid\",\"hybrid\",\"hybrid\",\"hybrid\",\"hybrid\",\"hybrid\",\"hybrid\",\"hybrid\",\"hybrid\",\"hybrid\",\"hybrid\",\"hybrid\",\"hybrid\",\"hybrid\",\"hybrid\",\"hybrid\",\"hybrid\",\"hybrid\",\"hybrid\",\"hybrid\",\"hybrid\",\"hybrid\",\"hybrid\",\"hybrid\",\"hybrid\",\"hybrid\",\"hybrid\",\"hybrid\",\"hybrid\",\"hybrid\",\"hybrid\",\"hybrid\",\"hybrid\",\"hybrid\",\"hybrid\",\"hybrid\",\"hybrid\",\"hybrid\",\"hybrid\",\"hybrid\",\"hybrid\",\"hybrid\",\"hybrid\",\"hybrid\",\"hybrid\",\"hybrid\",\"hybrid\",\"hybrid\",\"hybrid\",\"hybrid\",\"hybrid\",\"hybrid\",\"hybrid\",\"hybrid\",\"hybrid\",\"hybrid\",\"hybrid\",\"hybrid\",\"hybrid\",\"hybrid\",\"hybrid\",\"hybrid\",\"hybrid\",\"hybrid\",\"hybrid\",\"hybrid\",\"hybrid\",\"hybrid\",\"hybrid\",\"hybrid\",\"hybrid\",\"hybrid\",\"hybrid\",\"hybrid\",\"hybrid\",\"hybrid\",\"hybrid\",\"hybrid\",\"hybrid\",\"hybrid\",\"hybrid\",\"hybrid\",\"hybrid\",\"hybrid\",\"hybrid\",\"hybrid\",\"hybrid\",\"hybrid\",\"hybrid\",\"hybrid\",\"hybrid\",\"hybrid\",\"hybrid\",\"hybrid\",\"hybrid\",\"hybrid\",\"hybrid\",\"hybrid\",\"hybrid\",\"hybrid\",\"hybrid\",\"hybrid\",\"hybrid\",\"hybrid\",\"hybrid\",\"hybrid\",\"hybrid\",\"hybrid\",\"hybrid\",\"hybrid\",\"hybrid\",\"hybrid\",\"hybrid\",\"hybrid\",\"hybrid\",\"hybrid\",\"hybrid\",\"hybrid\",\"hybrid\",\"hybrid\",\"hybrid\",\"hybrid\",\"hybrid\",\"hybrid\",\"hybrid\",\"hybrid\",\"hybrid\",\"hybrid\",\"hybrid\",\"hybrid\",\"hybrid\",\"hybrid\",\"hybrid\",\"hybrid\",\"hybrid\",\"hybrid\",\"hybrid\",\"hybrid\",\"hybrid\",\"hybrid\",\"hybrid\",\"hybrid\",\"hybrid\",\"hybrid\",\"hybrid\",\"hybrid\",\"hybrid\",\"hybrid\",\"hybrid\",\"hybrid\",\"hybrid\",\"hybrid\",\"hybrid\",\"hybrid\",\"hybrid\",\"hybrid\",\"hybrid\",\"hybrid\",\"hybrid\",\"hybrid\",\"hybrid\",\"hybrid\",\"hybrid\",\"hybrid\",\"hybrid\",\"hybrid\",\"hybrid\",\"hybrid\",\"hybrid\",\"hybrid\",\"hybrid\",\"hybrid\",\"hybrid\",\"hybrid\",\"hybrid\",\"hybrid\",\"hybrid\",\"hybrid\",\"hybrid\",\"hybrid\",\"hybrid\",\"hybrid\",\"hybrid\",\"hybrid\",\"hybrid\",\"hybrid\",\"hybrid\",\"hybrid\",\"hybrid\",\"hybrid\",\"hybrid\",\"hybrid\",\"hybrid\",\"hybrid\",\"hybrid\",\"hybrid\",\"hybrid\",\"hybrid\",\"hybrid\",\"hybrid\",\"hybrid\",\"hybrid\",\"hybrid\",\"hybrid\",\"hybrid\",\"hybrid\",\"hybrid\",\"hybrid\",\"hybrid\",\"hybrid\",\"hybrid\",\"hybrid\",\"hybrid\",\"hybrid\",\"hybrid\",\"hybrid\",\"hybrid\",\"hybrid\",\"hybrid\",\"hybrid\",\"hybrid\",\"hybrid\",\"hybrid\",\"hybrid\",\"hybrid\",\"hybrid\",\"hybrid\",\"hybrid\",\"hybrid\",\"hybrid\",\"hybrid\",\"hybrid\",\"hybrid\",\"hybrid\",\"hybrid\",\"hybrid\",\"hybrid\",\"hybrid\",\"hybrid\",\"hybrid\",\"hybrid\",\"hybrid\",\"hybrid\",\"hybrid\",\"hybrid\",\"hybrid\",\"hybrid\",\"hybrid\",\"hybrid\",\"hybrid\",\"hybrid\",\"hybrid\",\"hybrid\",\"hybrid\",\"hybrid\",\"hybrid\",\"hybrid\",\"hybrid\",\"hybrid\",\"hybrid\",\"hybrid\",\"hybrid\",\"hybrid\",\"hybrid\",\"hybrid\",\"hybrid\",\"hybrid\",\"hybrid\",\"hybrid\",\"hybrid\",\"hybrid\",\"hybrid\",\"hybrid\",\"hybrid\",\"hybrid\",\"hybrid\",\"hybrid\",\"hybrid\",\"hybrid\",\"hybrid\",\"hybrid\",\"hybrid\",\"hybrid\",\"hybrid\",\"hybrid\",\"hybrid\",\"hybrid\",\"hybrid\",\"hybrid\",\"hybrid\",\"hybrid\",\"hybrid\",\"hybrid\",\"hybrid\",\"hybrid\",\"hybrid\",\"hybrid\",\"hybrid\",\"hybrid\",\"hybrid\",\"hybrid\",\"hybrid\",\"hybrid\",\"hybrid\",\"hybrid\",\"hybrid\",\"hybrid\",\"hybrid\",\"hybrid\",\"hybrid\",\"hybrid\",\"hybrid\",\"hybrid\",\"hybrid\",\"hybrid\",\"hybrid\",\"hybrid\",\"hybrid\",\"hybrid\",\"hybrid\",\"hybrid\",\"hybrid\",\"hybrid\",\"hybrid\",\"hybrid\",\"hybrid\",\"hybrid\",\"hybrid\",\"hybrid\",\"hybrid\",\"hybrid\",\"hybrid\",\"hybrid\",\"hybrid\",\"hybrid\",\"hybrid\",\"hybrid\",\"hybrid\",\"hybrid\",\"hybrid\",\"hybrid\",\"hybrid\",\"hybrid\",\"hybrid\",\"hybrid\",\"hybrid\",\"hybrid\",\"hybrid\",\"hybrid\",\"hybrid\",\"hybrid\",\"hybrid\",\"hybrid\",\"hybrid\",\"hybrid\",\"hybrid\",\"hybrid\",\"hybrid\",\"hybrid\",\"hybrid\",\"hybrid\",\"hybrid\",\"hybrid\",\"hybrid\",\"hybrid\",\"hybrid\",\"hybrid\",\"hybrid\",\"hybrid\",\"hybrid\",\"hybrid\",\"hybrid\",\"hybrid\",\"hybrid\",\"hybrid\",\"hybrid\",\"hybrid\",\"hybrid\",\"hybrid\",\"hybrid\",\"hybrid\",\"hybrid\",\"hybrid\",\"hybrid\",\"hybrid\",\"hybrid\",\"hybrid\",\"hybrid\",\"hybrid\",\"hybrid\",\"hybrid\",\"hybrid\",\"hybrid\",\"hybrid\",\"hybrid\",\"hybrid\",\"hybrid\",\"hybrid\",\"hybrid\",\"hybrid\",\"hybrid\",\"hybrid\",\"hybrid\",\"hybrid\",\"hybrid\",\"hybrid\",\"hybrid\",\"hybrid\",\"hybrid\",\"hybrid\",\"hybrid\",\"hybrid\",\"hybrid\",\"hybrid\",\"hybrid\",\"hybrid\",\"hybrid\",\"hybrid\",\"hybrid\",\"hybrid\",\"hybrid\",\"hybrid\",\"hybrid\",\"hybrid\",\"hybrid\",\"hybrid\",\"hybrid\",\"hybrid\",\"hybrid\",\"hybrid\",\"hybrid\",\"hybrid\",\"hybrid\",\"hybrid\",\"hybrid\",\"hybrid\",\"hybrid\",\"hybrid\",\"hybrid\",\"hybrid\",\"hybrid\",\"hybrid\",\"hybrid\",\"hybrid\",\"hybrid\",\"hybrid\",\"hybrid\",\"hybrid\",\"hybrid\",\"hybrid\",\"hybrid\",\"hybrid\",\"hybrid\",\"hybrid\",\"hybrid\",\"hybrid\",\"hybrid\",\"hybrid\",\"hybrid\",\"hybrid\",\"hybrid\",\"hybrid\",\"hybrid\",\"hybrid\",\"hybrid\",\"hybrid\",\"hybrid\",\"hybrid\",\"hybrid\",\"hybrid\",\"hybrid\",\"hybrid\",\"hybrid\",\"hybrid\",\"hybrid\",\"hybrid\",\"hybrid\",\"hybrid\",\"hybrid\",\"hybrid\",\"hybrid\",\"hybrid\",\"hybrid\",\"hybrid\",\"hybrid\",\"hybrid\",\"hybrid\",\"hybrid\",\"hybrid\",\"hybrid\",\"hybrid\",\"hybrid\",\"hybrid\",\"hybrid\",\"hybrid\",\"hybrid\",\"hybrid\",\"hybrid\",\"hybrid\",\"hybrid\",\"hybrid\",\"hybrid\",\"hybrid\",\"hybrid\",\"hybrid\",\"hybrid\",\"hybrid\",\"hybrid\",\"hybrid\",\"hybrid\",\"hybrid\",\"hybrid\",\"hybrid\",\"hybrid\",\"hybrid\",\"hybrid\",\"hybrid\",\"hybrid\",\"hybrid\",\"hybrid\",\"hybrid\",\"hybrid\",\"hybrid\",\"hybrid\",\"hybrid\",\"hybrid\",\"hybrid\",\"hybrid\",\"hybrid\",\"hybrid\",\"hybrid\",\"hybrid\",\"hybrid\",\"hybrid\",\"hybrid\",\"hybrid\",\"hybrid\",\"hybrid\",\"hybrid\",\"hybrid\",\"hybrid\",\"hybrid\",\"hybrid\",\"hybrid\",\"hybrid\",\"hybrid\",\"hybrid\",\"hybrid\",\"hybrid\",\"hybrid\",\"hybrid\",\"hybrid\",\"hybrid\",\"hybrid\",\"hybrid\",\"hybrid\",\"hybrid\",\"hybrid\",\"hybrid\",\"hybrid\",\"hybrid\",\"hybrid\",\"hybrid\",\"hybrid\",\"hybrid\",\"hybrid\",\"hybrid\",\"hybrid\",\"hybrid\",\"hybrid\",\"hybrid\",\"hybrid\",\"hybrid\",\"hybrid\",\"hybrid\",\"hybrid\",\"hybrid\",\"hybrid\",\"hybrid\",\"hybrid\",\"hybrid\",\"hybrid\",\"hybrid\",\"hybrid\",\"hybrid\",\"hybrid\",\"hybrid\",\"hybrid\",\"hybrid\",\"hybrid\",\"hybrid\",\"hybrid\",\"hybrid\",\"hybrid\",\"hybrid\",\"hybrid\",\"hybrid\",\"hybrid\",\"hybrid\",\"hybrid\",\"hybrid\",\"hybrid\",\"hybrid\",\"hybrid\",\"hybrid\",\"hybrid\",\"hybrid\",\"hybrid\",\"hybrid\",\"hybrid\",\"hybrid\",\"hybrid\",\"hybrid\",\"hybrid\",\"hybrid\",\"hybrid\",\"hybrid\",\"hybrid\",\"hybrid\",\"hybrid\",\"hybrid\",\"hybrid\",\"hybrid\",\"hybrid\",\"hybrid\",\"hybrid\",\"hybrid\",\"hybrid\",\"hybrid\",\"hybrid\",\"hybrid\",\"hybrid\",\"hybrid\",\"hybrid\",\"hybrid\",\"hybrid\",\"hybrid\",\"hybrid\",\"hybrid\",\"hybrid\",\"hybrid\",\"hybrid\",\"hybrid\",\"hybrid\",\"hybrid\",\"hybrid\",\"hybrid\",\"hybrid\",\"hybrid\",\"hybrid\",\"hybrid\",\"hybrid\",\"hybrid\",\"hybrid\",\"hybrid\",\"hybrid\",\"hybrid\",\"hybrid\",\"hybrid\",\"hybrid\",\"hybrid\",\"hybrid\",\"hybrid\",\"hybrid\",\"hybrid\",\"hybrid\",\"hybrid\",\"hybrid\",\"hybrid\",\"hybrid\",\"hybrid\",\"hybrid\",\"hybrid\",\"hybrid\",\"hybrid\",\"hybrid\",\"hybrid\",\"hybrid\",\"hybrid\",\"hybrid\",\"hybrid\",\"hybrid\",\"hybrid\",\"hybrid\",\"hybrid\",\"hybrid\",\"hybrid\",\"hybrid\",\"hybrid\",\"hybrid\",\"hybrid\",\"hybrid\",\"hybrid\",\"hybrid\",\"hybrid\",\"hybrid\",\"hybrid\",\"hybrid\",\"hybrid\",\"hybrid\",\"hybrid\",\"hybrid\",\"hybrid\",\"hybrid\",\"hybrid\",\"hybrid\",\"hybrid\",\"hybrid\",\"hybrid\",\"hybrid\",\"hybrid\",\"hybrid\",\"hybrid\",\"hybrid\",\"hybrid\",\"hybrid\",\"hybrid\",\"hybrid\",\"hybrid\",\"hybrid\",\"hybrid\",\"hybrid\",\"hybrid\",\"hybrid\",\"hybrid\",\"hybrid\",\"hybrid\",\"hybrid\",\"hybrid\",\"hybrid\",\"hybrid\",\"hybrid\",\"hybrid\",\"hybrid\",\"hybrid\",\"hybrid\",\"hybrid\",\"hybrid\",\"hybrid\",\"hybrid\",\"hybrid\",\"hybrid\",\"hybrid\",\"hybrid\",\"hybrid\",\"hybrid\",\"hybrid\",\"hybrid\",\"hybrid\",\"hybrid\",\"hybrid\",\"hybrid\",\"hybrid\",\"hybrid\",\"hybrid\",\"hybrid\",\"hybrid\",\"hybrid\",\"hybrid\",\"hybrid\",\"hybrid\",\"hybrid\",\"hybrid\",\"hybrid\",\"hybrid\",\"hybrid\",\"hybrid\",\"hybrid\",\"hybrid\",\"hybrid\",\"hybrid\",\"hybrid\",\"hybrid\",\"hybrid\",\"hybrid\",\"hybrid\",\"hybrid\",\"hybrid\",\"hybrid\",\"hybrid\",\"hybrid\",\"hybrid\",\"hybrid\",\"hybrid\",\"hybrid\",\"hybrid\",\"hybrid\",\"hybrid\",\"hybrid\",\"hybrid\",\"hybrid\",\"hybrid\",\"hybrid\",\"hybrid\",\"hybrid\",\"hybrid\",\"hybrid\",\"hybrid\",\"hybrid\",\"hybrid\",\"hybrid\",\"hybrid\",\"hybrid\",\"hybrid\",\"hybrid\",\"hybrid\",\"hybrid\",\"hybrid\",\"hybrid\",\"hybrid\",\"hybrid\",\"hybrid\",\"hybrid\",\"hybrid\",\"hybrid\",\"hybrid\",\"hybrid\",\"hybrid\",\"hybrid\",\"hybrid\",\"hybrid\",\"hybrid\",\"hybrid\",\"hybrid\",\"hybrid\",\"hybrid\",\"hybrid\",\"hybrid\",\"hybrid\",\"hybrid\",\"hybrid\",\"hybrid\",\"hybrid\",\"hybrid\",\"hybrid\",\"hybrid\",\"hybrid\",\"hybrid\",\"hybrid\",\"hybrid\",\"hybrid\",\"hybrid\",\"hybrid\",\"hybrid\",\"hybrid\",\"hybrid\",\"hybrid\",\"hybrid\",\"hybrid\",\"hybrid\",\"hybrid\",\"hybrid\",\"hybrid\",\"hybrid\",\"hybrid\",\"hybrid\",\"hybrid\",\"hybrid\",\"hybrid\",\"hybrid\",\"hybrid\",\"hybrid\",\"hybrid\",\"hybrid\",\"hybrid\",\"hybrid\",\"hybrid\",\"hybrid\",\"hybrid\",\"hybrid\",\"hybrid\",\"hybrid\",\"hybrid\",\"hybrid\",\"hybrid\",\"hybrid\",\"hybrid\",\"hybrid\",\"hybrid\",\"hybrid\",\"hybrid\",\"hybrid\",\"hybrid\",\"hybrid\",\"hybrid\",\"hybrid\",\"hybrid\",\"hybrid\",\"hybrid\",\"hybrid\",\"hybrid\",\"hybrid\",\"hybrid\",\"hybrid\",\"hybrid\",\"hybrid\",\"hybrid\",\"hybrid\",\"hybrid\",\"hybrid\",\"hybrid\",\"hybrid\",\"hybrid\",\"hybrid\",\"hybrid\",\"hybrid\",\"hybrid\",\"hybrid\",\"hybrid\",\"hybrid\",\"hybrid\",\"hybrid\",\"hybrid\",\"hybrid\",\"hybrid\",\"hybrid\",\"hybrid\",\"hybrid\",\"hybrid\",\"hybrid\",\"hybrid\",\"hybrid\",\"hybrid\",\"hybrid\",\"hybrid\",\"hybrid\",\"hybrid\",\"hybrid\",\"hybrid\",\"hybrid\",\"hybrid\",\"hybrid\",\"hybrid\",\"hybrid\",\"hybrid\",\"hybrid\",\"hybrid\",\"hybrid\",\"hybrid\",\"hybrid\",\"hybrid\",\"hybrid\",\"hybrid\",\"hybrid\",\"hybrid\",\"hybrid\",\"hybrid\",\"hybrid\",\"hybrid\",\"hybrid\",\"hybrid\",\"hybrid\",\"hybrid\",\"hybrid\",\"hybrid\",\"hybrid\",\"hybrid\",\"hybrid\",\"hybrid\",\"hybrid\",\"hybrid\",\"hybrid\",\"hybrid\",\"hybrid\",\"hybrid\",\"hybrid\",\"hybrid\",\"hybrid\",\"hybrid\",\"hybrid\",\"hybrid\",\"hybrid\",\"hybrid\",\"hybrid\",\"hybrid\",\"hybrid\",\"hybrid\",\"hybrid\",\"hybrid\",\"hybrid\",\"hybrid\",\"hybrid\",\"hybrid\",\"hybrid\",\"hybrid\",\"hybrid\",\"hybrid\",\"hybrid\",\"hybrid\",\"hybrid\",\"hybrid\",\"hybrid\",\"hybrid\",\"hybrid\",\"hybrid\",\"hybrid\",\"hybrid\",\"hybrid\",\"hybrid\",\"hybrid\",\"hybrid\",\"hybrid\",\"hybrid\",\"hybrid\",\"hybrid\",\"hybrid\",\"hybrid\",\"hybrid\",\"hybrid\",\"hybrid\",\"hybrid\",\"hybrid\",\"hybrid\",\"hybrid\",\"hybrid\",\"hybrid\",\"hybrid\",\"hybrid\",\"hybrid\",\"hybrid\",\"hybrid\",\"hybrid\",\"hybrid\",\"hybrid\",\"hybrid\",\"hybrid\",\"hybrid\",\"hybrid\",\"hybrid\",\"hybrid\",\"hybrid\",\"hybrid\",\"hybrid\",\"hybrid\",\"hybrid\",\"hybrid\",\"hybrid\",\"hybrid\",\"hybrid\",\"hybrid\",\"hybrid\",\"hybrid\",\"hybrid\",\"hybrid\",\"hybrid\",\"hybrid\",\"hybrid\",\"hybrid\",\"hybrid\",\"hybrid\",\"hybrid\",\"hybrid\",\"hybrid\",\"hybrid\",\"hybrid\",\"hybrid\",\"hybrid\",\"hybrid\",\"hybrid\",\"hybrid\",\"hybrid\",\"hybrid\",\"hybrid\",\"hybrid\",\"hybrid\",\"hybrid\",\"hybrid\",\"hybrid\",\"hybrid\",\"hybrid\",\"hybrid\",\"hybrid\",\"hybrid\",\"hybrid\",\"hybrid\",\"hybrid\",\"hybrid\",\"hybrid\",\"hybrid\",\"hybrid\",\"hybrid\",\"hybrid\",\"hybrid\",\"hybrid\",\"hybrid\",\"hybrid\",\"hybrid\",\"hybrid\",\"hybrid\",\"hybrid\",\"hybrid\",\"hybrid\",\"hybrid\",\"hybrid\",\"hybrid\",\"hybrid\",\"hybrid\",\"hybrid\",\"hybrid\",\"hybrid\",\"hybrid\",\"hybrid\",\"hybrid\",\"hybrid\",\"hybrid\",\"hybrid\",\"hybrid\",\"hybrid\",\"hybrid\",\"hybrid\",\"hybrid\",\"hybrid\",\"hybrid\",\"hybrid\",\"hybrid\",\"hybrid\",\"hybrid\",\"hybrid\",\"hybrid\",\"hybrid\",\"hybrid\",\"hybrid\",\"hybrid\",\"hybrid\",\"hybrid\",\"hybrid\",\"hybrid\",\"hybrid\",\"hybrid\",\"hybrid\",\"hybrid\",\"hybrid\",\"hybrid\",\"hybrid\",\"hybrid\",\"hybrid\",\"hybrid\",\"hybrid\",\"hybrid\",\"hybrid\",\"hybrid\",\"hybrid\",\"hybrid\",\"hybrid\",\"hybrid\",\"hybrid\",\"hybrid\",\"hybrid\",\"hybrid\",\"hybrid\",\"hybrid\",\"hybrid\",\"hybrid\",\"hybrid\",\"hybrid\",\"hybrid\",\"hybrid\",\"hybrid\",\"hybrid\",\"hybrid\",\"hybrid\",\"hybrid\",\"hybrid\",\"hybrid\",\"hybrid\",\"hybrid\",\"hybrid\",\"hybrid\",\"hybrid\",\"hybrid\",\"hybrid\",\"hybrid\",\"hybrid\",\"hybrid\",\"hybrid\",\"hybrid\",\"hybrid\",\"hybrid\",\"hybrid\",\"hybrid\",\"hybrid\",\"hybrid\",\"hybrid\",\"hybrid\",\"hybrid\",\"hybrid\",\"hybrid\",\"hybrid\",\"hybrid\",\"hybrid\",\"hybrid\",\"hybrid\",\"hybrid\",\"hybrid\",\"hybrid\",\"hybrid\",\"hybrid\",\"hybrid\",\"hybrid\",\"hybrid\",\"hybrid\",\"hybrid\",\"hybrid\",\"hybrid\",\"hybrid\",\"hybrid\",\"hybrid\",\"hybrid\",\"hybrid\",\"hybrid\",\"hybrid\",\"hybrid\",\"hybrid\",\"hybrid\",\"hybrid\",\"hybrid\",\"hybrid\",\"hybrid\",\"hybrid\",\"hybrid\",\"hybrid\",\"hybrid\",\"hybrid\",\"hybrid\",\"hybrid\",\"hybrid\",\"hybrid\",\"hybrid\",\"hybrid\",\"hybrid\",\"hybrid\",\"hybrid\",\"hybrid\",\"hybrid\",\"hybrid\",\"hybrid\",\"hybrid\",\"hybrid\",\"hybrid\",\"hybrid\",\"hybrid\",\"hybrid\",\"hybrid\",\"hybrid\",\"hybrid\",\"hybrid\",\"hybrid\",\"hybrid\",\"hybrid\",\"hybrid\",\"hybrid\",\"hybrid\",\"hybrid\",\"hybrid\",\"hybrid\",\"hybrid\",\"hybrid\",\"hybrid\",\"hybrid\",\"hybrid\",\"hybrid\",\"hybrid\",\"hybrid\",\"hybrid\",\"hybrid\",\"hybrid\",\"hybrid\",\"hybrid\",\"hybrid\",\"hybrid\",\"hybrid\",\"hybrid\",\"hybrid\",\"hybrid\",\"hybrid\",\"hybrid\",\"hybrid\",\"hybrid\",\"hybrid\",\"hybrid\",\"hybrid\",\"hybrid\",\"hybrid\",\"hybrid\",\"hybrid\",\"hybrid\",\"hybrid\",\"hybrid\",\"hybrid\",\"hybrid\",\"hybrid\",\"hybrid\",\"hybrid\",\"hybrid\",\"hybrid\",\"hybrid\",\"hybrid\",\"hybrid\",\"hybrid\",\"hybrid\",\"hybrid\",\"hybrid\",\"hybrid\",\"hybrid\",\"hybrid\",\"hybrid\",\"hybrid\",\"hybrid\",\"hybrid\",\"hybrid\",\"hybrid\",\"hybrid\",\"hybrid\",\"hybrid\",\"hybrid\",\"hybrid\",\"hybrid\",\"hybrid\",\"hybrid\",\"hybrid\",\"hybrid\",\"hybrid\",\"hybrid\",\"hybrid\",\"hybrid\",\"hybrid\",\"hybrid\",\"hybrid\",\"hybrid\",\"hybrid\",\"hybrid\",\"hybrid\",\"hybrid\",\"hybrid\",\"hybrid\",\"hybrid\",\"hybrid\",\"hybrid\",\"hybrid\",\"hybrid\",\"hybrid\",\"hybrid\",\"hybrid\",\"hybrid\",\"hybrid\",\"hybrid\",\"hybrid\",\"hybrid\",\"hybrid\",\"hybrid\",\"hybrid\",\"hybrid\",\"hybrid\",\"hybrid\",\"hybrid\",\"hybrid\",\"hybrid\",\"hybrid\",\"hybrid\",\"hybrid\",\"hybrid\",\"hybrid\",\"hybrid\",\"hybrid\",\"hybrid\",\"hybrid\",\"hybrid\",\"hybrid\",\"hybrid\",\"hybrid\",\"hybrid\",\"hybrid\",\"hybrid\",\"hybrid\",\"hybrid\",\"hybrid\",\"hybrid\",\"hybrid\",\"hybrid\",\"hybrid\",\"hybrid\",\"hybrid\",\"hybrid\",\"hybrid\",\"hybrid\",\"hybrid\",\"hybrid\",\"hybrid\",\"hybrid\",\"hybrid\",\"hybrid\",\"hybrid\",\"hybrid\",\"hybrid\",\"hybrid\",\"hybrid\",\"hybrid\",\"hybrid\",\"hybrid\",\"hybrid\",\"hybrid\",\"hybrid\",\"hybrid\",\"hybrid\",\"hybrid\",\"hybrid\",\"hybrid\",\"hybrid\",\"hybrid\",\"hybrid\",\"hybrid\",\"hybrid\",\"hybrid\",\"hybrid\",\"hybrid\",\"hybrid\",\"hybrid\",\"hybrid\",\"hybrid\",\"hybrid\",\"hybrid\",\"hybrid\",\"hybrid\",\"hybrid\",\"hybrid\",\"hybrid\",\"hybrid\",\"hybrid\",\"hybrid\",\"hybrid\",\"hybrid\",\"hybrid\",\"hybrid\",\"hybrid\",\"hybrid\",\"hybrid\",\"hybrid\",\"hybrid\",\"hybrid\",\"hybrid\",\"hybrid\",\"hybrid\",\"hybrid\",\"hybrid\",\"hybrid\",\"hybrid\",\"hybrid\",\"hybrid\",\"hybrid\",\"hybrid\",\"hybrid\",\"hybrid\",\"hybrid\",\"hybrid\",\"hybrid\",\"hybrid\",\"hybrid\",\"hybrid\",\"hybrid\"],\"xaxis\":\"x\",\"yaxis\":\"y\",\"type\":\"histogram\"}],                        {\"template\":{\"data\":{\"bar\":[{\"hovertemplate\":\"<b>%{x}</b><br><i>Count</i>: %{y}\",\"type\":\"bar\"}],\"histogram\":[{\"hovertemplate\":\"<b>%{x}</b><br><i>Count</i>: %{y}\",\"type\":\"histogram\"}],\"pie\":[{\"hovertemplate\":\"<b>%{label}</b><br><i>Count</i>: %{value}\",\"type\":\"pie\"}],\"scatter\":[{\"hovertemplate\":\"<b>%{x}</b><br><i>Count</i>: %{y}\",\"type\":\"scatter\"}]},\"layout\":{\"colorway\":[\"#1F77B4\",\"#FF7F0E\",\"#2CA02C\",\"#D62728\",\"#9467BD\",\"#8C564B\",\"#E377C2\",\"#7F7F7F\",\"#BCBD22\",\"#17BECF\"],\"dragmode\":\"pan\",\"font\":{\"size\":16},\"legend\":{\"font\":{\"size\":17}},\"paper_bgcolor\":\"rgb(171,200,227)\",\"plot_bgcolor\":\"#BAE0F3\",\"showlegend\":false,\"title\":{\"font\":{\"size\":19}},\"uniformtext\":{\"minsize\":12,\"mode\":\"hide\"},\"xaxis\":{\"showgrid\":false,\"zeroline\":false},\"yaxis\":{\"zeroline\":false}}},\"xaxis\":{\"anchor\":\"y\",\"domain\":[0.0,1.0],\"title\":{\"text\":\"onsite_remote\"},\"categoryorder\":\"array\",\"categoryarray\":[\"onsite\",\"remote\",\"hybrid\"]},\"yaxis\":{\"anchor\":\"x\",\"domain\":[0.0,1.0],\"title\":{\"text\":\"count\",\"standoff\":20}},\"legend\":{\"title\":{\"text\":\"onsite_remote\"},\"tracegroupgap\":0},\"margin\":{\"t\":60,\"l\":100},\"barmode\":\"relative\",\"annotations\":[{\"ax\":0,\"ay\":0,\"font\":{\"size\":16},\"text\":\"Sample Size:  5618\",\"x\":1,\"xanchor\":\"right\",\"xref\":\"paper\",\"y\":-0.1,\"yanchor\":\"top\",\"yref\":\"paper\"}],\"coloraxis\":{\"showscale\":false},\"title\":{\"text\":\"Number of Jobs by Work Style\"}},                        {\"responsive\": true}                    ).then(function(){\n",
       "                            \n",
       "var gd = document.getElementById('d8ed7f8f-2b23-4f22-8975-ea4e2524b234');\n",
       "var x = new MutationObserver(function (mutations, observer) {{\n",
       "        var display = window.getComputedStyle(gd).display;\n",
       "        if (!display || display === 'none') {{\n",
       "            console.log([gd, 'removed!']);\n",
       "            Plotly.purge(gd);\n",
       "            observer.disconnect();\n",
       "        }}\n",
       "}});\n",
       "\n",
       "// Listen for the removal of the full notebook cells\n",
       "var notebookContainer = gd.closest('#notebook-container');\n",
       "if (notebookContainer) {{\n",
       "    x.observe(notebookContainer, {childList: true});\n",
       "}}\n",
       "\n",
       "// Listen for the clearing of the current output cell\n",
       "var outputEl = gd.closest('.output');\n",
       "if (outputEl) {{\n",
       "    x.observe(outputEl, {childList: true});\n",
       "}}\n",
       "\n",
       "                        })                };                });            </script>        </div>"
      ]
     },
     "metadata": {},
     "output_type": "display_data"
    }
   ],
   "source": [
    "fig3 = px.histogram(df, x=\"onsite_remote\", color=\"onsite_remote\")\n",
    "remove_px_attributes(fig3)\n",
    "add_annotation_for_figure(fig3, f\"Sample Size:  {sum(~df['onsite_remote'].isnull())}\", \n",
    "                          x_anchor=\"right\", x=1)\n",
    "fig3.update_yaxes(title=dict(text=\"count\", standoff=20))\n",
    "fig3.update_xaxes(title=\"onsite_remote\")\n",
    "fig3.update_layout(title=\"Number of Jobs by Work Style\", margin=dict(l=100), coloraxis_showscale=False)"
   ]
  },
  {
   "cell_type": "code",
   "execution_count": 34,
   "metadata": {
    "execution": {
     "iopub.execute_input": "2023-09-20T06:47:54.945517Z",
     "iopub.status.busy": "2023-09-20T06:47:54.945088Z",
     "iopub.status.idle": "2023-09-20T06:48:15.584269Z",
     "shell.execute_reply": "2023-09-20T06:48:15.583460Z",
     "shell.execute_reply.started": "2023-09-20T06:47:54.945480Z"
    }
   },
   "outputs": [
    {
     "data": {
      "text/html": [
       "<div>                            <div id=\"b94b81c9-ec50-4fbc-9939-3f3d6e0e93d0\" class=\"plotly-graph-div\" style=\"height:525px; width:100%;\"></div>            <script type=\"text/javascript\">                require([\"plotly\"], function(Plotly) {                    window.PLOTLYENV=window.PLOTLYENV || {};                                    if (document.getElementById(\"b94b81c9-ec50-4fbc-9939-3f3d6e0e93d0\")) {                    Plotly.newPlot(                        \"b94b81c9-ec50-4fbc-9939-3f3d6e0e93d0\",                        [{\"domain\":{\"x\":[0.0,1.0],\"y\":[0.0,1.0]},\"labels\":[\"Software Development, Technology, Information and Internet, and Financial Services\",\"IT Services and IT Consulting\",\"Financial Services\",\"Staffing and Recruiting\",\"Technology, Information and Internet\",\"Advertising Services\",\"IT Services and IT Consulting and Software Development\",\"Retail Apparel and Fashion\",\"Business Consulting and Services\",\"Animation and Post-production\",\"Software Development\",\"Medical Equipment Manufacturing, Biotechnology Research, and Pharmaceutical Manufacturing\",\"Hospitals and Health Care\",\"Government Administration\",\"IT Services and IT Consulting, Advertising Services, and Software Development\",\"IT Services and IT Consulting, Software Development, and Hospitals and Health Care\",\"Retail\",\"Advertising Services and Technology, Information and Internet\",\"Retail Gasoline\",\"Savings Institutions\",\"Retail Apparel and Fashion, Manufacturing, and Retail\",\"Renewable Energy Semiconductor Manufacturing\",\"Telecommunications\",\"IT Services and IT Consulting and Motor Vehicle Manufacturing\",\"Higher Education\",\"Market Research\",\"IT Services and IT Consulting and Hospitals and Health Care\",\"Security and Investigations\",\"IT Services and IT Consulting, Banking, and Financial Services\",\"Banking\",\"Advertising Services and Online Audio and Video Media\",\"Transportation, Logistics, Supply Chain and Storage\",\"Business Consulting and Services and Pharmaceutical Manufacturing\",\"IT Services and IT Consulting, Software Development, and Computer Games\",\"Insurance and Investment Management\",\"Defense and Space Manufacturing\",\"Biotechnology Research\",\"IT Services and IT Consulting, Medical Equipment Manufacturing, and Pharmaceutical Manufacturing\",\"Insurance\",\"Environmental Services\",\"Real Estate\",\"IT Services and IT Consulting, Software Development, and Wireless Services\",\"Entertainment Providers and Hospitals and Health Care\",\"Appliances, Electrical, and Electronics Manufacturing and Automation Machinery Manufacturing\",\"Banking and Financial Services\",\"Appliances, Electrical, and Electronics Manufacturing, Nanotechnology Research, and Semiconductor Manufacturing\",\"Investment Management\",\"Construction\",\"Education Administration Programs\",\"Government Relations Services, Computer and Network Security, and Utilities\",\"Motor Vehicle Manufacturing\",\"Non-profit Organizations and Research Services\",\"Facilities Services\",\"IT Services and IT Consulting, Software Development, and Insurance\",\"Utilities\",\"IT Services and IT Consulting, Appliances, Electrical, and Electronics Manufacturing, and E-Learning Providers\",\"Computer and Network Security\",\"IT Services and IT Consulting and Financial Services\",\"IT Services and IT Consulting and Musicians\",\"IT Services and IT Consulting, Banking, and Investment Banking\",\"Aviation and Aerospace Component Manufacturing, Staffing and Recruiting, and Airlines and Aviation\",\"Oil and Gas\",\"Food and Beverage Services and Financial Services\",\"IT Services and IT Consulting and Business Consulting and Services\",\"IT Services and IT Consulting, Software Development, and Truck Transportation\",\"Venture Capital and Private Equity Principals\",\"Artists and Writers\",\"IT Services and IT Consulting, Advertising Services, and Public Relations and Communications Services\",\"IT Services and IT Consulting, Information Services, and Food and Beverage Manufacturing\",\"Manufacturing\",\"Information Services\",\"Information Services, Government Relations Services, and Government Administration\",\"IT Services and IT Consulting, Retail Apparel and Fashion, and Retail\",\"IT Services and IT Consulting, Advertising Services, and Technology, Information and Internet\",\"Insurance, Financial Services, and Accounting\",\"IT Services and IT Consulting, Software Development, and Human Resources Services\",\"Entertainment Providers\"],\"legendgroup\":\"\",\"name\":\"\",\"showlegend\":true,\"values\":[978,581,249,247,202,174,144,125,120,110,98,86,82,76,76,74,73,72,72,72,72,72,71,71,68,68,68,67,66,66,66,66,64,61,55,50,48,46,43,42,38,32,28,27,26,24,20,12,12,8,6,4,4,4,4,4,4,4,2,2,2,2,2,2,2,2,2,2,2,2,2,2,2,2,2,2,1],\"type\":\"pie\",\"textposition\":\"inside\",\"texttemplate\":\"%{percent}\"}],                        {\"template\":{\"data\":{\"bar\":[{\"hovertemplate\":\"<b>%{x}</b><br><i>Count</i>: %{y}\",\"type\":\"bar\"}],\"histogram\":[{\"hovertemplate\":\"<b>%{x}</b><br><i>Count</i>: %{y}\",\"type\":\"histogram\"}],\"pie\":[{\"hovertemplate\":\"<b>%{label}</b><br><i>Count</i>: %{value}\",\"type\":\"pie\"}],\"scatter\":[{\"hovertemplate\":\"<b>%{x}</b><br><i>Count</i>: %{y}\",\"type\":\"scatter\"}]},\"layout\":{\"colorway\":[\"#1F77B4\",\"#FF7F0E\",\"#2CA02C\",\"#D62728\",\"#9467BD\",\"#8C564B\",\"#E377C2\",\"#7F7F7F\",\"#BCBD22\",\"#17BECF\"],\"dragmode\":\"pan\",\"font\":{\"size\":16},\"legend\":{\"font\":{\"size\":17}},\"paper_bgcolor\":\"rgb(171,200,227)\",\"plot_bgcolor\":\"#BAE0F3\",\"showlegend\":false,\"title\":{\"font\":{\"size\":19}},\"uniformtext\":{\"minsize\":12,\"mode\":\"hide\"},\"xaxis\":{\"showgrid\":false,\"zeroline\":false},\"yaxis\":{\"zeroline\":false}}},\"legend\":{\"tracegroupgap\":0},\"margin\":{\"t\":60},\"piecolorway\":[\"rgb(141,211,199)\",\"rgb(255,255,179)\",\"rgb(190,186,218)\",\"rgb(251,128,114)\",\"rgb(128,177,211)\",\"rgb(253,180,98)\",\"rgb(179,222,105)\",\"rgb(252,205,229)\",\"rgb(217,217,217)\",\"rgb(188,128,189)\",\"rgb(204,235,197)\",\"rgb(255,237,111)\"],\"annotations\":[{\"ax\":0,\"ay\":0,\"font\":{\"size\":16},\"text\":\"Sample Size:  5239\",\"x\":1,\"xanchor\":\"right\",\"xref\":\"paper\",\"y\":-0.1,\"yanchor\":\"top\",\"yref\":\"paper\"}],\"uniformtext\":{\"minsize\":12,\"mode\":\"hide\"},\"title\":{\"font\":{\"size\":20},\"text\":\"Jobs by Sector\",\"xanchor\":\"left\",\"x\":0.05,\"y\":0.95}},                        {\"responsive\": true}                    ).then(function(){\n",
       "                            \n",
       "var gd = document.getElementById('b94b81c9-ec50-4fbc-9939-3f3d6e0e93d0');\n",
       "var x = new MutationObserver(function (mutations, observer) {{\n",
       "        var display = window.getComputedStyle(gd).display;\n",
       "        if (!display || display === 'none') {{\n",
       "            console.log([gd, 'removed!']);\n",
       "            Plotly.purge(gd);\n",
       "            observer.disconnect();\n",
       "        }}\n",
       "}});\n",
       "\n",
       "// Listen for the removal of the full notebook cells\n",
       "var notebookContainer = gd.closest('#notebook-container');\n",
       "if (notebookContainer) {{\n",
       "    x.observe(notebookContainer, {childList: true});\n",
       "}}\n",
       "\n",
       "// Listen for the clearing of the current output cell\n",
       "var outputEl = gd.closest('.output');\n",
       "if (outputEl) {{\n",
       "    x.observe(outputEl, {childList: true});\n",
       "}}\n",
       "\n",
       "                        })                };                });            </script>        </div>"
      ]
     },
     "metadata": {},
     "output_type": "display_data"
    }
   ],
   "source": [
    "fig4 = px.pie(df[\"Industries\"].value_counts().reset_index(), names=\"index\", values=\"Industries\",\n",
    "              color_discrete_sequence=px.colors.qualitative.Set3)\n",
    "remove_px_attributes(fig4)\n",
    "add_annotation_for_figure(fig4, f\"Sample Size:  {sum(df['Industries'].isnull() == False)}\", \n",
    "                          x_anchor=\"right\", x=1)\n",
    "fig4.update_layout(\n",
    "    uniformtext_minsize=12, uniformtext_mode=\"hide\", title=dict(\n",
    "    text=\"Jobs by Sector\",\n",
    "    xanchor=\"left\",\n",
    "    font_size=20,\n",
    "    x=0.05,\n",
    "    y=0.95)\n",
    ")\n",
    "fig4.update_traces(textposition=\"inside\", texttemplate=\"%{percent}\")\n",
    "fig4\n",
    "\n",
    "# for i, trace in enumerate(fig4.data):\n",
    "#     print(trace[\"name\"])\n",
    "#     if not trace[\"name\"] in items_to_show:\n",
    "#         fig4.data[i][\"showlegend\"] = False"
   ]
  },
  {
   "cell_type": "code",
   "execution_count": 35,
   "metadata": {},
   "outputs": [
    {
     "data": {
      "text/html": [
       "<div>                            <div id=\"be837c2c-4f25-4a01-bffc-26b543a2b593\" class=\"plotly-graph-div\" style=\"height:525px; width:100%;\"></div>            <script type=\"text/javascript\">                require([\"plotly\"], function(Plotly) {                    window.PLOTLYENV=window.PLOTLYENV || {};                                    if (document.getElementById(\"be837c2c-4f25-4a01-bffc-26b543a2b593\")) {                    Plotly.newPlot(                        \"be837c2c-4f25-4a01-bffc-26b543a2b593\",                        [{\"domain\":{\"x\":[0.0,1.0],\"y\":[0.0,1.0]},\"labels\":[\"Information Technology\",\"Information Technology and Analyst\",\"Analyst\",\"Finance\",\"Information Technology and General Business\",\"Information Technology, Analyst, and Consulting\",\"Information Technology, Analyst, and Other\",\"Analyst and Information Technology\",\"Analyst, Information Technology, and Research\",\"Information Technology, Analyst, and Engineering\",\"Advertising, Production, and Design\",\"Project Management, Analyst, and Research\",\"Strategy/Planning, Advertising, and Marketing\",\"Advertising, Business Development, and Information Technology\",\"Sales and Analyst\",\"Analyst, Information Technology, and Engineering\",\"Information Technology and Engineering\",\"Strategy/Planning, Analyst, and Information Technology\",\"Finance and Information Technology\",\"Sales\",\"Analyst, Information Technology, and Project Management\",\"Consulting, General Business, and Strategy/Planning\",\"Information Technology and Finance\",\"Engineering\",\"Information Technology, Analyst, and Education\",\"Analyst, Information Technology, and Marketing\",\"Consulting and Analyst\",\"Marketing, Public Relations, and Writing/Editing\",\"Information Technology and Marketing\",\"Information Technology, Analyst, and Marketing\",\"Engineering and Information Technology\",\"Analyst and Strategy/Planning\",\"Analyst and Marketing\",\"Health Care Provider and Information Technology\",\"Information Technology, Public Relations, and Analyst\",\"Human Resources, Sales, and Information Technology\",\"Information Technology, Consulting, and Analyst\",\"Education\",\"Marketing, Advertising, and Analyst\",\"Information Technology, Analyst, and Business Development\",\"Consulting, Information Technology, and Project Management\",\"Engineering, Information Technology, and Analyst\",\"Administrative and Research\",\"Information Technology and Administrative\",\"Project Management and Analyst\",\"Analyst, Finance, and General Business\",\"Other\",\"Analyst, Finance, and Strategy/Planning\",\"Administrative and Customer Service\",\"Analyst, Marketing, and Information Technology\",\"Information Technology, Marketing, and Analyst\",\"Research, Analyst, and Information Technology\",\"Analyst and Finance\"],\"legendgroup\":\"\",\"name\":\"\",\"showlegend\":true,\"values\":[3197,347,230,76,76,76,74,72,72,72,71,68,68,67,67,66,65,61,52,48,44,41,38,36,33,27,24,8,6,6,4,4,4,4,2,2,2,2,2,2,2,2,2,2,2,2,2,2,2,2,2,2,1],\"type\":\"pie\",\"textposition\":\"inside\",\"texttemplate\":\"%{percent}\"}],                        {\"template\":{\"data\":{\"bar\":[{\"hovertemplate\":\"<b>%{x}</b><br><i>Count</i>: %{y}\",\"type\":\"bar\"}],\"histogram\":[{\"hovertemplate\":\"<b>%{x}</b><br><i>Count</i>: %{y}\",\"type\":\"histogram\"}],\"pie\":[{\"hovertemplate\":\"<b>%{label}</b><br><i>Count</i>: %{value}\",\"type\":\"pie\"}],\"scatter\":[{\"hovertemplate\":\"<b>%{x}</b><br><i>Count</i>: %{y}\",\"type\":\"scatter\"}]},\"layout\":{\"colorway\":[\"#1F77B4\",\"#FF7F0E\",\"#2CA02C\",\"#D62728\",\"#9467BD\",\"#8C564B\",\"#E377C2\",\"#7F7F7F\",\"#BCBD22\",\"#17BECF\"],\"dragmode\":\"pan\",\"font\":{\"size\":16},\"legend\":{\"font\":{\"size\":17}},\"paper_bgcolor\":\"rgb(171,200,227)\",\"plot_bgcolor\":\"#BAE0F3\",\"showlegend\":false,\"title\":{\"font\":{\"size\":19}},\"uniformtext\":{\"minsize\":12,\"mode\":\"hide\"},\"xaxis\":{\"showgrid\":false,\"zeroline\":false},\"yaxis\":{\"zeroline\":false}}},\"legend\":{\"tracegroupgap\":0},\"margin\":{\"t\":60},\"piecolorway\":[\"rgb(141,211,199)\",\"rgb(255,255,179)\",\"rgb(190,186,218)\",\"rgb(251,128,114)\",\"rgb(128,177,211)\",\"rgb(253,180,98)\",\"rgb(179,222,105)\",\"rgb(252,205,229)\",\"rgb(217,217,217)\",\"rgb(188,128,189)\",\"rgb(204,235,197)\",\"rgb(255,237,111)\"],\"annotations\":[{\"ax\":0,\"ay\":0,\"font\":{\"size\":16},\"text\":\"Sample Size:  5241\",\"x\":1,\"xanchor\":\"right\",\"xref\":\"paper\",\"y\":-0.1,\"yanchor\":\"top\",\"yref\":\"paper\"}],\"uniformtext\":{\"minsize\":12,\"mode\":\"hide\"},\"title\":{\"font\":{\"size\":20},\"text\":\"Jobs by Function\",\"xanchor\":\"left\",\"x\":0.05,\"y\":0.95}},                        {\"responsive\": true}                    ).then(function(){\n",
       "                            \n",
       "var gd = document.getElementById('be837c2c-4f25-4a01-bffc-26b543a2b593');\n",
       "var x = new MutationObserver(function (mutations, observer) {{\n",
       "        var display = window.getComputedStyle(gd).display;\n",
       "        if (!display || display === 'none') {{\n",
       "            console.log([gd, 'removed!']);\n",
       "            Plotly.purge(gd);\n",
       "            observer.disconnect();\n",
       "        }}\n",
       "}});\n",
       "\n",
       "// Listen for the removal of the full notebook cells\n",
       "var notebookContainer = gd.closest('#notebook-container');\n",
       "if (notebookContainer) {{\n",
       "    x.observe(notebookContainer, {childList: true});\n",
       "}}\n",
       "\n",
       "// Listen for the clearing of the current output cell\n",
       "var outputEl = gd.closest('.output');\n",
       "if (outputEl) {{\n",
       "    x.observe(outputEl, {childList: true});\n",
       "}}\n",
       "\n",
       "                        })                };                });            </script>        </div>"
      ]
     },
     "metadata": {},
     "output_type": "display_data"
    }
   ],
   "source": [
    "fig5 = px.pie(df[\"Job function\"].value_counts().reset_index(), names=\"index\", values=\"Job function\",\n",
    "              color_discrete_sequence=px.colors.qualitative.Set3)\n",
    "remove_px_attributes(fig5)\n",
    "add_annotation_for_figure(fig5, f\"Sample Size:  {sum(df['Job function'].isnull() == False)}\", \n",
    "                          x_anchor=\"right\", x=1)\n",
    "fig5.update_layout(\n",
    "    uniformtext_minsize=12, uniformtext_mode=\"hide\", title=dict(\n",
    "    text=\"Jobs by Function\",\n",
    "    xanchor=\"left\",\n",
    "    font_size=20,\n",
    "    x=0.05,\n",
    "    y=0.95)\n",
    ")\n",
    "fig5.update_traces(textposition=\"inside\", texttemplate=\"%{percent}\")\n",
    "fig5\n",
    "\n",
    "# for i, trace in enumerate(fig4.data):\n",
    "#     print(trace[\"name\"])\n",
    "#     if not trace[\"name\"] in items_to_show:\n",
    "#         fig4.data[i][\"showlegend\"] = False"
   ]
  },
  {
   "cell_type": "code",
   "execution_count": 36,
   "metadata": {},
   "outputs": [
    {
     "data": {
      "text/html": [
       "<div>                            <div id=\"b9a535f5-3780-4c47-8b93-9346c430bb91\" class=\"plotly-graph-div\" style=\"height:525px; width:100%;\"></div>            <script type=\"text/javascript\">                require([\"plotly\"], function(Plotly) {                    window.PLOTLYENV=window.PLOTLYENV || {};                                    if (document.getElementById(\"b9a535f5-3780-4c47-8b93-9346c430bb91\")) {                    Plotly.newPlot(                        \"b9a535f5-3780-4c47-8b93-9346c430bb91\",                        [{\"alignmentgroup\":\"True\",\"bingroup\":\"x\",\"legendgroup\":\"Full-time\",\"marker\":{\"color\":\"#1F77B4\",\"pattern\":{\"shape\":\"\"}},\"name\":\"Full-time\",\"offsetgroup\":\"Full-time\",\"orientation\":\"v\",\"showlegend\":true,\"x\":[\"Full-time\",\"Full-time\",\"Full-time\",\"Full-time\",\"Full-time\",\"Full-time\",\"Full-time\",\"Full-time\",\"Full-time\",\"Full-time\",\"Full-time\",\"Full-time\",\"Full-time\",\"Full-time\",\"Full-time\",\"Full-time\",\"Full-time\",\"Full-time\",\"Full-time\",\"Full-time\",\"Full-time\",\"Full-time\",\"Full-time\",\"Full-time\",\"Full-time\",\"Full-time\",\"Full-time\",\"Full-time\",\"Full-time\",\"Full-time\",\"Full-time\",\"Full-time\",\"Full-time\",\"Full-time\",\"Full-time\",\"Full-time\",\"Full-time\",\"Full-time\",\"Full-time\",\"Full-time\",\"Full-time\",\"Full-time\",\"Full-time\",\"Full-time\",\"Full-time\",\"Full-time\",\"Full-time\",\"Full-time\",\"Full-time\",\"Full-time\",\"Full-time\",\"Full-time\",\"Full-time\",\"Full-time\",\"Full-time\",\"Full-time\",\"Full-time\",\"Full-time\",\"Full-time\",\"Full-time\",\"Full-time\",\"Full-time\",\"Full-time\",\"Full-time\",\"Full-time\",\"Full-time\",\"Full-time\",\"Full-time\",\"Full-time\",\"Full-time\",\"Full-time\",\"Full-time\",\"Full-time\",\"Full-time\",\"Full-time\",\"Full-time\",\"Full-time\",\"Full-time\",\"Full-time\",\"Full-time\",\"Full-time\",\"Full-time\",\"Full-time\",\"Full-time\",\"Full-time\",\"Full-time\",\"Full-time\",\"Full-time\",\"Full-time\",\"Full-time\",\"Full-time\",\"Full-time\",\"Full-time\",\"Full-time\",\"Full-time\",\"Full-time\",\"Full-time\",\"Full-time\",\"Full-time\",\"Full-time\",\"Full-time\",\"Full-time\",\"Full-time\",\"Full-time\",\"Full-time\",\"Full-time\",\"Full-time\",\"Full-time\",\"Full-time\",\"Full-time\",\"Full-time\",\"Full-time\",\"Full-time\",\"Full-time\",\"Full-time\",\"Full-time\",\"Full-time\",\"Full-time\",\"Full-time\",\"Full-time\",\"Full-time\",\"Full-time\",\"Full-time\",\"Full-time\",\"Full-time\",\"Full-time\",\"Full-time\",\"Full-time\",\"Full-time\",\"Full-time\",\"Full-time\",\"Full-time\",\"Full-time\",\"Full-time\",\"Full-time\",\"Full-time\",\"Full-time\",\"Full-time\",\"Full-time\",\"Full-time\",\"Full-time\",\"Full-time\",\"Full-time\",\"Full-time\",\"Full-time\",\"Full-time\",\"Full-time\",\"Full-time\",\"Full-time\",\"Full-time\",\"Full-time\",\"Full-time\",\"Full-time\",\"Full-time\",\"Full-time\",\"Full-time\",\"Full-time\",\"Full-time\",\"Full-time\",\"Full-time\",\"Full-time\",\"Full-time\",\"Full-time\",\"Full-time\",\"Full-time\",\"Full-time\",\"Full-time\",\"Full-time\",\"Full-time\",\"Full-time\",\"Full-time\",\"Full-time\",\"Full-time\",\"Full-time\",\"Full-time\",\"Full-time\",\"Full-time\",\"Full-time\",\"Full-time\",\"Full-time\",\"Full-time\",\"Full-time\",\"Full-time\",\"Full-time\",\"Full-time\",\"Full-time\",\"Full-time\",\"Full-time\",\"Full-time\",\"Full-time\",\"Full-time\",\"Full-time\",\"Full-time\",\"Full-time\",\"Full-time\",\"Full-time\",\"Full-time\",\"Full-time\",\"Full-time\",\"Full-time\",\"Full-time\",\"Full-time\",\"Full-time\",\"Full-time\",\"Full-time\",\"Full-time\",\"Full-time\",\"Full-time\",\"Full-time\",\"Full-time\",\"Full-time\",\"Full-time\",\"Full-time\",\"Full-time\",\"Full-time\",\"Full-time\",\"Full-time\",\"Full-time\",\"Full-time\",\"Full-time\",\"Full-time\",\"Full-time\",\"Full-time\",\"Full-time\",\"Full-time\",\"Full-time\",\"Full-time\",\"Full-time\",\"Full-time\",\"Full-time\",\"Full-time\",\"Full-time\",\"Full-time\",\"Full-time\",\"Full-time\",\"Full-time\",\"Full-time\",\"Full-time\",\"Full-time\",\"Full-time\",\"Full-time\",\"Full-time\",\"Full-time\",\"Full-time\",\"Full-time\",\"Full-time\",\"Full-time\",\"Full-time\",\"Full-time\",\"Full-time\",\"Full-time\",\"Full-time\",\"Full-time\",\"Full-time\",\"Full-time\",\"Full-time\",\"Full-time\",\"Full-time\",\"Full-time\",\"Full-time\",\"Full-time\",\"Full-time\",\"Full-time\",\"Full-time\",\"Full-time\",\"Full-time\",\"Full-time\",\"Full-time\",\"Full-time\",\"Full-time\",\"Full-time\",\"Full-time\",\"Full-time\",\"Full-time\",\"Full-time\",\"Full-time\",\"Full-time\",\"Full-time\",\"Full-time\",\"Full-time\",\"Full-time\",\"Full-time\",\"Full-time\",\"Full-time\",\"Full-time\",\"Full-time\",\"Full-time\",\"Full-time\",\"Full-time\",\"Full-time\",\"Full-time\",\"Full-time\",\"Full-time\",\"Full-time\",\"Full-time\",\"Full-time\",\"Full-time\",\"Full-time\",\"Full-time\",\"Full-time\",\"Full-time\",\"Full-time\",\"Full-time\",\"Full-time\",\"Full-time\",\"Full-time\",\"Full-time\",\"Full-time\",\"Full-time\",\"Full-time\",\"Full-time\",\"Full-time\",\"Full-time\",\"Full-time\",\"Full-time\",\"Full-time\",\"Full-time\",\"Full-time\",\"Full-time\",\"Full-time\",\"Full-time\",\"Full-time\",\"Full-time\",\"Full-time\",\"Full-time\",\"Full-time\",\"Full-time\",\"Full-time\",\"Full-time\",\"Full-time\",\"Full-time\",\"Full-time\",\"Full-time\",\"Full-time\",\"Full-time\",\"Full-time\",\"Full-time\",\"Full-time\",\"Full-time\",\"Full-time\",\"Full-time\",\"Full-time\",\"Full-time\",\"Full-time\",\"Full-time\",\"Full-time\",\"Full-time\",\"Full-time\",\"Full-time\",\"Full-time\",\"Full-time\",\"Full-time\",\"Full-time\",\"Full-time\",\"Full-time\",\"Full-time\",\"Full-time\",\"Full-time\",\"Full-time\",\"Full-time\",\"Full-time\",\"Full-time\",\"Full-time\",\"Full-time\",\"Full-time\",\"Full-time\",\"Full-time\",\"Full-time\",\"Full-time\",\"Full-time\",\"Full-time\",\"Full-time\",\"Full-time\",\"Full-time\",\"Full-time\",\"Full-time\",\"Full-time\",\"Full-time\",\"Full-time\",\"Full-time\",\"Full-time\",\"Full-time\",\"Full-time\",\"Full-time\",\"Full-time\",\"Full-time\",\"Full-time\",\"Full-time\",\"Full-time\",\"Full-time\",\"Full-time\",\"Full-time\",\"Full-time\",\"Full-time\",\"Full-time\",\"Full-time\",\"Full-time\",\"Full-time\",\"Full-time\",\"Full-time\",\"Full-time\",\"Full-time\",\"Full-time\",\"Full-time\",\"Full-time\",\"Full-time\",\"Full-time\",\"Full-time\",\"Full-time\",\"Full-time\",\"Full-time\",\"Full-time\",\"Full-time\",\"Full-time\",\"Full-time\",\"Full-time\",\"Full-time\",\"Full-time\",\"Full-time\",\"Full-time\",\"Full-time\",\"Full-time\",\"Full-time\",\"Full-time\",\"Full-time\",\"Full-time\",\"Full-time\",\"Full-time\",\"Full-time\",\"Full-time\",\"Full-time\",\"Full-time\",\"Full-time\",\"Full-time\",\"Full-time\",\"Full-time\",\"Full-time\",\"Full-time\",\"Full-time\",\"Full-time\",\"Full-time\",\"Full-time\",\"Full-time\",\"Full-time\",\"Full-time\",\"Full-time\",\"Full-time\",\"Full-time\",\"Full-time\",\"Full-time\",\"Full-time\",\"Full-time\",\"Full-time\",\"Full-time\",\"Full-time\",\"Full-time\",\"Full-time\",\"Full-time\",\"Full-time\",\"Full-time\",\"Full-time\",\"Full-time\",\"Full-time\",\"Full-time\",\"Full-time\",\"Full-time\",\"Full-time\",\"Full-time\",\"Full-time\",\"Full-time\",\"Full-time\",\"Full-time\",\"Full-time\",\"Full-time\",\"Full-time\",\"Full-time\",\"Full-time\",\"Full-time\",\"Full-time\",\"Full-time\",\"Full-time\",\"Full-time\",\"Full-time\",\"Full-time\",\"Full-time\",\"Full-time\",\"Full-time\",\"Full-time\",\"Full-time\",\"Full-time\",\"Full-time\",\"Full-time\",\"Full-time\",\"Full-time\",\"Full-time\",\"Full-time\",\"Full-time\",\"Full-time\",\"Full-time\",\"Full-time\",\"Full-time\",\"Full-time\",\"Full-time\",\"Full-time\",\"Full-time\",\"Full-time\",\"Full-time\",\"Full-time\",\"Full-time\",\"Full-time\",\"Full-time\",\"Full-time\",\"Full-time\",\"Full-time\",\"Full-time\",\"Full-time\",\"Full-time\",\"Full-time\",\"Full-time\",\"Full-time\",\"Full-time\",\"Full-time\",\"Full-time\",\"Full-time\",\"Full-time\",\"Full-time\",\"Full-time\",\"Full-time\",\"Full-time\",\"Full-time\",\"Full-time\",\"Full-time\",\"Full-time\",\"Full-time\",\"Full-time\",\"Full-time\",\"Full-time\",\"Full-time\",\"Full-time\",\"Full-time\",\"Full-time\",\"Full-time\",\"Full-time\",\"Full-time\",\"Full-time\",\"Full-time\",\"Full-time\",\"Full-time\",\"Full-time\",\"Full-time\",\"Full-time\",\"Full-time\",\"Full-time\",\"Full-time\",\"Full-time\",\"Full-time\",\"Full-time\",\"Full-time\",\"Full-time\",\"Full-time\",\"Full-time\",\"Full-time\",\"Full-time\",\"Full-time\",\"Full-time\",\"Full-time\",\"Full-time\",\"Full-time\",\"Full-time\",\"Full-time\",\"Full-time\",\"Full-time\",\"Full-time\",\"Full-time\",\"Full-time\",\"Full-time\",\"Full-time\",\"Full-time\",\"Full-time\",\"Full-time\",\"Full-time\",\"Full-time\",\"Full-time\",\"Full-time\",\"Full-time\",\"Full-time\",\"Full-time\",\"Full-time\",\"Full-time\",\"Full-time\",\"Full-time\",\"Full-time\",\"Full-time\",\"Full-time\",\"Full-time\",\"Full-time\",\"Full-time\",\"Full-time\",\"Full-time\",\"Full-time\",\"Full-time\",\"Full-time\",\"Full-time\",\"Full-time\",\"Full-time\",\"Full-time\",\"Full-time\",\"Full-time\",\"Full-time\",\"Full-time\",\"Full-time\",\"Full-time\",\"Full-time\",\"Full-time\",\"Full-time\",\"Full-time\",\"Full-time\",\"Full-time\",\"Full-time\",\"Full-time\",\"Full-time\",\"Full-time\",\"Full-time\",\"Full-time\",\"Full-time\",\"Full-time\",\"Full-time\",\"Full-time\",\"Full-time\",\"Full-time\",\"Full-time\",\"Full-time\",\"Full-time\",\"Full-time\",\"Full-time\",\"Full-time\",\"Full-time\",\"Full-time\",\"Full-time\",\"Full-time\",\"Full-time\",\"Full-time\",\"Full-time\",\"Full-time\",\"Full-time\",\"Full-time\",\"Full-time\",\"Full-time\",\"Full-time\",\"Full-time\",\"Full-time\",\"Full-time\",\"Full-time\",\"Full-time\",\"Full-time\",\"Full-time\",\"Full-time\",\"Full-time\",\"Full-time\",\"Full-time\",\"Full-time\",\"Full-time\",\"Full-time\",\"Full-time\",\"Full-time\",\"Full-time\",\"Full-time\",\"Full-time\",\"Full-time\",\"Full-time\",\"Full-time\",\"Full-time\",\"Full-time\",\"Full-time\",\"Full-time\",\"Full-time\",\"Full-time\",\"Full-time\",\"Full-time\",\"Full-time\",\"Full-time\",\"Full-time\",\"Full-time\",\"Full-time\",\"Full-time\",\"Full-time\",\"Full-time\",\"Full-time\",\"Full-time\",\"Full-time\",\"Full-time\",\"Full-time\",\"Full-time\",\"Full-time\",\"Full-time\",\"Full-time\",\"Full-time\",\"Full-time\",\"Full-time\",\"Full-time\",\"Full-time\",\"Full-time\",\"Full-time\",\"Full-time\",\"Full-time\",\"Full-time\",\"Full-time\",\"Full-time\",\"Full-time\",\"Full-time\",\"Full-time\",\"Full-time\",\"Full-time\",\"Full-time\",\"Full-time\",\"Full-time\",\"Full-time\",\"Full-time\",\"Full-time\",\"Full-time\",\"Full-time\",\"Full-time\",\"Full-time\",\"Full-time\",\"Full-time\",\"Full-time\",\"Full-time\",\"Full-time\",\"Full-time\",\"Full-time\",\"Full-time\",\"Full-time\",\"Full-time\",\"Full-time\",\"Full-time\",\"Full-time\",\"Full-time\",\"Full-time\",\"Full-time\",\"Full-time\",\"Full-time\",\"Full-time\",\"Full-time\",\"Full-time\",\"Full-time\",\"Full-time\",\"Full-time\",\"Full-time\",\"Full-time\",\"Full-time\",\"Full-time\",\"Full-time\",\"Full-time\",\"Full-time\",\"Full-time\",\"Full-time\",\"Full-time\",\"Full-time\",\"Full-time\",\"Full-time\",\"Full-time\",\"Full-time\",\"Full-time\",\"Full-time\",\"Full-time\",\"Full-time\",\"Full-time\",\"Full-time\",\"Full-time\",\"Full-time\",\"Full-time\",\"Full-time\",\"Full-time\",\"Full-time\",\"Full-time\",\"Full-time\",\"Full-time\",\"Full-time\",\"Full-time\",\"Full-time\",\"Full-time\",\"Full-time\",\"Full-time\",\"Full-time\",\"Full-time\",\"Full-time\",\"Full-time\",\"Full-time\",\"Full-time\",\"Full-time\",\"Full-time\",\"Full-time\",\"Full-time\",\"Full-time\",\"Full-time\",\"Full-time\",\"Full-time\",\"Full-time\",\"Full-time\",\"Full-time\",\"Full-time\",\"Full-time\",\"Full-time\",\"Full-time\",\"Full-time\",\"Full-time\",\"Full-time\",\"Full-time\",\"Full-time\",\"Full-time\",\"Full-time\",\"Full-time\",\"Full-time\",\"Full-time\",\"Full-time\",\"Full-time\",\"Full-time\",\"Full-time\",\"Full-time\",\"Full-time\",\"Full-time\",\"Full-time\",\"Full-time\",\"Full-time\",\"Full-time\",\"Full-time\",\"Full-time\",\"Full-time\",\"Full-time\",\"Full-time\",\"Full-time\",\"Full-time\",\"Full-time\",\"Full-time\",\"Full-time\",\"Full-time\",\"Full-time\",\"Full-time\",\"Full-time\",\"Full-time\",\"Full-time\",\"Full-time\",\"Full-time\",\"Full-time\",\"Full-time\",\"Full-time\",\"Full-time\",\"Full-time\",\"Full-time\",\"Full-time\",\"Full-time\",\"Full-time\",\"Full-time\",\"Full-time\",\"Full-time\",\"Full-time\",\"Full-time\",\"Full-time\",\"Full-time\",\"Full-time\",\"Full-time\",\"Full-time\",\"Full-time\",\"Full-time\",\"Full-time\",\"Full-time\",\"Full-time\",\"Full-time\",\"Full-time\",\"Full-time\",\"Full-time\",\"Full-time\",\"Full-time\",\"Full-time\",\"Full-time\",\"Full-time\",\"Full-time\",\"Full-time\",\"Full-time\",\"Full-time\",\"Full-time\",\"Full-time\",\"Full-time\",\"Full-time\",\"Full-time\",\"Full-time\",\"Full-time\",\"Full-time\",\"Full-time\",\"Full-time\",\"Full-time\",\"Full-time\",\"Full-time\",\"Full-time\",\"Full-time\",\"Full-time\",\"Full-time\",\"Full-time\",\"Full-time\",\"Full-time\",\"Full-time\",\"Full-time\",\"Full-time\",\"Full-time\",\"Full-time\",\"Full-time\",\"Full-time\",\"Full-time\",\"Full-time\",\"Full-time\",\"Full-time\",\"Full-time\",\"Full-time\",\"Full-time\",\"Full-time\",\"Full-time\",\"Full-time\",\"Full-time\",\"Full-time\",\"Full-time\",\"Full-time\",\"Full-time\",\"Full-time\",\"Full-time\",\"Full-time\",\"Full-time\",\"Full-time\",\"Full-time\",\"Full-time\",\"Full-time\",\"Full-time\",\"Full-time\",\"Full-time\",\"Full-time\",\"Full-time\",\"Full-time\",\"Full-time\",\"Full-time\",\"Full-time\",\"Full-time\",\"Full-time\",\"Full-time\",\"Full-time\",\"Full-time\",\"Full-time\",\"Full-time\",\"Full-time\",\"Full-time\",\"Full-time\",\"Full-time\",\"Full-time\",\"Full-time\",\"Full-time\",\"Full-time\",\"Full-time\",\"Full-time\",\"Full-time\",\"Full-time\",\"Full-time\",\"Full-time\",\"Full-time\",\"Full-time\",\"Full-time\",\"Full-time\",\"Full-time\",\"Full-time\",\"Full-time\",\"Full-time\",\"Full-time\",\"Full-time\",\"Full-time\",\"Full-time\",\"Full-time\",\"Full-time\",\"Full-time\",\"Full-time\",\"Full-time\",\"Full-time\",\"Full-time\",\"Full-time\",\"Full-time\",\"Full-time\",\"Full-time\",\"Full-time\",\"Full-time\",\"Full-time\",\"Full-time\",\"Full-time\",\"Full-time\",\"Full-time\",\"Full-time\",\"Full-time\",\"Full-time\",\"Full-time\",\"Full-time\",\"Full-time\",\"Full-time\",\"Full-time\",\"Full-time\",\"Full-time\",\"Full-time\",\"Full-time\",\"Full-time\",\"Full-time\",\"Full-time\",\"Full-time\",\"Full-time\",\"Full-time\",\"Full-time\",\"Full-time\",\"Full-time\",\"Full-time\",\"Full-time\",\"Full-time\",\"Full-time\",\"Full-time\",\"Full-time\",\"Full-time\",\"Full-time\",\"Full-time\",\"Full-time\",\"Full-time\",\"Full-time\",\"Full-time\",\"Full-time\",\"Full-time\",\"Full-time\",\"Full-time\",\"Full-time\",\"Full-time\",\"Full-time\",\"Full-time\",\"Full-time\",\"Full-time\",\"Full-time\",\"Full-time\",\"Full-time\",\"Full-time\",\"Full-time\",\"Full-time\",\"Full-time\",\"Full-time\",\"Full-time\",\"Full-time\",\"Full-time\",\"Full-time\",\"Full-time\",\"Full-time\",\"Full-time\",\"Full-time\",\"Full-time\",\"Full-time\",\"Full-time\",\"Full-time\",\"Full-time\",\"Full-time\",\"Full-time\",\"Full-time\",\"Full-time\",\"Full-time\",\"Full-time\",\"Full-time\",\"Full-time\",\"Full-time\",\"Full-time\",\"Full-time\",\"Full-time\",\"Full-time\",\"Full-time\",\"Full-time\",\"Full-time\",\"Full-time\",\"Full-time\",\"Full-time\",\"Full-time\",\"Full-time\",\"Full-time\",\"Full-time\",\"Full-time\",\"Full-time\",\"Full-time\",\"Full-time\",\"Full-time\",\"Full-time\",\"Full-time\",\"Full-time\",\"Full-time\",\"Full-time\",\"Full-time\",\"Full-time\",\"Full-time\",\"Full-time\",\"Full-time\",\"Full-time\",\"Full-time\",\"Full-time\",\"Full-time\",\"Full-time\",\"Full-time\",\"Full-time\",\"Full-time\",\"Full-time\",\"Full-time\",\"Full-time\",\"Full-time\",\"Full-time\",\"Full-time\",\"Full-time\",\"Full-time\",\"Full-time\",\"Full-time\",\"Full-time\",\"Full-time\",\"Full-time\",\"Full-time\",\"Full-time\",\"Full-time\",\"Full-time\",\"Full-time\",\"Full-time\",\"Full-time\",\"Full-time\",\"Full-time\",\"Full-time\",\"Full-time\",\"Full-time\",\"Full-time\",\"Full-time\",\"Full-time\",\"Full-time\",\"Full-time\",\"Full-time\",\"Full-time\",\"Full-time\",\"Full-time\",\"Full-time\",\"Full-time\",\"Full-time\",\"Full-time\",\"Full-time\",\"Full-time\",\"Full-time\",\"Full-time\",\"Full-time\",\"Full-time\",\"Full-time\",\"Full-time\",\"Full-time\",\"Full-time\",\"Full-time\",\"Full-time\",\"Full-time\",\"Full-time\",\"Full-time\",\"Full-time\",\"Full-time\",\"Full-time\",\"Full-time\",\"Full-time\",\"Full-time\",\"Full-time\",\"Full-time\",\"Full-time\",\"Full-time\",\"Full-time\",\"Full-time\",\"Full-time\",\"Full-time\",\"Full-time\",\"Full-time\",\"Full-time\",\"Full-time\",\"Full-time\",\"Full-time\",\"Full-time\",\"Full-time\",\"Full-time\",\"Full-time\",\"Full-time\",\"Full-time\",\"Full-time\",\"Full-time\",\"Full-time\",\"Full-time\",\"Full-time\",\"Full-time\",\"Full-time\",\"Full-time\",\"Full-time\",\"Full-time\",\"Full-time\",\"Full-time\",\"Full-time\",\"Full-time\",\"Full-time\",\"Full-time\",\"Full-time\",\"Full-time\",\"Full-time\",\"Full-time\",\"Full-time\",\"Full-time\",\"Full-time\",\"Full-time\",\"Full-time\",\"Full-time\",\"Full-time\",\"Full-time\",\"Full-time\",\"Full-time\",\"Full-time\",\"Full-time\",\"Full-time\",\"Full-time\",\"Full-time\",\"Full-time\",\"Full-time\",\"Full-time\",\"Full-time\",\"Full-time\",\"Full-time\",\"Full-time\",\"Full-time\",\"Full-time\",\"Full-time\",\"Full-time\",\"Full-time\",\"Full-time\",\"Full-time\",\"Full-time\",\"Full-time\",\"Full-time\",\"Full-time\",\"Full-time\",\"Full-time\",\"Full-time\",\"Full-time\",\"Full-time\",\"Full-time\",\"Full-time\",\"Full-time\",\"Full-time\",\"Full-time\",\"Full-time\",\"Full-time\",\"Full-time\",\"Full-time\",\"Full-time\",\"Full-time\",\"Full-time\",\"Full-time\",\"Full-time\",\"Full-time\",\"Full-time\",\"Full-time\",\"Full-time\",\"Full-time\",\"Full-time\",\"Full-time\",\"Full-time\",\"Full-time\",\"Full-time\",\"Full-time\",\"Full-time\",\"Full-time\",\"Full-time\",\"Full-time\",\"Full-time\",\"Full-time\",\"Full-time\",\"Full-time\",\"Full-time\",\"Full-time\",\"Full-time\",\"Full-time\",\"Full-time\",\"Full-time\",\"Full-time\",\"Full-time\",\"Full-time\",\"Full-time\",\"Full-time\",\"Full-time\",\"Full-time\",\"Full-time\",\"Full-time\",\"Full-time\",\"Full-time\",\"Full-time\",\"Full-time\",\"Full-time\",\"Full-time\",\"Full-time\",\"Full-time\",\"Full-time\",\"Full-time\",\"Full-time\",\"Full-time\",\"Full-time\",\"Full-time\",\"Full-time\",\"Full-time\",\"Full-time\",\"Full-time\",\"Full-time\",\"Full-time\",\"Full-time\",\"Full-time\",\"Full-time\",\"Full-time\",\"Full-time\",\"Full-time\",\"Full-time\",\"Full-time\",\"Full-time\",\"Full-time\",\"Full-time\",\"Full-time\",\"Full-time\",\"Full-time\",\"Full-time\",\"Full-time\",\"Full-time\",\"Full-time\",\"Full-time\",\"Full-time\",\"Full-time\",\"Full-time\",\"Full-time\",\"Full-time\",\"Full-time\",\"Full-time\",\"Full-time\",\"Full-time\",\"Full-time\",\"Full-time\",\"Full-time\",\"Full-time\",\"Full-time\",\"Full-time\",\"Full-time\",\"Full-time\",\"Full-time\",\"Full-time\",\"Full-time\",\"Full-time\",\"Full-time\",\"Full-time\",\"Full-time\",\"Full-time\",\"Full-time\",\"Full-time\",\"Full-time\",\"Full-time\",\"Full-time\",\"Full-time\",\"Full-time\",\"Full-time\",\"Full-time\",\"Full-time\",\"Full-time\",\"Full-time\",\"Full-time\",\"Full-time\",\"Full-time\",\"Full-time\",\"Full-time\",\"Full-time\",\"Full-time\",\"Full-time\",\"Full-time\",\"Full-time\",\"Full-time\",\"Full-time\",\"Full-time\",\"Full-time\",\"Full-time\",\"Full-time\",\"Full-time\",\"Full-time\",\"Full-time\",\"Full-time\",\"Full-time\",\"Full-time\",\"Full-time\",\"Full-time\",\"Full-time\",\"Full-time\",\"Full-time\",\"Full-time\",\"Full-time\",\"Full-time\",\"Full-time\",\"Full-time\",\"Full-time\",\"Full-time\",\"Full-time\",\"Full-time\",\"Full-time\",\"Full-time\",\"Full-time\",\"Full-time\",\"Full-time\",\"Full-time\",\"Full-time\",\"Full-time\",\"Full-time\",\"Full-time\",\"Full-time\",\"Full-time\",\"Full-time\",\"Full-time\",\"Full-time\",\"Full-time\",\"Full-time\",\"Full-time\",\"Full-time\",\"Full-time\",\"Full-time\",\"Full-time\",\"Full-time\",\"Full-time\",\"Full-time\",\"Full-time\",\"Full-time\",\"Full-time\",\"Full-time\",\"Full-time\",\"Full-time\",\"Full-time\",\"Full-time\",\"Full-time\",\"Full-time\",\"Full-time\",\"Full-time\",\"Full-time\",\"Full-time\",\"Full-time\",\"Full-time\",\"Full-time\",\"Full-time\",\"Full-time\",\"Full-time\",\"Full-time\",\"Full-time\",\"Full-time\",\"Full-time\",\"Full-time\",\"Full-time\",\"Full-time\",\"Full-time\",\"Full-time\",\"Full-time\",\"Full-time\",\"Full-time\",\"Full-time\",\"Full-time\",\"Full-time\",\"Full-time\",\"Full-time\",\"Full-time\",\"Full-time\",\"Full-time\",\"Full-time\",\"Full-time\",\"Full-time\",\"Full-time\",\"Full-time\",\"Full-time\",\"Full-time\",\"Full-time\",\"Full-time\",\"Full-time\",\"Full-time\",\"Full-time\",\"Full-time\",\"Full-time\",\"Full-time\",\"Full-time\",\"Full-time\",\"Full-time\",\"Full-time\",\"Full-time\",\"Full-time\",\"Full-time\",\"Full-time\",\"Full-time\",\"Full-time\",\"Full-time\",\"Full-time\",\"Full-time\",\"Full-time\",\"Full-time\",\"Full-time\",\"Full-time\",\"Full-time\",\"Full-time\",\"Full-time\",\"Full-time\",\"Full-time\",\"Full-time\",\"Full-time\",\"Full-time\",\"Full-time\",\"Full-time\",\"Full-time\",\"Full-time\",\"Full-time\",\"Full-time\",\"Full-time\",\"Full-time\",\"Full-time\",\"Full-time\",\"Full-time\",\"Full-time\",\"Full-time\",\"Full-time\",\"Full-time\",\"Full-time\",\"Full-time\",\"Full-time\",\"Full-time\",\"Full-time\",\"Full-time\",\"Full-time\",\"Full-time\",\"Full-time\",\"Full-time\",\"Full-time\",\"Full-time\",\"Full-time\",\"Full-time\",\"Full-time\",\"Full-time\",\"Full-time\",\"Full-time\",\"Full-time\",\"Full-time\",\"Full-time\",\"Full-time\",\"Full-time\",\"Full-time\",\"Full-time\",\"Full-time\",\"Full-time\",\"Full-time\",\"Full-time\",\"Full-time\",\"Full-time\",\"Full-time\",\"Full-time\",\"Full-time\",\"Full-time\",\"Full-time\",\"Full-time\",\"Full-time\",\"Full-time\",\"Full-time\",\"Full-time\",\"Full-time\",\"Full-time\",\"Full-time\",\"Full-time\",\"Full-time\",\"Full-time\",\"Full-time\",\"Full-time\",\"Full-time\",\"Full-time\",\"Full-time\",\"Full-time\",\"Full-time\",\"Full-time\",\"Full-time\",\"Full-time\",\"Full-time\",\"Full-time\",\"Full-time\",\"Full-time\",\"Full-time\",\"Full-time\",\"Full-time\",\"Full-time\",\"Full-time\",\"Full-time\",\"Full-time\",\"Full-time\",\"Full-time\",\"Full-time\",\"Full-time\",\"Full-time\",\"Full-time\",\"Full-time\",\"Full-time\",\"Full-time\",\"Full-time\",\"Full-time\",\"Full-time\",\"Full-time\",\"Full-time\",\"Full-time\",\"Full-time\",\"Full-time\",\"Full-time\",\"Full-time\",\"Full-time\",\"Full-time\",\"Full-time\",\"Full-time\",\"Full-time\",\"Full-time\",\"Full-time\",\"Full-time\",\"Full-time\",\"Full-time\",\"Full-time\",\"Full-time\",\"Full-time\",\"Full-time\",\"Full-time\",\"Full-time\",\"Full-time\",\"Full-time\",\"Full-time\",\"Full-time\",\"Full-time\",\"Full-time\",\"Full-time\",\"Full-time\",\"Full-time\",\"Full-time\",\"Full-time\",\"Full-time\",\"Full-time\",\"Full-time\",\"Full-time\",\"Full-time\",\"Full-time\",\"Full-time\",\"Full-time\",\"Full-time\",\"Full-time\",\"Full-time\",\"Full-time\",\"Full-time\",\"Full-time\",\"Full-time\",\"Full-time\",\"Full-time\",\"Full-time\",\"Full-time\",\"Full-time\",\"Full-time\",\"Full-time\",\"Full-time\",\"Full-time\",\"Full-time\",\"Full-time\",\"Full-time\",\"Full-time\",\"Full-time\",\"Full-time\",\"Full-time\",\"Full-time\",\"Full-time\",\"Full-time\",\"Full-time\",\"Full-time\",\"Full-time\",\"Full-time\",\"Full-time\",\"Full-time\",\"Full-time\",\"Full-time\",\"Full-time\",\"Full-time\",\"Full-time\",\"Full-time\",\"Full-time\",\"Full-time\",\"Full-time\",\"Full-time\",\"Full-time\",\"Full-time\",\"Full-time\",\"Full-time\",\"Full-time\",\"Full-time\",\"Full-time\",\"Full-time\",\"Full-time\",\"Full-time\",\"Full-time\",\"Full-time\",\"Full-time\",\"Full-time\",\"Full-time\",\"Full-time\",\"Full-time\",\"Full-time\",\"Full-time\",\"Full-time\",\"Full-time\",\"Full-time\",\"Full-time\",\"Full-time\",\"Full-time\",\"Full-time\",\"Full-time\",\"Full-time\",\"Full-time\",\"Full-time\",\"Full-time\",\"Full-time\",\"Full-time\",\"Full-time\",\"Full-time\",\"Full-time\",\"Full-time\",\"Full-time\",\"Full-time\",\"Full-time\",\"Full-time\",\"Full-time\",\"Full-time\",\"Full-time\",\"Full-time\",\"Full-time\",\"Full-time\",\"Full-time\",\"Full-time\",\"Full-time\",\"Full-time\",\"Full-time\",\"Full-time\",\"Full-time\",\"Full-time\",\"Full-time\",\"Full-time\",\"Full-time\",\"Full-time\",\"Full-time\",\"Full-time\",\"Full-time\",\"Full-time\",\"Full-time\",\"Full-time\",\"Full-time\",\"Full-time\",\"Full-time\",\"Full-time\",\"Full-time\",\"Full-time\",\"Full-time\",\"Full-time\",\"Full-time\",\"Full-time\",\"Full-time\",\"Full-time\",\"Full-time\",\"Full-time\",\"Full-time\",\"Full-time\",\"Full-time\",\"Full-time\",\"Full-time\",\"Full-time\",\"Full-time\",\"Full-time\",\"Full-time\",\"Full-time\",\"Full-time\",\"Full-time\",\"Full-time\",\"Full-time\",\"Full-time\",\"Full-time\",\"Full-time\",\"Full-time\",\"Full-time\",\"Full-time\",\"Full-time\",\"Full-time\",\"Full-time\",\"Full-time\",\"Full-time\",\"Full-time\",\"Full-time\",\"Full-time\",\"Full-time\",\"Full-time\",\"Full-time\",\"Full-time\",\"Full-time\",\"Full-time\",\"Full-time\",\"Full-time\",\"Full-time\",\"Full-time\",\"Full-time\",\"Full-time\",\"Full-time\",\"Full-time\",\"Full-time\",\"Full-time\",\"Full-time\",\"Full-time\",\"Full-time\",\"Full-time\",\"Full-time\",\"Full-time\",\"Full-time\",\"Full-time\",\"Full-time\",\"Full-time\",\"Full-time\",\"Full-time\",\"Full-time\",\"Full-time\",\"Full-time\",\"Full-time\",\"Full-time\",\"Full-time\",\"Full-time\",\"Full-time\",\"Full-time\",\"Full-time\",\"Full-time\",\"Full-time\",\"Full-time\",\"Full-time\",\"Full-time\",\"Full-time\",\"Full-time\",\"Full-time\",\"Full-time\",\"Full-time\",\"Full-time\",\"Full-time\",\"Full-time\",\"Full-time\",\"Full-time\",\"Full-time\",\"Full-time\",\"Full-time\",\"Full-time\",\"Full-time\",\"Full-time\",\"Full-time\",\"Full-time\",\"Full-time\",\"Full-time\",\"Full-time\",\"Full-time\",\"Full-time\",\"Full-time\",\"Full-time\",\"Full-time\",\"Full-time\",\"Full-time\",\"Full-time\",\"Full-time\",\"Full-time\",\"Full-time\",\"Full-time\",\"Full-time\",\"Full-time\",\"Full-time\",\"Full-time\",\"Full-time\",\"Full-time\",\"Full-time\",\"Full-time\",\"Full-time\",\"Full-time\",\"Full-time\",\"Full-time\",\"Full-time\",\"Full-time\",\"Full-time\",\"Full-time\",\"Full-time\",\"Full-time\",\"Full-time\",\"Full-time\",\"Full-time\",\"Full-time\",\"Full-time\",\"Full-time\",\"Full-time\",\"Full-time\",\"Full-time\",\"Full-time\",\"Full-time\",\"Full-time\",\"Full-time\",\"Full-time\",\"Full-time\",\"Full-time\",\"Full-time\",\"Full-time\",\"Full-time\",\"Full-time\",\"Full-time\",\"Full-time\",\"Full-time\",\"Full-time\",\"Full-time\",\"Full-time\",\"Full-time\",\"Full-time\",\"Full-time\",\"Full-time\",\"Full-time\",\"Full-time\",\"Full-time\",\"Full-time\",\"Full-time\",\"Full-time\",\"Full-time\",\"Full-time\",\"Full-time\",\"Full-time\",\"Full-time\",\"Full-time\",\"Full-time\",\"Full-time\",\"Full-time\",\"Full-time\",\"Full-time\",\"Full-time\",\"Full-time\",\"Full-time\",\"Full-time\",\"Full-time\",\"Full-time\",\"Full-time\",\"Full-time\",\"Full-time\",\"Full-time\",\"Full-time\",\"Full-time\",\"Full-time\",\"Full-time\",\"Full-time\",\"Full-time\",\"Full-time\",\"Full-time\",\"Full-time\",\"Full-time\",\"Full-time\",\"Full-time\",\"Full-time\",\"Full-time\",\"Full-time\",\"Full-time\",\"Full-time\",\"Full-time\",\"Full-time\",\"Full-time\",\"Full-time\",\"Full-time\",\"Full-time\",\"Full-time\",\"Full-time\",\"Full-time\",\"Full-time\",\"Full-time\",\"Full-time\",\"Full-time\",\"Full-time\",\"Full-time\",\"Full-time\",\"Full-time\",\"Full-time\",\"Full-time\",\"Full-time\",\"Full-time\",\"Full-time\",\"Full-time\",\"Full-time\",\"Full-time\",\"Full-time\",\"Full-time\",\"Full-time\",\"Full-time\",\"Full-time\",\"Full-time\",\"Full-time\",\"Full-time\",\"Full-time\",\"Full-time\",\"Full-time\",\"Full-time\",\"Full-time\",\"Full-time\",\"Full-time\",\"Full-time\",\"Full-time\",\"Full-time\",\"Full-time\",\"Full-time\",\"Full-time\",\"Full-time\",\"Full-time\",\"Full-time\",\"Full-time\",\"Full-time\",\"Full-time\",\"Full-time\",\"Full-time\",\"Full-time\",\"Full-time\",\"Full-time\",\"Full-time\",\"Full-time\",\"Full-time\",\"Full-time\",\"Full-time\",\"Full-time\",\"Full-time\",\"Full-time\",\"Full-time\",\"Full-time\",\"Full-time\",\"Full-time\",\"Full-time\",\"Full-time\",\"Full-time\",\"Full-time\",\"Full-time\",\"Full-time\",\"Full-time\",\"Full-time\",\"Full-time\",\"Full-time\",\"Full-time\",\"Full-time\",\"Full-time\",\"Full-time\",\"Full-time\",\"Full-time\",\"Full-time\",\"Full-time\",\"Full-time\",\"Full-time\",\"Full-time\",\"Full-time\",\"Full-time\",\"Full-time\",\"Full-time\",\"Full-time\",\"Full-time\",\"Full-time\",\"Full-time\",\"Full-time\",\"Full-time\",\"Full-time\",\"Full-time\",\"Full-time\",\"Full-time\",\"Full-time\",\"Full-time\",\"Full-time\",\"Full-time\",\"Full-time\",\"Full-time\",\"Full-time\",\"Full-time\",\"Full-time\",\"Full-time\",\"Full-time\",\"Full-time\",\"Full-time\",\"Full-time\",\"Full-time\",\"Full-time\",\"Full-time\",\"Full-time\",\"Full-time\",\"Full-time\",\"Full-time\",\"Full-time\",\"Full-time\",\"Full-time\",\"Full-time\",\"Full-time\",\"Full-time\",\"Full-time\",\"Full-time\",\"Full-time\",\"Full-time\",\"Full-time\",\"Full-time\",\"Full-time\",\"Full-time\",\"Full-time\",\"Full-time\",\"Full-time\",\"Full-time\",\"Full-time\",\"Full-time\",\"Full-time\",\"Full-time\",\"Full-time\",\"Full-time\",\"Full-time\",\"Full-time\",\"Full-time\",\"Full-time\",\"Full-time\",\"Full-time\",\"Full-time\",\"Full-time\",\"Full-time\",\"Full-time\",\"Full-time\",\"Full-time\",\"Full-time\",\"Full-time\",\"Full-time\",\"Full-time\",\"Full-time\",\"Full-time\",\"Full-time\",\"Full-time\",\"Full-time\",\"Full-time\",\"Full-time\",\"Full-time\",\"Full-time\",\"Full-time\",\"Full-time\",\"Full-time\",\"Full-time\",\"Full-time\",\"Full-time\",\"Full-time\",\"Full-time\",\"Full-time\",\"Full-time\",\"Full-time\",\"Full-time\",\"Full-time\",\"Full-time\",\"Full-time\",\"Full-time\",\"Full-time\",\"Full-time\",\"Full-time\",\"Full-time\",\"Full-time\",\"Full-time\",\"Full-time\",\"Full-time\",\"Full-time\",\"Full-time\",\"Full-time\",\"Full-time\",\"Full-time\",\"Full-time\",\"Full-time\",\"Full-time\",\"Full-time\",\"Full-time\",\"Full-time\",\"Full-time\",\"Full-time\",\"Full-time\",\"Full-time\",\"Full-time\",\"Full-time\",\"Full-time\",\"Full-time\",\"Full-time\",\"Full-time\",\"Full-time\",\"Full-time\",\"Full-time\",\"Full-time\",\"Full-time\",\"Full-time\",\"Full-time\",\"Full-time\",\"Full-time\",\"Full-time\",\"Full-time\",\"Full-time\",\"Full-time\",\"Full-time\",\"Full-time\",\"Full-time\",\"Full-time\",\"Full-time\",\"Full-time\",\"Full-time\",\"Full-time\",\"Full-time\",\"Full-time\",\"Full-time\",\"Full-time\",\"Full-time\",\"Full-time\",\"Full-time\",\"Full-time\",\"Full-time\",\"Full-time\",\"Full-time\",\"Full-time\",\"Full-time\",\"Full-time\",\"Full-time\",\"Full-time\",\"Full-time\",\"Full-time\",\"Full-time\",\"Full-time\",\"Full-time\",\"Full-time\",\"Full-time\",\"Full-time\",\"Full-time\",\"Full-time\",\"Full-time\",\"Full-time\",\"Full-time\",\"Full-time\",\"Full-time\",\"Full-time\",\"Full-time\",\"Full-time\",\"Full-time\",\"Full-time\",\"Full-time\",\"Full-time\",\"Full-time\",\"Full-time\",\"Full-time\",\"Full-time\",\"Full-time\",\"Full-time\",\"Full-time\",\"Full-time\",\"Full-time\",\"Full-time\",\"Full-time\",\"Full-time\",\"Full-time\",\"Full-time\",\"Full-time\",\"Full-time\",\"Full-time\",\"Full-time\",\"Full-time\",\"Full-time\",\"Full-time\",\"Full-time\",\"Full-time\",\"Full-time\",\"Full-time\",\"Full-time\",\"Full-time\",\"Full-time\",\"Full-time\",\"Full-time\",\"Full-time\",\"Full-time\",\"Full-time\",\"Full-time\",\"Full-time\",\"Full-time\",\"Full-time\",\"Full-time\",\"Full-time\",\"Full-time\",\"Full-time\",\"Full-time\",\"Full-time\",\"Full-time\",\"Full-time\",\"Full-time\",\"Full-time\",\"Full-time\",\"Full-time\",\"Full-time\",\"Full-time\",\"Full-time\",\"Full-time\",\"Full-time\",\"Full-time\",\"Full-time\",\"Full-time\",\"Full-time\",\"Full-time\",\"Full-time\",\"Full-time\",\"Full-time\",\"Full-time\",\"Full-time\",\"Full-time\",\"Full-time\",\"Full-time\",\"Full-time\",\"Full-time\",\"Full-time\",\"Full-time\",\"Full-time\",\"Full-time\",\"Full-time\",\"Full-time\",\"Full-time\",\"Full-time\",\"Full-time\",\"Full-time\",\"Full-time\",\"Full-time\",\"Full-time\",\"Full-time\",\"Full-time\",\"Full-time\",\"Full-time\",\"Full-time\",\"Full-time\",\"Full-time\",\"Full-time\",\"Full-time\",\"Full-time\",\"Full-time\",\"Full-time\",\"Full-time\",\"Full-time\",\"Full-time\",\"Full-time\",\"Full-time\",\"Full-time\",\"Full-time\",\"Full-time\",\"Full-time\",\"Full-time\",\"Full-time\",\"Full-time\",\"Full-time\",\"Full-time\",\"Full-time\",\"Full-time\",\"Full-time\",\"Full-time\",\"Full-time\",\"Full-time\",\"Full-time\",\"Full-time\",\"Full-time\",\"Full-time\",\"Full-time\",\"Full-time\",\"Full-time\",\"Full-time\",\"Full-time\",\"Full-time\",\"Full-time\",\"Full-time\",\"Full-time\",\"Full-time\",\"Full-time\",\"Full-time\",\"Full-time\",\"Full-time\",\"Full-time\",\"Full-time\",\"Full-time\",\"Full-time\",\"Full-time\",\"Full-time\",\"Full-time\",\"Full-time\",\"Full-time\",\"Full-time\",\"Full-time\",\"Full-time\",\"Full-time\",\"Full-time\",\"Full-time\",\"Full-time\",\"Full-time\",\"Full-time\",\"Full-time\",\"Full-time\",\"Full-time\",\"Full-time\",\"Full-time\",\"Full-time\",\"Full-time\",\"Full-time\",\"Full-time\",\"Full-time\",\"Full-time\",\"Full-time\",\"Full-time\",\"Full-time\",\"Full-time\",\"Full-time\",\"Full-time\",\"Full-time\",\"Full-time\",\"Full-time\",\"Full-time\",\"Full-time\",\"Full-time\",\"Full-time\",\"Full-time\",\"Full-time\",\"Full-time\",\"Full-time\",\"Full-time\",\"Full-time\",\"Full-time\",\"Full-time\",\"Full-time\",\"Full-time\",\"Full-time\",\"Full-time\",\"Full-time\",\"Full-time\",\"Full-time\",\"Full-time\",\"Full-time\",\"Full-time\",\"Full-time\",\"Full-time\",\"Full-time\",\"Full-time\",\"Full-time\",\"Full-time\",\"Full-time\",\"Full-time\",\"Full-time\",\"Full-time\",\"Full-time\",\"Full-time\",\"Full-time\",\"Full-time\",\"Full-time\",\"Full-time\",\"Full-time\",\"Full-time\",\"Full-time\",\"Full-time\",\"Full-time\",\"Full-time\",\"Full-time\",\"Full-time\",\"Full-time\",\"Full-time\",\"Full-time\",\"Full-time\",\"Full-time\",\"Full-time\",\"Full-time\",\"Full-time\",\"Full-time\",\"Full-time\",\"Full-time\",\"Full-time\",\"Full-time\",\"Full-time\",\"Full-time\",\"Full-time\",\"Full-time\",\"Full-time\",\"Full-time\",\"Full-time\",\"Full-time\",\"Full-time\",\"Full-time\",\"Full-time\",\"Full-time\",\"Full-time\",\"Full-time\",\"Full-time\",\"Full-time\",\"Full-time\",\"Full-time\",\"Full-time\",\"Full-time\",\"Full-time\",\"Full-time\",\"Full-time\",\"Full-time\",\"Full-time\",\"Full-time\",\"Full-time\",\"Full-time\",\"Full-time\",\"Full-time\",\"Full-time\",\"Full-time\",\"Full-time\",\"Full-time\",\"Full-time\",\"Full-time\",\"Full-time\",\"Full-time\",\"Full-time\",\"Full-time\",\"Full-time\",\"Full-time\",\"Full-time\",\"Full-time\",\"Full-time\",\"Full-time\",\"Full-time\",\"Full-time\",\"Full-time\",\"Full-time\",\"Full-time\",\"Full-time\",\"Full-time\",\"Full-time\",\"Full-time\",\"Full-time\",\"Full-time\",\"Full-time\",\"Full-time\",\"Full-time\",\"Full-time\",\"Full-time\",\"Full-time\",\"Full-time\",\"Full-time\",\"Full-time\",\"Full-time\",\"Full-time\",\"Full-time\",\"Full-time\",\"Full-time\",\"Full-time\",\"Full-time\",\"Full-time\",\"Full-time\",\"Full-time\",\"Full-time\",\"Full-time\",\"Full-time\",\"Full-time\",\"Full-time\",\"Full-time\",\"Full-time\",\"Full-time\",\"Full-time\",\"Full-time\",\"Full-time\",\"Full-time\",\"Full-time\",\"Full-time\",\"Full-time\",\"Full-time\",\"Full-time\",\"Full-time\",\"Full-time\",\"Full-time\",\"Full-time\",\"Full-time\",\"Full-time\",\"Full-time\",\"Full-time\",\"Full-time\",\"Full-time\",\"Full-time\",\"Full-time\",\"Full-time\",\"Full-time\",\"Full-time\",\"Full-time\",\"Full-time\",\"Full-time\",\"Full-time\",\"Full-time\",\"Full-time\",\"Full-time\",\"Full-time\",\"Full-time\",\"Full-time\",\"Full-time\",\"Full-time\",\"Full-time\",\"Full-time\",\"Full-time\",\"Full-time\",\"Full-time\",\"Full-time\",\"Full-time\",\"Full-time\",\"Full-time\",\"Full-time\",\"Full-time\",\"Full-time\",\"Full-time\",\"Full-time\",\"Full-time\",\"Full-time\",\"Full-time\",\"Full-time\",\"Full-time\",\"Full-time\",\"Full-time\",\"Full-time\",\"Full-time\",\"Full-time\",\"Full-time\",\"Full-time\",\"Full-time\",\"Full-time\",\"Full-time\",\"Full-time\",\"Full-time\",\"Full-time\",\"Full-time\",\"Full-time\",\"Full-time\",\"Full-time\",\"Full-time\",\"Full-time\",\"Full-time\",\"Full-time\",\"Full-time\",\"Full-time\",\"Full-time\",\"Full-time\",\"Full-time\",\"Full-time\",\"Full-time\",\"Full-time\",\"Full-time\",\"Full-time\",\"Full-time\",\"Full-time\",\"Full-time\",\"Full-time\",\"Full-time\",\"Full-time\",\"Full-time\",\"Full-time\",\"Full-time\",\"Full-time\",\"Full-time\",\"Full-time\",\"Full-time\",\"Full-time\",\"Full-time\",\"Full-time\",\"Full-time\",\"Full-time\",\"Full-time\",\"Full-time\",\"Full-time\",\"Full-time\",\"Full-time\",\"Full-time\",\"Full-time\",\"Full-time\",\"Full-time\",\"Full-time\",\"Full-time\",\"Full-time\",\"Full-time\",\"Full-time\",\"Full-time\",\"Full-time\",\"Full-time\",\"Full-time\",\"Full-time\",\"Full-time\",\"Full-time\",\"Full-time\",\"Full-time\",\"Full-time\",\"Full-time\",\"Full-time\",\"Full-time\",\"Full-time\",\"Full-time\",\"Full-time\",\"Full-time\",\"Full-time\",\"Full-time\",\"Full-time\",\"Full-time\",\"Full-time\",\"Full-time\",\"Full-time\",\"Full-time\",\"Full-time\",\"Full-time\",\"Full-time\",\"Full-time\",\"Full-time\",\"Full-time\",\"Full-time\",\"Full-time\",\"Full-time\",\"Full-time\",\"Full-time\",\"Full-time\",\"Full-time\",\"Full-time\",\"Full-time\",\"Full-time\",\"Full-time\",\"Full-time\",\"Full-time\",\"Full-time\",\"Full-time\",\"Full-time\",\"Full-time\",\"Full-time\",\"Full-time\",\"Full-time\",\"Full-time\",\"Full-time\",\"Full-time\",\"Full-time\",\"Full-time\",\"Full-time\",\"Full-time\",\"Full-time\",\"Full-time\",\"Full-time\",\"Full-time\",\"Full-time\",\"Full-time\",\"Full-time\",\"Full-time\",\"Full-time\",\"Full-time\",\"Full-time\",\"Full-time\",\"Full-time\",\"Full-time\",\"Full-time\",\"Full-time\",\"Full-time\",\"Full-time\",\"Full-time\",\"Full-time\",\"Full-time\",\"Full-time\",\"Full-time\",\"Full-time\",\"Full-time\",\"Full-time\",\"Full-time\",\"Full-time\",\"Full-time\",\"Full-time\",\"Full-time\",\"Full-time\",\"Full-time\",\"Full-time\",\"Full-time\",\"Full-time\",\"Full-time\",\"Full-time\",\"Full-time\",\"Full-time\",\"Full-time\",\"Full-time\",\"Full-time\",\"Full-time\",\"Full-time\",\"Full-time\",\"Full-time\",\"Full-time\",\"Full-time\",\"Full-time\",\"Full-time\",\"Full-time\",\"Full-time\",\"Full-time\",\"Full-time\",\"Full-time\",\"Full-time\",\"Full-time\",\"Full-time\",\"Full-time\",\"Full-time\",\"Full-time\",\"Full-time\",\"Full-time\",\"Full-time\",\"Full-time\",\"Full-time\",\"Full-time\",\"Full-time\",\"Full-time\",\"Full-time\",\"Full-time\",\"Full-time\",\"Full-time\",\"Full-time\",\"Full-time\",\"Full-time\",\"Full-time\",\"Full-time\",\"Full-time\",\"Full-time\",\"Full-time\",\"Full-time\",\"Full-time\",\"Full-time\",\"Full-time\",\"Full-time\",\"Full-time\",\"Full-time\",\"Full-time\",\"Full-time\",\"Full-time\",\"Full-time\",\"Full-time\",\"Full-time\",\"Full-time\",\"Full-time\",\"Full-time\",\"Full-time\",\"Full-time\",\"Full-time\",\"Full-time\",\"Full-time\",\"Full-time\",\"Full-time\",\"Full-time\",\"Full-time\",\"Full-time\",\"Full-time\",\"Full-time\",\"Full-time\",\"Full-time\",\"Full-time\",\"Full-time\",\"Full-time\",\"Full-time\",\"Full-time\",\"Full-time\",\"Full-time\",\"Full-time\",\"Full-time\",\"Full-time\",\"Full-time\",\"Full-time\",\"Full-time\",\"Full-time\",\"Full-time\",\"Full-time\",\"Full-time\",\"Full-time\",\"Full-time\",\"Full-time\",\"Full-time\",\"Full-time\",\"Full-time\",\"Full-time\",\"Full-time\",\"Full-time\",\"Full-time\",\"Full-time\",\"Full-time\",\"Full-time\",\"Full-time\",\"Full-time\",\"Full-time\",\"Full-time\",\"Full-time\",\"Full-time\",\"Full-time\",\"Full-time\",\"Full-time\",\"Full-time\",\"Full-time\",\"Full-time\",\"Full-time\",\"Full-time\",\"Full-time\",\"Full-time\",\"Full-time\",\"Full-time\",\"Full-time\",\"Full-time\",\"Full-time\",\"Full-time\",\"Full-time\",\"Full-time\",\"Full-time\",\"Full-time\",\"Full-time\",\"Full-time\",\"Full-time\",\"Full-time\",\"Full-time\",\"Full-time\",\"Full-time\",\"Full-time\",\"Full-time\",\"Full-time\",\"Full-time\",\"Full-time\",\"Full-time\",\"Full-time\",\"Full-time\",\"Full-time\",\"Full-time\",\"Full-time\",\"Full-time\",\"Full-time\",\"Full-time\",\"Full-time\",\"Full-time\",\"Full-time\",\"Full-time\",\"Full-time\",\"Full-time\",\"Full-time\",\"Full-time\",\"Full-time\",\"Full-time\",\"Full-time\",\"Full-time\",\"Full-time\",\"Full-time\",\"Full-time\",\"Full-time\",\"Full-time\",\"Full-time\",\"Full-time\",\"Full-time\",\"Full-time\",\"Full-time\",\"Full-time\",\"Full-time\",\"Full-time\",\"Full-time\",\"Full-time\",\"Full-time\",\"Full-time\",\"Full-time\",\"Full-time\",\"Full-time\",\"Full-time\",\"Full-time\",\"Full-time\",\"Full-time\",\"Full-time\",\"Full-time\",\"Full-time\",\"Full-time\",\"Full-time\",\"Full-time\",\"Full-time\",\"Full-time\",\"Full-time\",\"Full-time\",\"Full-time\",\"Full-time\",\"Full-time\",\"Full-time\",\"Full-time\",\"Full-time\",\"Full-time\",\"Full-time\",\"Full-time\",\"Full-time\",\"Full-time\",\"Full-time\",\"Full-time\",\"Full-time\",\"Full-time\",\"Full-time\",\"Full-time\",\"Full-time\",\"Full-time\",\"Full-time\",\"Full-time\",\"Full-time\",\"Full-time\",\"Full-time\",\"Full-time\",\"Full-time\",\"Full-time\",\"Full-time\",\"Full-time\",\"Full-time\",\"Full-time\",\"Full-time\",\"Full-time\",\"Full-time\",\"Full-time\",\"Full-time\",\"Full-time\",\"Full-time\",\"Full-time\",\"Full-time\",\"Full-time\",\"Full-time\",\"Full-time\",\"Full-time\",\"Full-time\",\"Full-time\",\"Full-time\",\"Full-time\",\"Full-time\",\"Full-time\",\"Full-time\",\"Full-time\",\"Full-time\",\"Full-time\",\"Full-time\",\"Full-time\",\"Full-time\",\"Full-time\",\"Full-time\",\"Full-time\",\"Full-time\",\"Full-time\",\"Full-time\",\"Full-time\",\"Full-time\",\"Full-time\",\"Full-time\",\"Full-time\",\"Full-time\",\"Full-time\",\"Full-time\",\"Full-time\",\"Full-time\",\"Full-time\",\"Full-time\",\"Full-time\",\"Full-time\",\"Full-time\",\"Full-time\",\"Full-time\",\"Full-time\",\"Full-time\",\"Full-time\",\"Full-time\",\"Full-time\",\"Full-time\",\"Full-time\",\"Full-time\",\"Full-time\",\"Full-time\",\"Full-time\",\"Full-time\",\"Full-time\",\"Full-time\",\"Full-time\",\"Full-time\",\"Full-time\",\"Full-time\",\"Full-time\",\"Full-time\",\"Full-time\",\"Full-time\",\"Full-time\",\"Full-time\",\"Full-time\",\"Full-time\",\"Full-time\",\"Full-time\",\"Full-time\",\"Full-time\",\"Full-time\",\"Full-time\",\"Full-time\",\"Full-time\",\"Full-time\",\"Full-time\",\"Full-time\",\"Full-time\",\"Full-time\",\"Full-time\",\"Full-time\",\"Full-time\",\"Full-time\",\"Full-time\",\"Full-time\",\"Full-time\",\"Full-time\",\"Full-time\",\"Full-time\",\"Full-time\",\"Full-time\",\"Full-time\",\"Full-time\",\"Full-time\",\"Full-time\",\"Full-time\",\"Full-time\",\"Full-time\",\"Full-time\",\"Full-time\",\"Full-time\",\"Full-time\",\"Full-time\",\"Full-time\",\"Full-time\",\"Full-time\",\"Full-time\",\"Full-time\",\"Full-time\",\"Full-time\",\"Full-time\",\"Full-time\",\"Full-time\",\"Full-time\",\"Full-time\",\"Full-time\",\"Full-time\",\"Full-time\",\"Full-time\",\"Full-time\",\"Full-time\",\"Full-time\",\"Full-time\",\"Full-time\",\"Full-time\",\"Full-time\",\"Full-time\",\"Full-time\",\"Full-time\",\"Full-time\",\"Full-time\",\"Full-time\",\"Full-time\",\"Full-time\",\"Full-time\",\"Full-time\",\"Full-time\",\"Full-time\",\"Full-time\",\"Full-time\",\"Full-time\",\"Full-time\",\"Full-time\",\"Full-time\",\"Full-time\",\"Full-time\",\"Full-time\",\"Full-time\",\"Full-time\",\"Full-time\",\"Full-time\",\"Full-time\",\"Full-time\",\"Full-time\",\"Full-time\",\"Full-time\",\"Full-time\",\"Full-time\",\"Full-time\",\"Full-time\",\"Full-time\",\"Full-time\",\"Full-time\",\"Full-time\",\"Full-time\",\"Full-time\",\"Full-time\",\"Full-time\",\"Full-time\",\"Full-time\",\"Full-time\",\"Full-time\",\"Full-time\",\"Full-time\",\"Full-time\",\"Full-time\",\"Full-time\",\"Full-time\",\"Full-time\",\"Full-time\",\"Full-time\",\"Full-time\",\"Full-time\",\"Full-time\",\"Full-time\",\"Full-time\",\"Full-time\",\"Full-time\",\"Full-time\",\"Full-time\",\"Full-time\",\"Full-time\",\"Full-time\",\"Full-time\",\"Full-time\",\"Full-time\",\"Full-time\",\"Full-time\",\"Full-time\",\"Full-time\",\"Full-time\",\"Full-time\",\"Full-time\",\"Full-time\",\"Full-time\",\"Full-time\",\"Full-time\",\"Full-time\",\"Full-time\",\"Full-time\",\"Full-time\",\"Full-time\",\"Full-time\",\"Full-time\",\"Full-time\",\"Full-time\",\"Full-time\",\"Full-time\",\"Full-time\",\"Full-time\",\"Full-time\",\"Full-time\",\"Full-time\",\"Full-time\",\"Full-time\",\"Full-time\",\"Full-time\",\"Full-time\",\"Full-time\",\"Full-time\",\"Full-time\",\"Full-time\",\"Full-time\",\"Full-time\",\"Full-time\",\"Full-time\",\"Full-time\",\"Full-time\",\"Full-time\",\"Full-time\",\"Full-time\",\"Full-time\",\"Full-time\",\"Full-time\",\"Full-time\",\"Full-time\",\"Full-time\",\"Full-time\",\"Full-time\",\"Full-time\",\"Full-time\",\"Full-time\",\"Full-time\",\"Full-time\",\"Full-time\",\"Full-time\",\"Full-time\",\"Full-time\",\"Full-time\",\"Full-time\",\"Full-time\",\"Full-time\",\"Full-time\",\"Full-time\",\"Full-time\",\"Full-time\",\"Full-time\",\"Full-time\",\"Full-time\",\"Full-time\",\"Full-time\",\"Full-time\",\"Full-time\",\"Full-time\",\"Full-time\",\"Full-time\",\"Full-time\",\"Full-time\",\"Full-time\",\"Full-time\",\"Full-time\",\"Full-time\",\"Full-time\",\"Full-time\",\"Full-time\",\"Full-time\",\"Full-time\",\"Full-time\",\"Full-time\",\"Full-time\",\"Full-time\",\"Full-time\",\"Full-time\",\"Full-time\",\"Full-time\",\"Full-time\",\"Full-time\",\"Full-time\",\"Full-time\",\"Full-time\",\"Full-time\",\"Full-time\",\"Full-time\",\"Full-time\",\"Full-time\",\"Full-time\",\"Full-time\",\"Full-time\",\"Full-time\",\"Full-time\",\"Full-time\",\"Full-time\",\"Full-time\",\"Full-time\",\"Full-time\",\"Full-time\",\"Full-time\",\"Full-time\",\"Full-time\",\"Full-time\",\"Full-time\",\"Full-time\",\"Full-time\",\"Full-time\",\"Full-time\",\"Full-time\",\"Full-time\",\"Full-time\",\"Full-time\",\"Full-time\",\"Full-time\",\"Full-time\",\"Full-time\",\"Full-time\",\"Full-time\",\"Full-time\",\"Full-time\",\"Full-time\",\"Full-time\",\"Full-time\",\"Full-time\",\"Full-time\",\"Full-time\",\"Full-time\",\"Full-time\",\"Full-time\",\"Full-time\",\"Full-time\",\"Full-time\",\"Full-time\",\"Full-time\",\"Full-time\",\"Full-time\",\"Full-time\",\"Full-time\",\"Full-time\",\"Full-time\",\"Full-time\",\"Full-time\",\"Full-time\",\"Full-time\",\"Full-time\",\"Full-time\",\"Full-time\",\"Full-time\",\"Full-time\",\"Full-time\",\"Full-time\",\"Full-time\",\"Full-time\",\"Full-time\",\"Full-time\",\"Full-time\",\"Full-time\",\"Full-time\",\"Full-time\",\"Full-time\",\"Full-time\",\"Full-time\",\"Full-time\",\"Full-time\",\"Full-time\",\"Full-time\",\"Full-time\",\"Full-time\",\"Full-time\",\"Full-time\",\"Full-time\",\"Full-time\",\"Full-time\",\"Full-time\",\"Full-time\",\"Full-time\",\"Full-time\",\"Full-time\",\"Full-time\",\"Full-time\",\"Full-time\",\"Full-time\",\"Full-time\",\"Full-time\",\"Full-time\",\"Full-time\",\"Full-time\",\"Full-time\",\"Full-time\",\"Full-time\",\"Full-time\",\"Full-time\",\"Full-time\",\"Full-time\",\"Full-time\",\"Full-time\",\"Full-time\",\"Full-time\",\"Full-time\",\"Full-time\",\"Full-time\",\"Full-time\",\"Full-time\",\"Full-time\",\"Full-time\",\"Full-time\",\"Full-time\",\"Full-time\",\"Full-time\",\"Full-time\",\"Full-time\",\"Full-time\",\"Full-time\",\"Full-time\",\"Full-time\",\"Full-time\",\"Full-time\",\"Full-time\",\"Full-time\",\"Full-time\",\"Full-time\",\"Full-time\",\"Full-time\",\"Full-time\",\"Full-time\",\"Full-time\",\"Full-time\",\"Full-time\",\"Full-time\",\"Full-time\",\"Full-time\",\"Full-time\",\"Full-time\",\"Full-time\",\"Full-time\",\"Full-time\",\"Full-time\",\"Full-time\",\"Full-time\",\"Full-time\",\"Full-time\",\"Full-time\",\"Full-time\",\"Full-time\",\"Full-time\",\"Full-time\",\"Full-time\",\"Full-time\",\"Full-time\",\"Full-time\",\"Full-time\",\"Full-time\",\"Full-time\",\"Full-time\",\"Full-time\",\"Full-time\",\"Full-time\",\"Full-time\",\"Full-time\",\"Full-time\",\"Full-time\",\"Full-time\",\"Full-time\",\"Full-time\",\"Full-time\",\"Full-time\",\"Full-time\",\"Full-time\",\"Full-time\",\"Full-time\",\"Full-time\",\"Full-time\",\"Full-time\",\"Full-time\",\"Full-time\",\"Full-time\",\"Full-time\",\"Full-time\",\"Full-time\",\"Full-time\",\"Full-time\",\"Full-time\",\"Full-time\",\"Full-time\",\"Full-time\",\"Full-time\",\"Full-time\",\"Full-time\",\"Full-time\",\"Full-time\",\"Full-time\",\"Full-time\",\"Full-time\",\"Full-time\",\"Full-time\",\"Full-time\",\"Full-time\",\"Full-time\",\"Full-time\",\"Full-time\",\"Full-time\",\"Full-time\",\"Full-time\",\"Full-time\",\"Full-time\",\"Full-time\",\"Full-time\",\"Full-time\",\"Full-time\",\"Full-time\",\"Full-time\",\"Full-time\",\"Full-time\",\"Full-time\",\"Full-time\",\"Full-time\",\"Full-time\",\"Full-time\",\"Full-time\",\"Full-time\",\"Full-time\",\"Full-time\",\"Full-time\",\"Full-time\",\"Full-time\",\"Full-time\",\"Full-time\",\"Full-time\",\"Full-time\",\"Full-time\",\"Full-time\",\"Full-time\",\"Full-time\",\"Full-time\",\"Full-time\",\"Full-time\",\"Full-time\",\"Full-time\",\"Full-time\",\"Full-time\",\"Full-time\",\"Full-time\",\"Full-time\",\"Full-time\",\"Full-time\",\"Full-time\",\"Full-time\",\"Full-time\",\"Full-time\",\"Full-time\",\"Full-time\",\"Full-time\",\"Full-time\",\"Full-time\",\"Full-time\",\"Full-time\",\"Full-time\",\"Full-time\",\"Full-time\",\"Full-time\",\"Full-time\",\"Full-time\",\"Full-time\",\"Full-time\",\"Full-time\",\"Full-time\",\"Full-time\",\"Full-time\",\"Full-time\",\"Full-time\",\"Full-time\",\"Full-time\",\"Full-time\",\"Full-time\",\"Full-time\",\"Full-time\",\"Full-time\",\"Full-time\",\"Full-time\",\"Full-time\",\"Full-time\",\"Full-time\",\"Full-time\",\"Full-time\",\"Full-time\",\"Full-time\",\"Full-time\",\"Full-time\",\"Full-time\",\"Full-time\",\"Full-time\",\"Full-time\",\"Full-time\",\"Full-time\",\"Full-time\",\"Full-time\",\"Full-time\",\"Full-time\",\"Full-time\",\"Full-time\",\"Full-time\",\"Full-time\",\"Full-time\",\"Full-time\",\"Full-time\",\"Full-time\",\"Full-time\",\"Full-time\",\"Full-time\",\"Full-time\",\"Full-time\",\"Full-time\",\"Full-time\",\"Full-time\",\"Full-time\",\"Full-time\",\"Full-time\",\"Full-time\",\"Full-time\",\"Full-time\",\"Full-time\",\"Full-time\",\"Full-time\",\"Full-time\",\"Full-time\",\"Full-time\",\"Full-time\",\"Full-time\",\"Full-time\",\"Full-time\",\"Full-time\",\"Full-time\",\"Full-time\",\"Full-time\",\"Full-time\",\"Full-time\",\"Full-time\",\"Full-time\",\"Full-time\",\"Full-time\",\"Full-time\",\"Full-time\",\"Full-time\",\"Full-time\",\"Full-time\",\"Full-time\",\"Full-time\",\"Full-time\",\"Full-time\",\"Full-time\",\"Full-time\",\"Full-time\",\"Full-time\",\"Full-time\",\"Full-time\",\"Full-time\",\"Full-time\",\"Full-time\",\"Full-time\",\"Full-time\",\"Full-time\",\"Full-time\",\"Full-time\",\"Full-time\",\"Full-time\",\"Full-time\",\"Full-time\",\"Full-time\",\"Full-time\",\"Full-time\",\"Full-time\",\"Full-time\",\"Full-time\",\"Full-time\",\"Full-time\",\"Full-time\",\"Full-time\",\"Full-time\",\"Full-time\",\"Full-time\",\"Full-time\",\"Full-time\",\"Full-time\",\"Full-time\",\"Full-time\",\"Full-time\",\"Full-time\",\"Full-time\",\"Full-time\",\"Full-time\",\"Full-time\",\"Full-time\",\"Full-time\",\"Full-time\",\"Full-time\",\"Full-time\",\"Full-time\",\"Full-time\",\"Full-time\",\"Full-time\",\"Full-time\",\"Full-time\",\"Full-time\",\"Full-time\",\"Full-time\",\"Full-time\",\"Full-time\",\"Full-time\",\"Full-time\",\"Full-time\",\"Full-time\",\"Full-time\",\"Full-time\",\"Full-time\",\"Full-time\",\"Full-time\",\"Full-time\",\"Full-time\",\"Full-time\",\"Full-time\",\"Full-time\",\"Full-time\",\"Full-time\",\"Full-time\",\"Full-time\",\"Full-time\",\"Full-time\",\"Full-time\",\"Full-time\",\"Full-time\",\"Full-time\",\"Full-time\",\"Full-time\",\"Full-time\",\"Full-time\",\"Full-time\",\"Full-time\",\"Full-time\",\"Full-time\",\"Full-time\",\"Full-time\",\"Full-time\",\"Full-time\",\"Full-time\",\"Full-time\",\"Full-time\",\"Full-time\",\"Full-time\",\"Full-time\",\"Full-time\",\"Full-time\",\"Full-time\",\"Full-time\",\"Full-time\",\"Full-time\",\"Full-time\",\"Full-time\",\"Full-time\",\"Full-time\",\"Full-time\",\"Full-time\",\"Full-time\",\"Full-time\",\"Full-time\",\"Full-time\",\"Full-time\",\"Full-time\",\"Full-time\",\"Full-time\",\"Full-time\",\"Full-time\",\"Full-time\",\"Full-time\",\"Full-time\",\"Full-time\",\"Full-time\",\"Full-time\",\"Full-time\",\"Full-time\",\"Full-time\",\"Full-time\",\"Full-time\",\"Full-time\",\"Full-time\",\"Full-time\",\"Full-time\",\"Full-time\",\"Full-time\",\"Full-time\",\"Full-time\",\"Full-time\",\"Full-time\",\"Full-time\",\"Full-time\",\"Full-time\",\"Full-time\",\"Full-time\",\"Full-time\",\"Full-time\",\"Full-time\",\"Full-time\",\"Full-time\",\"Full-time\",\"Full-time\",\"Full-time\",\"Full-time\",\"Full-time\",\"Full-time\",\"Full-time\",\"Full-time\",\"Full-time\",\"Full-time\",\"Full-time\",\"Full-time\",\"Full-time\",\"Full-time\",\"Full-time\",\"Full-time\",\"Full-time\",\"Full-time\",\"Full-time\",\"Full-time\",\"Full-time\",\"Full-time\",\"Full-time\",\"Full-time\",\"Full-time\",\"Full-time\",\"Full-time\",\"Full-time\",\"Full-time\",\"Full-time\",\"Full-time\",\"Full-time\",\"Full-time\",\"Full-time\",\"Full-time\",\"Full-time\",\"Full-time\",\"Full-time\",\"Full-time\",\"Full-time\",\"Full-time\",\"Full-time\",\"Full-time\",\"Full-time\",\"Full-time\",\"Full-time\",\"Full-time\",\"Full-time\",\"Full-time\",\"Full-time\",\"Full-time\",\"Full-time\",\"Full-time\",\"Full-time\",\"Full-time\",\"Full-time\",\"Full-time\",\"Full-time\",\"Full-time\",\"Full-time\",\"Full-time\",\"Full-time\",\"Full-time\",\"Full-time\",\"Full-time\",\"Full-time\",\"Full-time\",\"Full-time\",\"Full-time\",\"Full-time\",\"Full-time\",\"Full-time\",\"Full-time\",\"Full-time\",\"Full-time\",\"Full-time\",\"Full-time\",\"Full-time\",\"Full-time\",\"Full-time\",\"Full-time\",\"Full-time\",\"Full-time\",\"Full-time\",\"Full-time\",\"Full-time\",\"Full-time\",\"Full-time\",\"Full-time\",\"Full-time\",\"Full-time\",\"Full-time\",\"Full-time\",\"Full-time\",\"Full-time\",\"Full-time\",\"Full-time\",\"Full-time\",\"Full-time\",\"Full-time\",\"Full-time\",\"Full-time\",\"Full-time\",\"Full-time\",\"Full-time\",\"Full-time\",\"Full-time\",\"Full-time\",\"Full-time\",\"Full-time\",\"Full-time\",\"Full-time\",\"Full-time\",\"Full-time\",\"Full-time\",\"Full-time\",\"Full-time\",\"Full-time\",\"Full-time\",\"Full-time\",\"Full-time\",\"Full-time\",\"Full-time\",\"Full-time\",\"Full-time\",\"Full-time\",\"Full-time\",\"Full-time\",\"Full-time\",\"Full-time\",\"Full-time\",\"Full-time\",\"Full-time\",\"Full-time\",\"Full-time\",\"Full-time\",\"Full-time\",\"Full-time\",\"Full-time\",\"Full-time\",\"Full-time\",\"Full-time\",\"Full-time\",\"Full-time\",\"Full-time\",\"Full-time\",\"Full-time\",\"Full-time\",\"Full-time\",\"Full-time\",\"Full-time\",\"Full-time\",\"Full-time\",\"Full-time\",\"Full-time\",\"Full-time\",\"Full-time\",\"Full-time\",\"Full-time\",\"Full-time\",\"Full-time\",\"Full-time\",\"Full-time\",\"Full-time\",\"Full-time\",\"Full-time\",\"Full-time\",\"Full-time\",\"Full-time\",\"Full-time\",\"Full-time\",\"Full-time\",\"Full-time\",\"Full-time\",\"Full-time\",\"Full-time\",\"Full-time\",\"Full-time\",\"Full-time\",\"Full-time\",\"Full-time\",\"Full-time\",\"Full-time\",\"Full-time\",\"Full-time\",\"Full-time\",\"Full-time\",\"Full-time\",\"Full-time\",\"Full-time\",\"Full-time\",\"Full-time\",\"Full-time\",\"Full-time\",\"Full-time\",\"Full-time\",\"Full-time\",\"Full-time\",\"Full-time\",\"Full-time\",\"Full-time\",\"Full-time\",\"Full-time\",\"Full-time\",\"Full-time\",\"Full-time\",\"Full-time\",\"Full-time\",\"Full-time\",\"Full-time\",\"Full-time\",\"Full-time\",\"Full-time\",\"Full-time\",\"Full-time\",\"Full-time\",\"Full-time\",\"Full-time\",\"Full-time\",\"Full-time\",\"Full-time\",\"Full-time\",\"Full-time\",\"Full-time\",\"Full-time\",\"Full-time\",\"Full-time\",\"Full-time\",\"Full-time\",\"Full-time\",\"Full-time\",\"Full-time\",\"Full-time\",\"Full-time\",\"Full-time\",\"Full-time\",\"Full-time\",\"Full-time\",\"Full-time\",\"Full-time\",\"Full-time\",\"Full-time\",\"Full-time\",\"Full-time\",\"Full-time\",\"Full-time\",\"Full-time\",\"Full-time\",\"Full-time\",\"Full-time\",\"Full-time\",\"Full-time\",\"Full-time\",\"Full-time\",\"Full-time\",\"Full-time\",\"Full-time\",\"Full-time\",\"Full-time\",\"Full-time\",\"Full-time\",\"Full-time\",\"Full-time\",\"Full-time\",\"Full-time\",\"Full-time\",\"Full-time\",\"Full-time\",\"Full-time\",\"Full-time\",\"Full-time\",\"Full-time\",\"Full-time\",\"Full-time\",\"Full-time\",\"Full-time\",\"Full-time\",\"Full-time\",\"Full-time\",\"Full-time\",\"Full-time\",\"Full-time\",\"Full-time\",\"Full-time\",\"Full-time\",\"Full-time\",\"Full-time\",\"Full-time\",\"Full-time\",\"Full-time\",\"Full-time\",\"Full-time\",\"Full-time\",\"Full-time\",\"Full-time\",\"Full-time\",\"Full-time\",\"Full-time\",\"Full-time\",\"Full-time\",\"Full-time\",\"Full-time\",\"Full-time\",\"Full-time\",\"Full-time\",\"Full-time\",\"Full-time\",\"Full-time\",\"Full-time\",\"Full-time\",\"Full-time\",\"Full-time\",\"Full-time\",\"Full-time\",\"Full-time\",\"Full-time\",\"Full-time\",\"Full-time\",\"Full-time\",\"Full-time\",\"Full-time\",\"Full-time\",\"Full-time\",\"Full-time\",\"Full-time\",\"Full-time\",\"Full-time\",\"Full-time\",\"Full-time\",\"Full-time\",\"Full-time\",\"Full-time\",\"Full-time\",\"Full-time\",\"Full-time\",\"Full-time\",\"Full-time\",\"Full-time\",\"Full-time\",\"Full-time\",\"Full-time\",\"Full-time\",\"Full-time\",\"Full-time\",\"Full-time\",\"Full-time\",\"Full-time\",\"Full-time\",\"Full-time\",\"Full-time\",\"Full-time\",\"Full-time\",\"Full-time\",\"Full-time\",\"Full-time\",\"Full-time\",\"Full-time\",\"Full-time\",\"Full-time\",\"Full-time\",\"Full-time\",\"Full-time\",\"Full-time\",\"Full-time\",\"Full-time\",\"Full-time\",\"Full-time\",\"Full-time\",\"Full-time\",\"Full-time\",\"Full-time\",\"Full-time\",\"Full-time\",\"Full-time\",\"Full-time\",\"Full-time\",\"Full-time\",\"Full-time\",\"Full-time\",\"Full-time\",\"Full-time\",\"Full-time\",\"Full-time\",\"Full-time\",\"Full-time\",\"Full-time\",\"Full-time\",\"Full-time\",\"Full-time\",\"Full-time\",\"Full-time\",\"Full-time\",\"Full-time\",\"Full-time\",\"Full-time\",\"Full-time\",\"Full-time\",\"Full-time\",\"Full-time\",\"Full-time\",\"Full-time\",\"Full-time\",\"Full-time\",\"Full-time\",\"Full-time\",\"Full-time\",\"Full-time\",\"Full-time\",\"Full-time\",\"Full-time\",\"Full-time\",\"Full-time\",\"Full-time\",\"Full-time\",\"Full-time\",\"Full-time\",\"Full-time\",\"Full-time\",\"Full-time\"],\"xaxis\":\"x\",\"yaxis\":\"y\",\"type\":\"histogram\"},{\"alignmentgroup\":\"True\",\"bingroup\":\"x\",\"legendgroup\":\"Contract\",\"marker\":{\"color\":\"#2CA02C\",\"pattern\":{\"shape\":\"\"}},\"name\":\"Contract\",\"offsetgroup\":\"Contract\",\"orientation\":\"v\",\"showlegend\":true,\"x\":[\"Contract\",\"Contract\",\"Contract\",\"Contract\",\"Contract\",\"Contract\",\"Contract\",\"Contract\",\"Contract\",\"Contract\",\"Contract\",\"Contract\",\"Contract\",\"Contract\",\"Contract\",\"Contract\",\"Contract\",\"Contract\",\"Contract\",\"Contract\",\"Contract\",\"Contract\",\"Contract\",\"Contract\",\"Contract\",\"Contract\",\"Contract\",\"Contract\",\"Contract\",\"Contract\",\"Contract\",\"Contract\",\"Contract\",\"Contract\",\"Contract\",\"Contract\",\"Contract\",\"Contract\",\"Contract\",\"Contract\",\"Contract\",\"Contract\",\"Contract\",\"Contract\",\"Contract\",\"Contract\",\"Contract\",\"Contract\",\"Contract\",\"Contract\",\"Contract\",\"Contract\",\"Contract\",\"Contract\",\"Contract\",\"Contract\",\"Contract\",\"Contract\",\"Contract\",\"Contract\",\"Contract\",\"Contract\",\"Contract\",\"Contract\",\"Contract\",\"Contract\",\"Contract\",\"Contract\",\"Contract\",\"Contract\",\"Contract\",\"Contract\",\"Contract\",\"Contract\",\"Contract\",\"Contract\",\"Contract\",\"Contract\",\"Contract\",\"Contract\",\"Contract\",\"Contract\",\"Contract\",\"Contract\",\"Contract\",\"Contract\",\"Contract\",\"Contract\",\"Contract\",\"Contract\",\"Contract\",\"Contract\",\"Contract\",\"Contract\",\"Contract\",\"Contract\",\"Contract\",\"Contract\",\"Contract\",\"Contract\",\"Contract\",\"Contract\",\"Contract\",\"Contract\",\"Contract\",\"Contract\",\"Contract\",\"Contract\",\"Contract\",\"Contract\",\"Contract\",\"Contract\",\"Contract\",\"Contract\",\"Contract\",\"Contract\",\"Contract\",\"Contract\",\"Contract\",\"Contract\",\"Contract\",\"Contract\",\"Contract\",\"Contract\",\"Contract\",\"Contract\",\"Contract\",\"Contract\",\"Contract\",\"Contract\",\"Contract\",\"Contract\",\"Contract\",\"Contract\",\"Contract\",\"Contract\",\"Contract\",\"Contract\",\"Contract\",\"Contract\",\"Contract\",\"Contract\",\"Contract\",\"Contract\",\"Contract\",\"Contract\",\"Contract\",\"Contract\",\"Contract\",\"Contract\",\"Contract\",\"Contract\",\"Contract\",\"Contract\",\"Contract\",\"Contract\",\"Contract\",\"Contract\",\"Contract\",\"Contract\",\"Contract\",\"Contract\",\"Contract\",\"Contract\",\"Contract\",\"Contract\",\"Contract\",\"Contract\",\"Contract\",\"Contract\",\"Contract\",\"Contract\",\"Contract\",\"Contract\",\"Contract\",\"Contract\",\"Contract\",\"Contract\",\"Contract\",\"Contract\",\"Contract\",\"Contract\",\"Contract\",\"Contract\",\"Contract\",\"Contract\",\"Contract\",\"Contract\",\"Contract\",\"Contract\",\"Contract\",\"Contract\",\"Contract\",\"Contract\",\"Contract\",\"Contract\",\"Contract\",\"Contract\",\"Contract\",\"Contract\",\"Contract\",\"Contract\",\"Contract\",\"Contract\",\"Contract\",\"Contract\",\"Contract\",\"Contract\",\"Contract\",\"Contract\",\"Contract\",\"Contract\",\"Contract\",\"Contract\",\"Contract\",\"Contract\",\"Contract\",\"Contract\",\"Contract\",\"Contract\",\"Contract\",\"Contract\",\"Contract\",\"Contract\",\"Contract\",\"Contract\",\"Contract\",\"Contract\",\"Contract\",\"Contract\",\"Contract\",\"Contract\",\"Contract\",\"Contract\",\"Contract\",\"Contract\",\"Contract\",\"Contract\",\"Contract\",\"Contract\",\"Contract\",\"Contract\",\"Contract\",\"Contract\",\"Contract\",\"Contract\",\"Contract\",\"Contract\",\"Contract\",\"Contract\",\"Contract\",\"Contract\",\"Contract\",\"Contract\",\"Contract\",\"Contract\",\"Contract\",\"Contract\",\"Contract\",\"Contract\",\"Contract\",\"Contract\",\"Contract\",\"Contract\",\"Contract\",\"Contract\",\"Contract\",\"Contract\",\"Contract\",\"Contract\",\"Contract\",\"Contract\",\"Contract\",\"Contract\",\"Contract\",\"Contract\",\"Contract\",\"Contract\",\"Contract\",\"Contract\",\"Contract\",\"Contract\",\"Contract\",\"Contract\",\"Contract\",\"Contract\",\"Contract\",\"Contract\",\"Contract\",\"Contract\",\"Contract\",\"Contract\",\"Contract\",\"Contract\",\"Contract\",\"Contract\",\"Contract\",\"Contract\",\"Contract\",\"Contract\",\"Contract\",\"Contract\",\"Contract\",\"Contract\",\"Contract\",\"Contract\",\"Contract\",\"Contract\",\"Contract\",\"Contract\",\"Contract\",\"Contract\",\"Contract\",\"Contract\",\"Contract\",\"Contract\",\"Contract\",\"Contract\",\"Contract\",\"Contract\",\"Contract\",\"Contract\",\"Contract\",\"Contract\",\"Contract\",\"Contract\",\"Contract\",\"Contract\",\"Contract\",\"Contract\",\"Contract\",\"Contract\",\"Contract\",\"Contract\",\"Contract\",\"Contract\",\"Contract\",\"Contract\",\"Contract\",\"Contract\",\"Contract\",\"Contract\",\"Contract\",\"Contract\",\"Contract\",\"Contract\",\"Contract\",\"Contract\",\"Contract\",\"Contract\",\"Contract\",\"Contract\",\"Contract\",\"Contract\",\"Contract\",\"Contract\",\"Contract\",\"Contract\",\"Contract\",\"Contract\",\"Contract\",\"Contract\",\"Contract\",\"Contract\",\"Contract\",\"Contract\",\"Contract\",\"Contract\",\"Contract\",\"Contract\",\"Contract\",\"Contract\",\"Contract\",\"Contract\",\"Contract\",\"Contract\",\"Contract\",\"Contract\",\"Contract\",\"Contract\",\"Contract\",\"Contract\",\"Contract\",\"Contract\",\"Contract\",\"Contract\",\"Contract\",\"Contract\",\"Contract\",\"Contract\",\"Contract\",\"Contract\",\"Contract\",\"Contract\",\"Contract\",\"Contract\",\"Contract\",\"Contract\",\"Contract\",\"Contract\",\"Contract\",\"Contract\",\"Contract\",\"Contract\",\"Contract\",\"Contract\",\"Contract\",\"Contract\",\"Contract\",\"Contract\",\"Contract\",\"Contract\",\"Contract\",\"Contract\",\"Contract\",\"Contract\",\"Contract\",\"Contract\",\"Contract\",\"Contract\",\"Contract\",\"Contract\",\"Contract\",\"Contract\",\"Contract\",\"Contract\",\"Contract\",\"Contract\",\"Contract\",\"Contract\",\"Contract\",\"Contract\",\"Contract\",\"Contract\",\"Contract\",\"Contract\",\"Contract\",\"Contract\",\"Contract\",\"Contract\",\"Contract\",\"Contract\",\"Contract\",\"Contract\",\"Contract\",\"Contract\",\"Contract\",\"Contract\",\"Contract\",\"Contract\",\"Contract\",\"Contract\",\"Contract\",\"Contract\",\"Contract\",\"Contract\",\"Contract\",\"Contract\",\"Contract\",\"Contract\",\"Contract\",\"Contract\",\"Contract\",\"Contract\",\"Contract\",\"Contract\",\"Contract\",\"Contract\",\"Contract\",\"Contract\",\"Contract\",\"Contract\",\"Contract\",\"Contract\",\"Contract\",\"Contract\",\"Contract\",\"Contract\",\"Contract\",\"Contract\",\"Contract\",\"Contract\",\"Contract\",\"Contract\",\"Contract\",\"Contract\",\"Contract\",\"Contract\",\"Contract\",\"Contract\",\"Contract\",\"Contract\",\"Contract\",\"Contract\",\"Contract\",\"Contract\",\"Contract\",\"Contract\",\"Contract\",\"Contract\",\"Contract\",\"Contract\",\"Contract\",\"Contract\",\"Contract\",\"Contract\",\"Contract\",\"Contract\",\"Contract\",\"Contract\",\"Contract\",\"Contract\",\"Contract\",\"Contract\",\"Contract\",\"Contract\",\"Contract\",\"Contract\",\"Contract\",\"Contract\",\"Contract\",\"Contract\",\"Contract\",\"Contract\",\"Contract\",\"Contract\",\"Contract\",\"Contract\",\"Contract\",\"Contract\",\"Contract\",\"Contract\",\"Contract\",\"Contract\",\"Contract\",\"Contract\",\"Contract\",\"Contract\",\"Contract\",\"Contract\",\"Contract\",\"Contract\",\"Contract\",\"Contract\",\"Contract\",\"Contract\",\"Contract\",\"Contract\",\"Contract\",\"Contract\",\"Contract\",\"Contract\",\"Contract\",\"Contract\",\"Contract\",\"Contract\",\"Contract\",\"Contract\",\"Contract\",\"Contract\",\"Contract\",\"Contract\",\"Contract\",\"Contract\",\"Contract\",\"Contract\",\"Contract\",\"Contract\",\"Contract\",\"Contract\",\"Contract\",\"Contract\",\"Contract\",\"Contract\",\"Contract\",\"Contract\",\"Contract\",\"Contract\",\"Contract\",\"Contract\",\"Contract\",\"Contract\",\"Contract\",\"Contract\",\"Contract\",\"Contract\",\"Contract\",\"Contract\",\"Contract\",\"Contract\",\"Contract\",\"Contract\",\"Contract\",\"Contract\",\"Contract\",\"Contract\",\"Contract\",\"Contract\",\"Contract\",\"Contract\",\"Contract\",\"Contract\",\"Contract\",\"Contract\",\"Contract\",\"Contract\",\"Contract\",\"Contract\",\"Contract\",\"Contract\",\"Contract\",\"Contract\",\"Contract\",\"Contract\",\"Contract\",\"Contract\",\"Contract\",\"Contract\",\"Contract\",\"Contract\",\"Contract\",\"Contract\",\"Contract\",\"Contract\",\"Contract\",\"Contract\",\"Contract\",\"Contract\",\"Contract\",\"Contract\",\"Contract\",\"Contract\",\"Contract\",\"Contract\",\"Contract\",\"Contract\",\"Contract\",\"Contract\",\"Contract\",\"Contract\",\"Contract\",\"Contract\",\"Contract\",\"Contract\",\"Contract\",\"Contract\",\"Contract\",\"Contract\",\"Contract\",\"Contract\",\"Contract\",\"Contract\",\"Contract\",\"Contract\",\"Contract\",\"Contract\",\"Contract\",\"Contract\",\"Contract\",\"Contract\",\"Contract\",\"Contract\",\"Contract\",\"Contract\",\"Contract\",\"Contract\",\"Contract\",\"Contract\",\"Contract\",\"Contract\",\"Contract\",\"Contract\",\"Contract\",\"Contract\",\"Contract\",\"Contract\",\"Contract\",\"Contract\",\"Contract\",\"Contract\",\"Contract\",\"Contract\",\"Contract\",\"Contract\",\"Contract\",\"Contract\",\"Contract\",\"Contract\",\"Contract\",\"Contract\",\"Contract\",\"Contract\",\"Contract\",\"Contract\",\"Contract\",\"Contract\",\"Contract\",\"Contract\",\"Contract\",\"Contract\",\"Contract\",\"Contract\",\"Contract\",\"Contract\",\"Contract\",\"Contract\",\"Contract\",\"Contract\",\"Contract\",\"Contract\",\"Contract\",\"Contract\",\"Contract\",\"Contract\",\"Contract\",\"Contract\",\"Contract\",\"Contract\",\"Contract\",\"Contract\",\"Contract\",\"Contract\",\"Contract\",\"Contract\",\"Contract\",\"Contract\",\"Contract\",\"Contract\",\"Contract\",\"Contract\",\"Contract\",\"Contract\",\"Contract\",\"Contract\",\"Contract\",\"Contract\",\"Contract\",\"Contract\",\"Contract\",\"Contract\",\"Contract\",\"Contract\",\"Contract\",\"Contract\",\"Contract\",\"Contract\",\"Contract\",\"Contract\",\"Contract\",\"Contract\",\"Contract\",\"Contract\",\"Contract\",\"Contract\",\"Contract\",\"Contract\",\"Contract\",\"Contract\",\"Contract\",\"Contract\",\"Contract\",\"Contract\",\"Contract\",\"Contract\",\"Contract\",\"Contract\",\"Contract\",\"Contract\",\"Contract\",\"Contract\",\"Contract\",\"Contract\",\"Contract\",\"Contract\",\"Contract\",\"Contract\",\"Contract\",\"Contract\",\"Contract\",\"Contract\",\"Contract\",\"Contract\",\"Contract\",\"Contract\",\"Contract\",\"Contract\",\"Contract\",\"Contract\",\"Contract\",\"Contract\",\"Contract\",\"Contract\",\"Contract\",\"Contract\",\"Contract\",\"Contract\",\"Contract\",\"Contract\",\"Contract\",\"Contract\",\"Contract\",\"Contract\",\"Contract\",\"Contract\",\"Contract\",\"Contract\",\"Contract\",\"Contract\",\"Contract\",\"Contract\",\"Contract\",\"Contract\",\"Contract\",\"Contract\",\"Contract\",\"Contract\",\"Contract\",\"Contract\",\"Contract\",\"Contract\",\"Contract\",\"Contract\",\"Contract\",\"Contract\",\"Contract\",\"Contract\",\"Contract\",\"Contract\",\"Contract\",\"Contract\",\"Contract\",\"Contract\",\"Contract\",\"Contract\",\"Contract\",\"Contract\",\"Contract\",\"Contract\",\"Contract\",\"Contract\",\"Contract\",\"Contract\",\"Contract\",\"Contract\",\"Contract\",\"Contract\",\"Contract\",\"Contract\",\"Contract\",\"Contract\",\"Contract\",\"Contract\",\"Contract\",\"Contract\",\"Contract\",\"Contract\",\"Contract\",\"Contract\",\"Contract\",\"Contract\",\"Contract\",\"Contract\",\"Contract\",\"Contract\",\"Contract\",\"Contract\",\"Contract\",\"Contract\",\"Contract\",\"Contract\",\"Contract\",\"Contract\",\"Contract\",\"Contract\",\"Contract\",\"Contract\",\"Contract\",\"Contract\",\"Contract\",\"Contract\",\"Contract\",\"Contract\",\"Contract\",\"Contract\",\"Contract\",\"Contract\",\"Contract\",\"Contract\",\"Contract\",\"Contract\",\"Contract\",\"Contract\",\"Contract\",\"Contract\",\"Contract\",\"Contract\",\"Contract\",\"Contract\",\"Contract\",\"Contract\",\"Contract\",\"Contract\",\"Contract\",\"Contract\",\"Contract\",\"Contract\",\"Contract\",\"Contract\",\"Contract\",\"Contract\",\"Contract\",\"Contract\",\"Contract\",\"Contract\",\"Contract\",\"Contract\",\"Contract\",\"Contract\",\"Contract\",\"Contract\",\"Contract\",\"Contract\",\"Contract\",\"Contract\",\"Contract\",\"Contract\",\"Contract\",\"Contract\",\"Contract\",\"Contract\",\"Contract\",\"Contract\",\"Contract\",\"Contract\",\"Contract\",\"Contract\",\"Contract\",\"Contract\",\"Contract\",\"Contract\",\"Contract\",\"Contract\",\"Contract\",\"Contract\",\"Contract\",\"Contract\",\"Contract\",\"Contract\",\"Contract\",\"Contract\",\"Contract\",\"Contract\",\"Contract\",\"Contract\",\"Contract\",\"Contract\",\"Contract\",\"Contract\",\"Contract\",\"Contract\",\"Contract\",\"Contract\",\"Contract\",\"Contract\",\"Contract\",\"Contract\",\"Contract\",\"Contract\",\"Contract\",\"Contract\",\"Contract\",\"Contract\",\"Contract\",\"Contract\",\"Contract\",\"Contract\",\"Contract\",\"Contract\",\"Contract\",\"Contract\",\"Contract\",\"Contract\",\"Contract\",\"Contract\",\"Contract\",\"Contract\",\"Contract\",\"Contract\",\"Contract\",\"Contract\",\"Contract\",\"Contract\",\"Contract\",\"Contract\",\"Contract\",\"Contract\",\"Contract\",\"Contract\",\"Contract\",\"Contract\",\"Contract\",\"Contract\",\"Contract\",\"Contract\",\"Contract\",\"Contract\",\"Contract\",\"Contract\",\"Contract\",\"Contract\",\"Contract\",\"Contract\",\"Contract\",\"Contract\",\"Contract\",\"Contract\",\"Contract\",\"Contract\",\"Contract\",\"Contract\",\"Contract\",\"Contract\",\"Contract\",\"Contract\",\"Contract\",\"Contract\",\"Contract\",\"Contract\",\"Contract\",\"Contract\",\"Contract\",\"Contract\",\"Contract\",\"Contract\",\"Contract\",\"Contract\",\"Contract\",\"Contract\",\"Contract\",\"Contract\",\"Contract\",\"Contract\",\"Contract\",\"Contract\",\"Contract\",\"Contract\",\"Contract\",\"Contract\",\"Contract\",\"Contract\",\"Contract\",\"Contract\",\"Contract\",\"Contract\",\"Contract\",\"Contract\",\"Contract\",\"Contract\",\"Contract\",\"Contract\",\"Contract\",\"Contract\",\"Contract\",\"Contract\",\"Contract\",\"Contract\",\"Contract\",\"Contract\",\"Contract\",\"Contract\",\"Contract\",\"Contract\",\"Contract\",\"Contract\",\"Contract\",\"Contract\",\"Contract\",\"Contract\",\"Contract\",\"Contract\",\"Contract\",\"Contract\",\"Contract\",\"Contract\",\"Contract\",\"Contract\",\"Contract\",\"Contract\",\"Contract\",\"Contract\",\"Contract\",\"Contract\",\"Contract\",\"Contract\",\"Contract\",\"Contract\",\"Contract\",\"Contract\",\"Contract\",\"Contract\",\"Contract\",\"Contract\",\"Contract\",\"Contract\",\"Contract\",\"Contract\",\"Contract\",\"Contract\",\"Contract\",\"Contract\",\"Contract\",\"Contract\",\"Contract\",\"Contract\",\"Contract\",\"Contract\",\"Contract\",\"Contract\",\"Contract\",\"Contract\",\"Contract\",\"Contract\",\"Contract\",\"Contract\",\"Contract\",\"Contract\",\"Contract\",\"Contract\",\"Contract\",\"Contract\",\"Contract\",\"Contract\",\"Contract\",\"Contract\",\"Contract\",\"Contract\",\"Contract\",\"Contract\",\"Contract\",\"Contract\",\"Contract\",\"Contract\",\"Contract\",\"Contract\",\"Contract\",\"Contract\",\"Contract\",\"Contract\",\"Contract\",\"Contract\",\"Contract\",\"Contract\",\"Contract\",\"Contract\",\"Contract\",\"Contract\",\"Contract\",\"Contract\",\"Contract\",\"Contract\",\"Contract\",\"Contract\",\"Contract\",\"Contract\",\"Contract\",\"Contract\",\"Contract\",\"Contract\",\"Contract\",\"Contract\",\"Contract\",\"Contract\",\"Contract\",\"Contract\",\"Contract\",\"Contract\",\"Contract\",\"Contract\",\"Contract\",\"Contract\",\"Contract\",\"Contract\",\"Contract\",\"Contract\",\"Contract\",\"Contract\",\"Contract\",\"Contract\",\"Contract\",\"Contract\",\"Contract\",\"Contract\",\"Contract\",\"Contract\",\"Contract\",\"Contract\",\"Contract\",\"Contract\",\"Contract\",\"Contract\",\"Contract\",\"Contract\",\"Contract\",\"Contract\",\"Contract\",\"Contract\",\"Contract\",\"Contract\",\"Contract\",\"Contract\",\"Contract\",\"Contract\",\"Contract\",\"Contract\",\"Contract\",\"Contract\",\"Contract\",\"Contract\",\"Contract\",\"Contract\",\"Contract\",\"Contract\",\"Contract\",\"Contract\",\"Contract\",\"Contract\",\"Contract\",\"Contract\",\"Contract\",\"Contract\",\"Contract\",\"Contract\",\"Contract\",\"Contract\",\"Contract\",\"Contract\",\"Contract\",\"Contract\",\"Contract\",\"Contract\",\"Contract\",\"Contract\",\"Contract\",\"Contract\",\"Contract\",\"Contract\",\"Contract\",\"Contract\",\"Contract\",\"Contract\",\"Contract\",\"Contract\",\"Contract\",\"Contract\",\"Contract\",\"Contract\",\"Contract\",\"Contract\",\"Contract\",\"Contract\",\"Contract\",\"Contract\",\"Contract\",\"Contract\",\"Contract\",\"Contract\",\"Contract\",\"Contract\",\"Contract\",\"Contract\",\"Contract\",\"Contract\",\"Contract\",\"Contract\",\"Contract\",\"Contract\",\"Contract\",\"Contract\",\"Contract\",\"Contract\",\"Contract\",\"Contract\",\"Contract\",\"Contract\",\"Contract\",\"Contract\"],\"xaxis\":\"x\",\"yaxis\":\"y\",\"type\":\"histogram\"},{\"alignmentgroup\":\"True\",\"bingroup\":\"x\",\"legendgroup\":\"Temporary\",\"marker\":{\"color\":\"#D62728\",\"pattern\":{\"shape\":\"\"}},\"name\":\"Temporary\",\"offsetgroup\":\"Temporary\",\"orientation\":\"v\",\"showlegend\":true,\"x\":[\"Temporary\",\"Temporary\"],\"xaxis\":\"x\",\"yaxis\":\"y\",\"type\":\"histogram\"},{\"alignmentgroup\":\"True\",\"bingroup\":\"x\",\"legendgroup\":\"Volunteer\",\"marker\":{\"color\":\"#9467BD\",\"pattern\":{\"shape\":\"\"}},\"name\":\"Volunteer\",\"offsetgroup\":\"Volunteer\",\"orientation\":\"v\",\"showlegend\":true,\"x\":[\"Volunteer\",\"Volunteer\"],\"xaxis\":\"x\",\"yaxis\":\"y\",\"type\":\"histogram\"}],                        {\"template\":{\"data\":{\"bar\":[{\"hovertemplate\":\"<b>%{x}</b><br><i>Count</i>: %{y}\",\"type\":\"bar\"}],\"histogram\":[{\"hovertemplate\":\"<b>%{x}</b><br><i>Count</i>: %{y}\",\"type\":\"histogram\"}],\"pie\":[{\"hovertemplate\":\"<b>%{label}</b><br><i>Count</i>: %{value}\",\"type\":\"pie\"}],\"scatter\":[{\"hovertemplate\":\"<b>%{x}</b><br><i>Count</i>: %{y}\",\"type\":\"scatter\"}]},\"layout\":{\"colorway\":[\"#1F77B4\",\"#FF7F0E\",\"#2CA02C\",\"#D62728\",\"#9467BD\",\"#8C564B\",\"#E377C2\",\"#7F7F7F\",\"#BCBD22\",\"#17BECF\"],\"dragmode\":\"pan\",\"font\":{\"size\":16},\"legend\":{\"font\":{\"size\":17}},\"paper_bgcolor\":\"rgb(171,200,227)\",\"plot_bgcolor\":\"#BAE0F3\",\"showlegend\":false,\"title\":{\"font\":{\"size\":19}},\"uniformtext\":{\"minsize\":12,\"mode\":\"hide\"},\"xaxis\":{\"showgrid\":false,\"zeroline\":false},\"yaxis\":{\"zeroline\":false}}},\"xaxis\":{\"anchor\":\"y\",\"domain\":[0.0,1.0],\"title\":{\"text\":\"Employment type\"},\"categoryorder\":\"array\",\"categoryarray\":[\"Full-time\",null,\"Contract\",\"Temporary\",\"Volunteer\"]},\"yaxis\":{\"anchor\":\"x\",\"domain\":[0.0,1.0],\"title\":{\"text\":\"count\",\"standoff\":20}},\"legend\":{\"title\":{\"text\":\"Employment type\"},\"tracegroupgap\":0},\"margin\":{\"t\":60,\"l\":100},\"barmode\":\"relative\",\"annotations\":[{\"ax\":0,\"ay\":0,\"font\":{\"size\":16},\"text\":\"Jobs by Employment Type:  5527\",\"x\":1,\"xanchor\":\"right\",\"xref\":\"paper\",\"y\":-0.1,\"yanchor\":\"top\",\"yref\":\"paper\"}],\"coloraxis\":{\"showscale\":false},\"title\":{\"text\":\"Number of Jobs by Employment Type\"}},                        {\"responsive\": true}                    ).then(function(){\n",
       "                            \n",
       "var gd = document.getElementById('b9a535f5-3780-4c47-8b93-9346c430bb91');\n",
       "var x = new MutationObserver(function (mutations, observer) {{\n",
       "        var display = window.getComputedStyle(gd).display;\n",
       "        if (!display || display === 'none') {{\n",
       "            console.log([gd, 'removed!']);\n",
       "            Plotly.purge(gd);\n",
       "            observer.disconnect();\n",
       "        }}\n",
       "}});\n",
       "\n",
       "// Listen for the removal of the full notebook cells\n",
       "var notebookContainer = gd.closest('#notebook-container');\n",
       "if (notebookContainer) {{\n",
       "    x.observe(notebookContainer, {childList: true});\n",
       "}}\n",
       "\n",
       "// Listen for the clearing of the current output cell\n",
       "var outputEl = gd.closest('.output');\n",
       "if (outputEl) {{\n",
       "    x.observe(outputEl, {childList: true});\n",
       "}}\n",
       "\n",
       "                        })                };                });            </script>        </div>"
      ]
     },
     "metadata": {},
     "output_type": "display_data"
    }
   ],
   "source": [
    "fig6 = px.histogram(df, x=\"Employment type\", color=\"Employment type\")\n",
    "remove_px_attributes(fig6)\n",
    "add_annotation_for_figure(fig6, f\"Jobs by Employment Type:  {sum(df['Employment type'].isnull() == False)}\", \n",
    "                          x_anchor=\"right\", x=1)\n",
    "fig6.update_yaxes(title=dict(text=\"count\", standoff=20))\n",
    "fig6.update_xaxes(title=\"Employment type\")\n",
    "fig6.update_layout(title=\"Number of Jobs by Employment Type\", margin=dict(l=100), coloraxis_showscale=False)"
   ]
  },
  {
   "cell_type": "code",
   "execution_count": 37,
   "metadata": {},
   "outputs": [
    {
     "data": {
      "text/plain": [
       "16      $100,000.00\\r\\n            -\\r\\n            $1...\n",
       "48      $50,000.00\\r\\n            -\\r\\n            $55...\n",
       "70      $100,000.00\\r\\n            -\\r\\n            $1...\n",
       "122     $100,000.00\\r\\n            -\\r\\n            $1...\n",
       "176     $100,000.00\\r\\n            -\\r\\n            $1...\n",
       "                              ...                        \n",
       "5607        $30.00\\r\\n            -\\r\\n            $33.00\n",
       "5609    $120,000.00\\r\\n            -\\r\\n            $1...\n",
       "5614    $75,000.00\\r\\n            -\\r\\n            $95...\n",
       "5616    $85,000.00\\r\\n            -\\r\\n            $95...\n",
       "5617    $130,000.00\\r\\n            -\\r\\n            $1...\n",
       "Name: salary, Length: 965, dtype: object"
      ]
     },
     "execution_count": 37,
     "metadata": {},
     "output_type": "execute_result"
    }
   ],
   "source": [
    "df.loc[~df[\"salary\"].isnull(), \"salary\"]\n"
   ]
  },
  {
   "cell_type": "code",
   "execution_count": 38,
   "metadata": {},
   "outputs": [],
   "source": [
    "df_salary = pd.DataFrame()\n",
    "salary_data = df[\"salary\"].replace(\"[\\r\\n\\s,]+\", \"\", regex=True) \\\n",
    "                          .replace(\"CA\", \"\", regex=True) # replace spaces and unexpected text\n",
    "\n",
    "salaries = salary_data.str.split(\"-\")\n",
    "\n",
    "## Left bound and upper bound salaries\n",
    "df_salary[\"salary_lb\"] = salaries.str[0].str.strip(\"$\").astype(float)\n",
    "df_salary[\"salary_ub\"] = salaries.str[1].str.strip(\"$\").astype(float)\n",
    "df_salary[\"salary_text\"] = salary_data"
   ]
  },
  {
   "cell_type": "code",
   "execution_count": 39,
   "metadata": {},
   "outputs": [
    {
     "data": {
      "text/html": [
       "<div>\n",
       "<style scoped>\n",
       "    .dataframe tbody tr th:only-of-type {\n",
       "        vertical-align: middle;\n",
       "    }\n",
       "\n",
       "    .dataframe tbody tr th {\n",
       "        vertical-align: top;\n",
       "    }\n",
       "\n",
       "    .dataframe thead th {\n",
       "        text-align: right;\n",
       "    }\n",
       "</style>\n",
       "<table border=\"1\" class=\"dataframe\">\n",
       "  <thead>\n",
       "    <tr style=\"text-align: right;\">\n",
       "      <th></th>\n",
       "      <th>salary_lb</th>\n",
       "      <th>salary_ub</th>\n",
       "      <th>salary_text</th>\n",
       "    </tr>\n",
       "  </thead>\n",
       "  <tbody>\n",
       "    <tr>\n",
       "      <th>0</th>\n",
       "      <td>NaN</td>\n",
       "      <td>NaN</td>\n",
       "      <td>NaN</td>\n",
       "    </tr>\n",
       "    <tr>\n",
       "      <th>1</th>\n",
       "      <td>NaN</td>\n",
       "      <td>NaN</td>\n",
       "      <td>NaN</td>\n",
       "    </tr>\n",
       "    <tr>\n",
       "      <th>2</th>\n",
       "      <td>NaN</td>\n",
       "      <td>NaN</td>\n",
       "      <td>NaN</td>\n",
       "    </tr>\n",
       "    <tr>\n",
       "      <th>3</th>\n",
       "      <td>NaN</td>\n",
       "      <td>NaN</td>\n",
       "      <td>NaN</td>\n",
       "    </tr>\n",
       "    <tr>\n",
       "      <th>4</th>\n",
       "      <td>NaN</td>\n",
       "      <td>NaN</td>\n",
       "      <td>NaN</td>\n",
       "    </tr>\n",
       "  </tbody>\n",
       "</table>\n",
       "</div>"
      ],
      "text/plain": [
       "   salary_lb  salary_ub salary_text\n",
       "0        NaN        NaN         NaN\n",
       "1        NaN        NaN         NaN\n",
       "2        NaN        NaN         NaN\n",
       "3        NaN        NaN         NaN\n",
       "4        NaN        NaN         NaN"
      ]
     },
     "execution_count": 39,
     "metadata": {},
     "output_type": "execute_result"
    }
   ],
   "source": [
    "df_salary.head()"
   ]
  },
  {
   "cell_type": "code",
   "execution_count": 40,
   "metadata": {},
   "outputs": [
    {
     "data": {
      "text/html": [
       "<div>\n",
       "<style scoped>\n",
       "    .dataframe tbody tr th:only-of-type {\n",
       "        vertical-align: middle;\n",
       "    }\n",
       "\n",
       "    .dataframe tbody tr th {\n",
       "        vertical-align: top;\n",
       "    }\n",
       "\n",
       "    .dataframe thead th {\n",
       "        text-align: right;\n",
       "    }\n",
       "</style>\n",
       "<table border=\"1\" class=\"dataframe\">\n",
       "  <thead>\n",
       "    <tr style=\"text-align: right;\">\n",
       "      <th></th>\n",
       "      <th>salary_lb</th>\n",
       "      <th>salary_ub</th>\n",
       "    </tr>\n",
       "  </thead>\n",
       "  <tbody>\n",
       "    <tr>\n",
       "      <th>count</th>\n",
       "      <td>965.000000</td>\n",
       "      <td>965.000000</td>\n",
       "    </tr>\n",
       "    <tr>\n",
       "      <th>mean</th>\n",
       "      <td>50985.354238</td>\n",
       "      <td>61313.719047</td>\n",
       "    </tr>\n",
       "    <tr>\n",
       "      <th>std</th>\n",
       "      <td>49165.472000</td>\n",
       "      <td>58034.939059</td>\n",
       "    </tr>\n",
       "    <tr>\n",
       "      <th>min</th>\n",
       "      <td>22.000000</td>\n",
       "      <td>24.000000</td>\n",
       "    </tr>\n",
       "    <tr>\n",
       "      <th>25%</th>\n",
       "      <td>40.000000</td>\n",
       "      <td>60.000000</td>\n",
       "    </tr>\n",
       "    <tr>\n",
       "      <th>50%</th>\n",
       "      <td>60000.000000</td>\n",
       "      <td>80000.000000</td>\n",
       "    </tr>\n",
       "    <tr>\n",
       "      <th>75%</th>\n",
       "      <td>90000.000000</td>\n",
       "      <td>115000.000000</td>\n",
       "    </tr>\n",
       "    <tr>\n",
       "      <th>max</th>\n",
       "      <td>135000.000000</td>\n",
       "      <td>155000.000000</td>\n",
       "    </tr>\n",
       "  </tbody>\n",
       "</table>\n",
       "</div>"
      ],
      "text/plain": [
       "           salary_lb      salary_ub\n",
       "count     965.000000     965.000000\n",
       "mean    50985.354238   61313.719047\n",
       "std     49165.472000   58034.939059\n",
       "min        22.000000      24.000000\n",
       "25%        40.000000      60.000000\n",
       "50%     60000.000000   80000.000000\n",
       "75%     90000.000000  115000.000000\n",
       "max    135000.000000  155000.000000"
      ]
     },
     "execution_count": 40,
     "metadata": {},
     "output_type": "execute_result"
    }
   ],
   "source": [
    "df_salary.describe()"
   ]
  },
  {
   "cell_type": "code",
   "execution_count": 41,
   "metadata": {},
   "outputs": [
    {
     "data": {
      "text/html": [
       "<div>                            <div id=\"d2a19536-2408-4250-a826-20e035cebdc9\" class=\"plotly-graph-div\" style=\"height:525px; width:100%;\"></div>            <script type=\"text/javascript\">                require([\"plotly\"], function(Plotly) {                    window.PLOTLYENV=window.PLOTLYENV || {};                                    if (document.getElementById(\"d2a19536-2408-4250-a826-20e035cebdc9\")) {                    Plotly.newPlot(                        \"d2a19536-2408-4250-a826-20e035cebdc9\",                        [{\"alignmentgroup\":\"True\",\"bingroup\":\"x\",\"hovertemplate\":\"salary_lb=%{x}<br>count=%{y}<extra></extra>\",\"legendgroup\":\"\",\"marker\":{\"color\":\"#1F77B4\",\"pattern\":{\"shape\":\"\"}},\"name\":\"\",\"offsetgroup\":\"\",\"orientation\":\"v\",\"showlegend\":false,\"x\":[null,null,null,null,null,null,null,null,null,null,null,null,null,null,null,null,100000.0,null,null,null,null,null,null,null,null,null,null,null,null,null,null,null,null,null,null,null,null,null,null,null,null,null,null,null,null,null,null,null,50000.0,null,null,null,null,null,null,null,null,null,null,null,null,null,null,null,null,null,null,null,null,null,100000.0,null,null,null,null,null,null,null,null,null,null,null,null,null,null,null,null,null,null,null,null,null,null,null,null,null,null,null,null,null,null,null,null,null,null,null,null,null,null,null,null,null,null,null,null,null,null,null,null,null,null,null,100000.0,null,null,null,null,null,null,null,null,null,null,null,null,null,null,null,null,null,null,null,null,null,null,null,null,null,null,null,null,null,null,null,null,null,null,null,null,null,null,null,null,null,null,null,null,null,null,null,null,null,null,null,null,null,100000.0,null,null,null,null,null,null,null,null,null,null,null,null,null,null,null,null,null,null,null,null,null,5800.0,null,null,null,null,null,null,null,null,null,null,null,null,null,null,null,null,null,null,null,null,null,100000.0,null,null,null,null,null,null,null,null,null,null,null,null,null,null,null,null,null,null,null,null,null,null,null,null,null,null,null,null,null,null,null,null,null,null,null,null,null,null,null,null,null,null,null,null,null,null,null,100000.0,null,null,null,null,null,null,null,null,null,null,null,50000.0,null,null,null,5800.0,null,null,null,null,null,100000.0,null,null,null,50.0,null,null,null,null,null,null,null,null,null,null,null,null,null,null,null,null,null,null,null,null,null,null,null,null,null,null,null,null,null,100000.0,null,null,null,null,null,null,null,null,null,null,null,null,null,null,null,null,null,null,null,null,null,5800.0,null,null,null,null,null,null,null,null,null,null,null,null,null,null,null,null,null,null,null,null,null,null,null,null,null,null,null,null,null,100000.0,null,null,null,null,null,null,null,null,null,null,null,null,null,null,null,null,null,null,null,null,null,null,null,null,null,null,null,null,null,null,null,null,null,null,null,null,null,null,null,null,null,null,null,100000.0,null,null,null,null,null,null,null,null,null,null,null,null,null,50000.0,null,null,null,5800.0,null,null,null,null,null,50.0,null,null,null,null,null,null,null,null,null,null,null,null,null,null,null,null,null,null,null,null,null,null,null,null,null,null,null,100000.0,null,null,null,null,null,null,null,null,null,50000.0,null,null,null,5800.0,null,null,null,null,null,50.0,null,null,null,null,null,null,null,null,null,null,null,50000.0,null,null,null,null,null,null,null,null,null,null,null,null,null,null,null,null,null,null,null,null,null,null,null,null,null,null,null,null,null,null,null,55000.0,null,null,null,null,null,null,null,null,null,100000.0,null,50.0,null,null,null,null,null,null,null,null,null,null,null,null,null,null,null,null,null,null,null,null,null,100000.0,null,null,null,null,null,null,null,null,null,null,null,null,null,null,null,5800.0,null,null,null,null,null,100000.0,null,null,null,50.0,null,null,null,null,null,null,null,null,null,null,null,null,null,null,null,null,null,null,null,null,null,null,null,null,null,100000.0,null,null,null,null,null,null,null,null,null,null,null,null,null,null,null,null,null,null,null,null,null,null,null,null,null,null,null,null,null,null,null,null,null,null,null,null,null,null,null,null,null,null,null,null,null,null,null,100000.0,null,null,null,null,null,null,null,null,null,null,null,50000.0,null,null,null,5800.0,null,null,null,null,null,50.0,null,null,null,null,null,null,null,null,null,null,null,null,null,null,null,null,null,null,null,null,null,null,null,null,null,null,null,100000.0,null,null,null,null,null,null,null,null,null,null,null,null,null,50000.0,null,null,null,5800.0,null,null,null,null,null,50.0,null,null,null,null,null,null,null,null,null,null,null,null,null,null,null,null,null,null,null,null,null,null,null,null,null,null,null,null,null,null,null,100000.0,null,null,null,null,null,null,null,null,null,null,null,null,null,null,null,null,null,null,null,50000.0,null,5800.0,null,null,null,null,null,null,null,null,null,null,null,null,null,null,null,null,null,null,null,null,null,100000.0,null,null,null,null,null,null,null,null,null,null,null,null,null,null,null,null,null,null,null,null,null,null,null,null,null,null,null,null,null,null,null,null,null,null,null,null,null,null,null,null,null,null,null,null,null,null,null,100000.0,null,null,null,null,null,null,null,null,null,null,null,null,null,null,null,null,null,5800.0,null,null,null,null,null,100000.0,null,null,null,50.0,null,null,null,null,null,null,null,null,null,null,null,null,null,null,null,null,null,null,null,null,null,null,null,100000.0,null,null,null,null,null,null,null,null,null,null,null,50000.0,null,null,null,5800.0,null,null,null,null,null,100000.0,null,null,null,50.0,null,null,null,null,null,null,null,null,null,null,null,null,null,null,null,null,null,null,null,null,null,null,null,100000.0,null,null,null,null,null,null,null,null,null,null,null,null,null,null,null,null,null,null,null,null,null,null,null,null,null,null,null,50.0,null,null,null,null,null,null,null,null,null,null,null,null,null,null,null,null,null,null,null,null,null,null,null,100000.0,null,null,null,null,null,null,null,null,null,null,null,null,null,null,null,null,null,null,null,null,null,null,null,null,null,null,null,null,null,null,null,null,null,null,null,null,null,null,null,null,null,null,null,100000.0,null,null,null,null,null,null,null,null,null,null,null,null,null,50000.0,null,null,null,5800.0,null,null,null,null,null,100000.0,null,null,null,50.0,null,null,null,null,null,null,null,null,null,null,null,null,null,null,null,null,null,null,null,null,null,null,null,100000.0,null,null,null,null,null,null,null,null,null,null,null,50000.0,null,null,null,5800.0,null,null,null,null,null,100000.0,null,null,null,50.0,null,null,null,null,null,null,null,null,null,null,null,null,null,null,null,null,null,null,null,null,null,null,null,null,null,100000.0,null,null,null,null,null,null,null,null,null,null,null,null,null,null,null,null,null,null,null,null,null,null,null,null,null,null,null,null,null,null,null,null,null,null,null,null,null,null,null,null,null,null,null,null,null,null,null,null,null,null,null,100000.0,null,null,null,null,null,null,null,null,null,null,null,null,null,null,null,null,null,null,null,null,null,null,null,null,null,null,null,null,null,null,null,null,null,null,null,null,null,null,null,null,null,null,null,null,null,null,null,null,null,100000.0,null,null,null,null,null,null,null,null,null,null,null,null,null,null,null,null,null,null,null,null,null,null,null,null,null,null,null,null,null,null,null,null,null,null,null,null,null,null,null,null,null,null,null,null,null,100000.0,null,null,null,null,null,null,null,null,null,50000.0,null,null,null,5800.0,null,null,null,null,null,100000.0,null,null,null,50.0,null,null,null,null,null,null,null,null,null,null,null,null,null,null,null,null,null,null,null,null,null,null,null,null,null,100000.0,null,null,null,null,null,null,null,null,null,null,null,50000.0,null,5800.0,null,null,null,null,null,100000.0,null,null,null,50.0,null,null,null,null,null,null,null,null,null,null,null,null,null,null,null,null,null,null,null,null,null,null,null,null,null,null,null,100000.0,null,null,null,null,null,null,null,null,null,null,null,null,null,null,null,null,null,null,null,null,null,null,null,null,null,null,null,50000.0,null,null,null,null,null,null,null,null,null,null,null,null,null,null,null,null,null,null,null,null,null,100000.0,null,null,null,null,null,null,null,null,null,null,null,null,null,null,null,null,null,null,null,null,null,null,null,null,null,null,null,50000.0,null,null,null,null,null,null,null,null,null,null,null,null,null,null,null,null,null,null,null,100000.0,null,null,null,null,null,null,null,null,null,null,null,50000.0,null,5800.0,null,null,null,null,null,100000.0,null,null,null,50.0,null,null,null,null,null,null,null,null,null,null,null,null,null,null,null,null,null,null,null,null,null,null,null,null,null,null,null,100000.0,null,null,null,null,null,null,null,50000.0,null,null,null,5800.0,null,null,null,null,null,100000.0,null,null,null,50.0,null,null,null,null,null,null,null,null,null,null,null,null,null,null,null,null,null,null,null,null,null,null,null,null,null,null,null,100000.0,null,null,null,null,null,null,null,null,null,null,null,50000.0,null,null,null,5800.0,null,null,null,null,null,50.0,null,null,null,null,null,null,null,null,null,null,null,null,null,null,null,null,null,null,null,null,null,null,null,null,null,null,null,null,null,100000.0,null,null,null,null,null,null,null,null,null,null,null,null,null,null,null,null,null,null,null,null,null,null,null,null,null,null,null,null,null,null,null,null,null,null,null,null,null,null,null,null,null,null,null,null,null,100000.0,null,null,null,null,null,null,null,null,null,null,null,null,null,null,null,null,null,null,null,null,null,null,null,null,null,50000.0,null,null,null,5800.0,null,null,null,null,null,null,null,null,null,null,null,null,null,null,null,null,null,null,null,null,null,100000.0,null,null,null,null,null,null,null,50000.0,null,null,null,5800.0,null,null,null,null,null,100000.0,null,null,null,50.0,null,null,null,null,null,null,null,null,null,null,null,null,null,null,null,null,null,null,null,null,null,100000.0,null,null,null,null,null,null,null,null,null,50000.0,null,null,null,null,null,null,null,100000.0,null,null,null,50.0,null,null,null,null,null,null,null,null,null,null,null,null,null,null,null,null,null,null,null,null,null,null,null,null,null,null,null,null,null,null,null,null,null,null,null,null,null,100000.0,null,null,null,null,null,null,null,null,null,null,null,null,null,null,null,null,null,50000.0,null,5800.0,null,null,null,null,null,null,null,null,null,30.0,null,80000.0,null,50.0,null,null,null,null,null,120000.0,null,85000.0,null,40.0,null,null,null,60000.0,null,125000.0,null,null,null,70000.0,null,null,null,80000.0,null,null,null,null,null,null,null,59.69,null,null,null,null,null,null,null,null,null,null,null,null,null,30.0,135000.0,80000.0,null,50.0,null,null,null,null,null,120000.0,null,85000.0,null,40.0,null,null,null,60000.0,null,125000.0,null,null,null,70000.0,null,null,null,80000.0,null,null,null,null,null,null,null,59.69,null,null,null,null,null,null,null,null,135000.0,null,null,null,null,38.0,null,null,null,30.0,null,80000.0,null,50.0,null,null,null,null,null,120000.0,null,85000.0,null,40.0,null,null,null,60000.0,null,125000.0,null,null,null,null,null,70000.0,null,null,null,80000.0,null,null,null,null,135000.0,null,null,null,null,59.69,null,null,null,null,null,30.0,null,80000.0,null,50.0,null,null,null,null,null,120000.0,null,85000.0,null,40.0,null,null,null,60000.0,null,125000.0,null,null,null,70000.0,null,null,null,80000.0,null,null,null,null,135000.0,null,null,59.69,null,null,null,null,null,null,null,null,null,null,null,null,null,38.0,null,null,null,30.0,null,80000.0,null,50.0,null,null,null,null,null,120000.0,null,85000.0,null,40.0,null,null,null,60000.0,null,125000.0,null,null,135000.0,null,null,70000.0,null,null,null,80000.0,null,null,null,null,null,null,null,null,null,59.69,null,null,null,null,null,30.0,null,80000.0,null,50.0,null,null,null,null,null,120000.0,null,85000.0,null,40.0,null,null,null,60000.0,null,125000.0,135000.0,null,null,70000.0,null,null,null,80000.0,null,null,null,null,null,null,null,59.69,null,null,null,null,null,null,null,null,null,null,null,null,null,38.0,null,null,null,30.0,null,80000.0,null,50.0,null,null,null,null,null,120000.0,135000.0,85000.0,null,40.0,null,null,null,60000.0,null,125000.0,null,null,null,null,null,70000.0,null,null,null,80000.0,null,null,null,null,null,null,null,null,null,59.69,null,null,null,null,null,30.0,null,80000.0,null,50.0,null,null,null,null,135000.0,120000.0,null,85000.0,null,40.0,null,null,null,60000.0,null,125000.0,null,null,null,70000.0,null,null,null,80000.0,null,null,null,null,null,null,null,59.69,null,null,null,null,null,null,null,null,null,null,null,null,null,null,null,30.0,135000.0,80000.0,null,38.0,null,50.0,null,null,null,null,null,120000.0,null,85000.0,null,40.0,null,null,null,60000.0,null,null,null,125000.0,null,null,null,70000.0,null,null,null,80000.0,null,null,null,null,null,null,null,null,null,59.69,null,null,135000.0,null,null,null,null,30.0,null,80000.0,null,38.0,null,50.0,null,null,null,null,null,120000.0,null,85000.0,null,40.0,null,null,null,60000.0,null,null,null,125000.0,null,null,null,70000.0,null,null,null,80000.0,null,null,null,null,null,null,135000.0,null,null,59.69,null,null,null,null,null,38.0,null,null,null,30.0,null,80000.0,null,50.0,null,null,null,null,null,120000.0,null,85000.0,null,40.0,null,null,null,null,null,60000.0,null,125000.0,null,null,null,70000.0,null,null,null,80000.0,135000.0,null,null,null,null,null,null,null,null,59.69,null,null,null,null,null,125000.0,null,null,null,null,null,null,null,null,null,null,null,null,null,null,null,null,null,null,null,65000.0,null,null,null,null,null,null,null,null,135000.0,80000.0,null,null,null,null,null,null,null,85000.0,null,null,null,null,null,null,null,38.0,null,null,null,30.0,null,80000.0,null,50.0,null,null,null,null,null,120000.0,null,85000.0,null,40.0,null,null,null,null,null,60000.0,null,125000.0,135000.0,null,null,70000.0,null,null,null,80000.0,null,null,null,null,null,null,null,null,null,59.69,null,null,null,null,null,30.0,null,80000.0,null,50.0,null,null,null,null,null,120000.0,null,85000.0,null,40.0,null,null,null,60000.0,null,125000.0,135000.0,null,null,70000.0,null,null,null,80000.0,null,null,null,null,null,null,null,59.69,null,null,null,null,null,null,null,null,null,null,null,null,null,30.0,null,80000.0,null,50.0,null,null,null,null,null,120000.0,null,85000.0,null,40.0,135000.0,null,null,60000.0,null,125000.0,null,null,null,70000.0,null,null,null,80000.0,null,null,null,null,null,null,null,59.69,null,null,null,null,null,null,null,null,null,null,null,null,null,38.0,null,null,null,30.0,null,80000.0,null,50.0,null,null,null,null,null,120000.0,null,85000.0,null,40.0,null,null,null,null,null,60000.0,null,125000.0,null,null,null,70000.0,null,null,null,80000.0,null,null,null,null,null,null,null,null,null,59.69,null,null,null,null,null,30.0,null,80000.0,null,50.0,null,null,null,null,135000.0,120000.0,null,85000.0,null,40.0,null,null,null,60000.0,null,125000.0,null,null,null,70000.0,null,null,null,80000.0,null,null,null,null,null,null,null,59.69,null,null,null,null,null,null,null,null,null,null,null,null,null,38.0,null,null,null,30.0,null,80000.0,null,50.0,null,null,null,null,null,120000.0,null,85000.0,null,40.0,null,null,null,null,null,60000.0,null,125000.0,null,null,null,70000.0,null,null,null,80000.0,null,null,null,null,null,null,null,null,null,59.69,null,null,null,null,null,30.0,null,80000.0,135000.0,50.0,null,null,null,null,null,120000.0,null,85000.0,null,40.0,null,null,null,60000.0,null,125000.0,null,null,null,70000.0,null,null,null,80000.0,null,null,null,null,null,null,null,59.69,null,null,null,null,null,null,null,null,null,null,135000.0,null,null,38.0,null,null,null,30.0,null,80000.0,null,50.0,null,null,null,null,null,120000.0,null,85000.0,null,40.0,null,null,null,null,null,60000.0,null,125000.0,null,null,null,70000.0,null,null,null,80000.0,null,null,null,null,null,null,135000.0,null,null,59.69,null,null,null,null,null,30.0,null,80000.0,null,50.0,null,null,null,null,null,120000.0,null,85000.0,null,40.0,null,null,null,60000.0,null,125000.0,null,null,null,70000.0,null,null,null,80000.0,null,null,null,null,null,null,135000.0,59.69,null,null,null,null,null,null,null,null,null,null,null,null,null,null,null,30.0,null,80000.0,null,38.0,null,50.0,null,null,null,null,null,120000.0,null,85000.0,null,40.0,null,null,null,60000.0,null,125000.0,null,null,null,70000.0,135000.0,null,null,null,null,80000.0,null,null,null,null,null,null,null,null,null,59.69,null,null,null,null,null,38.0,null,null,null,30.0,null,80000.0,null,50.0,null,null,null,null,null,120000.0,null,85000.0,null,40.0,null,null,null,null,135000.0,60000.0,null,125000.0,null,null,null,70000.0,null,null,null,80000.0,null,null,null,null,null,null,null,null,null,59.69,null,null,null,null,null,38.0,null,null,null,30.0,null,80000.0,null,50.0,null,null,null,null,null,120000.0,null,85000.0,135000.0,40.0,null,null,null,null,null,60000.0,null,125000.0,null,null,null,70000.0,null,null,null,80000.0,null,null,null,null,null,null,null,null,null,59.69,null,null,null,null,null,38.0,null,null,null,30.0,null,80000.0,null,50.0,null,null,135000.0,null,null,120000.0,null,85000.0,null,40.0,null,null,null,null,null,60000.0,null,125000.0,null,null,null,70000.0,null,null,null,80000.0,null,null,null,null,null,null,null,null,null,59.69,null,null,null,null,null,null,null,30.0,null,80000.0,135000.0,38.0,null,50.0,null,null,null,null,null,120000.0,null,85000.0,null,40.0,null,null,null,null,null,60000.0,null,125000.0,null,null,null,70000.0,null,null,null,80000.0,null,null,null,null,null,null,null,null,null,59.69,null,null,null,null,135000.0,38.0,null,null,null,30.0,null,80000.0,null,50.0,null,null,null,null,null,120000.0,null,85000.0,null,40.0,null,null,null,null,null,60000.0,null,125000.0,null,null,null,70000.0,null,null,null,80000.0,null,null,null,null,null,null,null,null,135000.0,59.69,null,null,null,null,null,38.0,null,null,null,30.0,null,80000.0,null,50.0,null,null,null,null,null,120000.0,null,85000.0,null,40.0,null,null,null,null,null,60000.0,null,125000.0,null,null,null,70000.0,null,null,null,80000.0,null,null,135000.0,null,null,null,null,null,null,59.69,null,30.0,null,50.0,null,null,null,85000.0,null,null,null,null,null,null,null,null,null,59.69,null,null,null,60000.0,null,null,null,null,null,null,null,null,null,38.0,null,70000.0,null,75000.0,135000.0,null,null,null,null,null,null,null,null,null,null,null,null,null,null,null,null,38.0,null,null,null,30.0,null,80000.0,null,50.0,null,null,null,null,null,120000.0,null,85000.0,null,40.0,null,null,null,null,null,60000.0,null,125000.0,135000.0,null,null,70000.0,null,null,null,80000.0,null,null,null,null,null,null,null,null,null,59.69,null,null,null,null,null,30.0,null,80000.0,null,50.0,null,null,null,null,null,120000.0,null,85000.0,null,40.0,null,null,null,60000.0,null,125000.0,null,null,null,70000.0,null,null,null,80000.0,null,null,null,null,null,null,null,59.69,null,null,null,null,null,null,null,null,null,null,null,null,null,30.0,null,80000.0,null,50.0,null,null,null,null,null,120000.0,null,85000.0,null,40.0,null,null,null,60000.0,null,125000.0,135000.0,null,null,70000.0,null,null,null,80000.0,null,null,null,null,null,null,null,59.69,null,null,null,null,null,null,null,null,null,null,null,null,null,125000.0,null,null,null,null,null,null,null,null,null,null,null,null,null,null,135000.0,null,null,null,null,65000.0,null,null,null,null,null,null,null,null,null,null,null,null,null,null,null,null,null,null,null,null,null,85000.0,null,40.0,null,null,null,null,null,null,null,30.0,null,80000.0,null,38.0,null,50.0,null,null,null,null,null,120000.0,null,85000.0,null,40.0,null,null,135.0,60000.0,null,125000.0,null,null,null,70000.0,null,null,null,80000.0,null,null,null,null,null,null,null,null,null,null,null,59.69,null,null,null,30.0,null,38.0,null,50.0,null,null,null,85000.0,null,null,135000.0,null,null,null,null,null,null,null,null,59.69,null,null,null,60000.0,null,null,null,65000.0,null,null,null,38.0,null,70000.0,null,null,null,null,null,null,null,null,null,null,null,null,null,null,null,null,null,30.0,null,80000.0,null,38.0,null,50.0,null,null,null,null,null,120000.0,null,85000.0,null,40.0,null,null,null,60000.0,null,125000.0,null,null,null,70000.0,null,null,null,null,null,80000.0,null,null,null,null,null,null,null,null,null,59.69,null,null,null,null,null,38.0,null,null,null,30.0,null,80000.0,null,50.0,null,null,null,null,null,120000.0,null,85000.0,null,40.0,null,null,null,60000.0,null,125000.0,null,null,null,70000.0,null,null,null,null,null,80000.0,null,null,null,null,null,null,null,null,null,59.69,null,null,null,null,null,38.0,null,null,null,30.0,null,80000.0,null,50.0,null,null,null,null,null,120000.0,null,85000.0,null,40.0,null,null,null,60000.0,null,125000.0,null,null,null,70000.0,null,null,null,null,null,80000.0,null,null,null,null,null,null,null,null,null,59.69,null,null,null,null,null,null,null,80000.0,null,null,null,null,null,null,null,null,null,null,null,125000.0,null,null,null,null,null,null,null,null,null,null,null,null,null,null,null,null,null,80000.0,null,null,null,null,null,null,null,null,null,null,null,null,null,null,null,null,null,50.0,null,null,null,90000.0,null,null,null,73036.0,null,null,null,null,null,null,null,null,null,75000.0,null,60.0,null,null,null,40.0,null,30.0,null,120000.0,null,null,null,null,null,22.0,null,40.0,null,null,null,null,null,75000.0,null,null,null,null,null,50.0,null,90000.0,null,null,null,null,null,73036.0,null,null,null,null,null,22.0,null,null,null,60.0,null,null,null,40.0,null,30.0,null,null,null,120000.0,null,null,null,null,null,null,null,null,null,75000.0,null,null,null,130000.0,null,null,null,50.0,null,null,null,null,null,73036.0,null,null,null,null,null,22.0,null,60.0,null,null,null,40.0,null,30.0,null,null,null,120000.0,null,null,null,null,null,130000.0,null,null,null,28.0,null,35.0,null,null,null,30.0,null,null,null,65000.0,null,100000.0,null,28.0,null,null,null,null,null,50.0,null,90000.0,null,null,null,null,null,73036.0,null,null,null,22.0,null,null,null,60.0,null,75000.0,null,null,null,null,null,40.0,null,30.0,null,null,null,120000.0,null,null,null,null,null,40.0,null,null,null,null,null,75000.0,null,null,null,null,null,null,null,null,null,50.0,null,null,null,90000.0,null,null,null,null,null,73036.0,null,null,null,null,null,null,null,null,null,60.0,null,null,null,40.0,null,30.0,null,120000.0,null,null,null,null,null,22.0,null,40.0,null,null,null,null,null,75000.0,null,50.0,null,null,null,null,null,null,null,73036.0,null,null,null,22.0,null,60.0,null,75000.0,null,null,null,null,null,40.0,null,30.0,null,null,null,120000.0,null,null,null,null,null,40.0,null,130000.0,null,null,null,28.0,null,35.0,null,null,null,null,null,30.0,null,null,null,null,null,50.0,null,90000.0,null,null,null,null,null,73036.0,null,null,null,22.0,null,null,null,60.0,null,75000.0,null,null,null,null,null,40.0,null,30.0,null,null,null,120000.0,null,null,null,null,null,40.0,null,null,null,null,null,75000.0,null,null,null,null,null,null,null,null,null,50.0,null,null,null,90000.0,null,null,null,null,null,73036.0,null,null,null,null,null,null,null,null,null,75000.0,null,60.0,null,null,null,40.0,65500.0,30.0,null,120000.0,null,null,null,null,null,22.0,null,40.0,null,null,null,null,null,null,null,null,null,null,null,50.0,null,null,null,90000.0,null,null,null,null,null,73036.0,null,null,null,null,null,null,null,null,null,60.0,null,null,null,40.0,null,30.0,null,120000.0,null,null,null,null,null,22.0,null,40.0,null,null,null,null,null,75000.0,null,null,null,null,null,null,null,50.0,null,null,null,90000.0,null,null,null,null,null,73036.0,null,null,null,null,null,null,null,null,null,75000.0,null,60.0,null,null,null,40.0,null,30.0,null,120000.0,null,null,null,null,null,22.0,null,40.0,null,null,null,null,null,null,null,null,null,50.0,null,90000.0,null,null,null,null,null,73036.0,null,null,null,22.0,null,null,null,60.0,null,75000.0,null,null,null,null,null,40.0,null,30.0,null,null,null,120000.0,null,null,null,null,null,40.0,null,null,null,null,null,75000.0,null,null,null,null,null,null,null,null,null,50.0,null,null,null,90000.0,null,null,null,73036.0,null,null,null,null,null,null,null,null,null,60.0,null,null,null,40.0,null,30.0,null,120000.0,null,null,null,null,null,22.0,null,40.0,null,null,null,null,null,75000.0,null,null,null,null,null,null,null,null,null,50.0,null,null,null,90000.0,null,null,null,null,null,73036.0,null,null,null,null,null,null,null,null,null,75000.0,null,60.0,null,null,null,40.0,null,30.0,null,120000.0,null,null,null,null,null,22.0,null,40.0,null,null,null,null,null,null,null,null,null,50.0,null,null,null,90000.0,null,null,null,null,null,73036.0,null,null,null,22.0,null,null,null,60.0,null,75000.0,null,null,null,null,null,40.0,null,30.0,null,null,null,120000.0,null,null,null,null,null,40.0,null,null,null,null,null,75000.0,null,null,null,null,null,null,null,50.0,null,null,null,90000.0,null,null,null,null,null,73036.0,null,null,null,null,null,null,null,null,null,75000.0,null,60.0,null,null,null,40.0,null,30.0,null,120000.0,null,null,null,null,null,22.0,null,40.0,null,null,null,null,null,null,null,null,null,50.0,null,90000.0,null,null,null,null,null,73036.0,null,null,null,22.0,null,null,null,60.0,null,75000.0,null,null,null,null,null,40.0,null,30.0,null,null,null,120000.0,null,null,null,null,null,40.0,null,null,null,null,null,75000.0,null,null,null,null,null,null,null,120000.0,null,null,null,120000.0,null,null,null,null,null,80000.0,null,null,null,40.0,null,null,null,null,null,30.0,null,null,null,null,null,null,null,null,null,null,null,null,null,null,null,28.0,null,null,null,null,null,60.0,null,null,null,null,null,null,null,50.0,null,90000.0,null,null,null,null,null,73036.0,null,null,null,null,null,22.0,null,null,null,60.0,null,null,null,40.0,null,30.0,null,null,null,120000.0,null,null,null,null,null,null,null,null,null,null,null,75000.0,null,null,null,130000.0,null,50.0,null,null,null,null,null,73036.0,null,null,null,null,null,22.0,null,60.0,null,null,null,40.0,null,30.0,null,null,null,120000.0,null,null,null,null,null,130000.0,null,null,null,28.0,null,35.0,null,null,null,30.0,null,null,null,65000.0,null,100000.0,null,28.0,null,null,null,null,null,50.0,null,null,null,90000.0,null,null,null,null,null,73036.0,null,null,null,22.0,null,null,null,60.0,null,75000.0,null,null,null,null,null,40.0,null,30.0,null,null,null,120000.0,null,null,null,null,null,40.0,null,null,null,null,null,null,null,null,null,null,null,50.0,null,null,null,90000.0,null,null,null,null,null,73036.0,null,null,null,22.0,null,null,null,60.0,null,75000.0,null,null,null,null,null,40.0,null,30.0,null,null,null,120000.0,null,null,null,null,null,40.0,null,null,null,null,null,75000.0,null,null,null,null,null,50.0,null,null,null,90000.0,null,null,null,null,null,73036.0,null,null,null,22.0,null,null,null,60.0,null,null,null,null,null,40.0,null,30.0,null,null,null,120000.0,null,null,null,null,null,40.0,null,null,null,null,null,75000.0,null,null,null,null,null,null,null,50.0,null,90000.0,null,null,null,null,null,73036.0,null,null,null,null,null,22.0,null,null,null,60.0,null,null,null,40.0,null,30.0,null,null,null,120000.0,null,null,null,null,null,null,null,null,null,75000.0,null,null,null,130000.0,null,null,null,null,null,null,null,50.0,null,90000.0,null,null,null,null,null,73036.0,null,null,null,null,null,22.0,null,null,null,60.0,null,null,null,40.0,null,30.0,null,null,null,120000.0,null,null,null,null,null,null,null,null,null,75000.0,null,null,null,130000.0,null,null,null,28.0,null,null,null,40.0,null,30.0,null,null,null,null,null,null,null,80000.0,null,80000.0,null,60.0,null,null,null,null,null,30.0,null,null,null,68.0,null,null,null,null,null,null,null,null,null,null,null,null,null,null,null,null,null,null,null,null,null,null,null,null,null,null,null,50.0,null,null,null,90000.0,null,null,null,null,null,73036.0,null,null,null,null,null,null,null,null,null,75000.0,null,60.0,null,null,null,40.0,null,30.0,null,120000.0,null,null,null,null,null,22.0,null,40.0,null,null,null,null,null,null,null,50.0,null,null,null,null,null,null,null,73036.0,null,null,null,null,null,null,null,75000.0,null,60.0,null,null,null,40.0,null,30.0,null,120000.0,null,null,null,null,null,22.0,null,40.0,null,130000.0,null,null,null,28.0,null,35.0,null,90000.0,null,null,null,null,null,null,null,50.0,null,90000.0,null,null,null,null,null,73036.0,null,null,null,null,null,22.0,null,null,null,60.0,null,null,null,40.0,null,30.0,null,null,null,120000.0,null,null,null,null,null,null,null,null,null,75000.0,null,null,null,130000.0,null,null,null,null,null,null,null,50.0,null,90000.0,null,null,null,null,null,73036.0,null,null,null,null,null,22.0,null,null,null,60.0,null,null,null,40.0,null,30.0,null,null,null,120000.0,null,null,null,null,null,null,null,null,null,75000.0,null,null,null,130000.0,null,null,null,null,null,null,null,null,null,50.0,null,null,null,90000.0,null,null,null,null,null,73036.0,null,null,null,null,null,null,null,null,null,75000.0,null,60.0,null,null,null,40.0,null,30.0,null,120000.0,null,null,null,null,null,22.0,null,40.0,null,null,null,null,null,null,null,null,null,50.0,null,90000.0,null,null,null,null,null,73036.0,null,null,null,null,null,22.0,null,null,null,60.0,null,null,null,40.0,null,30.0,null,null,null,120000.0,null,null,null,null,null,null,null,null,null,75000.0,null,null,null,130000.0,null,null,null,null,null,null,null,50.0,null,90000.0,null,null,null,null,null,73036.0,null,null,null,null,null,22.0,null,null,null,60.0,null,null,null,40.0,null,30.0,null,null,null,120000.0,null,null,null,null,null,null,null,null,null,75000.0,null,null,null,130000.0,null,null,null,null,null,null,null,50.0,null,90000.0,null,null,null,null,null,73036.0,null,null,null,null,null,22.0,null,null,null,60.0,null,null,null,40.0,null,30.0,null,null,null,120000.0,null,null,null,null,null,null,null,null,null,75000.0,null,null,null,130000.0,null,null,null,50.0,null,null,null,null,null,73036.0,null,null,null,null,null,22.0,null,60.0,null,null,null,40.0,null,30.0,null,null,null,120000.0,null,null,null,null,null,130000.0,null,null,null,28.0,null,35.0,null,null,null,30.0,null,null,null,65000.0,null,100000.0,null,28.0,null,null,null,null,null,50.0,null,null,90000.0,null,null,73036.0,null,22.0,null,75000.0,60.0,null,null,40.0,30.0,null,120000.0,null,null,40.0,null,null,75000.0,null,null,50.0,90000.0,null,null,73036.0,null,null,22.0,null,60.0,null,40.0,30.0,null,120000.0,null,null,null,null,75000.0,null,130000.0,null,null,null,50.0,90000.0,null,null,73036.0,null,null,22.0,null,60.0,null,40.0,30.0,null,120000.0,null,null,null,null,75000.0,null,85000.0,130000.0],\"xaxis\":\"x\",\"yaxis\":\"y\",\"type\":\"histogram\"}],                        {\"template\":{\"data\":{\"bar\":[{\"hovertemplate\":\"<b>%{x}</b><br><i>Count</i>: %{y}\",\"type\":\"bar\"}],\"histogram\":[{\"hovertemplate\":\"<b>%{x}</b><br><i>Count</i>: %{y}\",\"type\":\"histogram\"}],\"pie\":[{\"hovertemplate\":\"<b>%{label}</b><br><i>Count</i>: %{value}\",\"type\":\"pie\"}],\"scatter\":[{\"hovertemplate\":\"<b>%{x}</b><br><i>Count</i>: %{y}\",\"type\":\"scatter\"}]},\"layout\":{\"colorway\":[\"#1F77B4\",\"#FF7F0E\",\"#2CA02C\",\"#D62728\",\"#9467BD\",\"#8C564B\",\"#E377C2\",\"#7F7F7F\",\"#BCBD22\",\"#17BECF\"],\"dragmode\":\"pan\",\"font\":{\"size\":16},\"legend\":{\"font\":{\"size\":17}},\"paper_bgcolor\":\"rgb(171,200,227)\",\"plot_bgcolor\":\"#BAE0F3\",\"showlegend\":false,\"title\":{\"font\":{\"size\":19}},\"uniformtext\":{\"minsize\":12,\"mode\":\"hide\"},\"xaxis\":{\"showgrid\":false,\"zeroline\":false},\"yaxis\":{\"zeroline\":false}}},\"xaxis\":{\"anchor\":\"y\",\"domain\":[0.0,1.0],\"title\":{\"text\":\"salary_lb\"}},\"yaxis\":{\"anchor\":\"x\",\"domain\":[0.0,1.0],\"title\":{\"text\":\"count\"}},\"legend\":{\"tracegroupgap\":0},\"margin\":{\"t\":60},\"barmode\":\"relative\",\"title\":{\"text\":\"Distribution of Salary (Lower Bound Distribution)\"},\"annotations\":[{\"ax\":0,\"ay\":0,\"font\":{\"size\":16},\"text\":\"Sample Size: 965\",\"x\":1,\"xanchor\":\"center\",\"xref\":\"paper\",\"y\":-0.1,\"yanchor\":\"top\",\"yref\":\"paper\"}]},                        {\"responsive\": true}                    ).then(function(){\n",
       "                            \n",
       "var gd = document.getElementById('d2a19536-2408-4250-a826-20e035cebdc9');\n",
       "var x = new MutationObserver(function (mutations, observer) {{\n",
       "        var display = window.getComputedStyle(gd).display;\n",
       "        if (!display || display === 'none') {{\n",
       "            console.log([gd, 'removed!']);\n",
       "            Plotly.purge(gd);\n",
       "            observer.disconnect();\n",
       "        }}\n",
       "}});\n",
       "\n",
       "// Listen for the removal of the full notebook cells\n",
       "var notebookContainer = gd.closest('#notebook-container');\n",
       "if (notebookContainer) {{\n",
       "    x.observe(notebookContainer, {childList: true});\n",
       "}}\n",
       "\n",
       "// Listen for the clearing of the current output cell\n",
       "var outputEl = gd.closest('.output');\n",
       "if (outputEl) {{\n",
       "    x.observe(outputEl, {childList: true});\n",
       "}}\n",
       "\n",
       "                        })                };                });            </script>        </div>"
      ]
     },
     "metadata": {},
     "output_type": "display_data"
    }
   ],
   "source": [
    "fig = px.histogram(df_salary, x=\"salary_lb\")\n",
    "fig.update_layout(title=\"Distribution of Salary (Lower Bound Distribution)\")\n",
    "add_annotation_for_figure(fig, f\"Sample Size: {sum(~df_salary['salary_lb'].isnull())}\")\n",
    "fig\n"
   ]
  },
  {
   "cell_type": "markdown",
   "metadata": {},
   "source": [
    "We can see the salary values are bimodal, perhaps even trimodal. Some salaries are written as hourly salaries, while some appear to be monthly and other salaries appear to be annual.\n",
    "\n",
    "Let's **break down** the salary ranges"
   ]
  },
  {
   "cell_type": "code",
   "execution_count": 42,
   "metadata": {},
   "outputs": [],
   "source": [
    "df_salary_hourly = df_salary.loc[df_salary[\"salary_lb\"] <= 2000] "
   ]
  },
  {
   "cell_type": "code",
   "execution_count": 43,
   "metadata": {},
   "outputs": [
    {
     "data": {
      "text/html": [
       "<div>\n",
       "<style scoped>\n",
       "    .dataframe tbody tr th:only-of-type {\n",
       "        vertical-align: middle;\n",
       "    }\n",
       "\n",
       "    .dataframe tbody tr th {\n",
       "        vertical-align: top;\n",
       "    }\n",
       "\n",
       "    .dataframe thead th {\n",
       "        text-align: right;\n",
       "    }\n",
       "</style>\n",
       "<table border=\"1\" class=\"dataframe\">\n",
       "  <thead>\n",
       "    <tr style=\"text-align: right;\">\n",
       "      <th></th>\n",
       "      <th>salary_lb</th>\n",
       "      <th>salary_ub</th>\n",
       "    </tr>\n",
       "  </thead>\n",
       "  <tbody>\n",
       "    <tr>\n",
       "      <th>count</th>\n",
       "      <td>411.000000</td>\n",
       "      <td>411.000000</td>\n",
       "    </tr>\n",
       "    <tr>\n",
       "      <th>mean</th>\n",
       "      <td>42.109100</td>\n",
       "      <td>52.807494</td>\n",
       "    </tr>\n",
       "    <tr>\n",
       "      <th>std</th>\n",
       "      <td>12.739683</td>\n",
       "      <td>19.832016</td>\n",
       "    </tr>\n",
       "    <tr>\n",
       "      <th>min</th>\n",
       "      <td>22.000000</td>\n",
       "      <td>24.000000</td>\n",
       "    </tr>\n",
       "    <tr>\n",
       "      <th>25%</th>\n",
       "      <td>30.000000</td>\n",
       "      <td>33.000000</td>\n",
       "    </tr>\n",
       "    <tr>\n",
       "      <th>50%</th>\n",
       "      <td>40.000000</td>\n",
       "      <td>60.000000</td>\n",
       "    </tr>\n",
       "    <tr>\n",
       "      <th>75%</th>\n",
       "      <td>50.000000</td>\n",
       "      <td>60.000000</td>\n",
       "    </tr>\n",
       "    <tr>\n",
       "      <th>max</th>\n",
       "      <td>135.000000</td>\n",
       "      <td>145.000000</td>\n",
       "    </tr>\n",
       "  </tbody>\n",
       "</table>\n",
       "</div>"
      ],
      "text/plain": [
       "        salary_lb   salary_ub\n",
       "count  411.000000  411.000000\n",
       "mean    42.109100   52.807494\n",
       "std     12.739683   19.832016\n",
       "min     22.000000   24.000000\n",
       "25%     30.000000   33.000000\n",
       "50%     40.000000   60.000000\n",
       "75%     50.000000   60.000000\n",
       "max    135.000000  145.000000"
      ]
     },
     "execution_count": 43,
     "metadata": {},
     "output_type": "execute_result"
    }
   ],
   "source": [
    "df_salary_hourly.describe()"
   ]
  },
  {
   "cell_type": "code",
   "execution_count": 44,
   "metadata": {},
   "outputs": [
    {
     "data": {
      "text/html": [
       "<div>\n",
       "<style scoped>\n",
       "    .dataframe tbody tr th:only-of-type {\n",
       "        vertical-align: middle;\n",
       "    }\n",
       "\n",
       "    .dataframe tbody tr th {\n",
       "        vertical-align: top;\n",
       "    }\n",
       "\n",
       "    .dataframe thead th {\n",
       "        text-align: right;\n",
       "    }\n",
       "</style>\n",
       "<table border=\"1\" class=\"dataframe\">\n",
       "  <thead>\n",
       "    <tr style=\"text-align: right;\">\n",
       "      <th></th>\n",
       "      <th>salary_lb</th>\n",
       "      <th>salary_ub</th>\n",
       "      <th>salary_text</th>\n",
       "    </tr>\n",
       "  </thead>\n",
       "  <tbody>\n",
       "    <tr>\n",
       "      <th>198</th>\n",
       "      <td>5800.0</td>\n",
       "      <td>6000.0</td>\n",
       "      <td>$5800.00-$6000.00</td>\n",
       "    </tr>\n",
       "    <tr>\n",
       "      <th>284</th>\n",
       "      <td>5800.0</td>\n",
       "      <td>6000.0</td>\n",
       "      <td>$5800.00-$6000.00</td>\n",
       "    </tr>\n",
       "    <tr>\n",
       "      <th>346</th>\n",
       "      <td>5800.0</td>\n",
       "      <td>6000.0</td>\n",
       "      <td>$5800.00-$6000.00</td>\n",
       "    </tr>\n",
       "    <tr>\n",
       "      <th>438</th>\n",
       "      <td>5800.0</td>\n",
       "      <td>6000.0</td>\n",
       "      <td>$5800.00-$6000.00</td>\n",
       "    </tr>\n",
       "    <tr>\n",
       "      <th>486</th>\n",
       "      <td>5800.0</td>\n",
       "      <td>6000.0</td>\n",
       "      <td>$5800.00-$6000.00</td>\n",
       "    </tr>\n",
       "    <tr>\n",
       "      <th>586</th>\n",
       "      <td>5800.0</td>\n",
       "      <td>6000.0</td>\n",
       "      <td>$5800.00-$6000.00</td>\n",
       "    </tr>\n",
       "    <tr>\n",
       "      <th>686</th>\n",
       "      <td>5800.0</td>\n",
       "      <td>6000.0</td>\n",
       "      <td>$5800.00-$6000.00</td>\n",
       "    </tr>\n",
       "    <tr>\n",
       "      <th>738</th>\n",
       "      <td>5800.0</td>\n",
       "      <td>6000.0</td>\n",
       "      <td>$5800.00-$6000.00</td>\n",
       "    </tr>\n",
       "    <tr>\n",
       "      <th>798</th>\n",
       "      <td>5800.0</td>\n",
       "      <td>6000.0</td>\n",
       "      <td>$5800.00-$6000.00</td>\n",
       "    </tr>\n",
       "    <tr>\n",
       "      <th>886</th>\n",
       "      <td>5800.0</td>\n",
       "      <td>6000.0</td>\n",
       "      <td>$5800.00-$6000.00</td>\n",
       "    </tr>\n",
       "    <tr>\n",
       "      <th>936</th>\n",
       "      <td>5800.0</td>\n",
       "      <td>6000.0</td>\n",
       "      <td>$5800.00-$6000.00</td>\n",
       "    </tr>\n",
       "    <tr>\n",
       "      <th>1084</th>\n",
       "      <td>5800.0</td>\n",
       "      <td>6000.0</td>\n",
       "      <td>$5800.00-$6000.00</td>\n",
       "    </tr>\n",
       "    <tr>\n",
       "      <th>1134</th>\n",
       "      <td>5800.0</td>\n",
       "      <td>6000.0</td>\n",
       "      <td>$5800.00-$6000.00</td>\n",
       "    </tr>\n",
       "    <tr>\n",
       "      <th>1332</th>\n",
       "      <td>5800.0</td>\n",
       "      <td>6000.0</td>\n",
       "      <td>$5800.00-$6000.00</td>\n",
       "    </tr>\n",
       "    <tr>\n",
       "      <th>1382</th>\n",
       "      <td>5800.0</td>\n",
       "      <td>6000.0</td>\n",
       "      <td>$5800.00-$6000.00</td>\n",
       "    </tr>\n",
       "    <tr>\n",
       "      <th>1532</th>\n",
       "      <td>5800.0</td>\n",
       "      <td>6000.0</td>\n",
       "      <td>$5800.00-$6000.00</td>\n",
       "    </tr>\n",
       "    <tr>\n",
       "      <th>1582</th>\n",
       "      <td>5800.0</td>\n",
       "      <td>6000.0</td>\n",
       "      <td>$5800.00-$6000.00</td>\n",
       "    </tr>\n",
       "    <tr>\n",
       "      <th>1636</th>\n",
       "      <td>5800.0</td>\n",
       "      <td>6000.0</td>\n",
       "      <td>$5800.00-$6000.00</td>\n",
       "    </tr>\n",
       "    <tr>\n",
       "      <th>1748</th>\n",
       "      <td>5800.0</td>\n",
       "      <td>6000.0</td>\n",
       "      <td>$5800.00-$6000.00</td>\n",
       "    </tr>\n",
       "    <tr>\n",
       "      <th>1782</th>\n",
       "      <td>5800.0</td>\n",
       "      <td>6000.0</td>\n",
       "      <td>$5800.00-$6000.00</td>\n",
       "    </tr>\n",
       "    <tr>\n",
       "      <th>1894</th>\n",
       "      <td>5800.0</td>\n",
       "      <td>6000.0</td>\n",
       "      <td>$5800.00-$6000.00</td>\n",
       "    </tr>\n",
       "  </tbody>\n",
       "</table>\n",
       "</div>"
      ],
      "text/plain": [
       "      salary_lb  salary_ub        salary_text\n",
       "198      5800.0     6000.0  $5800.00-$6000.00\n",
       "284      5800.0     6000.0  $5800.00-$6000.00\n",
       "346      5800.0     6000.0  $5800.00-$6000.00\n",
       "438      5800.0     6000.0  $5800.00-$6000.00\n",
       "486      5800.0     6000.0  $5800.00-$6000.00\n",
       "586      5800.0     6000.0  $5800.00-$6000.00\n",
       "686      5800.0     6000.0  $5800.00-$6000.00\n",
       "738      5800.0     6000.0  $5800.00-$6000.00\n",
       "798      5800.0     6000.0  $5800.00-$6000.00\n",
       "886      5800.0     6000.0  $5800.00-$6000.00\n",
       "936      5800.0     6000.0  $5800.00-$6000.00\n",
       "1084     5800.0     6000.0  $5800.00-$6000.00\n",
       "1134     5800.0     6000.0  $5800.00-$6000.00\n",
       "1332     5800.0     6000.0  $5800.00-$6000.00\n",
       "1382     5800.0     6000.0  $5800.00-$6000.00\n",
       "1532     5800.0     6000.0  $5800.00-$6000.00\n",
       "1582     5800.0     6000.0  $5800.00-$6000.00\n",
       "1636     5800.0     6000.0  $5800.00-$6000.00\n",
       "1748     5800.0     6000.0  $5800.00-$6000.00\n",
       "1782     5800.0     6000.0  $5800.00-$6000.00\n",
       "1894     5800.0     6000.0  $5800.00-$6000.00"
      ]
     },
     "execution_count": 44,
     "metadata": {},
     "output_type": "execute_result"
    }
   ],
   "source": [
    "df_salary.loc[(df_salary[\"salary_lb\"] >= 3000) & (df_salary[\"salary_lb\"] <= 7000)] "
   ]
  },
  {
   "cell_type": "markdown",
   "metadata": {},
   "source": [
    "I think it's safe the say that the salary date being provided is multimodal. Let's convert these salaries to annual salaries"
   ]
  },
  {
   "cell_type": "code",
   "execution_count": 45,
   "metadata": {},
   "outputs": [],
   "source": [
    "df_salary.loc[df_salary[\"salary_lb\"] <= 2000, [\"salary_lb\", \"salary_ub\"]]  = df_salary.loc[df_salary[\"salary_lb\"] <= 2000, [\"salary_lb\", \"salary_ub\"]] * 40 * 4 * 12  "
   ]
  },
  {
   "cell_type": "code",
   "execution_count": 46,
   "metadata": {},
   "outputs": [],
   "source": [
    "df_salary.loc[(df_salary[\"salary_lb\"] >= 3000) & (df_salary[\"salary_lb\"] <= 7000), [\"salary_lb\", \"salary_ub\"]] = \\\n",
    "df_salary.loc[(df_salary[\"salary_lb\"] >= 3000) & (df_salary[\"salary_lb\"] <= 7000), [\"salary_lb\", \"salary_ub\"]] * 12"
   ]
  },
  {
   "cell_type": "code",
   "execution_count": 47,
   "metadata": {},
   "outputs": [],
   "source": [
    "df_salary[\"salary_text\"] = \"$\" + df_salary[\"salary_lb\"].astype(str) + \"-\" + df_salary[\"salary_ub\"].astype(str) "
   ]
  },
  {
   "cell_type": "markdown",
   "metadata": {},
   "source": [
    "Check distribution of salaries again"
   ]
  },
  {
   "cell_type": "code",
   "execution_count": 48,
   "metadata": {},
   "outputs": [
    {
     "data": {
      "text/html": [
       "<div>                            <div id=\"f3c683fb-f8f8-4c70-b146-daf57c10b575\" class=\"plotly-graph-div\" style=\"height:525px; width:100%;\"></div>            <script type=\"text/javascript\">                require([\"plotly\"], function(Plotly) {                    window.PLOTLYENV=window.PLOTLYENV || {};                                    if (document.getElementById(\"f3c683fb-f8f8-4c70-b146-daf57c10b575\")) {                    Plotly.newPlot(                        \"f3c683fb-f8f8-4c70-b146-daf57c10b575\",                        [{\"alignmentgroup\":\"True\",\"bingroup\":\"x\",\"hovertemplate\":\"salary_lb=%{x}<br>count=%{y}<extra></extra>\",\"legendgroup\":\"\",\"marker\":{\"color\":\"#1F77B4\",\"pattern\":{\"shape\":\"\"}},\"name\":\"\",\"offsetgroup\":\"\",\"orientation\":\"v\",\"showlegend\":false,\"x\":[null,null,null,null,null,null,null,null,null,null,null,null,null,null,null,null,100000.0,null,null,null,null,null,null,null,null,null,null,null,null,null,null,null,null,null,null,null,null,null,null,null,null,null,null,null,null,null,null,null,50000.0,null,null,null,null,null,null,null,null,null,null,null,null,null,null,null,null,null,null,null,null,null,100000.0,null,null,null,null,null,null,null,null,null,null,null,null,null,null,null,null,null,null,null,null,null,null,null,null,null,null,null,null,null,null,null,null,null,null,null,null,null,null,null,null,null,null,null,null,null,null,null,null,null,null,null,100000.0,null,null,null,null,null,null,null,null,null,null,null,null,null,null,null,null,null,null,null,null,null,null,null,null,null,null,null,null,null,null,null,null,null,null,null,null,null,null,null,null,null,null,null,null,null,null,null,null,null,null,null,null,null,100000.0,null,null,null,null,null,null,null,null,null,null,null,null,null,null,null,null,null,null,null,null,null,69600.0,null,null,null,null,null,null,null,null,null,null,null,null,null,null,null,null,null,null,null,null,null,100000.0,null,null,null,null,null,null,null,null,null,null,null,null,null,null,null,null,null,null,null,null,null,null,null,null,null,null,null,null,null,null,null,null,null,null,null,null,null,null,null,null,null,null,null,null,null,null,null,100000.0,null,null,null,null,null,null,null,null,null,null,null,50000.0,null,null,null,69600.0,null,null,null,null,null,100000.0,null,null,null,96000.0,null,null,null,null,null,null,null,null,null,null,null,null,null,null,null,null,null,null,null,null,null,null,null,null,null,null,null,null,null,100000.0,null,null,null,null,null,null,null,null,null,null,null,null,null,null,null,null,null,null,null,null,null,69600.0,null,null,null,null,null,null,null,null,null,null,null,null,null,null,null,null,null,null,null,null,null,null,null,null,null,null,null,null,null,100000.0,null,null,null,null,null,null,null,null,null,null,null,null,null,null,null,null,null,null,null,null,null,null,null,null,null,null,null,null,null,null,null,null,null,null,null,null,null,null,null,null,null,null,null,100000.0,null,null,null,null,null,null,null,null,null,null,null,null,null,50000.0,null,null,null,69600.0,null,null,null,null,null,96000.0,null,null,null,null,null,null,null,null,null,null,null,null,null,null,null,null,null,null,null,null,null,null,null,null,null,null,null,100000.0,null,null,null,null,null,null,null,null,null,50000.0,null,null,null,69600.0,null,null,null,null,null,96000.0,null,null,null,null,null,null,null,null,null,null,null,50000.0,null,null,null,null,null,null,null,null,null,null,null,null,null,null,null,null,null,null,null,null,null,null,null,null,null,null,null,null,null,null,null,55000.0,null,null,null,null,null,null,null,null,null,100000.0,null,96000.0,null,null,null,null,null,null,null,null,null,null,null,null,null,null,null,null,null,null,null,null,null,100000.0,null,null,null,null,null,null,null,null,null,null,null,null,null,null,null,69600.0,null,null,null,null,null,100000.0,null,null,null,96000.0,null,null,null,null,null,null,null,null,null,null,null,null,null,null,null,null,null,null,null,null,null,null,null,null,null,100000.0,null,null,null,null,null,null,null,null,null,null,null,null,null,null,null,null,null,null,null,null,null,null,null,null,null,null,null,null,null,null,null,null,null,null,null,null,null,null,null,null,null,null,null,null,null,null,null,100000.0,null,null,null,null,null,null,null,null,null,null,null,50000.0,null,null,null,69600.0,null,null,null,null,null,96000.0,null,null,null,null,null,null,null,null,null,null,null,null,null,null,null,null,null,null,null,null,null,null,null,null,null,null,null,100000.0,null,null,null,null,null,null,null,null,null,null,null,null,null,50000.0,null,null,null,69600.0,null,null,null,null,null,96000.0,null,null,null,null,null,null,null,null,null,null,null,null,null,null,null,null,null,null,null,null,null,null,null,null,null,null,null,null,null,null,null,100000.0,null,null,null,null,null,null,null,null,null,null,null,null,null,null,null,null,null,null,null,50000.0,null,69600.0,null,null,null,null,null,null,null,null,null,null,null,null,null,null,null,null,null,null,null,null,null,100000.0,null,null,null,null,null,null,null,null,null,null,null,null,null,null,null,null,null,null,null,null,null,null,null,null,null,null,null,null,null,null,null,null,null,null,null,null,null,null,null,null,null,null,null,null,null,null,null,100000.0,null,null,null,null,null,null,null,null,null,null,null,null,null,null,null,null,null,69600.0,null,null,null,null,null,100000.0,null,null,null,96000.0,null,null,null,null,null,null,null,null,null,null,null,null,null,null,null,null,null,null,null,null,null,null,null,100000.0,null,null,null,null,null,null,null,null,null,null,null,50000.0,null,null,null,69600.0,null,null,null,null,null,100000.0,null,null,null,96000.0,null,null,null,null,null,null,null,null,null,null,null,null,null,null,null,null,null,null,null,null,null,null,null,100000.0,null,null,null,null,null,null,null,null,null,null,null,null,null,null,null,null,null,null,null,null,null,null,null,null,null,null,null,96000.0,null,null,null,null,null,null,null,null,null,null,null,null,null,null,null,null,null,null,null,null,null,null,null,100000.0,null,null,null,null,null,null,null,null,null,null,null,null,null,null,null,null,null,null,null,null,null,null,null,null,null,null,null,null,null,null,null,null,null,null,null,null,null,null,null,null,null,null,null,100000.0,null,null,null,null,null,null,null,null,null,null,null,null,null,50000.0,null,null,null,69600.0,null,null,null,null,null,100000.0,null,null,null,96000.0,null,null,null,null,null,null,null,null,null,null,null,null,null,null,null,null,null,null,null,null,null,null,null,100000.0,null,null,null,null,null,null,null,null,null,null,null,50000.0,null,null,null,69600.0,null,null,null,null,null,100000.0,null,null,null,96000.0,null,null,null,null,null,null,null,null,null,null,null,null,null,null,null,null,null,null,null,null,null,null,null,null,null,100000.0,null,null,null,null,null,null,null,null,null,null,null,null,null,null,null,null,null,null,null,null,null,null,null,null,null,null,null,null,null,null,null,null,null,null,null,null,null,null,null,null,null,null,null,null,null,null,null,null,null,null,null,100000.0,null,null,null,null,null,null,null,null,null,null,null,null,null,null,null,null,null,null,null,null,null,null,null,null,null,null,null,null,null,null,null,null,null,null,null,null,null,null,null,null,null,null,null,null,null,null,null,null,null,100000.0,null,null,null,null,null,null,null,null,null,null,null,null,null,null,null,null,null,null,null,null,null,null,null,null,null,null,null,null,null,null,null,null,null,null,null,null,null,null,null,null,null,null,null,null,null,100000.0,null,null,null,null,null,null,null,null,null,50000.0,null,null,null,69600.0,null,null,null,null,null,100000.0,null,null,null,96000.0,null,null,null,null,null,null,null,null,null,null,null,null,null,null,null,null,null,null,null,null,null,null,null,null,null,100000.0,null,null,null,null,null,null,null,null,null,null,null,50000.0,null,69600.0,null,null,null,null,null,100000.0,null,null,null,96000.0,null,null,null,null,null,null,null,null,null,null,null,null,null,null,null,null,null,null,null,null,null,null,null,null,null,null,null,100000.0,null,null,null,null,null,null,null,null,null,null,null,null,null,null,null,null,null,null,null,null,null,null,null,null,null,null,null,50000.0,null,null,null,null,null,null,null,null,null,null,null,null,null,null,null,null,null,null,null,null,null,100000.0,null,null,null,null,null,null,null,null,null,null,null,null,null,null,null,null,null,null,null,null,null,null,null,null,null,null,null,50000.0,null,null,null,null,null,null,null,null,null,null,null,null,null,null,null,null,null,null,null,100000.0,null,null,null,null,null,null,null,null,null,null,null,50000.0,null,69600.0,null,null,null,null,null,100000.0,null,null,null,96000.0,null,null,null,null,null,null,null,null,null,null,null,null,null,null,null,null,null,null,null,null,null,null,null,null,null,null,null,100000.0,null,null,null,null,null,null,null,50000.0,null,null,null,69600.0,null,null,null,null,null,100000.0,null,null,null,96000.0,null,null,null,null,null,null,null,null,null,null,null,null,null,null,null,null,null,null,null,null,null,null,null,null,null,null,null,100000.0,null,null,null,null,null,null,null,null,null,null,null,50000.0,null,null,null,69600.0,null,null,null,null,null,96000.0,null,null,null,null,null,null,null,null,null,null,null,null,null,null,null,null,null,null,null,null,null,null,null,null,null,null,null,null,null,100000.0,null,null,null,null,null,null,null,null,null,null,null,null,null,null,null,null,null,null,null,null,null,null,null,null,null,null,null,null,null,null,null,null,null,null,null,null,null,null,null,null,null,null,null,null,null,100000.0,null,null,null,null,null,null,null,null,null,null,null,null,null,null,null,null,null,null,null,null,null,null,null,null,null,50000.0,null,null,null,69600.0,null,null,null,null,null,null,null,null,null,null,null,null,null,null,null,null,null,null,null,null,null,100000.0,null,null,null,null,null,null,null,50000.0,null,null,null,69600.0,null,null,null,null,null,100000.0,null,null,null,96000.0,null,null,null,null,null,null,null,null,null,null,null,null,null,null,null,null,null,null,null,null,null,100000.0,null,null,null,null,null,null,null,null,null,50000.0,null,null,null,null,null,null,null,100000.0,null,null,null,96000.0,null,null,null,null,null,null,null,null,null,null,null,null,null,null,null,null,null,null,null,null,null,null,null,null,null,null,null,null,null,null,null,null,null,null,null,null,null,100000.0,null,null,null,null,null,null,null,null,null,null,null,null,null,null,null,null,null,50000.0,null,69600.0,null,null,null,null,null,null,null,null,null,57600.0,null,80000.0,null,96000.0,null,null,null,null,null,120000.0,null,85000.0,null,76800.0,null,null,null,60000.0,null,125000.0,null,null,null,70000.0,null,null,null,80000.0,null,null,null,null,null,null,null,114604.79999999999,null,null,null,null,null,null,null,null,null,null,null,null,null,57600.0,135000.0,80000.0,null,96000.0,null,null,null,null,null,120000.0,null,85000.0,null,76800.0,null,null,null,60000.0,null,125000.0,null,null,null,70000.0,null,null,null,80000.0,null,null,null,null,null,null,null,114604.79999999999,null,null,null,null,null,null,null,null,135000.0,null,null,null,null,72960.0,null,null,null,57600.0,null,80000.0,null,96000.0,null,null,null,null,null,120000.0,null,85000.0,null,76800.0,null,null,null,60000.0,null,125000.0,null,null,null,null,null,70000.0,null,null,null,80000.0,null,null,null,null,135000.0,null,null,null,null,114604.79999999999,null,null,null,null,null,57600.0,null,80000.0,null,96000.0,null,null,null,null,null,120000.0,null,85000.0,null,76800.0,null,null,null,60000.0,null,125000.0,null,null,null,70000.0,null,null,null,80000.0,null,null,null,null,135000.0,null,null,114604.79999999999,null,null,null,null,null,null,null,null,null,null,null,null,null,72960.0,null,null,null,57600.0,null,80000.0,null,96000.0,null,null,null,null,null,120000.0,null,85000.0,null,76800.0,null,null,null,60000.0,null,125000.0,null,null,135000.0,null,null,70000.0,null,null,null,80000.0,null,null,null,null,null,null,null,null,null,114604.79999999999,null,null,null,null,null,57600.0,null,80000.0,null,96000.0,null,null,null,null,null,120000.0,null,85000.0,null,76800.0,null,null,null,60000.0,null,125000.0,135000.0,null,null,70000.0,null,null,null,80000.0,null,null,null,null,null,null,null,114604.79999999999,null,null,null,null,null,null,null,null,null,null,null,null,null,72960.0,null,null,null,57600.0,null,80000.0,null,96000.0,null,null,null,null,null,120000.0,135000.0,85000.0,null,76800.0,null,null,null,60000.0,null,125000.0,null,null,null,null,null,70000.0,null,null,null,80000.0,null,null,null,null,null,null,null,null,null,114604.79999999999,null,null,null,null,null,57600.0,null,80000.0,null,96000.0,null,null,null,null,135000.0,120000.0,null,85000.0,null,76800.0,null,null,null,60000.0,null,125000.0,null,null,null,70000.0,null,null,null,80000.0,null,null,null,null,null,null,null,114604.79999999999,null,null,null,null,null,null,null,null,null,null,null,null,null,null,null,57600.0,135000.0,80000.0,null,72960.0,null,96000.0,null,null,null,null,null,120000.0,null,85000.0,null,76800.0,null,null,null,60000.0,null,null,null,125000.0,null,null,null,70000.0,null,null,null,80000.0,null,null,null,null,null,null,null,null,null,114604.79999999999,null,null,135000.0,null,null,null,null,57600.0,null,80000.0,null,72960.0,null,96000.0,null,null,null,null,null,120000.0,null,85000.0,null,76800.0,null,null,null,60000.0,null,null,null,125000.0,null,null,null,70000.0,null,null,null,80000.0,null,null,null,null,null,null,135000.0,null,null,114604.79999999999,null,null,null,null,null,72960.0,null,null,null,57600.0,null,80000.0,null,96000.0,null,null,null,null,null,120000.0,null,85000.0,null,76800.0,null,null,null,null,null,60000.0,null,125000.0,null,null,null,70000.0,null,null,null,80000.0,135000.0,null,null,null,null,null,null,null,null,114604.79999999999,null,null,null,null,null,125000.0,null,null,null,null,null,null,null,null,null,null,null,null,null,null,null,null,null,null,null,65000.0,null,null,null,null,null,null,null,null,135000.0,80000.0,null,null,null,null,null,null,null,85000.0,null,null,null,null,null,null,null,72960.0,null,null,null,57600.0,null,80000.0,null,96000.0,null,null,null,null,null,120000.0,null,85000.0,null,76800.0,null,null,null,null,null,60000.0,null,125000.0,135000.0,null,null,70000.0,null,null,null,80000.0,null,null,null,null,null,null,null,null,null,114604.79999999999,null,null,null,null,null,57600.0,null,80000.0,null,96000.0,null,null,null,null,null,120000.0,null,85000.0,null,76800.0,null,null,null,60000.0,null,125000.0,135000.0,null,null,70000.0,null,null,null,80000.0,null,null,null,null,null,null,null,114604.79999999999,null,null,null,null,null,null,null,null,null,null,null,null,null,57600.0,null,80000.0,null,96000.0,null,null,null,null,null,120000.0,null,85000.0,null,76800.0,135000.0,null,null,60000.0,null,125000.0,null,null,null,70000.0,null,null,null,80000.0,null,null,null,null,null,null,null,114604.79999999999,null,null,null,null,null,null,null,null,null,null,null,null,null,72960.0,null,null,null,57600.0,null,80000.0,null,96000.0,null,null,null,null,null,120000.0,null,85000.0,null,76800.0,null,null,null,null,null,60000.0,null,125000.0,null,null,null,70000.0,null,null,null,80000.0,null,null,null,null,null,null,null,null,null,114604.79999999999,null,null,null,null,null,57600.0,null,80000.0,null,96000.0,null,null,null,null,135000.0,120000.0,null,85000.0,null,76800.0,null,null,null,60000.0,null,125000.0,null,null,null,70000.0,null,null,null,80000.0,null,null,null,null,null,null,null,114604.79999999999,null,null,null,null,null,null,null,null,null,null,null,null,null,72960.0,null,null,null,57600.0,null,80000.0,null,96000.0,null,null,null,null,null,120000.0,null,85000.0,null,76800.0,null,null,null,null,null,60000.0,null,125000.0,null,null,null,70000.0,null,null,null,80000.0,null,null,null,null,null,null,null,null,null,114604.79999999999,null,null,null,null,null,57600.0,null,80000.0,135000.0,96000.0,null,null,null,null,null,120000.0,null,85000.0,null,76800.0,null,null,null,60000.0,null,125000.0,null,null,null,70000.0,null,null,null,80000.0,null,null,null,null,null,null,null,114604.79999999999,null,null,null,null,null,null,null,null,null,null,135000.0,null,null,72960.0,null,null,null,57600.0,null,80000.0,null,96000.0,null,null,null,null,null,120000.0,null,85000.0,null,76800.0,null,null,null,null,null,60000.0,null,125000.0,null,null,null,70000.0,null,null,null,80000.0,null,null,null,null,null,null,135000.0,null,null,114604.79999999999,null,null,null,null,null,57600.0,null,80000.0,null,96000.0,null,null,null,null,null,120000.0,null,85000.0,null,76800.0,null,null,null,60000.0,null,125000.0,null,null,null,70000.0,null,null,null,80000.0,null,null,null,null,null,null,135000.0,114604.79999999999,null,null,null,null,null,null,null,null,null,null,null,null,null,null,null,57600.0,null,80000.0,null,72960.0,null,96000.0,null,null,null,null,null,120000.0,null,85000.0,null,76800.0,null,null,null,60000.0,null,125000.0,null,null,null,70000.0,135000.0,null,null,null,null,80000.0,null,null,null,null,null,null,null,null,null,114604.79999999999,null,null,null,null,null,72960.0,null,null,null,57600.0,null,80000.0,null,96000.0,null,null,null,null,null,120000.0,null,85000.0,null,76800.0,null,null,null,null,135000.0,60000.0,null,125000.0,null,null,null,70000.0,null,null,null,80000.0,null,null,null,null,null,null,null,null,null,114604.79999999999,null,null,null,null,null,72960.0,null,null,null,57600.0,null,80000.0,null,96000.0,null,null,null,null,null,120000.0,null,85000.0,135000.0,76800.0,null,null,null,null,null,60000.0,null,125000.0,null,null,null,70000.0,null,null,null,80000.0,null,null,null,null,null,null,null,null,null,114604.79999999999,null,null,null,null,null,72960.0,null,null,null,57600.0,null,80000.0,null,96000.0,null,null,135000.0,null,null,120000.0,null,85000.0,null,76800.0,null,null,null,null,null,60000.0,null,125000.0,null,null,null,70000.0,null,null,null,80000.0,null,null,null,null,null,null,null,null,null,114604.79999999999,null,null,null,null,null,null,null,57600.0,null,80000.0,135000.0,72960.0,null,96000.0,null,null,null,null,null,120000.0,null,85000.0,null,76800.0,null,null,null,null,null,60000.0,null,125000.0,null,null,null,70000.0,null,null,null,80000.0,null,null,null,null,null,null,null,null,null,114604.79999999999,null,null,null,null,135000.0,72960.0,null,null,null,57600.0,null,80000.0,null,96000.0,null,null,null,null,null,120000.0,null,85000.0,null,76800.0,null,null,null,null,null,60000.0,null,125000.0,null,null,null,70000.0,null,null,null,80000.0,null,null,null,null,null,null,null,null,135000.0,114604.79999999999,null,null,null,null,null,72960.0,null,null,null,57600.0,null,80000.0,null,96000.0,null,null,null,null,null,120000.0,null,85000.0,null,76800.0,null,null,null,null,null,60000.0,null,125000.0,null,null,null,70000.0,null,null,null,80000.0,null,null,135000.0,null,null,null,null,null,null,114604.79999999999,null,57600.0,null,96000.0,null,null,null,85000.0,null,null,null,null,null,null,null,null,null,114604.79999999999,null,null,null,60000.0,null,null,null,null,null,null,null,null,null,72960.0,null,70000.0,null,75000.0,135000.0,null,null,null,null,null,null,null,null,null,null,null,null,null,null,null,null,72960.0,null,null,null,57600.0,null,80000.0,null,96000.0,null,null,null,null,null,120000.0,null,85000.0,null,76800.0,null,null,null,null,null,60000.0,null,125000.0,135000.0,null,null,70000.0,null,null,null,80000.0,null,null,null,null,null,null,null,null,null,114604.79999999999,null,null,null,null,null,57600.0,null,80000.0,null,96000.0,null,null,null,null,null,120000.0,null,85000.0,null,76800.0,null,null,null,60000.0,null,125000.0,null,null,null,70000.0,null,null,null,80000.0,null,null,null,null,null,null,null,114604.79999999999,null,null,null,null,null,null,null,null,null,null,null,null,null,57600.0,null,80000.0,null,96000.0,null,null,null,null,null,120000.0,null,85000.0,null,76800.0,null,null,null,60000.0,null,125000.0,135000.0,null,null,70000.0,null,null,null,80000.0,null,null,null,null,null,null,null,114604.79999999999,null,null,null,null,null,null,null,null,null,null,null,null,null,125000.0,null,null,null,null,null,null,null,null,null,null,null,null,null,null,135000.0,null,null,null,null,65000.0,null,null,null,null,null,null,null,null,null,null,null,null,null,null,null,null,null,null,null,null,null,85000.0,null,76800.0,null,null,null,null,null,null,null,57600.0,null,80000.0,null,72960.0,null,96000.0,null,null,null,null,null,120000.0,null,85000.0,null,76800.0,null,null,259200.0,60000.0,null,125000.0,null,null,null,70000.0,null,null,null,80000.0,null,null,null,null,null,null,null,null,null,null,null,114604.79999999999,null,null,null,57600.0,null,72960.0,null,96000.0,null,null,null,85000.0,null,null,135000.0,null,null,null,null,null,null,null,null,114604.79999999999,null,null,null,60000.0,null,null,null,65000.0,null,null,null,72960.0,null,70000.0,null,null,null,null,null,null,null,null,null,null,null,null,null,null,null,null,null,57600.0,null,80000.0,null,72960.0,null,96000.0,null,null,null,null,null,120000.0,null,85000.0,null,76800.0,null,null,null,60000.0,null,125000.0,null,null,null,70000.0,null,null,null,null,null,80000.0,null,null,null,null,null,null,null,null,null,114604.79999999999,null,null,null,null,null,72960.0,null,null,null,57600.0,null,80000.0,null,96000.0,null,null,null,null,null,120000.0,null,85000.0,null,76800.0,null,null,null,60000.0,null,125000.0,null,null,null,70000.0,null,null,null,null,null,80000.0,null,null,null,null,null,null,null,null,null,114604.79999999999,null,null,null,null,null,72960.0,null,null,null,57600.0,null,80000.0,null,96000.0,null,null,null,null,null,120000.0,null,85000.0,null,76800.0,null,null,null,60000.0,null,125000.0,null,null,null,70000.0,null,null,null,null,null,80000.0,null,null,null,null,null,null,null,null,null,114604.79999999999,null,null,null,null,null,null,null,80000.0,null,null,null,null,null,null,null,null,null,null,null,125000.0,null,null,null,null,null,null,null,null,null,null,null,null,null,null,null,null,null,80000.0,null,null,null,null,null,null,null,null,null,null,null,null,null,null,null,null,null,96000.0,null,null,null,90000.0,null,null,null,73036.0,null,null,null,null,null,null,null,null,null,75000.0,null,115200.0,null,null,null,76800.0,null,57600.0,null,120000.0,null,null,null,null,null,42240.0,null,76800.0,null,null,null,null,null,75000.0,null,null,null,null,null,96000.0,null,90000.0,null,null,null,null,null,73036.0,null,null,null,null,null,42240.0,null,null,null,115200.0,null,null,null,76800.0,null,57600.0,null,null,null,120000.0,null,null,null,null,null,null,null,null,null,75000.0,null,null,null,130000.0,null,null,null,96000.0,null,null,null,null,null,73036.0,null,null,null,null,null,42240.0,null,115200.0,null,null,null,76800.0,null,57600.0,null,null,null,120000.0,null,null,null,null,null,130000.0,null,null,null,53760.0,null,67200.0,null,null,null,57600.0,null,null,null,65000.0,null,100000.0,null,53760.0,null,null,null,null,null,96000.0,null,90000.0,null,null,null,null,null,73036.0,null,null,null,42240.0,null,null,null,115200.0,null,75000.0,null,null,null,null,null,76800.0,null,57600.0,null,null,null,120000.0,null,null,null,null,null,76800.0,null,null,null,null,null,75000.0,null,null,null,null,null,null,null,null,null,96000.0,null,null,null,90000.0,null,null,null,null,null,73036.0,null,null,null,null,null,null,null,null,null,115200.0,null,null,null,76800.0,null,57600.0,null,120000.0,null,null,null,null,null,42240.0,null,76800.0,null,null,null,null,null,75000.0,null,96000.0,null,null,null,null,null,null,null,73036.0,null,null,null,42240.0,null,115200.0,null,75000.0,null,null,null,null,null,76800.0,null,57600.0,null,null,null,120000.0,null,null,null,null,null,76800.0,null,130000.0,null,null,null,53760.0,null,67200.0,null,null,null,null,null,57600.0,null,null,null,null,null,96000.0,null,90000.0,null,null,null,null,null,73036.0,null,null,null,42240.0,null,null,null,115200.0,null,75000.0,null,null,null,null,null,76800.0,null,57600.0,null,null,null,120000.0,null,null,null,null,null,76800.0,null,null,null,null,null,75000.0,null,null,null,null,null,null,null,null,null,96000.0,null,null,null,90000.0,null,null,null,null,null,73036.0,null,null,null,null,null,null,null,null,null,75000.0,null,115200.0,null,null,null,76800.0,65500.0,57600.0,null,120000.0,null,null,null,null,null,42240.0,null,76800.0,null,null,null,null,null,null,null,null,null,null,null,96000.0,null,null,null,90000.0,null,null,null,null,null,73036.0,null,null,null,null,null,null,null,null,null,115200.0,null,null,null,76800.0,null,57600.0,null,120000.0,null,null,null,null,null,42240.0,null,76800.0,null,null,null,null,null,75000.0,null,null,null,null,null,null,null,96000.0,null,null,null,90000.0,null,null,null,null,null,73036.0,null,null,null,null,null,null,null,null,null,75000.0,null,115200.0,null,null,null,76800.0,null,57600.0,null,120000.0,null,null,null,null,null,42240.0,null,76800.0,null,null,null,null,null,null,null,null,null,96000.0,null,90000.0,null,null,null,null,null,73036.0,null,null,null,42240.0,null,null,null,115200.0,null,75000.0,null,null,null,null,null,76800.0,null,57600.0,null,null,null,120000.0,null,null,null,null,null,76800.0,null,null,null,null,null,75000.0,null,null,null,null,null,null,null,null,null,96000.0,null,null,null,90000.0,null,null,null,73036.0,null,null,null,null,null,null,null,null,null,115200.0,null,null,null,76800.0,null,57600.0,null,120000.0,null,null,null,null,null,42240.0,null,76800.0,null,null,null,null,null,75000.0,null,null,null,null,null,null,null,null,null,96000.0,null,null,null,90000.0,null,null,null,null,null,73036.0,null,null,null,null,null,null,null,null,null,75000.0,null,115200.0,null,null,null,76800.0,null,57600.0,null,120000.0,null,null,null,null,null,42240.0,null,76800.0,null,null,null,null,null,null,null,null,null,96000.0,null,null,null,90000.0,null,null,null,null,null,73036.0,null,null,null,42240.0,null,null,null,115200.0,null,75000.0,null,null,null,null,null,76800.0,null,57600.0,null,null,null,120000.0,null,null,null,null,null,76800.0,null,null,null,null,null,75000.0,null,null,null,null,null,null,null,96000.0,null,null,null,90000.0,null,null,null,null,null,73036.0,null,null,null,null,null,null,null,null,null,75000.0,null,115200.0,null,null,null,76800.0,null,57600.0,null,120000.0,null,null,null,null,null,42240.0,null,76800.0,null,null,null,null,null,null,null,null,null,96000.0,null,90000.0,null,null,null,null,null,73036.0,null,null,null,42240.0,null,null,null,115200.0,null,75000.0,null,null,null,null,null,76800.0,null,57600.0,null,null,null,120000.0,null,null,null,null,null,76800.0,null,null,null,null,null,75000.0,null,null,null,null,null,null,null,120000.0,null,null,null,120000.0,null,null,null,null,null,80000.0,null,null,null,76800.0,null,null,null,null,null,57600.0,null,null,null,null,null,null,null,null,null,null,null,null,null,null,null,53760.0,null,null,null,null,null,115200.0,null,null,null,null,null,null,null,96000.0,null,90000.0,null,null,null,null,null,73036.0,null,null,null,null,null,42240.0,null,null,null,115200.0,null,null,null,76800.0,null,57600.0,null,null,null,120000.0,null,null,null,null,null,null,null,null,null,null,null,75000.0,null,null,null,130000.0,null,96000.0,null,null,null,null,null,73036.0,null,null,null,null,null,42240.0,null,115200.0,null,null,null,76800.0,null,57600.0,null,null,null,120000.0,null,null,null,null,null,130000.0,null,null,null,53760.0,null,67200.0,null,null,null,57600.0,null,null,null,65000.0,null,100000.0,null,53760.0,null,null,null,null,null,96000.0,null,null,null,90000.0,null,null,null,null,null,73036.0,null,null,null,42240.0,null,null,null,115200.0,null,75000.0,null,null,null,null,null,76800.0,null,57600.0,null,null,null,120000.0,null,null,null,null,null,76800.0,null,null,null,null,null,null,null,null,null,null,null,96000.0,null,null,null,90000.0,null,null,null,null,null,73036.0,null,null,null,42240.0,null,null,null,115200.0,null,75000.0,null,null,null,null,null,76800.0,null,57600.0,null,null,null,120000.0,null,null,null,null,null,76800.0,null,null,null,null,null,75000.0,null,null,null,null,null,96000.0,null,null,null,90000.0,null,null,null,null,null,73036.0,null,null,null,42240.0,null,null,null,115200.0,null,null,null,null,null,76800.0,null,57600.0,null,null,null,120000.0,null,null,null,null,null,76800.0,null,null,null,null,null,75000.0,null,null,null,null,null,null,null,96000.0,null,90000.0,null,null,null,null,null,73036.0,null,null,null,null,null,42240.0,null,null,null,115200.0,null,null,null,76800.0,null,57600.0,null,null,null,120000.0,null,null,null,null,null,null,null,null,null,75000.0,null,null,null,130000.0,null,null,null,null,null,null,null,96000.0,null,90000.0,null,null,null,null,null,73036.0,null,null,null,null,null,42240.0,null,null,null,115200.0,null,null,null,76800.0,null,57600.0,null,null,null,120000.0,null,null,null,null,null,null,null,null,null,75000.0,null,null,null,130000.0,null,null,null,53760.0,null,null,null,76800.0,null,57600.0,null,null,null,null,null,null,null,80000.0,null,80000.0,null,115200.0,null,null,null,null,null,57600.0,null,null,null,130560.0,null,null,null,null,null,null,null,null,null,null,null,null,null,null,null,null,null,null,null,null,null,null,null,null,null,null,null,96000.0,null,null,null,90000.0,null,null,null,null,null,73036.0,null,null,null,null,null,null,null,null,null,75000.0,null,115200.0,null,null,null,76800.0,null,57600.0,null,120000.0,null,null,null,null,null,42240.0,null,76800.0,null,null,null,null,null,null,null,96000.0,null,null,null,null,null,null,null,73036.0,null,null,null,null,null,null,null,75000.0,null,115200.0,null,null,null,76800.0,null,57600.0,null,120000.0,null,null,null,null,null,42240.0,null,76800.0,null,130000.0,null,null,null,53760.0,null,67200.0,null,90000.0,null,null,null,null,null,null,null,96000.0,null,90000.0,null,null,null,null,null,73036.0,null,null,null,null,null,42240.0,null,null,null,115200.0,null,null,null,76800.0,null,57600.0,null,null,null,120000.0,null,null,null,null,null,null,null,null,null,75000.0,null,null,null,130000.0,null,null,null,null,null,null,null,96000.0,null,90000.0,null,null,null,null,null,73036.0,null,null,null,null,null,42240.0,null,null,null,115200.0,null,null,null,76800.0,null,57600.0,null,null,null,120000.0,null,null,null,null,null,null,null,null,null,75000.0,null,null,null,130000.0,null,null,null,null,null,null,null,null,null,96000.0,null,null,null,90000.0,null,null,null,null,null,73036.0,null,null,null,null,null,null,null,null,null,75000.0,null,115200.0,null,null,null,76800.0,null,57600.0,null,120000.0,null,null,null,null,null,42240.0,null,76800.0,null,null,null,null,null,null,null,null,null,96000.0,null,90000.0,null,null,null,null,null,73036.0,null,null,null,null,null,42240.0,null,null,null,115200.0,null,null,null,76800.0,null,57600.0,null,null,null,120000.0,null,null,null,null,null,null,null,null,null,75000.0,null,null,null,130000.0,null,null,null,null,null,null,null,96000.0,null,90000.0,null,null,null,null,null,73036.0,null,null,null,null,null,42240.0,null,null,null,115200.0,null,null,null,76800.0,null,57600.0,null,null,null,120000.0,null,null,null,null,null,null,null,null,null,75000.0,null,null,null,130000.0,null,null,null,null,null,null,null,96000.0,null,90000.0,null,null,null,null,null,73036.0,null,null,null,null,null,42240.0,null,null,null,115200.0,null,null,null,76800.0,null,57600.0,null,null,null,120000.0,null,null,null,null,null,null,null,null,null,75000.0,null,null,null,130000.0,null,null,null,96000.0,null,null,null,null,null,73036.0,null,null,null,null,null,42240.0,null,115200.0,null,null,null,76800.0,null,57600.0,null,null,null,120000.0,null,null,null,null,null,130000.0,null,null,null,53760.0,null,67200.0,null,null,null,57600.0,null,null,null,65000.0,null,100000.0,null,53760.0,null,null,null,null,null,96000.0,null,null,90000.0,null,null,73036.0,null,42240.0,null,75000.0,115200.0,null,null,76800.0,57600.0,null,120000.0,null,null,76800.0,null,null,75000.0,null,null,96000.0,90000.0,null,null,73036.0,null,null,42240.0,null,115200.0,null,76800.0,57600.0,null,120000.0,null,null,null,null,75000.0,null,130000.0,null,null,null,96000.0,90000.0,null,null,73036.0,null,null,42240.0,null,115200.0,null,76800.0,57600.0,null,120000.0,null,null,null,null,75000.0,null,85000.0,130000.0],\"xaxis\":\"x\",\"yaxis\":\"y\",\"type\":\"histogram\"}],                        {\"template\":{\"data\":{\"bar\":[{\"hovertemplate\":\"<b>%{x}</b><br><i>Count</i>: %{y}\",\"type\":\"bar\"}],\"histogram\":[{\"hovertemplate\":\"<b>%{x}</b><br><i>Count</i>: %{y}\",\"type\":\"histogram\"}],\"pie\":[{\"hovertemplate\":\"<b>%{label}</b><br><i>Count</i>: %{value}\",\"type\":\"pie\"}],\"scatter\":[{\"hovertemplate\":\"<b>%{x}</b><br><i>Count</i>: %{y}\",\"type\":\"scatter\"}]},\"layout\":{\"colorway\":[\"#1F77B4\",\"#FF7F0E\",\"#2CA02C\",\"#D62728\",\"#9467BD\",\"#8C564B\",\"#E377C2\",\"#7F7F7F\",\"#BCBD22\",\"#17BECF\"],\"dragmode\":\"pan\",\"font\":{\"size\":16},\"legend\":{\"font\":{\"size\":17}},\"paper_bgcolor\":\"rgb(171,200,227)\",\"plot_bgcolor\":\"#BAE0F3\",\"showlegend\":false,\"title\":{\"font\":{\"size\":19}},\"uniformtext\":{\"minsize\":12,\"mode\":\"hide\"},\"xaxis\":{\"showgrid\":false,\"zeroline\":false},\"yaxis\":{\"zeroline\":false}}},\"xaxis\":{\"anchor\":\"y\",\"domain\":[0.0,1.0],\"title\":{\"text\":\"salary_lb\"}},\"yaxis\":{\"anchor\":\"x\",\"domain\":[0.0,1.0],\"title\":{\"text\":\"count\"}},\"legend\":{\"tracegroupgap\":0},\"margin\":{\"t\":60},\"barmode\":\"relative\",\"title\":{\"text\":\"Distribution of Salary (Lower Bound Distribution)\"},\"annotations\":[{\"ax\":0,\"ay\":0,\"font\":{\"size\":16},\"text\":\"Sample Size: 965\",\"x\":1,\"xanchor\":\"center\",\"xref\":\"paper\",\"y\":-0.1,\"yanchor\":\"top\",\"yref\":\"paper\"}]},                        {\"responsive\": true}                    ).then(function(){\n",
       "                            \n",
       "var gd = document.getElementById('f3c683fb-f8f8-4c70-b146-daf57c10b575');\n",
       "var x = new MutationObserver(function (mutations, observer) {{\n",
       "        var display = window.getComputedStyle(gd).display;\n",
       "        if (!display || display === 'none') {{\n",
       "            console.log([gd, 'removed!']);\n",
       "            Plotly.purge(gd);\n",
       "            observer.disconnect();\n",
       "        }}\n",
       "}});\n",
       "\n",
       "// Listen for the removal of the full notebook cells\n",
       "var notebookContainer = gd.closest('#notebook-container');\n",
       "if (notebookContainer) {{\n",
       "    x.observe(notebookContainer, {childList: true});\n",
       "}}\n",
       "\n",
       "// Listen for the clearing of the current output cell\n",
       "var outputEl = gd.closest('.output');\n",
       "if (outputEl) {{\n",
       "    x.observe(outputEl, {childList: true});\n",
       "}}\n",
       "\n",
       "                        })                };                });            </script>        </div>"
      ]
     },
     "metadata": {},
     "output_type": "display_data"
    }
   ],
   "source": [
    "fig = px.histogram(df_salary, x=\"salary_lb\")\n",
    "fig.update_layout(title=\"Distribution of Salary (Lower Bound Distribution)\")\n",
    "add_annotation_for_figure(fig, f\"Sample Size: {sum(~df_salary['salary_lb'].isnull())}\")\n",
    "fig\n"
   ]
  },
  {
   "cell_type": "code",
   "execution_count": 49,
   "metadata": {},
   "outputs": [
    {
     "data": {
      "text/html": [
       "<div>                            <div id=\"39d3b965-90f6-4ab8-9848-5a2fb3ab5341\" class=\"plotly-graph-div\" style=\"height:525px; width:100%;\"></div>            <script type=\"text/javascript\">                require([\"plotly\"], function(Plotly) {                    window.PLOTLYENV=window.PLOTLYENV || {};                                    if (document.getElementById(\"39d3b965-90f6-4ab8-9848-5a2fb3ab5341\")) {                    Plotly.newPlot(                        \"39d3b965-90f6-4ab8-9848-5a2fb3ab5341\",                        [{\"alignmentgroup\":\"True\",\"bingroup\":\"x\",\"hovertemplate\":\"salary_ub=%{x}<br>count=%{y}<extra></extra>\",\"legendgroup\":\"\",\"marker\":{\"color\":\"#1F77B4\",\"pattern\":{\"shape\":\"\"}},\"name\":\"\",\"offsetgroup\":\"\",\"orientation\":\"v\",\"showlegend\":false,\"x\":[null,null,null,null,null,null,null,null,null,null,null,null,null,null,null,null,120000.0,null,null,null,null,null,null,null,null,null,null,null,null,null,null,null,null,null,null,null,null,null,null,null,null,null,null,null,null,null,null,null,55000.0,null,null,null,null,null,null,null,null,null,null,null,null,null,null,null,null,null,null,null,null,null,120000.0,null,null,null,null,null,null,null,null,null,null,null,null,null,null,null,null,null,null,null,null,null,null,null,null,null,null,null,null,null,null,null,null,null,null,null,null,null,null,null,null,null,null,null,null,null,null,null,null,null,null,null,120000.0,null,null,null,null,null,null,null,null,null,null,null,null,null,null,null,null,null,null,null,null,null,null,null,null,null,null,null,null,null,null,null,null,null,null,null,null,null,null,null,null,null,null,null,null,null,null,null,null,null,null,null,null,null,120000.0,null,null,null,null,null,null,null,null,null,null,null,null,null,null,null,null,null,null,null,null,null,72000.0,null,null,null,null,null,null,null,null,null,null,null,null,null,null,null,null,null,null,null,null,null,120000.0,null,null,null,null,null,null,null,null,null,null,null,null,null,null,null,null,null,null,null,null,null,null,null,null,null,null,null,null,null,null,null,null,null,null,null,null,null,null,null,null,null,null,null,null,null,null,null,120000.0,null,null,null,null,null,null,null,null,null,null,null,55000.0,null,null,null,72000.0,null,null,null,null,null,120000.0,null,null,null,115200.0,null,null,null,null,null,null,null,null,null,null,null,null,null,null,null,null,null,null,null,null,null,null,null,null,null,null,null,null,null,120000.0,null,null,null,null,null,null,null,null,null,null,null,null,null,null,null,null,null,null,null,null,null,72000.0,null,null,null,null,null,null,null,null,null,null,null,null,null,null,null,null,null,null,null,null,null,null,null,null,null,null,null,null,null,120000.0,null,null,null,null,null,null,null,null,null,null,null,null,null,null,null,null,null,null,null,null,null,null,null,null,null,null,null,null,null,null,null,null,null,null,null,null,null,null,null,null,null,null,null,120000.0,null,null,null,null,null,null,null,null,null,null,null,null,null,55000.0,null,null,null,72000.0,null,null,null,null,null,115200.0,null,null,null,null,null,null,null,null,null,null,null,null,null,null,null,null,null,null,null,null,null,null,null,null,null,null,null,120000.0,null,null,null,null,null,null,null,null,null,55000.0,null,null,null,72000.0,null,null,null,null,null,115200.0,null,null,null,null,null,null,null,null,null,null,null,55000.0,null,null,null,null,null,null,null,null,null,null,null,null,null,null,null,null,null,null,null,null,null,null,null,null,null,null,null,null,null,null,null,70000.0,null,null,null,null,null,null,null,null,null,120000.0,null,96000.0,null,null,null,null,null,null,null,null,null,null,null,null,null,null,null,null,null,null,null,null,null,120000.0,null,null,null,null,null,null,null,null,null,null,null,null,null,null,null,72000.0,null,null,null,null,null,120000.0,null,null,null,115200.0,null,null,null,null,null,null,null,null,null,null,null,null,null,null,null,null,null,null,null,null,null,null,null,null,null,120000.0,null,null,null,null,null,null,null,null,null,null,null,null,null,null,null,null,null,null,null,null,null,null,null,null,null,null,null,null,null,null,null,null,null,null,null,null,null,null,null,null,null,null,null,null,null,null,null,120000.0,null,null,null,null,null,null,null,null,null,null,null,55000.0,null,null,null,72000.0,null,null,null,null,null,115200.0,null,null,null,null,null,null,null,null,null,null,null,null,null,null,null,null,null,null,null,null,null,null,null,null,null,null,null,120000.0,null,null,null,null,null,null,null,null,null,null,null,null,null,55000.0,null,null,null,72000.0,null,null,null,null,null,115200.0,null,null,null,null,null,null,null,null,null,null,null,null,null,null,null,null,null,null,null,null,null,null,null,null,null,null,null,null,null,null,null,120000.0,null,null,null,null,null,null,null,null,null,null,null,null,null,null,null,null,null,null,null,55000.0,null,72000.0,null,null,null,null,null,null,null,null,null,null,null,null,null,null,null,null,null,null,null,null,null,120000.0,null,null,null,null,null,null,null,null,null,null,null,null,null,null,null,null,null,null,null,null,null,null,null,null,null,null,null,null,null,null,null,null,null,null,null,null,null,null,null,null,null,null,null,null,null,null,null,120000.0,null,null,null,null,null,null,null,null,null,null,null,null,null,null,null,null,null,72000.0,null,null,null,null,null,120000.0,null,null,null,115200.0,null,null,null,null,null,null,null,null,null,null,null,null,null,null,null,null,null,null,null,null,null,null,null,120000.0,null,null,null,null,null,null,null,null,null,null,null,55000.0,null,null,null,72000.0,null,null,null,null,null,120000.0,null,null,null,115200.0,null,null,null,null,null,null,null,null,null,null,null,null,null,null,null,null,null,null,null,null,null,null,null,120000.0,null,null,null,null,null,null,null,null,null,null,null,null,null,null,null,null,null,null,null,null,null,null,null,null,null,null,null,115200.0,null,null,null,null,null,null,null,null,null,null,null,null,null,null,null,null,null,null,null,null,null,null,null,120000.0,null,null,null,null,null,null,null,null,null,null,null,null,null,null,null,null,null,null,null,null,null,null,null,null,null,null,null,null,null,null,null,null,null,null,null,null,null,null,null,null,null,null,null,120000.0,null,null,null,null,null,null,null,null,null,null,null,null,null,55000.0,null,null,null,72000.0,null,null,null,null,null,120000.0,null,null,null,115200.0,null,null,null,null,null,null,null,null,null,null,null,null,null,null,null,null,null,null,null,null,null,null,null,120000.0,null,null,null,null,null,null,null,null,null,null,null,55000.0,null,null,null,72000.0,null,null,null,null,null,120000.0,null,null,null,115200.0,null,null,null,null,null,null,null,null,null,null,null,null,null,null,null,null,null,null,null,null,null,null,null,null,null,120000.0,null,null,null,null,null,null,null,null,null,null,null,null,null,null,null,null,null,null,null,null,null,null,null,null,null,null,null,null,null,null,null,null,null,null,null,null,null,null,null,null,null,null,null,null,null,null,null,null,null,null,null,120000.0,null,null,null,null,null,null,null,null,null,null,null,null,null,null,null,null,null,null,null,null,null,null,null,null,null,null,null,null,null,null,null,null,null,null,null,null,null,null,null,null,null,null,null,null,null,null,null,null,null,120000.0,null,null,null,null,null,null,null,null,null,null,null,null,null,null,null,null,null,null,null,null,null,null,null,null,null,null,null,null,null,null,null,null,null,null,null,null,null,null,null,null,null,null,null,null,null,120000.0,null,null,null,null,null,null,null,null,null,55000.0,null,null,null,72000.0,null,null,null,null,null,120000.0,null,null,null,115200.0,null,null,null,null,null,null,null,null,null,null,null,null,null,null,null,null,null,null,null,null,null,null,null,null,null,120000.0,null,null,null,null,null,null,null,null,null,null,null,55000.0,null,72000.0,null,null,null,null,null,120000.0,null,null,null,115200.0,null,null,null,null,null,null,null,null,null,null,null,null,null,null,null,null,null,null,null,null,null,null,null,null,null,null,null,120000.0,null,null,null,null,null,null,null,null,null,null,null,null,null,null,null,null,null,null,null,null,null,null,null,null,null,null,null,55000.0,null,null,null,null,null,null,null,null,null,null,null,null,null,null,null,null,null,null,null,null,null,120000.0,null,null,null,null,null,null,null,null,null,null,null,null,null,null,null,null,null,null,null,null,null,null,null,null,null,null,null,55000.0,null,null,null,null,null,null,null,null,null,null,null,null,null,null,null,null,null,null,null,120000.0,null,null,null,null,null,null,null,null,null,null,null,55000.0,null,72000.0,null,null,null,null,null,120000.0,null,null,null,115200.0,null,null,null,null,null,null,null,null,null,null,null,null,null,null,null,null,null,null,null,null,null,null,null,null,null,null,null,120000.0,null,null,null,null,null,null,null,55000.0,null,null,null,72000.0,null,null,null,null,null,120000.0,null,null,null,115200.0,null,null,null,null,null,null,null,null,null,null,null,null,null,null,null,null,null,null,null,null,null,null,null,null,null,null,null,120000.0,null,null,null,null,null,null,null,null,null,null,null,55000.0,null,null,null,72000.0,null,null,null,null,null,115200.0,null,null,null,null,null,null,null,null,null,null,null,null,null,null,null,null,null,null,null,null,null,null,null,null,null,null,null,null,null,120000.0,null,null,null,null,null,null,null,null,null,null,null,null,null,null,null,null,null,null,null,null,null,null,null,null,null,null,null,null,null,null,null,null,null,null,null,null,null,null,null,null,null,null,null,null,null,120000.0,null,null,null,null,null,null,null,null,null,null,null,null,null,null,null,null,null,null,null,null,null,null,null,null,null,55000.0,null,null,null,72000.0,null,null,null,null,null,null,null,null,null,null,null,null,null,null,null,null,null,null,null,null,null,120000.0,null,null,null,null,null,null,null,55000.0,null,null,null,72000.0,null,null,null,null,null,120000.0,null,null,null,115200.0,null,null,null,null,null,null,null,null,null,null,null,null,null,null,null,null,null,null,null,null,null,120000.0,null,null,null,null,null,null,null,null,null,55000.0,null,null,null,null,null,null,null,120000.0,null,null,null,115200.0,null,null,null,null,null,null,null,null,null,null,null,null,null,null,null,null,null,null,null,null,null,null,null,null,null,null,null,null,null,null,null,null,null,null,null,null,null,120000.0,null,null,null,null,null,null,null,null,null,null,null,null,null,null,null,null,null,55000.0,null,72000.0,null,null,null,null,null,null,null,null,null,57600.0,null,110000.0,null,115200.0,null,null,null,null,null,135000.0,null,100000.0,null,96000.0,null,null,null,90000.0,null,155000.0,null,null,null,80000.0,null,null,null,90000.0,null,null,null,null,null,null,null,152793.59999999998,null,null,null,null,null,null,null,null,null,null,null,null,null,57600.0,140000.0,110000.0,null,115200.0,null,null,null,null,null,135000.0,null,100000.0,null,96000.0,null,null,null,90000.0,null,155000.0,null,null,null,80000.0,null,null,null,90000.0,null,null,null,null,null,null,null,152793.59999999998,null,null,null,null,null,null,null,null,140000.0,null,null,null,null,86400.0,null,null,null,57600.0,null,110000.0,null,115200.0,null,null,null,null,null,135000.0,null,100000.0,null,96000.0,null,null,null,90000.0,null,155000.0,null,null,null,null,null,80000.0,null,null,null,90000.0,null,null,null,null,140000.0,null,null,null,null,152793.59999999998,null,null,null,null,null,57600.0,null,110000.0,null,115200.0,null,null,null,null,null,135000.0,null,100000.0,null,96000.0,null,null,null,90000.0,null,155000.0,null,null,null,80000.0,null,null,null,90000.0,null,null,null,null,140000.0,null,null,152793.59999999998,null,null,null,null,null,null,null,null,null,null,null,null,null,86400.0,null,null,null,57600.0,null,110000.0,null,115200.0,null,null,null,null,null,135000.0,null,100000.0,null,96000.0,null,null,null,90000.0,null,155000.0,null,null,140000.0,null,null,80000.0,null,null,null,90000.0,null,null,null,null,null,null,null,null,null,152793.59999999998,null,null,null,null,null,57600.0,null,110000.0,null,115200.0,null,null,null,null,null,135000.0,null,100000.0,null,96000.0,null,null,null,90000.0,null,155000.0,140000.0,null,null,80000.0,null,null,null,90000.0,null,null,null,null,null,null,null,152793.59999999998,null,null,null,null,null,null,null,null,null,null,null,null,null,86400.0,null,null,null,57600.0,null,110000.0,null,115200.0,null,null,null,null,null,135000.0,140000.0,100000.0,null,96000.0,null,null,null,90000.0,null,155000.0,null,null,null,null,null,80000.0,null,null,null,90000.0,null,null,null,null,null,null,null,null,null,152793.59999999998,null,null,null,null,null,57600.0,null,110000.0,null,115200.0,null,null,null,null,140000.0,135000.0,null,100000.0,null,96000.0,null,null,null,90000.0,null,155000.0,null,null,null,80000.0,null,null,null,90000.0,null,null,null,null,null,null,null,152793.59999999998,null,null,null,null,null,null,null,null,null,null,null,null,null,null,null,57600.0,140000.0,110000.0,null,86400.0,null,115200.0,null,null,null,null,null,135000.0,null,100000.0,null,96000.0,null,null,null,90000.0,null,null,null,155000.0,null,null,null,80000.0,null,null,null,90000.0,null,null,null,null,null,null,null,null,null,152793.59999999998,null,null,140000.0,null,null,null,null,57600.0,null,110000.0,null,86400.0,null,115200.0,null,null,null,null,null,135000.0,null,100000.0,null,96000.0,null,null,null,90000.0,null,null,null,155000.0,null,null,null,80000.0,null,null,null,90000.0,null,null,null,null,null,null,140000.0,null,null,152793.59999999998,null,null,null,null,null,86400.0,null,null,null,57600.0,null,110000.0,null,115200.0,null,null,null,null,null,135000.0,null,100000.0,null,96000.0,null,null,null,null,null,90000.0,null,155000.0,null,null,null,80000.0,null,null,null,90000.0,140000.0,null,null,null,null,null,null,null,null,152793.59999999998,null,null,null,null,null,155000.0,null,null,null,null,null,null,null,null,null,null,null,null,null,null,null,null,null,null,null,70000.0,null,null,null,null,null,null,null,null,140000.0,100000.0,null,null,null,null,null,null,null,100000.0,null,null,null,null,null,null,null,86400.0,null,null,null,57600.0,null,110000.0,null,115200.0,null,null,null,null,null,135000.0,null,100000.0,null,96000.0,null,null,null,null,null,90000.0,null,155000.0,140000.0,null,null,80000.0,null,null,null,90000.0,null,null,null,null,null,null,null,null,null,152793.59999999998,null,null,null,null,null,57600.0,null,110000.0,null,115200.0,null,null,null,null,null,135000.0,null,100000.0,null,96000.0,null,null,null,90000.0,null,155000.0,140000.0,null,null,80000.0,null,null,null,90000.0,null,null,null,null,null,null,null,152793.59999999998,null,null,null,null,null,null,null,null,null,null,null,null,null,57600.0,null,110000.0,null,115200.0,null,null,null,null,null,135000.0,null,100000.0,null,96000.0,140000.0,null,null,90000.0,null,155000.0,null,null,null,80000.0,null,null,null,90000.0,null,null,null,null,null,null,null,152793.59999999998,null,null,null,null,null,null,null,null,null,null,null,null,null,86400.0,null,null,null,57600.0,null,110000.0,null,115200.0,null,null,null,null,null,135000.0,null,100000.0,null,96000.0,null,null,null,null,null,90000.0,null,155000.0,null,null,null,80000.0,null,null,null,90000.0,null,null,null,null,null,null,null,null,null,152793.59999999998,null,null,null,null,null,57600.0,null,110000.0,null,115200.0,null,null,null,null,140000.0,135000.0,null,100000.0,null,96000.0,null,null,null,90000.0,null,155000.0,null,null,null,80000.0,null,null,null,90000.0,null,null,null,null,null,null,null,152793.59999999998,null,null,null,null,null,null,null,null,null,null,null,null,null,86400.0,null,null,null,57600.0,null,110000.0,null,115200.0,null,null,null,null,null,135000.0,null,100000.0,null,96000.0,null,null,null,null,null,90000.0,null,155000.0,null,null,null,80000.0,null,null,null,90000.0,null,null,null,null,null,null,null,null,null,152793.59999999998,null,null,null,null,null,57600.0,null,110000.0,140000.0,115200.0,null,null,null,null,null,135000.0,null,100000.0,null,96000.0,null,null,null,90000.0,null,155000.0,null,null,null,80000.0,null,null,null,90000.0,null,null,null,null,null,null,null,152793.59999999998,null,null,null,null,null,null,null,null,null,null,140000.0,null,null,86400.0,null,null,null,57600.0,null,110000.0,null,115200.0,null,null,null,null,null,135000.0,null,100000.0,null,96000.0,null,null,null,null,null,90000.0,null,155000.0,null,null,null,80000.0,null,null,null,90000.0,null,null,null,null,null,null,140000.0,null,null,152793.59999999998,null,null,null,null,null,57600.0,null,110000.0,null,115200.0,null,null,null,null,null,135000.0,null,100000.0,null,96000.0,null,null,null,90000.0,null,155000.0,null,null,null,80000.0,null,null,null,90000.0,null,null,null,null,null,null,140000.0,152793.59999999998,null,null,null,null,null,null,null,null,null,null,null,null,null,null,null,57600.0,null,110000.0,null,86400.0,null,115200.0,null,null,null,null,null,135000.0,null,100000.0,null,96000.0,null,null,null,90000.0,null,155000.0,null,null,null,80000.0,140000.0,null,null,null,null,90000.0,null,null,null,null,null,null,null,null,null,152793.59999999998,null,null,null,null,null,86400.0,null,null,null,57600.0,null,110000.0,null,115200.0,null,null,null,null,null,135000.0,null,100000.0,null,96000.0,null,null,null,null,140000.0,90000.0,null,155000.0,null,null,null,80000.0,null,null,null,90000.0,null,null,null,null,null,null,null,null,null,152793.59999999998,null,null,null,null,null,86400.0,null,null,null,57600.0,null,110000.0,null,115200.0,null,null,null,null,null,135000.0,null,100000.0,140000.0,96000.0,null,null,null,null,null,90000.0,null,155000.0,null,null,null,80000.0,null,null,null,90000.0,null,null,null,null,null,null,null,null,null,152793.59999999998,null,null,null,null,null,86400.0,null,null,null,57600.0,null,110000.0,null,115200.0,null,null,140000.0,null,null,135000.0,null,100000.0,null,96000.0,null,null,null,null,null,90000.0,null,155000.0,null,null,null,80000.0,null,null,null,90000.0,null,null,null,null,null,null,null,null,null,152793.59999999998,null,null,null,null,null,null,null,57600.0,null,110000.0,140000.0,86400.0,null,115200.0,null,null,null,null,null,135000.0,null,100000.0,null,96000.0,null,null,null,null,null,90000.0,null,155000.0,null,null,null,80000.0,null,null,null,90000.0,null,null,null,null,null,null,null,null,null,152793.59999999998,null,null,null,null,140000.0,86400.0,null,null,null,57600.0,null,110000.0,null,115200.0,null,null,null,null,null,135000.0,null,100000.0,null,96000.0,null,null,null,null,null,90000.0,null,155000.0,null,null,null,80000.0,null,null,null,90000.0,null,null,null,null,null,null,null,null,140000.0,152793.59999999998,null,null,null,null,null,86400.0,null,null,null,57600.0,null,110000.0,null,115200.0,null,null,null,null,null,135000.0,null,100000.0,null,96000.0,null,null,null,null,null,90000.0,null,155000.0,null,null,null,80000.0,null,null,null,90000.0,null,null,140000.0,null,null,null,null,null,null,152793.59999999998,null,57600.0,null,115200.0,null,null,null,100000.0,null,null,null,null,null,null,null,null,null,152793.59999999998,null,null,null,65000.0,null,null,null,null,null,null,null,null,null,86400.0,null,70000.0,null,93000.0,140000.0,null,null,null,null,null,null,null,null,null,null,null,null,null,null,null,null,86400.0,null,null,null,57600.0,null,110000.0,null,115200.0,null,null,null,null,null,135000.0,null,100000.0,null,96000.0,null,null,null,null,null,90000.0,null,155000.0,140000.0,null,null,80000.0,null,null,null,90000.0,null,null,null,null,null,null,null,null,null,152793.59999999998,null,null,null,null,null,57600.0,null,110000.0,null,115200.0,null,null,null,null,null,135000.0,null,100000.0,null,96000.0,null,null,null,90000.0,null,155000.0,null,null,null,80000.0,null,null,null,90000.0,null,null,null,null,null,null,null,152793.59999999998,null,null,null,null,null,null,null,null,null,null,null,null,null,57600.0,null,110000.0,null,115200.0,null,null,null,null,null,135000.0,null,100000.0,null,96000.0,null,null,null,90000.0,null,155000.0,140000.0,null,null,80000.0,null,null,null,90000.0,null,null,null,null,null,null,null,152793.59999999998,null,null,null,null,null,null,null,null,null,null,null,null,null,155000.0,null,null,null,null,null,null,null,null,null,null,null,null,null,null,140000.0,null,null,null,null,70000.0,null,null,null,null,null,null,null,null,null,null,null,null,null,null,null,null,null,null,null,null,null,100000.0,null,86400.0,null,null,null,null,null,null,null,57600.0,null,110000.0,null,86400.0,null,115200.0,null,null,null,null,null,135000.0,null,100000.0,null,96000.0,null,null,278400.0,90000.0,null,155000.0,null,null,null,80000.0,null,null,null,90000.0,null,null,null,null,null,null,null,null,null,null,null,152793.59999999998,null,null,null,57600.0,null,86400.0,null,115200.0,null,null,null,100000.0,null,null,140000.0,null,null,null,null,null,null,null,null,152793.59999999998,null,null,null,65000.0,null,null,null,70000.0,null,null,null,82560.0,null,70000.0,null,null,null,null,null,null,null,null,null,null,null,null,null,null,null,null,null,57600.0,null,110000.0,null,86400.0,null,115200.0,null,null,null,null,null,135000.0,null,100000.0,null,96000.0,null,null,null,90000.0,null,155000.0,null,null,null,80000.0,null,null,null,null,null,90000.0,null,null,null,null,null,null,null,null,null,152793.59999999998,null,null,null,null,null,86400.0,null,null,null,57600.0,null,110000.0,null,115200.0,null,null,null,null,null,135000.0,null,100000.0,null,96000.0,null,null,null,90000.0,null,155000.0,null,null,null,80000.0,null,null,null,null,null,90000.0,null,null,null,null,null,null,null,null,null,152793.59999999998,null,null,null,null,null,86400.0,null,null,null,57600.0,null,110000.0,null,115200.0,null,null,null,null,null,135000.0,null,100000.0,null,96000.0,null,null,null,90000.0,null,155000.0,null,null,null,80000.0,null,null,null,null,null,90000.0,null,null,null,null,null,null,null,null,null,152793.59999999998,null,null,null,null,null,null,null,90000.0,null,null,null,null,null,null,null,null,null,null,null,155000.0,null,null,null,null,null,null,null,null,null,null,null,null,null,null,null,null,null,100000.0,null,null,null,null,null,null,null,null,null,null,null,null,null,null,null,null,null,115200.0,null,null,null,120000.0,null,null,null,105901.0,null,null,null,null,null,null,null,null,null,90000.0,null,115200.0,null,null,null,115200.0,null,63360.0,null,130000.0,null,null,null,null,null,46080.0,null,192000.0,null,null,null,null,null,95000.0,null,null,null,null,null,115200.0,null,120000.0,null,null,null,null,null,105901.0,null,null,null,null,null,46080.0,null,null,null,115200.0,null,null,null,115200.0,null,63360.0,null,null,null,130000.0,null,null,null,null,null,null,null,null,null,95000.0,null,null,null,150000.0,null,null,null,115200.0,null,null,null,null,null,105901.0,null,null,null,null,null,46080.0,null,115200.0,null,null,null,115200.0,null,63360.0,null,null,null,130000.0,null,null,null,null,null,150000.0,null,null,null,57600.0,null,71040.0,null,null,null,76800.0,null,null,null,70000.0,null,115000.0,null,57600.0,null,null,null,null,null,115200.0,null,120000.0,null,null,null,null,null,105901.0,null,null,null,46080.0,null,null,null,115200.0,null,90000.0,null,null,null,null,null,115200.0,null,63360.0,null,null,null,130000.0,null,null,null,null,null,192000.0,null,null,null,null,null,95000.0,null,null,null,null,null,null,null,null,null,115200.0,null,null,null,120000.0,null,null,null,null,null,105901.0,null,null,null,null,null,null,null,null,null,115200.0,null,null,null,115200.0,null,63360.0,null,130000.0,null,null,null,null,null,46080.0,null,192000.0,null,null,null,null,null,95000.0,null,115200.0,null,null,null,null,null,null,null,105901.0,null,null,null,46080.0,null,115200.0,null,90000.0,null,null,null,null,null,115200.0,null,63360.0,null,null,null,130000.0,null,null,null,null,null,192000.0,null,150000.0,null,null,null,57600.0,null,71040.0,null,null,null,null,null,76800.0,null,null,null,null,null,115200.0,null,120000.0,null,null,null,null,null,105901.0,null,null,null,46080.0,null,null,null,115200.0,null,90000.0,null,null,null,null,null,115200.0,null,63360.0,null,null,null,130000.0,null,null,null,null,null,192000.0,null,null,null,null,null,95000.0,null,null,null,null,null,null,null,null,null,115200.0,null,null,null,120000.0,null,null,null,null,null,105901.0,null,null,null,null,null,null,null,null,null,90000.0,null,115200.0,null,null,null,115200.0,78500.0,63360.0,null,130000.0,null,null,null,null,null,46080.0,null,192000.0,null,null,null,null,null,null,null,null,null,null,null,115200.0,null,null,null,120000.0,null,null,null,null,null,105901.0,null,null,null,null,null,null,null,null,null,115200.0,null,null,null,115200.0,null,63360.0,null,130000.0,null,null,null,null,null,46080.0,null,192000.0,null,null,null,null,null,95000.0,null,null,null,null,null,null,null,115200.0,null,null,null,120000.0,null,null,null,null,null,105901.0,null,null,null,null,null,null,null,null,null,90000.0,null,115200.0,null,null,null,115200.0,null,63360.0,null,130000.0,null,null,null,null,null,46080.0,null,192000.0,null,null,null,null,null,null,null,null,null,115200.0,null,120000.0,null,null,null,null,null,105901.0,null,null,null,46080.0,null,null,null,115200.0,null,90000.0,null,null,null,null,null,115200.0,null,63360.0,null,null,null,130000.0,null,null,null,null,null,192000.0,null,null,null,null,null,95000.0,null,null,null,null,null,null,null,null,null,115200.0,null,null,null,120000.0,null,null,null,105901.0,null,null,null,null,null,null,null,null,null,115200.0,null,null,null,115200.0,null,63360.0,null,130000.0,null,null,null,null,null,46080.0,null,192000.0,null,null,null,null,null,95000.0,null,null,null,null,null,null,null,null,null,115200.0,null,null,null,120000.0,null,null,null,null,null,105901.0,null,null,null,null,null,null,null,null,null,90000.0,null,115200.0,null,null,null,115200.0,null,63360.0,null,130000.0,null,null,null,null,null,46080.0,null,192000.0,null,null,null,null,null,null,null,null,null,115200.0,null,null,null,120000.0,null,null,null,null,null,105901.0,null,null,null,46080.0,null,null,null,115200.0,null,90000.0,null,null,null,null,null,115200.0,null,63360.0,null,null,null,130000.0,null,null,null,null,null,192000.0,null,null,null,null,null,95000.0,null,null,null,null,null,null,null,115200.0,null,null,null,120000.0,null,null,null,null,null,105901.0,null,null,null,null,null,null,null,null,null,90000.0,null,115200.0,null,null,null,115200.0,null,63360.0,null,130000.0,null,null,null,null,null,46080.0,null,192000.0,null,null,null,null,null,null,null,null,null,115200.0,null,120000.0,null,null,null,null,null,105901.0,null,null,null,46080.0,null,null,null,115200.0,null,90000.0,null,null,null,null,null,115200.0,null,63360.0,null,null,null,130000.0,null,null,null,null,null,192000.0,null,null,null,null,null,95000.0,null,null,null,null,null,null,null,130000.0,null,null,null,150000.0,null,null,null,null,null,100000.0,null,null,null,115200.0,null,null,null,null,null,63360.0,null,null,null,null,null,null,null,null,null,null,null,null,null,null,null,57600.0,null,null,null,null,null,115200.0,null,null,null,null,null,null,null,115200.0,null,120000.0,null,null,null,null,null,105901.0,null,null,null,null,null,46080.0,null,null,null,115200.0,null,null,null,115200.0,null,63360.0,null,null,null,130000.0,null,null,null,null,null,null,null,null,null,null,null,95000.0,null,null,null,150000.0,null,115200.0,null,null,null,null,null,105901.0,null,null,null,null,null,46080.0,null,115200.0,null,null,null,115200.0,null,63360.0,null,null,null,130000.0,null,null,null,null,null,150000.0,null,null,null,57600.0,null,71040.0,null,null,null,76800.0,null,null,null,70000.0,null,115000.0,null,57600.0,null,null,null,null,null,115200.0,null,null,null,120000.0,null,null,null,null,null,105901.0,null,null,null,46080.0,null,null,null,115200.0,null,90000.0,null,null,null,null,null,115200.0,null,63360.0,null,null,null,130000.0,null,null,null,null,null,192000.0,null,null,null,null,null,null,null,null,null,null,null,115200.0,null,null,null,120000.0,null,null,null,null,null,105901.0,null,null,null,46080.0,null,null,null,115200.0,null,90000.0,null,null,null,null,null,115200.0,null,63360.0,null,null,null,130000.0,null,null,null,null,null,192000.0,null,null,null,null,null,95000.0,null,null,null,null,null,115200.0,null,null,null,120000.0,null,null,null,null,null,105901.0,null,null,null,46080.0,null,null,null,115200.0,null,null,null,null,null,115200.0,null,63360.0,null,null,null,130000.0,null,null,null,null,null,192000.0,null,null,null,null,null,95000.0,null,null,null,null,null,null,null,115200.0,null,120000.0,null,null,null,null,null,105901.0,null,null,null,null,null,46080.0,null,null,null,115200.0,null,null,null,115200.0,null,63360.0,null,null,null,130000.0,null,null,null,null,null,null,null,null,null,95000.0,null,null,null,150000.0,null,null,null,null,null,null,null,115200.0,null,120000.0,null,null,null,null,null,105901.0,null,null,null,null,null,46080.0,null,null,null,115200.0,null,null,null,115200.0,null,63360.0,null,null,null,130000.0,null,null,null,null,null,null,null,null,null,95000.0,null,null,null,150000.0,null,null,null,57600.0,null,null,null,115200.0,null,63360.0,null,null,null,null,null,null,null,95000.0,null,102000.0,null,115200.0,null,null,null,null,null,76800.0,null,null,null,134400.0,null,null,null,null,null,null,null,null,null,null,null,null,null,null,null,null,null,null,null,null,null,null,null,null,null,null,null,115200.0,null,null,null,120000.0,null,null,null,null,null,105901.0,null,null,null,null,null,null,null,null,null,90000.0,null,115200.0,null,null,null,115200.0,null,63360.0,null,130000.0,null,null,null,null,null,46080.0,null,192000.0,null,null,null,null,null,null,null,115200.0,null,null,null,null,null,null,null,105901.0,null,null,null,null,null,null,null,90000.0,null,115200.0,null,null,null,115200.0,null,63360.0,null,130000.0,null,null,null,null,null,46080.0,null,192000.0,null,150000.0,null,null,null,57600.0,null,71040.0,null,135000.0,null,null,null,null,null,null,null,115200.0,null,120000.0,null,null,null,null,null,105901.0,null,null,null,null,null,46080.0,null,null,null,115200.0,null,null,null,115200.0,null,63360.0,null,null,null,130000.0,null,null,null,null,null,null,null,null,null,95000.0,null,null,null,150000.0,null,null,null,null,null,null,null,115200.0,null,120000.0,null,null,null,null,null,105901.0,null,null,null,null,null,46080.0,null,null,null,115200.0,null,null,null,115200.0,null,63360.0,null,null,null,130000.0,null,null,null,null,null,null,null,null,null,95000.0,null,null,null,150000.0,null,null,null,null,null,null,null,null,null,115200.0,null,null,null,120000.0,null,null,null,null,null,105901.0,null,null,null,null,null,null,null,null,null,90000.0,null,115200.0,null,null,null,115200.0,null,63360.0,null,130000.0,null,null,null,null,null,46080.0,null,192000.0,null,null,null,null,null,null,null,null,null,115200.0,null,120000.0,null,null,null,null,null,105901.0,null,null,null,null,null,46080.0,null,null,null,115200.0,null,null,null,115200.0,null,63360.0,null,null,null,130000.0,null,null,null,null,null,null,null,null,null,95000.0,null,null,null,150000.0,null,null,null,null,null,null,null,115200.0,null,120000.0,null,null,null,null,null,105901.0,null,null,null,null,null,46080.0,null,null,null,115200.0,null,null,null,115200.0,null,63360.0,null,null,null,130000.0,null,null,null,null,null,null,null,null,null,95000.0,null,null,null,150000.0,null,null,null,null,null,null,null,115200.0,null,120000.0,null,null,null,null,null,105901.0,null,null,null,null,null,46080.0,null,null,null,115200.0,null,null,null,115200.0,null,63360.0,null,null,null,130000.0,null,null,null,null,null,null,null,null,null,95000.0,null,null,null,150000.0,null,null,null,115200.0,null,null,null,null,null,105901.0,null,null,null,null,null,46080.0,null,115200.0,null,null,null,115200.0,null,63360.0,null,null,null,130000.0,null,null,null,null,null,150000.0,null,null,null,57600.0,null,71040.0,null,null,null,76800.0,null,null,null,70000.0,null,115000.0,null,57600.0,null,null,null,null,null,115200.0,null,null,120000.0,null,null,105901.0,null,46080.0,null,90000.0,115200.0,null,null,115200.0,63360.0,null,130000.0,null,null,192000.0,null,null,95000.0,null,null,115200.0,120000.0,null,null,105901.0,null,null,46080.0,null,115200.0,null,115200.0,63360.0,null,130000.0,null,null,null,null,95000.0,null,150000.0,null,null,null,115200.0,120000.0,null,null,105901.0,null,null,46080.0,null,115200.0,null,115200.0,63360.0,null,130000.0,null,null,null,null,95000.0,null,95000.0,150000.0],\"xaxis\":\"x\",\"yaxis\":\"y\",\"type\":\"histogram\"}],                        {\"template\":{\"data\":{\"bar\":[{\"hovertemplate\":\"<b>%{x}</b><br><i>Count</i>: %{y}\",\"type\":\"bar\"}],\"histogram\":[{\"hovertemplate\":\"<b>%{x}</b><br><i>Count</i>: %{y}\",\"type\":\"histogram\"}],\"pie\":[{\"hovertemplate\":\"<b>%{label}</b><br><i>Count</i>: %{value}\",\"type\":\"pie\"}],\"scatter\":[{\"hovertemplate\":\"<b>%{x}</b><br><i>Count</i>: %{y}\",\"type\":\"scatter\"}]},\"layout\":{\"colorway\":[\"#1F77B4\",\"#FF7F0E\",\"#2CA02C\",\"#D62728\",\"#9467BD\",\"#8C564B\",\"#E377C2\",\"#7F7F7F\",\"#BCBD22\",\"#17BECF\"],\"dragmode\":\"pan\",\"font\":{\"size\":16},\"legend\":{\"font\":{\"size\":17}},\"paper_bgcolor\":\"rgb(171,200,227)\",\"plot_bgcolor\":\"#BAE0F3\",\"showlegend\":false,\"title\":{\"font\":{\"size\":19}},\"uniformtext\":{\"minsize\":12,\"mode\":\"hide\"},\"xaxis\":{\"showgrid\":false,\"zeroline\":false},\"yaxis\":{\"zeroline\":false}}},\"xaxis\":{\"anchor\":\"y\",\"domain\":[0.0,1.0],\"title\":{\"text\":\"salary_ub\"}},\"yaxis\":{\"anchor\":\"x\",\"domain\":[0.0,1.0],\"title\":{\"text\":\"count\"}},\"legend\":{\"tracegroupgap\":0},\"margin\":{\"t\":60},\"barmode\":\"relative\",\"title\":{\"text\":\"Distribution of Salary (Lower Bound Distribution)\"},\"annotations\":[{\"ax\":0,\"ay\":0,\"font\":{\"size\":16},\"text\":\"Sample Size: 965\",\"x\":1,\"xanchor\":\"center\",\"xref\":\"paper\",\"y\":-0.1,\"yanchor\":\"top\",\"yref\":\"paper\"}]},                        {\"responsive\": true}                    ).then(function(){\n",
       "                            \n",
       "var gd = document.getElementById('39d3b965-90f6-4ab8-9848-5a2fb3ab5341');\n",
       "var x = new MutationObserver(function (mutations, observer) {{\n",
       "        var display = window.getComputedStyle(gd).display;\n",
       "        if (!display || display === 'none') {{\n",
       "            console.log([gd, 'removed!']);\n",
       "            Plotly.purge(gd);\n",
       "            observer.disconnect();\n",
       "        }}\n",
       "}});\n",
       "\n",
       "// Listen for the removal of the full notebook cells\n",
       "var notebookContainer = gd.closest('#notebook-container');\n",
       "if (notebookContainer) {{\n",
       "    x.observe(notebookContainer, {childList: true});\n",
       "}}\n",
       "\n",
       "// Listen for the clearing of the current output cell\n",
       "var outputEl = gd.closest('.output');\n",
       "if (outputEl) {{\n",
       "    x.observe(outputEl, {childList: true});\n",
       "}}\n",
       "\n",
       "                        })                };                });            </script>        </div>"
      ]
     },
     "metadata": {},
     "output_type": "display_data"
    }
   ],
   "source": [
    "fig = px.histogram(df_salary, x=\"salary_ub\")\n",
    "fig.update_layout(title=\"Distribution of Salary (Lower Bound Distribution)\")\n",
    "add_annotation_for_figure(fig, f\"Sample Size: {sum(~df_salary['salary_ub'].isnull())}\")\n",
    "fig\n"
   ]
  },
  {
   "cell_type": "markdown",
   "metadata": {},
   "source": [
    "much better!"
   ]
  },
  {
   "cell_type": "code",
   "execution_count": 50,
   "metadata": {},
   "outputs": [],
   "source": [
    "df_salary_analysis = df_salary.merge(df, left_index=True, right_index=True)"
   ]
  },
  {
   "cell_type": "code",
   "execution_count": 51,
   "metadata": {},
   "outputs": [
    {
     "name": "stdout",
     "output_type": "stream",
     "text": [
      "salary_lb: 29\n",
      "salary_ub: 34\n",
      "salary_text: 49\n",
      "title: 135\n",
      "company: 305\n",
      "description: 362\n",
      "onsite_remote: 3\n",
      "salary: 49\n",
      "location: 148\n",
      "posted_date: 50\n",
      "link: 5618\n",
      "country: 2\n",
      "Seniority level: 5\n",
      "Employment type: 5\n",
      "Job function: 54\n",
      "Industries: 78\n"
     ]
    }
   ],
   "source": [
    "for column in df_salary_analysis:\n",
    "    print(f\"{column}:\", len(df_salary_analysis[column].unique()))"
   ]
  },
  {
   "cell_type": "code",
   "execution_count": 52,
   "metadata": {},
   "outputs": [
    {
     "data": {
      "text/plain": [
       "array([nan, 'Entry level', 'Associate', 'Mid-Senior level', 'Executive'],\n",
       "      dtype=object)"
      ]
     },
     "execution_count": 52,
     "metadata": {},
     "output_type": "execute_result"
    }
   ],
   "source": [
    "df_salary_analysis[\"Seniority level\"].unique()"
   ]
  },
  {
   "cell_type": "code",
   "execution_count": 53,
   "metadata": {},
   "outputs": [
    {
     "data": {
      "text/plain": [
       "array(['Full-time', nan, 'Contract', 'Temporary', 'Volunteer'],\n",
       "      dtype=object)"
      ]
     },
     "execution_count": 53,
     "metadata": {},
     "output_type": "execute_result"
    }
   ],
   "source": [
    "df_salary_analysis[\"Employment type\"].unique()"
   ]
  },
  {
   "cell_type": "code",
   "execution_count": 54,
   "metadata": {},
   "outputs": [
    {
     "data": {
      "text/html": [
       "<div>\n",
       "<style scoped>\n",
       "    .dataframe tbody tr th:only-of-type {\n",
       "        vertical-align: middle;\n",
       "    }\n",
       "\n",
       "    .dataframe tbody tr th {\n",
       "        vertical-align: top;\n",
       "    }\n",
       "\n",
       "    .dataframe thead th {\n",
       "        text-align: right;\n",
       "    }\n",
       "</style>\n",
       "<table border=\"1\" class=\"dataframe\">\n",
       "  <thead>\n",
       "    <tr style=\"text-align: right;\">\n",
       "      <th></th>\n",
       "      <th>salary_ub</th>\n",
       "    </tr>\n",
       "    <tr>\n",
       "      <th>Seniority level</th>\n",
       "      <th></th>\n",
       "    </tr>\n",
       "  </thead>\n",
       "  <tbody>\n",
       "    <tr>\n",
       "      <th>Associate</th>\n",
       "      <td>102122.623907</td>\n",
       "    </tr>\n",
       "    <tr>\n",
       "      <th>Entry level</th>\n",
       "      <td>61621.880342</td>\n",
       "    </tr>\n",
       "    <tr>\n",
       "      <th>Executive</th>\n",
       "      <td>NaN</td>\n",
       "    </tr>\n",
       "    <tr>\n",
       "      <th>Mid-Senior level</th>\n",
       "      <td>122456.738164</td>\n",
       "    </tr>\n",
       "  </tbody>\n",
       "</table>\n",
       "</div>"
      ],
      "text/plain": [
       "                      salary_ub\n",
       "Seniority level                \n",
       "Associate         102122.623907\n",
       "Entry level        61621.880342\n",
       "Executive                   NaN\n",
       "Mid-Senior level  122456.738164"
      ]
     },
     "execution_count": 54,
     "metadata": {},
     "output_type": "execute_result"
    }
   ],
   "source": [
    "df_salary_analysis.groupby(\"Seniority level\").agg({\"salary_ub\": \"mean\"})"
   ]
  },
  {
   "cell_type": "code",
   "execution_count": 55,
   "metadata": {},
   "outputs": [],
   "source": [
    "encode_df = df_salary_analysis.copy()"
   ]
  },
  {
   "cell_type": "code",
   "execution_count": 56,
   "metadata": {},
   "outputs": [],
   "source": [
    "encode_df[\"Seniority level\"].replace({\"Entry level\" : 1, \"Associate\" : 2, \"Mid-Senior level\" : 3, \"Executive\" : 4}, inplace=True)\n",
    "encode_df[\"Employment type\"].replace({\"Volunteer\" : 1, \"Temporary\" : 2, \"Contract\" : 3, \"Full-time\" : 4}, inplace=True)"
   ]
  },
  {
   "cell_type": "code",
   "execution_count": 57,
   "metadata": {},
   "outputs": [
    {
     "data": {
      "text/html": [
       "<div>                            <div id=\"0a68879c-9ad4-499b-80f3-1a68f87f0503\" class=\"plotly-graph-div\" style=\"height:525px; width:100%;\"></div>            <script type=\"text/javascript\">                require([\"plotly\"], function(Plotly) {                    window.PLOTLYENV=window.PLOTLYENV || {};                                    if (document.getElementById(\"0a68879c-9ad4-499b-80f3-1a68f87f0503\")) {                    Plotly.newPlot(                        \"0a68879c-9ad4-499b-80f3-1a68f87f0503\",                        [{\"coloraxis\":\"coloraxis\",\"name\":\"0\",\"x\":[\"salary_lb\",\"salary_ub\",\"Seniority level\",\"Employment type\"],\"y\":[\"salary_lb\",\"salary_ub\",\"Seniority level\",\"Employment type\"],\"z\":[[1.0,0.8206736927909372,0.509812921254015,-0.20475675652313216],[0.8206736927909372,1.0,0.5899428000199851,-0.2453501442404709],[0.509812921254015,0.5899428000199851,1.0,-0.345332791679637],[-0.20475675652313216,-0.2453501442404709,-0.345332791679637,1.0]],\"type\":\"heatmap\",\"xaxis\":\"x\",\"yaxis\":\"y\",\"hovertemplate\":\"x: %{x}<br>y: %{y}<br>color: %{z}<extra></extra>\"}],                        {\"template\":{\"data\":{\"bar\":[{\"hovertemplate\":\"<b>%{x}</b><br><i>Count</i>: %{y}\",\"type\":\"bar\"}],\"histogram\":[{\"hovertemplate\":\"<b>%{x}</b><br><i>Count</i>: %{y}\",\"type\":\"histogram\"}],\"pie\":[{\"hovertemplate\":\"<b>%{label}</b><br><i>Count</i>: %{value}\",\"type\":\"pie\"}],\"scatter\":[{\"hovertemplate\":\"<b>%{x}</b><br><i>Count</i>: %{y}\",\"type\":\"scatter\"}]},\"layout\":{\"colorway\":[\"#1F77B4\",\"#FF7F0E\",\"#2CA02C\",\"#D62728\",\"#9467BD\",\"#8C564B\",\"#E377C2\",\"#7F7F7F\",\"#BCBD22\",\"#17BECF\"],\"dragmode\":\"pan\",\"font\":{\"size\":16},\"legend\":{\"font\":{\"size\":17}},\"paper_bgcolor\":\"rgb(171,200,227)\",\"plot_bgcolor\":\"#BAE0F3\",\"showlegend\":false,\"title\":{\"font\":{\"size\":19}},\"uniformtext\":{\"minsize\":12,\"mode\":\"hide\"},\"xaxis\":{\"showgrid\":false,\"zeroline\":false},\"yaxis\":{\"zeroline\":false}}},\"xaxis\":{\"anchor\":\"y\",\"domain\":[0.0,1.0],\"scaleanchor\":\"y\",\"constrain\":\"domain\"},\"yaxis\":{\"anchor\":\"x\",\"domain\":[0.0,1.0],\"autorange\":\"reversed\",\"constrain\":\"domain\"},\"coloraxis\":{\"colorscale\":[[0.0,\"rgb(247,252,253)\"],[0.125,\"rgb(229,245,249)\"],[0.25,\"rgb(204,236,230)\"],[0.375,\"rgb(153,216,201)\"],[0.5,\"rgb(102,194,164)\"],[0.625,\"rgb(65,174,118)\"],[0.75,\"rgb(35,139,69)\"],[0.875,\"rgb(0,109,44)\"],[1.0,\"rgb(0,68,27)\"]]},\"margin\":{\"t\":60,\"b\":160},\"title\":{\"font\":{\"size\":24},\"text\":\"Correlations Between Job Attributes\",\"x\":0.05,\"y\":0.96,\"xanchor\":\"left\"}},                        {\"responsive\": true}                    ).then(function(){\n",
       "                            \n",
       "var gd = document.getElementById('0a68879c-9ad4-499b-80f3-1a68f87f0503');\n",
       "var x = new MutationObserver(function (mutations, observer) {{\n",
       "        var display = window.getComputedStyle(gd).display;\n",
       "        if (!display || display === 'none') {{\n",
       "            console.log([gd, 'removed!']);\n",
       "            Plotly.purge(gd);\n",
       "            observer.disconnect();\n",
       "        }}\n",
       "}});\n",
       "\n",
       "// Listen for the removal of the full notebook cells\n",
       "var notebookContainer = gd.closest('#notebook-container');\n",
       "if (notebookContainer) {{\n",
       "    x.observe(notebookContainer, {childList: true});\n",
       "}}\n",
       "\n",
       "// Listen for the clearing of the current output cell\n",
       "var outputEl = gd.closest('.output');\n",
       "if (outputEl) {{\n",
       "    x.observe(outputEl, {childList: true});\n",
       "}}\n",
       "\n",
       "                        })                };                });            </script>        </div>"
      ]
     },
     "metadata": {},
     "output_type": "display_data"
    }
   ],
   "source": [
    "fig = px.imshow(encode_df.corr(), color_continuous_scale=\"BuGn\")\n",
    "fig.update_layout(title=dict(text=\"Correlations Between Job Attributes\", x=0.05, y=0.96, xanchor=\"left\", font_size=24),\n",
    "                  margin=dict(b=160))"
   ]
  },
  {
   "cell_type": "markdown",
   "metadata": {},
   "source": [
    "**Findings:**\n",
    "- Salary has a somewhat strong correlation with seniority level. This is expected"
   ]
  },
  {
   "cell_type": "code",
   "execution_count": 58,
   "metadata": {},
   "outputs": [
    {
     "data": {
      "text/html": [
       "<div>                            <div id=\"25e08ae2-81ad-4b4d-9fe0-542c63145c64\" class=\"plotly-graph-div\" style=\"height:525px; width:100%;\"></div>            <script type=\"text/javascript\">                require([\"plotly\"], function(Plotly) {                    window.PLOTLYENV=window.PLOTLYENV || {};                                    if (document.getElementById(\"25e08ae2-81ad-4b4d-9fe0-542c63145c64\")) {                    Plotly.newPlot(                        \"25e08ae2-81ad-4b4d-9fe0-542c63145c64\",                        [{\"alignmentgroup\":\"True\",\"legendgroup\":\"Entry level\",\"marker\":{\"color\":\"#FF7F0E\"},\"name\":\"Entry level\",\"notched\":false,\"offsetgroup\":\"Entry level\",\"orientation\":\"h\",\"showlegend\":true,\"x\":[null,null,null,null,null,null,null,null,null,null,null,null,50000.0,null,null,null,null,null,null,null,null,null,null,null,null,null,null,null,null,null,null,null,null,null,null,null,null,null,null,null,null,null,null,null,null,null,null,null,null,null,null,null,null,null,null,null,null,null,null,null,null,null,null,null,null,null,50000.0,null,null,null,null,null,null,null,null,null,null,null,null,null,null,null,null,null,null,null,null,null,null,null,null,null,null,null,null,null,null,null,null,null,null,null,50000.0,null,null,null,null,null,null,null,null,null,null,null,50000.0,null,null,null,null,null,null,null,50000.0,null,null,null,null,null,null,null,null,null,null,null,null,null,null,null,null,null,null,null,55000.0,null,null,null,null,null,null,null,96000.0,null,null,null,null,null,null,null,null,null,null,null,null,null,null,null,null,null,null,null,null,null,null,null,null,null,null,null,50000.0,null,null,null,null,null,null,null,null,null,null,null,null,null,50000.0,null,null,null,null,null,null,null,null,null,null,null,null,null,50000.0,null,null,null,null,null,null,null,null,null,null,null,null,null,null,null,null,null,null,null,null,null,null,null,null,null,null,null,50000.0,null,null,null,null,null,null,null,null,null,null,null,null,null,null,null,null,null,null,null,null,null,null,null,null,null,null,null,null,null,null,null,null,null,null,null,50000.0,null,null,null,null,null,null,null,null,null,null,null,50000.0,null,null,null,null,null,null,null,null,null,null,null,null,null,null,null,null,null,null,null,null,null,null,null,null,null,null,null,null,null,null,null,null,null,null,null,null,null,null,null,null,null,null,null,null,null,50000.0,null,null,null,null,null,null,null,null,null,50000.0,null,null,null,null,null,null,null,null,null,null,null,null,null,null,null,50000.0,null,null,null,null,null,null,null,50000.0,null,null,null,null,null,50000.0,null,null,null,null,null,null,null,null,null,50000.0,null,null,null,null,null,null,null,null,null,null,null,50000.0,null,null,null,null,null,null,null,null,null,null,null,null,null,null,null,null,null,null,null,null,null,null,null,null,null,null,null,null,null,50000.0,null,null,null,null,null,50000.0,null,null,null,null,null,null,null,null,null,50000.0,null,null,null,null,null,null,null,null,null,null,null,null,null,50000.0,null,null,null,null,null,null,null,null,null,null,null,null,null,null,null,null,null,null,135000.0,null,null,null,135000.0,null,null,null,null,null,null,null,null,null,null,null,null,null,null,null,null,null,null,null,null,null,null,null,135000.0,null,null,null,135000.0,null,null,null,null,null,null,null,null,null,null,null,null,null,null,null,null,null,null,null,null,null,null,null,null,null,null,null,null,null,null,null,null,null,null,null,null,null,null,null,null,null,null,null,null,null,null,null,null,null,null,null,135000.0,null,null,null,null,null,null,null,null,null,null,null,null,null,null,null,null,null,null,null,null,null,null,null,null,null,null,null,null,null,null,null,null,null,null,null,null,null,null,null,null,null,null,null,null,null,null,null,null,null,null,null,null,null,null,null,null,null,null,null,null,null,null,null,null,null,null,null,null,null,null,null,null,null,null,null,null,null,135000.0,null,null,null,null,null,null,null,null,null,null,null,null,null,135000.0,null,null,null,null,null,null,null,null,null,null,null,null,null,null,null,null,null,null,null,null,null,null,null,null,null,null,null,null,null,null,null,null,null,null,null,null,null,null,null,null,null,null,null,null,57600.0,null,42240.0,null,null,null,42240.0,null,57600.0,null,null,null,42240.0,null,57600.0,null,53760.0,null,57600.0,null,null,null,53760.0,null,null,null,42240.0,null,57600.0,null,null,null,null,null,57600.0,null,42240.0,null,null,null,null,null,42240.0,null,57600.0,null,53760.0,null,57600.0,null,null,null,42240.0,null,57600.0,null,null,null,null,null,57600.0,null,42240.0,null,null,null,null,null,57600.0,null,42240.0,null,null,null,null,null,57600.0,null,42240.0,null,null,null,42240.0,null,57600.0,null,null,null,null,null,57600.0,null,42240.0,null,null,null,null,null,57600.0,null,42240.0,null,null,null,null,null,42240.0,null,57600.0,null,null,null,null,null,57600.0,null,42240.0,null,null,null,42240.0,null,57600.0,null,null,null,null,null,null,null,null,null,null,null,53760.0,null,null,null,null,null,42240.0,null,57600.0,null,null,null,42240.0,null,57600.0,null,53760.0,null,57600.0,null,null,null,53760.0,null,null,null,null,null,42240.0,null,57600.0,null,null,null,null,null,42240.0,null,57600.0,null,null,null,null,null,42240.0,null,57600.0,null,null,null,42240.0,null,57600.0,null,null,null,42240.0,null,57600.0,null,53760.0,null,57600.0,null,null,null,57600.0,null,null,null,null,null,null,null,null,null,57600.0,null,42240.0,null,null,null,null,null,57600.0,null,42240.0,null,53760.0,null,null,null,42240.0,null,57600.0,null,null,null,42240.0,null,57600.0,null,null,null,null,null,57600.0,null,42240.0,null,null,null,42240.0,null,57600.0,null,null,null,42240.0,null,57600.0,null,null,null,42240.0,null,57600.0,null,null,null,42240.0,null,57600.0,null,53760.0,null,57600.0,null,null,null,53760.0,null,null,null,42240.0,57600.0,null,42240.0,57600.0,null,42240.0,57600.0],\"x0\":\" \",\"xaxis\":\"x\",\"y0\":\" \",\"yaxis\":\"y\",\"type\":\"box\",\"hoverinfo\":\"x\"},{\"alignmentgroup\":\"True\",\"legendgroup\":\"Associate\",\"marker\":{\"color\":\"#2CA02C\"},\"name\":\"Associate\",\"notched\":false,\"offsetgroup\":\"Associate\",\"orientation\":\"h\",\"showlegend\":true,\"x\":[100000.0,null,100000.0,null,100000.0,null,100000.0,null,100000.0,null,100000.0,null,null,null,100000.0,null,96000.0,null,100000.0,null,100000.0,null,100000.0,null,null,null,96000.0,null,100000.0,null,null,null,96000.0,null,100000.0,null,100000.0,null,null,null,100000.0,null,96000.0,null,100000.0,null,100000.0,null,null,null,96000.0,null,100000.0,null,null,null,96000.0,null,100000.0,null,100000.0,null,100000.0,null,null,null,100000.0,null,96000.0,null,100000.0,null,null,null,100000.0,null,96000.0,null,100000.0,null,96000.0,null,100000.0,null,100000.0,null,null,null,100000.0,null,96000.0,null,100000.0,null,null,null,100000.0,null,96000.0,null,100000.0,null,100000.0,null,100000.0,null,100000.0,null,null,null,100000.0,null,96000.0,null,100000.0,null,null,null,100000.0,null,96000.0,null,100000.0,null,100000.0,null,100000.0,null,null,null,100000.0,null,96000.0,null,100000.0,null,null,null,100000.0,null,96000.0,null,100000.0,null,null,null,96000.0,null,100000.0,null,100000.0,null,100000.0,null,null,null,100000.0,null,96000.0,null,100000.0,null,null,null,100000.0,null,96000.0,null,100000.0,null,null,null,57600.0,null,96000.0,null,null,null,null,null,70000.0,null,80000.0,null,null,null,null,null,57600.0,135000.0,96000.0,null,null,null,null,null,80000.0,null,null,135000.0,72960.0,null,null,null,57600.0,null,96000.0,null,null,null,null,null,70000.0,null,80000.0,null,null,null,57600.0,null,96000.0,null,null,null,null,null,70000.0,null,80000.0,null,null,null,72960.0,null,null,null,57600.0,null,96000.0,null,null,null,null,null,70000.0,null,80000.0,null,null,null,57600.0,null,96000.0,null,null,null,null,null,70000.0,null,80000.0,null,null,null,72960.0,null,null,null,57600.0,null,96000.0,null,null,null,null,null,70000.0,null,80000.0,null,null,null,57600.0,null,96000.0,null,null,135000.0,null,null,70000.0,null,80000.0,null,null,null,null,null,57600.0,135000.0,96000.0,null,null,null,null,null,70000.0,null,80000.0,null,null,null,57600.0,null,72960.0,null,96000.0,null,null,null,null,null,70000.0,null,80000.0,null,72960.0,null,null,null,57600.0,null,96000.0,null,null,null,null,null,70000.0,null,80000.0,135000.0,null,null,null,null,null,null,null,135000.0,72960.0,null,null,null,57600.0,null,96000.0,null,null,null,null,null,70000.0,null,80000.0,null,null,null,57600.0,null,96000.0,null,null,null,null,null,70000.0,null,80000.0,null,null,null,null,null,57600.0,null,96000.0,null,null,null,null,null,70000.0,null,80000.0,null,null,null,72960.0,null,null,null,57600.0,null,96000.0,null,null,null,null,null,70000.0,null,80000.0,null,null,null,57600.0,null,96000.0,null,null,135000.0,null,null,70000.0,null,80000.0,null,null,null,72960.0,null,null,null,57600.0,null,96000.0,null,null,null,null,null,70000.0,null,80000.0,null,null,null,57600.0,null,96000.0,null,null,null,null,null,70000.0,null,80000.0,null,null,null,72960.0,null,null,null,57600.0,null,96000.0,null,null,null,null,null,70000.0,null,80000.0,null,null,null,57600.0,null,96000.0,null,null,null,null,null,70000.0,null,80000.0,null,null,null,null,null,57600.0,null,72960.0,null,96000.0,null,null,null,null,null,70000.0,135000.0,80000.0,null,72960.0,null,null,null,57600.0,null,96000.0,null,null,null,null,135000.0,70000.0,null,80000.0,null,72960.0,null,null,null,57600.0,null,96000.0,null,null,null,70000.0,null,80000.0,null,72960.0,null,null,null,57600.0,null,96000.0,null,null,null,null,null,70000.0,null,80000.0,null,null,null,57600.0,null,72960.0,null,96000.0,null,null,null,null,null,70000.0,null,80000.0,null,72960.0,null,null,null,57600.0,null,96000.0,null,null,null,null,null,70000.0,null,72960.0,null,null,null,57600.0,null,96000.0,null,null,null,null,null,70000.0,null,80000.0,null,57600.0,null,96000.0,null,null,null,60000.0,null,72960.0,null,75000.0,135000.0,72960.0,null,null,null,57600.0,null,96000.0,null,null,null,null,null,70000.0,null,80000.0,null,null,null,57600.0,null,96000.0,null,null,null,null,null,70000.0,null,80000.0,null,null,null,null,null,57600.0,null,96000.0,null,null,null,null,null,70000.0,null,80000.0,null,null,null,null,null,null,null,57600.0,null,72960.0,null,96000.0,null,null,null,null,259200.0,70000.0,null,80000.0,null,57600.0,null,72960.0,null,96000.0,null,null,null,60000.0,null,null,null,null,null,57600.0,null,72960.0,null,96000.0,null,null,null,null,null,70000.0,null,80000.0,null,72960.0,null,null,null,57600.0,null,96000.0,null,null,null,null,null,70000.0,null,80000.0,null,72960.0,null,null,null,57600.0,null,96000.0,null,null,null,null,null,70000.0,null,80000.0,null,null,null,80000.0,null,null,null,null,null,null,null,null,null,null,null,null,null,75000.0,null,76800.0,null,120000.0,null,null,null,76800.0,null,null,null,120000.0,null,null,null,null,null,null,null,76800.0,null,null,null,120000.0,null,null,null,67200.0,null,65000.0,null,null,null,75000.0,null,null,null,76800.0,null,null,null,120000.0,null,null,null,null,null,null,null,76800.0,null,120000.0,null,null,null,75000.0,null,null,null,76800.0,null,null,null,120000.0,null,null,null,67200.0,null,null,null,null,null,75000.0,null,null,null,76800.0,null,null,null,120000.0,null,null,null,null,null,null,null,null,null,75000.0,null,76800.0,65500.0,120000.0,null,null,null,null,null,null,null,76800.0,null,120000.0,null,null,null,null,null,null,null,75000.0,null,76800.0,null,120000.0,null,null,null,75000.0,null,null,null,76800.0,null,null,null,120000.0,null,null,null,null,null,null,null,76800.0,null,120000.0,null,null,null,null,null,null,null,null,null,75000.0,null,76800.0,null,120000.0,null,null,null,75000.0,null,null,null,76800.0,null,null,null,120000.0,null,null,null,null,null,75000.0,null,76800.0,null,120000.0,null,null,null,75000.0,null,null,null,76800.0,null,null,null,120000.0,null,null,null,null,null,120000.0,null,null,null,80000.0,null,76800.0,null,null,null,null,null,76800.0,null,null,null,120000.0,null,null,null,null,null,76800.0,null,null,null,120000.0,null,null,null,67200.0,null,65000.0,null,null,null,75000.0,null,null,null,76800.0,null,null,null,120000.0,null,null,null,75000.0,null,null,null,76800.0,null,null,null,120000.0,null,null,null,null,null,76800.0,null,null,null,120000.0,null,null,null,null,null,76800.0,null,null,null,120000.0,null,null,null,null,null,null,null,76800.0,null,null,null,120000.0,null,null,null,null,null,76800.0,null,null,null,null,null,null,null,null,null,null,null,null,null,75000.0,null,76800.0,null,120000.0,null,null,null,null,null,null,null,75000.0,null,76800.0,null,120000.0,null,null,null,67200.0,null,null,null,76800.0,null,null,null,120000.0,null,null,null,null,null,null,null,76800.0,null,null,null,120000.0,null,null,null,null,null,null,null,null,null,null,null,75000.0,null,76800.0,null,120000.0,null,null,null,76800.0,null,null,null,120000.0,null,null,null,null,null,null,null,76800.0,null,null,null,120000.0,null,null,null,null,null,null,null,76800.0,null,null,null,120000.0,null,null,null,null,null,null,null,76800.0,null,null,null,120000.0,null,null,null,65000.0,null,null,75000.0,null,76800.0,null,120000.0,null,76800.0,null,120000.0,null,null,null,76800.0,null,120000.0,null],\"x0\":\" \",\"xaxis\":\"x\",\"y0\":\" \",\"yaxis\":\"y\",\"type\":\"box\",\"hoverinfo\":\"x\"},{\"alignmentgroup\":\"True\",\"legendgroup\":\"Mid-Senior level\",\"marker\":{\"color\":\"#D62728\"},\"name\":\"Mid-Senior level\",\"notched\":false,\"offsetgroup\":\"Mid-Senior level\",\"orientation\":\"h\",\"showlegend\":true,\"x\":[null,null,null,null,null,null,null,null,null,null,null,null,null,null,69600.0,null,null,null,null,null,null,null,69600.0,null,null,null,null,null,69600.0,null,null,null,null,null,69600.0,null,null,null,69600.0,null,null,null,null,null,null,null,null,null,null,null,69600.0,null,null,null,null,null,null,null,null,null,69600.0,null,null,null,69600.0,null,null,null,69600.0,null,null,null,null,null,null,null,69600.0,null,null,null,null,null,69600.0,null,null,null,null,null,null,null,null,null,69600.0,null,null,null,null,null,69600.0,null,null,null,null,null,null,null,null,null,null,null,null,null,69600.0,null,null,null,null,null,69600.0,null,null,null,null,null,null,null,null,null,null,null,null,null,69600.0,null,null,null,null,null,69600.0,null,null,null,null,null,69600.0,null,null,null,null,null,null,null,null,null,69600.0,null,null,null,69600.0,null,null,null,null,null,null,null,null,null,null,null,69600.0,null,null,null,80000.0,null,null,null,120000.0,null,85000.0,null,76800.0,null,125000.0,null,null,null,null,null,null,null,114604.79999999999,null,null,null,80000.0,null,null,null,120000.0,null,85000.0,null,76800.0,null,125000.0,null,null,null,null,null,114604.79999999999,null,null,null,80000.0,null,null,null,120000.0,null,85000.0,null,76800.0,null,125000.0,null,null,null,null,null,null,null,null,null,114604.79999999999,null,80000.0,null,null,null,120000.0,null,85000.0,null,76800.0,null,125000.0,null,null,null,null,null,null,null,114604.79999999999,null,null,null,80000.0,null,null,null,120000.0,null,85000.0,null,76800.0,null,125000.0,null,null,null,null,null,null,null,null,null,114604.79999999999,null,80000.0,null,null,null,120000.0,null,85000.0,null,76800.0,null,125000.0,135000.0,null,null,null,null,null,null,114604.79999999999,null,null,null,80000.0,null,null,null,120000.0,135000.0,85000.0,null,76800.0,null,125000.0,null,null,null,null,null,null,null,null,null,114604.79999999999,null,80000.0,null,null,null,120000.0,null,85000.0,null,76800.0,null,125000.0,null,null,null,null,null,null,null,114604.79999999999,null,null,null,80000.0,null,null,null,120000.0,null,85000.0,null,76800.0,null,125000.0,null,null,null,null,null,null,null,null,null,114604.79999999999,null,80000.0,null,null,null,120000.0,null,85000.0,null,76800.0,null,125000.0,null,null,null,null,null,null,null,null,null,114604.79999999999,null,80000.0,null,null,null,120000.0,null,85000.0,null,76800.0,null,125000.0,null,null,null,null,null,null,null,null,null,114604.79999999999,null,null,null,125000.0,null,null,null,null,null,null,null,null,null,80000.0,null,null,null,85000.0,null,80000.0,null,null,null,120000.0,null,85000.0,null,76800.0,null,125000.0,135000.0,null,null,null,null,null,null,null,null,114604.79999999999,null,80000.0,null,null,null,85000.0,null,76800.0,null,125000.0,135000.0,null,null,null,null,null,null,114604.79999999999,null,null,null,80000.0,null,null,null,120000.0,null,85000.0,null,76800.0,135000.0,125000.0,null,null,null,null,null,null,null,114604.79999999999,null,null,null,80000.0,null,null,null,120000.0,null,85000.0,null,76800.0,null,125000.0,null,null,null,null,null,null,null,null,null,114604.79999999999,null,80000.0,null,null,null,120000.0,null,85000.0,null,76800.0,null,125000.0,null,null,null,null,null,null,null,114604.79999999999,null,null,null,80000.0,null,null,null,120000.0,null,85000.0,null,76800.0,null,125000.0,null,null,null,null,null,null,null,null,null,114604.79999999999,null,80000.0,135000.0,null,null,120000.0,null,85000.0,null,76800.0,null,125000.0,null,null,null,null,null,null,null,114604.79999999999,null,null,null,80000.0,null,null,null,120000.0,null,85000.0,null,76800.0,null,125000.0,null,null,null,null,null,null,135000.0,null,null,114604.79999999999,null,80000.0,null,null,null,120000.0,null,85000.0,null,76800.0,null,125000.0,null,null,null,null,null,null,135000.0,114604.79999999999,null,null,null,80000.0,null,null,null,120000.0,null,85000.0,null,76800.0,null,125000.0,null,null,null,null,null,null,null,null,null,114604.79999999999,null,80000.0,null,null,null,120000.0,null,85000.0,null,76800.0,null,125000.0,null,null,null,null,null,null,null,null,null,114604.79999999999,null,80000.0,null,null,null,120000.0,null,76800.0,null,125000.0,null,null,null,null,null,null,null,null,null,114604.79999999999,null,80000.0,null,null,135000.0,120000.0,null,85000.0,null,76800.0,null,125000.0,null,null,null,null,null,null,null,null,null,114604.79999999999,null,80000.0,135000.0,null,null,120000.0,null,85000.0,null,76800.0,null,125000.0,null,null,null,null,null,null,null,null,null,114604.79999999999,null,80000.0,null,null,null,120000.0,null,85000.0,null,76800.0,null,null,null,null,null,null,null,null,135000.0,114604.79999999999,null,80000.0,null,null,null,120000.0,null,85000.0,null,76800.0,null,125000.0,null,null,null,null,null,null,null,null,null,114604.79999999999,null,null,null,85000.0,null,null,null,114604.79999999999,null,null,null,70000.0,null,null,null,80000.0,null,null,null,120000.0,null,85000.0,null,76800.0,null,125000.0,135000.0,null,null,null,null,null,null,114604.79999999999,null,80000.0,null,null,null,120000.0,null,85000.0,null,76800.0,null,125000.0,null,null,null,null,null,null,null,114604.79999999999,null,null,null,80000.0,null,null,null,120000.0,null,85000.0,null,76800.0,null,125000.0,135000.0,null,null,null,null,null,null,114604.79999999999,null,null,null,125000.0,null,null,null,null,null,null,null,null,null,null,null,null,null,null,null,85000.0,null,76800.0,null,80000.0,null,null,null,120000.0,null,85000.0,null,76800.0,null,125000.0,null,null,null,null,null,null,null,null,null,114604.79999999999,null,null,null,85000.0,null,null,null,114604.79999999999,null,null,null,72960.0,null,70000.0,null,null,null,80000.0,null,null,null,120000.0,null,85000.0,null,76800.0,null,125000.0,null,null,null,null,null,null,null,null,null,114604.79999999999,null,80000.0,null,null,null,120000.0,null,85000.0,null,76800.0,null,125000.0,null,null,null,null,null,null,null,null,null,114604.79999999999,null,80000.0,null,null,null,120000.0,null,85000.0,null,76800.0,null,125000.0,null,null,null,null,null,null,null,null,null,114604.79999999999,null,null,null,null,null,null,null,null,null,80000.0,null,null,null,null,null,null,null,96000.0,null,90000.0,null,null,null,115200.0,null,null,null,null,null,76800.0,null,null,null,75000.0,null,null,null,90000.0,null,null,null,115200.0,null,null,null,null,null,null,null,75000.0,null,130000.0,null,96000.0,null,null,null,115200.0,null,null,null,null,null,130000.0,null,100000.0,null,null,null,null,null,96000.0,null,90000.0,null,115200.0,null,null,null,null,null,76800.0,null,null,null,75000.0,null,null,null,null,null,96000.0,null,90000.0,null,null,null,115200.0,null,null,null,null,null,76800.0,null,null,null,75000.0,null,96000.0,null,115200.0,null,null,null,null,null,76800.0,null,130000.0,null,null,null,96000.0,null,90000.0,null,115200.0,null,null,null,null,null,76800.0,null,null,null,75000.0,null,null,null,null,null,96000.0,null,90000.0,null,null,null,115200.0,null,null,null,null,null,76800.0,null,null,null,null,null,null,null,96000.0,null,90000.0,null,null,null,115200.0,null,null,null,null,null,76800.0,null,null,null,75000.0,null,null,null,null,null,96000.0,null,90000.0,null,null,null,115200.0,null,null,null,null,null,76800.0,null,null,null,null,null,null,null,96000.0,null,90000.0,null,115200.0,null,null,null,null,null,76800.0,null,null,null,75000.0,null,null,null,96000.0,null,90000.0,null,null,null,115200.0,null,null,null,null,null,76800.0,null,null,null,75000.0,null,null,null,null,null,96000.0,null,90000.0,null,null,null,115200.0,null,null,null,null,null,76800.0,null,null,null,null,null,null,null,96000.0,null,90000.0,null,115200.0,null,null,null,null,null,76800.0,null,null,null,75000.0,null,null,null,null,null,96000.0,null,90000.0,null,null,null,115200.0,null,null,null,null,null,76800.0,null,null,null,null,null,null,null,96000.0,null,90000.0,null,115200.0,null,null,null,null,null,76800.0,null,null,null,75000.0,null,null,null,null,null,57600.0,null,null,null,null,null,115200.0,null,null,null,null,null,96000.0,null,90000.0,null,null,null,115200.0,null,null,null,null,null,null,null,null,null,75000.0,null,96000.0,null,null,null,115200.0,null,null,null,null,null,130000.0,null,100000.0,null,null,null,null,null,96000.0,null,90000.0,null,115200.0,null,null,null,null,null,76800.0,null,null,null,null,null,null,null,null,null,96000.0,null,90000.0,null,115200.0,null,null,null,null,null,76800.0,null,null,null,75000.0,null,null,null,null,null,96000.0,null,90000.0,null,115200.0,null,null,null,null,null,76800.0,null,null,null,75000.0,null,null,null,null,null,96000.0,null,90000.0,null,null,null,115200.0,null,null,null,null,null,null,null,75000.0,null,130000.0,null,null,null,null,null,96000.0,null,90000.0,null,null,null,115200.0,null,null,null,null,null,null,null,75000.0,null,130000.0,null,null,null,null,null,80000.0,null,80000.0,null,115200.0,null,null,null,null,null,null,null,null,null,null,null,null,null,null,null,null,null,96000.0,null,90000.0,null,null,null,115200.0,null,null,null,null,null,76800.0,null,null,null,96000.0,null,null,null,115200.0,null,null,null,null,null,76800.0,null,130000.0,null,90000.0,null,null,null,null,null,96000.0,null,90000.0,null,null,null,115200.0,null,null,null,null,null,null,null,75000.0,null,130000.0,null,null,null,null,null,96000.0,null,90000.0,null,null,null,115200.0,null,null,null,null,null,null,null,130000.0,null,null,null,null,null,96000.0,null,90000.0,null,null,null,115200.0,null,null,null,null,null,76800.0,null,null,null,null,null,null,null,96000.0,null,90000.0,null,null,null,115200.0,null,null,null,null,null,75000.0,null,130000.0,null,null,null,null,null,96000.0,null,90000.0,null,null,null,115200.0,null,null,null,null,null,null,null,75000.0,null,130000.0,null,null,null,null,null,96000.0,null,null,null,115200.0,null,null,null,null,null,null,null,75000.0,null,130000.0,null,96000.0,null,null,null,115200.0,null,null,null,null,null,130000.0,null,100000.0,null,null,null,null,null,96000.0,null,90000.0,115200.0,null,null,76800.0,null,75000.0,null,null,96000.0,90000.0,null,115200.0,null,null,75000.0,130000.0,null,null,96000.0,90000.0,null,115200.0,null,null,null,75000.0,130000.0],\"x0\":\" \",\"xaxis\":\"x\",\"y0\":\" \",\"yaxis\":\"y\",\"type\":\"box\",\"hoverinfo\":\"x\"},{\"alignmentgroup\":\"True\",\"legendgroup\":\"Executive\",\"marker\":{\"color\":\"#9467BD\"},\"name\":\"Executive\",\"notched\":false,\"offsetgroup\":\"Executive\",\"orientation\":\"h\",\"showlegend\":true,\"x\":[null,null],\"x0\":\" \",\"xaxis\":\"x\",\"y0\":\" \",\"yaxis\":\"y\",\"type\":\"box\",\"hoverinfo\":\"x\"}],                        {\"template\":{\"data\":{\"bar\":[{\"hovertemplate\":\"<b>%{x}</b><br><i>Count</i>: %{y}\",\"type\":\"bar\"}],\"histogram\":[{\"hovertemplate\":\"<b>%{x}</b><br><i>Count</i>: %{y}\",\"type\":\"histogram\"}],\"pie\":[{\"hovertemplate\":\"<b>%{label}</b><br><i>Count</i>: %{value}\",\"type\":\"pie\"}],\"scatter\":[{\"hovertemplate\":\"<b>%{x}</b><br><i>Count</i>: %{y}\",\"type\":\"scatter\"}]},\"layout\":{\"colorway\":[\"#1F77B4\",\"#FF7F0E\",\"#2CA02C\",\"#D62728\",\"#9467BD\",\"#8C564B\",\"#E377C2\",\"#7F7F7F\",\"#BCBD22\",\"#17BECF\"],\"dragmode\":\"pan\",\"font\":{\"size\":16},\"legend\":{\"font\":{\"size\":17}},\"paper_bgcolor\":\"rgb(171,200,227)\",\"plot_bgcolor\":\"#BAE0F3\",\"showlegend\":false,\"title\":{\"font\":{\"size\":19}},\"uniformtext\":{\"minsize\":12,\"mode\":\"hide\"},\"xaxis\":{\"showgrid\":false,\"zeroline\":false},\"yaxis\":{\"zeroline\":false}}},\"xaxis\":{\"anchor\":\"y\",\"domain\":[0.0,1.0],\"title\":{\"text\":\"salary_lb\"},\"showgrid\":true},\"yaxis\":{\"anchor\":\"x\",\"domain\":[0.0,1.0]},\"legend\":{\"title\":{\"text\":\"Seniority level\"},\"tracegroupgap\":0},\"margin\":{\"t\":60},\"boxmode\":\"group\",\"annotations\":[{\"ax\":0,\"ay\":0,\"font\":{\"size\":16},\"text\":\"Sample Size: 965\",\"x\":1.1,\"xanchor\":\"center\",\"xref\":\"paper\",\"y\":-0.1,\"yanchor\":\"top\",\"yref\":\"paper\"}],\"showlegend\":true,\"title\":{\"text\":\"Salary (Lower Bound) Based on Seniority Level\"}},                        {\"responsive\": true}                    ).then(function(){\n",
       "                            \n",
       "var gd = document.getElementById('25e08ae2-81ad-4b4d-9fe0-542c63145c64');\n",
       "var x = new MutationObserver(function (mutations, observer) {{\n",
       "        var display = window.getComputedStyle(gd).display;\n",
       "        if (!display || display === 'none') {{\n",
       "            console.log([gd, 'removed!']);\n",
       "            Plotly.purge(gd);\n",
       "            observer.disconnect();\n",
       "        }}\n",
       "}});\n",
       "\n",
       "// Listen for the removal of the full notebook cells\n",
       "var notebookContainer = gd.closest('#notebook-container');\n",
       "if (notebookContainer) {{\n",
       "    x.observe(notebookContainer, {childList: true});\n",
       "}}\n",
       "\n",
       "// Listen for the clearing of the current output cell\n",
       "var outputEl = gd.closest('.output');\n",
       "if (outputEl) {{\n",
       "    x.observe(outputEl, {childList: true});\n",
       "}}\n",
       "\n",
       "                        })                };                });            </script>        </div>"
      ]
     },
     "metadata": {},
     "output_type": "display_data"
    }
   ],
   "source": [
    "fig7 = px.box(df_salary_analysis, x=\"salary_lb\", color=\"Seniority level\")\n",
    "remove_px_attributes(fig7)\n",
    "add_annotation_for_figure(fig7, f\"Sample Size: {min(sum(~df_salary_analysis['salary_lb'].isnull()), sum(~df_salary_analysis['Seniority level'].isnull()))}\",\n",
    "                          x_anchor=\"center\", x=1.1)\n",
    "fig7.update_layout(showlegend=True, title=\"Salary (Lower Bound) Based on Seniority Level\")\n",
    "fig7.update_xaxes(showgrid=True)\n",
    "fig7.update_traces(hoverinfo=\"x\")"
   ]
  },
  {
   "cell_type": "markdown",
   "metadata": {},
   "source": [
    "## 1.5 Make Our Linkedin Job Analysis Dashboard"
   ]
  },
  {
   "cell_type": "code",
   "execution_count": 59,
   "metadata": {},
   "outputs": [],
   "source": [
    "from plotly.subplots import make_subplots\n",
    "class BreakLoop(Exception):\n",
    "    pass\n",
    "\n",
    "def generate_subplots(figures, custom_specs=None, desired_rows=None, desired_columns=None, titles=None,\n",
    "                      auto_position=True, custom_positions=None):\n",
    "\n",
    "    '''\n",
    "        For each figure, append their traces to new subplot figure\n",
    "        based on the correct row and col indices\n",
    "    '''\n",
    "    NUM_FIGURES = len(figures)\n",
    "    DESIRED_ROWS = desired_rows\n",
    "    DESIRED_COLUMNS = desired_columns\n",
    "    # num_traces = sum([len(figure.data) for figure in figures])\n",
    "    # if desired_rows is not None:\n",
    "    #     desired_columns = num_figures // desired_rows + 1 \n",
    "\n",
    "    # if desired_columns is not None:\n",
    "    #     desired_rows = num_figures // desired_columns + 1\n",
    "\n",
    "    specs = None\n",
    "    specs_positions = None\n",
    "    \n",
    "    \n",
    "    ######### Default Specs ######################\n",
    "    if custom_specs is None:\n",
    "        \n",
    "        specs = np.full((DESIRED_ROWS, DESIRED_COLUMNS), {})\n",
    "        specs_positions = [(i,j) for i in DESIRED_ROWS for j in DESIRED_COLUMNS]\n",
    "        k = 0\n",
    "\n",
    "        # Populate all figures from top-left to bottom-right into specs\n",
    "        for i in range(DESIRED_ROWS):\n",
    "            for j in range(DESIRED_COLUMNS):\n",
    "                new_dict = {}\n",
    "                new_dict[\"type\"] = figures[k][\"data\"][0][\"type\"]\n",
    "                specs[i][j] = new_dict\n",
    "                k += 1\n",
    "            \n",
    "            if k >= NUM_FIGURES:\n",
    "                break\n",
    "\n",
    "        specs = specs.tolist()\n",
    "    \n",
    "    ######## Custom Specs ########################\n",
    "    else:\n",
    "        specs = custom_specs\n",
    "         \n",
    "        # find specs positions based on col_span and row_span\n",
    "        specs_positions = []\n",
    "\n",
    "        if auto_position:\n",
    "            try:\n",
    "                for i, spec_row in enumerate(specs):\n",
    "                    for j, spec_value in enumerate(spec_row):\n",
    "                        if spec_value is None:\n",
    "                            continue\n",
    "                        \n",
    "                        # find first position\n",
    "                        specs_positions.append((i+1, j+1))\n",
    "                        raise BreakLoop(\"Broke out of Pythonic Loop\") # Python is very bad at breaking out of a double for loop\n",
    "                    \n",
    "            except BreakLoop as e:\n",
    "                pass\n",
    "    \n",
    "            row, col = specs_positions.pop()\n",
    "            \n",
    "            # Work with Pythonic grid instead of Plotly grid, which starts at (1,1) top-left instead of (0,0) top-left\n",
    "            row -= 1\n",
    "            col -= 1\n",
    "\n",
    "            for _ in range(NUM_FIGURES):\n",
    "                this_figure_row = row\n",
    "                this_figure_column = col\n",
    "                specs_dict = specs[row][col]\n",
    "                specs_positions.append((row + 1, col + 1))\n",
    "                if specs_dict is None:\n",
    "                    raise Exception(\n",
    "                        \"Your figures should not be drawn in an empty subplot. Please make sure to indicate the correct number of blank rows/cols\"\n",
    "                        \"or colspan/rowspan going after a figure if necessary\" \n",
    "                    )\n",
    "\n",
    "                # add col_blank + row_blank positional changes and remove attributes from specs dictionary\n",
    "                if \"col_blank\" in specs_dict:\n",
    "                    col += (specs_dict[\"col_blank\"] + 1)\n",
    "                    del specs_dict[\"col_blank\"]\n",
    "\n",
    "                if \"row_blank\" in specs_dict:\n",
    "                    row += (specs_dict[\"row_blank\"] + 1)\n",
    "                    del specs_dict[\"row_blank\"]\n",
    "                 \n",
    "                specs[this_figure_row][this_figure_column] = specs_dict\n",
    "\n",
    "                # Adjust implicitly and explicity to colspan and rowspan\n",
    "                if \"colspan\" in specs_dict:\n",
    "                    col += specs_dict[\"colspan\"]\n",
    "                else:\n",
    "                    col += 1\n",
    "                \n",
    "                \n",
    "                if \"rowspan\" in specs_dict:\n",
    "                    # rowspan moves independently of col operations\n",
    "                    row += specs_dict[\"rowspan\"]\n",
    "                else:\n",
    "                    if col >= DESIRED_COLUMNS:\n",
    "                        row += 1\n",
    "                \n",
    "                if col >= DESIRED_COLUMNS:                 \n",
    "                    col = 0\n",
    "        else:\n",
    "            specs_positions = custom_positions\n",
    "                \n",
    "    all_titles = []\n",
    "    if titles is None:\n",
    "         all_titles = [fig.layout.title.text if \"title\" in fig.layout else '' for fig in figures]\n",
    "             \n",
    "\n",
    "    fig = make_subplots(DESIRED_ROWS, DESIRED_COLUMNS,\n",
    "                        specs=specs,\n",
    "                        subplot_titles=all_titles\n",
    "                        )\n",
    "\n",
    "    assert len(specs_positions) == len(figures), \"Length of specs positions not the same as number of figures\"\n",
    "    for i, figure in enumerate(figures):\n",
    "        specs_row, specs_col = specs_positions[i]\n",
    "        for trace in figure[\"data\"]:\n",
    "            fig.append_trace(\n",
    "                trace, row=specs_row, col=specs_col\n",
    "            )\n",
    "\n",
    "        col += 1\n",
    "    fig.update_layout(template=\"bnw\")\n",
    "\n",
    "    return fig\n",
    "\n",
    "# fig1 = go.Figure(go.Scatter(x=[1,2,3], y=[4,5,6], mode=\"lines+markers\"))\n",
    "# fig2 = px.line(x=[1,2,3], y=[7,8,9])\n",
    "# fig2.update_traces(line=dict(color=\"firebrick\"), mode=\"lines\")\n",
    "# remove_px_attributes(fig2, remove_hovertemplate=True, remove_mode=False)\n",
    "# fig3 = px.bar(pd.DataFrame({\"a\" : [1,1,3], \"b\": [7,8,9], \"c\" : [\"blue\", \"brown\", \"brown\"]}),\n",
    "#               x=\"a\", y=\"b\", color=\"c\")\n",
    "# remove_px_attributes(fig3)\n",
    "\n",
    "\n",
    "# specs=[\n",
    "#     [{}, {}],\n",
    "#     [{\"colspan\": 2}, None]\n",
    "# ]\n",
    "# figs = [fig1, fig2, fig3]\n",
    "# generate_subplots(figs, custom_specs=specs, desired_rows=2)\n",
    "# help(make_subplots)"
   ]
  },
  {
   "cell_type": "code",
   "execution_count": 60,
   "metadata": {},
   "outputs": [
    {
     "data": {
      "text/html": [
       "<div>                            <div id=\"49b21372-58aa-4277-a72a-486ff481d50a\" class=\"plotly-graph-div\" style=\"height:1000px; width:100%;\"></div>            <script type=\"text/javascript\">                require([\"plotly\"], function(Plotly) {                    window.PLOTLYENV=window.PLOTLYENV || {};                                    if (document.getElementById(\"49b21372-58aa-4277-a72a-486ff481d50a\")) {                    Plotly.newPlot(                        \"49b21372-58aa-4277-a72a-486ff481d50a\",                        [{\"customdata\":[[\"Data Analyst\"],[\"Data Analyst - Recent Graduate\"],[\"Senior Data Analyst\"],[\"Junior Data Analyst\"],[\"Senior Data Analyst, Analytics & Insights (Toronto, ON)\"],[\"Data Analyst - (Remote - US)\"],[\"Sr. Data Analyst\"],[\"Data Analyst (Remote)\"],[\"Insights Analyst\"],[\"Business Data Analyst\"],[\"Data Analyst (12 Month Contract)\"],[\"Data Analyst (Hybrid)\"],[\"Data Analyst (Python/SQL)\"],[\"Associate Data Analyst\"],[\"Senior Data Analyst, APAC Marketplace\"],[\"SQL Data Analyst\"],[\"Data Analyst - Reporting\"],[\"Data Analyst, Operations\"],[\"Data Analyst/Developer\"],[\"Entry-Level Data Analyst\"],[\"Junior Data Analyst - Mississauga, ON\"],[\"Data Entry/ JR Analyst -6 Month Contract\"],[\"Data Analyst - Loans\"],[\"Quality Data Analyst\"],[\"Analyst, Data and Analytics\"],[\"Commercial Data Analyst\"],[\"Data Analyst (C117)\"],[\"Analyst (Global Data and Analytics)\"],[\"Data Analyst (Contract)\"],[\"Data Analyst, Flight Pricing Optimization\"],[\"Sector Data Analyst, Data Driven Investing\"],[\"Data Administrator/Data Analyst\"],[\"Data Analyst - Marketing\"],[\"Cognitive Data Analyst\"],[\"Analyst - Data Visualization\"],[\"Senior Data Analyst - Remote\"],[\"Product Data Analyst\"],[\"Data Visualization Developer/Analyst\"],[\"Data Analyst, Trilogy (Remote) - $60,000/year USD\"],[\"Senior Data Analyst (Toronto, ON)\"],[\"Data Analyst I (entry level)\"],[\"Product Data Analyst - WTFast\"],[\"Data Analyst (SQL)\"],[\"Data Analyst (Operations)\"],[\"Data Analytics Analyst\"],[\"Data Engineer\"],[\"Data Analyst - remote!\"],[\"Data Engineer - Remote, Full-Time\"],[\"Data Analyst/Forecasting Specialist\"],[\"Data Analyst, Money\"],[\"Data Research Analyst, Trilogy (Remote) - $60,000/year USD\"],[\"Data Analyst - Remote\"],[\"Gaming Data Analyst\"],[\"Senior Analytics Engineer (Remote)\"],[\"Data Analyst I\"],[\"Future Opportunities: Data Analyst & Report Specialist (Remote)\"],[\"Data Analyst / Consultant (Fire / EMS)\"],[\"Business Systems Analyst\"],[\"Online Data Analyst\"],[\"BI Reporting Analyst\"],[\"Data Engineer (Remote)\"],[\"Senior Data Analyst (Vancouver, BC)\"],[\"Data Science Analyst (Remote)\"],[\"PowerBI Specialist\"],[\"Cybersecurity Data Analyst\"],[\"Senior Data and Reporting Analyst\"],[\"Senior BI Analyst\"],[\"Technical Support Analyst\"],[\"Data Engineer, Totogi (Remote) - $60,000/year USD\"],[\"Data Engineer/Big Data Engineer\"],[\"Data Analyst with Guidewire Experience (Remote | US | Canada)\"],[\"IT Data Analyst - SQL, Banking Finance\"],[\"Analyste de données\"],[\"Data Analyst/Oracle\"],[\"HR Data Analyst\"],[\"Data Analysts\"],[\"Market Conduct Data Analyst - 4 month Co-Op\"],[\"Sr. Market Data Analyst\"],[\"Data Entry Analyst (Risk)\"],[\"ANALYSTE BI\"],[\"Principal Data Analyst\"],[\"Quantitative Data Intern\"],[\"Data Governance Analyst\"],[\"Analyst, Data Science- FR\"],[\"BUSINESS INTELLIGENCE ANALYST\"],[\"Data Specialist\"],[\"Data Analyst – Loans/Capital Markets\"],[\"Data Analyst (contract)\"],[\"REMOTE Data Analyst (SQL, Operations)\"],[\"Data Visualization Analyst\"],[\"Marketing Data Analyst\"],[\"Data Analyst (Global Remote)\"],[\"Data analyst\"],[\"Business Intelligence Analyst\"],[\"Business Data Analyst, Finance\"],[\"Digital Analyst\"],[\"Data Analyst/Collector\"],[\"Operational Data Analyst\"],[\"Campaign/Data Analyst\"],[\"Business Intelligence Analyst (FP&A)\"],[\"Data Analyst/ $100M Valuation/ Hybrid\"],[\"Consultant/Data Analyst\"],[\"Data Analyst - Weekly Hybrid Remote/Onsite Schedule\"],[\"Data Analyst - Energy\"],[\"Group Data Analyst\"],[\"Senior Analyst, Cyber Governance (Data Analytics)\"],[\"Data Engineer with AI &ML Analytics Platforms\"],[\"Data Engineer (Azure)\"],[\"Senior Data Governance Analyst\"],[\"Data Analyst - Land\"],[\"Junior Data Analyst-Entry Level\"],[\"Researcher\"],[\"Information Governance Analyst\"],[\"Data Analyst III - Remote\"],[\"Data Analyst 2\"],[\"Data Engineer - Data, AWS ,ETL\"],[\"Entry Level Data Analyst\"],[\"Data Engineer II\"],[\"BI/Analytics Consultant\"],[\"Job Opportunity: Data Stage Developer || Remote\"],[\"Data Engineer [Remote]\"],[\"Google Cloud Platform Analytics Engineer\"],[\"Cloud Data Analyst\"],[\"Google Analytics Engineer\"],[\"WFH//Data Analyst\"],[\"Data Analytics\"],[\"Data Analyst (SQL, Teraform, Tableau) III - Remote\"],[\"Data Engineer 1\"],[\"Senior Data Analyst (PowerBI)\"],[\"Analyst, Data Science- EN\"],[\"Data Science Analyst\"],[\"Analyst, Data Operations\"],[\"Information Analyst\"],[\"Graduate Geospatial Analyst (Available 2023)\"],[\"SEO Data Analyst\"]],\"domain\":{\"x\":[0.0,0.3111111111111111],\"y\":[0.88,1.0]},\"labels\":[\"Data Analyst\",\"Data Analyst - Recent Graduate\",\"Senior Data Analyst\",\"Junior Data Analyst\",\"Senior Data Analyst, Analytics & Insights (Toronto, ON)\",\"Data Analyst - (Remote - US)\",\"Sr. Data Analyst\",\"Data Analyst (Remote)\",\"Insights Analyst\",\"Business Data Analyst\",\"Data Analyst (12 Month Contract)\",\"Data Analyst (Hybrid)\",\"Data Analyst (Python/SQL)\",\"Associate Data Analyst\",\"Senior Data Analyst, APAC Marketplace\",\"SQL Data Analyst\",\"Data Analyst - Reporting\",\"Data Analyst, Operations\",\"Data Analyst/Developer\",\"Entry-Level Data Analyst\",\"Junior Data Analyst - Mississauga, ON\",\"Data Entry/ JR Analyst -6 Month Contract\",\"Data Analyst - Loans\",\"Quality Data Analyst\",\"Analyst, Data and Analytics\",\"Commercial Data Analyst\",\"Data Analyst (C117)\",\"Analyst (Global Data and Analytics)\",\"Data Analyst (Contract)\",\"Data Analyst, Flight Pricing Optimization\",\"Sector Data Analyst, Data Driven Investing\",\"Data Administrator/Data Analyst\",\"Data Analyst - Marketing\",\"Cognitive Data Analyst\",\"Analyst - Data Visualization\",\"Senior Data Analyst - Remote\",\"Product Data Analyst\",\"Data Visualization Developer/Analyst\",\"Data Analyst, Trilogy (Remote) - $60,000/year USD\",\"Senior Data Analyst (Toronto, ON)\",\"Data Analyst I (entry level)\",\"Product Data Analyst - WTFast\",\"Data Analyst (SQL)\",\"Data Analyst (Operations)\",\"Data Analytics Analyst\",\"Data Engineer\",\"Data Analyst - remote!\",\"Data Engineer - Remote, Full-Time\",\"Data Analyst/Forecasting Specialist\",\"Data Analyst, Money\",\"Data Research Analyst, Trilogy (Remote) - $60,000/year USD\",\"Data Analyst - Remote\",\"Gaming Data Analyst\",\"Senior Analytics Engineer (Remote)\",\"Data Analyst I\",\"Future Opportunities: Data Analyst & Report Specialist (Remote)\",\"Data Analyst / Consultant (Fire / EMS)\",\"Business Systems Analyst\",\"Online Data Analyst\",\"BI Reporting Analyst\",\"Data Engineer (Remote)\",\"Senior Data Analyst (Vancouver, BC)\",\"Data Science Analyst (Remote)\",\"PowerBI Specialist\",\"Cybersecurity Data Analyst\",\"Senior Data and Reporting Analyst\",\"Senior BI Analyst\",\"Technical Support Analyst\",\"Data Engineer, Totogi (Remote) - $60,000/year USD\",\"Data Engineer/Big Data Engineer\",\"Data Analyst with Guidewire Experience (Remote | US | Canada)\",\"IT Data Analyst - SQL, Banking Finance\",\"Analyste de données\",\"Data Analyst/Oracle\",\"HR Data Analyst\",\"Data Analysts\",\"Market Conduct Data Analyst - 4 month Co-Op\",\"Sr. Market Data Analyst\",\"Data Entry Analyst (Risk)\",\"ANALYSTE BI\",\"Principal Data Analyst\",\"Quantitative Data Intern\",\"Data Governance Analyst\",\"Analyst, Data Science- FR\",\"BUSINESS INTELLIGENCE ANALYST\",\"Data Specialist\",\"Data Analyst – Loans/Capital Markets\",\"Data Analyst (contract)\",\"REMOTE Data Analyst (SQL, Operations)\",\"Data Visualization Analyst\",\"Marketing Data Analyst\",\"Data Analyst (Global Remote)\",\"Data analyst\",\"Business Intelligence Analyst\",\"Business Data Analyst, Finance\",\"Digital Analyst\",\"Data Analyst/Collector\",\"Operational Data Analyst\",\"Campaign/Data Analyst\",\"Business Intelligence Analyst (FP&A)\",\"Data Analyst/ $100M Valuation/ Hybrid\",\"Consultant/Data Analyst\",\"Data Analyst - Weekly Hybrid Remote/Onsite Schedule\",\"Data Analyst - Energy\",\"Group Data Analyst\",\"Senior Analyst, Cyber Governance (Data Analytics)\",\"Data Engineer with AI &ML Analytics Platforms\",\"Data Engineer (Azure)\",\"Senior Data Governance Analyst\",\"Data Analyst - Land\",\"Junior Data Analyst-Entry Level\",\"Researcher\",\"Information Governance Analyst\",\"Data Analyst III - Remote\",\"Data Analyst 2\",\"Data Engineer - Data, AWS ,ETL\",\"Entry Level Data Analyst\",\"Data Engineer II\",\"BI/Analytics Consultant\",\"Job Opportunity: Data Stage Developer || Remote\",\"Data Engineer [Remote]\",\"Google Cloud Platform Analytics Engineer\",\"Cloud Data Analyst\",\"Google Analytics Engineer\",\"WFH//Data Analyst\",\"Data Analytics\",\"Data Analyst (SQL, Teraform, Tableau) III - Remote\",\"Data Engineer 1\",\"Senior Data Analyst (PowerBI)\",\"Analyst, Data Science- EN\",\"Data Science Analyst\",\"Analyst, Data Operations\",\"Information Analyst\",\"Graduate Geospatial Analyst (Available 2023)\",\"SEO Data Analyst\"],\"legendgroup\":\"\",\"marker\":{\"colors\":[\"rgb(179,226,205)\",\"rgb(253,205,172)\",\"rgb(203,213,232)\",\"rgb(244,202,228)\",\"rgb(230,245,201)\",\"rgb(255,242,174)\",\"rgb(241,226,204)\",\"rgb(204,204,204)\",\"rgb(179,226,205)\",\"rgb(253,205,172)\",\"rgb(203,213,232)\",\"rgb(244,202,228)\",\"rgb(230,245,201)\",\"rgb(255,242,174)\",\"rgb(241,226,204)\",\"rgb(204,204,204)\",\"rgb(179,226,205)\",\"rgb(253,205,172)\",\"rgb(203,213,232)\",\"rgb(244,202,228)\",\"rgb(230,245,201)\",\"rgb(255,242,174)\",\"rgb(241,226,204)\",\"rgb(204,204,204)\",\"rgb(179,226,205)\",\"rgb(253,205,172)\",\"rgb(203,213,232)\",\"rgb(244,202,228)\",\"rgb(230,245,201)\",\"rgb(255,242,174)\",\"rgb(241,226,204)\",\"rgb(204,204,204)\",\"rgb(179,226,205)\",\"rgb(253,205,172)\",\"rgb(203,213,232)\",\"rgb(244,202,228)\",\"rgb(230,245,201)\",\"rgb(255,242,174)\",\"rgb(241,226,204)\",\"rgb(204,204,204)\",\"rgb(179,226,205)\",\"rgb(253,205,172)\",\"rgb(203,213,232)\",\"rgb(244,202,228)\",\"rgb(230,245,201)\",\"rgb(255,242,174)\",\"rgb(241,226,204)\",\"rgb(204,204,204)\",\"rgb(179,226,205)\",\"rgb(253,205,172)\",\"rgb(203,213,232)\",\"rgb(244,202,228)\",\"rgb(230,245,201)\",\"rgb(255,242,174)\",\"rgb(241,226,204)\",\"rgb(204,204,204)\",\"rgb(179,226,205)\",\"rgb(253,205,172)\",\"rgb(203,213,232)\",\"rgb(244,202,228)\",\"rgb(230,245,201)\",\"rgb(255,242,174)\",\"rgb(241,226,204)\",\"rgb(204,204,204)\",\"rgb(179,226,205)\",\"rgb(253,205,172)\",\"rgb(203,213,232)\",\"rgb(244,202,228)\",\"rgb(230,245,201)\",\"rgb(255,242,174)\",\"rgb(241,226,204)\",\"rgb(204,204,204)\",\"rgb(179,226,205)\",\"rgb(253,205,172)\",\"rgb(203,213,232)\",\"rgb(244,202,228)\",\"rgb(230,245,201)\",\"rgb(255,242,174)\",\"rgb(241,226,204)\",\"rgb(204,204,204)\",\"rgb(179,226,205)\",\"rgb(253,205,172)\",\"rgb(203,213,232)\",\"rgb(244,202,228)\",\"rgb(230,245,201)\",\"rgb(255,242,174)\",\"rgb(241,226,204)\",\"rgb(204,204,204)\",\"rgb(179,226,205)\",\"rgb(253,205,172)\",\"rgb(203,213,232)\",\"rgb(244,202,228)\",\"rgb(230,245,201)\",\"rgb(255,242,174)\",\"rgb(241,226,204)\",\"rgb(204,204,204)\",\"rgb(179,226,205)\",\"rgb(253,205,172)\",\"rgb(203,213,232)\",\"rgb(244,202,228)\",\"rgb(230,245,201)\",\"rgb(255,242,174)\",\"rgb(241,226,204)\",\"rgb(204,204,204)\",\"rgb(179,226,205)\",\"rgb(253,205,172)\",\"rgb(203,213,232)\",\"rgb(244,202,228)\",\"rgb(230,245,201)\",\"rgb(255,242,174)\",\"rgb(241,226,204)\",\"rgb(204,204,204)\",\"rgb(179,226,205)\",\"rgb(253,205,172)\",\"rgb(203,213,232)\",\"rgb(244,202,228)\",\"rgb(230,245,201)\",\"rgb(255,242,174)\",\"rgb(241,226,204)\",\"rgb(204,204,204)\",\"rgb(179,226,205)\",\"rgb(253,205,172)\",\"rgb(203,213,232)\",\"rgb(244,202,228)\",\"rgb(230,245,201)\",\"rgb(255,242,174)\",\"rgb(241,226,204)\",\"rgb(204,204,204)\",\"rgb(179,226,205)\",\"rgb(253,205,172)\",\"rgb(203,213,232)\",\"rgb(244,202,228)\",\"rgb(230,245,201)\",\"rgb(255,242,174)\",\"rgb(241,226,204)\"]},\"name\":\"\",\"showlegend\":true,\"textposition\":\"inside\",\"values\":[3373,183,183,139,68,62,61,40,38,38,38,38,38,37,37,37,37,37,37,37,37,37,37,37,36,36,36,36,36,36,36,36,35,35,35,34,34,34,34,34,34,34,25,22,21,16,10,8,7,7,6,6,5,4,4,4,4,4,4,4,3,3,3,3,3,3,3,3,3,3,3,2,2,2,2,2,2,2,2,2,2,2,2,2,2,2,2,2,2,2,2,2,2,2,1,1,1,1,1,1,1,1,1,1,1,1,1,1,1,1,1,1,1,1,1,1,1,1,1,1,1,1,1,1,1,1,1,1,1,1,1,1,1,1,1],\"type\":\"pie\"},{\"domain\":{\"x\":[0.34444444444444444,0.6555555555555557],\"y\":[0.88,1.0]},\"labels\":[\"Software Development, Technology, Information and Internet, and Financial Services\",\"IT Services and IT Consulting\",\"Financial Services\",\"Staffing and Recruiting\",\"Technology, Information and Internet\",\"Advertising Services\",\"IT Services and IT Consulting and Software Development\",\"Retail Apparel and Fashion\",\"Business Consulting and Services\",\"Animation and Post-production\",\"Software Development\",\"Medical Equipment Manufacturing, Biotechnology Research, and Pharmaceutical Manufacturing\",\"Hospitals and Health Care\",\"Government Administration\",\"IT Services and IT Consulting, Advertising Services, and Software Development\",\"IT Services and IT Consulting, Software Development, and Hospitals and Health Care\",\"Retail\",\"Advertising Services and Technology, Information and Internet\",\"Retail Gasoline\",\"Savings Institutions\",\"Retail Apparel and Fashion, Manufacturing, and Retail\",\"Renewable Energy Semiconductor Manufacturing\",\"Telecommunications\",\"IT Services and IT Consulting and Motor Vehicle Manufacturing\",\"Higher Education\",\"Market Research\",\"IT Services and IT Consulting and Hospitals and Health Care\",\"Security and Investigations\",\"IT Services and IT Consulting, Banking, and Financial Services\",\"Banking\",\"Advertising Services and Online Audio and Video Media\",\"Transportation, Logistics, Supply Chain and Storage\",\"Business Consulting and Services and Pharmaceutical Manufacturing\",\"IT Services and IT Consulting, Software Development, and Computer Games\",\"Insurance and Investment Management\",\"Defense and Space Manufacturing\",\"Biotechnology Research\",\"IT Services and IT Consulting, Medical Equipment Manufacturing, and Pharmaceutical Manufacturing\",\"Insurance\",\"Environmental Services\",\"Real Estate\",\"IT Services and IT Consulting, Software Development, and Wireless Services\",\"Entertainment Providers and Hospitals and Health Care\",\"Appliances, Electrical, and Electronics Manufacturing and Automation Machinery Manufacturing\",\"Banking and Financial Services\",\"Appliances, Electrical, and Electronics Manufacturing, Nanotechnology Research, and Semiconductor Manufacturing\",\"Investment Management\",\"Construction\",\"Education Administration Programs\",\"Government Relations Services, Computer and Network Security, and Utilities\",\"Motor Vehicle Manufacturing\",\"Non-profit Organizations and Research Services\",\"Facilities Services\",\"IT Services and IT Consulting, Software Development, and Insurance\",\"Utilities\",\"IT Services and IT Consulting, Appliances, Electrical, and Electronics Manufacturing, and E-Learning Providers\",\"Computer and Network Security\",\"IT Services and IT Consulting and Financial Services\",\"IT Services and IT Consulting and Musicians\",\"IT Services and IT Consulting, Banking, and Investment Banking\",\"Aviation and Aerospace Component Manufacturing, Staffing and Recruiting, and Airlines and Aviation\",\"Oil and Gas\",\"Food and Beverage Services and Financial Services\",\"IT Services and IT Consulting and Business Consulting and Services\",\"IT Services and IT Consulting, Software Development, and Truck Transportation\",\"Venture Capital and Private Equity Principals\",\"Artists and Writers\",\"IT Services and IT Consulting, Advertising Services, and Public Relations and Communications Services\",\"IT Services and IT Consulting, Information Services, and Food and Beverage Manufacturing\",\"Manufacturing\",\"Information Services\",\"Information Services, Government Relations Services, and Government Administration\",\"IT Services and IT Consulting, Retail Apparel and Fashion, and Retail\",\"IT Services and IT Consulting, Advertising Services, and Technology, Information and Internet\",\"Insurance, Financial Services, and Accounting\",\"IT Services and IT Consulting, Software Development, and Human Resources Services\",\"Entertainment Providers\"],\"legendgroup\":\"\",\"name\":\"\",\"showlegend\":true,\"textposition\":\"inside\",\"texttemplate\":\"%{percent}\",\"values\":[978,581,249,247,202,174,144,125,120,110,98,86,82,76,76,74,73,72,72,72,72,72,71,71,68,68,68,67,66,66,66,66,64,61,55,50,48,46,43,42,38,32,28,27,26,24,20,12,12,8,6,4,4,4,4,4,4,4,2,2,2,2,2,2,2,2,2,2,2,2,2,2,2,2,2,2,1],\"type\":\"pie\"},{\"domain\":{\"x\":[0.6888888888888889,1.0],\"y\":[0.88,1.0]},\"labels\":[\"Information Technology\",\"Information Technology and Analyst\",\"Analyst\",\"Finance\",\"Information Technology and General Business\",\"Information Technology, Analyst, and Consulting\",\"Information Technology, Analyst, and Other\",\"Analyst and Information Technology\",\"Analyst, Information Technology, and Research\",\"Information Technology, Analyst, and Engineering\",\"Advertising, Production, and Design\",\"Project Management, Analyst, and Research\",\"Strategy/Planning, Advertising, and Marketing\",\"Advertising, Business Development, and Information Technology\",\"Sales and Analyst\",\"Analyst, Information Technology, and Engineering\",\"Information Technology and Engineering\",\"Strategy/Planning, Analyst, and Information Technology\",\"Finance and Information Technology\",\"Sales\",\"Analyst, Information Technology, and Project Management\",\"Consulting, General Business, and Strategy/Planning\",\"Information Technology and Finance\",\"Engineering\",\"Information Technology, Analyst, and Education\",\"Analyst, Information Technology, and Marketing\",\"Consulting and Analyst\",\"Marketing, Public Relations, and Writing/Editing\",\"Information Technology and Marketing\",\"Information Technology, Analyst, and Marketing\",\"Engineering and Information Technology\",\"Analyst and Strategy/Planning\",\"Analyst and Marketing\",\"Health Care Provider and Information Technology\",\"Information Technology, Public Relations, and Analyst\",\"Human Resources, Sales, and Information Technology\",\"Information Technology, Consulting, and Analyst\",\"Education\",\"Marketing, Advertising, and Analyst\",\"Information Technology, Analyst, and Business Development\",\"Consulting, Information Technology, and Project Management\",\"Engineering, Information Technology, and Analyst\",\"Administrative and Research\",\"Information Technology and Administrative\",\"Project Management and Analyst\",\"Analyst, Finance, and General Business\",\"Other\",\"Analyst, Finance, and Strategy/Planning\",\"Administrative and Customer Service\",\"Analyst, Marketing, and Information Technology\",\"Information Technology, Marketing, and Analyst\",\"Research, Analyst, and Information Technology\",\"Analyst and Finance\"],\"legendgroup\":\"\",\"name\":\"\",\"showlegend\":true,\"textposition\":\"inside\",\"texttemplate\":\"%{percent}\",\"values\":[3197,347,230,76,76,76,74,72,72,72,71,68,68,67,67,66,65,61,52,48,44,41,38,36,33,27,24,8,6,6,4,4,4,4,2,2,2,2,2,2,2,2,2,2,2,2,2,2,2,2,2,2,1],\"type\":\"pie\"},{\"hovertemplate\":\"<b>Date:</b> %{x}<br><b>Number of Jobs:</b> %{y}<br>\",\"legendgroup\":\"posted_date\",\"line\":{\"color\":\"#1F77B4\",\"dash\":\"solid\"},\"marker\":{\"symbol\":\"circle\"},\"mode\":\"lines+markers\",\"name\":\"posted_date\",\"orientation\":\"v\",\"showlegend\":true,\"x\":[\"2022-05-13\",\"2022-07-18\",\"2022-08-12\",\"2022-09-18\",\"2022-09-21\",\"2022-09-28\",\"2022-09-29\",\"2022-10-02\",\"2022-10-04\",\"2022-10-05\",\"2022-10-07\",\"2022-10-10\",\"2022-10-12\",\"2022-10-13\",\"2022-10-14\",\"2022-10-16\",\"2022-10-17\",\"2022-10-18\",\"2022-10-19\",\"2022-10-20\",\"2022-10-21\",\"2022-10-23\",\"2022-10-24\",\"2022-10-25\",\"2022-10-26\",\"2022-10-27\",\"2022-10-28\",\"2022-10-29\",\"2022-10-31\",\"2022-11-01\",\"2022-11-02\",\"2022-11-03\",\"2022-11-04\",\"2022-11-05\",\"2022-11-07\",\"2022-11-08\",\"2022-11-09\",\"2022-11-10\",\"2022-11-11\",\"2022-11-13\",\"2022-11-14\",\"2022-11-15\",\"2022-11-16\",\"2022-11-17\",\"2022-11-18\",\"2022-11-19\",\"2022-11-20\",\"2022-11-21\",\"2022-11-22\",\"2022-11-23\"],\"xaxis\":\"x\",\"y\":[1,2,1,3,2,34,2,35,1,12,2,1,75,2,2,38,1,31,71,6,35,3,93,280,168,191,109,1,21,84,149,106,121,71,82,256,94,88,103,73,59,398,350,595,306,83,113,499,538,227],\"yaxis\":\"y\",\"type\":\"scatter\"},{\"alignmentgroup\":\"True\",\"bingroup\":\"x\",\"legendgroup\":\"onsite\",\"marker\":{\"color\":\"#1F77B4\",\"pattern\":{\"shape\":\"\"}},\"name\":\"onsite\",\"offsetgroup\":\"onsite\",\"orientation\":\"v\",\"showlegend\":true,\"x\":[\"onsite\",\"onsite\",\"onsite\",\"onsite\",\"onsite\",\"onsite\",\"onsite\",\"onsite\",\"onsite\",\"onsite\",\"onsite\",\"onsite\",\"onsite\",\"onsite\",\"onsite\",\"onsite\",\"onsite\",\"onsite\",\"onsite\",\"onsite\",\"onsite\",\"onsite\",\"onsite\",\"onsite\",\"onsite\",\"onsite\",\"onsite\",\"onsite\",\"onsite\",\"onsite\",\"onsite\",\"onsite\",\"onsite\",\"onsite\",\"onsite\",\"onsite\",\"onsite\",\"onsite\",\"onsite\",\"onsite\",\"onsite\",\"onsite\",\"onsite\",\"onsite\",\"onsite\",\"onsite\",\"onsite\",\"onsite\",\"onsite\",\"onsite\",\"onsite\",\"onsite\",\"onsite\",\"onsite\",\"onsite\",\"onsite\",\"onsite\",\"onsite\",\"onsite\",\"onsite\",\"onsite\",\"onsite\",\"onsite\",\"onsite\",\"onsite\",\"onsite\",\"onsite\",\"onsite\",\"onsite\",\"onsite\",\"onsite\",\"onsite\",\"onsite\",\"onsite\",\"onsite\",\"onsite\",\"onsite\",\"onsite\",\"onsite\",\"onsite\",\"onsite\",\"onsite\",\"onsite\",\"onsite\",\"onsite\",\"onsite\",\"onsite\",\"onsite\",\"onsite\",\"onsite\",\"onsite\",\"onsite\",\"onsite\",\"onsite\",\"onsite\",\"onsite\",\"onsite\",\"onsite\",\"onsite\",\"onsite\",\"onsite\",\"onsite\",\"onsite\",\"onsite\",\"onsite\",\"onsite\",\"onsite\",\"onsite\",\"onsite\",\"onsite\",\"onsite\",\"onsite\",\"onsite\",\"onsite\",\"onsite\",\"onsite\",\"onsite\",\"onsite\",\"onsite\",\"onsite\",\"onsite\",\"onsite\",\"onsite\",\"onsite\",\"onsite\",\"onsite\",\"onsite\",\"onsite\",\"onsite\",\"onsite\",\"onsite\",\"onsite\",\"onsite\",\"onsite\",\"onsite\",\"onsite\",\"onsite\",\"onsite\",\"onsite\",\"onsite\",\"onsite\",\"onsite\",\"onsite\",\"onsite\",\"onsite\",\"onsite\",\"onsite\",\"onsite\",\"onsite\",\"onsite\",\"onsite\",\"onsite\",\"onsite\",\"onsite\",\"onsite\",\"onsite\",\"onsite\",\"onsite\",\"onsite\",\"onsite\",\"onsite\",\"onsite\",\"onsite\",\"onsite\",\"onsite\",\"onsite\",\"onsite\",\"onsite\",\"onsite\",\"onsite\",\"onsite\",\"onsite\",\"onsite\",\"onsite\",\"onsite\",\"onsite\",\"onsite\",\"onsite\",\"onsite\",\"onsite\",\"onsite\",\"onsite\",\"onsite\",\"onsite\",\"onsite\",\"onsite\",\"onsite\",\"onsite\",\"onsite\",\"onsite\",\"onsite\",\"onsite\",\"onsite\",\"onsite\",\"onsite\",\"onsite\",\"onsite\",\"onsite\",\"onsite\",\"onsite\",\"onsite\",\"onsite\",\"onsite\",\"onsite\",\"onsite\",\"onsite\",\"onsite\",\"onsite\",\"onsite\",\"onsite\",\"onsite\",\"onsite\",\"onsite\",\"onsite\",\"onsite\",\"onsite\",\"onsite\",\"onsite\",\"onsite\",\"onsite\",\"onsite\",\"onsite\",\"onsite\",\"onsite\",\"onsite\",\"onsite\",\"onsite\",\"onsite\",\"onsite\",\"onsite\",\"onsite\",\"onsite\",\"onsite\",\"onsite\",\"onsite\",\"onsite\",\"onsite\",\"onsite\",\"onsite\",\"onsite\",\"onsite\",\"onsite\",\"onsite\",\"onsite\",\"onsite\",\"onsite\",\"onsite\",\"onsite\",\"onsite\",\"onsite\",\"onsite\",\"onsite\",\"onsite\",\"onsite\",\"onsite\",\"onsite\",\"onsite\",\"onsite\",\"onsite\",\"onsite\",\"onsite\",\"onsite\",\"onsite\",\"onsite\",\"onsite\",\"onsite\",\"onsite\",\"onsite\",\"onsite\",\"onsite\",\"onsite\",\"onsite\",\"onsite\",\"onsite\",\"onsite\",\"onsite\",\"onsite\",\"onsite\",\"onsite\",\"onsite\",\"onsite\",\"onsite\",\"onsite\",\"onsite\",\"onsite\",\"onsite\",\"onsite\",\"onsite\",\"onsite\",\"onsite\",\"onsite\",\"onsite\",\"onsite\",\"onsite\",\"onsite\",\"onsite\",\"onsite\",\"onsite\",\"onsite\",\"onsite\",\"onsite\",\"onsite\",\"onsite\",\"onsite\",\"onsite\",\"onsite\",\"onsite\",\"onsite\",\"onsite\",\"onsite\",\"onsite\",\"onsite\",\"onsite\",\"onsite\",\"onsite\",\"onsite\",\"onsite\",\"onsite\",\"onsite\",\"onsite\",\"onsite\",\"onsite\",\"onsite\",\"onsite\",\"onsite\",\"onsite\",\"onsite\",\"onsite\",\"onsite\",\"onsite\",\"onsite\",\"onsite\",\"onsite\",\"onsite\",\"onsite\",\"onsite\",\"onsite\",\"onsite\",\"onsite\",\"onsite\",\"onsite\",\"onsite\",\"onsite\",\"onsite\",\"onsite\",\"onsite\",\"onsite\",\"onsite\",\"onsite\",\"onsite\",\"onsite\",\"onsite\",\"onsite\",\"onsite\",\"onsite\",\"onsite\",\"onsite\",\"onsite\",\"onsite\",\"onsite\",\"onsite\",\"onsite\",\"onsite\",\"onsite\",\"onsite\",\"onsite\",\"onsite\",\"onsite\",\"onsite\",\"onsite\",\"onsite\",\"onsite\",\"onsite\",\"onsite\",\"onsite\",\"onsite\",\"onsite\",\"onsite\",\"onsite\",\"onsite\",\"onsite\",\"onsite\",\"onsite\",\"onsite\",\"onsite\",\"onsite\",\"onsite\",\"onsite\",\"onsite\",\"onsite\",\"onsite\",\"onsite\",\"onsite\",\"onsite\",\"onsite\",\"onsite\",\"onsite\",\"onsite\",\"onsite\",\"onsite\",\"onsite\",\"onsite\",\"onsite\",\"onsite\",\"onsite\",\"onsite\",\"onsite\",\"onsite\",\"onsite\",\"onsite\",\"onsite\",\"onsite\",\"onsite\",\"onsite\",\"onsite\",\"onsite\",\"onsite\",\"onsite\",\"onsite\",\"onsite\",\"onsite\",\"onsite\",\"onsite\",\"onsite\",\"onsite\",\"onsite\",\"onsite\",\"onsite\",\"onsite\",\"onsite\",\"onsite\",\"onsite\",\"onsite\",\"onsite\",\"onsite\",\"onsite\",\"onsite\",\"onsite\",\"onsite\",\"onsite\",\"onsite\",\"onsite\",\"onsite\",\"onsite\",\"onsite\",\"onsite\",\"onsite\",\"onsite\",\"onsite\",\"onsite\",\"onsite\",\"onsite\",\"onsite\",\"onsite\",\"onsite\",\"onsite\",\"onsite\",\"onsite\",\"onsite\",\"onsite\",\"onsite\",\"onsite\",\"onsite\",\"onsite\",\"onsite\",\"onsite\",\"onsite\",\"onsite\",\"onsite\",\"onsite\",\"onsite\",\"onsite\",\"onsite\",\"onsite\",\"onsite\",\"onsite\",\"onsite\",\"onsite\",\"onsite\",\"onsite\",\"onsite\",\"onsite\",\"onsite\",\"onsite\",\"onsite\",\"onsite\",\"onsite\",\"onsite\",\"onsite\",\"onsite\",\"onsite\",\"onsite\",\"onsite\",\"onsite\",\"onsite\",\"onsite\",\"onsite\",\"onsite\",\"onsite\",\"onsite\",\"onsite\",\"onsite\",\"onsite\",\"onsite\",\"onsite\",\"onsite\",\"onsite\",\"onsite\",\"onsite\",\"onsite\",\"onsite\",\"onsite\",\"onsite\",\"onsite\",\"onsite\",\"onsite\",\"onsite\",\"onsite\",\"onsite\",\"onsite\",\"onsite\",\"onsite\",\"onsite\",\"onsite\",\"onsite\",\"onsite\",\"onsite\",\"onsite\",\"onsite\",\"onsite\",\"onsite\",\"onsite\",\"onsite\",\"onsite\",\"onsite\",\"onsite\",\"onsite\",\"onsite\",\"onsite\",\"onsite\",\"onsite\",\"onsite\",\"onsite\",\"onsite\",\"onsite\",\"onsite\",\"onsite\",\"onsite\",\"onsite\",\"onsite\",\"onsite\",\"onsite\",\"onsite\",\"onsite\",\"onsite\",\"onsite\",\"onsite\",\"onsite\",\"onsite\",\"onsite\",\"onsite\",\"onsite\",\"onsite\",\"onsite\",\"onsite\",\"onsite\",\"onsite\",\"onsite\",\"onsite\",\"onsite\",\"onsite\",\"onsite\",\"onsite\",\"onsite\",\"onsite\",\"onsite\",\"onsite\",\"onsite\",\"onsite\",\"onsite\",\"onsite\",\"onsite\",\"onsite\",\"onsite\",\"onsite\",\"onsite\",\"onsite\",\"onsite\",\"onsite\",\"onsite\",\"onsite\",\"onsite\",\"onsite\",\"onsite\",\"onsite\",\"onsite\",\"onsite\",\"onsite\",\"onsite\",\"onsite\",\"onsite\",\"onsite\",\"onsite\",\"onsite\",\"onsite\",\"onsite\",\"onsite\",\"onsite\",\"onsite\",\"onsite\",\"onsite\",\"onsite\",\"onsite\",\"onsite\",\"onsite\",\"onsite\",\"onsite\",\"onsite\",\"onsite\",\"onsite\",\"onsite\",\"onsite\",\"onsite\",\"onsite\",\"onsite\",\"onsite\",\"onsite\",\"onsite\",\"onsite\",\"onsite\",\"onsite\",\"onsite\",\"onsite\",\"onsite\",\"onsite\",\"onsite\",\"onsite\",\"onsite\",\"onsite\",\"onsite\",\"onsite\",\"onsite\",\"onsite\",\"onsite\",\"onsite\",\"onsite\",\"onsite\",\"onsite\",\"onsite\",\"onsite\",\"onsite\",\"onsite\",\"onsite\",\"onsite\",\"onsite\",\"onsite\",\"onsite\",\"onsite\",\"onsite\",\"onsite\",\"onsite\",\"onsite\",\"onsite\",\"onsite\",\"onsite\",\"onsite\",\"onsite\",\"onsite\",\"onsite\",\"onsite\",\"onsite\",\"onsite\",\"onsite\",\"onsite\",\"onsite\",\"onsite\",\"onsite\",\"onsite\",\"onsite\",\"onsite\",\"onsite\",\"onsite\",\"onsite\",\"onsite\",\"onsite\",\"onsite\",\"onsite\",\"onsite\",\"onsite\",\"onsite\",\"onsite\",\"onsite\",\"onsite\",\"onsite\",\"onsite\",\"onsite\",\"onsite\",\"onsite\",\"onsite\",\"onsite\",\"onsite\",\"onsite\",\"onsite\",\"onsite\",\"onsite\",\"onsite\",\"onsite\",\"onsite\",\"onsite\",\"onsite\",\"onsite\",\"onsite\",\"onsite\",\"onsite\",\"onsite\",\"onsite\",\"onsite\",\"onsite\",\"onsite\",\"onsite\",\"onsite\",\"onsite\",\"onsite\",\"onsite\",\"onsite\",\"onsite\",\"onsite\",\"onsite\",\"onsite\",\"onsite\",\"onsite\",\"onsite\",\"onsite\",\"onsite\",\"onsite\",\"onsite\",\"onsite\",\"onsite\",\"onsite\",\"onsite\",\"onsite\",\"onsite\",\"onsite\",\"onsite\",\"onsite\",\"onsite\",\"onsite\",\"onsite\",\"onsite\",\"onsite\",\"onsite\",\"onsite\",\"onsite\",\"onsite\",\"onsite\",\"onsite\",\"onsite\",\"onsite\",\"onsite\",\"onsite\",\"onsite\",\"onsite\",\"onsite\",\"onsite\",\"onsite\",\"onsite\",\"onsite\",\"onsite\",\"onsite\",\"onsite\",\"onsite\",\"onsite\",\"onsite\",\"onsite\",\"onsite\",\"onsite\",\"onsite\",\"onsite\",\"onsite\",\"onsite\",\"onsite\",\"onsite\",\"onsite\",\"onsite\",\"onsite\",\"onsite\",\"onsite\",\"onsite\",\"onsite\",\"onsite\",\"onsite\",\"onsite\",\"onsite\",\"onsite\",\"onsite\",\"onsite\",\"onsite\",\"onsite\",\"onsite\",\"onsite\",\"onsite\",\"onsite\",\"onsite\",\"onsite\",\"onsite\",\"onsite\",\"onsite\",\"onsite\",\"onsite\",\"onsite\",\"onsite\",\"onsite\",\"onsite\",\"onsite\",\"onsite\",\"onsite\",\"onsite\",\"onsite\",\"onsite\",\"onsite\",\"onsite\",\"onsite\",\"onsite\",\"onsite\",\"onsite\",\"onsite\",\"onsite\",\"onsite\",\"onsite\",\"onsite\",\"onsite\",\"onsite\",\"onsite\",\"onsite\",\"onsite\",\"onsite\",\"onsite\",\"onsite\",\"onsite\",\"onsite\",\"onsite\",\"onsite\",\"onsite\",\"onsite\",\"onsite\",\"onsite\",\"onsite\",\"onsite\",\"onsite\",\"onsite\",\"onsite\",\"onsite\",\"onsite\",\"onsite\",\"onsite\",\"onsite\",\"onsite\",\"onsite\",\"onsite\",\"onsite\",\"onsite\",\"onsite\",\"onsite\",\"onsite\",\"onsite\",\"onsite\",\"onsite\",\"onsite\",\"onsite\",\"onsite\",\"onsite\",\"onsite\",\"onsite\",\"onsite\",\"onsite\",\"onsite\",\"onsite\",\"onsite\",\"onsite\",\"onsite\",\"onsite\",\"onsite\",\"onsite\",\"onsite\",\"onsite\",\"onsite\",\"onsite\",\"onsite\",\"onsite\",\"onsite\",\"onsite\",\"onsite\",\"onsite\",\"onsite\",\"onsite\",\"onsite\",\"onsite\",\"onsite\",\"onsite\",\"onsite\",\"onsite\",\"onsite\",\"onsite\",\"onsite\",\"onsite\",\"onsite\",\"onsite\",\"onsite\",\"onsite\",\"onsite\",\"onsite\",\"onsite\",\"onsite\",\"onsite\",\"onsite\",\"onsite\",\"onsite\",\"onsite\",\"onsite\",\"onsite\",\"onsite\",\"onsite\",\"onsite\",\"onsite\",\"onsite\",\"onsite\",\"onsite\",\"onsite\",\"onsite\",\"onsite\",\"onsite\",\"onsite\",\"onsite\",\"onsite\",\"onsite\",\"onsite\",\"onsite\",\"onsite\",\"onsite\",\"onsite\",\"onsite\",\"onsite\",\"onsite\",\"onsite\",\"onsite\",\"onsite\",\"onsite\",\"onsite\",\"onsite\",\"onsite\",\"onsite\",\"onsite\",\"onsite\",\"onsite\",\"onsite\",\"onsite\",\"onsite\",\"onsite\",\"onsite\",\"onsite\",\"onsite\",\"onsite\",\"onsite\",\"onsite\",\"onsite\",\"onsite\",\"onsite\",\"onsite\",\"onsite\",\"onsite\",\"onsite\",\"onsite\",\"onsite\",\"onsite\",\"onsite\",\"onsite\",\"onsite\",\"onsite\",\"onsite\",\"onsite\",\"onsite\",\"onsite\",\"onsite\",\"onsite\",\"onsite\",\"onsite\",\"onsite\",\"onsite\",\"onsite\",\"onsite\",\"onsite\",\"onsite\",\"onsite\",\"onsite\",\"onsite\",\"onsite\",\"onsite\",\"onsite\",\"onsite\",\"onsite\",\"onsite\",\"onsite\",\"onsite\",\"onsite\",\"onsite\",\"onsite\",\"onsite\",\"onsite\",\"onsite\",\"onsite\",\"onsite\",\"onsite\",\"onsite\",\"onsite\",\"onsite\",\"onsite\",\"onsite\",\"onsite\",\"onsite\",\"onsite\",\"onsite\",\"onsite\",\"onsite\",\"onsite\",\"onsite\",\"onsite\",\"onsite\",\"onsite\",\"onsite\",\"onsite\",\"onsite\",\"onsite\",\"onsite\",\"onsite\",\"onsite\",\"onsite\",\"onsite\",\"onsite\",\"onsite\",\"onsite\",\"onsite\",\"onsite\",\"onsite\",\"onsite\",\"onsite\",\"onsite\",\"onsite\",\"onsite\",\"onsite\",\"onsite\",\"onsite\",\"onsite\",\"onsite\",\"onsite\",\"onsite\",\"onsite\",\"onsite\",\"onsite\",\"onsite\",\"onsite\",\"onsite\",\"onsite\",\"onsite\",\"onsite\",\"onsite\",\"onsite\",\"onsite\",\"onsite\",\"onsite\",\"onsite\",\"onsite\",\"onsite\",\"onsite\",\"onsite\",\"onsite\",\"onsite\",\"onsite\",\"onsite\",\"onsite\",\"onsite\",\"onsite\",\"onsite\",\"onsite\",\"onsite\",\"onsite\",\"onsite\",\"onsite\",\"onsite\",\"onsite\",\"onsite\",\"onsite\",\"onsite\",\"onsite\",\"onsite\",\"onsite\",\"onsite\",\"onsite\",\"onsite\",\"onsite\",\"onsite\",\"onsite\",\"onsite\",\"onsite\",\"onsite\",\"onsite\",\"onsite\",\"onsite\",\"onsite\",\"onsite\",\"onsite\",\"onsite\",\"onsite\",\"onsite\",\"onsite\",\"onsite\",\"onsite\",\"onsite\",\"onsite\",\"onsite\",\"onsite\",\"onsite\",\"onsite\",\"onsite\",\"onsite\",\"onsite\",\"onsite\",\"onsite\",\"onsite\",\"onsite\",\"onsite\",\"onsite\",\"onsite\",\"onsite\",\"onsite\",\"onsite\",\"onsite\",\"onsite\",\"onsite\",\"onsite\",\"onsite\",\"onsite\",\"onsite\",\"onsite\",\"onsite\",\"onsite\",\"onsite\",\"onsite\",\"onsite\",\"onsite\",\"onsite\",\"onsite\",\"onsite\",\"onsite\",\"onsite\",\"onsite\",\"onsite\",\"onsite\",\"onsite\",\"onsite\",\"onsite\",\"onsite\",\"onsite\",\"onsite\",\"onsite\",\"onsite\",\"onsite\",\"onsite\",\"onsite\",\"onsite\",\"onsite\",\"onsite\",\"onsite\",\"onsite\",\"onsite\",\"onsite\",\"onsite\",\"onsite\",\"onsite\",\"onsite\",\"onsite\",\"onsite\",\"onsite\",\"onsite\",\"onsite\",\"onsite\",\"onsite\",\"onsite\",\"onsite\",\"onsite\",\"onsite\",\"onsite\",\"onsite\",\"onsite\",\"onsite\",\"onsite\",\"onsite\",\"onsite\",\"onsite\",\"onsite\",\"onsite\",\"onsite\",\"onsite\",\"onsite\",\"onsite\",\"onsite\",\"onsite\",\"onsite\",\"onsite\",\"onsite\",\"onsite\",\"onsite\",\"onsite\",\"onsite\",\"onsite\",\"onsite\",\"onsite\",\"onsite\",\"onsite\",\"onsite\",\"onsite\",\"onsite\",\"onsite\",\"onsite\",\"onsite\",\"onsite\",\"onsite\",\"onsite\",\"onsite\",\"onsite\",\"onsite\",\"onsite\",\"onsite\",\"onsite\",\"onsite\",\"onsite\",\"onsite\",\"onsite\",\"onsite\",\"onsite\",\"onsite\",\"onsite\",\"onsite\",\"onsite\",\"onsite\",\"onsite\",\"onsite\",\"onsite\",\"onsite\",\"onsite\",\"onsite\",\"onsite\",\"onsite\",\"onsite\",\"onsite\",\"onsite\",\"onsite\",\"onsite\",\"onsite\",\"onsite\",\"onsite\",\"onsite\",\"onsite\",\"onsite\",\"onsite\",\"onsite\",\"onsite\",\"onsite\",\"onsite\",\"onsite\",\"onsite\",\"onsite\",\"onsite\",\"onsite\",\"onsite\",\"onsite\",\"onsite\",\"onsite\",\"onsite\",\"onsite\",\"onsite\",\"onsite\",\"onsite\",\"onsite\",\"onsite\",\"onsite\",\"onsite\",\"onsite\",\"onsite\",\"onsite\",\"onsite\",\"onsite\",\"onsite\",\"onsite\",\"onsite\",\"onsite\",\"onsite\",\"onsite\",\"onsite\",\"onsite\",\"onsite\",\"onsite\",\"onsite\",\"onsite\",\"onsite\",\"onsite\",\"onsite\",\"onsite\",\"onsite\",\"onsite\",\"onsite\",\"onsite\",\"onsite\",\"onsite\",\"onsite\",\"onsite\",\"onsite\",\"onsite\",\"onsite\",\"onsite\",\"onsite\",\"onsite\",\"onsite\",\"onsite\",\"onsite\",\"onsite\",\"onsite\",\"onsite\",\"onsite\",\"onsite\",\"onsite\",\"onsite\",\"onsite\",\"onsite\",\"onsite\",\"onsite\",\"onsite\",\"onsite\",\"onsite\",\"onsite\",\"onsite\",\"onsite\",\"onsite\",\"onsite\",\"onsite\",\"onsite\",\"onsite\",\"onsite\",\"onsite\",\"onsite\",\"onsite\",\"onsite\",\"onsite\",\"onsite\",\"onsite\",\"onsite\",\"onsite\",\"onsite\",\"onsite\",\"onsite\",\"onsite\",\"onsite\",\"onsite\",\"onsite\",\"onsite\",\"onsite\",\"onsite\",\"onsite\",\"onsite\",\"onsite\",\"onsite\",\"onsite\",\"onsite\",\"onsite\",\"onsite\",\"onsite\",\"onsite\",\"onsite\",\"onsite\",\"onsite\",\"onsite\",\"onsite\",\"onsite\",\"onsite\",\"onsite\",\"onsite\",\"onsite\",\"onsite\",\"onsite\",\"onsite\",\"onsite\",\"onsite\",\"onsite\",\"onsite\",\"onsite\",\"onsite\",\"onsite\",\"onsite\",\"onsite\",\"onsite\",\"onsite\",\"onsite\",\"onsite\",\"onsite\",\"onsite\",\"onsite\",\"onsite\",\"onsite\",\"onsite\",\"onsite\",\"onsite\",\"onsite\",\"onsite\",\"onsite\",\"onsite\",\"onsite\",\"onsite\",\"onsite\",\"onsite\",\"onsite\",\"onsite\",\"onsite\",\"onsite\",\"onsite\",\"onsite\",\"onsite\",\"onsite\",\"onsite\",\"onsite\",\"onsite\",\"onsite\",\"onsite\",\"onsite\",\"onsite\",\"onsite\",\"onsite\",\"onsite\",\"onsite\",\"onsite\",\"onsite\",\"onsite\",\"onsite\",\"onsite\",\"onsite\",\"onsite\",\"onsite\",\"onsite\",\"onsite\",\"onsite\",\"onsite\",\"onsite\",\"onsite\",\"onsite\",\"onsite\",\"onsite\",\"onsite\",\"onsite\",\"onsite\",\"onsite\",\"onsite\",\"onsite\",\"onsite\",\"onsite\",\"onsite\",\"onsite\",\"onsite\",\"onsite\",\"onsite\",\"onsite\",\"onsite\",\"onsite\",\"onsite\",\"onsite\",\"onsite\",\"onsite\",\"onsite\",\"onsite\",\"onsite\",\"onsite\",\"onsite\",\"onsite\",\"onsite\",\"onsite\",\"onsite\",\"onsite\",\"onsite\",\"onsite\",\"onsite\",\"onsite\",\"onsite\",\"onsite\",\"onsite\",\"onsite\",\"onsite\",\"onsite\",\"onsite\",\"onsite\",\"onsite\",\"onsite\",\"onsite\",\"onsite\",\"onsite\",\"onsite\",\"onsite\",\"onsite\",\"onsite\",\"onsite\",\"onsite\",\"onsite\",\"onsite\",\"onsite\",\"onsite\",\"onsite\",\"onsite\",\"onsite\",\"onsite\",\"onsite\",\"onsite\",\"onsite\",\"onsite\",\"onsite\",\"onsite\",\"onsite\",\"onsite\",\"onsite\",\"onsite\",\"onsite\",\"onsite\",\"onsite\",\"onsite\",\"onsite\",\"onsite\",\"onsite\",\"onsite\",\"onsite\",\"onsite\",\"onsite\",\"onsite\",\"onsite\",\"onsite\",\"onsite\",\"onsite\",\"onsite\",\"onsite\",\"onsite\",\"onsite\",\"onsite\",\"onsite\",\"onsite\",\"onsite\",\"onsite\",\"onsite\",\"onsite\",\"onsite\",\"onsite\",\"onsite\",\"onsite\",\"onsite\",\"onsite\",\"onsite\",\"onsite\",\"onsite\",\"onsite\",\"onsite\",\"onsite\",\"onsite\",\"onsite\",\"onsite\",\"onsite\",\"onsite\",\"onsite\",\"onsite\",\"onsite\",\"onsite\",\"onsite\",\"onsite\",\"onsite\",\"onsite\",\"onsite\",\"onsite\",\"onsite\",\"onsite\",\"onsite\",\"onsite\",\"onsite\",\"onsite\",\"onsite\",\"onsite\",\"onsite\",\"onsite\",\"onsite\",\"onsite\",\"onsite\",\"onsite\",\"onsite\",\"onsite\",\"onsite\",\"onsite\",\"onsite\",\"onsite\",\"onsite\",\"onsite\",\"onsite\",\"onsite\",\"onsite\",\"onsite\",\"onsite\",\"onsite\",\"onsite\",\"onsite\",\"onsite\",\"onsite\",\"onsite\",\"onsite\",\"onsite\",\"onsite\",\"onsite\",\"onsite\",\"onsite\",\"onsite\",\"onsite\",\"onsite\",\"onsite\",\"onsite\",\"onsite\",\"onsite\",\"onsite\",\"onsite\",\"onsite\",\"onsite\",\"onsite\",\"onsite\",\"onsite\",\"onsite\",\"onsite\",\"onsite\",\"onsite\",\"onsite\",\"onsite\",\"onsite\",\"onsite\",\"onsite\",\"onsite\",\"onsite\",\"onsite\",\"onsite\",\"onsite\",\"onsite\",\"onsite\",\"onsite\",\"onsite\",\"onsite\",\"onsite\",\"onsite\",\"onsite\",\"onsite\",\"onsite\",\"onsite\",\"onsite\",\"onsite\",\"onsite\",\"onsite\",\"onsite\",\"onsite\",\"onsite\",\"onsite\",\"onsite\",\"onsite\",\"onsite\",\"onsite\",\"onsite\",\"onsite\",\"onsite\",\"onsite\",\"onsite\",\"onsite\",\"onsite\",\"onsite\",\"onsite\",\"onsite\",\"onsite\",\"onsite\",\"onsite\",\"onsite\",\"onsite\",\"onsite\",\"onsite\",\"onsite\",\"onsite\",\"onsite\",\"onsite\",\"onsite\",\"onsite\",\"onsite\",\"onsite\",\"onsite\",\"onsite\",\"onsite\",\"onsite\",\"onsite\",\"onsite\",\"onsite\",\"onsite\",\"onsite\",\"onsite\",\"onsite\",\"onsite\",\"onsite\",\"onsite\",\"onsite\",\"onsite\",\"onsite\",\"onsite\",\"onsite\",\"onsite\",\"onsite\",\"onsite\",\"onsite\",\"onsite\",\"onsite\",\"onsite\",\"onsite\",\"onsite\",\"onsite\",\"onsite\",\"onsite\",\"onsite\",\"onsite\",\"onsite\",\"onsite\",\"onsite\",\"onsite\",\"onsite\",\"onsite\",\"onsite\",\"onsite\",\"onsite\",\"onsite\",\"onsite\",\"onsite\",\"onsite\",\"onsite\",\"onsite\",\"onsite\",\"onsite\",\"onsite\",\"onsite\",\"onsite\",\"onsite\",\"onsite\",\"onsite\",\"onsite\",\"onsite\",\"onsite\",\"onsite\",\"onsite\",\"onsite\",\"onsite\",\"onsite\",\"onsite\",\"onsite\",\"onsite\",\"onsite\",\"onsite\",\"onsite\",\"onsite\",\"onsite\",\"onsite\",\"onsite\",\"onsite\",\"onsite\",\"onsite\",\"onsite\",\"onsite\",\"onsite\",\"onsite\",\"onsite\",\"onsite\",\"onsite\",\"onsite\",\"onsite\",\"onsite\",\"onsite\",\"onsite\",\"onsite\",\"onsite\",\"onsite\",\"onsite\",\"onsite\",\"onsite\",\"onsite\",\"onsite\",\"onsite\",\"onsite\",\"onsite\",\"onsite\",\"onsite\",\"onsite\",\"onsite\",\"onsite\",\"onsite\",\"onsite\",\"onsite\",\"onsite\",\"onsite\",\"onsite\",\"onsite\",\"onsite\",\"onsite\",\"onsite\",\"onsite\",\"onsite\",\"onsite\",\"onsite\",\"onsite\",\"onsite\",\"onsite\",\"onsite\",\"onsite\",\"onsite\",\"onsite\",\"onsite\",\"onsite\",\"onsite\",\"onsite\",\"onsite\",\"onsite\",\"onsite\",\"onsite\",\"onsite\",\"onsite\",\"onsite\",\"onsite\",\"onsite\",\"onsite\",\"onsite\",\"onsite\",\"onsite\",\"onsite\",\"onsite\",\"onsite\",\"onsite\",\"onsite\",\"onsite\",\"onsite\",\"onsite\",\"onsite\",\"onsite\",\"onsite\",\"onsite\",\"onsite\",\"onsite\",\"onsite\",\"onsite\",\"onsite\",\"onsite\",\"onsite\",\"onsite\",\"onsite\",\"onsite\",\"onsite\",\"onsite\",\"onsite\",\"onsite\",\"onsite\",\"onsite\",\"onsite\",\"onsite\",\"onsite\",\"onsite\",\"onsite\",\"onsite\",\"onsite\",\"onsite\",\"onsite\",\"onsite\",\"onsite\",\"onsite\",\"onsite\",\"onsite\",\"onsite\",\"onsite\",\"onsite\",\"onsite\",\"onsite\",\"onsite\",\"onsite\",\"onsite\",\"onsite\",\"onsite\",\"onsite\",\"onsite\",\"onsite\",\"onsite\",\"onsite\",\"onsite\",\"onsite\",\"onsite\",\"onsite\",\"onsite\",\"onsite\",\"onsite\",\"onsite\",\"onsite\",\"onsite\",\"onsite\",\"onsite\",\"onsite\",\"onsite\",\"onsite\",\"onsite\",\"onsite\",\"onsite\",\"onsite\",\"onsite\",\"onsite\",\"onsite\",\"onsite\",\"onsite\",\"onsite\",\"onsite\",\"onsite\",\"onsite\",\"onsite\",\"onsite\",\"onsite\"],\"xaxis\":\"x2\",\"yaxis\":\"y2\",\"type\":\"histogram\"},{\"alignmentgroup\":\"True\",\"bingroup\":\"x\",\"legendgroup\":\"remote\",\"marker\":{\"color\":\"#FF7F0E\",\"pattern\":{\"shape\":\"\"}},\"name\":\"remote\",\"offsetgroup\":\"remote\",\"orientation\":\"v\",\"showlegend\":true,\"x\":[\"remote\",\"remote\",\"remote\",\"remote\",\"remote\",\"remote\",\"remote\",\"remote\",\"remote\",\"remote\",\"remote\",\"remote\",\"remote\",\"remote\",\"remote\",\"remote\",\"remote\",\"remote\",\"remote\",\"remote\",\"remote\",\"remote\",\"remote\",\"remote\",\"remote\",\"remote\",\"remote\",\"remote\",\"remote\",\"remote\",\"remote\",\"remote\",\"remote\",\"remote\",\"remote\",\"remote\",\"remote\",\"remote\",\"remote\",\"remote\",\"remote\",\"remote\",\"remote\",\"remote\",\"remote\",\"remote\",\"remote\",\"remote\",\"remote\",\"remote\",\"remote\",\"remote\",\"remote\",\"remote\",\"remote\",\"remote\",\"remote\",\"remote\",\"remote\",\"remote\",\"remote\",\"remote\",\"remote\",\"remote\",\"remote\",\"remote\",\"remote\",\"remote\",\"remote\",\"remote\",\"remote\",\"remote\",\"remote\",\"remote\",\"remote\",\"remote\",\"remote\",\"remote\",\"remote\",\"remote\",\"remote\",\"remote\",\"remote\",\"remote\",\"remote\",\"remote\",\"remote\",\"remote\",\"remote\",\"remote\",\"remote\",\"remote\",\"remote\",\"remote\",\"remote\",\"remote\",\"remote\",\"remote\",\"remote\",\"remote\",\"remote\",\"remote\",\"remote\",\"remote\",\"remote\",\"remote\",\"remote\",\"remote\",\"remote\",\"remote\",\"remote\",\"remote\",\"remote\",\"remote\",\"remote\",\"remote\",\"remote\",\"remote\",\"remote\",\"remote\",\"remote\",\"remote\",\"remote\",\"remote\",\"remote\",\"remote\",\"remote\",\"remote\",\"remote\",\"remote\",\"remote\",\"remote\",\"remote\",\"remote\",\"remote\",\"remote\",\"remote\",\"remote\",\"remote\",\"remote\",\"remote\",\"remote\",\"remote\",\"remote\",\"remote\",\"remote\",\"remote\",\"remote\",\"remote\",\"remote\",\"remote\",\"remote\",\"remote\",\"remote\",\"remote\",\"remote\",\"remote\",\"remote\",\"remote\",\"remote\",\"remote\",\"remote\",\"remote\",\"remote\",\"remote\",\"remote\",\"remote\",\"remote\",\"remote\",\"remote\",\"remote\",\"remote\",\"remote\",\"remote\",\"remote\",\"remote\",\"remote\",\"remote\",\"remote\",\"remote\",\"remote\",\"remote\",\"remote\",\"remote\",\"remote\",\"remote\",\"remote\",\"remote\",\"remote\",\"remote\",\"remote\",\"remote\",\"remote\",\"remote\",\"remote\",\"remote\",\"remote\",\"remote\",\"remote\",\"remote\",\"remote\",\"remote\",\"remote\",\"remote\",\"remote\",\"remote\",\"remote\",\"remote\",\"remote\",\"remote\",\"remote\",\"remote\",\"remote\",\"remote\",\"remote\",\"remote\",\"remote\",\"remote\",\"remote\",\"remote\",\"remote\",\"remote\",\"remote\",\"remote\",\"remote\",\"remote\",\"remote\",\"remote\",\"remote\",\"remote\",\"remote\",\"remote\",\"remote\",\"remote\",\"remote\",\"remote\",\"remote\",\"remote\",\"remote\",\"remote\",\"remote\",\"remote\",\"remote\",\"remote\",\"remote\",\"remote\",\"remote\",\"remote\",\"remote\",\"remote\",\"remote\",\"remote\",\"remote\",\"remote\",\"remote\",\"remote\",\"remote\",\"remote\",\"remote\",\"remote\",\"remote\",\"remote\",\"remote\",\"remote\",\"remote\",\"remote\",\"remote\",\"remote\",\"remote\",\"remote\",\"remote\",\"remote\",\"remote\",\"remote\",\"remote\",\"remote\",\"remote\",\"remote\",\"remote\",\"remote\",\"remote\",\"remote\",\"remote\",\"remote\",\"remote\",\"remote\",\"remote\",\"remote\",\"remote\",\"remote\",\"remote\",\"remote\",\"remote\",\"remote\",\"remote\",\"remote\",\"remote\",\"remote\",\"remote\",\"remote\",\"remote\",\"remote\",\"remote\",\"remote\",\"remote\",\"remote\",\"remote\",\"remote\",\"remote\",\"remote\",\"remote\",\"remote\",\"remote\",\"remote\",\"remote\",\"remote\",\"remote\",\"remote\",\"remote\",\"remote\",\"remote\",\"remote\",\"remote\",\"remote\",\"remote\",\"remote\",\"remote\",\"remote\",\"remote\",\"remote\",\"remote\",\"remote\",\"remote\",\"remote\",\"remote\",\"remote\",\"remote\",\"remote\",\"remote\",\"remote\",\"remote\",\"remote\",\"remote\",\"remote\",\"remote\",\"remote\",\"remote\",\"remote\",\"remote\",\"remote\",\"remote\",\"remote\",\"remote\",\"remote\",\"remote\",\"remote\",\"remote\",\"remote\",\"remote\",\"remote\",\"remote\",\"remote\",\"remote\",\"remote\",\"remote\",\"remote\",\"remote\",\"remote\",\"remote\",\"remote\",\"remote\",\"remote\",\"remote\",\"remote\",\"remote\",\"remote\",\"remote\",\"remote\",\"remote\",\"remote\",\"remote\",\"remote\",\"remote\",\"remote\",\"remote\",\"remote\",\"remote\",\"remote\",\"remote\",\"remote\",\"remote\",\"remote\",\"remote\",\"remote\",\"remote\",\"remote\",\"remote\",\"remote\",\"remote\",\"remote\",\"remote\",\"remote\",\"remote\",\"remote\",\"remote\",\"remote\",\"remote\",\"remote\",\"remote\",\"remote\",\"remote\",\"remote\",\"remote\",\"remote\",\"remote\",\"remote\",\"remote\",\"remote\",\"remote\",\"remote\",\"remote\",\"remote\",\"remote\",\"remote\",\"remote\",\"remote\",\"remote\",\"remote\",\"remote\",\"remote\",\"remote\",\"remote\",\"remote\",\"remote\",\"remote\",\"remote\",\"remote\",\"remote\",\"remote\",\"remote\",\"remote\",\"remote\",\"remote\",\"remote\",\"remote\",\"remote\",\"remote\",\"remote\",\"remote\",\"remote\",\"remote\",\"remote\",\"remote\",\"remote\",\"remote\",\"remote\",\"remote\",\"remote\",\"remote\",\"remote\",\"remote\",\"remote\",\"remote\",\"remote\",\"remote\",\"remote\",\"remote\",\"remote\",\"remote\",\"remote\",\"remote\",\"remote\",\"remote\",\"remote\",\"remote\",\"remote\",\"remote\",\"remote\",\"remote\",\"remote\",\"remote\",\"remote\",\"remote\",\"remote\",\"remote\",\"remote\",\"remote\",\"remote\",\"remote\",\"remote\",\"remote\",\"remote\",\"remote\",\"remote\",\"remote\",\"remote\",\"remote\",\"remote\",\"remote\",\"remote\",\"remote\",\"remote\",\"remote\",\"remote\",\"remote\",\"remote\",\"remote\",\"remote\",\"remote\",\"remote\",\"remote\",\"remote\",\"remote\",\"remote\",\"remote\",\"remote\",\"remote\",\"remote\",\"remote\",\"remote\",\"remote\",\"remote\",\"remote\",\"remote\",\"remote\",\"remote\",\"remote\",\"remote\",\"remote\",\"remote\",\"remote\",\"remote\",\"remote\",\"remote\",\"remote\",\"remote\",\"remote\",\"remote\",\"remote\",\"remote\",\"remote\",\"remote\",\"remote\",\"remote\",\"remote\",\"remote\",\"remote\",\"remote\",\"remote\",\"remote\",\"remote\",\"remote\",\"remote\",\"remote\",\"remote\",\"remote\",\"remote\",\"remote\",\"remote\",\"remote\",\"remote\",\"remote\",\"remote\",\"remote\",\"remote\",\"remote\",\"remote\",\"remote\",\"remote\",\"remote\",\"remote\",\"remote\",\"remote\",\"remote\",\"remote\",\"remote\",\"remote\",\"remote\",\"remote\",\"remote\",\"remote\",\"remote\",\"remote\",\"remote\",\"remote\",\"remote\",\"remote\",\"remote\",\"remote\",\"remote\",\"remote\",\"remote\",\"remote\",\"remote\",\"remote\",\"remote\",\"remote\",\"remote\",\"remote\",\"remote\",\"remote\",\"remote\",\"remote\",\"remote\",\"remote\",\"remote\",\"remote\",\"remote\",\"remote\",\"remote\",\"remote\",\"remote\",\"remote\",\"remote\",\"remote\",\"remote\",\"remote\",\"remote\",\"remote\",\"remote\",\"remote\",\"remote\",\"remote\",\"remote\",\"remote\",\"remote\",\"remote\",\"remote\",\"remote\",\"remote\",\"remote\",\"remote\",\"remote\",\"remote\",\"remote\",\"remote\",\"remote\",\"remote\",\"remote\",\"remote\",\"remote\",\"remote\",\"remote\",\"remote\",\"remote\",\"remote\",\"remote\",\"remote\",\"remote\",\"remote\",\"remote\",\"remote\",\"remote\",\"remote\",\"remote\",\"remote\",\"remote\",\"remote\",\"remote\",\"remote\",\"remote\",\"remote\",\"remote\",\"remote\",\"remote\",\"remote\",\"remote\",\"remote\",\"remote\",\"remote\",\"remote\",\"remote\",\"remote\",\"remote\",\"remote\",\"remote\",\"remote\",\"remote\",\"remote\",\"remote\",\"remote\",\"remote\",\"remote\",\"remote\",\"remote\",\"remote\",\"remote\",\"remote\",\"remote\",\"remote\",\"remote\",\"remote\",\"remote\",\"remote\",\"remote\",\"remote\",\"remote\",\"remote\",\"remote\",\"remote\",\"remote\",\"remote\",\"remote\",\"remote\",\"remote\",\"remote\",\"remote\",\"remote\",\"remote\",\"remote\",\"remote\",\"remote\",\"remote\",\"remote\",\"remote\",\"remote\",\"remote\",\"remote\",\"remote\",\"remote\",\"remote\",\"remote\",\"remote\",\"remote\",\"remote\",\"remote\",\"remote\",\"remote\",\"remote\",\"remote\",\"remote\",\"remote\",\"remote\",\"remote\",\"remote\",\"remote\",\"remote\",\"remote\",\"remote\",\"remote\",\"remote\",\"remote\",\"remote\",\"remote\",\"remote\",\"remote\",\"remote\",\"remote\",\"remote\",\"remote\",\"remote\",\"remote\",\"remote\",\"remote\",\"remote\",\"remote\",\"remote\",\"remote\",\"remote\",\"remote\",\"remote\",\"remote\",\"remote\",\"remote\",\"remote\",\"remote\",\"remote\",\"remote\",\"remote\",\"remote\",\"remote\",\"remote\",\"remote\",\"remote\",\"remote\",\"remote\",\"remote\",\"remote\",\"remote\",\"remote\",\"remote\",\"remote\",\"remote\",\"remote\",\"remote\",\"remote\",\"remote\",\"remote\",\"remote\",\"remote\",\"remote\",\"remote\",\"remote\",\"remote\",\"remote\",\"remote\",\"remote\",\"remote\",\"remote\",\"remote\",\"remote\",\"remote\",\"remote\",\"remote\",\"remote\",\"remote\",\"remote\",\"remote\",\"remote\",\"remote\",\"remote\",\"remote\",\"remote\",\"remote\",\"remote\",\"remote\",\"remote\",\"remote\",\"remote\",\"remote\",\"remote\",\"remote\",\"remote\",\"remote\",\"remote\",\"remote\",\"remote\",\"remote\",\"remote\",\"remote\",\"remote\",\"remote\",\"remote\",\"remote\",\"remote\",\"remote\",\"remote\",\"remote\",\"remote\",\"remote\",\"remote\",\"remote\",\"remote\",\"remote\",\"remote\",\"remote\",\"remote\",\"remote\",\"remote\",\"remote\",\"remote\",\"remote\",\"remote\",\"remote\",\"remote\",\"remote\",\"remote\",\"remote\",\"remote\",\"remote\",\"remote\",\"remote\",\"remote\",\"remote\",\"remote\",\"remote\",\"remote\",\"remote\",\"remote\",\"remote\",\"remote\",\"remote\",\"remote\",\"remote\",\"remote\",\"remote\",\"remote\",\"remote\",\"remote\",\"remote\",\"remote\",\"remote\",\"remote\",\"remote\",\"remote\",\"remote\",\"remote\",\"remote\",\"remote\",\"remote\",\"remote\",\"remote\",\"remote\",\"remote\",\"remote\",\"remote\",\"remote\",\"remote\",\"remote\",\"remote\",\"remote\",\"remote\",\"remote\",\"remote\",\"remote\",\"remote\",\"remote\",\"remote\",\"remote\",\"remote\",\"remote\",\"remote\",\"remote\",\"remote\",\"remote\",\"remote\",\"remote\",\"remote\",\"remote\",\"remote\",\"remote\",\"remote\",\"remote\",\"remote\",\"remote\",\"remote\",\"remote\",\"remote\",\"remote\",\"remote\",\"remote\",\"remote\",\"remote\",\"remote\",\"remote\",\"remote\",\"remote\",\"remote\",\"remote\",\"remote\",\"remote\",\"remote\",\"remote\",\"remote\",\"remote\",\"remote\",\"remote\",\"remote\",\"remote\",\"remote\",\"remote\",\"remote\",\"remote\",\"remote\",\"remote\",\"remote\",\"remote\",\"remote\",\"remote\",\"remote\",\"remote\",\"remote\",\"remote\",\"remote\",\"remote\",\"remote\",\"remote\",\"remote\",\"remote\",\"remote\",\"remote\",\"remote\",\"remote\",\"remote\",\"remote\",\"remote\",\"remote\",\"remote\",\"remote\",\"remote\",\"remote\",\"remote\",\"remote\",\"remote\",\"remote\",\"remote\",\"remote\",\"remote\",\"remote\",\"remote\",\"remote\",\"remote\",\"remote\",\"remote\",\"remote\",\"remote\",\"remote\",\"remote\",\"remote\",\"remote\",\"remote\",\"remote\",\"remote\",\"remote\",\"remote\",\"remote\",\"remote\",\"remote\",\"remote\",\"remote\",\"remote\",\"remote\",\"remote\",\"remote\",\"remote\",\"remote\",\"remote\",\"remote\",\"remote\",\"remote\",\"remote\",\"remote\",\"remote\",\"remote\",\"remote\",\"remote\",\"remote\",\"remote\",\"remote\",\"remote\",\"remote\",\"remote\",\"remote\",\"remote\",\"remote\",\"remote\",\"remote\",\"remote\",\"remote\",\"remote\",\"remote\",\"remote\",\"remote\",\"remote\",\"remote\",\"remote\",\"remote\",\"remote\",\"remote\",\"remote\",\"remote\",\"remote\",\"remote\",\"remote\",\"remote\",\"remote\",\"remote\",\"remote\",\"remote\",\"remote\",\"remote\",\"remote\",\"remote\",\"remote\",\"remote\",\"remote\",\"remote\",\"remote\",\"remote\",\"remote\",\"remote\",\"remote\",\"remote\",\"remote\",\"remote\",\"remote\",\"remote\",\"remote\",\"remote\",\"remote\",\"remote\",\"remote\",\"remote\",\"remote\",\"remote\",\"remote\",\"remote\",\"remote\",\"remote\",\"remote\",\"remote\",\"remote\",\"remote\",\"remote\",\"remote\",\"remote\",\"remote\",\"remote\",\"remote\",\"remote\",\"remote\",\"remote\",\"remote\",\"remote\",\"remote\",\"remote\",\"remote\",\"remote\",\"remote\",\"remote\",\"remote\",\"remote\",\"remote\",\"remote\",\"remote\",\"remote\",\"remote\",\"remote\",\"remote\",\"remote\",\"remote\",\"remote\",\"remote\",\"remote\",\"remote\",\"remote\",\"remote\",\"remote\",\"remote\",\"remote\",\"remote\",\"remote\",\"remote\",\"remote\",\"remote\",\"remote\",\"remote\",\"remote\",\"remote\",\"remote\",\"remote\",\"remote\",\"remote\",\"remote\",\"remote\",\"remote\",\"remote\",\"remote\",\"remote\",\"remote\",\"remote\",\"remote\",\"remote\",\"remote\",\"remote\",\"remote\",\"remote\",\"remote\",\"remote\",\"remote\",\"remote\",\"remote\",\"remote\",\"remote\",\"remote\",\"remote\",\"remote\",\"remote\",\"remote\",\"remote\",\"remote\",\"remote\",\"remote\",\"remote\",\"remote\",\"remote\",\"remote\",\"remote\",\"remote\",\"remote\",\"remote\",\"remote\",\"remote\",\"remote\",\"remote\",\"remote\",\"remote\",\"remote\",\"remote\",\"remote\",\"remote\",\"remote\",\"remote\",\"remote\",\"remote\",\"remote\",\"remote\",\"remote\",\"remote\",\"remote\",\"remote\",\"remote\",\"remote\",\"remote\",\"remote\",\"remote\",\"remote\",\"remote\",\"remote\",\"remote\",\"remote\",\"remote\",\"remote\",\"remote\",\"remote\",\"remote\",\"remote\",\"remote\",\"remote\",\"remote\",\"remote\",\"remote\",\"remote\",\"remote\",\"remote\",\"remote\",\"remote\",\"remote\",\"remote\",\"remote\",\"remote\",\"remote\",\"remote\",\"remote\",\"remote\",\"remote\",\"remote\",\"remote\",\"remote\",\"remote\",\"remote\",\"remote\",\"remote\",\"remote\",\"remote\",\"remote\",\"remote\",\"remote\",\"remote\",\"remote\",\"remote\",\"remote\",\"remote\",\"remote\",\"remote\",\"remote\",\"remote\",\"remote\",\"remote\",\"remote\",\"remote\",\"remote\",\"remote\",\"remote\",\"remote\",\"remote\",\"remote\",\"remote\",\"remote\",\"remote\",\"remote\",\"remote\",\"remote\",\"remote\",\"remote\",\"remote\",\"remote\",\"remote\",\"remote\",\"remote\",\"remote\",\"remote\",\"remote\",\"remote\",\"remote\",\"remote\",\"remote\",\"remote\",\"remote\",\"remote\",\"remote\",\"remote\",\"remote\",\"remote\",\"remote\",\"remote\",\"remote\",\"remote\",\"remote\",\"remote\",\"remote\",\"remote\",\"remote\",\"remote\",\"remote\",\"remote\",\"remote\",\"remote\",\"remote\",\"remote\",\"remote\",\"remote\",\"remote\",\"remote\",\"remote\",\"remote\",\"remote\",\"remote\",\"remote\",\"remote\",\"remote\",\"remote\",\"remote\",\"remote\",\"remote\",\"remote\",\"remote\",\"remote\",\"remote\",\"remote\",\"remote\",\"remote\",\"remote\",\"remote\",\"remote\",\"remote\",\"remote\",\"remote\",\"remote\",\"remote\",\"remote\",\"remote\",\"remote\",\"remote\",\"remote\",\"remote\",\"remote\",\"remote\",\"remote\",\"remote\",\"remote\",\"remote\",\"remote\",\"remote\",\"remote\",\"remote\",\"remote\",\"remote\",\"remote\",\"remote\",\"remote\",\"remote\",\"remote\",\"remote\",\"remote\",\"remote\",\"remote\",\"remote\",\"remote\",\"remote\",\"remote\",\"remote\",\"remote\",\"remote\",\"remote\",\"remote\",\"remote\",\"remote\",\"remote\",\"remote\",\"remote\",\"remote\",\"remote\",\"remote\",\"remote\",\"remote\",\"remote\",\"remote\",\"remote\",\"remote\",\"remote\",\"remote\",\"remote\",\"remote\",\"remote\",\"remote\",\"remote\",\"remote\",\"remote\",\"remote\",\"remote\",\"remote\",\"remote\",\"remote\",\"remote\",\"remote\",\"remote\",\"remote\",\"remote\",\"remote\",\"remote\",\"remote\",\"remote\",\"remote\",\"remote\",\"remote\",\"remote\",\"remote\",\"remote\",\"remote\",\"remote\",\"remote\",\"remote\",\"remote\",\"remote\",\"remote\",\"remote\",\"remote\",\"remote\",\"remote\",\"remote\",\"remote\",\"remote\",\"remote\",\"remote\",\"remote\",\"remote\",\"remote\",\"remote\",\"remote\",\"remote\",\"remote\",\"remote\",\"remote\",\"remote\",\"remote\",\"remote\",\"remote\",\"remote\",\"remote\",\"remote\",\"remote\",\"remote\",\"remote\",\"remote\",\"remote\",\"remote\",\"remote\",\"remote\",\"remote\",\"remote\",\"remote\",\"remote\",\"remote\",\"remote\",\"remote\",\"remote\",\"remote\",\"remote\",\"remote\",\"remote\",\"remote\",\"remote\",\"remote\",\"remote\",\"remote\",\"remote\",\"remote\",\"remote\",\"remote\",\"remote\",\"remote\",\"remote\",\"remote\",\"remote\",\"remote\",\"remote\",\"remote\",\"remote\",\"remote\",\"remote\",\"remote\",\"remote\",\"remote\",\"remote\",\"remote\",\"remote\",\"remote\",\"remote\",\"remote\",\"remote\",\"remote\",\"remote\",\"remote\",\"remote\",\"remote\",\"remote\",\"remote\",\"remote\",\"remote\",\"remote\",\"remote\",\"remote\",\"remote\",\"remote\",\"remote\",\"remote\",\"remote\",\"remote\",\"remote\",\"remote\",\"remote\",\"remote\",\"remote\",\"remote\",\"remote\",\"remote\",\"remote\",\"remote\",\"remote\",\"remote\",\"remote\",\"remote\",\"remote\",\"remote\",\"remote\",\"remote\",\"remote\",\"remote\",\"remote\",\"remote\",\"remote\",\"remote\",\"remote\",\"remote\",\"remote\",\"remote\",\"remote\",\"remote\",\"remote\",\"remote\",\"remote\",\"remote\",\"remote\",\"remote\",\"remote\",\"remote\",\"remote\",\"remote\",\"remote\",\"remote\",\"remote\",\"remote\",\"remote\",\"remote\",\"remote\",\"remote\",\"remote\",\"remote\",\"remote\",\"remote\",\"remote\",\"remote\",\"remote\",\"remote\",\"remote\",\"remote\",\"remote\",\"remote\",\"remote\",\"remote\",\"remote\",\"remote\",\"remote\",\"remote\",\"remote\",\"remote\",\"remote\",\"remote\",\"remote\",\"remote\",\"remote\",\"remote\",\"remote\",\"remote\",\"remote\",\"remote\",\"remote\",\"remote\",\"remote\",\"remote\",\"remote\",\"remote\",\"remote\",\"remote\",\"remote\",\"remote\",\"remote\",\"remote\",\"remote\",\"remote\",\"remote\",\"remote\",\"remote\",\"remote\",\"remote\",\"remote\",\"remote\",\"remote\",\"remote\",\"remote\",\"remote\",\"remote\",\"remote\",\"remote\",\"remote\",\"remote\",\"remote\",\"remote\",\"remote\",\"remote\",\"remote\",\"remote\",\"remote\",\"remote\",\"remote\",\"remote\",\"remote\",\"remote\",\"remote\",\"remote\",\"remote\",\"remote\",\"remote\",\"remote\",\"remote\",\"remote\",\"remote\",\"remote\",\"remote\",\"remote\",\"remote\",\"remote\",\"remote\",\"remote\",\"remote\",\"remote\",\"remote\",\"remote\",\"remote\",\"remote\",\"remote\",\"remote\",\"remote\",\"remote\",\"remote\",\"remote\",\"remote\",\"remote\",\"remote\",\"remote\",\"remote\",\"remote\",\"remote\",\"remote\",\"remote\",\"remote\",\"remote\",\"remote\",\"remote\",\"remote\",\"remote\",\"remote\",\"remote\",\"remote\",\"remote\",\"remote\",\"remote\",\"remote\",\"remote\",\"remote\",\"remote\",\"remote\",\"remote\",\"remote\",\"remote\",\"remote\",\"remote\",\"remote\",\"remote\",\"remote\",\"remote\",\"remote\",\"remote\",\"remote\",\"remote\",\"remote\",\"remote\",\"remote\",\"remote\",\"remote\",\"remote\",\"remote\",\"remote\",\"remote\",\"remote\",\"remote\",\"remote\",\"remote\",\"remote\",\"remote\",\"remote\",\"remote\",\"remote\",\"remote\",\"remote\",\"remote\",\"remote\",\"remote\",\"remote\",\"remote\",\"remote\",\"remote\",\"remote\",\"remote\",\"remote\",\"remote\",\"remote\",\"remote\",\"remote\",\"remote\",\"remote\",\"remote\",\"remote\",\"remote\",\"remote\",\"remote\",\"remote\",\"remote\",\"remote\",\"remote\",\"remote\",\"remote\",\"remote\",\"remote\",\"remote\",\"remote\",\"remote\",\"remote\",\"remote\",\"remote\",\"remote\",\"remote\",\"remote\",\"remote\",\"remote\",\"remote\",\"remote\",\"remote\",\"remote\",\"remote\",\"remote\",\"remote\",\"remote\",\"remote\",\"remote\",\"remote\",\"remote\",\"remote\",\"remote\",\"remote\",\"remote\",\"remote\",\"remote\",\"remote\",\"remote\",\"remote\",\"remote\",\"remote\",\"remote\",\"remote\",\"remote\",\"remote\",\"remote\",\"remote\",\"remote\",\"remote\",\"remote\",\"remote\",\"remote\",\"remote\",\"remote\",\"remote\",\"remote\",\"remote\",\"remote\",\"remote\",\"remote\",\"remote\",\"remote\",\"remote\",\"remote\",\"remote\",\"remote\",\"remote\",\"remote\",\"remote\",\"remote\"],\"xaxis\":\"x2\",\"yaxis\":\"y2\",\"type\":\"histogram\"},{\"alignmentgroup\":\"True\",\"bingroup\":\"x\",\"legendgroup\":\"hybrid\",\"marker\":{\"color\":\"#2CA02C\",\"pattern\":{\"shape\":\"\"}},\"name\":\"hybrid\",\"offsetgroup\":\"hybrid\",\"orientation\":\"v\",\"showlegend\":true,\"x\":[\"hybrid\",\"hybrid\",\"hybrid\",\"hybrid\",\"hybrid\",\"hybrid\",\"hybrid\",\"hybrid\",\"hybrid\",\"hybrid\",\"hybrid\",\"hybrid\",\"hybrid\",\"hybrid\",\"hybrid\",\"hybrid\",\"hybrid\",\"hybrid\",\"hybrid\",\"hybrid\",\"hybrid\",\"hybrid\",\"hybrid\",\"hybrid\",\"hybrid\",\"hybrid\",\"hybrid\",\"hybrid\",\"hybrid\",\"hybrid\",\"hybrid\",\"hybrid\",\"hybrid\",\"hybrid\",\"hybrid\",\"hybrid\",\"hybrid\",\"hybrid\",\"hybrid\",\"hybrid\",\"hybrid\",\"hybrid\",\"hybrid\",\"hybrid\",\"hybrid\",\"hybrid\",\"hybrid\",\"hybrid\",\"hybrid\",\"hybrid\",\"hybrid\",\"hybrid\",\"hybrid\",\"hybrid\",\"hybrid\",\"hybrid\",\"hybrid\",\"hybrid\",\"hybrid\",\"hybrid\",\"hybrid\",\"hybrid\",\"hybrid\",\"hybrid\",\"hybrid\",\"hybrid\",\"hybrid\",\"hybrid\",\"hybrid\",\"hybrid\",\"hybrid\",\"hybrid\",\"hybrid\",\"hybrid\",\"hybrid\",\"hybrid\",\"hybrid\",\"hybrid\",\"hybrid\",\"hybrid\",\"hybrid\",\"hybrid\",\"hybrid\",\"hybrid\",\"hybrid\",\"hybrid\",\"hybrid\",\"hybrid\",\"hybrid\",\"hybrid\",\"hybrid\",\"hybrid\",\"hybrid\",\"hybrid\",\"hybrid\",\"hybrid\",\"hybrid\",\"hybrid\",\"hybrid\",\"hybrid\",\"hybrid\",\"hybrid\",\"hybrid\",\"hybrid\",\"hybrid\",\"hybrid\",\"hybrid\",\"hybrid\",\"hybrid\",\"hybrid\",\"hybrid\",\"hybrid\",\"hybrid\",\"hybrid\",\"hybrid\",\"hybrid\",\"hybrid\",\"hybrid\",\"hybrid\",\"hybrid\",\"hybrid\",\"hybrid\",\"hybrid\",\"hybrid\",\"hybrid\",\"hybrid\",\"hybrid\",\"hybrid\",\"hybrid\",\"hybrid\",\"hybrid\",\"hybrid\",\"hybrid\",\"hybrid\",\"hybrid\",\"hybrid\",\"hybrid\",\"hybrid\",\"hybrid\",\"hybrid\",\"hybrid\",\"hybrid\",\"hybrid\",\"hybrid\",\"hybrid\",\"hybrid\",\"hybrid\",\"hybrid\",\"hybrid\",\"hybrid\",\"hybrid\",\"hybrid\",\"hybrid\",\"hybrid\",\"hybrid\",\"hybrid\",\"hybrid\",\"hybrid\",\"hybrid\",\"hybrid\",\"hybrid\",\"hybrid\",\"hybrid\",\"hybrid\",\"hybrid\",\"hybrid\",\"hybrid\",\"hybrid\",\"hybrid\",\"hybrid\",\"hybrid\",\"hybrid\",\"hybrid\",\"hybrid\",\"hybrid\",\"hybrid\",\"hybrid\",\"hybrid\",\"hybrid\",\"hybrid\",\"hybrid\",\"hybrid\",\"hybrid\",\"hybrid\",\"hybrid\",\"hybrid\",\"hybrid\",\"hybrid\",\"hybrid\",\"hybrid\",\"hybrid\",\"hybrid\",\"hybrid\",\"hybrid\",\"hybrid\",\"hybrid\",\"hybrid\",\"hybrid\",\"hybrid\",\"hybrid\",\"hybrid\",\"hybrid\",\"hybrid\",\"hybrid\",\"hybrid\",\"hybrid\",\"hybrid\",\"hybrid\",\"hybrid\",\"hybrid\",\"hybrid\",\"hybrid\",\"hybrid\",\"hybrid\",\"hybrid\",\"hybrid\",\"hybrid\",\"hybrid\",\"hybrid\",\"hybrid\",\"hybrid\",\"hybrid\",\"hybrid\",\"hybrid\",\"hybrid\",\"hybrid\",\"hybrid\",\"hybrid\",\"hybrid\",\"hybrid\",\"hybrid\",\"hybrid\",\"hybrid\",\"hybrid\",\"hybrid\",\"hybrid\",\"hybrid\",\"hybrid\",\"hybrid\",\"hybrid\",\"hybrid\",\"hybrid\",\"hybrid\",\"hybrid\",\"hybrid\",\"hybrid\",\"hybrid\",\"hybrid\",\"hybrid\",\"hybrid\",\"hybrid\",\"hybrid\",\"hybrid\",\"hybrid\",\"hybrid\",\"hybrid\",\"hybrid\",\"hybrid\",\"hybrid\",\"hybrid\",\"hybrid\",\"hybrid\",\"hybrid\",\"hybrid\",\"hybrid\",\"hybrid\",\"hybrid\",\"hybrid\",\"hybrid\",\"hybrid\",\"hybrid\",\"hybrid\",\"hybrid\",\"hybrid\",\"hybrid\",\"hybrid\",\"hybrid\",\"hybrid\",\"hybrid\",\"hybrid\",\"hybrid\",\"hybrid\",\"hybrid\",\"hybrid\",\"hybrid\",\"hybrid\",\"hybrid\",\"hybrid\",\"hybrid\",\"hybrid\",\"hybrid\",\"hybrid\",\"hybrid\",\"hybrid\",\"hybrid\",\"hybrid\",\"hybrid\",\"hybrid\",\"hybrid\",\"hybrid\",\"hybrid\",\"hybrid\",\"hybrid\",\"hybrid\",\"hybrid\",\"hybrid\",\"hybrid\",\"hybrid\",\"hybrid\",\"hybrid\",\"hybrid\",\"hybrid\",\"hybrid\",\"hybrid\",\"hybrid\",\"hybrid\",\"hybrid\",\"hybrid\",\"hybrid\",\"hybrid\",\"hybrid\",\"hybrid\",\"hybrid\",\"hybrid\",\"hybrid\",\"hybrid\",\"hybrid\",\"hybrid\",\"hybrid\",\"hybrid\",\"hybrid\",\"hybrid\",\"hybrid\",\"hybrid\",\"hybrid\",\"hybrid\",\"hybrid\",\"hybrid\",\"hybrid\",\"hybrid\",\"hybrid\",\"hybrid\",\"hybrid\",\"hybrid\",\"hybrid\",\"hybrid\",\"hybrid\",\"hybrid\",\"hybrid\",\"hybrid\",\"hybrid\",\"hybrid\",\"hybrid\",\"hybrid\",\"hybrid\",\"hybrid\",\"hybrid\",\"hybrid\",\"hybrid\",\"hybrid\",\"hybrid\",\"hybrid\",\"hybrid\",\"hybrid\",\"hybrid\",\"hybrid\",\"hybrid\",\"hybrid\",\"hybrid\",\"hybrid\",\"hybrid\",\"hybrid\",\"hybrid\",\"hybrid\",\"hybrid\",\"hybrid\",\"hybrid\",\"hybrid\",\"hybrid\",\"hybrid\",\"hybrid\",\"hybrid\",\"hybrid\",\"hybrid\",\"hybrid\",\"hybrid\",\"hybrid\",\"hybrid\",\"hybrid\",\"hybrid\",\"hybrid\",\"hybrid\",\"hybrid\",\"hybrid\",\"hybrid\",\"hybrid\",\"hybrid\",\"hybrid\",\"hybrid\",\"hybrid\",\"hybrid\",\"hybrid\",\"hybrid\",\"hybrid\",\"hybrid\",\"hybrid\",\"hybrid\",\"hybrid\",\"hybrid\",\"hybrid\",\"hybrid\",\"hybrid\",\"hybrid\",\"hybrid\",\"hybrid\",\"hybrid\",\"hybrid\",\"hybrid\",\"hybrid\",\"hybrid\",\"hybrid\",\"hybrid\",\"hybrid\",\"hybrid\",\"hybrid\",\"hybrid\",\"hybrid\",\"hybrid\",\"hybrid\",\"hybrid\",\"hybrid\",\"hybrid\",\"hybrid\",\"hybrid\",\"hybrid\",\"hybrid\",\"hybrid\",\"hybrid\",\"hybrid\",\"hybrid\",\"hybrid\",\"hybrid\",\"hybrid\",\"hybrid\",\"hybrid\",\"hybrid\",\"hybrid\",\"hybrid\",\"hybrid\",\"hybrid\",\"hybrid\",\"hybrid\",\"hybrid\",\"hybrid\",\"hybrid\",\"hybrid\",\"hybrid\",\"hybrid\",\"hybrid\",\"hybrid\",\"hybrid\",\"hybrid\",\"hybrid\",\"hybrid\",\"hybrid\",\"hybrid\",\"hybrid\",\"hybrid\",\"hybrid\",\"hybrid\",\"hybrid\",\"hybrid\",\"hybrid\",\"hybrid\",\"hybrid\",\"hybrid\",\"hybrid\",\"hybrid\",\"hybrid\",\"hybrid\",\"hybrid\",\"hybrid\",\"hybrid\",\"hybrid\",\"hybrid\",\"hybrid\",\"hybrid\",\"hybrid\",\"hybrid\",\"hybrid\",\"hybrid\",\"hybrid\",\"hybrid\",\"hybrid\",\"hybrid\",\"hybrid\",\"hybrid\",\"hybrid\",\"hybrid\",\"hybrid\",\"hybrid\",\"hybrid\",\"hybrid\",\"hybrid\",\"hybrid\",\"hybrid\",\"hybrid\",\"hybrid\",\"hybrid\",\"hybrid\",\"hybrid\",\"hybrid\",\"hybrid\",\"hybrid\",\"hybrid\",\"hybrid\",\"hybrid\",\"hybrid\",\"hybrid\",\"hybrid\",\"hybrid\",\"hybrid\",\"hybrid\",\"hybrid\",\"hybrid\",\"hybrid\",\"hybrid\",\"hybrid\",\"hybrid\",\"hybrid\",\"hybrid\",\"hybrid\",\"hybrid\",\"hybrid\",\"hybrid\",\"hybrid\",\"hybrid\",\"hybrid\",\"hybrid\",\"hybrid\",\"hybrid\",\"hybrid\",\"hybrid\",\"hybrid\",\"hybrid\",\"hybrid\",\"hybrid\",\"hybrid\",\"hybrid\",\"hybrid\",\"hybrid\",\"hybrid\",\"hybrid\",\"hybrid\",\"hybrid\",\"hybrid\",\"hybrid\",\"hybrid\",\"hybrid\",\"hybrid\",\"hybrid\",\"hybrid\",\"hybrid\",\"hybrid\",\"hybrid\",\"hybrid\",\"hybrid\",\"hybrid\",\"hybrid\",\"hybrid\",\"hybrid\",\"hybrid\",\"hybrid\",\"hybrid\",\"hybrid\",\"hybrid\",\"hybrid\",\"hybrid\",\"hybrid\",\"hybrid\",\"hybrid\",\"hybrid\",\"hybrid\",\"hybrid\",\"hybrid\",\"hybrid\",\"hybrid\",\"hybrid\",\"hybrid\",\"hybrid\",\"hybrid\",\"hybrid\",\"hybrid\",\"hybrid\",\"hybrid\",\"hybrid\",\"hybrid\",\"hybrid\",\"hybrid\",\"hybrid\",\"hybrid\",\"hybrid\",\"hybrid\",\"hybrid\",\"hybrid\",\"hybrid\",\"hybrid\",\"hybrid\",\"hybrid\",\"hybrid\",\"hybrid\",\"hybrid\",\"hybrid\",\"hybrid\",\"hybrid\",\"hybrid\",\"hybrid\",\"hybrid\",\"hybrid\",\"hybrid\",\"hybrid\",\"hybrid\",\"hybrid\",\"hybrid\",\"hybrid\",\"hybrid\",\"hybrid\",\"hybrid\",\"hybrid\",\"hybrid\",\"hybrid\",\"hybrid\",\"hybrid\",\"hybrid\",\"hybrid\",\"hybrid\",\"hybrid\",\"hybrid\",\"hybrid\",\"hybrid\",\"hybrid\",\"hybrid\",\"hybrid\",\"hybrid\",\"hybrid\",\"hybrid\",\"hybrid\",\"hybrid\",\"hybrid\",\"hybrid\",\"hybrid\",\"hybrid\",\"hybrid\",\"hybrid\",\"hybrid\",\"hybrid\",\"hybrid\",\"hybrid\",\"hybrid\",\"hybrid\",\"hybrid\",\"hybrid\",\"hybrid\",\"hybrid\",\"hybrid\",\"hybrid\",\"hybrid\",\"hybrid\",\"hybrid\",\"hybrid\",\"hybrid\",\"hybrid\",\"hybrid\",\"hybrid\",\"hybrid\",\"hybrid\",\"hybrid\",\"hybrid\",\"hybrid\",\"hybrid\",\"hybrid\",\"hybrid\",\"hybrid\",\"hybrid\",\"hybrid\",\"hybrid\",\"hybrid\",\"hybrid\",\"hybrid\",\"hybrid\",\"hybrid\",\"hybrid\",\"hybrid\",\"hybrid\",\"hybrid\",\"hybrid\",\"hybrid\",\"hybrid\",\"hybrid\",\"hybrid\",\"hybrid\",\"hybrid\",\"hybrid\",\"hybrid\",\"hybrid\",\"hybrid\",\"hybrid\",\"hybrid\",\"hybrid\",\"hybrid\",\"hybrid\",\"hybrid\",\"hybrid\",\"hybrid\",\"hybrid\",\"hybrid\",\"hybrid\",\"hybrid\",\"hybrid\",\"hybrid\",\"hybrid\",\"hybrid\",\"hybrid\",\"hybrid\",\"hybrid\",\"hybrid\",\"hybrid\",\"hybrid\",\"hybrid\",\"hybrid\",\"hybrid\",\"hybrid\",\"hybrid\",\"hybrid\",\"hybrid\",\"hybrid\",\"hybrid\",\"hybrid\",\"hybrid\",\"hybrid\",\"hybrid\",\"hybrid\",\"hybrid\",\"hybrid\",\"hybrid\",\"hybrid\",\"hybrid\",\"hybrid\",\"hybrid\",\"hybrid\",\"hybrid\",\"hybrid\",\"hybrid\",\"hybrid\",\"hybrid\",\"hybrid\",\"hybrid\",\"hybrid\",\"hybrid\",\"hybrid\",\"hybrid\",\"hybrid\",\"hybrid\",\"hybrid\",\"hybrid\",\"hybrid\",\"hybrid\",\"hybrid\",\"hybrid\",\"hybrid\",\"hybrid\",\"hybrid\",\"hybrid\",\"hybrid\",\"hybrid\",\"hybrid\",\"hybrid\",\"hybrid\",\"hybrid\",\"hybrid\",\"hybrid\",\"hybrid\",\"hybrid\",\"hybrid\",\"hybrid\",\"hybrid\",\"hybrid\",\"hybrid\",\"hybrid\",\"hybrid\",\"hybrid\",\"hybrid\",\"hybrid\",\"hybrid\",\"hybrid\",\"hybrid\",\"hybrid\",\"hybrid\",\"hybrid\",\"hybrid\",\"hybrid\",\"hybrid\",\"hybrid\",\"hybrid\",\"hybrid\",\"hybrid\",\"hybrid\",\"hybrid\",\"hybrid\",\"hybrid\",\"hybrid\",\"hybrid\",\"hybrid\",\"hybrid\",\"hybrid\",\"hybrid\",\"hybrid\",\"hybrid\",\"hybrid\",\"hybrid\",\"hybrid\",\"hybrid\",\"hybrid\",\"hybrid\",\"hybrid\",\"hybrid\",\"hybrid\",\"hybrid\",\"hybrid\",\"hybrid\",\"hybrid\",\"hybrid\",\"hybrid\",\"hybrid\",\"hybrid\",\"hybrid\",\"hybrid\",\"hybrid\",\"hybrid\",\"hybrid\",\"hybrid\",\"hybrid\",\"hybrid\",\"hybrid\",\"hybrid\",\"hybrid\",\"hybrid\",\"hybrid\",\"hybrid\",\"hybrid\",\"hybrid\",\"hybrid\",\"hybrid\",\"hybrid\",\"hybrid\",\"hybrid\",\"hybrid\",\"hybrid\",\"hybrid\",\"hybrid\",\"hybrid\",\"hybrid\",\"hybrid\",\"hybrid\",\"hybrid\",\"hybrid\",\"hybrid\",\"hybrid\",\"hybrid\",\"hybrid\",\"hybrid\",\"hybrid\",\"hybrid\",\"hybrid\",\"hybrid\",\"hybrid\",\"hybrid\",\"hybrid\",\"hybrid\",\"hybrid\",\"hybrid\",\"hybrid\",\"hybrid\",\"hybrid\",\"hybrid\",\"hybrid\",\"hybrid\",\"hybrid\",\"hybrid\",\"hybrid\",\"hybrid\",\"hybrid\",\"hybrid\",\"hybrid\",\"hybrid\",\"hybrid\",\"hybrid\",\"hybrid\",\"hybrid\",\"hybrid\",\"hybrid\",\"hybrid\",\"hybrid\",\"hybrid\",\"hybrid\",\"hybrid\",\"hybrid\",\"hybrid\",\"hybrid\",\"hybrid\",\"hybrid\",\"hybrid\",\"hybrid\",\"hybrid\",\"hybrid\",\"hybrid\",\"hybrid\",\"hybrid\",\"hybrid\",\"hybrid\",\"hybrid\",\"hybrid\",\"hybrid\",\"hybrid\",\"hybrid\",\"hybrid\",\"hybrid\",\"hybrid\",\"hybrid\",\"hybrid\",\"hybrid\",\"hybrid\",\"hybrid\",\"hybrid\",\"hybrid\",\"hybrid\",\"hybrid\",\"hybrid\",\"hybrid\",\"hybrid\",\"hybrid\",\"hybrid\",\"hybrid\",\"hybrid\",\"hybrid\",\"hybrid\",\"hybrid\",\"hybrid\",\"hybrid\",\"hybrid\",\"hybrid\",\"hybrid\",\"hybrid\",\"hybrid\",\"hybrid\",\"hybrid\",\"hybrid\",\"hybrid\",\"hybrid\",\"hybrid\",\"hybrid\",\"hybrid\",\"hybrid\",\"hybrid\",\"hybrid\",\"hybrid\",\"hybrid\",\"hybrid\",\"hybrid\",\"hybrid\",\"hybrid\",\"hybrid\",\"hybrid\",\"hybrid\",\"hybrid\",\"hybrid\",\"hybrid\",\"hybrid\",\"hybrid\",\"hybrid\",\"hybrid\",\"hybrid\",\"hybrid\",\"hybrid\",\"hybrid\",\"hybrid\",\"hybrid\",\"hybrid\",\"hybrid\",\"hybrid\",\"hybrid\",\"hybrid\",\"hybrid\",\"hybrid\",\"hybrid\",\"hybrid\",\"hybrid\",\"hybrid\",\"hybrid\",\"hybrid\",\"hybrid\",\"hybrid\",\"hybrid\",\"hybrid\",\"hybrid\",\"hybrid\",\"hybrid\",\"hybrid\",\"hybrid\",\"hybrid\",\"hybrid\",\"hybrid\",\"hybrid\",\"hybrid\",\"hybrid\",\"hybrid\",\"hybrid\",\"hybrid\",\"hybrid\",\"hybrid\",\"hybrid\",\"hybrid\",\"hybrid\",\"hybrid\",\"hybrid\",\"hybrid\",\"hybrid\",\"hybrid\",\"hybrid\",\"hybrid\",\"hybrid\",\"hybrid\",\"hybrid\",\"hybrid\",\"hybrid\",\"hybrid\",\"hybrid\",\"hybrid\",\"hybrid\",\"hybrid\",\"hybrid\",\"hybrid\",\"hybrid\",\"hybrid\",\"hybrid\",\"hybrid\",\"hybrid\",\"hybrid\",\"hybrid\",\"hybrid\",\"hybrid\",\"hybrid\",\"hybrid\",\"hybrid\",\"hybrid\",\"hybrid\",\"hybrid\",\"hybrid\",\"hybrid\",\"hybrid\",\"hybrid\",\"hybrid\",\"hybrid\",\"hybrid\",\"hybrid\",\"hybrid\",\"hybrid\",\"hybrid\",\"hybrid\",\"hybrid\",\"hybrid\",\"hybrid\",\"hybrid\",\"hybrid\",\"hybrid\",\"hybrid\",\"hybrid\",\"hybrid\",\"hybrid\",\"hybrid\",\"hybrid\",\"hybrid\",\"hybrid\",\"hybrid\",\"hybrid\",\"hybrid\",\"hybrid\",\"hybrid\",\"hybrid\",\"hybrid\",\"hybrid\",\"hybrid\",\"hybrid\",\"hybrid\",\"hybrid\",\"hybrid\",\"hybrid\",\"hybrid\",\"hybrid\",\"hybrid\",\"hybrid\",\"hybrid\",\"hybrid\",\"hybrid\",\"hybrid\",\"hybrid\",\"hybrid\",\"hybrid\",\"hybrid\",\"hybrid\",\"hybrid\",\"hybrid\",\"hybrid\",\"hybrid\",\"hybrid\",\"hybrid\",\"hybrid\",\"hybrid\",\"hybrid\",\"hybrid\",\"hybrid\",\"hybrid\",\"hybrid\",\"hybrid\",\"hybrid\",\"hybrid\",\"hybrid\",\"hybrid\",\"hybrid\",\"hybrid\",\"hybrid\",\"hybrid\",\"hybrid\",\"hybrid\",\"hybrid\",\"hybrid\",\"hybrid\",\"hybrid\",\"hybrid\",\"hybrid\",\"hybrid\",\"hybrid\",\"hybrid\",\"hybrid\",\"hybrid\",\"hybrid\",\"hybrid\",\"hybrid\",\"hybrid\",\"hybrid\",\"hybrid\",\"hybrid\",\"hybrid\",\"hybrid\",\"hybrid\",\"hybrid\",\"hybrid\",\"hybrid\",\"hybrid\",\"hybrid\",\"hybrid\",\"hybrid\",\"hybrid\",\"hybrid\",\"hybrid\",\"hybrid\",\"hybrid\",\"hybrid\",\"hybrid\",\"hybrid\",\"hybrid\",\"hybrid\",\"hybrid\",\"hybrid\",\"hybrid\",\"hybrid\",\"hybrid\",\"hybrid\",\"hybrid\",\"hybrid\",\"hybrid\",\"hybrid\",\"hybrid\",\"hybrid\",\"hybrid\",\"hybrid\",\"hybrid\",\"hybrid\",\"hybrid\",\"hybrid\",\"hybrid\",\"hybrid\",\"hybrid\",\"hybrid\",\"hybrid\",\"hybrid\",\"hybrid\",\"hybrid\",\"hybrid\",\"hybrid\",\"hybrid\",\"hybrid\",\"hybrid\",\"hybrid\",\"hybrid\",\"hybrid\",\"hybrid\",\"hybrid\",\"hybrid\",\"hybrid\",\"hybrid\",\"hybrid\",\"hybrid\",\"hybrid\",\"hybrid\",\"hybrid\",\"hybrid\",\"hybrid\",\"hybrid\",\"hybrid\",\"hybrid\",\"hybrid\",\"hybrid\",\"hybrid\",\"hybrid\",\"hybrid\",\"hybrid\",\"hybrid\",\"hybrid\",\"hybrid\",\"hybrid\",\"hybrid\",\"hybrid\",\"hybrid\",\"hybrid\",\"hybrid\",\"hybrid\",\"hybrid\",\"hybrid\",\"hybrid\",\"hybrid\",\"hybrid\",\"hybrid\",\"hybrid\",\"hybrid\",\"hybrid\",\"hybrid\",\"hybrid\",\"hybrid\",\"hybrid\",\"hybrid\",\"hybrid\",\"hybrid\",\"hybrid\",\"hybrid\",\"hybrid\",\"hybrid\",\"hybrid\",\"hybrid\",\"hybrid\",\"hybrid\",\"hybrid\",\"hybrid\",\"hybrid\",\"hybrid\",\"hybrid\",\"hybrid\",\"hybrid\",\"hybrid\",\"hybrid\",\"hybrid\",\"hybrid\",\"hybrid\",\"hybrid\",\"hybrid\",\"hybrid\",\"hybrid\",\"hybrid\",\"hybrid\",\"hybrid\",\"hybrid\",\"hybrid\",\"hybrid\",\"hybrid\",\"hybrid\",\"hybrid\",\"hybrid\",\"hybrid\",\"hybrid\",\"hybrid\",\"hybrid\",\"hybrid\",\"hybrid\",\"hybrid\",\"hybrid\",\"hybrid\",\"hybrid\",\"hybrid\",\"hybrid\",\"hybrid\",\"hybrid\",\"hybrid\",\"hybrid\",\"hybrid\",\"hybrid\",\"hybrid\",\"hybrid\",\"hybrid\",\"hybrid\",\"hybrid\",\"hybrid\",\"hybrid\",\"hybrid\",\"hybrid\",\"hybrid\",\"hybrid\",\"hybrid\",\"hybrid\",\"hybrid\",\"hybrid\",\"hybrid\",\"hybrid\",\"hybrid\",\"hybrid\",\"hybrid\",\"hybrid\",\"hybrid\",\"hybrid\",\"hybrid\",\"hybrid\",\"hybrid\",\"hybrid\",\"hybrid\",\"hybrid\",\"hybrid\",\"hybrid\",\"hybrid\",\"hybrid\",\"hybrid\",\"hybrid\",\"hybrid\",\"hybrid\",\"hybrid\",\"hybrid\",\"hybrid\",\"hybrid\",\"hybrid\",\"hybrid\",\"hybrid\",\"hybrid\",\"hybrid\",\"hybrid\",\"hybrid\",\"hybrid\",\"hybrid\",\"hybrid\",\"hybrid\",\"hybrid\",\"hybrid\",\"hybrid\",\"hybrid\",\"hybrid\",\"hybrid\",\"hybrid\",\"hybrid\",\"hybrid\",\"hybrid\",\"hybrid\",\"hybrid\",\"hybrid\",\"hybrid\",\"hybrid\",\"hybrid\",\"hybrid\",\"hybrid\",\"hybrid\",\"hybrid\",\"hybrid\",\"hybrid\",\"hybrid\",\"hybrid\",\"hybrid\",\"hybrid\",\"hybrid\",\"hybrid\",\"hybrid\",\"hybrid\",\"hybrid\",\"hybrid\",\"hybrid\",\"hybrid\",\"hybrid\",\"hybrid\",\"hybrid\",\"hybrid\",\"hybrid\",\"hybrid\",\"hybrid\",\"hybrid\",\"hybrid\",\"hybrid\",\"hybrid\",\"hybrid\",\"hybrid\",\"hybrid\",\"hybrid\",\"hybrid\",\"hybrid\",\"hybrid\",\"hybrid\",\"hybrid\",\"hybrid\",\"hybrid\",\"hybrid\",\"hybrid\",\"hybrid\",\"hybrid\",\"hybrid\",\"hybrid\",\"hybrid\",\"hybrid\",\"hybrid\",\"hybrid\",\"hybrid\",\"hybrid\",\"hybrid\",\"hybrid\",\"hybrid\",\"hybrid\",\"hybrid\",\"hybrid\",\"hybrid\",\"hybrid\",\"hybrid\",\"hybrid\",\"hybrid\",\"hybrid\",\"hybrid\",\"hybrid\",\"hybrid\",\"hybrid\",\"hybrid\",\"hybrid\",\"hybrid\",\"hybrid\",\"hybrid\",\"hybrid\",\"hybrid\",\"hybrid\",\"hybrid\",\"hybrid\",\"hybrid\",\"hybrid\",\"hybrid\",\"hybrid\",\"hybrid\",\"hybrid\",\"hybrid\",\"hybrid\",\"hybrid\",\"hybrid\",\"hybrid\",\"hybrid\",\"hybrid\",\"hybrid\",\"hybrid\",\"hybrid\",\"hybrid\",\"hybrid\",\"hybrid\",\"hybrid\",\"hybrid\",\"hybrid\",\"hybrid\",\"hybrid\",\"hybrid\",\"hybrid\",\"hybrid\",\"hybrid\",\"hybrid\",\"hybrid\",\"hybrid\",\"hybrid\",\"hybrid\",\"hybrid\",\"hybrid\",\"hybrid\",\"hybrid\",\"hybrid\",\"hybrid\",\"hybrid\",\"hybrid\",\"hybrid\",\"hybrid\",\"hybrid\",\"hybrid\",\"hybrid\",\"hybrid\",\"hybrid\",\"hybrid\",\"hybrid\",\"hybrid\",\"hybrid\",\"hybrid\",\"hybrid\",\"hybrid\",\"hybrid\",\"hybrid\",\"hybrid\",\"hybrid\",\"hybrid\",\"hybrid\",\"hybrid\",\"hybrid\",\"hybrid\",\"hybrid\",\"hybrid\",\"hybrid\",\"hybrid\",\"hybrid\",\"hybrid\",\"hybrid\",\"hybrid\",\"hybrid\",\"hybrid\",\"hybrid\",\"hybrid\",\"hybrid\",\"hybrid\",\"hybrid\",\"hybrid\",\"hybrid\",\"hybrid\",\"hybrid\",\"hybrid\",\"hybrid\",\"hybrid\",\"hybrid\",\"hybrid\",\"hybrid\",\"hybrid\",\"hybrid\",\"hybrid\",\"hybrid\",\"hybrid\",\"hybrid\",\"hybrid\",\"hybrid\",\"hybrid\",\"hybrid\",\"hybrid\",\"hybrid\",\"hybrid\",\"hybrid\",\"hybrid\",\"hybrid\",\"hybrid\",\"hybrid\",\"hybrid\",\"hybrid\",\"hybrid\",\"hybrid\",\"hybrid\",\"hybrid\",\"hybrid\",\"hybrid\",\"hybrid\",\"hybrid\",\"hybrid\",\"hybrid\",\"hybrid\",\"hybrid\",\"hybrid\",\"hybrid\",\"hybrid\",\"hybrid\",\"hybrid\",\"hybrid\",\"hybrid\",\"hybrid\",\"hybrid\",\"hybrid\",\"hybrid\",\"hybrid\",\"hybrid\",\"hybrid\",\"hybrid\",\"hybrid\",\"hybrid\",\"hybrid\",\"hybrid\",\"hybrid\",\"hybrid\",\"hybrid\",\"hybrid\",\"hybrid\",\"hybrid\",\"hybrid\",\"hybrid\",\"hybrid\",\"hybrid\",\"hybrid\",\"hybrid\",\"hybrid\",\"hybrid\",\"hybrid\",\"hybrid\",\"hybrid\",\"hybrid\",\"hybrid\",\"hybrid\",\"hybrid\",\"hybrid\",\"hybrid\",\"hybrid\",\"hybrid\",\"hybrid\",\"hybrid\",\"hybrid\",\"hybrid\",\"hybrid\",\"hybrid\",\"hybrid\",\"hybrid\",\"hybrid\",\"hybrid\",\"hybrid\",\"hybrid\",\"hybrid\",\"hybrid\",\"hybrid\",\"hybrid\",\"hybrid\",\"hybrid\",\"hybrid\",\"hybrid\",\"hybrid\",\"hybrid\",\"hybrid\",\"hybrid\",\"hybrid\",\"hybrid\",\"hybrid\",\"hybrid\",\"hybrid\",\"hybrid\",\"hybrid\",\"hybrid\",\"hybrid\",\"hybrid\",\"hybrid\",\"hybrid\",\"hybrid\",\"hybrid\",\"hybrid\",\"hybrid\",\"hybrid\",\"hybrid\",\"hybrid\",\"hybrid\",\"hybrid\",\"hybrid\",\"hybrid\",\"hybrid\",\"hybrid\",\"hybrid\",\"hybrid\",\"hybrid\",\"hybrid\",\"hybrid\",\"hybrid\",\"hybrid\",\"hybrid\",\"hybrid\",\"hybrid\",\"hybrid\",\"hybrid\",\"hybrid\",\"hybrid\",\"hybrid\",\"hybrid\",\"hybrid\",\"hybrid\",\"hybrid\",\"hybrid\",\"hybrid\",\"hybrid\",\"hybrid\",\"hybrid\",\"hybrid\",\"hybrid\",\"hybrid\",\"hybrid\",\"hybrid\",\"hybrid\",\"hybrid\",\"hybrid\",\"hybrid\",\"hybrid\",\"hybrid\",\"hybrid\",\"hybrid\",\"hybrid\",\"hybrid\",\"hybrid\",\"hybrid\",\"hybrid\",\"hybrid\",\"hybrid\",\"hybrid\",\"hybrid\",\"hybrid\",\"hybrid\",\"hybrid\",\"hybrid\",\"hybrid\",\"hybrid\",\"hybrid\",\"hybrid\",\"hybrid\",\"hybrid\",\"hybrid\",\"hybrid\",\"hybrid\",\"hybrid\",\"hybrid\",\"hybrid\",\"hybrid\",\"hybrid\",\"hybrid\",\"hybrid\",\"hybrid\",\"hybrid\",\"hybrid\",\"hybrid\",\"hybrid\",\"hybrid\",\"hybrid\",\"hybrid\",\"hybrid\",\"hybrid\",\"hybrid\",\"hybrid\",\"hybrid\",\"hybrid\",\"hybrid\",\"hybrid\",\"hybrid\",\"hybrid\",\"hybrid\",\"hybrid\",\"hybrid\",\"hybrid\",\"hybrid\",\"hybrid\",\"hybrid\",\"hybrid\",\"hybrid\",\"hybrid\",\"hybrid\",\"hybrid\",\"hybrid\",\"hybrid\",\"hybrid\",\"hybrid\",\"hybrid\",\"hybrid\",\"hybrid\",\"hybrid\",\"hybrid\",\"hybrid\",\"hybrid\",\"hybrid\",\"hybrid\",\"hybrid\",\"hybrid\",\"hybrid\",\"hybrid\",\"hybrid\",\"hybrid\",\"hybrid\",\"hybrid\",\"hybrid\",\"hybrid\",\"hybrid\",\"hybrid\",\"hybrid\",\"hybrid\",\"hybrid\",\"hybrid\",\"hybrid\",\"hybrid\",\"hybrid\",\"hybrid\",\"hybrid\",\"hybrid\",\"hybrid\",\"hybrid\",\"hybrid\",\"hybrid\",\"hybrid\",\"hybrid\",\"hybrid\",\"hybrid\",\"hybrid\",\"hybrid\",\"hybrid\",\"hybrid\",\"hybrid\",\"hybrid\",\"hybrid\",\"hybrid\",\"hybrid\",\"hybrid\",\"hybrid\",\"hybrid\",\"hybrid\",\"hybrid\",\"hybrid\",\"hybrid\",\"hybrid\",\"hybrid\",\"hybrid\",\"hybrid\",\"hybrid\",\"hybrid\",\"hybrid\",\"hybrid\",\"hybrid\",\"hybrid\",\"hybrid\",\"hybrid\",\"hybrid\",\"hybrid\",\"hybrid\",\"hybrid\",\"hybrid\",\"hybrid\",\"hybrid\",\"hybrid\",\"hybrid\",\"hybrid\",\"hybrid\",\"hybrid\",\"hybrid\",\"hybrid\",\"hybrid\",\"hybrid\",\"hybrid\",\"hybrid\",\"hybrid\",\"hybrid\",\"hybrid\",\"hybrid\",\"hybrid\",\"hybrid\",\"hybrid\",\"hybrid\",\"hybrid\",\"hybrid\",\"hybrid\",\"hybrid\",\"hybrid\",\"hybrid\",\"hybrid\",\"hybrid\",\"hybrid\",\"hybrid\",\"hybrid\",\"hybrid\",\"hybrid\",\"hybrid\",\"hybrid\",\"hybrid\",\"hybrid\"],\"xaxis\":\"x2\",\"yaxis\":\"y2\",\"type\":\"histogram\"},{\"alignmentgroup\":\"True\",\"bingroup\":\"x\",\"legendgroup\":\"Full-time\",\"marker\":{\"color\":\"#1F77B4\",\"pattern\":{\"shape\":\"\"}},\"name\":\"Full-time\",\"offsetgroup\":\"Full-time\",\"orientation\":\"v\",\"showlegend\":true,\"x\":[\"Full-time\",\"Full-time\",\"Full-time\",\"Full-time\",\"Full-time\",\"Full-time\",\"Full-time\",\"Full-time\",\"Full-time\",\"Full-time\",\"Full-time\",\"Full-time\",\"Full-time\",\"Full-time\",\"Full-time\",\"Full-time\",\"Full-time\",\"Full-time\",\"Full-time\",\"Full-time\",\"Full-time\",\"Full-time\",\"Full-time\",\"Full-time\",\"Full-time\",\"Full-time\",\"Full-time\",\"Full-time\",\"Full-time\",\"Full-time\",\"Full-time\",\"Full-time\",\"Full-time\",\"Full-time\",\"Full-time\",\"Full-time\",\"Full-time\",\"Full-time\",\"Full-time\",\"Full-time\",\"Full-time\",\"Full-time\",\"Full-time\",\"Full-time\",\"Full-time\",\"Full-time\",\"Full-time\",\"Full-time\",\"Full-time\",\"Full-time\",\"Full-time\",\"Full-time\",\"Full-time\",\"Full-time\",\"Full-time\",\"Full-time\",\"Full-time\",\"Full-time\",\"Full-time\",\"Full-time\",\"Full-time\",\"Full-time\",\"Full-time\",\"Full-time\",\"Full-time\",\"Full-time\",\"Full-time\",\"Full-time\",\"Full-time\",\"Full-time\",\"Full-time\",\"Full-time\",\"Full-time\",\"Full-time\",\"Full-time\",\"Full-time\",\"Full-time\",\"Full-time\",\"Full-time\",\"Full-time\",\"Full-time\",\"Full-time\",\"Full-time\",\"Full-time\",\"Full-time\",\"Full-time\",\"Full-time\",\"Full-time\",\"Full-time\",\"Full-time\",\"Full-time\",\"Full-time\",\"Full-time\",\"Full-time\",\"Full-time\",\"Full-time\",\"Full-time\",\"Full-time\",\"Full-time\",\"Full-time\",\"Full-time\",\"Full-time\",\"Full-time\",\"Full-time\",\"Full-time\",\"Full-time\",\"Full-time\",\"Full-time\",\"Full-time\",\"Full-time\",\"Full-time\",\"Full-time\",\"Full-time\",\"Full-time\",\"Full-time\",\"Full-time\",\"Full-time\",\"Full-time\",\"Full-time\",\"Full-time\",\"Full-time\",\"Full-time\",\"Full-time\",\"Full-time\",\"Full-time\",\"Full-time\",\"Full-time\",\"Full-time\",\"Full-time\",\"Full-time\",\"Full-time\",\"Full-time\",\"Full-time\",\"Full-time\",\"Full-time\",\"Full-time\",\"Full-time\",\"Full-time\",\"Full-time\",\"Full-time\",\"Full-time\",\"Full-time\",\"Full-time\",\"Full-time\",\"Full-time\",\"Full-time\",\"Full-time\",\"Full-time\",\"Full-time\",\"Full-time\",\"Full-time\",\"Full-time\",\"Full-time\",\"Full-time\",\"Full-time\",\"Full-time\",\"Full-time\",\"Full-time\",\"Full-time\",\"Full-time\",\"Full-time\",\"Full-time\",\"Full-time\",\"Full-time\",\"Full-time\",\"Full-time\",\"Full-time\",\"Full-time\",\"Full-time\",\"Full-time\",\"Full-time\",\"Full-time\",\"Full-time\",\"Full-time\",\"Full-time\",\"Full-time\",\"Full-time\",\"Full-time\",\"Full-time\",\"Full-time\",\"Full-time\",\"Full-time\",\"Full-time\",\"Full-time\",\"Full-time\",\"Full-time\",\"Full-time\",\"Full-time\",\"Full-time\",\"Full-time\",\"Full-time\",\"Full-time\",\"Full-time\",\"Full-time\",\"Full-time\",\"Full-time\",\"Full-time\",\"Full-time\",\"Full-time\",\"Full-time\",\"Full-time\",\"Full-time\",\"Full-time\",\"Full-time\",\"Full-time\",\"Full-time\",\"Full-time\",\"Full-time\",\"Full-time\",\"Full-time\",\"Full-time\",\"Full-time\",\"Full-time\",\"Full-time\",\"Full-time\",\"Full-time\",\"Full-time\",\"Full-time\",\"Full-time\",\"Full-time\",\"Full-time\",\"Full-time\",\"Full-time\",\"Full-time\",\"Full-time\",\"Full-time\",\"Full-time\",\"Full-time\",\"Full-time\",\"Full-time\",\"Full-time\",\"Full-time\",\"Full-time\",\"Full-time\",\"Full-time\",\"Full-time\",\"Full-time\",\"Full-time\",\"Full-time\",\"Full-time\",\"Full-time\",\"Full-time\",\"Full-time\",\"Full-time\",\"Full-time\",\"Full-time\",\"Full-time\",\"Full-time\",\"Full-time\",\"Full-time\",\"Full-time\",\"Full-time\",\"Full-time\",\"Full-time\",\"Full-time\",\"Full-time\",\"Full-time\",\"Full-time\",\"Full-time\",\"Full-time\",\"Full-time\",\"Full-time\",\"Full-time\",\"Full-time\",\"Full-time\",\"Full-time\",\"Full-time\",\"Full-time\",\"Full-time\",\"Full-time\",\"Full-time\",\"Full-time\",\"Full-time\",\"Full-time\",\"Full-time\",\"Full-time\",\"Full-time\",\"Full-time\",\"Full-time\",\"Full-time\",\"Full-time\",\"Full-time\",\"Full-time\",\"Full-time\",\"Full-time\",\"Full-time\",\"Full-time\",\"Full-time\",\"Full-time\",\"Full-time\",\"Full-time\",\"Full-time\",\"Full-time\",\"Full-time\",\"Full-time\",\"Full-time\",\"Full-time\",\"Full-time\",\"Full-time\",\"Full-time\",\"Full-time\",\"Full-time\",\"Full-time\",\"Full-time\",\"Full-time\",\"Full-time\",\"Full-time\",\"Full-time\",\"Full-time\",\"Full-time\",\"Full-time\",\"Full-time\",\"Full-time\",\"Full-time\",\"Full-time\",\"Full-time\",\"Full-time\",\"Full-time\",\"Full-time\",\"Full-time\",\"Full-time\",\"Full-time\",\"Full-time\",\"Full-time\",\"Full-time\",\"Full-time\",\"Full-time\",\"Full-time\",\"Full-time\",\"Full-time\",\"Full-time\",\"Full-time\",\"Full-time\",\"Full-time\",\"Full-time\",\"Full-time\",\"Full-time\",\"Full-time\",\"Full-time\",\"Full-time\",\"Full-time\",\"Full-time\",\"Full-time\",\"Full-time\",\"Full-time\",\"Full-time\",\"Full-time\",\"Full-time\",\"Full-time\",\"Full-time\",\"Full-time\",\"Full-time\",\"Full-time\",\"Full-time\",\"Full-time\",\"Full-time\",\"Full-time\",\"Full-time\",\"Full-time\",\"Full-time\",\"Full-time\",\"Full-time\",\"Full-time\",\"Full-time\",\"Full-time\",\"Full-time\",\"Full-time\",\"Full-time\",\"Full-time\",\"Full-time\",\"Full-time\",\"Full-time\",\"Full-time\",\"Full-time\",\"Full-time\",\"Full-time\",\"Full-time\",\"Full-time\",\"Full-time\",\"Full-time\",\"Full-time\",\"Full-time\",\"Full-time\",\"Full-time\",\"Full-time\",\"Full-time\",\"Full-time\",\"Full-time\",\"Full-time\",\"Full-time\",\"Full-time\",\"Full-time\",\"Full-time\",\"Full-time\",\"Full-time\",\"Full-time\",\"Full-time\",\"Full-time\",\"Full-time\",\"Full-time\",\"Full-time\",\"Full-time\",\"Full-time\",\"Full-time\",\"Full-time\",\"Full-time\",\"Full-time\",\"Full-time\",\"Full-time\",\"Full-time\",\"Full-time\",\"Full-time\",\"Full-time\",\"Full-time\",\"Full-time\",\"Full-time\",\"Full-time\",\"Full-time\",\"Full-time\",\"Full-time\",\"Full-time\",\"Full-time\",\"Full-time\",\"Full-time\",\"Full-time\",\"Full-time\",\"Full-time\",\"Full-time\",\"Full-time\",\"Full-time\",\"Full-time\",\"Full-time\",\"Full-time\",\"Full-time\",\"Full-time\",\"Full-time\",\"Full-time\",\"Full-time\",\"Full-time\",\"Full-time\",\"Full-time\",\"Full-time\",\"Full-time\",\"Full-time\",\"Full-time\",\"Full-time\",\"Full-time\",\"Full-time\",\"Full-time\",\"Full-time\",\"Full-time\",\"Full-time\",\"Full-time\",\"Full-time\",\"Full-time\",\"Full-time\",\"Full-time\",\"Full-time\",\"Full-time\",\"Full-time\",\"Full-time\",\"Full-time\",\"Full-time\",\"Full-time\",\"Full-time\",\"Full-time\",\"Full-time\",\"Full-time\",\"Full-time\",\"Full-time\",\"Full-time\",\"Full-time\",\"Full-time\",\"Full-time\",\"Full-time\",\"Full-time\",\"Full-time\",\"Full-time\",\"Full-time\",\"Full-time\",\"Full-time\",\"Full-time\",\"Full-time\",\"Full-time\",\"Full-time\",\"Full-time\",\"Full-time\",\"Full-time\",\"Full-time\",\"Full-time\",\"Full-time\",\"Full-time\",\"Full-time\",\"Full-time\",\"Full-time\",\"Full-time\",\"Full-time\",\"Full-time\",\"Full-time\",\"Full-time\",\"Full-time\",\"Full-time\",\"Full-time\",\"Full-time\",\"Full-time\",\"Full-time\",\"Full-time\",\"Full-time\",\"Full-time\",\"Full-time\",\"Full-time\",\"Full-time\",\"Full-time\",\"Full-time\",\"Full-time\",\"Full-time\",\"Full-time\",\"Full-time\",\"Full-time\",\"Full-time\",\"Full-time\",\"Full-time\",\"Full-time\",\"Full-time\",\"Full-time\",\"Full-time\",\"Full-time\",\"Full-time\",\"Full-time\",\"Full-time\",\"Full-time\",\"Full-time\",\"Full-time\",\"Full-time\",\"Full-time\",\"Full-time\",\"Full-time\",\"Full-time\",\"Full-time\",\"Full-time\",\"Full-time\",\"Full-time\",\"Full-time\",\"Full-time\",\"Full-time\",\"Full-time\",\"Full-time\",\"Full-time\",\"Full-time\",\"Full-time\",\"Full-time\",\"Full-time\",\"Full-time\",\"Full-time\",\"Full-time\",\"Full-time\",\"Full-time\",\"Full-time\",\"Full-time\",\"Full-time\",\"Full-time\",\"Full-time\",\"Full-time\",\"Full-time\",\"Full-time\",\"Full-time\",\"Full-time\",\"Full-time\",\"Full-time\",\"Full-time\",\"Full-time\",\"Full-time\",\"Full-time\",\"Full-time\",\"Full-time\",\"Full-time\",\"Full-time\",\"Full-time\",\"Full-time\",\"Full-time\",\"Full-time\",\"Full-time\",\"Full-time\",\"Full-time\",\"Full-time\",\"Full-time\",\"Full-time\",\"Full-time\",\"Full-time\",\"Full-time\",\"Full-time\",\"Full-time\",\"Full-time\",\"Full-time\",\"Full-time\",\"Full-time\",\"Full-time\",\"Full-time\",\"Full-time\",\"Full-time\",\"Full-time\",\"Full-time\",\"Full-time\",\"Full-time\",\"Full-time\",\"Full-time\",\"Full-time\",\"Full-time\",\"Full-time\",\"Full-time\",\"Full-time\",\"Full-time\",\"Full-time\",\"Full-time\",\"Full-time\",\"Full-time\",\"Full-time\",\"Full-time\",\"Full-time\",\"Full-time\",\"Full-time\",\"Full-time\",\"Full-time\",\"Full-time\",\"Full-time\",\"Full-time\",\"Full-time\",\"Full-time\",\"Full-time\",\"Full-time\",\"Full-time\",\"Full-time\",\"Full-time\",\"Full-time\",\"Full-time\",\"Full-time\",\"Full-time\",\"Full-time\",\"Full-time\",\"Full-time\",\"Full-time\",\"Full-time\",\"Full-time\",\"Full-time\",\"Full-time\",\"Full-time\",\"Full-time\",\"Full-time\",\"Full-time\",\"Full-time\",\"Full-time\",\"Full-time\",\"Full-time\",\"Full-time\",\"Full-time\",\"Full-time\",\"Full-time\",\"Full-time\",\"Full-time\",\"Full-time\",\"Full-time\",\"Full-time\",\"Full-time\",\"Full-time\",\"Full-time\",\"Full-time\",\"Full-time\",\"Full-time\",\"Full-time\",\"Full-time\",\"Full-time\",\"Full-time\",\"Full-time\",\"Full-time\",\"Full-time\",\"Full-time\",\"Full-time\",\"Full-time\",\"Full-time\",\"Full-time\",\"Full-time\",\"Full-time\",\"Full-time\",\"Full-time\",\"Full-time\",\"Full-time\",\"Full-time\",\"Full-time\",\"Full-time\",\"Full-time\",\"Full-time\",\"Full-time\",\"Full-time\",\"Full-time\",\"Full-time\",\"Full-time\",\"Full-time\",\"Full-time\",\"Full-time\",\"Full-time\",\"Full-time\",\"Full-time\",\"Full-time\",\"Full-time\",\"Full-time\",\"Full-time\",\"Full-time\",\"Full-time\",\"Full-time\",\"Full-time\",\"Full-time\",\"Full-time\",\"Full-time\",\"Full-time\",\"Full-time\",\"Full-time\",\"Full-time\",\"Full-time\",\"Full-time\",\"Full-time\",\"Full-time\",\"Full-time\",\"Full-time\",\"Full-time\",\"Full-time\",\"Full-time\",\"Full-time\",\"Full-time\",\"Full-time\",\"Full-time\",\"Full-time\",\"Full-time\",\"Full-time\",\"Full-time\",\"Full-time\",\"Full-time\",\"Full-time\",\"Full-time\",\"Full-time\",\"Full-time\",\"Full-time\",\"Full-time\",\"Full-time\",\"Full-time\",\"Full-time\",\"Full-time\",\"Full-time\",\"Full-time\",\"Full-time\",\"Full-time\",\"Full-time\",\"Full-time\",\"Full-time\",\"Full-time\",\"Full-time\",\"Full-time\",\"Full-time\",\"Full-time\",\"Full-time\",\"Full-time\",\"Full-time\",\"Full-time\",\"Full-time\",\"Full-time\",\"Full-time\",\"Full-time\",\"Full-time\",\"Full-time\",\"Full-time\",\"Full-time\",\"Full-time\",\"Full-time\",\"Full-time\",\"Full-time\",\"Full-time\",\"Full-time\",\"Full-time\",\"Full-time\",\"Full-time\",\"Full-time\",\"Full-time\",\"Full-time\",\"Full-time\",\"Full-time\",\"Full-time\",\"Full-time\",\"Full-time\",\"Full-time\",\"Full-time\",\"Full-time\",\"Full-time\",\"Full-time\",\"Full-time\",\"Full-time\",\"Full-time\",\"Full-time\",\"Full-time\",\"Full-time\",\"Full-time\",\"Full-time\",\"Full-time\",\"Full-time\",\"Full-time\",\"Full-time\",\"Full-time\",\"Full-time\",\"Full-time\",\"Full-time\",\"Full-time\",\"Full-time\",\"Full-time\",\"Full-time\",\"Full-time\",\"Full-time\",\"Full-time\",\"Full-time\",\"Full-time\",\"Full-time\",\"Full-time\",\"Full-time\",\"Full-time\",\"Full-time\",\"Full-time\",\"Full-time\",\"Full-time\",\"Full-time\",\"Full-time\",\"Full-time\",\"Full-time\",\"Full-time\",\"Full-time\",\"Full-time\",\"Full-time\",\"Full-time\",\"Full-time\",\"Full-time\",\"Full-time\",\"Full-time\",\"Full-time\",\"Full-time\",\"Full-time\",\"Full-time\",\"Full-time\",\"Full-time\",\"Full-time\",\"Full-time\",\"Full-time\",\"Full-time\",\"Full-time\",\"Full-time\",\"Full-time\",\"Full-time\",\"Full-time\",\"Full-time\",\"Full-time\",\"Full-time\",\"Full-time\",\"Full-time\",\"Full-time\",\"Full-time\",\"Full-time\",\"Full-time\",\"Full-time\",\"Full-time\",\"Full-time\",\"Full-time\",\"Full-time\",\"Full-time\",\"Full-time\",\"Full-time\",\"Full-time\",\"Full-time\",\"Full-time\",\"Full-time\",\"Full-time\",\"Full-time\",\"Full-time\",\"Full-time\",\"Full-time\",\"Full-time\",\"Full-time\",\"Full-time\",\"Full-time\",\"Full-time\",\"Full-time\",\"Full-time\",\"Full-time\",\"Full-time\",\"Full-time\",\"Full-time\",\"Full-time\",\"Full-time\",\"Full-time\",\"Full-time\",\"Full-time\",\"Full-time\",\"Full-time\",\"Full-time\",\"Full-time\",\"Full-time\",\"Full-time\",\"Full-time\",\"Full-time\",\"Full-time\",\"Full-time\",\"Full-time\",\"Full-time\",\"Full-time\",\"Full-time\",\"Full-time\",\"Full-time\",\"Full-time\",\"Full-time\",\"Full-time\",\"Full-time\",\"Full-time\",\"Full-time\",\"Full-time\",\"Full-time\",\"Full-time\",\"Full-time\",\"Full-time\",\"Full-time\",\"Full-time\",\"Full-time\",\"Full-time\",\"Full-time\",\"Full-time\",\"Full-time\",\"Full-time\",\"Full-time\",\"Full-time\",\"Full-time\",\"Full-time\",\"Full-time\",\"Full-time\",\"Full-time\",\"Full-time\",\"Full-time\",\"Full-time\",\"Full-time\",\"Full-time\",\"Full-time\",\"Full-time\",\"Full-time\",\"Full-time\",\"Full-time\",\"Full-time\",\"Full-time\",\"Full-time\",\"Full-time\",\"Full-time\",\"Full-time\",\"Full-time\",\"Full-time\",\"Full-time\",\"Full-time\",\"Full-time\",\"Full-time\",\"Full-time\",\"Full-time\",\"Full-time\",\"Full-time\",\"Full-time\",\"Full-time\",\"Full-time\",\"Full-time\",\"Full-time\",\"Full-time\",\"Full-time\",\"Full-time\",\"Full-time\",\"Full-time\",\"Full-time\",\"Full-time\",\"Full-time\",\"Full-time\",\"Full-time\",\"Full-time\",\"Full-time\",\"Full-time\",\"Full-time\",\"Full-time\",\"Full-time\",\"Full-time\",\"Full-time\",\"Full-time\",\"Full-time\",\"Full-time\",\"Full-time\",\"Full-time\",\"Full-time\",\"Full-time\",\"Full-time\",\"Full-time\",\"Full-time\",\"Full-time\",\"Full-time\",\"Full-time\",\"Full-time\",\"Full-time\",\"Full-time\",\"Full-time\",\"Full-time\",\"Full-time\",\"Full-time\",\"Full-time\",\"Full-time\",\"Full-time\",\"Full-time\",\"Full-time\",\"Full-time\",\"Full-time\",\"Full-time\",\"Full-time\",\"Full-time\",\"Full-time\",\"Full-time\",\"Full-time\",\"Full-time\",\"Full-time\",\"Full-time\",\"Full-time\",\"Full-time\",\"Full-time\",\"Full-time\",\"Full-time\",\"Full-time\",\"Full-time\",\"Full-time\",\"Full-time\",\"Full-time\",\"Full-time\",\"Full-time\",\"Full-time\",\"Full-time\",\"Full-time\",\"Full-time\",\"Full-time\",\"Full-time\",\"Full-time\",\"Full-time\",\"Full-time\",\"Full-time\",\"Full-time\",\"Full-time\",\"Full-time\",\"Full-time\",\"Full-time\",\"Full-time\",\"Full-time\",\"Full-time\",\"Full-time\",\"Full-time\",\"Full-time\",\"Full-time\",\"Full-time\",\"Full-time\",\"Full-time\",\"Full-time\",\"Full-time\",\"Full-time\",\"Full-time\",\"Full-time\",\"Full-time\",\"Full-time\",\"Full-time\",\"Full-time\",\"Full-time\",\"Full-time\",\"Full-time\",\"Full-time\",\"Full-time\",\"Full-time\",\"Full-time\",\"Full-time\",\"Full-time\",\"Full-time\",\"Full-time\",\"Full-time\",\"Full-time\",\"Full-time\",\"Full-time\",\"Full-time\",\"Full-time\",\"Full-time\",\"Full-time\",\"Full-time\",\"Full-time\",\"Full-time\",\"Full-time\",\"Full-time\",\"Full-time\",\"Full-time\",\"Full-time\",\"Full-time\",\"Full-time\",\"Full-time\",\"Full-time\",\"Full-time\",\"Full-time\",\"Full-time\",\"Full-time\",\"Full-time\",\"Full-time\",\"Full-time\",\"Full-time\",\"Full-time\",\"Full-time\",\"Full-time\",\"Full-time\",\"Full-time\",\"Full-time\",\"Full-time\",\"Full-time\",\"Full-time\",\"Full-time\",\"Full-time\",\"Full-time\",\"Full-time\",\"Full-time\",\"Full-time\",\"Full-time\",\"Full-time\",\"Full-time\",\"Full-time\",\"Full-time\",\"Full-time\",\"Full-time\",\"Full-time\",\"Full-time\",\"Full-time\",\"Full-time\",\"Full-time\",\"Full-time\",\"Full-time\",\"Full-time\",\"Full-time\",\"Full-time\",\"Full-time\",\"Full-time\",\"Full-time\",\"Full-time\",\"Full-time\",\"Full-time\",\"Full-time\",\"Full-time\",\"Full-time\",\"Full-time\",\"Full-time\",\"Full-time\",\"Full-time\",\"Full-time\",\"Full-time\",\"Full-time\",\"Full-time\",\"Full-time\",\"Full-time\",\"Full-time\",\"Full-time\",\"Full-time\",\"Full-time\",\"Full-time\",\"Full-time\",\"Full-time\",\"Full-time\",\"Full-time\",\"Full-time\",\"Full-time\",\"Full-time\",\"Full-time\",\"Full-time\",\"Full-time\",\"Full-time\",\"Full-time\",\"Full-time\",\"Full-time\",\"Full-time\",\"Full-time\",\"Full-time\",\"Full-time\",\"Full-time\",\"Full-time\",\"Full-time\",\"Full-time\",\"Full-time\",\"Full-time\",\"Full-time\",\"Full-time\",\"Full-time\",\"Full-time\",\"Full-time\",\"Full-time\",\"Full-time\",\"Full-time\",\"Full-time\",\"Full-time\",\"Full-time\",\"Full-time\",\"Full-time\",\"Full-time\",\"Full-time\",\"Full-time\",\"Full-time\",\"Full-time\",\"Full-time\",\"Full-time\",\"Full-time\",\"Full-time\",\"Full-time\",\"Full-time\",\"Full-time\",\"Full-time\",\"Full-time\",\"Full-time\",\"Full-time\",\"Full-time\",\"Full-time\",\"Full-time\",\"Full-time\",\"Full-time\",\"Full-time\",\"Full-time\",\"Full-time\",\"Full-time\",\"Full-time\",\"Full-time\",\"Full-time\",\"Full-time\",\"Full-time\",\"Full-time\",\"Full-time\",\"Full-time\",\"Full-time\",\"Full-time\",\"Full-time\",\"Full-time\",\"Full-time\",\"Full-time\",\"Full-time\",\"Full-time\",\"Full-time\",\"Full-time\",\"Full-time\",\"Full-time\",\"Full-time\",\"Full-time\",\"Full-time\",\"Full-time\",\"Full-time\",\"Full-time\",\"Full-time\",\"Full-time\",\"Full-time\",\"Full-time\",\"Full-time\",\"Full-time\",\"Full-time\",\"Full-time\",\"Full-time\",\"Full-time\",\"Full-time\",\"Full-time\",\"Full-time\",\"Full-time\",\"Full-time\",\"Full-time\",\"Full-time\",\"Full-time\",\"Full-time\",\"Full-time\",\"Full-time\",\"Full-time\",\"Full-time\",\"Full-time\",\"Full-time\",\"Full-time\",\"Full-time\",\"Full-time\",\"Full-time\",\"Full-time\",\"Full-time\",\"Full-time\",\"Full-time\",\"Full-time\",\"Full-time\",\"Full-time\",\"Full-time\",\"Full-time\",\"Full-time\",\"Full-time\",\"Full-time\",\"Full-time\",\"Full-time\",\"Full-time\",\"Full-time\",\"Full-time\",\"Full-time\",\"Full-time\",\"Full-time\",\"Full-time\",\"Full-time\",\"Full-time\",\"Full-time\",\"Full-time\",\"Full-time\",\"Full-time\",\"Full-time\",\"Full-time\",\"Full-time\",\"Full-time\",\"Full-time\",\"Full-time\",\"Full-time\",\"Full-time\",\"Full-time\",\"Full-time\",\"Full-time\",\"Full-time\",\"Full-time\",\"Full-time\",\"Full-time\",\"Full-time\",\"Full-time\",\"Full-time\",\"Full-time\",\"Full-time\",\"Full-time\",\"Full-time\",\"Full-time\",\"Full-time\",\"Full-time\",\"Full-time\",\"Full-time\",\"Full-time\",\"Full-time\",\"Full-time\",\"Full-time\",\"Full-time\",\"Full-time\",\"Full-time\",\"Full-time\",\"Full-time\",\"Full-time\",\"Full-time\",\"Full-time\",\"Full-time\",\"Full-time\",\"Full-time\",\"Full-time\",\"Full-time\",\"Full-time\",\"Full-time\",\"Full-time\",\"Full-time\",\"Full-time\",\"Full-time\",\"Full-time\",\"Full-time\",\"Full-time\",\"Full-time\",\"Full-time\",\"Full-time\",\"Full-time\",\"Full-time\",\"Full-time\",\"Full-time\",\"Full-time\",\"Full-time\",\"Full-time\",\"Full-time\",\"Full-time\",\"Full-time\",\"Full-time\",\"Full-time\",\"Full-time\",\"Full-time\",\"Full-time\",\"Full-time\",\"Full-time\",\"Full-time\",\"Full-time\",\"Full-time\",\"Full-time\",\"Full-time\",\"Full-time\",\"Full-time\",\"Full-time\",\"Full-time\",\"Full-time\",\"Full-time\",\"Full-time\",\"Full-time\",\"Full-time\",\"Full-time\",\"Full-time\",\"Full-time\",\"Full-time\",\"Full-time\",\"Full-time\",\"Full-time\",\"Full-time\",\"Full-time\",\"Full-time\",\"Full-time\",\"Full-time\",\"Full-time\",\"Full-time\",\"Full-time\",\"Full-time\",\"Full-time\",\"Full-time\",\"Full-time\",\"Full-time\",\"Full-time\",\"Full-time\",\"Full-time\",\"Full-time\",\"Full-time\",\"Full-time\",\"Full-time\",\"Full-time\",\"Full-time\",\"Full-time\",\"Full-time\",\"Full-time\",\"Full-time\",\"Full-time\",\"Full-time\",\"Full-time\",\"Full-time\",\"Full-time\",\"Full-time\",\"Full-time\",\"Full-time\",\"Full-time\",\"Full-time\",\"Full-time\",\"Full-time\",\"Full-time\",\"Full-time\",\"Full-time\",\"Full-time\",\"Full-time\",\"Full-time\",\"Full-time\",\"Full-time\",\"Full-time\",\"Full-time\",\"Full-time\",\"Full-time\",\"Full-time\",\"Full-time\",\"Full-time\",\"Full-time\",\"Full-time\",\"Full-time\",\"Full-time\",\"Full-time\",\"Full-time\",\"Full-time\",\"Full-time\",\"Full-time\",\"Full-time\",\"Full-time\",\"Full-time\",\"Full-time\",\"Full-time\",\"Full-time\",\"Full-time\",\"Full-time\",\"Full-time\",\"Full-time\",\"Full-time\",\"Full-time\",\"Full-time\",\"Full-time\",\"Full-time\",\"Full-time\",\"Full-time\",\"Full-time\",\"Full-time\",\"Full-time\",\"Full-time\",\"Full-time\",\"Full-time\",\"Full-time\",\"Full-time\",\"Full-time\",\"Full-time\",\"Full-time\",\"Full-time\",\"Full-time\",\"Full-time\",\"Full-time\",\"Full-time\",\"Full-time\",\"Full-time\",\"Full-time\",\"Full-time\",\"Full-time\",\"Full-time\",\"Full-time\",\"Full-time\",\"Full-time\",\"Full-time\",\"Full-time\",\"Full-time\",\"Full-time\",\"Full-time\",\"Full-time\",\"Full-time\",\"Full-time\",\"Full-time\",\"Full-time\",\"Full-time\",\"Full-time\",\"Full-time\",\"Full-time\",\"Full-time\",\"Full-time\",\"Full-time\",\"Full-time\",\"Full-time\",\"Full-time\",\"Full-time\",\"Full-time\",\"Full-time\",\"Full-time\",\"Full-time\",\"Full-time\",\"Full-time\",\"Full-time\",\"Full-time\",\"Full-time\",\"Full-time\",\"Full-time\",\"Full-time\",\"Full-time\",\"Full-time\",\"Full-time\",\"Full-time\",\"Full-time\",\"Full-time\",\"Full-time\",\"Full-time\",\"Full-time\",\"Full-time\",\"Full-time\",\"Full-time\",\"Full-time\",\"Full-time\",\"Full-time\",\"Full-time\",\"Full-time\",\"Full-time\",\"Full-time\",\"Full-time\",\"Full-time\",\"Full-time\",\"Full-time\",\"Full-time\",\"Full-time\",\"Full-time\",\"Full-time\",\"Full-time\",\"Full-time\",\"Full-time\",\"Full-time\",\"Full-time\",\"Full-time\",\"Full-time\",\"Full-time\",\"Full-time\",\"Full-time\",\"Full-time\",\"Full-time\",\"Full-time\",\"Full-time\",\"Full-time\",\"Full-time\",\"Full-time\",\"Full-time\",\"Full-time\",\"Full-time\",\"Full-time\",\"Full-time\",\"Full-time\",\"Full-time\",\"Full-time\",\"Full-time\",\"Full-time\",\"Full-time\",\"Full-time\",\"Full-time\",\"Full-time\",\"Full-time\",\"Full-time\",\"Full-time\",\"Full-time\",\"Full-time\",\"Full-time\",\"Full-time\",\"Full-time\",\"Full-time\",\"Full-time\",\"Full-time\",\"Full-time\",\"Full-time\",\"Full-time\",\"Full-time\",\"Full-time\",\"Full-time\",\"Full-time\",\"Full-time\",\"Full-time\",\"Full-time\",\"Full-time\",\"Full-time\",\"Full-time\",\"Full-time\",\"Full-time\",\"Full-time\",\"Full-time\",\"Full-time\",\"Full-time\",\"Full-time\",\"Full-time\",\"Full-time\",\"Full-time\",\"Full-time\",\"Full-time\",\"Full-time\",\"Full-time\",\"Full-time\",\"Full-time\",\"Full-time\",\"Full-time\",\"Full-time\",\"Full-time\",\"Full-time\",\"Full-time\",\"Full-time\",\"Full-time\",\"Full-time\",\"Full-time\",\"Full-time\",\"Full-time\",\"Full-time\",\"Full-time\",\"Full-time\",\"Full-time\",\"Full-time\",\"Full-time\",\"Full-time\",\"Full-time\",\"Full-time\",\"Full-time\",\"Full-time\",\"Full-time\",\"Full-time\",\"Full-time\",\"Full-time\",\"Full-time\",\"Full-time\",\"Full-time\",\"Full-time\",\"Full-time\",\"Full-time\",\"Full-time\",\"Full-time\",\"Full-time\",\"Full-time\",\"Full-time\",\"Full-time\",\"Full-time\",\"Full-time\",\"Full-time\",\"Full-time\",\"Full-time\",\"Full-time\",\"Full-time\",\"Full-time\",\"Full-time\",\"Full-time\",\"Full-time\",\"Full-time\",\"Full-time\",\"Full-time\",\"Full-time\",\"Full-time\",\"Full-time\",\"Full-time\",\"Full-time\",\"Full-time\",\"Full-time\",\"Full-time\",\"Full-time\",\"Full-time\",\"Full-time\",\"Full-time\",\"Full-time\",\"Full-time\",\"Full-time\",\"Full-time\",\"Full-time\",\"Full-time\",\"Full-time\",\"Full-time\",\"Full-time\",\"Full-time\",\"Full-time\",\"Full-time\",\"Full-time\",\"Full-time\",\"Full-time\",\"Full-time\",\"Full-time\",\"Full-time\",\"Full-time\",\"Full-time\",\"Full-time\",\"Full-time\",\"Full-time\",\"Full-time\",\"Full-time\",\"Full-time\",\"Full-time\",\"Full-time\",\"Full-time\",\"Full-time\",\"Full-time\",\"Full-time\",\"Full-time\",\"Full-time\",\"Full-time\",\"Full-time\",\"Full-time\",\"Full-time\",\"Full-time\",\"Full-time\",\"Full-time\",\"Full-time\",\"Full-time\",\"Full-time\",\"Full-time\",\"Full-time\",\"Full-time\",\"Full-time\",\"Full-time\",\"Full-time\",\"Full-time\",\"Full-time\",\"Full-time\",\"Full-time\",\"Full-time\",\"Full-time\",\"Full-time\",\"Full-time\",\"Full-time\",\"Full-time\",\"Full-time\",\"Full-time\",\"Full-time\",\"Full-time\",\"Full-time\",\"Full-time\",\"Full-time\",\"Full-time\",\"Full-time\",\"Full-time\",\"Full-time\",\"Full-time\",\"Full-time\",\"Full-time\",\"Full-time\",\"Full-time\",\"Full-time\",\"Full-time\",\"Full-time\",\"Full-time\",\"Full-time\",\"Full-time\",\"Full-time\",\"Full-time\",\"Full-time\",\"Full-time\",\"Full-time\",\"Full-time\",\"Full-time\",\"Full-time\",\"Full-time\",\"Full-time\",\"Full-time\",\"Full-time\",\"Full-time\",\"Full-time\",\"Full-time\",\"Full-time\",\"Full-time\",\"Full-time\",\"Full-time\",\"Full-time\",\"Full-time\",\"Full-time\",\"Full-time\",\"Full-time\",\"Full-time\",\"Full-time\",\"Full-time\",\"Full-time\",\"Full-time\",\"Full-time\",\"Full-time\",\"Full-time\",\"Full-time\",\"Full-time\",\"Full-time\",\"Full-time\",\"Full-time\",\"Full-time\",\"Full-time\",\"Full-time\",\"Full-time\",\"Full-time\",\"Full-time\",\"Full-time\",\"Full-time\",\"Full-time\",\"Full-time\",\"Full-time\",\"Full-time\",\"Full-time\",\"Full-time\",\"Full-time\",\"Full-time\",\"Full-time\",\"Full-time\",\"Full-time\",\"Full-time\",\"Full-time\",\"Full-time\",\"Full-time\",\"Full-time\",\"Full-time\",\"Full-time\",\"Full-time\",\"Full-time\",\"Full-time\",\"Full-time\",\"Full-time\",\"Full-time\",\"Full-time\",\"Full-time\",\"Full-time\",\"Full-time\",\"Full-time\",\"Full-time\",\"Full-time\",\"Full-time\",\"Full-time\",\"Full-time\",\"Full-time\",\"Full-time\",\"Full-time\",\"Full-time\",\"Full-time\",\"Full-time\",\"Full-time\",\"Full-time\",\"Full-time\",\"Full-time\",\"Full-time\",\"Full-time\",\"Full-time\",\"Full-time\",\"Full-time\",\"Full-time\",\"Full-time\",\"Full-time\",\"Full-time\",\"Full-time\",\"Full-time\",\"Full-time\",\"Full-time\",\"Full-time\",\"Full-time\",\"Full-time\",\"Full-time\",\"Full-time\",\"Full-time\",\"Full-time\",\"Full-time\",\"Full-time\",\"Full-time\",\"Full-time\",\"Full-time\",\"Full-time\",\"Full-time\",\"Full-time\",\"Full-time\",\"Full-time\",\"Full-time\",\"Full-time\",\"Full-time\",\"Full-time\",\"Full-time\",\"Full-time\",\"Full-time\",\"Full-time\",\"Full-time\",\"Full-time\",\"Full-time\",\"Full-time\",\"Full-time\",\"Full-time\",\"Full-time\",\"Full-time\",\"Full-time\",\"Full-time\",\"Full-time\",\"Full-time\",\"Full-time\",\"Full-time\",\"Full-time\",\"Full-time\",\"Full-time\",\"Full-time\",\"Full-time\",\"Full-time\",\"Full-time\",\"Full-time\",\"Full-time\",\"Full-time\",\"Full-time\",\"Full-time\",\"Full-time\",\"Full-time\",\"Full-time\",\"Full-time\",\"Full-time\",\"Full-time\",\"Full-time\",\"Full-time\",\"Full-time\",\"Full-time\",\"Full-time\",\"Full-time\",\"Full-time\",\"Full-time\",\"Full-time\",\"Full-time\",\"Full-time\",\"Full-time\",\"Full-time\",\"Full-time\",\"Full-time\",\"Full-time\",\"Full-time\",\"Full-time\",\"Full-time\",\"Full-time\",\"Full-time\",\"Full-time\",\"Full-time\",\"Full-time\",\"Full-time\",\"Full-time\",\"Full-time\",\"Full-time\",\"Full-time\",\"Full-time\",\"Full-time\",\"Full-time\",\"Full-time\",\"Full-time\",\"Full-time\",\"Full-time\",\"Full-time\",\"Full-time\",\"Full-time\",\"Full-time\",\"Full-time\",\"Full-time\",\"Full-time\",\"Full-time\",\"Full-time\",\"Full-time\",\"Full-time\",\"Full-time\",\"Full-time\",\"Full-time\",\"Full-time\",\"Full-time\",\"Full-time\",\"Full-time\",\"Full-time\",\"Full-time\",\"Full-time\",\"Full-time\",\"Full-time\",\"Full-time\",\"Full-time\",\"Full-time\",\"Full-time\",\"Full-time\",\"Full-time\",\"Full-time\",\"Full-time\",\"Full-time\",\"Full-time\",\"Full-time\",\"Full-time\",\"Full-time\",\"Full-time\",\"Full-time\",\"Full-time\",\"Full-time\",\"Full-time\",\"Full-time\",\"Full-time\",\"Full-time\",\"Full-time\",\"Full-time\",\"Full-time\",\"Full-time\",\"Full-time\",\"Full-time\",\"Full-time\",\"Full-time\",\"Full-time\",\"Full-time\",\"Full-time\",\"Full-time\",\"Full-time\",\"Full-time\",\"Full-time\",\"Full-time\",\"Full-time\",\"Full-time\",\"Full-time\",\"Full-time\",\"Full-time\",\"Full-time\",\"Full-time\",\"Full-time\",\"Full-time\",\"Full-time\",\"Full-time\",\"Full-time\",\"Full-time\",\"Full-time\",\"Full-time\",\"Full-time\",\"Full-time\",\"Full-time\",\"Full-time\",\"Full-time\",\"Full-time\",\"Full-time\",\"Full-time\",\"Full-time\",\"Full-time\",\"Full-time\",\"Full-time\",\"Full-time\",\"Full-time\",\"Full-time\",\"Full-time\",\"Full-time\",\"Full-time\",\"Full-time\",\"Full-time\",\"Full-time\",\"Full-time\",\"Full-time\",\"Full-time\",\"Full-time\",\"Full-time\",\"Full-time\",\"Full-time\",\"Full-time\",\"Full-time\",\"Full-time\",\"Full-time\",\"Full-time\",\"Full-time\",\"Full-time\",\"Full-time\",\"Full-time\",\"Full-time\",\"Full-time\",\"Full-time\",\"Full-time\",\"Full-time\",\"Full-time\",\"Full-time\",\"Full-time\",\"Full-time\",\"Full-time\",\"Full-time\",\"Full-time\",\"Full-time\",\"Full-time\",\"Full-time\",\"Full-time\",\"Full-time\",\"Full-time\",\"Full-time\",\"Full-time\",\"Full-time\",\"Full-time\",\"Full-time\",\"Full-time\",\"Full-time\",\"Full-time\",\"Full-time\",\"Full-time\",\"Full-time\",\"Full-time\",\"Full-time\",\"Full-time\",\"Full-time\",\"Full-time\",\"Full-time\",\"Full-time\",\"Full-time\",\"Full-time\",\"Full-time\",\"Full-time\",\"Full-time\",\"Full-time\",\"Full-time\",\"Full-time\",\"Full-time\",\"Full-time\",\"Full-time\",\"Full-time\",\"Full-time\",\"Full-time\",\"Full-time\",\"Full-time\",\"Full-time\",\"Full-time\",\"Full-time\",\"Full-time\",\"Full-time\",\"Full-time\",\"Full-time\",\"Full-time\",\"Full-time\",\"Full-time\",\"Full-time\",\"Full-time\",\"Full-time\",\"Full-time\",\"Full-time\",\"Full-time\",\"Full-time\",\"Full-time\",\"Full-time\",\"Full-time\",\"Full-time\",\"Full-time\",\"Full-time\",\"Full-time\",\"Full-time\",\"Full-time\",\"Full-time\",\"Full-time\",\"Full-time\",\"Full-time\",\"Full-time\",\"Full-time\",\"Full-time\",\"Full-time\",\"Full-time\",\"Full-time\",\"Full-time\",\"Full-time\",\"Full-time\",\"Full-time\",\"Full-time\",\"Full-time\",\"Full-time\",\"Full-time\",\"Full-time\",\"Full-time\",\"Full-time\",\"Full-time\",\"Full-time\",\"Full-time\",\"Full-time\",\"Full-time\",\"Full-time\",\"Full-time\",\"Full-time\",\"Full-time\",\"Full-time\",\"Full-time\",\"Full-time\",\"Full-time\",\"Full-time\",\"Full-time\",\"Full-time\",\"Full-time\",\"Full-time\",\"Full-time\",\"Full-time\",\"Full-time\",\"Full-time\",\"Full-time\",\"Full-time\",\"Full-time\",\"Full-time\",\"Full-time\",\"Full-time\",\"Full-time\",\"Full-time\",\"Full-time\",\"Full-time\",\"Full-time\",\"Full-time\",\"Full-time\",\"Full-time\",\"Full-time\",\"Full-time\",\"Full-time\",\"Full-time\",\"Full-time\",\"Full-time\",\"Full-time\",\"Full-time\",\"Full-time\",\"Full-time\",\"Full-time\",\"Full-time\",\"Full-time\",\"Full-time\",\"Full-time\",\"Full-time\",\"Full-time\",\"Full-time\",\"Full-time\",\"Full-time\",\"Full-time\",\"Full-time\",\"Full-time\",\"Full-time\",\"Full-time\",\"Full-time\",\"Full-time\",\"Full-time\",\"Full-time\",\"Full-time\",\"Full-time\",\"Full-time\",\"Full-time\",\"Full-time\",\"Full-time\",\"Full-time\",\"Full-time\",\"Full-time\",\"Full-time\",\"Full-time\",\"Full-time\",\"Full-time\",\"Full-time\",\"Full-time\",\"Full-time\",\"Full-time\",\"Full-time\",\"Full-time\",\"Full-time\",\"Full-time\",\"Full-time\",\"Full-time\",\"Full-time\",\"Full-time\",\"Full-time\",\"Full-time\",\"Full-time\",\"Full-time\",\"Full-time\",\"Full-time\",\"Full-time\",\"Full-time\",\"Full-time\",\"Full-time\",\"Full-time\",\"Full-time\",\"Full-time\",\"Full-time\",\"Full-time\",\"Full-time\",\"Full-time\",\"Full-time\",\"Full-time\",\"Full-time\",\"Full-time\",\"Full-time\",\"Full-time\",\"Full-time\",\"Full-time\",\"Full-time\",\"Full-time\",\"Full-time\",\"Full-time\",\"Full-time\",\"Full-time\",\"Full-time\",\"Full-time\",\"Full-time\",\"Full-time\",\"Full-time\",\"Full-time\",\"Full-time\",\"Full-time\",\"Full-time\",\"Full-time\",\"Full-time\",\"Full-time\",\"Full-time\",\"Full-time\",\"Full-time\",\"Full-time\",\"Full-time\",\"Full-time\",\"Full-time\",\"Full-time\",\"Full-time\",\"Full-time\",\"Full-time\",\"Full-time\",\"Full-time\",\"Full-time\",\"Full-time\",\"Full-time\",\"Full-time\",\"Full-time\",\"Full-time\",\"Full-time\",\"Full-time\",\"Full-time\",\"Full-time\",\"Full-time\",\"Full-time\",\"Full-time\",\"Full-time\",\"Full-time\",\"Full-time\",\"Full-time\",\"Full-time\",\"Full-time\",\"Full-time\",\"Full-time\",\"Full-time\",\"Full-time\",\"Full-time\",\"Full-time\",\"Full-time\",\"Full-time\",\"Full-time\",\"Full-time\",\"Full-time\",\"Full-time\",\"Full-time\",\"Full-time\",\"Full-time\",\"Full-time\",\"Full-time\",\"Full-time\",\"Full-time\",\"Full-time\",\"Full-time\",\"Full-time\",\"Full-time\",\"Full-time\",\"Full-time\",\"Full-time\",\"Full-time\",\"Full-time\",\"Full-time\",\"Full-time\",\"Full-time\",\"Full-time\",\"Full-time\",\"Full-time\",\"Full-time\",\"Full-time\",\"Full-time\",\"Full-time\",\"Full-time\",\"Full-time\",\"Full-time\",\"Full-time\",\"Full-time\",\"Full-time\",\"Full-time\",\"Full-time\",\"Full-time\",\"Full-time\",\"Full-time\",\"Full-time\",\"Full-time\",\"Full-time\",\"Full-time\",\"Full-time\",\"Full-time\",\"Full-time\",\"Full-time\",\"Full-time\",\"Full-time\",\"Full-time\",\"Full-time\",\"Full-time\",\"Full-time\",\"Full-time\",\"Full-time\",\"Full-time\",\"Full-time\",\"Full-time\",\"Full-time\",\"Full-time\",\"Full-time\",\"Full-time\",\"Full-time\",\"Full-time\",\"Full-time\",\"Full-time\",\"Full-time\",\"Full-time\",\"Full-time\",\"Full-time\",\"Full-time\",\"Full-time\",\"Full-time\",\"Full-time\",\"Full-time\",\"Full-time\",\"Full-time\",\"Full-time\",\"Full-time\",\"Full-time\",\"Full-time\",\"Full-time\",\"Full-time\",\"Full-time\",\"Full-time\",\"Full-time\",\"Full-time\",\"Full-time\",\"Full-time\",\"Full-time\",\"Full-time\",\"Full-time\",\"Full-time\",\"Full-time\",\"Full-time\",\"Full-time\",\"Full-time\",\"Full-time\",\"Full-time\",\"Full-time\",\"Full-time\",\"Full-time\",\"Full-time\",\"Full-time\",\"Full-time\",\"Full-time\",\"Full-time\",\"Full-time\",\"Full-time\",\"Full-time\",\"Full-time\",\"Full-time\",\"Full-time\",\"Full-time\",\"Full-time\",\"Full-time\",\"Full-time\",\"Full-time\",\"Full-time\",\"Full-time\",\"Full-time\",\"Full-time\",\"Full-time\",\"Full-time\",\"Full-time\",\"Full-time\",\"Full-time\",\"Full-time\",\"Full-time\",\"Full-time\",\"Full-time\",\"Full-time\",\"Full-time\",\"Full-time\",\"Full-time\",\"Full-time\",\"Full-time\",\"Full-time\",\"Full-time\",\"Full-time\",\"Full-time\",\"Full-time\",\"Full-time\",\"Full-time\",\"Full-time\",\"Full-time\",\"Full-time\",\"Full-time\",\"Full-time\",\"Full-time\",\"Full-time\",\"Full-time\",\"Full-time\",\"Full-time\",\"Full-time\",\"Full-time\",\"Full-time\",\"Full-time\",\"Full-time\",\"Full-time\",\"Full-time\",\"Full-time\",\"Full-time\",\"Full-time\",\"Full-time\",\"Full-time\",\"Full-time\",\"Full-time\",\"Full-time\",\"Full-time\",\"Full-time\",\"Full-time\",\"Full-time\",\"Full-time\",\"Full-time\",\"Full-time\",\"Full-time\",\"Full-time\",\"Full-time\",\"Full-time\",\"Full-time\",\"Full-time\",\"Full-time\",\"Full-time\",\"Full-time\",\"Full-time\",\"Full-time\",\"Full-time\",\"Full-time\",\"Full-time\",\"Full-time\",\"Full-time\",\"Full-time\",\"Full-time\",\"Full-time\",\"Full-time\",\"Full-time\",\"Full-time\",\"Full-time\",\"Full-time\",\"Full-time\",\"Full-time\",\"Full-time\",\"Full-time\",\"Full-time\",\"Full-time\",\"Full-time\",\"Full-time\",\"Full-time\",\"Full-time\",\"Full-time\",\"Full-time\",\"Full-time\",\"Full-time\",\"Full-time\",\"Full-time\",\"Full-time\",\"Full-time\",\"Full-time\",\"Full-time\",\"Full-time\",\"Full-time\",\"Full-time\",\"Full-time\",\"Full-time\",\"Full-time\",\"Full-time\",\"Full-time\",\"Full-time\",\"Full-time\",\"Full-time\",\"Full-time\",\"Full-time\",\"Full-time\",\"Full-time\",\"Full-time\",\"Full-time\",\"Full-time\",\"Full-time\",\"Full-time\",\"Full-time\",\"Full-time\",\"Full-time\",\"Full-time\",\"Full-time\",\"Full-time\",\"Full-time\",\"Full-time\",\"Full-time\",\"Full-time\",\"Full-time\",\"Full-time\",\"Full-time\",\"Full-time\",\"Full-time\",\"Full-time\",\"Full-time\",\"Full-time\",\"Full-time\",\"Full-time\",\"Full-time\",\"Full-time\",\"Full-time\",\"Full-time\",\"Full-time\",\"Full-time\",\"Full-time\",\"Full-time\",\"Full-time\",\"Full-time\",\"Full-time\",\"Full-time\",\"Full-time\",\"Full-time\",\"Full-time\",\"Full-time\",\"Full-time\",\"Full-time\",\"Full-time\",\"Full-time\",\"Full-time\",\"Full-time\",\"Full-time\",\"Full-time\",\"Full-time\",\"Full-time\",\"Full-time\",\"Full-time\",\"Full-time\",\"Full-time\",\"Full-time\",\"Full-time\",\"Full-time\",\"Full-time\",\"Full-time\",\"Full-time\",\"Full-time\",\"Full-time\",\"Full-time\",\"Full-time\",\"Full-time\",\"Full-time\",\"Full-time\",\"Full-time\",\"Full-time\",\"Full-time\",\"Full-time\",\"Full-time\",\"Full-time\",\"Full-time\",\"Full-time\",\"Full-time\",\"Full-time\",\"Full-time\",\"Full-time\",\"Full-time\",\"Full-time\",\"Full-time\",\"Full-time\",\"Full-time\",\"Full-time\",\"Full-time\",\"Full-time\",\"Full-time\",\"Full-time\",\"Full-time\",\"Full-time\",\"Full-time\",\"Full-time\",\"Full-time\",\"Full-time\",\"Full-time\",\"Full-time\",\"Full-time\",\"Full-time\",\"Full-time\",\"Full-time\",\"Full-time\",\"Full-time\",\"Full-time\",\"Full-time\",\"Full-time\",\"Full-time\",\"Full-time\",\"Full-time\",\"Full-time\",\"Full-time\",\"Full-time\",\"Full-time\",\"Full-time\",\"Full-time\",\"Full-time\",\"Full-time\",\"Full-time\",\"Full-time\",\"Full-time\",\"Full-time\",\"Full-time\",\"Full-time\",\"Full-time\",\"Full-time\",\"Full-time\",\"Full-time\",\"Full-time\",\"Full-time\",\"Full-time\",\"Full-time\",\"Full-time\",\"Full-time\",\"Full-time\",\"Full-time\",\"Full-time\",\"Full-time\",\"Full-time\",\"Full-time\",\"Full-time\",\"Full-time\",\"Full-time\",\"Full-time\",\"Full-time\",\"Full-time\",\"Full-time\",\"Full-time\",\"Full-time\",\"Full-time\",\"Full-time\",\"Full-time\",\"Full-time\",\"Full-time\",\"Full-time\",\"Full-time\",\"Full-time\",\"Full-time\",\"Full-time\",\"Full-time\",\"Full-time\",\"Full-time\",\"Full-time\",\"Full-time\",\"Full-time\",\"Full-time\",\"Full-time\",\"Full-time\",\"Full-time\",\"Full-time\",\"Full-time\",\"Full-time\",\"Full-time\",\"Full-time\",\"Full-time\",\"Full-time\",\"Full-time\",\"Full-time\",\"Full-time\",\"Full-time\",\"Full-time\",\"Full-time\",\"Full-time\",\"Full-time\",\"Full-time\",\"Full-time\",\"Full-time\",\"Full-time\",\"Full-time\",\"Full-time\",\"Full-time\",\"Full-time\",\"Full-time\",\"Full-time\",\"Full-time\",\"Full-time\",\"Full-time\",\"Full-time\",\"Full-time\",\"Full-time\",\"Full-time\",\"Full-time\",\"Full-time\",\"Full-time\",\"Full-time\",\"Full-time\",\"Full-time\",\"Full-time\",\"Full-time\",\"Full-time\",\"Full-time\",\"Full-time\",\"Full-time\",\"Full-time\",\"Full-time\",\"Full-time\",\"Full-time\",\"Full-time\",\"Full-time\",\"Full-time\",\"Full-time\",\"Full-time\",\"Full-time\",\"Full-time\",\"Full-time\",\"Full-time\",\"Full-time\",\"Full-time\",\"Full-time\",\"Full-time\",\"Full-time\",\"Full-time\",\"Full-time\",\"Full-time\",\"Full-time\",\"Full-time\",\"Full-time\",\"Full-time\",\"Full-time\",\"Full-time\",\"Full-time\",\"Full-time\",\"Full-time\",\"Full-time\",\"Full-time\",\"Full-time\",\"Full-time\",\"Full-time\",\"Full-time\",\"Full-time\",\"Full-time\",\"Full-time\",\"Full-time\",\"Full-time\",\"Full-time\",\"Full-time\",\"Full-time\",\"Full-time\",\"Full-time\",\"Full-time\",\"Full-time\",\"Full-time\",\"Full-time\",\"Full-time\",\"Full-time\",\"Full-time\",\"Full-time\",\"Full-time\",\"Full-time\",\"Full-time\",\"Full-time\",\"Full-time\",\"Full-time\",\"Full-time\",\"Full-time\",\"Full-time\",\"Full-time\",\"Full-time\",\"Full-time\",\"Full-time\",\"Full-time\",\"Full-time\",\"Full-time\",\"Full-time\",\"Full-time\",\"Full-time\",\"Full-time\",\"Full-time\",\"Full-time\",\"Full-time\",\"Full-time\",\"Full-time\",\"Full-time\",\"Full-time\",\"Full-time\",\"Full-time\",\"Full-time\",\"Full-time\",\"Full-time\",\"Full-time\",\"Full-time\",\"Full-time\",\"Full-time\",\"Full-time\",\"Full-time\",\"Full-time\",\"Full-time\",\"Full-time\",\"Full-time\",\"Full-time\",\"Full-time\",\"Full-time\",\"Full-time\",\"Full-time\",\"Full-time\",\"Full-time\",\"Full-time\",\"Full-time\",\"Full-time\",\"Full-time\",\"Full-time\",\"Full-time\",\"Full-time\",\"Full-time\",\"Full-time\",\"Full-time\",\"Full-time\",\"Full-time\",\"Full-time\",\"Full-time\",\"Full-time\",\"Full-time\",\"Full-time\",\"Full-time\",\"Full-time\",\"Full-time\",\"Full-time\",\"Full-time\",\"Full-time\",\"Full-time\",\"Full-time\",\"Full-time\",\"Full-time\",\"Full-time\",\"Full-time\",\"Full-time\",\"Full-time\",\"Full-time\",\"Full-time\",\"Full-time\",\"Full-time\",\"Full-time\",\"Full-time\",\"Full-time\",\"Full-time\",\"Full-time\",\"Full-time\",\"Full-time\",\"Full-time\",\"Full-time\",\"Full-time\",\"Full-time\",\"Full-time\",\"Full-time\",\"Full-time\",\"Full-time\",\"Full-time\",\"Full-time\",\"Full-time\",\"Full-time\",\"Full-time\",\"Full-time\",\"Full-time\",\"Full-time\",\"Full-time\",\"Full-time\",\"Full-time\",\"Full-time\",\"Full-time\",\"Full-time\",\"Full-time\",\"Full-time\",\"Full-time\",\"Full-time\",\"Full-time\",\"Full-time\",\"Full-time\",\"Full-time\",\"Full-time\",\"Full-time\",\"Full-time\",\"Full-time\",\"Full-time\",\"Full-time\",\"Full-time\",\"Full-time\",\"Full-time\",\"Full-time\",\"Full-time\",\"Full-time\",\"Full-time\",\"Full-time\",\"Full-time\",\"Full-time\",\"Full-time\",\"Full-time\",\"Full-time\",\"Full-time\",\"Full-time\",\"Full-time\",\"Full-time\",\"Full-time\",\"Full-time\",\"Full-time\",\"Full-time\",\"Full-time\",\"Full-time\",\"Full-time\",\"Full-time\",\"Full-time\",\"Full-time\",\"Full-time\",\"Full-time\",\"Full-time\",\"Full-time\",\"Full-time\",\"Full-time\",\"Full-time\",\"Full-time\",\"Full-time\",\"Full-time\",\"Full-time\",\"Full-time\",\"Full-time\",\"Full-time\",\"Full-time\",\"Full-time\",\"Full-time\",\"Full-time\",\"Full-time\",\"Full-time\",\"Full-time\",\"Full-time\",\"Full-time\",\"Full-time\",\"Full-time\",\"Full-time\",\"Full-time\",\"Full-time\",\"Full-time\",\"Full-time\",\"Full-time\",\"Full-time\",\"Full-time\",\"Full-time\",\"Full-time\",\"Full-time\",\"Full-time\",\"Full-time\",\"Full-time\",\"Full-time\",\"Full-time\",\"Full-time\",\"Full-time\",\"Full-time\",\"Full-time\",\"Full-time\",\"Full-time\",\"Full-time\",\"Full-time\",\"Full-time\",\"Full-time\",\"Full-time\",\"Full-time\",\"Full-time\",\"Full-time\",\"Full-time\",\"Full-time\",\"Full-time\",\"Full-time\",\"Full-time\",\"Full-time\",\"Full-time\",\"Full-time\",\"Full-time\",\"Full-time\",\"Full-time\",\"Full-time\",\"Full-time\",\"Full-time\",\"Full-time\",\"Full-time\",\"Full-time\",\"Full-time\",\"Full-time\",\"Full-time\",\"Full-time\",\"Full-time\",\"Full-time\",\"Full-time\",\"Full-time\",\"Full-time\",\"Full-time\",\"Full-time\",\"Full-time\",\"Full-time\",\"Full-time\",\"Full-time\",\"Full-time\",\"Full-time\",\"Full-time\",\"Full-time\",\"Full-time\",\"Full-time\",\"Full-time\",\"Full-time\",\"Full-time\",\"Full-time\",\"Full-time\",\"Full-time\",\"Full-time\",\"Full-time\",\"Full-time\",\"Full-time\",\"Full-time\",\"Full-time\",\"Full-time\",\"Full-time\",\"Full-time\",\"Full-time\",\"Full-time\",\"Full-time\",\"Full-time\",\"Full-time\",\"Full-time\",\"Full-time\",\"Full-time\",\"Full-time\",\"Full-time\",\"Full-time\",\"Full-time\",\"Full-time\",\"Full-time\",\"Full-time\",\"Full-time\",\"Full-time\",\"Full-time\",\"Full-time\",\"Full-time\",\"Full-time\",\"Full-time\",\"Full-time\",\"Full-time\",\"Full-time\",\"Full-time\",\"Full-time\",\"Full-time\",\"Full-time\",\"Full-time\",\"Full-time\",\"Full-time\",\"Full-time\",\"Full-time\",\"Full-time\",\"Full-time\",\"Full-time\",\"Full-time\",\"Full-time\",\"Full-time\",\"Full-time\",\"Full-time\",\"Full-time\",\"Full-time\",\"Full-time\",\"Full-time\",\"Full-time\",\"Full-time\",\"Full-time\",\"Full-time\",\"Full-time\",\"Full-time\",\"Full-time\",\"Full-time\",\"Full-time\",\"Full-time\",\"Full-time\",\"Full-time\",\"Full-time\",\"Full-time\",\"Full-time\",\"Full-time\",\"Full-time\",\"Full-time\",\"Full-time\",\"Full-time\",\"Full-time\",\"Full-time\",\"Full-time\",\"Full-time\",\"Full-time\",\"Full-time\",\"Full-time\",\"Full-time\",\"Full-time\",\"Full-time\",\"Full-time\",\"Full-time\",\"Full-time\",\"Full-time\",\"Full-time\",\"Full-time\",\"Full-time\",\"Full-time\",\"Full-time\",\"Full-time\",\"Full-time\",\"Full-time\",\"Full-time\",\"Full-time\",\"Full-time\",\"Full-time\",\"Full-time\",\"Full-time\",\"Full-time\",\"Full-time\",\"Full-time\",\"Full-time\",\"Full-time\",\"Full-time\",\"Full-time\",\"Full-time\",\"Full-time\",\"Full-time\",\"Full-time\",\"Full-time\",\"Full-time\",\"Full-time\",\"Full-time\",\"Full-time\",\"Full-time\",\"Full-time\",\"Full-time\",\"Full-time\",\"Full-time\",\"Full-time\",\"Full-time\",\"Full-time\",\"Full-time\",\"Full-time\",\"Full-time\",\"Full-time\",\"Full-time\",\"Full-time\",\"Full-time\",\"Full-time\",\"Full-time\",\"Full-time\",\"Full-time\",\"Full-time\",\"Full-time\",\"Full-time\",\"Full-time\",\"Full-time\",\"Full-time\",\"Full-time\",\"Full-time\",\"Full-time\",\"Full-time\",\"Full-time\",\"Full-time\",\"Full-time\",\"Full-time\",\"Full-time\",\"Full-time\",\"Full-time\",\"Full-time\",\"Full-time\",\"Full-time\",\"Full-time\",\"Full-time\",\"Full-time\",\"Full-time\",\"Full-time\",\"Full-time\",\"Full-time\",\"Full-time\",\"Full-time\",\"Full-time\",\"Full-time\",\"Full-time\",\"Full-time\",\"Full-time\",\"Full-time\",\"Full-time\",\"Full-time\",\"Full-time\",\"Full-time\",\"Full-time\",\"Full-time\",\"Full-time\",\"Full-time\",\"Full-time\",\"Full-time\",\"Full-time\",\"Full-time\",\"Full-time\",\"Full-time\",\"Full-time\",\"Full-time\",\"Full-time\",\"Full-time\",\"Full-time\",\"Full-time\",\"Full-time\",\"Full-time\",\"Full-time\",\"Full-time\",\"Full-time\",\"Full-time\",\"Full-time\",\"Full-time\",\"Full-time\",\"Full-time\",\"Full-time\",\"Full-time\",\"Full-time\",\"Full-time\",\"Full-time\",\"Full-time\",\"Full-time\",\"Full-time\",\"Full-time\",\"Full-time\",\"Full-time\",\"Full-time\",\"Full-time\",\"Full-time\",\"Full-time\",\"Full-time\",\"Full-time\",\"Full-time\",\"Full-time\",\"Full-time\",\"Full-time\",\"Full-time\",\"Full-time\",\"Full-time\",\"Full-time\",\"Full-time\",\"Full-time\",\"Full-time\",\"Full-time\",\"Full-time\",\"Full-time\",\"Full-time\",\"Full-time\",\"Full-time\",\"Full-time\",\"Full-time\",\"Full-time\",\"Full-time\",\"Full-time\",\"Full-time\",\"Full-time\",\"Full-time\",\"Full-time\",\"Full-time\",\"Full-time\",\"Full-time\",\"Full-time\",\"Full-time\",\"Full-time\",\"Full-time\",\"Full-time\",\"Full-time\",\"Full-time\",\"Full-time\",\"Full-time\",\"Full-time\",\"Full-time\",\"Full-time\",\"Full-time\",\"Full-time\",\"Full-time\",\"Full-time\",\"Full-time\",\"Full-time\",\"Full-time\",\"Full-time\",\"Full-time\",\"Full-time\",\"Full-time\",\"Full-time\",\"Full-time\",\"Full-time\",\"Full-time\",\"Full-time\",\"Full-time\",\"Full-time\",\"Full-time\",\"Full-time\",\"Full-time\",\"Full-time\",\"Full-time\",\"Full-time\",\"Full-time\",\"Full-time\",\"Full-time\",\"Full-time\",\"Full-time\",\"Full-time\",\"Full-time\",\"Full-time\",\"Full-time\",\"Full-time\",\"Full-time\",\"Full-time\",\"Full-time\",\"Full-time\",\"Full-time\",\"Full-time\",\"Full-time\",\"Full-time\",\"Full-time\",\"Full-time\",\"Full-time\",\"Full-time\",\"Full-time\",\"Full-time\",\"Full-time\",\"Full-time\",\"Full-time\",\"Full-time\",\"Full-time\",\"Full-time\",\"Full-time\",\"Full-time\",\"Full-time\",\"Full-time\",\"Full-time\",\"Full-time\",\"Full-time\",\"Full-time\",\"Full-time\",\"Full-time\",\"Full-time\",\"Full-time\",\"Full-time\",\"Full-time\",\"Full-time\",\"Full-time\",\"Full-time\",\"Full-time\",\"Full-time\",\"Full-time\",\"Full-time\",\"Full-time\",\"Full-time\",\"Full-time\",\"Full-time\",\"Full-time\",\"Full-time\",\"Full-time\",\"Full-time\",\"Full-time\",\"Full-time\",\"Full-time\",\"Full-time\",\"Full-time\",\"Full-time\",\"Full-time\",\"Full-time\",\"Full-time\",\"Full-time\",\"Full-time\",\"Full-time\",\"Full-time\",\"Full-time\",\"Full-time\",\"Full-time\",\"Full-time\",\"Full-time\",\"Full-time\",\"Full-time\",\"Full-time\",\"Full-time\",\"Full-time\",\"Full-time\",\"Full-time\",\"Full-time\",\"Full-time\",\"Full-time\",\"Full-time\",\"Full-time\",\"Full-time\",\"Full-time\",\"Full-time\",\"Full-time\",\"Full-time\",\"Full-time\",\"Full-time\",\"Full-time\",\"Full-time\",\"Full-time\",\"Full-time\",\"Full-time\",\"Full-time\",\"Full-time\",\"Full-time\",\"Full-time\",\"Full-time\",\"Full-time\",\"Full-time\",\"Full-time\",\"Full-time\",\"Full-time\",\"Full-time\",\"Full-time\",\"Full-time\",\"Full-time\",\"Full-time\",\"Full-time\",\"Full-time\",\"Full-time\",\"Full-time\",\"Full-time\",\"Full-time\",\"Full-time\",\"Full-time\",\"Full-time\",\"Full-time\",\"Full-time\",\"Full-time\",\"Full-time\",\"Full-time\",\"Full-time\",\"Full-time\",\"Full-time\",\"Full-time\",\"Full-time\",\"Full-time\",\"Full-time\",\"Full-time\",\"Full-time\",\"Full-time\",\"Full-time\",\"Full-time\",\"Full-time\",\"Full-time\",\"Full-time\",\"Full-time\",\"Full-time\",\"Full-time\",\"Full-time\",\"Full-time\",\"Full-time\",\"Full-time\",\"Full-time\",\"Full-time\",\"Full-time\",\"Full-time\",\"Full-time\",\"Full-time\",\"Full-time\",\"Full-time\",\"Full-time\",\"Full-time\",\"Full-time\",\"Full-time\",\"Full-time\",\"Full-time\",\"Full-time\",\"Full-time\",\"Full-time\",\"Full-time\",\"Full-time\",\"Full-time\",\"Full-time\",\"Full-time\",\"Full-time\",\"Full-time\",\"Full-time\",\"Full-time\",\"Full-time\",\"Full-time\",\"Full-time\",\"Full-time\",\"Full-time\",\"Full-time\",\"Full-time\",\"Full-time\",\"Full-time\",\"Full-time\",\"Full-time\",\"Full-time\",\"Full-time\",\"Full-time\",\"Full-time\",\"Full-time\",\"Full-time\",\"Full-time\",\"Full-time\",\"Full-time\",\"Full-time\",\"Full-time\",\"Full-time\",\"Full-time\",\"Full-time\",\"Full-time\",\"Full-time\",\"Full-time\",\"Full-time\",\"Full-time\",\"Full-time\",\"Full-time\",\"Full-time\",\"Full-time\",\"Full-time\",\"Full-time\",\"Full-time\",\"Full-time\",\"Full-time\",\"Full-time\",\"Full-time\",\"Full-time\",\"Full-time\",\"Full-time\",\"Full-time\",\"Full-time\",\"Full-time\",\"Full-time\",\"Full-time\",\"Full-time\",\"Full-time\",\"Full-time\",\"Full-time\",\"Full-time\",\"Full-time\",\"Full-time\",\"Full-time\",\"Full-time\",\"Full-time\",\"Full-time\",\"Full-time\",\"Full-time\",\"Full-time\",\"Full-time\",\"Full-time\",\"Full-time\",\"Full-time\",\"Full-time\",\"Full-time\",\"Full-time\",\"Full-time\",\"Full-time\",\"Full-time\",\"Full-time\",\"Full-time\",\"Full-time\",\"Full-time\",\"Full-time\",\"Full-time\",\"Full-time\",\"Full-time\",\"Full-time\",\"Full-time\",\"Full-time\",\"Full-time\",\"Full-time\",\"Full-time\",\"Full-time\",\"Full-time\",\"Full-time\",\"Full-time\",\"Full-time\",\"Full-time\",\"Full-time\",\"Full-time\",\"Full-time\",\"Full-time\",\"Full-time\",\"Full-time\",\"Full-time\",\"Full-time\",\"Full-time\",\"Full-time\",\"Full-time\",\"Full-time\",\"Full-time\",\"Full-time\",\"Full-time\",\"Full-time\",\"Full-time\",\"Full-time\",\"Full-time\",\"Full-time\",\"Full-time\",\"Full-time\",\"Full-time\",\"Full-time\",\"Full-time\",\"Full-time\",\"Full-time\",\"Full-time\",\"Full-time\",\"Full-time\",\"Full-time\",\"Full-time\",\"Full-time\",\"Full-time\",\"Full-time\",\"Full-time\",\"Full-time\",\"Full-time\",\"Full-time\",\"Full-time\",\"Full-time\",\"Full-time\",\"Full-time\",\"Full-time\",\"Full-time\",\"Full-time\",\"Full-time\",\"Full-time\",\"Full-time\",\"Full-time\",\"Full-time\",\"Full-time\",\"Full-time\",\"Full-time\",\"Full-time\",\"Full-time\",\"Full-time\",\"Full-time\",\"Full-time\",\"Full-time\",\"Full-time\",\"Full-time\",\"Full-time\",\"Full-time\",\"Full-time\",\"Full-time\",\"Full-time\",\"Full-time\",\"Full-time\",\"Full-time\",\"Full-time\",\"Full-time\",\"Full-time\",\"Full-time\",\"Full-time\",\"Full-time\",\"Full-time\",\"Full-time\",\"Full-time\",\"Full-time\",\"Full-time\",\"Full-time\",\"Full-time\",\"Full-time\",\"Full-time\",\"Full-time\",\"Full-time\",\"Full-time\",\"Full-time\",\"Full-time\",\"Full-time\",\"Full-time\",\"Full-time\",\"Full-time\",\"Full-time\",\"Full-time\",\"Full-time\",\"Full-time\",\"Full-time\",\"Full-time\",\"Full-time\",\"Full-time\",\"Full-time\",\"Full-time\",\"Full-time\",\"Full-time\",\"Full-time\",\"Full-time\",\"Full-time\",\"Full-time\",\"Full-time\",\"Full-time\",\"Full-time\",\"Full-time\",\"Full-time\",\"Full-time\",\"Full-time\",\"Full-time\",\"Full-time\",\"Full-time\",\"Full-time\",\"Full-time\",\"Full-time\",\"Full-time\",\"Full-time\",\"Full-time\",\"Full-time\",\"Full-time\",\"Full-time\",\"Full-time\",\"Full-time\",\"Full-time\",\"Full-time\",\"Full-time\",\"Full-time\",\"Full-time\",\"Full-time\",\"Full-time\",\"Full-time\",\"Full-time\",\"Full-time\",\"Full-time\",\"Full-time\",\"Full-time\",\"Full-time\",\"Full-time\",\"Full-time\",\"Full-time\",\"Full-time\",\"Full-time\",\"Full-time\",\"Full-time\",\"Full-time\",\"Full-time\",\"Full-time\",\"Full-time\",\"Full-time\",\"Full-time\",\"Full-time\",\"Full-time\",\"Full-time\",\"Full-time\",\"Full-time\",\"Full-time\",\"Full-time\",\"Full-time\",\"Full-time\",\"Full-time\",\"Full-time\",\"Full-time\",\"Full-time\",\"Full-time\",\"Full-time\",\"Full-time\",\"Full-time\",\"Full-time\",\"Full-time\",\"Full-time\",\"Full-time\",\"Full-time\",\"Full-time\",\"Full-time\",\"Full-time\",\"Full-time\",\"Full-time\",\"Full-time\",\"Full-time\",\"Full-time\",\"Full-time\",\"Full-time\",\"Full-time\",\"Full-time\",\"Full-time\",\"Full-time\",\"Full-time\",\"Full-time\",\"Full-time\",\"Full-time\",\"Full-time\",\"Full-time\",\"Full-time\",\"Full-time\",\"Full-time\",\"Full-time\",\"Full-time\",\"Full-time\",\"Full-time\",\"Full-time\",\"Full-time\",\"Full-time\",\"Full-time\",\"Full-time\",\"Full-time\",\"Full-time\",\"Full-time\",\"Full-time\",\"Full-time\",\"Full-time\",\"Full-time\",\"Full-time\",\"Full-time\",\"Full-time\",\"Full-time\",\"Full-time\",\"Full-time\",\"Full-time\",\"Full-time\",\"Full-time\",\"Full-time\",\"Full-time\",\"Full-time\",\"Full-time\",\"Full-time\",\"Full-time\",\"Full-time\",\"Full-time\",\"Full-time\",\"Full-time\",\"Full-time\",\"Full-time\",\"Full-time\",\"Full-time\",\"Full-time\",\"Full-time\",\"Full-time\",\"Full-time\",\"Full-time\",\"Full-time\",\"Full-time\",\"Full-time\",\"Full-time\",\"Full-time\",\"Full-time\",\"Full-time\",\"Full-time\",\"Full-time\",\"Full-time\",\"Full-time\",\"Full-time\",\"Full-time\",\"Full-time\",\"Full-time\",\"Full-time\",\"Full-time\",\"Full-time\",\"Full-time\",\"Full-time\",\"Full-time\",\"Full-time\",\"Full-time\",\"Full-time\",\"Full-time\",\"Full-time\",\"Full-time\",\"Full-time\",\"Full-time\",\"Full-time\",\"Full-time\",\"Full-time\",\"Full-time\",\"Full-time\",\"Full-time\",\"Full-time\",\"Full-time\",\"Full-time\",\"Full-time\",\"Full-time\",\"Full-time\",\"Full-time\",\"Full-time\",\"Full-time\",\"Full-time\",\"Full-time\",\"Full-time\",\"Full-time\",\"Full-time\",\"Full-time\",\"Full-time\",\"Full-time\",\"Full-time\",\"Full-time\",\"Full-time\",\"Full-time\",\"Full-time\",\"Full-time\",\"Full-time\",\"Full-time\",\"Full-time\",\"Full-time\",\"Full-time\",\"Full-time\",\"Full-time\",\"Full-time\",\"Full-time\",\"Full-time\",\"Full-time\",\"Full-time\",\"Full-time\",\"Full-time\",\"Full-time\",\"Full-time\",\"Full-time\",\"Full-time\",\"Full-time\",\"Full-time\",\"Full-time\",\"Full-time\",\"Full-time\",\"Full-time\",\"Full-time\",\"Full-time\",\"Full-time\",\"Full-time\",\"Full-time\",\"Full-time\",\"Full-time\",\"Full-time\",\"Full-time\",\"Full-time\",\"Full-time\",\"Full-time\",\"Full-time\",\"Full-time\",\"Full-time\",\"Full-time\",\"Full-time\",\"Full-time\",\"Full-time\",\"Full-time\",\"Full-time\",\"Full-time\",\"Full-time\",\"Full-time\",\"Full-time\",\"Full-time\",\"Full-time\",\"Full-time\",\"Full-time\",\"Full-time\",\"Full-time\",\"Full-time\",\"Full-time\",\"Full-time\",\"Full-time\",\"Full-time\",\"Full-time\",\"Full-time\",\"Full-time\",\"Full-time\",\"Full-time\",\"Full-time\",\"Full-time\",\"Full-time\",\"Full-time\",\"Full-time\",\"Full-time\",\"Full-time\",\"Full-time\",\"Full-time\",\"Full-time\",\"Full-time\",\"Full-time\",\"Full-time\",\"Full-time\",\"Full-time\",\"Full-time\",\"Full-time\",\"Full-time\",\"Full-time\",\"Full-time\",\"Full-time\",\"Full-time\",\"Full-time\",\"Full-time\",\"Full-time\",\"Full-time\",\"Full-time\",\"Full-time\",\"Full-time\",\"Full-time\",\"Full-time\",\"Full-time\",\"Full-time\",\"Full-time\",\"Full-time\",\"Full-time\",\"Full-time\",\"Full-time\",\"Full-time\",\"Full-time\",\"Full-time\",\"Full-time\",\"Full-time\",\"Full-time\",\"Full-time\",\"Full-time\",\"Full-time\",\"Full-time\",\"Full-time\",\"Full-time\",\"Full-time\",\"Full-time\",\"Full-time\",\"Full-time\",\"Full-time\",\"Full-time\",\"Full-time\",\"Full-time\",\"Full-time\",\"Full-time\",\"Full-time\",\"Full-time\",\"Full-time\",\"Full-time\",\"Full-time\",\"Full-time\",\"Full-time\",\"Full-time\",\"Full-time\",\"Full-time\",\"Full-time\",\"Full-time\",\"Full-time\",\"Full-time\",\"Full-time\",\"Full-time\",\"Full-time\",\"Full-time\",\"Full-time\",\"Full-time\",\"Full-time\",\"Full-time\",\"Full-time\",\"Full-time\",\"Full-time\",\"Full-time\",\"Full-time\",\"Full-time\",\"Full-time\",\"Full-time\",\"Full-time\",\"Full-time\",\"Full-time\",\"Full-time\",\"Full-time\",\"Full-time\",\"Full-time\",\"Full-time\",\"Full-time\",\"Full-time\",\"Full-time\",\"Full-time\",\"Full-time\",\"Full-time\",\"Full-time\",\"Full-time\",\"Full-time\",\"Full-time\",\"Full-time\",\"Full-time\",\"Full-time\",\"Full-time\",\"Full-time\",\"Full-time\",\"Full-time\",\"Full-time\",\"Full-time\",\"Full-time\",\"Full-time\",\"Full-time\",\"Full-time\",\"Full-time\",\"Full-time\",\"Full-time\",\"Full-time\",\"Full-time\",\"Full-time\",\"Full-time\",\"Full-time\",\"Full-time\",\"Full-time\",\"Full-time\",\"Full-time\",\"Full-time\",\"Full-time\",\"Full-time\",\"Full-time\",\"Full-time\",\"Full-time\",\"Full-time\",\"Full-time\",\"Full-time\",\"Full-time\",\"Full-time\",\"Full-time\",\"Full-time\",\"Full-time\",\"Full-time\",\"Full-time\",\"Full-time\",\"Full-time\",\"Full-time\",\"Full-time\",\"Full-time\",\"Full-time\",\"Full-time\",\"Full-time\",\"Full-time\",\"Full-time\",\"Full-time\",\"Full-time\",\"Full-time\",\"Full-time\",\"Full-time\",\"Full-time\",\"Full-time\",\"Full-time\",\"Full-time\",\"Full-time\",\"Full-time\",\"Full-time\",\"Full-time\",\"Full-time\",\"Full-time\",\"Full-time\",\"Full-time\",\"Full-time\",\"Full-time\",\"Full-time\",\"Full-time\",\"Full-time\",\"Full-time\",\"Full-time\",\"Full-time\",\"Full-time\",\"Full-time\",\"Full-time\",\"Full-time\",\"Full-time\",\"Full-time\",\"Full-time\",\"Full-time\"],\"xaxis\":\"x3\",\"yaxis\":\"y3\",\"type\":\"histogram\"},{\"alignmentgroup\":\"True\",\"bingroup\":\"x\",\"legendgroup\":\"Contract\",\"marker\":{\"color\":\"#2CA02C\",\"pattern\":{\"shape\":\"\"}},\"name\":\"Contract\",\"offsetgroup\":\"Contract\",\"orientation\":\"v\",\"showlegend\":true,\"x\":[\"Contract\",\"Contract\",\"Contract\",\"Contract\",\"Contract\",\"Contract\",\"Contract\",\"Contract\",\"Contract\",\"Contract\",\"Contract\",\"Contract\",\"Contract\",\"Contract\",\"Contract\",\"Contract\",\"Contract\",\"Contract\",\"Contract\",\"Contract\",\"Contract\",\"Contract\",\"Contract\",\"Contract\",\"Contract\",\"Contract\",\"Contract\",\"Contract\",\"Contract\",\"Contract\",\"Contract\",\"Contract\",\"Contract\",\"Contract\",\"Contract\",\"Contract\",\"Contract\",\"Contract\",\"Contract\",\"Contract\",\"Contract\",\"Contract\",\"Contract\",\"Contract\",\"Contract\",\"Contract\",\"Contract\",\"Contract\",\"Contract\",\"Contract\",\"Contract\",\"Contract\",\"Contract\",\"Contract\",\"Contract\",\"Contract\",\"Contract\",\"Contract\",\"Contract\",\"Contract\",\"Contract\",\"Contract\",\"Contract\",\"Contract\",\"Contract\",\"Contract\",\"Contract\",\"Contract\",\"Contract\",\"Contract\",\"Contract\",\"Contract\",\"Contract\",\"Contract\",\"Contract\",\"Contract\",\"Contract\",\"Contract\",\"Contract\",\"Contract\",\"Contract\",\"Contract\",\"Contract\",\"Contract\",\"Contract\",\"Contract\",\"Contract\",\"Contract\",\"Contract\",\"Contract\",\"Contract\",\"Contract\",\"Contract\",\"Contract\",\"Contract\",\"Contract\",\"Contract\",\"Contract\",\"Contract\",\"Contract\",\"Contract\",\"Contract\",\"Contract\",\"Contract\",\"Contract\",\"Contract\",\"Contract\",\"Contract\",\"Contract\",\"Contract\",\"Contract\",\"Contract\",\"Contract\",\"Contract\",\"Contract\",\"Contract\",\"Contract\",\"Contract\",\"Contract\",\"Contract\",\"Contract\",\"Contract\",\"Contract\",\"Contract\",\"Contract\",\"Contract\",\"Contract\",\"Contract\",\"Contract\",\"Contract\",\"Contract\",\"Contract\",\"Contract\",\"Contract\",\"Contract\",\"Contract\",\"Contract\",\"Contract\",\"Contract\",\"Contract\",\"Contract\",\"Contract\",\"Contract\",\"Contract\",\"Contract\",\"Contract\",\"Contract\",\"Contract\",\"Contract\",\"Contract\",\"Contract\",\"Contract\",\"Contract\",\"Contract\",\"Contract\",\"Contract\",\"Contract\",\"Contract\",\"Contract\",\"Contract\",\"Contract\",\"Contract\",\"Contract\",\"Contract\",\"Contract\",\"Contract\",\"Contract\",\"Contract\",\"Contract\",\"Contract\",\"Contract\",\"Contract\",\"Contract\",\"Contract\",\"Contract\",\"Contract\",\"Contract\",\"Contract\",\"Contract\",\"Contract\",\"Contract\",\"Contract\",\"Contract\",\"Contract\",\"Contract\",\"Contract\",\"Contract\",\"Contract\",\"Contract\",\"Contract\",\"Contract\",\"Contract\",\"Contract\",\"Contract\",\"Contract\",\"Contract\",\"Contract\",\"Contract\",\"Contract\",\"Contract\",\"Contract\",\"Contract\",\"Contract\",\"Contract\",\"Contract\",\"Contract\",\"Contract\",\"Contract\",\"Contract\",\"Contract\",\"Contract\",\"Contract\",\"Contract\",\"Contract\",\"Contract\",\"Contract\",\"Contract\",\"Contract\",\"Contract\",\"Contract\",\"Contract\",\"Contract\",\"Contract\",\"Contract\",\"Contract\",\"Contract\",\"Contract\",\"Contract\",\"Contract\",\"Contract\",\"Contract\",\"Contract\",\"Contract\",\"Contract\",\"Contract\",\"Contract\",\"Contract\",\"Contract\",\"Contract\",\"Contract\",\"Contract\",\"Contract\",\"Contract\",\"Contract\",\"Contract\",\"Contract\",\"Contract\",\"Contract\",\"Contract\",\"Contract\",\"Contract\",\"Contract\",\"Contract\",\"Contract\",\"Contract\",\"Contract\",\"Contract\",\"Contract\",\"Contract\",\"Contract\",\"Contract\",\"Contract\",\"Contract\",\"Contract\",\"Contract\",\"Contract\",\"Contract\",\"Contract\",\"Contract\",\"Contract\",\"Contract\",\"Contract\",\"Contract\",\"Contract\",\"Contract\",\"Contract\",\"Contract\",\"Contract\",\"Contract\",\"Contract\",\"Contract\",\"Contract\",\"Contract\",\"Contract\",\"Contract\",\"Contract\",\"Contract\",\"Contract\",\"Contract\",\"Contract\",\"Contract\",\"Contract\",\"Contract\",\"Contract\",\"Contract\",\"Contract\",\"Contract\",\"Contract\",\"Contract\",\"Contract\",\"Contract\",\"Contract\",\"Contract\",\"Contract\",\"Contract\",\"Contract\",\"Contract\",\"Contract\",\"Contract\",\"Contract\",\"Contract\",\"Contract\",\"Contract\",\"Contract\",\"Contract\",\"Contract\",\"Contract\",\"Contract\",\"Contract\",\"Contract\",\"Contract\",\"Contract\",\"Contract\",\"Contract\",\"Contract\",\"Contract\",\"Contract\",\"Contract\",\"Contract\",\"Contract\",\"Contract\",\"Contract\",\"Contract\",\"Contract\",\"Contract\",\"Contract\",\"Contract\",\"Contract\",\"Contract\",\"Contract\",\"Contract\",\"Contract\",\"Contract\",\"Contract\",\"Contract\",\"Contract\",\"Contract\",\"Contract\",\"Contract\",\"Contract\",\"Contract\",\"Contract\",\"Contract\",\"Contract\",\"Contract\",\"Contract\",\"Contract\",\"Contract\",\"Contract\",\"Contract\",\"Contract\",\"Contract\",\"Contract\",\"Contract\",\"Contract\",\"Contract\",\"Contract\",\"Contract\",\"Contract\",\"Contract\",\"Contract\",\"Contract\",\"Contract\",\"Contract\",\"Contract\",\"Contract\",\"Contract\",\"Contract\",\"Contract\",\"Contract\",\"Contract\",\"Contract\",\"Contract\",\"Contract\",\"Contract\",\"Contract\",\"Contract\",\"Contract\",\"Contract\",\"Contract\",\"Contract\",\"Contract\",\"Contract\",\"Contract\",\"Contract\",\"Contract\",\"Contract\",\"Contract\",\"Contract\",\"Contract\",\"Contract\",\"Contract\",\"Contract\",\"Contract\",\"Contract\",\"Contract\",\"Contract\",\"Contract\",\"Contract\",\"Contract\",\"Contract\",\"Contract\",\"Contract\",\"Contract\",\"Contract\",\"Contract\",\"Contract\",\"Contract\",\"Contract\",\"Contract\",\"Contract\",\"Contract\",\"Contract\",\"Contract\",\"Contract\",\"Contract\",\"Contract\",\"Contract\",\"Contract\",\"Contract\",\"Contract\",\"Contract\",\"Contract\",\"Contract\",\"Contract\",\"Contract\",\"Contract\",\"Contract\",\"Contract\",\"Contract\",\"Contract\",\"Contract\",\"Contract\",\"Contract\",\"Contract\",\"Contract\",\"Contract\",\"Contract\",\"Contract\",\"Contract\",\"Contract\",\"Contract\",\"Contract\",\"Contract\",\"Contract\",\"Contract\",\"Contract\",\"Contract\",\"Contract\",\"Contract\",\"Contract\",\"Contract\",\"Contract\",\"Contract\",\"Contract\",\"Contract\",\"Contract\",\"Contract\",\"Contract\",\"Contract\",\"Contract\",\"Contract\",\"Contract\",\"Contract\",\"Contract\",\"Contract\",\"Contract\",\"Contract\",\"Contract\",\"Contract\",\"Contract\",\"Contract\",\"Contract\",\"Contract\",\"Contract\",\"Contract\",\"Contract\",\"Contract\",\"Contract\",\"Contract\",\"Contract\",\"Contract\",\"Contract\",\"Contract\",\"Contract\",\"Contract\",\"Contract\",\"Contract\",\"Contract\",\"Contract\",\"Contract\",\"Contract\",\"Contract\",\"Contract\",\"Contract\",\"Contract\",\"Contract\",\"Contract\",\"Contract\",\"Contract\",\"Contract\",\"Contract\",\"Contract\",\"Contract\",\"Contract\",\"Contract\",\"Contract\",\"Contract\",\"Contract\",\"Contract\",\"Contract\",\"Contract\",\"Contract\",\"Contract\",\"Contract\",\"Contract\",\"Contract\",\"Contract\",\"Contract\",\"Contract\",\"Contract\",\"Contract\",\"Contract\",\"Contract\",\"Contract\",\"Contract\",\"Contract\",\"Contract\",\"Contract\",\"Contract\",\"Contract\",\"Contract\",\"Contract\",\"Contract\",\"Contract\",\"Contract\",\"Contract\",\"Contract\",\"Contract\",\"Contract\",\"Contract\",\"Contract\",\"Contract\",\"Contract\",\"Contract\",\"Contract\",\"Contract\",\"Contract\",\"Contract\",\"Contract\",\"Contract\",\"Contract\",\"Contract\",\"Contract\",\"Contract\",\"Contract\",\"Contract\",\"Contract\",\"Contract\",\"Contract\",\"Contract\",\"Contract\",\"Contract\",\"Contract\",\"Contract\",\"Contract\",\"Contract\",\"Contract\",\"Contract\",\"Contract\",\"Contract\",\"Contract\",\"Contract\",\"Contract\",\"Contract\",\"Contract\",\"Contract\",\"Contract\",\"Contract\",\"Contract\",\"Contract\",\"Contract\",\"Contract\",\"Contract\",\"Contract\",\"Contract\",\"Contract\",\"Contract\",\"Contract\",\"Contract\",\"Contract\",\"Contract\",\"Contract\",\"Contract\",\"Contract\",\"Contract\",\"Contract\",\"Contract\",\"Contract\",\"Contract\",\"Contract\",\"Contract\",\"Contract\",\"Contract\",\"Contract\",\"Contract\",\"Contract\",\"Contract\",\"Contract\",\"Contract\",\"Contract\",\"Contract\",\"Contract\",\"Contract\",\"Contract\",\"Contract\",\"Contract\",\"Contract\",\"Contract\",\"Contract\",\"Contract\",\"Contract\",\"Contract\",\"Contract\",\"Contract\",\"Contract\",\"Contract\",\"Contract\",\"Contract\",\"Contract\",\"Contract\",\"Contract\",\"Contract\",\"Contract\",\"Contract\",\"Contract\",\"Contract\",\"Contract\",\"Contract\",\"Contract\",\"Contract\",\"Contract\",\"Contract\",\"Contract\",\"Contract\",\"Contract\",\"Contract\",\"Contract\",\"Contract\",\"Contract\",\"Contract\",\"Contract\",\"Contract\",\"Contract\",\"Contract\",\"Contract\",\"Contract\",\"Contract\",\"Contract\",\"Contract\",\"Contract\",\"Contract\",\"Contract\",\"Contract\",\"Contract\",\"Contract\",\"Contract\",\"Contract\",\"Contract\",\"Contract\",\"Contract\",\"Contract\",\"Contract\",\"Contract\",\"Contract\",\"Contract\",\"Contract\",\"Contract\",\"Contract\",\"Contract\",\"Contract\",\"Contract\",\"Contract\",\"Contract\",\"Contract\",\"Contract\",\"Contract\",\"Contract\",\"Contract\",\"Contract\",\"Contract\",\"Contract\",\"Contract\",\"Contract\",\"Contract\",\"Contract\",\"Contract\",\"Contract\",\"Contract\",\"Contract\",\"Contract\",\"Contract\",\"Contract\",\"Contract\",\"Contract\",\"Contract\",\"Contract\",\"Contract\",\"Contract\",\"Contract\",\"Contract\",\"Contract\",\"Contract\",\"Contract\",\"Contract\",\"Contract\",\"Contract\",\"Contract\",\"Contract\",\"Contract\",\"Contract\",\"Contract\",\"Contract\",\"Contract\",\"Contract\",\"Contract\",\"Contract\",\"Contract\",\"Contract\",\"Contract\",\"Contract\",\"Contract\",\"Contract\",\"Contract\",\"Contract\",\"Contract\",\"Contract\",\"Contract\",\"Contract\",\"Contract\",\"Contract\",\"Contract\",\"Contract\",\"Contract\",\"Contract\",\"Contract\",\"Contract\",\"Contract\",\"Contract\",\"Contract\",\"Contract\",\"Contract\",\"Contract\",\"Contract\",\"Contract\",\"Contract\",\"Contract\",\"Contract\",\"Contract\",\"Contract\",\"Contract\",\"Contract\",\"Contract\",\"Contract\",\"Contract\",\"Contract\",\"Contract\",\"Contract\",\"Contract\",\"Contract\",\"Contract\",\"Contract\",\"Contract\",\"Contract\",\"Contract\",\"Contract\",\"Contract\",\"Contract\",\"Contract\",\"Contract\",\"Contract\",\"Contract\",\"Contract\",\"Contract\",\"Contract\",\"Contract\",\"Contract\",\"Contract\",\"Contract\",\"Contract\",\"Contract\",\"Contract\",\"Contract\",\"Contract\",\"Contract\",\"Contract\",\"Contract\",\"Contract\",\"Contract\",\"Contract\",\"Contract\",\"Contract\",\"Contract\",\"Contract\",\"Contract\",\"Contract\",\"Contract\",\"Contract\",\"Contract\",\"Contract\",\"Contract\",\"Contract\",\"Contract\",\"Contract\",\"Contract\",\"Contract\",\"Contract\",\"Contract\",\"Contract\",\"Contract\",\"Contract\",\"Contract\",\"Contract\",\"Contract\",\"Contract\",\"Contract\",\"Contract\",\"Contract\",\"Contract\",\"Contract\",\"Contract\",\"Contract\",\"Contract\",\"Contract\",\"Contract\",\"Contract\",\"Contract\",\"Contract\",\"Contract\",\"Contract\",\"Contract\",\"Contract\",\"Contract\",\"Contract\",\"Contract\",\"Contract\",\"Contract\",\"Contract\",\"Contract\",\"Contract\",\"Contract\",\"Contract\",\"Contract\",\"Contract\",\"Contract\",\"Contract\",\"Contract\",\"Contract\",\"Contract\",\"Contract\",\"Contract\",\"Contract\",\"Contract\",\"Contract\",\"Contract\",\"Contract\",\"Contract\",\"Contract\",\"Contract\",\"Contract\",\"Contract\",\"Contract\",\"Contract\",\"Contract\",\"Contract\",\"Contract\",\"Contract\",\"Contract\",\"Contract\",\"Contract\",\"Contract\",\"Contract\",\"Contract\",\"Contract\",\"Contract\",\"Contract\",\"Contract\",\"Contract\",\"Contract\",\"Contract\",\"Contract\",\"Contract\",\"Contract\",\"Contract\",\"Contract\",\"Contract\",\"Contract\",\"Contract\",\"Contract\",\"Contract\",\"Contract\",\"Contract\",\"Contract\",\"Contract\",\"Contract\",\"Contract\",\"Contract\",\"Contract\",\"Contract\",\"Contract\",\"Contract\",\"Contract\",\"Contract\",\"Contract\",\"Contract\",\"Contract\",\"Contract\",\"Contract\",\"Contract\",\"Contract\",\"Contract\",\"Contract\",\"Contract\",\"Contract\",\"Contract\",\"Contract\",\"Contract\",\"Contract\",\"Contract\",\"Contract\",\"Contract\",\"Contract\",\"Contract\",\"Contract\",\"Contract\",\"Contract\",\"Contract\",\"Contract\",\"Contract\",\"Contract\",\"Contract\",\"Contract\",\"Contract\",\"Contract\",\"Contract\",\"Contract\",\"Contract\",\"Contract\",\"Contract\",\"Contract\",\"Contract\",\"Contract\",\"Contract\",\"Contract\",\"Contract\",\"Contract\",\"Contract\",\"Contract\",\"Contract\",\"Contract\",\"Contract\",\"Contract\",\"Contract\",\"Contract\",\"Contract\",\"Contract\",\"Contract\",\"Contract\",\"Contract\",\"Contract\",\"Contract\",\"Contract\",\"Contract\",\"Contract\",\"Contract\",\"Contract\",\"Contract\",\"Contract\",\"Contract\",\"Contract\",\"Contract\",\"Contract\",\"Contract\",\"Contract\",\"Contract\",\"Contract\",\"Contract\",\"Contract\",\"Contract\",\"Contract\",\"Contract\",\"Contract\",\"Contract\",\"Contract\",\"Contract\",\"Contract\",\"Contract\",\"Contract\",\"Contract\",\"Contract\",\"Contract\",\"Contract\",\"Contract\",\"Contract\",\"Contract\",\"Contract\",\"Contract\",\"Contract\",\"Contract\",\"Contract\",\"Contract\",\"Contract\",\"Contract\",\"Contract\",\"Contract\",\"Contract\",\"Contract\",\"Contract\",\"Contract\",\"Contract\",\"Contract\",\"Contract\",\"Contract\",\"Contract\",\"Contract\",\"Contract\",\"Contract\",\"Contract\",\"Contract\",\"Contract\",\"Contract\",\"Contract\",\"Contract\",\"Contract\",\"Contract\",\"Contract\",\"Contract\",\"Contract\",\"Contract\",\"Contract\",\"Contract\",\"Contract\",\"Contract\",\"Contract\",\"Contract\",\"Contract\",\"Contract\",\"Contract\",\"Contract\",\"Contract\",\"Contract\",\"Contract\",\"Contract\",\"Contract\",\"Contract\",\"Contract\",\"Contract\",\"Contract\",\"Contract\",\"Contract\",\"Contract\",\"Contract\",\"Contract\",\"Contract\",\"Contract\",\"Contract\",\"Contract\",\"Contract\",\"Contract\",\"Contract\",\"Contract\",\"Contract\",\"Contract\",\"Contract\",\"Contract\",\"Contract\",\"Contract\",\"Contract\",\"Contract\",\"Contract\",\"Contract\",\"Contract\",\"Contract\",\"Contract\",\"Contract\",\"Contract\",\"Contract\",\"Contract\",\"Contract\",\"Contract\",\"Contract\",\"Contract\",\"Contract\",\"Contract\",\"Contract\",\"Contract\",\"Contract\",\"Contract\",\"Contract\",\"Contract\",\"Contract\",\"Contract\",\"Contract\",\"Contract\",\"Contract\",\"Contract\",\"Contract\",\"Contract\",\"Contract\",\"Contract\",\"Contract\",\"Contract\",\"Contract\",\"Contract\",\"Contract\",\"Contract\",\"Contract\",\"Contract\",\"Contract\",\"Contract\",\"Contract\",\"Contract\",\"Contract\",\"Contract\",\"Contract\",\"Contract\",\"Contract\",\"Contract\",\"Contract\",\"Contract\",\"Contract\",\"Contract\",\"Contract\",\"Contract\",\"Contract\",\"Contract\",\"Contract\",\"Contract\",\"Contract\",\"Contract\",\"Contract\",\"Contract\",\"Contract\",\"Contract\",\"Contract\",\"Contract\",\"Contract\",\"Contract\",\"Contract\",\"Contract\",\"Contract\",\"Contract\",\"Contract\",\"Contract\",\"Contract\",\"Contract\",\"Contract\",\"Contract\",\"Contract\",\"Contract\",\"Contract\",\"Contract\",\"Contract\",\"Contract\",\"Contract\",\"Contract\",\"Contract\",\"Contract\",\"Contract\",\"Contract\",\"Contract\",\"Contract\",\"Contract\",\"Contract\",\"Contract\",\"Contract\",\"Contract\",\"Contract\",\"Contract\",\"Contract\",\"Contract\",\"Contract\",\"Contract\",\"Contract\",\"Contract\",\"Contract\",\"Contract\",\"Contract\",\"Contract\",\"Contract\",\"Contract\",\"Contract\",\"Contract\",\"Contract\",\"Contract\",\"Contract\",\"Contract\",\"Contract\",\"Contract\",\"Contract\",\"Contract\",\"Contract\",\"Contract\",\"Contract\",\"Contract\",\"Contract\",\"Contract\",\"Contract\",\"Contract\",\"Contract\",\"Contract\",\"Contract\",\"Contract\",\"Contract\",\"Contract\",\"Contract\",\"Contract\",\"Contract\",\"Contract\",\"Contract\",\"Contract\",\"Contract\",\"Contract\",\"Contract\",\"Contract\",\"Contract\",\"Contract\",\"Contract\",\"Contract\",\"Contract\",\"Contract\",\"Contract\",\"Contract\",\"Contract\",\"Contract\",\"Contract\",\"Contract\",\"Contract\",\"Contract\",\"Contract\",\"Contract\",\"Contract\",\"Contract\",\"Contract\",\"Contract\",\"Contract\",\"Contract\",\"Contract\",\"Contract\",\"Contract\",\"Contract\",\"Contract\",\"Contract\",\"Contract\",\"Contract\",\"Contract\",\"Contract\",\"Contract\",\"Contract\",\"Contract\",\"Contract\",\"Contract\",\"Contract\",\"Contract\",\"Contract\",\"Contract\",\"Contract\",\"Contract\",\"Contract\",\"Contract\",\"Contract\",\"Contract\",\"Contract\",\"Contract\",\"Contract\",\"Contract\"],\"xaxis\":\"x3\",\"yaxis\":\"y3\",\"type\":\"histogram\"},{\"alignmentgroup\":\"True\",\"bingroup\":\"x\",\"legendgroup\":\"Temporary\",\"marker\":{\"color\":\"#D62728\",\"pattern\":{\"shape\":\"\"}},\"name\":\"Temporary\",\"offsetgroup\":\"Temporary\",\"orientation\":\"v\",\"showlegend\":true,\"x\":[\"Temporary\",\"Temporary\"],\"xaxis\":\"x3\",\"yaxis\":\"y3\",\"type\":\"histogram\"},{\"alignmentgroup\":\"True\",\"bingroup\":\"x\",\"legendgroup\":\"Volunteer\",\"marker\":{\"color\":\"#9467BD\",\"pattern\":{\"shape\":\"\"}},\"name\":\"Volunteer\",\"offsetgroup\":\"Volunteer\",\"orientation\":\"v\",\"showlegend\":true,\"x\":[\"Volunteer\",\"Volunteer\"],\"xaxis\":\"x3\",\"yaxis\":\"y3\",\"type\":\"histogram\"},{\"alignmentgroup\":\"True\",\"hoverinfo\":\"x\",\"legendgroup\":\"Entry level\",\"marker\":{\"color\":\"#FF7F0E\"},\"name\":\"Entry level\",\"notched\":false,\"offsetgroup\":\"Entry level\",\"orientation\":\"h\",\"showlegend\":true,\"x\":[null,null,null,null,null,null,null,null,null,null,null,null,50000.0,null,null,null,null,null,null,null,null,null,null,null,null,null,null,null,null,null,null,null,null,null,null,null,null,null,null,null,null,null,null,null,null,null,null,null,null,null,null,null,null,null,null,null,null,null,null,null,null,null,null,null,null,null,50000.0,null,null,null,null,null,null,null,null,null,null,null,null,null,null,null,null,null,null,null,null,null,null,null,null,null,null,null,null,null,null,null,null,null,null,null,50000.0,null,null,null,null,null,null,null,null,null,null,null,50000.0,null,null,null,null,null,null,null,50000.0,null,null,null,null,null,null,null,null,null,null,null,null,null,null,null,null,null,null,null,55000.0,null,null,null,null,null,null,null,96000.0,null,null,null,null,null,null,null,null,null,null,null,null,null,null,null,null,null,null,null,null,null,null,null,null,null,null,null,50000.0,null,null,null,null,null,null,null,null,null,null,null,null,null,50000.0,null,null,null,null,null,null,null,null,null,null,null,null,null,50000.0,null,null,null,null,null,null,null,null,null,null,null,null,null,null,null,null,null,null,null,null,null,null,null,null,null,null,null,50000.0,null,null,null,null,null,null,null,null,null,null,null,null,null,null,null,null,null,null,null,null,null,null,null,null,null,null,null,null,null,null,null,null,null,null,null,50000.0,null,null,null,null,null,null,null,null,null,null,null,50000.0,null,null,null,null,null,null,null,null,null,null,null,null,null,null,null,null,null,null,null,null,null,null,null,null,null,null,null,null,null,null,null,null,null,null,null,null,null,null,null,null,null,null,null,null,null,50000.0,null,null,null,null,null,null,null,null,null,50000.0,null,null,null,null,null,null,null,null,null,null,null,null,null,null,null,50000.0,null,null,null,null,null,null,null,50000.0,null,null,null,null,null,50000.0,null,null,null,null,null,null,null,null,null,50000.0,null,null,null,null,null,null,null,null,null,null,null,50000.0,null,null,null,null,null,null,null,null,null,null,null,null,null,null,null,null,null,null,null,null,null,null,null,null,null,null,null,null,null,50000.0,null,null,null,null,null,50000.0,null,null,null,null,null,null,null,null,null,50000.0,null,null,null,null,null,null,null,null,null,null,null,null,null,50000.0,null,null,null,null,null,null,null,null,null,null,null,null,null,null,null,null,null,null,135000.0,null,null,null,135000.0,null,null,null,null,null,null,null,null,null,null,null,null,null,null,null,null,null,null,null,null,null,null,null,135000.0,null,null,null,135000.0,null,null,null,null,null,null,null,null,null,null,null,null,null,null,null,null,null,null,null,null,null,null,null,null,null,null,null,null,null,null,null,null,null,null,null,null,null,null,null,null,null,null,null,null,null,null,null,null,null,null,null,135000.0,null,null,null,null,null,null,null,null,null,null,null,null,null,null,null,null,null,null,null,null,null,null,null,null,null,null,null,null,null,null,null,null,null,null,null,null,null,null,null,null,null,null,null,null,null,null,null,null,null,null,null,null,null,null,null,null,null,null,null,null,null,null,null,null,null,null,null,null,null,null,null,null,null,null,null,null,null,135000.0,null,null,null,null,null,null,null,null,null,null,null,null,null,135000.0,null,null,null,null,null,null,null,null,null,null,null,null,null,null,null,null,null,null,null,null,null,null,null,null,null,null,null,null,null,null,null,null,null,null,null,null,null,null,null,null,null,null,null,null,57600.0,null,42240.0,null,null,null,42240.0,null,57600.0,null,null,null,42240.0,null,57600.0,null,53760.0,null,57600.0,null,null,null,53760.0,null,null,null,42240.0,null,57600.0,null,null,null,null,null,57600.0,null,42240.0,null,null,null,null,null,42240.0,null,57600.0,null,53760.0,null,57600.0,null,null,null,42240.0,null,57600.0,null,null,null,null,null,57600.0,null,42240.0,null,null,null,null,null,57600.0,null,42240.0,null,null,null,null,null,57600.0,null,42240.0,null,null,null,42240.0,null,57600.0,null,null,null,null,null,57600.0,null,42240.0,null,null,null,null,null,57600.0,null,42240.0,null,null,null,null,null,42240.0,null,57600.0,null,null,null,null,null,57600.0,null,42240.0,null,null,null,42240.0,null,57600.0,null,null,null,null,null,null,null,null,null,null,null,53760.0,null,null,null,null,null,42240.0,null,57600.0,null,null,null,42240.0,null,57600.0,null,53760.0,null,57600.0,null,null,null,53760.0,null,null,null,null,null,42240.0,null,57600.0,null,null,null,null,null,42240.0,null,57600.0,null,null,null,null,null,42240.0,null,57600.0,null,null,null,42240.0,null,57600.0,null,null,null,42240.0,null,57600.0,null,53760.0,null,57600.0,null,null,null,57600.0,null,null,null,null,null,null,null,null,null,57600.0,null,42240.0,null,null,null,null,null,57600.0,null,42240.0,null,53760.0,null,null,null,42240.0,null,57600.0,null,null,null,42240.0,null,57600.0,null,null,null,null,null,57600.0,null,42240.0,null,null,null,42240.0,null,57600.0,null,null,null,42240.0,null,57600.0,null,null,null,42240.0,null,57600.0,null,null,null,42240.0,null,57600.0,null,53760.0,null,57600.0,null,null,null,53760.0,null,null,null,42240.0,57600.0,null,42240.0,57600.0,null,42240.0,57600.0],\"x0\":\" \",\"xaxis\":\"x4\",\"y0\":\" \",\"yaxis\":\"y4\",\"type\":\"box\"},{\"alignmentgroup\":\"True\",\"hoverinfo\":\"x\",\"legendgroup\":\"Associate\",\"marker\":{\"color\":\"#2CA02C\"},\"name\":\"Associate\",\"notched\":false,\"offsetgroup\":\"Associate\",\"orientation\":\"h\",\"showlegend\":true,\"x\":[100000.0,null,100000.0,null,100000.0,null,100000.0,null,100000.0,null,100000.0,null,null,null,100000.0,null,96000.0,null,100000.0,null,100000.0,null,100000.0,null,null,null,96000.0,null,100000.0,null,null,null,96000.0,null,100000.0,null,100000.0,null,null,null,100000.0,null,96000.0,null,100000.0,null,100000.0,null,null,null,96000.0,null,100000.0,null,null,null,96000.0,null,100000.0,null,100000.0,null,100000.0,null,null,null,100000.0,null,96000.0,null,100000.0,null,null,null,100000.0,null,96000.0,null,100000.0,null,96000.0,null,100000.0,null,100000.0,null,null,null,100000.0,null,96000.0,null,100000.0,null,null,null,100000.0,null,96000.0,null,100000.0,null,100000.0,null,100000.0,null,100000.0,null,null,null,100000.0,null,96000.0,null,100000.0,null,null,null,100000.0,null,96000.0,null,100000.0,null,100000.0,null,100000.0,null,null,null,100000.0,null,96000.0,null,100000.0,null,null,null,100000.0,null,96000.0,null,100000.0,null,null,null,96000.0,null,100000.0,null,100000.0,null,100000.0,null,null,null,100000.0,null,96000.0,null,100000.0,null,null,null,100000.0,null,96000.0,null,100000.0,null,null,null,57600.0,null,96000.0,null,null,null,null,null,70000.0,null,80000.0,null,null,null,null,null,57600.0,135000.0,96000.0,null,null,null,null,null,80000.0,null,null,135000.0,72960.0,null,null,null,57600.0,null,96000.0,null,null,null,null,null,70000.0,null,80000.0,null,null,null,57600.0,null,96000.0,null,null,null,null,null,70000.0,null,80000.0,null,null,null,72960.0,null,null,null,57600.0,null,96000.0,null,null,null,null,null,70000.0,null,80000.0,null,null,null,57600.0,null,96000.0,null,null,null,null,null,70000.0,null,80000.0,null,null,null,72960.0,null,null,null,57600.0,null,96000.0,null,null,null,null,null,70000.0,null,80000.0,null,null,null,57600.0,null,96000.0,null,null,135000.0,null,null,70000.0,null,80000.0,null,null,null,null,null,57600.0,135000.0,96000.0,null,null,null,null,null,70000.0,null,80000.0,null,null,null,57600.0,null,72960.0,null,96000.0,null,null,null,null,null,70000.0,null,80000.0,null,72960.0,null,null,null,57600.0,null,96000.0,null,null,null,null,null,70000.0,null,80000.0,135000.0,null,null,null,null,null,null,null,135000.0,72960.0,null,null,null,57600.0,null,96000.0,null,null,null,null,null,70000.0,null,80000.0,null,null,null,57600.0,null,96000.0,null,null,null,null,null,70000.0,null,80000.0,null,null,null,null,null,57600.0,null,96000.0,null,null,null,null,null,70000.0,null,80000.0,null,null,null,72960.0,null,null,null,57600.0,null,96000.0,null,null,null,null,null,70000.0,null,80000.0,null,null,null,57600.0,null,96000.0,null,null,135000.0,null,null,70000.0,null,80000.0,null,null,null,72960.0,null,null,null,57600.0,null,96000.0,null,null,null,null,null,70000.0,null,80000.0,null,null,null,57600.0,null,96000.0,null,null,null,null,null,70000.0,null,80000.0,null,null,null,72960.0,null,null,null,57600.0,null,96000.0,null,null,null,null,null,70000.0,null,80000.0,null,null,null,57600.0,null,96000.0,null,null,null,null,null,70000.0,null,80000.0,null,null,null,null,null,57600.0,null,72960.0,null,96000.0,null,null,null,null,null,70000.0,135000.0,80000.0,null,72960.0,null,null,null,57600.0,null,96000.0,null,null,null,null,135000.0,70000.0,null,80000.0,null,72960.0,null,null,null,57600.0,null,96000.0,null,null,null,70000.0,null,80000.0,null,72960.0,null,null,null,57600.0,null,96000.0,null,null,null,null,null,70000.0,null,80000.0,null,null,null,57600.0,null,72960.0,null,96000.0,null,null,null,null,null,70000.0,null,80000.0,null,72960.0,null,null,null,57600.0,null,96000.0,null,null,null,null,null,70000.0,null,72960.0,null,null,null,57600.0,null,96000.0,null,null,null,null,null,70000.0,null,80000.0,null,57600.0,null,96000.0,null,null,null,60000.0,null,72960.0,null,75000.0,135000.0,72960.0,null,null,null,57600.0,null,96000.0,null,null,null,null,null,70000.0,null,80000.0,null,null,null,57600.0,null,96000.0,null,null,null,null,null,70000.0,null,80000.0,null,null,null,null,null,57600.0,null,96000.0,null,null,null,null,null,70000.0,null,80000.0,null,null,null,null,null,null,null,57600.0,null,72960.0,null,96000.0,null,null,null,null,259200.0,70000.0,null,80000.0,null,57600.0,null,72960.0,null,96000.0,null,null,null,60000.0,null,null,null,null,null,57600.0,null,72960.0,null,96000.0,null,null,null,null,null,70000.0,null,80000.0,null,72960.0,null,null,null,57600.0,null,96000.0,null,null,null,null,null,70000.0,null,80000.0,null,72960.0,null,null,null,57600.0,null,96000.0,null,null,null,null,null,70000.0,null,80000.0,null,null,null,80000.0,null,null,null,null,null,null,null,null,null,null,null,null,null,75000.0,null,76800.0,null,120000.0,null,null,null,76800.0,null,null,null,120000.0,null,null,null,null,null,null,null,76800.0,null,null,null,120000.0,null,null,null,67200.0,null,65000.0,null,null,null,75000.0,null,null,null,76800.0,null,null,null,120000.0,null,null,null,null,null,null,null,76800.0,null,120000.0,null,null,null,75000.0,null,null,null,76800.0,null,null,null,120000.0,null,null,null,67200.0,null,null,null,null,null,75000.0,null,null,null,76800.0,null,null,null,120000.0,null,null,null,null,null,null,null,null,null,75000.0,null,76800.0,65500.0,120000.0,null,null,null,null,null,null,null,76800.0,null,120000.0,null,null,null,null,null,null,null,75000.0,null,76800.0,null,120000.0,null,null,null,75000.0,null,null,null,76800.0,null,null,null,120000.0,null,null,null,null,null,null,null,76800.0,null,120000.0,null,null,null,null,null,null,null,null,null,75000.0,null,76800.0,null,120000.0,null,null,null,75000.0,null,null,null,76800.0,null,null,null,120000.0,null,null,null,null,null,75000.0,null,76800.0,null,120000.0,null,null,null,75000.0,null,null,null,76800.0,null,null,null,120000.0,null,null,null,null,null,120000.0,null,null,null,80000.0,null,76800.0,null,null,null,null,null,76800.0,null,null,null,120000.0,null,null,null,null,null,76800.0,null,null,null,120000.0,null,null,null,67200.0,null,65000.0,null,null,null,75000.0,null,null,null,76800.0,null,null,null,120000.0,null,null,null,75000.0,null,null,null,76800.0,null,null,null,120000.0,null,null,null,null,null,76800.0,null,null,null,120000.0,null,null,null,null,null,76800.0,null,null,null,120000.0,null,null,null,null,null,null,null,76800.0,null,null,null,120000.0,null,null,null,null,null,76800.0,null,null,null,null,null,null,null,null,null,null,null,null,null,75000.0,null,76800.0,null,120000.0,null,null,null,null,null,null,null,75000.0,null,76800.0,null,120000.0,null,null,null,67200.0,null,null,null,76800.0,null,null,null,120000.0,null,null,null,null,null,null,null,76800.0,null,null,null,120000.0,null,null,null,null,null,null,null,null,null,null,null,75000.0,null,76800.0,null,120000.0,null,null,null,76800.0,null,null,null,120000.0,null,null,null,null,null,null,null,76800.0,null,null,null,120000.0,null,null,null,null,null,null,null,76800.0,null,null,null,120000.0,null,null,null,null,null,null,null,76800.0,null,null,null,120000.0,null,null,null,65000.0,null,null,75000.0,null,76800.0,null,120000.0,null,76800.0,null,120000.0,null,null,null,76800.0,null,120000.0,null],\"x0\":\" \",\"xaxis\":\"x4\",\"y0\":\" \",\"yaxis\":\"y4\",\"type\":\"box\"},{\"alignmentgroup\":\"True\",\"hoverinfo\":\"x\",\"legendgroup\":\"Mid-Senior level\",\"marker\":{\"color\":\"#D62728\"},\"name\":\"Mid-Senior level\",\"notched\":false,\"offsetgroup\":\"Mid-Senior level\",\"orientation\":\"h\",\"showlegend\":true,\"x\":[null,null,null,null,null,null,null,null,null,null,null,null,null,null,69600.0,null,null,null,null,null,null,null,69600.0,null,null,null,null,null,69600.0,null,null,null,null,null,69600.0,null,null,null,69600.0,null,null,null,null,null,null,null,null,null,null,null,69600.0,null,null,null,null,null,null,null,null,null,69600.0,null,null,null,69600.0,null,null,null,69600.0,null,null,null,null,null,null,null,69600.0,null,null,null,null,null,69600.0,null,null,null,null,null,null,null,null,null,69600.0,null,null,null,null,null,69600.0,null,null,null,null,null,null,null,null,null,null,null,null,null,69600.0,null,null,null,null,null,69600.0,null,null,null,null,null,null,null,null,null,null,null,null,null,69600.0,null,null,null,null,null,69600.0,null,null,null,null,null,69600.0,null,null,null,null,null,null,null,null,null,69600.0,null,null,null,69600.0,null,null,null,null,null,null,null,null,null,null,null,69600.0,null,null,null,80000.0,null,null,null,120000.0,null,85000.0,null,76800.0,null,125000.0,null,null,null,null,null,null,null,114604.79999999999,null,null,null,80000.0,null,null,null,120000.0,null,85000.0,null,76800.0,null,125000.0,null,null,null,null,null,114604.79999999999,null,null,null,80000.0,null,null,null,120000.0,null,85000.0,null,76800.0,null,125000.0,null,null,null,null,null,null,null,null,null,114604.79999999999,null,80000.0,null,null,null,120000.0,null,85000.0,null,76800.0,null,125000.0,null,null,null,null,null,null,null,114604.79999999999,null,null,null,80000.0,null,null,null,120000.0,null,85000.0,null,76800.0,null,125000.0,null,null,null,null,null,null,null,null,null,114604.79999999999,null,80000.0,null,null,null,120000.0,null,85000.0,null,76800.0,null,125000.0,135000.0,null,null,null,null,null,null,114604.79999999999,null,null,null,80000.0,null,null,null,120000.0,135000.0,85000.0,null,76800.0,null,125000.0,null,null,null,null,null,null,null,null,null,114604.79999999999,null,80000.0,null,null,null,120000.0,null,85000.0,null,76800.0,null,125000.0,null,null,null,null,null,null,null,114604.79999999999,null,null,null,80000.0,null,null,null,120000.0,null,85000.0,null,76800.0,null,125000.0,null,null,null,null,null,null,null,null,null,114604.79999999999,null,80000.0,null,null,null,120000.0,null,85000.0,null,76800.0,null,125000.0,null,null,null,null,null,null,null,null,null,114604.79999999999,null,80000.0,null,null,null,120000.0,null,85000.0,null,76800.0,null,125000.0,null,null,null,null,null,null,null,null,null,114604.79999999999,null,null,null,125000.0,null,null,null,null,null,null,null,null,null,80000.0,null,null,null,85000.0,null,80000.0,null,null,null,120000.0,null,85000.0,null,76800.0,null,125000.0,135000.0,null,null,null,null,null,null,null,null,114604.79999999999,null,80000.0,null,null,null,85000.0,null,76800.0,null,125000.0,135000.0,null,null,null,null,null,null,114604.79999999999,null,null,null,80000.0,null,null,null,120000.0,null,85000.0,null,76800.0,135000.0,125000.0,null,null,null,null,null,null,null,114604.79999999999,null,null,null,80000.0,null,null,null,120000.0,null,85000.0,null,76800.0,null,125000.0,null,null,null,null,null,null,null,null,null,114604.79999999999,null,80000.0,null,null,null,120000.0,null,85000.0,null,76800.0,null,125000.0,null,null,null,null,null,null,null,114604.79999999999,null,null,null,80000.0,null,null,null,120000.0,null,85000.0,null,76800.0,null,125000.0,null,null,null,null,null,null,null,null,null,114604.79999999999,null,80000.0,135000.0,null,null,120000.0,null,85000.0,null,76800.0,null,125000.0,null,null,null,null,null,null,null,114604.79999999999,null,null,null,80000.0,null,null,null,120000.0,null,85000.0,null,76800.0,null,125000.0,null,null,null,null,null,null,135000.0,null,null,114604.79999999999,null,80000.0,null,null,null,120000.0,null,85000.0,null,76800.0,null,125000.0,null,null,null,null,null,null,135000.0,114604.79999999999,null,null,null,80000.0,null,null,null,120000.0,null,85000.0,null,76800.0,null,125000.0,null,null,null,null,null,null,null,null,null,114604.79999999999,null,80000.0,null,null,null,120000.0,null,85000.0,null,76800.0,null,125000.0,null,null,null,null,null,null,null,null,null,114604.79999999999,null,80000.0,null,null,null,120000.0,null,76800.0,null,125000.0,null,null,null,null,null,null,null,null,null,114604.79999999999,null,80000.0,null,null,135000.0,120000.0,null,85000.0,null,76800.0,null,125000.0,null,null,null,null,null,null,null,null,null,114604.79999999999,null,80000.0,135000.0,null,null,120000.0,null,85000.0,null,76800.0,null,125000.0,null,null,null,null,null,null,null,null,null,114604.79999999999,null,80000.0,null,null,null,120000.0,null,85000.0,null,76800.0,null,null,null,null,null,null,null,null,135000.0,114604.79999999999,null,80000.0,null,null,null,120000.0,null,85000.0,null,76800.0,null,125000.0,null,null,null,null,null,null,null,null,null,114604.79999999999,null,null,null,85000.0,null,null,null,114604.79999999999,null,null,null,70000.0,null,null,null,80000.0,null,null,null,120000.0,null,85000.0,null,76800.0,null,125000.0,135000.0,null,null,null,null,null,null,114604.79999999999,null,80000.0,null,null,null,120000.0,null,85000.0,null,76800.0,null,125000.0,null,null,null,null,null,null,null,114604.79999999999,null,null,null,80000.0,null,null,null,120000.0,null,85000.0,null,76800.0,null,125000.0,135000.0,null,null,null,null,null,null,114604.79999999999,null,null,null,125000.0,null,null,null,null,null,null,null,null,null,null,null,null,null,null,null,85000.0,null,76800.0,null,80000.0,null,null,null,120000.0,null,85000.0,null,76800.0,null,125000.0,null,null,null,null,null,null,null,null,null,114604.79999999999,null,null,null,85000.0,null,null,null,114604.79999999999,null,null,null,72960.0,null,70000.0,null,null,null,80000.0,null,null,null,120000.0,null,85000.0,null,76800.0,null,125000.0,null,null,null,null,null,null,null,null,null,114604.79999999999,null,80000.0,null,null,null,120000.0,null,85000.0,null,76800.0,null,125000.0,null,null,null,null,null,null,null,null,null,114604.79999999999,null,80000.0,null,null,null,120000.0,null,85000.0,null,76800.0,null,125000.0,null,null,null,null,null,null,null,null,null,114604.79999999999,null,null,null,null,null,null,null,null,null,80000.0,null,null,null,null,null,null,null,96000.0,null,90000.0,null,null,null,115200.0,null,null,null,null,null,76800.0,null,null,null,75000.0,null,null,null,90000.0,null,null,null,115200.0,null,null,null,null,null,null,null,75000.0,null,130000.0,null,96000.0,null,null,null,115200.0,null,null,null,null,null,130000.0,null,100000.0,null,null,null,null,null,96000.0,null,90000.0,null,115200.0,null,null,null,null,null,76800.0,null,null,null,75000.0,null,null,null,null,null,96000.0,null,90000.0,null,null,null,115200.0,null,null,null,null,null,76800.0,null,null,null,75000.0,null,96000.0,null,115200.0,null,null,null,null,null,76800.0,null,130000.0,null,null,null,96000.0,null,90000.0,null,115200.0,null,null,null,null,null,76800.0,null,null,null,75000.0,null,null,null,null,null,96000.0,null,90000.0,null,null,null,115200.0,null,null,null,null,null,76800.0,null,null,null,null,null,null,null,96000.0,null,90000.0,null,null,null,115200.0,null,null,null,null,null,76800.0,null,null,null,75000.0,null,null,null,null,null,96000.0,null,90000.0,null,null,null,115200.0,null,null,null,null,null,76800.0,null,null,null,null,null,null,null,96000.0,null,90000.0,null,115200.0,null,null,null,null,null,76800.0,null,null,null,75000.0,null,null,null,96000.0,null,90000.0,null,null,null,115200.0,null,null,null,null,null,76800.0,null,null,null,75000.0,null,null,null,null,null,96000.0,null,90000.0,null,null,null,115200.0,null,null,null,null,null,76800.0,null,null,null,null,null,null,null,96000.0,null,90000.0,null,115200.0,null,null,null,null,null,76800.0,null,null,null,75000.0,null,null,null,null,null,96000.0,null,90000.0,null,null,null,115200.0,null,null,null,null,null,76800.0,null,null,null,null,null,null,null,96000.0,null,90000.0,null,115200.0,null,null,null,null,null,76800.0,null,null,null,75000.0,null,null,null,null,null,57600.0,null,null,null,null,null,115200.0,null,null,null,null,null,96000.0,null,90000.0,null,null,null,115200.0,null,null,null,null,null,null,null,null,null,75000.0,null,96000.0,null,null,null,115200.0,null,null,null,null,null,130000.0,null,100000.0,null,null,null,null,null,96000.0,null,90000.0,null,115200.0,null,null,null,null,null,76800.0,null,null,null,null,null,null,null,null,null,96000.0,null,90000.0,null,115200.0,null,null,null,null,null,76800.0,null,null,null,75000.0,null,null,null,null,null,96000.0,null,90000.0,null,115200.0,null,null,null,null,null,76800.0,null,null,null,75000.0,null,null,null,null,null,96000.0,null,90000.0,null,null,null,115200.0,null,null,null,null,null,null,null,75000.0,null,130000.0,null,null,null,null,null,96000.0,null,90000.0,null,null,null,115200.0,null,null,null,null,null,null,null,75000.0,null,130000.0,null,null,null,null,null,80000.0,null,80000.0,null,115200.0,null,null,null,null,null,null,null,null,null,null,null,null,null,null,null,null,null,96000.0,null,90000.0,null,null,null,115200.0,null,null,null,null,null,76800.0,null,null,null,96000.0,null,null,null,115200.0,null,null,null,null,null,76800.0,null,130000.0,null,90000.0,null,null,null,null,null,96000.0,null,90000.0,null,null,null,115200.0,null,null,null,null,null,null,null,75000.0,null,130000.0,null,null,null,null,null,96000.0,null,90000.0,null,null,null,115200.0,null,null,null,null,null,null,null,130000.0,null,null,null,null,null,96000.0,null,90000.0,null,null,null,115200.0,null,null,null,null,null,76800.0,null,null,null,null,null,null,null,96000.0,null,90000.0,null,null,null,115200.0,null,null,null,null,null,75000.0,null,130000.0,null,null,null,null,null,96000.0,null,90000.0,null,null,null,115200.0,null,null,null,null,null,null,null,75000.0,null,130000.0,null,null,null,null,null,96000.0,null,null,null,115200.0,null,null,null,null,null,null,null,75000.0,null,130000.0,null,96000.0,null,null,null,115200.0,null,null,null,null,null,130000.0,null,100000.0,null,null,null,null,null,96000.0,null,90000.0,115200.0,null,null,76800.0,null,75000.0,null,null,96000.0,90000.0,null,115200.0,null,null,75000.0,130000.0,null,null,96000.0,90000.0,null,115200.0,null,null,null,75000.0,130000.0],\"x0\":\" \",\"xaxis\":\"x4\",\"y0\":\" \",\"yaxis\":\"y4\",\"type\":\"box\"},{\"alignmentgroup\":\"True\",\"hoverinfo\":\"x\",\"legendgroup\":\"Executive\",\"marker\":{\"color\":\"#9467BD\"},\"name\":\"Executive\",\"notched\":false,\"offsetgroup\":\"Executive\",\"orientation\":\"h\",\"showlegend\":true,\"x\":[null,null],\"x0\":\" \",\"xaxis\":\"x4\",\"y0\":\" \",\"yaxis\":\"y4\",\"type\":\"box\"}],                        {\"template\":{\"data\":{\"bar\":[{\"hovertemplate\":\"<b>%{x}</b><br><i>Count</i>: %{y}\",\"type\":\"bar\"}],\"histogram\":[{\"hovertemplate\":\"<b>%{x}</b><br><i>Count</i>: %{y}\",\"type\":\"histogram\"}],\"pie\":[{\"hovertemplate\":\"<b>%{label}</b><br><i>Count</i>: %{value}\",\"type\":\"pie\"}],\"scatter\":[{\"hovertemplate\":\"<b>%{x}</b><br><i>Count</i>: %{y}\",\"type\":\"scatter\"}]},\"layout\":{\"colorway\":[\"#1F77B4\",\"#FF7F0E\",\"#2CA02C\",\"#D62728\",\"#9467BD\",\"#8C564B\",\"#E377C2\",\"#7F7F7F\",\"#BCBD22\",\"#17BECF\"],\"dragmode\":\"pan\",\"font\":{\"size\":16},\"legend\":{\"font\":{\"size\":17}},\"paper_bgcolor\":\"rgb(171,200,227)\",\"plot_bgcolor\":\"#BAE0F3\",\"showlegend\":false,\"title\":{\"font\":{\"size\":19}},\"uniformtext\":{\"minsize\":12,\"mode\":\"hide\"},\"xaxis\":{\"showgrid\":false,\"zeroline\":false},\"yaxis\":{\"zeroline\":false}}},\"xaxis\":{\"anchor\":\"y\",\"domain\":[0.0,1.0]},\"yaxis\":{\"anchor\":\"x\",\"domain\":[0.66,0.78]},\"xaxis2\":{\"anchor\":\"y2\",\"domain\":[0.0,0.48333333333333334]},\"yaxis2\":{\"anchor\":\"x2\",\"domain\":[0.44,0.56]},\"xaxis3\":{\"anchor\":\"y3\",\"domain\":[0.5166666666666667,1.0]},\"yaxis3\":{\"anchor\":\"x3\",\"domain\":[0.44,0.56]},\"xaxis4\":{\"anchor\":\"y4\",\"domain\":[0.0,1.0]},\"yaxis4\":{\"anchor\":\"x4\",\"domain\":[0.0,0.33999999999999997]},\"annotations\":[{\"font\":{\"size\":16},\"showarrow\":false,\"text\":\"Types of Jobs in Dataset\",\"x\":0.15555555555555556,\"xanchor\":\"center\",\"xref\":\"paper\",\"y\":1.0,\"yanchor\":\"bottom\",\"yref\":\"paper\"},{\"font\":{\"size\":16},\"showarrow\":false,\"text\":\"Jobs by Sector\",\"x\":0.5,\"xanchor\":\"center\",\"xref\":\"paper\",\"y\":1.0,\"yanchor\":\"bottom\",\"yref\":\"paper\"},{\"font\":{\"size\":16},\"showarrow\":false,\"text\":\"Jobs by Function\",\"x\":0.8444444444444444,\"xanchor\":\"center\",\"xref\":\"paper\",\"y\":1.0,\"yanchor\":\"bottom\",\"yref\":\"paper\"},{\"font\":{\"size\":16},\"showarrow\":false,\"text\":\"Number of Jobs Over Time\",\"x\":0.5,\"xanchor\":\"center\",\"xref\":\"paper\",\"y\":0.78,\"yanchor\":\"bottom\",\"yref\":\"paper\"},{\"font\":{\"size\":16},\"showarrow\":false,\"text\":\"Number of Jobs by Work Style\",\"x\":0.24166666666666667,\"xanchor\":\"center\",\"xref\":\"paper\",\"y\":0.56,\"yanchor\":\"bottom\",\"yref\":\"paper\"},{\"font\":{\"size\":16},\"showarrow\":false,\"text\":\"Number of Jobs by Employment Type\",\"x\":0.7583333333333333,\"xanchor\":\"center\",\"xref\":\"paper\",\"y\":0.56,\"yanchor\":\"bottom\",\"yref\":\"paper\"},{\"font\":{\"size\":16},\"showarrow\":false,\"text\":\"Salary (Lower Bound) Based on Seniority Level\",\"x\":0.5,\"xanchor\":\"center\",\"xref\":\"paper\",\"y\":0.33999999999999997,\"yanchor\":\"bottom\",\"yref\":\"paper\"}],\"title\":{\"font\":{\"size\":50},\"text\":\"Linkedin Job Dataset Data Report\",\"xanchor\":\"left\",\"x\":0.05},\"margin\":{\"t\":200},\"height\":1000},                        {\"responsive\": true}                    ).then(function(){\n",
       "                            \n",
       "var gd = document.getElementById('49b21372-58aa-4277-a72a-486ff481d50a');\n",
       "var x = new MutationObserver(function (mutations, observer) {{\n",
       "        var display = window.getComputedStyle(gd).display;\n",
       "        if (!display || display === 'none') {{\n",
       "            console.log([gd, 'removed!']);\n",
       "            Plotly.purge(gd);\n",
       "            observer.disconnect();\n",
       "        }}\n",
       "}});\n",
       "\n",
       "// Listen for the removal of the full notebook cells\n",
       "var notebookContainer = gd.closest('#notebook-container');\n",
       "if (notebookContainer) {{\n",
       "    x.observe(notebookContainer, {childList: true});\n",
       "}}\n",
       "\n",
       "// Listen for the clearing of the current output cell\n",
       "var outputEl = gd.closest('.output');\n",
       "if (outputEl) {{\n",
       "    x.observe(outputEl, {childList: true});\n",
       "}}\n",
       "\n",
       "                        })                };                });            </script>        </div>"
      ]
     },
     "metadata": {},
     "output_type": "display_data"
    }
   ],
   "source": [
    "figures = [fig1, fig4, fig5, fig2, fig3, fig6, fig7]\n",
    "specs = [\n",
    "    [{\"type\" : \"pie\", \"colspan\" : 2}, None, {\"type\" : \"pie\", \"colspan\" : 2}, None, {\"type\" : \"pie\", \"colspan\" : 2}, None],\n",
    "    [{\"type\" : \"scatter\", \"colspan\" : 6}, None, None, None, None, None],\n",
    "    [{\"type\" : \"histogram\", \"colspan\" : 3}, None, None, {\"type\" : \"histogram\", \"colspan\" : 3}, None, None],\n",
    "    [{\"type\" : \"box\", \"colspan\" : 6, \"rowspan\" : 2}, None, None, None, None, None],\n",
    "    [None, None, None, None,None, None]\n",
    "]\n",
    "\n",
    "fig = generate_subplots(figures, desired_rows = 5, desired_columns = 6, custom_specs=specs)\n",
    "fig.update_layout(height=1000, title=dict(\n",
    "        text=\"Linkedin Job Dataset Data Report\",\n",
    "        xanchor=\"left\",\n",
    "        x=0.05,\n",
    "        font_size=50\n",
    "    ),\n",
    "    margin=dict(t=200),\n",
    ")"
   ]
  },
  {
   "cell_type": "code",
   "execution_count": 61,
   "metadata": {},
   "outputs": [
    {
     "data": {
      "application/vnd.jupyter.widget-view+json": {
       "model_id": "427d5ebbd460428a8a7a78d1efec9abe",
       "version_major": 2,
       "version_minor": 0
      },
      "text/plain": [
       "FigureWidget({\n",
       "    'data': [{'alignmentgroup': 'True',\n",
       "              'hoverinfo': 'x',\n",
       "              'legendgroup': 'Entry level',\n",
       "              'marker': {'color': '#FF7F0E'},\n",
       "              'name': 'Entry level',\n",
       "              'notched': False,\n",
       "              'offsetgroup': 'Entry level',\n",
       "              'orientation': 'h',\n",
       "              'showlegend': True,\n",
       "              'type': 'box',\n",
       "              'uid': '339338f3-c4f0-41bd-a6e9-7e7abeb9e7e4',\n",
       "              'x': array([   nan,    nan,    nan, ...,    nan, 42240., 57600.]),\n",
       "              'x0': ' ',\n",
       "              'xaxis': 'x',\n",
       "              'y0': ' ',\n",
       "              'yaxis': 'y'},\n",
       "             {'alignmentgroup': 'True',\n",
       "              'hoverinfo': 'x',\n",
       "              'legendgroup': 'Associate',\n",
       "              'marker': {'color': '#2CA02C'},\n",
       "              'name': 'Associate',\n",
       "              'notched': False,\n",
       "              'offsetgroup': 'Associate',\n",
       "              'orientation': 'h',\n",
       "              'showlegend': True,\n",
       "              'type': 'box',\n",
       "              'uid': '4a3def83-84f3-459e-9343-9fadc24748d9',\n",
       "              'x': array([100000.,     nan, 100000., ...,     nan, 120000.,     nan]),\n",
       "              'x0': ' ',\n",
       "              'xaxis': 'x',\n",
       "              'y0': ' ',\n",
       "              'yaxis': 'y'},\n",
       "             {'alignmentgroup': 'True',\n",
       "              'hoverinfo': 'x',\n",
       "              'legendgroup': 'Mid-Senior level',\n",
       "              'marker': {'color': '#D62728'},\n",
       "              'name': 'Mid-Senior level',\n",
       "              'notched': False,\n",
       "              'offsetgroup': 'Mid-Senior level',\n",
       "              'orientation': 'h',\n",
       "              'showlegend': True,\n",
       "              'type': 'box',\n",
       "              'uid': '586caf94-379b-4093-aa96-3e2b31676f17',\n",
       "              'x': array([    nan,     nan,     nan, ...,     nan,  75000., 130000.]),\n",
       "              'x0': ' ',\n",
       "              'xaxis': 'x',\n",
       "              'y0': ' ',\n",
       "              'yaxis': 'y'},\n",
       "             {'alignmentgroup': 'True',\n",
       "              'hoverinfo': 'x',\n",
       "              'legendgroup': 'Executive',\n",
       "              'marker': {'color': '#9467BD'},\n",
       "              'name': 'Executive',\n",
       "              'notched': False,\n",
       "              'offsetgroup': 'Executive',\n",
       "              'orientation': 'h',\n",
       "              'showlegend': True,\n",
       "              'type': 'box',\n",
       "              'uid': '523b7471-88d0-43fb-9069-95ac5a8d2838',\n",
       "              'x': array([nan, nan]),\n",
       "              'x0': ' ',\n",
       "              'xaxis': 'x',\n",
       "              'y0': ' ',\n",
       "              'yaxis': 'y'}],\n",
       "    'layout': {'annotations': [{'ax': 0,\n",
       "                                'ay': 0,\n",
       "                                'font': {'size': 16},\n",
       "                                'text': 'Sample Size: 965',\n",
       "                                'x': 1.1,\n",
       "                                'xanchor': 'center',\n",
       "                                'xref': 'paper',\n",
       "                                'y': -0.1,\n",
       "                                'yanchor': 'top',\n",
       "                                'yref': 'paper'}],\n",
       "               'boxmode': 'group',\n",
       "               'legend': {'title': {'text': 'Seniority level'}, 'tracegroupgap': 0},\n",
       "               'margin': {'t': 60},\n",
       "               'showlegend': True,\n",
       "               'template': '...',\n",
       "               'title': {'text': 'Salary (Lower Bound) Based on Seniority Level'},\n",
       "               'xaxis': {'anchor': 'y', 'domain': [0.0, 1.0], 'showgrid': True, 'title': {'text': 'salary_lb'}},\n",
       "               'yaxis': {'anchor': 'x', 'domain': [0.0, 1.0]}}\n",
       "})"
      ]
     },
     "execution_count": 61,
     "metadata": {},
     "output_type": "execute_result"
    }
   ],
   "source": [
    "go.FigureWidget(data=fig7[\"data\"], layout=fig7[\"layout\"])"
   ]
  },
  {
   "cell_type": "code",
   "execution_count": 62,
   "metadata": {},
   "outputs": [
    {
     "data": {
      "application/vnd.jupyter.widget-view+json": {
       "model_id": "a8721a048171405db68d3f6131229c09",
       "version_major": 2,
       "version_minor": 0
      },
      "text/plain": [
       "GridspecLayout(children=(Button(button_style='warning', description='Button 0 - 0', layout=Layout(grid_area='w…"
      ]
     },
     "execution_count": 62,
     "metadata": {},
     "output_type": "execute_result"
    }
   ],
   "source": [
    "from ipywidgets import Button, Layout, jslink, IntText, IntSlider, GridspecLayout, HBox, VBox\n",
    "\n",
    "grid = GridspecLayout(4, 1)\n",
    "\n",
    "def create_expanded_button(description, button_style):\n",
    "    return Button(description=description, button_style=button_style, layout=Layout(height='auto', width='auto'))\n",
    "\n",
    "for i in range(4):\n",
    "    for j in range(1):\n",
    "        grid[i, j] = create_expanded_button('Button {} - {}'.format(i, j), 'warning')\n",
    "grid\n"
   ]
  },
  {
   "cell_type": "code",
   "execution_count": 63,
   "metadata": {},
   "outputs": [],
   "source": [
    "def convert_figures_to_figurewidgets(figures : list[go.Figure]):\n",
    "    return [go.FigureWidget(data=[trace.to_plotly_json() for trace in figure[\"data\"]], \n",
    "                            layout=figure[\"layout\"]) for figure in figures]\n",
    "\n",
    "def generate_gridspec(figures, custom_specs=None, desired_rows=None, desired_columns=None, titles=None,\n",
    "                      auto_position=True, custom_positions=None):\n",
    "    '''\n",
    "        1. Convert figures into FigureWidgets\n",
    "        2. Prepare GridSpec\n",
    "        3. Traverse all figures through the specs object\n",
    "            a. For each figure traversed, add it to GridSpec\n",
    "    '''\n",
    "        \n",
    "    NUM_FIGURES = len(figures)\n",
    "    DESIRED_ROWS = desired_rows\n",
    "    DESIRED_COLUMNS = desired_columns\n",
    "    # num_traces = sum([len(figure.data) for figure in figures])\n",
    "    # if desired_rows is not None:\n",
    "    #     desired_columns = num_figures // desired_rows + 1 \n",
    "\n",
    "    # if desired_columns is not None:\n",
    "    #     desired_rows = num_figures // desired_columns + 1\n",
    "\n",
    "    specs = None\n",
    "    specs_positions = None\n",
    "    figures = convert_figures_to_figurewidgets(figures)\n",
    "    grid = GridspecLayout(DESIRED_ROWS, DESIRED_COLUMNS)\n",
    "\n",
    "\n",
    "    # find specs positions based on col_span and row_span\n",
    "    if custom_specs:\n",
    "        try:\n",
    "            for i, spec_row in enumerate(specs):\n",
    "                for j, spec_value in enumerate(spec_row):\n",
    "                    if spec_value is None:\n",
    "                        continue\n",
    "                    \n",
    "                    # find first position\n",
    "                    specs_positions.append((i+1, j+1))\n",
    "                    raise BreakLoop(\"Broke out of Pythonic Loop\") # Python is very bad at breaking out of a double for loop\n",
    "                \n",
    "        except BreakLoop as e:\n",
    "            pass\n",
    "\n",
    "        row, col = specs_positions.pop()\n",
    "        \n",
    "        # Work with Pythonic grid instead of Plotly grid, which starts at (1,1) top-left instead of (0,0) top-left\n",
    "        row -= 1\n",
    "        col -= 1\n",
    "\n",
    "        for i in range(NUM_FIGURES):\n",
    "            this_figure_row = row\n",
    "            this_figure_column = col\n",
    "            specs_dict = specs[row][col]\n",
    "            if specs_dict is None:\n",
    "                raise Exception(\n",
    "                    \"Your figures should not be drawn in an empty subplot. Please make sure to indicate the correct number of blank rows/cols\"\n",
    "                    \"or colspan/rowspan going after a figure if necessary\" \n",
    "                )\n",
    "\n",
    "            # add col_blank + row_blank positional changes and remove attributes from specs dictionary\n",
    "            if \"col_blank\" in specs_dict:\n",
    "                col += (specs_dict[\"col_blank\"] + 1)\n",
    "\n",
    "            if \"row_blank\" in specs_dict:\n",
    "                row += (specs_dict[\"row_blank\"] + 1)\n",
    "\n",
    "            # Adjust implicitly and explicity to colspan and rowspan\n",
    "            if \"colspan\" in specs_dict:\n",
    "                col += specs_dict[\"colspan\"]\n",
    "            else:\n",
    "                col += 1\n",
    "            \n",
    "            \n",
    "            if \"rowspan\" in specs_dict:\n",
    "                # rowspan moves independently of col operations\n",
    "                row += specs_dict[\"rowspan\"]\n",
    "            else:\n",
    "                if col >= DESIRED_COLUMNS:\n",
    "                    row += 1\n",
    "            \n",
    "            if col >= DESIRED_COLUMNS:                 \n",
    "                col = 0\n",
    "\n",
    "            if this_figure_row == row:\n",
    "                grid[row, this_figure_column:column] = figures[i]\n",
    "            else:\n",
    "                grid[this_figure_row:row, this_figure_column:column] = figures[i]\n",
    "            \n",
    "    else:\n",
    "        specs = np.full((DESIRED_ROWS, DESIRED_COLUMNS), {})\n",
    "        k = 0\n",
    "        # Populate all figures from top-left to bottom-right into specs\n",
    "        for i in range(DESIRED_ROWS):\n",
    "            for j in range(DESIRED_COLUMNS):\n",
    "                grid[i, j] = figures[k]\n",
    "                k += 1\n",
    "            \n",
    "            if k >= NUM_FIGURES:\n",
    "                break\n",
    "    \n",
    "    return grid"
   ]
  },
  {
   "cell_type": "markdown",
   "metadata": {},
   "source": [
    "Subplot customization has poor design in Plotly, since we can't load layouts into each subplot figure. Let's use IPyWidgets to plot instead"
   ]
  },
  {
   "cell_type": "code",
   "execution_count": 64,
   "metadata": {},
   "outputs": [
    {
     "name": "stderr",
     "output_type": "stream",
     "text": [
      "C:\\Users\\harri\\miniconda3\\envs\\py310_notebook_env\\lib\\site-packages\\jupyter_client\\session.py:719: UserWarning:\n",
      "\n",
      "Message serialization failed with:\n",
      "Out of range float values are not JSON compliant\n",
      "Supporting this message is deprecated in jupyter-client 7, please make sure your message is JSON-compliant\n",
      "\n"
     ]
    }
   ],
   "source": [
    "jup_figures = convert_figures_to_figurewidgets(figures)"
   ]
  },
  {
   "cell_type": "code",
   "execution_count": 65,
   "metadata": {},
   "outputs": [],
   "source": [
    "jup_figure_1 = jup_figures[0]"
   ]
  },
  {
   "cell_type": "code",
   "execution_count": 66,
   "metadata": {},
   "outputs": [
    {
     "data": {
      "text/plain": [
       "dict_keys(['customdata', 'domain', 'labels', 'legendgroup', 'marker', 'name', 'showlegend', 'textposition', 'values', 'type', 'uid'])"
      ]
     },
     "execution_count": 66,
     "metadata": {},
     "output_type": "execute_result"
    }
   ],
   "source": [
    "jup_figure_1_data = jup_figures[0][\"data\"]\n",
    "jup_figure_1_data_json = jup_figure_1_data[0].to_plotly_json()\n",
    "jup_figure_1_data_json.keys()"
   ]
  },
  {
   "cell_type": "code",
   "execution_count": 67,
   "metadata": {},
   "outputs": [],
   "source": [
    "pie_charts = VBox([jup_figures[0], jup_figures[1], jup_figures[2]])\n",
    "bar_charts = VBox([jup_figures[4], jup_figures[5]])\n",
    "time_chart = jup_figures[3]\n",
    "salary_chart_by_seniority = jup_figures[6]"
   ]
  },
  {
   "cell_type": "code",
   "execution_count": 68,
   "metadata": {},
   "outputs": [],
   "source": [
    "report = VBox([pie_charts, bar_charts, time_chart, salary_chart_by_seniority], layout=dict(height=\"3000px\", margin=\"0px 0px 0px 0px\", padding=\"0px 0px 0px 0px\"))"
   ]
  },
  {
   "cell_type": "code",
   "execution_count": 69,
   "metadata": {},
   "outputs": [
    {
     "data": {
      "application/vnd.jupyter.widget-view+json": {
       "model_id": "b14bc6db12ca42debbcf9b9a70cfee68",
       "version_major": 2,
       "version_minor": 0
      },
      "text/plain": [
       "VBox(children=(VBox(children=(FigureWidget({\n",
       "    'data': [{'customdata': array([['Data Analyst'],\n",
       "            …"
      ]
     },
     "execution_count": 69,
     "metadata": {},
     "output_type": "execute_result"
    }
   ],
   "source": [
    "report"
   ]
  },
  {
   "cell_type": "code",
   "execution_count": 109,
   "metadata": {},
   "outputs": [],
   "source": [
    "from ipywidgets import IntSlider\n",
    "from ipywidgets.embed import embed_minimal_html, embed_data\n",
    "slider = IntSlider(value=40)\n",
    "embed_minimal_html('new.html', views=[slider], title='Widgets export')"
   ]
  },
  {
   "cell_type": "code",
   "execution_count": null,
   "metadata": {},
   "outputs": [],
   "source": [
    "from ipywidgets import IntSlider\n",
    "from ipywidgets.embed import embed_minimal_html, embed_data\n",
    "from IPython.display import HTML\n",
    "# container = HTML('<div id=\"my-widget-container\"></div>')\n",
    "# data = embed_data(report)\n",
    "# container.value = f'<script type=\"application/vnd.jupyter.widget-view+json\">{data}</script>'"
   ]
  },
  {
   "cell_type": "code",
   "execution_count": 96,
   "metadata": {},
   "outputs": [],
   "source": [
    "\n",
    "\n",
    "embed_minimal_html('export.html', views=[time_chart], title='Widgets export')"
   ]
  },
  {
   "cell_type": "markdown",
   "metadata": {},
   "source": [
    "# 3. Extract Words From Job Description"
   ]
  },
  {
   "cell_type": "code",
   "execution_count": null,
   "metadata": {},
   "outputs": [],
   "source": [
    "# a = np.array([0,1,2])\n",
    "# b = np.array([0,0,0])\n",
    "# a = a[:, np.newaxis]\n",
    "# b = b[:, np.newaxis]"
   ]
  },
  {
   "cell_type": "code",
   "execution_count": null,
   "metadata": {},
   "outputs": [],
   "source": [
    "# np.concatenate((b,a), axis=1)"
   ]
  },
  {
   "cell_type": "code",
   "execution_count": null,
   "metadata": {},
   "outputs": [],
   "source": [
    "# stemmer = SnowballStemmer('english')\n",
    "# lemmatizer = WordNetLemmatizer()"
   ]
  },
  {
   "cell_type": "code",
   "execution_count": null,
   "metadata": {},
   "outputs": [],
   "source": [
    "# lemmatizer.lemmatize(\"hellothere\")"
   ]
  },
  {
   "cell_type": "markdown",
   "metadata": {},
   "source": [
    "Extract both lowercase and uppercase words using regex match. However, we do not want to keep some lowercase and uppercase words since regex matches may sometimes only match a part of a word, since we simply look for words instead of delimiting by a specific character, which can lead to partial matches. We need to check for those partial matches and remove them"
   ]
  },
  {
   "cell_type": "markdown",
   "metadata": {},
   "source": [
    "## Overlap Delim (Bad Idea by Me)"
   ]
  },
  {
   "cell_type": "code",
   "execution_count": null,
   "metadata": {},
   "outputs": [
    {
     "ename": "ModuleNotFoundError",
     "evalue": "No module named 'nltk'",
     "output_type": "error",
     "traceback": [
      "\u001b[1;31m---------------------------------------------------------------------------\u001b[0m",
      "\u001b[1;31mModuleNotFoundError\u001b[0m                       Traceback (most recent call last)",
      "\u001b[1;32mc:\\Users\\harri\\Documents\\Programming\\linkedin_data_analysis\\PLotLee_Mini\\linkedin-job-data-analysis_subplots_test.ipynb Cell 81\u001b[0m line \u001b[0;36m1\n\u001b[1;32m----> <a href='vscode-notebook-cell:/c%3A/Users/harri/Documents/Programming/linkedin_data_analysis/PLotLee_Mini/linkedin-job-data-analysis_subplots_test.ipynb#Y142sZmlsZQ%3D%3D?line=0'>1</a>\u001b[0m \u001b[39mimport\u001b[39;00m \u001b[39mnltk\u001b[39;00m\n\u001b[0;32m      <a href='vscode-notebook-cell:/c%3A/Users/harri/Documents/Programming/linkedin_data_analysis/PLotLee_Mini/linkedin-job-data-analysis_subplots_test.ipynb#Y142sZmlsZQ%3D%3D?line=1'>2</a>\u001b[0m CHARS_TO_KEEP \u001b[39m=\u001b[39m \u001b[39m\"\u001b[39m\u001b[39m\\\u001b[39m\u001b[39mw$\u001b[39m\u001b[39m%\u001b[39m\u001b[39m#\u001b[39m\u001b[39m\"\u001b[39m \u001b[39m# Characters that should be kept because they bring semantic value\u001b[39;00m\n\u001b[0;32m      <a href='vscode-notebook-cell:/c%3A/Users/harri/Documents/Programming/linkedin_data_analysis/PLotLee_Mini/linkedin-job-data-analysis_subplots_test.ipynb#Y142sZmlsZQ%3D%3D?line=2'>3</a>\u001b[0m english_vocab \u001b[39m=\u001b[39m \u001b[39mset\u001b[39m(w\u001b[39m.\u001b[39mlower() \u001b[39mfor\u001b[39;00m w \u001b[39min\u001b[39;00m nltk\u001b[39m.\u001b[39mcorpus\u001b[39m.\u001b[39mwords\u001b[39m.\u001b[39mwords())\n",
      "\u001b[1;31mModuleNotFoundError\u001b[0m: No module named 'nltk'"
     ]
    }
   ],
   "source": [
    "import nltk\n",
    "CHARS_TO_KEEP = \"\\w$%#\" # Characters that should be kept because they bring semantic value\n",
    "english_vocab = set(w.lower() for w in nltk.corpus.words.words())\n",
    "\n",
    "def is_between(a : int,  value : int, b : int):\n",
    "    '''\n",
    "        a: lower bound\n",
    "        b: upper bound\n",
    "        value: value to test bound\n",
    "    '''\n",
    "    return a <= value <= b\n",
    "\n",
    "assert is_between(1, 1.5, 2) == True\n",
    "assert is_between(1, 3, 2) == False"
   ]
  },
  {
   "cell_type": "code",
   "execution_count": null,
   "metadata": {},
   "outputs": [],
   "source": [
    "def deal_with_word_match_overlap(lc_word_match : re.Match, uc_word_match: re.Match,\n",
    "                                index_num : int, should_segment=True) -> int:\n",
    "    '''\n",
    "       lc_word_match : first_match\n",
    "       uc_word_match : second_match\n",
    "       index_num : row index number of our df DataFrame\n",
    "    \n",
    "       returns: \n",
    "           overlap State (tells us which iterator to advance):\n",
    "               state of 1 means second_match precedes first match\n",
    "               state of 0 means second_match overlaps first match\n",
    "              state of -1 means second_match succeeds first match \n",
    "           valid string: word that should be added to our final array\n",
    "    '''\n",
    "    overlap_state = -99\n",
    "    valid_string = \"\"\n",
    "    \n",
    "    ## Overlap found. That means only one string is valid \n",
    "    if is_between(lc_word_match.start(), uc_word_match.start(), lc_word_match.end()) or \\\n",
    "    is_between(lc_word_match.start(), uc_word_match.end(), lc_word_match.end()):    \n",
    "        if lc_word_match.string.lower() in english_vocab:\n",
    "            valid_string = lc_word_match.group()\n",
    "        elif uc_word_match.string.lower() in english_vocab:\n",
    "            valid_string = uc_word_match.group()\n",
    "        else:\n",
    "            if should_segment is True:\n",
    "                if len(lc_word_match.group()) < len(uc_word_match.group()):\n",
    "                    valid_string = segment(uc_word_match.group())\n",
    "                else:\n",
    "                    valid_string = segment(lc_word_match.group())\n",
    "#             print(\"----------------------------- WARNING -----------------------------\")\n",
    "#             print(f\"Row {index_num} with LC_match {lc_word_match}\")\n",
    "#             print(f\"and UC_match {uc_word_match} did not produce a valid string\")\n",
    "#             print(f\"Proceeding to assign valid_string to lc_word_match string\")\n",
    "#             print(\"-------------------------------------------------------------------\", end=\"\\n\\n\")\n",
    "            else:\n",
    "                if len(lc_word_match.group()) < len(uc_word_match.group()):\n",
    "                    valid_string = uc_word_match.group()\n",
    "                else:\n",
    "                    valid_string = lc_word_match.group()\n",
    "        overlap_state = 0\n",
    "    elif uc_word_match.start() >= lc_word_match.start():\n",
    "        valid_string = lc_word_match.group()\n",
    "        overlap_state = -1\n",
    "    elif uc_word_match.start() <= lc_word_match.start():\n",
    "        valid_string = uc_word_match.group()\n",
    "        overlap_state = 1\n",
    "        \n",
    "    return valid_string, overlap_state"
   ]
  },
  {
   "cell_type": "code",
   "execution_count": null,
   "metadata": {},
   "outputs": [],
   "source": [
    "## This should also find all lowercase words\n",
    "def find_all_words_based_on_delim_and_capital_letters(row, test=False):\n",
    "    '''\n",
    "        Assumption: Only segment words which include capital letters\n",
    "    '''\n",
    "    job_description = row['description'] if test is False else row\n",
    "    lc_word_generators = itertools.tee(re.finditer(f\"[{CHARS_TO_KEEP}]+\", job_description))\n",
    "    uc_word_generators = itertools.tee(re.finditer(\"[A-Z]{1}\\w+\", job_description))\n",
    "    lc_word_generator_length = sum(1 for elem in lc_word_generators[0])\n",
    "    uc_word_generator_length = sum(1 for elem in uc_word_generators[0])\n",
    "    final_words_array = []\n",
    "    \n",
    "    lc_match = next(lc_word_generators[1])\n",
    "    uc_match = next(uc_word_generators[1])\n",
    "    init_lc_index = 0\n",
    "    init_uc_index = 0\n",
    "    overlap_state = -99\n",
    "\n",
    "    while init_lc_index < lc_word_generator_length and \\\n",
    "          init_uc_index < uc_word_generator_length:\n",
    "            # Finally, increment iterator if the above condition fits\n",
    "            if overlap_state == 1:\n",
    "                uc_match = next(uc_word_generators[1])\n",
    "            elif overlap_state == 0:\n",
    "                lc_match = next(lc_word_generators[1])\n",
    "                uc_match = next(uc_word_generators[1])                \n",
    "            elif overlap_state == -1:\n",
    "                lc_match = next(lc_word_generators[1])\n",
    "            \n",
    "            # First, check overlap status\n",
    "            valid_string, overlap_state = deal_with_word_match_overlap(\n",
    "                lc_match,\n",
    "                uc_match, \n",
    "                0) # Use 0 instead of row.name for now\n",
    "        \n",
    "            if type(valid_string) == list:\n",
    "                final_words_array.extend(valid_string)\n",
    "            else:\n",
    "                final_words_array.append(valid_string)\n",
    "            \n",
    "            # Based on overlap status, plan iterator increment\n",
    "            if overlap_state == 1:\n",
    "                init_uc_index += 1\n",
    "\n",
    "            elif overlap_state == 0:\n",
    "                ## Only keep one of the generator words if they overlap each other\n",
    "                init_lc_index += 1\n",
    "                init_uc_index += 1\n",
    "\n",
    "            elif overlap_state == -1:\n",
    "                init_lc_index += 1\n",
    "    \n",
    "    try:\n",
    "        if init_lc_index < lc_word_generator_length:\n",
    "            while True:\n",
    "                final_words_array.append(next(lc_word_generators[1]).group())\n",
    "\n",
    "        elif init_uc_index < uc_word_generator_length:\n",
    "            while True:\n",
    "                final_words_array.append(next(uc_word_generators[1]).group())\n",
    "    except StopIteration:\n",
    "        pass\n",
    "\n",
    "    np_final_word_array = np.expand_dims(np.array(final_words_array), axis=1)\n",
    "    np_job_description_index = np.expand_dims([0] * len(final_words_array), axis=1)\n",
    "    return np.concatenate((np_job_description_index, np_final_word_array), axis=1).tolist()\n",
    "\n",
    "\n",
    "\n",
    "# text = \"On average, I would hire a lot of coolcatseatingspaghetti for this\"\n",
    "# print(find_all_words_based_on_delim_and_capital_letters(text, test=True))\n",
    "\n",
    "# text = \"The candidate is expected to show up to all meetingsKey responsibilities\"\n",
    "# print(find_all_words_based_on_delim_and_capital_letters(text, test=True))\n",
    "\n",
    "# words_based_on_delim = df.head(5).apply(find_all_words_based_on_delim_and_capital_letters, axis=1).explode()"
   ]
  },
  {
   "cell_type": "markdown",
   "metadata": {},
   "source": [
    "## Normal Delim"
   ]
  },
  {
   "cell_type": "code",
   "execution_count": null,
   "metadata": {},
   "outputs": [
    {
     "ename": "NameError",
     "evalue": "name 'CHARS_TO_KEEP' is not defined",
     "output_type": "error",
     "traceback": [
      "\u001b[1;31m---------------------------------------------------------------------------\u001b[0m",
      "\u001b[1;31mNameError\u001b[0m                                 Traceback (most recent call last)",
      "\u001b[1;32mc:\\Users\\harri\\Documents\\Programming\\linkedin_data_analysis\\PLotLee_Mini\\linkedin-job-data-analysis_subplots_test.ipynb Cell 85\u001b[0m line \u001b[0;36m2\n\u001b[0;32m     <a href='vscode-notebook-cell:/c%3A/Users/harri/Documents/Programming/linkedin_data_analysis/PLotLee_Mini/linkedin-job-data-analysis_subplots_test.ipynb#Y146sZmlsZQ%3D%3D?line=15'>16</a>\u001b[0m     np_job_description_index \u001b[39m=\u001b[39m np\u001b[39m.\u001b[39mexpand_dims([row\u001b[39m.\u001b[39mname \u001b[39mif\u001b[39;00m test \u001b[39mis\u001b[39;00m \u001b[39mFalse\u001b[39;00m \u001b[39melse\u001b[39;00m \u001b[39m0\u001b[39m] \n\u001b[0;32m     <a href='vscode-notebook-cell:/c%3A/Users/harri/Documents/Programming/linkedin_data_analysis/PLotLee_Mini/linkedin-job-data-analysis_subplots_test.ipynb#Y146sZmlsZQ%3D%3D?line=16'>17</a>\u001b[0m                                               \u001b[39m*\u001b[39m \u001b[39mlen\u001b[39m(final_words_array), axis\u001b[39m=\u001b[39m\u001b[39m1\u001b[39m)\n\u001b[0;32m     <a href='vscode-notebook-cell:/c%3A/Users/harri/Documents/Programming/linkedin_data_analysis/PLotLee_Mini/linkedin-job-data-analysis_subplots_test.ipynb#Y146sZmlsZQ%3D%3D?line=17'>18</a>\u001b[0m     \u001b[39mreturn\u001b[39;00m np\u001b[39m.\u001b[39mconcatenate((np_job_description_index, np_final_word_array), axis\u001b[39m=\u001b[39m\u001b[39m1\u001b[39m)\u001b[39m.\u001b[39mtolist()\n\u001b[1;32m---> <a href='vscode-notebook-cell:/c%3A/Users/harri/Documents/Programming/linkedin_data_analysis/PLotLee_Mini/linkedin-job-data-analysis_subplots_test.ipynb#Y146sZmlsZQ%3D%3D?line=20'>21</a>\u001b[0m all_words \u001b[39m=\u001b[39m df\u001b[39m.\u001b[39;49mswifter\u001b[39m.\u001b[39;49mapply(find_all_words_based_on_normal_delim, axis\u001b[39m=\u001b[39;49m\u001b[39m1\u001b[39;49m)\u001b[39m.\u001b[39mexplode()\n",
      "File \u001b[1;32mc:\\Users\\harri\\miniconda3\\envs\\py310_notebook_env\\lib\\site-packages\\swifter\\swifter.py:419\u001b[0m, in \u001b[0;36mDataFrameAccessor.apply\u001b[1;34m(self, func, axis, raw, result_type, args, **kwds)\u001b[0m\n\u001b[0;32m    417\u001b[0m \u001b[39mtry\u001b[39;00m:  \u001b[39m# try to vectorize\u001b[39;00m\n\u001b[0;32m    418\u001b[0m     \u001b[39mwith\u001b[39;00m suppress_stdout_stderr_logging():\n\u001b[1;32m--> 419\u001b[0m         tmp_df \u001b[39m=\u001b[39m func(sample, \u001b[39m*\u001b[39margs, \u001b[39m*\u001b[39m\u001b[39m*\u001b[39mkwds)\n\u001b[0;32m    420\u001b[0m         sample_df \u001b[39m=\u001b[39m sample\u001b[39m.\u001b[39mapply(func, axis\u001b[39m=\u001b[39maxis, raw\u001b[39m=\u001b[39mraw, result_type\u001b[39m=\u001b[39mresult_type, args\u001b[39m=\u001b[39margs, \u001b[39m*\u001b[39m\u001b[39m*\u001b[39mkwds)\n\u001b[0;32m    421\u001b[0m         \u001b[39mself\u001b[39m\u001b[39m.\u001b[39m_validate_apply(\n\u001b[0;32m    422\u001b[0m             np\u001b[39m.\u001b[39marray_equal(sample_df, tmp_df) \u001b[39m&\u001b[39m (\u001b[39mhasattr\u001b[39m(tmp_df, \u001b[39m\"\u001b[39m\u001b[39mshape\u001b[39m\u001b[39m\"\u001b[39m)) \u001b[39m&\u001b[39m (sample_df\u001b[39m.\u001b[39mshape \u001b[39m==\u001b[39m tmp_df\u001b[39m.\u001b[39mshape),\n\u001b[0;32m    423\u001b[0m             error_message\u001b[39m=\u001b[39m(\u001b[39m\"\u001b[39m\u001b[39mVectorized function sample does not match pandas apply sample.\u001b[39m\u001b[39m\"\u001b[39m),\n\u001b[0;32m    424\u001b[0m         )\n",
      "\u001b[1;32mc:\\Users\\harri\\Documents\\Programming\\linkedin_data_analysis\\PLotLee_Mini\\linkedin-job-data-analysis_subplots_test.ipynb Cell 85\u001b[0m line \u001b[0;36m8\n\u001b[0;32m      <a href='vscode-notebook-cell:/c%3A/Users/harri/Documents/Programming/linkedin_data_analysis/PLotLee_Mini/linkedin-job-data-analysis_subplots_test.ipynb#Y146sZmlsZQ%3D%3D?line=5'>6</a>\u001b[0m \u001b[39m# Segment every word. Can be inefficient! How do we avoid this\u001b[39;00m\n\u001b[0;32m      <a href='vscode-notebook-cell:/c%3A/Users/harri/Documents/Programming/linkedin_data_analysis/PLotLee_Mini/linkedin-job-data-analysis_subplots_test.ipynb#Y146sZmlsZQ%3D%3D?line=6'>7</a>\u001b[0m all_words \u001b[39m=\u001b[39m []\n\u001b[1;32m----> <a href='vscode-notebook-cell:/c%3A/Users/harri/Documents/Programming/linkedin_data_analysis/PLotLee_Mini/linkedin-job-data-analysis_subplots_test.ipynb#Y146sZmlsZQ%3D%3D?line=7'>8</a>\u001b[0m \u001b[39mfor\u001b[39;00m word \u001b[39min\u001b[39;00m re\u001b[39m.\u001b[39mfindall(\u001b[39mf\u001b[39m\u001b[39m\"\u001b[39m\u001b[39m[\u001b[39m\u001b[39m{\u001b[39;00mCHARS_TO_KEEP\u001b[39m}\u001b[39;00m\u001b[39m]+\u001b[39m\u001b[39m\"\u001b[39m, job_description):\n\u001b[0;32m      <a href='vscode-notebook-cell:/c%3A/Users/harri/Documents/Programming/linkedin_data_analysis/PLotLee_Mini/linkedin-job-data-analysis_subplots_test.ipynb#Y146sZmlsZQ%3D%3D?line=8'>9</a>\u001b[0m     \u001b[39mtry\u001b[39;00m:\n\u001b[0;32m     <a href='vscode-notebook-cell:/c%3A/Users/harri/Documents/Programming/linkedin_data_analysis/PLotLee_Mini/linkedin-job-data-analysis_subplots_test.ipynb#Y146sZmlsZQ%3D%3D?line=9'>10</a>\u001b[0m         words \u001b[39m=\u001b[39m segment(word) \u001b[39m## ValueError can occur due to unavailable segmentation\u001b[39;00m\n",
      "\u001b[1;31mNameError\u001b[0m: name 'CHARS_TO_KEEP' is not defined"
     ]
    }
   ],
   "source": [
    "def find_all_words_based_on_normal_delim(row, test=False):\n",
    "    '''\n",
    "        Assumption: Segment every word\n",
    "    '''\n",
    "    job_description = row[\"description\"] if test is False else row\n",
    "    # Segment every word. Can be inefficient! How do we avoid this\n",
    "    all_words = []\n",
    "    for word in re.findall(f\"[{CHARS_TO_KEEP}]+\", job_description):\n",
    "        try:\n",
    "            words = segment(word) ## ValueError can occur due to unavailable segmentation\n",
    "            all_words.extend(words)\n",
    "        except ValueError:\n",
    "            all_words.append(word)\n",
    "    final_words_array = [stemmer.stem(word) for word in all_words if word.lower() not in STOPWORDS]\n",
    "    np_final_word_array = np.expand_dims(np.array(final_words_array), axis=1)\n",
    "    np_job_description_index = np.expand_dims([row.name if test is False else 0] \n",
    "                                              * len(final_words_array), axis=1)\n",
    "    return np.concatenate((np_job_description_index, np_final_word_array), axis=1).tolist()\n",
    "\n",
    "\n",
    "all_words = df.swifter.apply(find_all_words_based_on_normal_delim, axis=1).explode()"
   ]
  },
  {
   "cell_type": "markdown",
   "metadata": {},
   "source": [
    "## Spacy Delim"
   ]
  },
  {
   "cell_type": "code",
   "execution_count": null,
   "metadata": {},
   "outputs": [],
   "source": [
    "# !pip freeze | grep spacy"
   ]
  },
  {
   "cell_type": "code",
   "execution_count": null,
   "metadata": {},
   "outputs": [],
   "source": [
    "# !python -m spacy download en_core_web_sm\n"
   ]
  },
  {
   "cell_type": "code",
   "execution_count": null,
   "metadata": {},
   "outputs": [],
   "source": [
    "import spacy\n",
    "nlp = spacy.load(\"en_core_web_sm\")"
   ]
  },
  {
   "cell_type": "code",
   "execution_count": null,
   "metadata": {},
   "outputs": [],
   "source": [
    "# [token.lemma_ for token in doc]"
   ]
  },
  {
   "cell_type": "code",
   "execution_count": null,
   "metadata": {},
   "outputs": [
    {
     "ename": "NameError",
     "evalue": "name 'nlp' is not defined",
     "output_type": "error",
     "traceback": [
      "\u001b[1;31m---------------------------------------------------------------------------\u001b[0m",
      "\u001b[1;31mNameError\u001b[0m                                 Traceback (most recent call last)",
      "\u001b[1;32mc:\\Users\\harri\\Documents\\Programming\\linkedin_data_analysis\\PLotLee_Mini\\linkedin-job-data-analysis_subplots_test.ipynb Cell 91\u001b[0m line \u001b[0;36m2\n\u001b[0;32m     <a href='vscode-notebook-cell:/c%3A/Users/harri/Documents/Programming/linkedin_data_analysis/PLotLee_Mini/linkedin-job-data-analysis_subplots_test.ipynb#Y155sZmlsZQ%3D%3D?line=20'>21</a>\u001b[0m     np_job_description_index \u001b[39m=\u001b[39m np\u001b[39m.\u001b[39mexpand_dims([row\u001b[39m.\u001b[39mname \u001b[39mif\u001b[39;00m test \u001b[39mis\u001b[39;00m \u001b[39mFalse\u001b[39;00m \u001b[39melse\u001b[39;00m \u001b[39m0\u001b[39m] \n\u001b[0;32m     <a href='vscode-notebook-cell:/c%3A/Users/harri/Documents/Programming/linkedin_data_analysis/PLotLee_Mini/linkedin-job-data-analysis_subplots_test.ipynb#Y155sZmlsZQ%3D%3D?line=21'>22</a>\u001b[0m                                               \u001b[39m*\u001b[39m \u001b[39mlen\u001b[39m(all_words), axis\u001b[39m=\u001b[39m\u001b[39m1\u001b[39m)\n\u001b[0;32m     <a href='vscode-notebook-cell:/c%3A/Users/harri/Documents/Programming/linkedin_data_analysis/PLotLee_Mini/linkedin-job-data-analysis_subplots_test.ipynb#Y155sZmlsZQ%3D%3D?line=22'>23</a>\u001b[0m     \u001b[39mreturn\u001b[39;00m np\u001b[39m.\u001b[39mconcatenate((np_job_description_index, np_final_word_array), axis\u001b[39m=\u001b[39m\u001b[39m1\u001b[39m)\u001b[39m.\u001b[39mtolist()\n\u001b[1;32m---> <a href='vscode-notebook-cell:/c%3A/Users/harri/Documents/Programming/linkedin_data_analysis/PLotLee_Mini/linkedin-job-data-analysis_subplots_test.ipynb#Y155sZmlsZQ%3D%3D?line=25'>26</a>\u001b[0m all_words \u001b[39m=\u001b[39m df\u001b[39m.\u001b[39;49mswifter\u001b[39m.\u001b[39;49mapply(find_all_words_based_on_spacy_delim, axis\u001b[39m=\u001b[39;49m\u001b[39m1\u001b[39;49m)\u001b[39m.\u001b[39mexplode()\n",
      "File \u001b[1;32mc:\\Users\\harri\\miniconda3\\envs\\py310_notebook_env\\lib\\site-packages\\swifter\\swifter.py:419\u001b[0m, in \u001b[0;36mDataFrameAccessor.apply\u001b[1;34m(self, func, axis, raw, result_type, args, **kwds)\u001b[0m\n\u001b[0;32m    417\u001b[0m \u001b[39mtry\u001b[39;00m:  \u001b[39m# try to vectorize\u001b[39;00m\n\u001b[0;32m    418\u001b[0m     \u001b[39mwith\u001b[39;00m suppress_stdout_stderr_logging():\n\u001b[1;32m--> 419\u001b[0m         tmp_df \u001b[39m=\u001b[39m func(sample, \u001b[39m*\u001b[39margs, \u001b[39m*\u001b[39m\u001b[39m*\u001b[39mkwds)\n\u001b[0;32m    420\u001b[0m         sample_df \u001b[39m=\u001b[39m sample\u001b[39m.\u001b[39mapply(func, axis\u001b[39m=\u001b[39maxis, raw\u001b[39m=\u001b[39mraw, result_type\u001b[39m=\u001b[39mresult_type, args\u001b[39m=\u001b[39margs, \u001b[39m*\u001b[39m\u001b[39m*\u001b[39mkwds)\n\u001b[0;32m    421\u001b[0m         \u001b[39mself\u001b[39m\u001b[39m.\u001b[39m_validate_apply(\n\u001b[0;32m    422\u001b[0m             np\u001b[39m.\u001b[39marray_equal(sample_df, tmp_df) \u001b[39m&\u001b[39m (\u001b[39mhasattr\u001b[39m(tmp_df, \u001b[39m\"\u001b[39m\u001b[39mshape\u001b[39m\u001b[39m\"\u001b[39m)) \u001b[39m&\u001b[39m (sample_df\u001b[39m.\u001b[39mshape \u001b[39m==\u001b[39m tmp_df\u001b[39m.\u001b[39mshape),\n\u001b[0;32m    423\u001b[0m             error_message\u001b[39m=\u001b[39m(\u001b[39m\"\u001b[39m\u001b[39mVectorized function sample does not match pandas apply sample.\u001b[39m\u001b[39m\"\u001b[39m),\n\u001b[0;32m    424\u001b[0m         )\n",
      "\u001b[1;32mc:\\Users\\harri\\Documents\\Programming\\linkedin_data_analysis\\PLotLee_Mini\\linkedin-job-data-analysis_subplots_test.ipynb Cell 91\u001b[0m line \u001b[0;36m6\n\u001b[0;32m      <a href='vscode-notebook-cell:/c%3A/Users/harri/Documents/Programming/linkedin_data_analysis/PLotLee_Mini/linkedin-job-data-analysis_subplots_test.ipynb#Y155sZmlsZQ%3D%3D?line=1'>2</a>\u001b[0m \u001b[39m    \u001b[39m\u001b[39m'''\u001b[39;00m\n\u001b[0;32m      <a href='vscode-notebook-cell:/c%3A/Users/harri/Documents/Programming/linkedin_data_analysis/PLotLee_Mini/linkedin-job-data-analysis_subplots_test.ipynb#Y155sZmlsZQ%3D%3D?line=2'>3</a>\u001b[0m \u001b[39m        Assumption: Segment every word\u001b[39;00m\n\u001b[0;32m      <a href='vscode-notebook-cell:/c%3A/Users/harri/Documents/Programming/linkedin_data_analysis/PLotLee_Mini/linkedin-job-data-analysis_subplots_test.ipynb#Y155sZmlsZQ%3D%3D?line=3'>4</a>\u001b[0m \u001b[39m    '''\u001b[39;00m\n\u001b[0;32m      <a href='vscode-notebook-cell:/c%3A/Users/harri/Documents/Programming/linkedin_data_analysis/PLotLee_Mini/linkedin-job-data-analysis_subplots_test.ipynb#Y155sZmlsZQ%3D%3D?line=4'>5</a>\u001b[0m     job_description \u001b[39m=\u001b[39m row[\u001b[39m\"\u001b[39m\u001b[39mdescription\u001b[39m\u001b[39m\"\u001b[39m] \u001b[39mif\u001b[39;00m test \u001b[39mis\u001b[39;00m \u001b[39mFalse\u001b[39;00m \u001b[39melse\u001b[39;00m row\n\u001b[1;32m----> <a href='vscode-notebook-cell:/c%3A/Users/harri/Documents/Programming/linkedin_data_analysis/PLotLee_Mini/linkedin-job-data-analysis_subplots_test.ipynb#Y155sZmlsZQ%3D%3D?line=5'>6</a>\u001b[0m     nlp_tokens \u001b[39m=\u001b[39m nlp(job_description)\n\u001b[0;32m      <a href='vscode-notebook-cell:/c%3A/Users/harri/Documents/Programming/linkedin_data_analysis/PLotLee_Mini/linkedin-job-data-analysis_subplots_test.ipynb#Y155sZmlsZQ%3D%3D?line=6'>7</a>\u001b[0m     all_words \u001b[39m=\u001b[39m [token\u001b[39m.\u001b[39mlemma_ \u001b[39mfor\u001b[39;00m token \u001b[39min\u001b[39;00m nlp_tokens \u001b[39mif\u001b[39;00m token\u001b[39m.\u001b[39mlemma_\u001b[39m.\u001b[39mlower() \u001b[39mnot\u001b[39;00m \u001b[39min\u001b[39;00m STOPWORDS] \n\u001b[0;32m      <a href='vscode-notebook-cell:/c%3A/Users/harri/Documents/Programming/linkedin_data_analysis/PLotLee_Mini/linkedin-job-data-analysis_subplots_test.ipynb#Y155sZmlsZQ%3D%3D?line=7'>8</a>\u001b[0m \u001b[39m#     final_words_array = []\u001b[39;00m\n\u001b[0;32m      <a href='vscode-notebook-cell:/c%3A/Users/harri/Documents/Programming/linkedin_data_analysis/PLotLee_Mini/linkedin-job-data-analysis_subplots_test.ipynb#Y155sZmlsZQ%3D%3D?line=8'>9</a>\u001b[0m \u001b[39m# ##    Ignore segmentation for now because we may not need it\u001b[39;00m\n\u001b[0;32m     <a href='vscode-notebook-cell:/c%3A/Users/harri/Documents/Programming/linkedin_data_analysis/PLotLee_Mini/linkedin-job-data-analysis_subplots_test.ipynb#Y155sZmlsZQ%3D%3D?line=9'>10</a>\u001b[0m \u001b[39m#     for word in all_words:\u001b[39;00m\n\u001b[1;32m   (...)\u001b[0m\n\u001b[0;32m     <a href='vscode-notebook-cell:/c%3A/Users/harri/Documents/Programming/linkedin_data_analysis/PLotLee_Mini/linkedin-job-data-analysis_subplots_test.ipynb#Y155sZmlsZQ%3D%3D?line=16'>17</a>\u001b[0m \u001b[39m#         else:\u001b[39;00m\n\u001b[0;32m     <a href='vscode-notebook-cell:/c%3A/Users/harri/Documents/Programming/linkedin_data_analysis/PLotLee_Mini/linkedin-job-data-analysis_subplots_test.ipynb#Y155sZmlsZQ%3D%3D?line=17'>18</a>\u001b[0m \u001b[39m#             final_words_array.append(word)\u001b[39;00m\n",
      "\u001b[1;31mNameError\u001b[0m: name 'nlp' is not defined"
     ]
    }
   ],
   "source": [
    "def find_all_words_based_on_spacy_delim(row, test=False):\n",
    "    '''\n",
    "        Assumption: Segment every word\n",
    "    '''\n",
    "    job_description = row[\"description\"] if test is False else row\n",
    "    nlp_tokens = nlp(job_description)\n",
    "    all_words = [token.lemma_ for token in nlp_tokens if token.lemma_.lower() not in STOPWORDS] \n",
    "#     final_words_array = []\n",
    "# ##    Ignore segmentation for now because we may not need it\n",
    "#     for word in all_words:\n",
    "#         if word not in nlp_tokens.ents:\n",
    "#             try:\n",
    "#                 words = segment(word) ## ValueError can occur due to unavailable segmentation\n",
    "#                 final_words_array.extend(words)\n",
    "#             except ValueError:\n",
    "#                 final_words_array.append(word)\n",
    "#         else:\n",
    "#             final_words_array.append(word)\n",
    "                \n",
    "    np_final_word_array = np.expand_dims(np.array(all_words), axis=1)\n",
    "    np_job_description_index = np.expand_dims([row.name if test is False else 0] \n",
    "                                              * len(all_words), axis=1)\n",
    "    return np.concatenate((np_job_description_index, np_final_word_array), axis=1).tolist()\n",
    "\n",
    "\n",
    "all_words = df.swifter.apply(find_all_words_based_on_spacy_delim, axis=1).explode()"
   ]
  },
  {
   "cell_type": "code",
   "execution_count": null,
   "metadata": {},
   "outputs": [],
   "source": [
    "all_words = all_words.str[1]"
   ]
  },
  {
   "cell_type": "code",
   "execution_count": null,
   "metadata": {},
   "outputs": [],
   "source": []
  },
  {
   "cell_type": "code",
   "execution_count": null,
   "metadata": {},
   "outputs": [
    {
     "ename": "NameError",
     "evalue": "name 'all_words' is not defined",
     "output_type": "error",
     "traceback": [
      "\u001b[1;31m---------------------------------------------------------------------------\u001b[0m",
      "\u001b[1;31mNameError\u001b[0m                                 Traceback (most recent call last)",
      "\u001b[1;32mc:\\Users\\harri\\Documents\\Programming\\linkedin_data_analysis\\PLotLee_Mini\\linkedin-job-data-analysis_subplots_test.ipynb Cell 94\u001b[0m line \u001b[0;36m1\n\u001b[1;32m----> <a href='vscode-notebook-cell:/c%3A/Users/harri/Documents/Programming/linkedin_data_analysis/PLotLee_Mini/linkedin-job-data-analysis_subplots_test.ipynb#Y161sZmlsZQ%3D%3D?line=0'>1</a>\u001b[0m words_based_on_delim \u001b[39m=\u001b[39m pd\u001b[39m.\u001b[39mDataFrame({\u001b[39m\"\u001b[39m\u001b[39mLabel_ID\u001b[39m\u001b[39m\"\u001b[39m: all_words\u001b[39m.\u001b[39mstr[\u001b[39m0\u001b[39m], \n\u001b[0;32m      <a href='vscode-notebook-cell:/c%3A/Users/harri/Documents/Programming/linkedin_data_analysis/PLotLee_Mini/linkedin-job-data-analysis_subplots_test.ipynb#Y161sZmlsZQ%3D%3D?line=1'>2</a>\u001b[0m                                     \u001b[39m\"\u001b[39m\u001b[39mWord\u001b[39m\u001b[39m\"\u001b[39m : all_words\u001b[39m.\u001b[39mstr[\u001b[39m1\u001b[39m]})\n",
      "\u001b[1;31mNameError\u001b[0m: name 'all_words' is not defined"
     ]
    }
   ],
   "source": [
    "words_based_on_delim = pd.DataFrame({\"Label_ID\": all_words.str[0], \n",
    "                                    \"Word\" : all_words.str[1]})"
   ]
  },
  {
   "cell_type": "code",
   "execution_count": null,
   "metadata": {},
   "outputs": [],
   "source": [
    "words_based_on_delim.head(10)"
   ]
  },
  {
   "cell_type": "markdown",
   "metadata": {},
   "source": [
    "## Archive"
   ]
  },
  {
   "cell_type": "markdown",
   "metadata": {},
   "source": [
    "### Performance Testing between pd.Series.apply and pd.DataFrame.apply"
   ]
  },
  {
   "cell_type": "code",
   "execution_count": null,
   "metadata": {},
   "outputs": [],
   "source": [
    "%%timeit\n",
    "def get_keywords(row):\n",
    "    job_desc = row[\"description\"].lower()\n",
    "    has_qualification = job_desc.find(\"qualification\")\n",
    "    has_requirement = job_desc.find(\"requirement\")\n",
    "    has_basic_requirement = job_desc.find(\"basic requirement\")\n",
    "    has_responsibility = job_desc.find(\"responsibility\")\n",
    "    return [has_qualification, has_requirement, has_basic_requirement, has_responsibility]\n",
    "\n",
    "new_data = df.apply(get_keywords, result_type=\"expand\", axis=1)"
   ]
  },
  {
   "cell_type": "code",
   "execution_count": null,
   "metadata": {},
   "outputs": [],
   "source": [
    "new_data = df.apply(get_keywords, result_type=\"expand\", axis=1)"
   ]
  },
  {
   "cell_type": "code",
   "execution_count": null,
   "metadata": {},
   "outputs": [],
   "source": [
    "new_data.head(5)"
   ]
  },
  {
   "cell_type": "code",
   "execution_count": null,
   "metadata": {},
   "outputs": [],
   "source": [
    "def get_keywords_series(job_desc):\n",
    "    job_desc = job_desc.lower()\n",
    "    has_qualification = job_desc.find(\"qualification\")\n",
    "    has_requirement = job_desc.find(\"requirement\")\n",
    "    has_basic_requirement = job_desc.find(\"basic requirement\")\n",
    "    has_responsibility = job_desc.find(\"responsibilit\")\n",
    "    return [has_qualification, has_requirement, has_basic_requirement, has_responsibility]\n",
    "\n"
   ]
  },
  {
   "cell_type": "code",
   "execution_count": null,
   "metadata": {},
   "outputs": [],
   "source": [
    "%%timeit\n",
    "series = df[\"description\"].apply(get_keywords_series)\n",
    "new_data_series = pd.DataFrame(series.tolist())"
   ]
  },
  {
   "cell_type": "code",
   "execution_count": null,
   "metadata": {},
   "outputs": [],
   "source": [
    "series = df[\"description\"].apply(get_keywords_series)\n",
    "new_data_series = pd.DataFrame(series.tolist(), columns=[\"has_qualification\", \"has_requirement\",\n",
    "                                                        \"has_basic_requirement\", \"has_responsibility\"])"
   ]
  },
  {
   "cell_type": "code",
   "execution_count": null,
   "metadata": {},
   "outputs": [],
   "source": [
    "new_data_series.head(5)"
   ]
  },
  {
   "cell_type": "code",
   "execution_count": null,
   "metadata": {},
   "outputs": [],
   "source": [
    "from nltk.corpus import stopwords\n",
    "from nltk.tokenize import word_tokenize\n",
    " \n",
    "word_tokens = word_tokenize(example_sent)\n",
    "# converts the words in word_tokens to lower case and then checks whether\n",
    "# they are present in stop_words or not\n",
    "filtered_sentence = [w for w in word_tokens if not w.lower() in stop_words]\n",
    "#with no lower case conversion\n",
    "filtered_sentence = []\n",
    " \n",
    "for w in word_tokens:\n",
    "    if w not in stop_words:\n",
    "        filtered_sentence.append(w)\n",
    " \n",
    "print(word_tokens)\n",
    "print(filtered_sentence)"
   ]
  },
  {
   "cell_type": "markdown",
   "metadata": {},
   "source": [
    "### Performance Test End\n"
   ]
  },
  {
   "cell_type": "code",
   "execution_count": null,
   "metadata": {},
   "outputs": [],
   "source": []
  }
 ],
 "metadata": {
  "kernelspec": {
   "display_name": "Python 3 (ipykernel)",
   "language": "python",
   "name": "python3"
  },
  "language_info": {
   "codemirror_mode": {
    "name": "ipython",
    "version": 3
   },
   "file_extension": ".py",
   "mimetype": "text/x-python",
   "name": "python",
   "nbconvert_exporter": "python",
   "pygments_lexer": "ipython3",
   "version": "3.10.10"
  },
  "toc": {
   "base_numbering": 1,
   "nav_menu": {},
   "number_sections": true,
   "sideBar": true,
   "skip_h1_title": false,
   "title_cell": "Table of Contents",
   "title_sidebar": "Contents",
   "toc_cell": false,
   "toc_position": {},
   "toc_section_display": true,
   "toc_window_display": false
  }
 },
 "nbformat": 4,
 "nbformat_minor": 4
}
