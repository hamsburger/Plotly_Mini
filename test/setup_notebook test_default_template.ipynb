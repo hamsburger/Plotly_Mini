{
 "cells": [
  {
   "cell_type": "code",
   "execution_count": 8,
   "metadata": {},
   "outputs": [],
   "source": [
    "# %load_ext autoreload\n",
    "# %autoreload 2"
   ]
  },
  {
   "cell_type": "code",
   "execution_count": 9,
   "metadata": {},
   "outputs": [],
   "source": [
    "import plotly.express as px\n",
    "import plotly.graph_objects as go\n",
    "import plotly.io as pio\n",
    "import pandas as pd\n",
    "# from plotly_wordcloud import plotly_wordcloud\n",
    "# from geopy.geocoders import Nominatim\n",
    "# from jupyter_dash import JupyterDash\n",
    "\n",
    "\n",
    "# Setting renderer to SVG ensures Plotly output works in multiple places:\n",
    "# In VSCode and also nbconvert from jupyter notebook to HTML\n",
    "# See https://plotly.com/python/renderers/#multiple-renderers\n",
    "#\n",
    "# A default SVG renderer is used to ensure data visualizations are loaded quickly without\n",
    "# JS blocking. The default Plotly renderer produces visualizations in JSON, which is chunky\n",
    "# and can block JS for an incredulous period of time, creating a disatisfying UX experience for users    \n",
    "pio.renderers.default = \"notebook\"\n",
    "# png_renderer = pio.renderers[\"png\"]\n",
    "# png_renderer.width = 1000\n",
    "# png_renderer.height = 600"
   ]
  },
  {
   "cell_type": "markdown",
   "metadata": {},
   "source": [
    "## Default Templating"
   ]
  },
  {
   "cell_type": "code",
   "execution_count": 10,
   "metadata": {},
   "outputs": [],
   "source": [
    "# Default dropdown menu button styling \n",
    "default_bar_dropdown_styling = dict(\n",
    "    bgcolor=\"white\",\n",
    "    active=0,\n",
    "    yanchor='top',\n",
    "    xanchor='center',\n",
    "    direction='up',\n",
    "    y=-0.1,\n",
    "    x=0.5,\n",
    ")\n",
    "\n",
    "# default_table_dropdown_styling = dict(\n",
    "#     bgcolor=\"white\",\n",
    "#     active=0,\n",
    "#     yanchor='top',\n",
    "#     xanchor='center',\n",
    "#     direction='down',\n",
    "#     y=1.3,\n",
    "#     x=0,\n",
    "# )\n",
    "\n",
    "# MACROS used for automatic calculation of table height\n",
    "TABLE_CELL_HEIGHT_DEFAULT = 50\n",
    "TABLE_HEADER_HEIGHT_DEFAULT = 60\n",
    "TABLE_CELL_PADDING = 6\n",
    "BACKGROUND_COLOR_DEFAULT = \"\""
   ]
  },
  {
   "cell_type": "code",
   "execution_count": 4,
   "metadata": {},
   "outputs": [],
   "source": [
    "# Customize Plotly figure styles\n",
    "bnw = go.layout.Template(\n",
    "    layout=go.Layout(\n",
    "        xaxis=go.layout.XAxis(\n",
    "            showgrid=False,\n",
    "            zeroline=False\n",
    "        ),\n",
    "        # margin=go.layout.Margin(\n",
    "        #     l=2,\n",
    "        #     r=2\n",
    "        # ),\n",
    "        yaxis=go.layout.YAxis(\n",
    "            zeroline=False\n",
    "        ),\n",
    "        font=dict(size=16),\n",
    "        title=go.layout.Title(\n",
    "            font=go.layout.title.Font(\n",
    "            #     # family=\"Old Standard TT\",\n",
    "                size=19\n",
    "            ),\n",
    "            # ),\n",
    "        ),\n",
    "        legend=go.layout.Legend(\n",
    "            font=go.layout.legend.Font(\n",
    "                size=17\n",
    "            )\n",
    "        ),\n",
    "        plot_bgcolor=\"#BAE0F3\",\n",
    "        paper_bgcolor=\"rgb(171,200,227)\",\n",
    "        dragmode=\"pan\",\n",
    "        showlegend=False,\n",
    "        colorway=px.colors.qualitative.D3\n",
    "    ),\n",
    "\n",
    "    data=dict(\n",
    "        scatter=[go.Scatter(marker=dict(symbol=\"diamond\", size=20),\n",
    "                            line=dict(color=\"crimson\"),\\\n",
    "                            textposition=\"top center\",\n",
    "                            opacity=1,\n",
    "                            hovertemplate=\"%{x}: Hovertemplate\",\n",
    "                            texttemplate=\"%{text}: Texttemplate\",\n",
    "                            mode=\"markers+text\",\n",
    "                            )],  \n",
    "    )\n",
    "\n",
    "    # I cannot get hovertemplate custom configuration to work\n",
    "    # data=dict(\n",
    "    #     bar=[go.Bar(hovertemplate=\"<b>%{label}</b><br><i>Count</i>: %{value}\")],\n",
    "    #     scatter=[go.Scatter(hovertemplate=\"<b>%{label}</b><br><i>Count</i>: %{value}\")],\n",
    "    #     pie=[go.Pie(hovertemplate=\"<b>%{label}</b><br><i>Count</i>: %{value}\")],\n",
    "    #     histogram=[go.Histogram(hovertemplate=\"<b>%{label}</b><br><i>Count</i>: %{value}\")]\n",
    "    # )\n",
    ")\n",
    "\n",
    "# bnw.data.scatter = [go.Scatter(mode=\"lines+markers\", )]?\n",
    "# Add template\n",
    "pio.templates[\"bnw\"] = bnw\n",
    "\n",
    "# If there are multiple templates delimited by +, last template takes precedence \n",
    "px.defaults.template = \"bnw\""
   ]
  },
  {
   "cell_type": "code",
   "execution_count": 5,
   "metadata": {},
   "outputs": [],
   "source": [
    "df = pd.DataFrame({\"a\" : [1,2], \"b\" : [3,4]})"
   ]
  },
  {
   "cell_type": "code",
   "execution_count": 25,
   "metadata": {},
   "outputs": [
    {
     "data": {
      "text/html": [
       "<div>                            <div id=\"77950441-f0ce-4628-b76f-aee51bcf93f5\" class=\"plotly-graph-div\" style=\"height:525px; width:100%;\"></div>            <script type=\"text/javascript\">                require([\"plotly\"], function(Plotly) {                    window.PLOTLYENV=window.PLOTLYENV || {};                                    if (document.getElementById(\"77950441-f0ce-4628-b76f-aee51bcf93f5\")) {                    Plotly.newPlot(                        \"77950441-f0ce-4628-b76f-aee51bcf93f5\",                        [{\"hovertemplate\":\"a=%{x}<br>b=%{y}<br>text=%{text}<extra></extra>\",\"legendgroup\":\"\",\"marker\":{\"color\":\"#1F77B4\",\"symbol\":\"diamond\"},\"mode\":\"markers+lines+text\",\"name\":\"\",\"orientation\":\"v\",\"showlegend\":false,\"text\":[\"Hey\",\"Ho\"],\"x\":[1,2],\"xaxis\":\"x\",\"y\":[3,4],\"yaxis\":\"y\",\"type\":\"scatter\",\"texttemplate\":\"Yo %{text}\"}],                        {\"template\":{\"data\":{\"scatter\":[{\"hovertemplate\":\"%{x}: Hovertemplate\",\"line\":{\"color\":\"crimson\"},\"marker\":{\"size\":20,\"symbol\":\"diamond\"},\"mode\":\"markers+text\",\"opacity\":1,\"textposition\":\"top center\",\"texttemplate\":\"%{text}: Texttemplate\",\"type\":\"scatter\"}]},\"layout\":{\"colorway\":[\"#1F77B4\",\"#FF7F0E\",\"#2CA02C\",\"#D62728\",\"#9467BD\",\"#8C564B\",\"#E377C2\",\"#7F7F7F\",\"#BCBD22\",\"#17BECF\"],\"dragmode\":\"pan\",\"font\":{\"size\":16},\"legend\":{\"font\":{\"size\":17}},\"paper_bgcolor\":\"rgb(171,200,227)\",\"plot_bgcolor\":\"#BAE0F3\",\"showlegend\":false,\"title\":{\"font\":{\"size\":19}},\"xaxis\":{\"showgrid\":false,\"zeroline\":false},\"yaxis\":{\"zeroline\":false}}},\"xaxis\":{\"anchor\":\"y\",\"domain\":[0.0,1.0],\"title\":{\"text\":\"a\"}},\"yaxis\":{\"anchor\":\"x\",\"domain\":[0.0,1.0],\"title\":{\"text\":\"b\"}},\"legend\":{\"tracegroupgap\":0},\"margin\":{\"t\":60}},                        {\"responsive\": true}                    ).then(function(){\n",
       "                            \n",
       "var gd = document.getElementById('77950441-f0ce-4628-b76f-aee51bcf93f5');\n",
       "var x = new MutationObserver(function (mutations, observer) {{\n",
       "        var display = window.getComputedStyle(gd).display;\n",
       "        if (!display || display === 'none') {{\n",
       "            console.log([gd, 'removed!']);\n",
       "            Plotly.purge(gd);\n",
       "            observer.disconnect();\n",
       "        }}\n",
       "}});\n",
       "\n",
       "// Listen for the removal of the full notebook cells\n",
       "var notebookContainer = gd.closest('#notebook-container');\n",
       "if (notebookContainer) {{\n",
       "    x.observe(notebookContainer, {childList: true});\n",
       "}}\n",
       "\n",
       "// Listen for the clearing of the current output cell\n",
       "var outputEl = gd.closest('.output');\n",
       "if (outputEl) {{\n",
       "    x.observe(outputEl, {childList: true});\n",
       "}}\n",
       "\n",
       "                        })                };                });            </script>        </div>"
      ]
     },
     "metadata": {},
     "output_type": "display_data"
    }
   ],
   "source": [
    "## Test out templates\n",
    "fig = px.scatter(df, x=\"a\", y=\"b\", text=[\"Hey\", \"Ho\"])\n",
    "fig.update_traces(mode=\"markers+lines+text\", texttemplate=\"Yo %{text}\")"
   ]
  },
  {
   "cell_type": "markdown",
   "metadata": {},
   "source": [
    "We can see that most properties, for example, markers, lines, textposition, texttemplate and opacity, can be changed by the data template\n",
    "\n",
    "However, non-visible properties like hovertemplate cannot be viewed for some reason. I wonder why..."
   ]
  },
  {
   "cell_type": "code",
   "execution_count": 32,
   "metadata": {},
   "outputs": [
    {
     "data": {
      "text/plain": [
       "(Scatter({\n",
       "     'hovertemplate': 'a=%{x}<br>b=%{y}<br>text=%{text}<extra></extra>',\n",
       "     'legendgroup': '',\n",
       "     'marker': {'color': '#1F77B4', 'symbol': 'diamond'},\n",
       "     'mode': 'markers+lines+text',\n",
       "     'name': '',\n",
       "     'orientation': 'v',\n",
       "     'showlegend': False,\n",
       "     'text': array(['Hey', 'Ho'], dtype=object),\n",
       "     'texttemplate': 'Yo %{text}',\n",
       "     'x': array([1, 2], dtype=int64),\n",
       "     'xaxis': 'x',\n",
       "     'y': array([3, 4], dtype=int64),\n",
       "     'yaxis': 'y'\n",
       " }),)"
      ]
     },
     "execution_count": 32,
     "metadata": {},
     "output_type": "execute_result"
    }
   ],
   "source": [
    "fig.data"
   ]
  },
  {
   "cell_type": "code",
   "execution_count": 29,
   "metadata": {},
   "outputs": [
    {
     "data": {
      "application/json": {
       "data": [
        {
         "hovertemplate": "a=%{x}<br>b=%{y}<br>text=%{text}<extra></extra>",
         "legendgroup": "",
         "marker": {
          "color": "#1F77B4",
          "symbol": "diamond"
         },
         "mode": "markers+lines+text",
         "name": "",
         "orientation": "v",
         "showlegend": false,
         "text": [
          "Hey",
          "Ho"
         ],
         "texttemplate": "Yo %{text}",
         "type": "scatter",
         "x": [
          1,
          2
         ],
         "xaxis": "x",
         "y": [
          3,
          4
         ],
         "yaxis": "y"
        }
       ],
       "layout": {
        "legend": {
         "tracegroupgap": 0
        },
        "margin": {
         "t": 60
        },
        "template": {
         "data": {
          "scatter": [
           {
            "hovertemplate": "%{x}: Hovertemplate",
            "line": {
             "color": "crimson"
            },
            "marker": {
             "size": 20,
             "symbol": "diamond"
            },
            "mode": "markers+text",
            "opacity": 1,
            "textposition": "top center",
            "texttemplate": "%{text}: Texttemplate",
            "type": "scatter"
           }
          ]
         },
         "layout": {
          "colorway": [
           "#1F77B4",
           "#FF7F0E",
           "#2CA02C",
           "#D62728",
           "#9467BD",
           "#8C564B",
           "#E377C2",
           "#7F7F7F",
           "#BCBD22",
           "#17BECF"
          ],
          "dragmode": "pan",
          "font": {
           "size": 16
          },
          "legend": {
           "font": {
            "size": 17
           }
          },
          "paper_bgcolor": "rgb(171,200,227)",
          "plot_bgcolor": "#BAE0F3",
          "showlegend": false,
          "title": {
           "font": {
            "size": 19
           }
          },
          "xaxis": {
           "showgrid": false,
           "zeroline": false
          },
          "yaxis": {
           "zeroline": false
          }
         }
        },
        "xaxis": {
         "anchor": "y",
         "domain": [
          0,
          1
         ],
         "title": {
          "text": "a"
         }
        },
        "yaxis": {
         "anchor": "x",
         "domain": [
          0,
          1
         ],
         "title": {
          "text": "b"
         }
        }
       }
      }
     },
     "metadata": {},
     "output_type": "display_data"
    }
   ],
   "source": [
    "fig.show(\"json\")"
   ]
  },
  {
   "cell_type": "markdown",
   "metadata": {},
   "source": [
    "### Also..."
   ]
  },
  {
   "cell_type": "code",
   "execution_count": 14,
   "metadata": {},
   "outputs": [
    {
     "data": {
      "text/plain": [
       "layout.Template({\n",
       "    'data': {'scatter': [{'hovertemplate': '%{x}: Hovertemplate',\n",
       "                          'line': {'color': 'crimson'},\n",
       "                          'marker': {'size': 20, 'symbol': 'diamond'},\n",
       "                          'mode': 'markers+text',\n",
       "                          'opacity': 1,\n",
       "                          'textposition': 'top center',\n",
       "                          'texttemplate': '%{text}: Texttemplate',\n",
       "                          'type': 'scatter'}]},\n",
       "    'layout': {'colorway': [#1F77B4, #FF7F0E, #2CA02C, #D62728, #9467BD, #8C564B,\n",
       "                            #E377C2, #7F7F7F, #BCBD22, #17BECF],\n",
       "               'dragmode': 'pan',\n",
       "               'font': {'size': 16},\n",
       "               'legend': {'font': {'size': 17}},\n",
       "               'paper_bgcolor': 'rgb(171,200,227)',\n",
       "               'plot_bgcolor': '#BAE0F3',\n",
       "               'showlegend': False,\n",
       "               'title': {'font': {'size': 19}},\n",
       "               'xaxis': {'showgrid': False, 'zeroline': False},\n",
       "               'yaxis': {'zeroline': False}}\n",
       "})"
      ]
     },
     "execution_count": 14,
     "metadata": {},
     "output_type": "execute_result"
    }
   ],
   "source": [
    "fig.layout.template"
   ]
  },
  {
   "cell_type": "code",
   "execution_count": 12,
   "metadata": {},
   "outputs": [
    {
     "data": {
      "text/plain": [
       "(Scatter({\n",
       "     'hovertemplate': 'a=%{x}<br>b=%{y}<br>text=%{text}<extra></extra>',\n",
       "     'legendgroup': '',\n",
       "     'marker': {'color': '#1F77B4', 'symbol': 'diamond'},\n",
       "     'mode': 'markers+lines+text',\n",
       "     'name': '',\n",
       "     'orientation': 'v',\n",
       "     'showlegend': False,\n",
       "     'text': array(['Hey', 'Ho'], dtype=object),\n",
       "     'texttemplate': 'Yo %{text}',\n",
       "     'x': array([1, 2], dtype=int64),\n",
       "     'xaxis': 'x',\n",
       "     'y': array([3, 4], dtype=int64),\n",
       "     'yaxis': 'y'\n",
       " }),)"
      ]
     },
     "execution_count": 12,
     "metadata": {},
     "output_type": "execute_result"
    }
   ],
   "source": [
    "fig.data"
   ]
  },
  {
   "cell_type": "markdown",
   "metadata": {},
   "source": [
    "Notice that <b>'Yo %{text}'</b> is shown instead of <b>'%{text}</b>: Template', meaning that update_trace updates fig.data,\n",
    "whose properties take precedence over fig.layout.Template"
   ]
  },
  {
   "cell_type": "markdown",
   "metadata": {},
   "source": [
    "## See if plotly express (px.line) overrides fig.layout.template.data.scatter\n"
   ]
  },
  {
   "cell_type": "code",
   "execution_count": 7,
   "metadata": {},
   "outputs": [
    {
     "data": {
      "text/html": [
       "<div>                            <div id=\"e712e7a9-dd24-4794-9b78-47e770769b92\" class=\"plotly-graph-div\" style=\"height:525px; width:100%;\"></div>            <script type=\"text/javascript\">                require([\"plotly\"], function(Plotly) {                    window.PLOTLYENV=window.PLOTLYENV || {};                                    if (document.getElementById(\"e712e7a9-dd24-4794-9b78-47e770769b92\")) {                    Plotly.newPlot(                        \"e712e7a9-dd24-4794-9b78-47e770769b92\",                        [{\"text\":[\"HEY\",\"HO\"],\"x\":[1,2],\"y\":[3,4],\"type\":\"scatter\"}],                        {\"template\":{\"data\":{\"scatter\":[{\"hovertemplate\":\"%{x}: Hovertemplate\",\"line\":{\"color\":\"crimson\"},\"marker\":{\"size\":20,\"symbol\":\"diamond\"},\"mode\":\"markers+text\",\"opacity\":1,\"textposition\":\"top center\",\"texttemplate\":\"%{text}: Texttemplate\",\"type\":\"scatter\"}]},\"layout\":{\"colorway\":[\"#1F77B4\",\"#FF7F0E\",\"#2CA02C\",\"#D62728\",\"#9467BD\",\"#8C564B\",\"#E377C2\",\"#7F7F7F\",\"#BCBD22\",\"#17BECF\"],\"dragmode\":\"pan\",\"font\":{\"size\":16},\"legend\":{\"font\":{\"size\":17}},\"paper_bgcolor\":\"rgb(171,200,227)\",\"plot_bgcolor\":\"#BAE0F3\",\"showlegend\":false,\"title\":{\"font\":{\"size\":19}},\"xaxis\":{\"showgrid\":false,\"zeroline\":false},\"yaxis\":{\"zeroline\":false}}}},                        {\"responsive\": true}                    ).then(function(){\n",
       "                            \n",
       "var gd = document.getElementById('e712e7a9-dd24-4794-9b78-47e770769b92');\n",
       "var x = new MutationObserver(function (mutations, observer) {{\n",
       "        var display = window.getComputedStyle(gd).display;\n",
       "        if (!display || display === 'none') {{\n",
       "            console.log([gd, 'removed!']);\n",
       "            Plotly.purge(gd);\n",
       "            observer.disconnect();\n",
       "        }}\n",
       "}});\n",
       "\n",
       "// Listen for the removal of the full notebook cells\n",
       "var notebookContainer = gd.closest('#notebook-container');\n",
       "if (notebookContainer) {{\n",
       "    x.observe(notebookContainer, {childList: true});\n",
       "}}\n",
       "\n",
       "// Listen for the clearing of the current output cell\n",
       "var outputEl = gd.closest('.output');\n",
       "if (outputEl) {{\n",
       "    x.observe(outputEl, {childList: true});\n",
       "}}\n",
       "\n",
       "                        })                };                });            </script>        </div>"
      ]
     },
     "metadata": {},
     "output_type": "display_data"
    }
   ],
   "source": [
    "fig = go.Figure()\n",
    "fig.add_trace(go.Scatter(\n",
    "    x=[1,2],\n",
    "    y=[3,4],\n",
    "    text=[\"HEY\", \"HO\"]\n",
    "))\n",
    "fig.update_layout(template=bnw)\n",
    "fig"
   ]
  },
  {
   "cell_type": "markdown",
   "metadata": {},
   "source": [
    "We can see now that the correct mode and hovertemplate is applied to the plotly.graph_objs.Figure when plotly express is not used to generate the figure, but rather by creating the instance directly from its source."
   ]
  }
 ],
 "metadata": {
  "kernelspec": {
   "display_name": "fourth_year_opinions",
   "language": "python",
   "name": "python3"
  },
  "language_info": {
   "codemirror_mode": {
    "name": "ipython",
    "version": 3
   },
   "file_extension": ".py",
   "mimetype": "text/x-python",
   "name": "python",
   "nbconvert_exporter": "python",
   "pygments_lexer": "ipython3",
   "version": "3.10.10"
  },
  "orig_nbformat": 4
 },
 "nbformat": 4,
 "nbformat_minor": 2
}
